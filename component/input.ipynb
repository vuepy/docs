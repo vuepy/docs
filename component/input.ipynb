{
 "cells": [
  {
   "cell_type": "markdown",
   "id": "a1e2fa29-7566-4426-be1e-a750658d83a5",
   "metadata": {},
   "source": [
    "# Input 输入框\n",
    "\n",
    "通过鼠标或键盘输入字符"
   ]
  },
  {
   "cell_type": "markdown",
   "id": "7cdc5e8c-2aa8-41d1-9461-3e451f6ef6ea",
   "metadata": {},
   "source": [
    "## 基础用法\n",
    "\n",
    "`continuous_update` 表示输入过程中是否持续发送更新事件。"
   ]
  },
  {
   "cell_type": "code",
   "execution_count": 1,
   "id": "f5928b17-e8c8-47b0-9774-a8bb1f7e6af3",
   "metadata": {},
   "outputs": [
    {
     "name": "stdout",
     "output_type": "stream",
     "text": [
      "{\"vue\": \"<template>\\n  <VBox>\\n    <Input label=\\\"input\\\"\\n           placeholder=\\\"Please input\\\"\\n           v-model=\\\"text.value\\\"\\n    ></Input>\\n\\n    <Input label=\\\"input\\\"\\n           placeholder=\\\"continuous update\\\"\\n           v-model=\\\"text.value\\\"\\n           continuous_update\\n    ></Input>\\n  </VBox>\\n</template>\\n\\n<script src=\\\"./basic_setup.py\\\"></script>\\n<script setup>\\nimport VBox from \\\"../../../src/ipywui/components/VBox\\\";\\nimport Input from \\\"../../../src/ipywui/components/Input\\\";\\n</script>\", \"setup\": 0}\n"
     ]
    },
    {
     "data": {
      "application/vnd.jupyter.widget-view+json": {
       "model_id": "2cfaf6db9ab1423786ae8258106fa5de",
       "version_major": 2,
       "version_minor": 0
      },
      "text/plain": [
       "Document(children=(Dom(children=(MessageWidget(message_options={'message': '', 'type': 'info', 'show_close': F…"
      ]
     },
     "execution_count": 1,
     "metadata": {},
     "output_type": "execute_result"
    }
   ],
   "source": [
    "import os\n",
    "import pathlib\n",
    "from vuepy.utils import magic\n",
    "\n",
    "cur_path = pathlib.Path()\n",
    "source_root = cur_path.absolute().parent.parent.parent\n",
    "os.chdir(source_root / 'examples' / 'ipywui' / 'input')\n",
    "\n",
    "%vuepy_demo basic.vue"
   ]
  },
  {
   "cell_type": "markdown",
   "id": "392aa25a-4073-4d2b-93f9-d89666b38369",
   "metadata": {},
   "source": [
    "## 禁用状态\n",
    "\n",
    "你可以使用 `disabled` 属性来定义是否被禁用。  \n",
    "使用 `disabled` 属性来控制是否为禁用状态。该属性接受一个 `bool` 类型的值。"
   ]
  },
  {
   "cell_type": "code",
   "execution_count": 2,
   "id": "4555cd32-d66d-411b-8b39-01153e8fb53d",
   "metadata": {},
   "outputs": [
    {
     "name": "stdout",
     "output_type": "stream",
     "text": [
      "{\"vue\": \"<template>\\n  <Input placeholder=\\\"Disabled\\\" disabled></Input>\\n  <Input placeholder=\\\"disabled=True\\\" :disabled=\\\"True\\\"></Input>\\n  <Input placeholder=\\\"disabled=False\\\" :disabled=\\\"False\\\"></Input>\\n</template>\\n\\n<script setup>\\nimport Input from \\\"../../../src/ipywui/components/Input\\\";\\n</script>\\n\", \"setup\": 0}\n"
     ]
    },
    {
     "data": {
      "application/vnd.jupyter.widget-view+json": {
       "model_id": "62bfb52752454e25893fcd4050814c49",
       "version_major": 2,
       "version_minor": 0
      },
      "text/plain": [
       "Document(children=(Dom(children=(MessageWidget(message_options={'message': '', 'type': 'info', 'show_close': F…"
      ]
     },
     "execution_count": 2,
     "metadata": {},
     "output_type": "execute_result"
    }
   ],
   "source": [
    "%vuepy_demo disabled.vue"
   ]
  },
  {
   "cell_type": "markdown",
   "id": "d17d0f9e-6354-4fa8-88be-b39a12bab469",
   "metadata": {},
   "source": [
    "## 密码框\n",
    "\n",
    "将 `type` 属性指定为 `password` 即可得到一个密码框。"
   ]
  },
  {
   "cell_type": "code",
   "execution_count": 3,
   "id": "0e59bd4f-bd86-4ff2-a6c5-774b72824f78",
   "metadata": {},
   "outputs": [
    {
     "name": "stdout",
     "output_type": "stream",
     "text": [
      "{\"vue\": \"<template>\\n  <Input label=\\\"Password\\\" type=\\\"password\\\" value=\\\"xxx\\\"></Input>\\n</template>\\n\\n<script setup>\\nimport Input from \\\"../../../src/ipywui/components/Input\\\";\\n</script>\", \"setup\": 0}\n"
     ]
    },
    {
     "data": {
      "application/vnd.jupyter.widget-view+json": {
       "model_id": "5c036a88328e450182b9f1962955416b",
       "version_major": 2,
       "version_minor": 0
      },
      "text/plain": [
       "Document(children=(Dom(children=(MessageWidget(message_options={'message': '', 'type': 'info', 'show_close': F…"
      ]
     },
     "execution_count": 3,
     "metadata": {},
     "output_type": "execute_result"
    }
   ],
   "source": [
    "%vuepy_demo password.vue"
   ]
  },
  {
   "cell_type": "markdown",
   "id": "8f4c34ef-60a4-40d7-863f-0478fc0a268a",
   "metadata": {},
   "source": [
    "## 文本域\n",
    "\n",
    "将 `type` 属性指定为 `textarea` 即可得到一个密码框。"
   ]
  },
  {
   "cell_type": "code",
   "execution_count": 4,
   "id": "b68d8314-7c59-45cc-b515-05be5526fb47",
   "metadata": {},
   "outputs": [
    {
     "name": "stdout",
     "output_type": "stream",
     "text": [
      "{\"vue\": \"<template>\\n  <Input label=\\\"Textarea\\\" type=\\\"textarea\\\" value=\\\"Please input\\\"></Input>\\n</template>\\n\\n<script setup>\\nimport Input from \\\"../../../src/ipywui/components/Input\\\";\\n</script>\", \"setup\": 0}\n"
     ]
    },
    {
     "data": {
      "application/vnd.jupyter.widget-view+json": {
       "model_id": "f42c69b93e7141ebb21091f6f48a13b6",
       "version_major": 2,
       "version_minor": 0
      },
      "text/plain": [
       "Document(children=(Dom(children=(MessageWidget(message_options={'message': '', 'type': 'info', 'show_close': F…"
      ]
     },
     "execution_count": 4,
     "metadata": {},
     "output_type": "execute_result"
    }
   ],
   "source": [
    "%vuepy_demo textarea.vue"
   ]
  },
  {
   "cell_type": "markdown",
   "id": "bae4043d-18d9-4817-8056-83fa397759eb",
   "metadata": {},
   "source": [
    "## 自定义样式\n",
    "\n",
    "您可以自定义输入框的背景颜色、文字颜色、文字大小。  \n",
    "使用 `style` 属性额外配置样式: \n",
    "* `background-color` 设置背景颜色，可使用`#ffffff`、`blue`等和 `css` 兼容的形式。\n",
    "* `color` 设置文字颜色，可使用`#ffffff`、`blue`等和 `css` 兼容的形式。\n",
    "* `font-size` 设置文字大小。\n",
    "* `description-width`：label的宽度。"
   ]
  },
  {
   "cell_type": "code",
   "execution_count": 5,
   "id": "48c61f6d-2a14-4d27-8d41-aae38db7a3f2",
   "metadata": {},
   "outputs": [
    {
     "name": "stdout",
     "output_type": "stream",
     "text": [
      "{\"vue\": \"<template>\\n  <Input label=\\\"custom\\\"\\n         value=\\\"Paul\\\"\\n         :options=\\\"['Paul', 'John', 'George', 'Ringo']\\\"\\n         style=\\\"background: lightblue; color: darkorange; font-size: large\\\"\\n  ></INput>\\n\\n  <Input label=\\\"bg green\\\"\\n         type=\\\"textarea\\\"\\n         style=\\\"background: green;\\\"\\n  ></Input>\\n\\n  <Input label=\\\"text red\\\"\\n         value=\\\"Paul\\\"\\n         style=\\\"color: red;\\\"\\n  ></Input>\\n\\n  <Input label=\\\"text 20px\\\"\\n         value=\\\"Paul\\\"\\n         style=\\\"font-size: 20px;\\\"\\n  ></Input>\\n\\n  <Input label=\\\"label width 150px\\\"\\n         type=\\\"password\\\"\\n         value=\\\"Paul\\\"\\n         style=\\\"description-width: 150px\\\"\\n  ></Input>\\n</template>\\n\\n<script setup>\\nimport Input from \\\"../../../src/ipywui/components/Input\\\";\\n</script>\", \"setup\": 0}\n"
     ]
    },
    {
     "data": {
      "application/vnd.jupyter.widget-view+json": {
       "model_id": "c2da2ec7e25343298029ad07f3ab3dbe",
       "version_major": 2,
       "version_minor": 0
      },
      "text/plain": [
       "Document(children=(Dom(children=(MessageWidget(message_options={'message': '', 'type': 'info', 'show_close': F…"
      ]
     },
     "execution_count": 5,
     "metadata": {},
     "output_type": "execute_result"
    }
   ],
   "source": [
    "%vuepy_demo custom.vue"
   ]
  },
  {
   "cell_type": "markdown",
   "id": "8685d144-029f-4afa-8547-4f3d84529504",
   "metadata": {},
   "source": [
    "## API\n",
    "\n",
    "### 属性\n",
    "\n",
    "| 属性名    | 说明                 | 类型                                                           | 默认值 |\n",
    "| -------- | ------------------- | ---------------------------------------------------------------| ------- |\n",
    "| v-model/value | 绑定值             | ^[str]                                                      | —       |\n",
    "| label    | 标签文字             | ^[str]                                                         | —       |\n",
    "| type     | 类型                | ^[enum]`'text'\\| 'textarea'\\| 'password'`                      | —       |\n",
    "| continuous_update| 输入过程中是否持续发送更新事件 | ^[boolean]                                      | false   |\n",
    "| disabled | 按钮是否为禁用状态     | ^[boolean]                                                     | false   |\n",
    "| style    | 自定义css样式             | ^[str]                                                         | -       |\n",
    "\n",
    "::: tip\n",
    "\n",
    "**style 支持的其它css属性**\n",
    "\n",
    "Sizes相关\n",
    "* height\n",
    "* width\n",
    "* max_height\n",
    "* max_width\n",
    "* min_height\n",
    "* min_width\n",
    "\n",
    "Display相关\n",
    "* visibility\n",
    "* display\n",
    "* overflow\n",
    "\n",
    "Box model相关\n",
    "* border\n",
    "* margin\n",
    "* padding\n",
    "\n",
    "Positioning相关\n",
    "* top\n",
    "* left\n",
    "* bottom\n",
    "* right\n",
    "\n",
    ":::\n",
    "\n",
    "### 方法\n",
    "\n",
    "| 属性名 | 说明 | 类型 |\n",
    "| --- | --- | --- |"
   ]
  }
 ],
 "metadata": {
  "kernelspec": {
   "display_name": "Python 3 (ipykernel)",
   "language": "python",
   "name": "python3"
  },
  "language_info": {
   "codemirror_mode": {
    "name": "ipython",
    "version": 3
   },
   "file_extension": ".py",
   "mimetype": "text/x-python",
   "name": "python",
   "nbconvert_exporter": "python",
   "pygments_lexer": "ipython3",
   "version": "3.10.12"
  },
  "widgets": {
   "application/vnd.jupyter.widget-state+json": {
    "state": {
     "0052e49e69514e26b9b738e18115618e": {
      "model_module": "@jupyter-widgets/controls",
      "model_module_version": "2.0.0",
      "model_name": "TextModel",
      "state": {
       "continuous_update": false,
       "disabled": true,
       "layout": "IPY_MODEL_493e9d94a9644cd5b7d6758a10a07b2a",
       "placeholder": "Disabled",
       "style": "IPY_MODEL_6b233e9f480b4b59bbbe28e9070449c4"
      }
     },
     "03a7e452c56b42c9ba53f810c8e68511": {
      "model_module": "anywidget",
      "model_module_version": "0.9.3",
      "model_name": "AnyModel",
      "state": {
       "_anywidget_id": "ipywui.widgets.custom.message.MessageWidget",
       "_css": ".wui-message-root {\n    display: flex;\n    position: absolute;\n    left: 0;\n    right: 0;\n    top: 0;\n}\n\n.wui-message-container {\n    align-items: center;\n    display: flex;\n    flex-direction: column-reverse;\n    justify-content: center;\n    min-height: 100%;\n    outline: none;\n    width: 100%;\n\n    -webkit-tap-highlight-color: rgba(0,0,0,0);\n    bottom: 0;\n    left: 0;\n    right: 0;\n    top: 0;\n}\n\n.wui-message--success {\n    --wui-message-bg-color: #f0f9eb;\n    --wui-message-border-color: #e1f3d8;\n    --wui-message-text-color: #67c23a;\n}\n.wui-message--warning {\n    --wui-message-bg-color: #fdf6ec;\n    --wui-message-border-color: #faecd8;\n    --wui-message-text-color: #e6a23c;\n}\n.wui-message--info {\n    --wui-message-bg-color: #f4f4f5;\n    --wui-message-border-color: #e9e9eb;\n    --wui-message-text-color: #909399;\n}\n.wui-message--error {\n    --wui-message-bg-color: #fef0f0;\n    --wui-message-border-color: #fde2e2;\n    --wui-message-text-color: #f56c6c;\n}\n\n@keyframes msg-open {\n    0% {\n        opacity: 0;\n        -webkit-transform: translateY(-120%);\n        transform: translateY(-120%)\n    }\n    to {\n        -webkit-transform: translateY(0);\n        transform: translateY(0)\n    }\n}\n\n@keyframes msg-close {\n    0% {\n        opacity: 1;\n        -webkit-transform: scale(1);\n        transform: scale(1)\n    }\n    to {\n        opacity: 0;\n        -webkit-transform: scale(.9);\n        transform: scale(.9)\n    }\n}\n.wui-message[data-state=entered],.wui-message[data-state=entering] {\n    -webkit-animation: msg-open .24s cubic-bezier(.175,.885,.32,1.175) both;\n    animation: msg-open .24s cubic-bezier(.175,.885,.32,1.175) both\n}\n\n.wui-message[data-state=exiting] {\n    -webkit-animation: msg-close .12s cubic-bezier(.4,0,1,1) both;\n    animation: msg-close .12s cubic-bezier(.4,0,1,1) both\n}\n\n.wui-message {\n    width: -webkit-fit-content;\n    width: -moz-fit-content;\n    width: fit-content;\n    z-index: 2004;\n    max-width: calc(100% - 32px);\n    margin-top: 8px;\n    box-sizing: border-box;\n    /*border-radius: var(--wui-border-radius-base);*/\n    /*border-width: var(--wui-border-width);*/\n    /*border-style: var(--wui-border-style);*/\n    border-color: var(--wui-message-border-color);\n    /*left: 50%;*/\n    /*top: 20px;*/\n    /*transform: translateX(-50%);*/\n    background-color: var(--wui-message-bg-color);\n    /*transition: opacity var(--wui-transition-duration),transform .4s,top .4s;*/\n    /*padding: var(--wui-message-padding);*/\n    display: flex;\n    align-items: center;\n}\n\n/*.wui-message--success */\n.wui-message__content {\n    color: var(--wui-message-text-color);\n    font-size: 14px;\n    line-height: 18px;\n    margin: 10px 14px 10px 14px;\n    overflow-wrap: break-word;\n}\n\n.wui-message__closeBtn {\n    /*cursor: pointer;*/\n    font-style: normal;\n    /*color: gray;*/\n    padding-right: 14px;\n    /*font-size: 13px;*/\n    user-select: none;\n\n    background: transparent;\n    border: none;\n    color: gray;\n    cursor: pointer;\n    font-size: 13px;\n    font-weight: 400;\n    line-height: 1;\n    outline: none;\n    /*padding: 4px;*/\n    text-align: center;\n    transition: opacity .3s;\n    /*width: 100%;*/\n}",
       "_esm": "function closeMsg(msgDom) {\n  if (!msgDom) {\n    return;\n  }\n  msgDom.setAttribute('data-state', 'exiting');\n  msgDom.remove();\n}\n\nfunction createMsg(options) {\n  const {message, msg_id, type = 'info', show_close = false} = options;\n  const msgDom = document.createElement('div');\n  msgDom.className += ` wui-message--${type} wui-message`;\n  msgDom.setAttribute('data-state', 'entered');\n  msgDom.setAttribute('id', msg_id);\n  const msgContent = document.createElement('p');\n  msgContent.className += ` wui-message--${type} wui-message__content`;\n  msgContent.innerText = message;\n  msgDom.appendChild(msgContent);\n  if (show_close) {\n    const closeBtn = document.createElement('i');\n    closeBtn.className += 'wui-message__closeBtn';\n    closeBtn.innerText = 'x';\n    closeBtn.addEventListener('click', (ev) => {\n      closeMsg(msgDom);\n    })\n    msgDom.appendChild(closeBtn);\n  }\n  return msgDom;\n}\n\nexport async function render(view) {\n  let model = view.model;\n  const msgRoot = view.el;\n  msgRoot.className += ' wui-message-root'\n\n  const msgContainer = document.createElement('div');\n  msgContainer.className += ' wui-message-container';\n  msgRoot.appendChild(msgContainer)\n\n  model.on(\"change:message_options\", () => {\n    const options = model.get(\"message_options\");\n    const msg = createMsg(options);\n    msgContainer.appendChild(msg);\n    const {duration = 3000} = options;\n    if (duration > 0) {\n      setTimeout(() => {\n        closeMsg(msg)\n      }, duration);\n    }\n  })\n\n  model.on(\"change:close_msg_id\", () => {\n    const msg_id = model.get(\"close_msg_id\");\n    const msgDom = document.getElementById(msg_id);\n    closeMsg(msgDom);\n  })\n}\n",
       "_model_module": "anywidget",
       "_model_module_version": "0.9.3",
       "_model_name": "AnyModel",
       "_view_module": "anywidget",
       "_view_module_version": "0.9.3",
       "_view_name": "AnyView",
       "close_msg_id": "",
       "layout": "IPY_MODEL_1cb182ba09b4481daea3ce9e85488f7e",
       "message_options": {
        "duration": 3000,
        "message": "",
        "show_close": false,
        "type": "info"
       }
      }
     },
     "0b8e941c1d77416dbd1ff8c03f057320": {
      "model_module": "@jupyter-widgets/controls",
      "model_module_version": "2.0.0",
      "model_name": "PasswordModel",
      "state": {
       "continuous_update": false,
       "description": "Password",
       "layout": "IPY_MODEL_b78f359c76db40ec819792e76c45f6ed",
       "style": "IPY_MODEL_95f8ce2f53004dff8dd04dae8f43c991",
       "value": "xxx"
      }
     },
     "10b53e0356a844a1bbb11df0cdee9360": {
      "model_module": "@jupyter-widgets/base",
      "model_module_version": "2.0.0",
      "model_name": "LayoutModel",
      "state": {}
     },
     "15d9e623c75741318f3ce22ba463bc82": {
      "model_module": "@jupyter-widgets/output",
      "model_module_version": "1.0.0",
      "model_name": "OutputModel",
      "state": {
       "layout": "IPY_MODEL_893580964e144081834d9ffc9de280a6",
       "outputs": [
        {
         "data": {
          "application/vnd.jupyter.widget-view+json": {
           "model_id": "c1e0e8dafa744f27a86c38372b6ae192",
           "version_major": 2,
           "version_minor": 0
          },
          "text/plain": "sfc_container(children=(VBox(children=(Text(value='', continuous_update=False, disabled=True, placeholder='Dis…"
         },
         "metadata": {},
         "output_type": "display_data"
        }
       ]
      }
     },
     "17792a91e28a43329fc893207e71ecc1": {
      "model_module": "@jupyter-widgets/controls",
      "model_module_version": "2.0.0",
      "model_name": "VBoxModel",
      "state": {
       "children": [
        "IPY_MODEL_77ee61907df54b068cdca27e4d9139c0",
        "IPY_MODEL_77ee61907df54b068cdca27e4d9139c0",
        "IPY_MODEL_e6af0c3d600041c8a5c5ec74dd5c0dbf"
       ],
       "layout": "IPY_MODEL_79a57651d33d40f5bb041d563fa16fd5"
      }
     },
     "1886e02815214ea1ad0b51f5a722285e": {
      "model_module": "@jupyter-widgets/controls",
      "model_module_version": "2.0.0",
      "model_name": "TextStyleModel",
      "state": {
       "description_width": "",
       "font_size": null,
       "text_color": null
      }
     },
     "1cb182ba09b4481daea3ce9e85488f7e": {
      "model_module": "@jupyter-widgets/base",
      "model_module_version": "2.0.0",
      "model_name": "LayoutModel",
      "state": {}
     },
     "278c7f1a9d3a4bcc9b031d8b6359c8e9": {
      "model_module": "@jupyter-widgets/controls",
      "model_module_version": "2.0.0",
      "model_name": "TextStyleModel",
      "state": {
       "description_width": "",
       "font_size": null,
       "text_color": null
      }
     },
     "2cfaf6db9ab1423786ae8258106fa5de": {
      "model_module": "@jupyter-widgets/controls",
      "model_module_version": "2.0.0",
      "model_name": "VBoxModel",
      "state": {
       "children": [
        "IPY_MODEL_3e7b52a20d7f4eb4af5d24a65672e5ca"
       ],
       "layout": "IPY_MODEL_452755d4b48f4545a2b1541495331f1b"
      }
     },
     "2e5f4c0654a64837aafc5d91fc0eb871": {
      "model_module": "@jupyter-widgets/output",
      "model_module_version": "1.0.0",
      "model_name": "OutputModel",
      "state": {
       "layout": "IPY_MODEL_93181d690b324c76b25486b5de6610d9",
       "outputs": [
        {
         "data": {
          "application/vnd.jupyter.widget-view+json": {
           "model_id": "ebdbb29067164dbf8e20bbdf2430b155",
           "version_major": 2,
           "version_minor": 0
          },
          "text/plain": "sfc_container(children=(Password(continuous_update=False, description='Password'),))"
         },
         "metadata": {},
         "output_type": "display_data"
        }
       ]
      }
     },
     "2ed3681da2324609984942699007c8a2": {
      "model_module": "@jupyter-widgets/base",
      "model_module_version": "2.0.0",
      "model_name": "LayoutModel",
      "state": {}
     },
     "32f2c1f07d9b450e88774cbb65e61ae0": {
      "model_module": "@jupyter-widgets/base",
      "model_module_version": "2.0.0",
      "model_name": "LayoutModel",
      "state": {}
     },
     "386609546b884a63989b0fb2ca868417": {
      "model_module": "@jupyter-widgets/base",
      "model_module_version": "2.0.0",
      "model_name": "LayoutModel",
      "state": {}
     },
     "3e7b52a20d7f4eb4af5d24a65672e5ca": {
      "model_module": "@jupyter-widgets/controls",
      "model_module_version": "2.0.0",
      "model_name": "VBoxModel",
      "state": {
       "children": [
        "IPY_MODEL_ac85d8f5f39045bdb49f3f67b684bb7a",
        "IPY_MODEL_ac85d8f5f39045bdb49f3f67b684bb7a",
        "IPY_MODEL_baf0609ce03e421fa7594c1660f072a4"
       ],
       "layout": "IPY_MODEL_b6a41b157afe48cb8800b043f8edd762"
      }
     },
     "452672b3ecf94502a1ac64487e1b6a5e": {
      "model_module": "@jupyter-widgets/base",
      "model_module_version": "2.0.0",
      "model_name": "LayoutModel",
      "state": {}
     },
     "452755d4b48f4545a2b1541495331f1b": {
      "model_module": "@jupyter-widgets/base",
      "model_module_version": "2.0.0",
      "model_name": "LayoutModel",
      "state": {}
     },
     "4651cd985d6548229c86dd694b716592": {
      "model_module": "@jupyter-widgets/base",
      "model_module_version": "2.0.0",
      "model_name": "LayoutModel",
      "state": {}
     },
     "46624b193b9e4ac0ba8007ee321c67bf": {
      "model_module": "@jupyter-widgets/base",
      "model_module_version": "2.0.0",
      "model_name": "LayoutModel",
      "state": {}
     },
     "489f2e569b98438ca5284a069b4d300d": {
      "model_module": "@jupyter-widgets/controls",
      "model_module_version": "2.0.0",
      "model_name": "TextareaModel",
      "state": {
       "continuous_update": false,
       "description": "bg green",
       "layout": "IPY_MODEL_53b69f9cc7764ccfa1d14076297c8b54",
       "style": "IPY_MODEL_ec57800889114a53b4ced50eceb3f7c2"
      }
     },
     "493e9d94a9644cd5b7d6758a10a07b2a": {
      "model_module": "@jupyter-widgets/base",
      "model_module_version": "2.0.0",
      "model_name": "LayoutModel",
      "state": {}
     },
     "4f7a0ba5495e46a889988dad4904bbf7": {
      "model_module": "@jupyter-widgets/controls",
      "model_module_version": "2.0.0",
      "model_name": "VBoxModel",
      "state": {
       "children": [
        "IPY_MODEL_77100131ec61453a956588c3d14a76ab",
        "IPY_MODEL_98215d36257a4906b7f9ecd3959fd516"
       ],
       "layout": "IPY_MODEL_9643100b76164f3ea51ed4f72fb5330d"
      }
     },
     "4fca80aa773841aca774f6b318ec8cc7": {
      "model_module": "@jupyter-widgets/controls",
      "model_module_version": "2.0.0",
      "model_name": "VBoxModel",
      "state": {
       "children": [
        "IPY_MODEL_0052e49e69514e26b9b738e18115618e",
        "IPY_MODEL_a5ff7b6cd2664bfe973d2f1bc6ea98ed",
        "IPY_MODEL_ee8d5f04be1843d1a6fe84ecfffafd70"
       ],
       "layout": "IPY_MODEL_de0cfc7c9cec475c839b34fd2222aa05"
      }
     },
     "525c1fde135a409c8e797adcfae14cbf": {
      "model_module": "@jupyter-widgets/output",
      "model_module_version": "1.0.0",
      "model_name": "OutputModel",
      "state": {
       "layout": "IPY_MODEL_57cf3c83f4bd43969a12eb5cd28048df",
       "outputs": [
        {
         "data": {
          "application/vnd.jupyter.widget-view+json": {
           "model_id": "c0265e4da96f42008429e962a2705baf",
           "version_major": 2,
           "version_minor": 0
          },
          "text/plain": "sfc_container(children=(Textarea(value='Please input', continuous_update=False, description='Textarea'),))"
         },
         "metadata": {},
         "output_type": "display_data"
        }
       ]
      }
     },
     "53b69f9cc7764ccfa1d14076297c8b54": {
      "model_module": "@jupyter-widgets/base",
      "model_module_version": "2.0.0",
      "model_name": "LayoutModel",
      "state": {}
     },
     "57cf3c83f4bd43969a12eb5cd28048df": {
      "model_module": "@jupyter-widgets/base",
      "model_module_version": "2.0.0",
      "model_name": "LayoutModel",
      "state": {}
     },
     "5ba2effda6ca405c88cf1684b6a2a755": {
      "model_module": "@jupyter-widgets/controls",
      "model_module_version": "2.0.0",
      "model_name": "TextStyleModel",
      "state": {
       "description_width": "150px",
       "font_size": null,
       "text_color": null
      }
     },
     "5c036a88328e450182b9f1962955416b": {
      "model_module": "@jupyter-widgets/controls",
      "model_module_version": "2.0.0",
      "model_name": "VBoxModel",
      "state": {
       "children": [
        "IPY_MODEL_a58d5808e0fb41f89629ca456fc532a9"
       ],
       "layout": "IPY_MODEL_5e08988c59af4d15a0468184bed0a04a"
      }
     },
     "5e08988c59af4d15a0468184bed0a04a": {
      "model_module": "@jupyter-widgets/base",
      "model_module_version": "2.0.0",
      "model_name": "LayoutModel",
      "state": {}
     },
     "61f5f728d8674459bbfb1eed3ed40db0": {
      "model_module": "@jupyter-widgets/controls",
      "model_module_version": "2.0.0",
      "model_name": "VBoxModel",
      "state": {
       "children": [
        "IPY_MODEL_92908d3be8f54f57b06f0405c31f24be",
        "IPY_MODEL_489f2e569b98438ca5284a069b4d300d",
        "IPY_MODEL_b7532607dbf84df88144c8af8241fda6",
        "IPY_MODEL_83a6fa78a7504ec9b2c8ebca9035875b",
        "IPY_MODEL_cd498d40a1e14edfbc4f8918d4e4a40f"
       ],
       "layout": "IPY_MODEL_a096e2cb0d714479a8d30911775fc444"
      }
     },
     "61fc826613de4906a9e501e3ab0a7c16": {
      "model_module": "anywidget",
      "model_module_version": "0.9.3",
      "model_name": "AnyModel",
      "state": {
       "_anywidget_id": "ipywui.widgets.custom.message.MessageWidget",
       "_css": ".wui-message-root {\n    display: flex;\n    position: absolute;\n    left: 0;\n    right: 0;\n    top: 0;\n}\n\n.wui-message-container {\n    align-items: center;\n    display: flex;\n    flex-direction: column-reverse;\n    justify-content: center;\n    min-height: 100%;\n    outline: none;\n    width: 100%;\n\n    -webkit-tap-highlight-color: rgba(0,0,0,0);\n    bottom: 0;\n    left: 0;\n    right: 0;\n    top: 0;\n}\n\n.wui-message--success {\n    --wui-message-bg-color: #f0f9eb;\n    --wui-message-border-color: #e1f3d8;\n    --wui-message-text-color: #67c23a;\n}\n.wui-message--warning {\n    --wui-message-bg-color: #fdf6ec;\n    --wui-message-border-color: #faecd8;\n    --wui-message-text-color: #e6a23c;\n}\n.wui-message--info {\n    --wui-message-bg-color: #f4f4f5;\n    --wui-message-border-color: #e9e9eb;\n    --wui-message-text-color: #909399;\n}\n.wui-message--error {\n    --wui-message-bg-color: #fef0f0;\n    --wui-message-border-color: #fde2e2;\n    --wui-message-text-color: #f56c6c;\n}\n\n@keyframes msg-open {\n    0% {\n        opacity: 0;\n        -webkit-transform: translateY(-120%);\n        transform: translateY(-120%)\n    }\n    to {\n        -webkit-transform: translateY(0);\n        transform: translateY(0)\n    }\n}\n\n@keyframes msg-close {\n    0% {\n        opacity: 1;\n        -webkit-transform: scale(1);\n        transform: scale(1)\n    }\n    to {\n        opacity: 0;\n        -webkit-transform: scale(.9);\n        transform: scale(.9)\n    }\n}\n.wui-message[data-state=entered],.wui-message[data-state=entering] {\n    -webkit-animation: msg-open .24s cubic-bezier(.175,.885,.32,1.175) both;\n    animation: msg-open .24s cubic-bezier(.175,.885,.32,1.175) both\n}\n\n.wui-message[data-state=exiting] {\n    -webkit-animation: msg-close .12s cubic-bezier(.4,0,1,1) both;\n    animation: msg-close .12s cubic-bezier(.4,0,1,1) both\n}\n\n.wui-message {\n    width: -webkit-fit-content;\n    width: -moz-fit-content;\n    width: fit-content;\n    z-index: 2004;\n    max-width: calc(100% - 32px);\n    margin-top: 8px;\n    box-sizing: border-box;\n    /*border-radius: var(--wui-border-radius-base);*/\n    /*border-width: var(--wui-border-width);*/\n    /*border-style: var(--wui-border-style);*/\n    border-color: var(--wui-message-border-color);\n    /*left: 50%;*/\n    /*top: 20px;*/\n    /*transform: translateX(-50%);*/\n    background-color: var(--wui-message-bg-color);\n    /*transition: opacity var(--wui-transition-duration),transform .4s,top .4s;*/\n    /*padding: var(--wui-message-padding);*/\n    display: flex;\n    align-items: center;\n}\n\n/*.wui-message--success */\n.wui-message__content {\n    color: var(--wui-message-text-color);\n    font-size: 14px;\n    line-height: 18px;\n    margin: 10px 14px 10px 14px;\n    overflow-wrap: break-word;\n}\n\n.wui-message__closeBtn {\n    /*cursor: pointer;*/\n    font-style: normal;\n    /*color: gray;*/\n    padding-right: 14px;\n    /*font-size: 13px;*/\n    user-select: none;\n\n    background: transparent;\n    border: none;\n    color: gray;\n    cursor: pointer;\n    font-size: 13px;\n    font-weight: 400;\n    line-height: 1;\n    outline: none;\n    /*padding: 4px;*/\n    text-align: center;\n    transition: opacity .3s;\n    /*width: 100%;*/\n}",
       "_esm": "function closeMsg(msgDom) {\n  if (!msgDom) {\n    return;\n  }\n  msgDom.setAttribute('data-state', 'exiting');\n  msgDom.remove();\n}\n\nfunction createMsg(options) {\n  const {message, msg_id, type = 'info', show_close = false} = options;\n  const msgDom = document.createElement('div');\n  msgDom.className += ` wui-message--${type} wui-message`;\n  msgDom.setAttribute('data-state', 'entered');\n  msgDom.setAttribute('id', msg_id);\n  const msgContent = document.createElement('p');\n  msgContent.className += ` wui-message--${type} wui-message__content`;\n  msgContent.innerText = message;\n  msgDom.appendChild(msgContent);\n  if (show_close) {\n    const closeBtn = document.createElement('i');\n    closeBtn.className += 'wui-message__closeBtn';\n    closeBtn.innerText = 'x';\n    closeBtn.addEventListener('click', (ev) => {\n      closeMsg(msgDom);\n    })\n    msgDom.appendChild(closeBtn);\n  }\n  return msgDom;\n}\n\nexport async function render(view) {\n  let model = view.model;\n  const msgRoot = view.el;\n  msgRoot.className += ' wui-message-root'\n\n  const msgContainer = document.createElement('div');\n  msgContainer.className += ' wui-message-container';\n  msgRoot.appendChild(msgContainer)\n\n  model.on(\"change:message_options\", () => {\n    const options = model.get(\"message_options\");\n    const msg = createMsg(options);\n    msgContainer.appendChild(msg);\n    const {duration = 3000} = options;\n    if (duration > 0) {\n      setTimeout(() => {\n        closeMsg(msg)\n      }, duration);\n    }\n  })\n\n  model.on(\"change:close_msg_id\", () => {\n    const msg_id = model.get(\"close_msg_id\");\n    const msgDom = document.getElementById(msg_id);\n    closeMsg(msgDom);\n  })\n}\n",
       "_model_module": "anywidget",
       "_model_module_version": "0.9.3",
       "_model_name": "AnyModel",
       "_view_module": "anywidget",
       "_view_module_version": "0.9.3",
       "_view_name": "AnyView",
       "close_msg_id": "",
       "layout": "IPY_MODEL_75050f86637545ce82d164507469a9fc",
       "message_options": {
        "duration": 3000,
        "message": "",
        "show_close": false,
        "type": "info"
       }
      }
     },
     "62bfb52752454e25893fcd4050814c49": {
      "model_module": "@jupyter-widgets/controls",
      "model_module_version": "2.0.0",
      "model_name": "VBoxModel",
      "state": {
       "children": [
        "IPY_MODEL_d08087bbee5a4f15969e2155ce3935c7"
       ],
       "layout": "IPY_MODEL_d28831a4f1e14d028151cb5f5b33bac5"
      }
     },
     "664aef559de149bcaa4c21ced2b5eefe": {
      "model_module": "@jupyter-widgets/controls",
      "model_module_version": "2.0.0",
      "model_name": "TextareaModel",
      "state": {
       "continuous_update": false,
       "description": "Textarea",
       "layout": "IPY_MODEL_10b53e0356a844a1bbb11df0cdee9360",
       "style": "IPY_MODEL_8e603e802bb745d89f5e1928b35a6b7d",
       "value": "Please input"
      }
     },
     "69d1afdda96241bb81ae295eb6bab512": {
      "model_module": "@jupyter-widgets/controls",
      "model_module_version": "2.0.0",
      "model_name": "TextStyleModel",
      "state": {
       "description_width": "",
       "font_size": null,
       "text_color": null
      }
     },
     "6b233e9f480b4b59bbbe28e9070449c4": {
      "model_module": "@jupyter-widgets/controls",
      "model_module_version": "2.0.0",
      "model_name": "TextStyleModel",
      "state": {
       "description_width": "",
       "font_size": null,
       "text_color": null
      }
     },
     "6f8a6d313f604987b83952bcfc0d1b14": {
      "model_module": "@jupyter-widgets/base",
      "model_module_version": "2.0.0",
      "model_name": "LayoutModel",
      "state": {}
     },
     "7091d4bff49746afaf4eab3c63fcdf64": {
      "model_module": "@jupyter-widgets/base",
      "model_module_version": "2.0.0",
      "model_name": "LayoutModel",
      "state": {}
     },
     "72883a9586ee43ed8927d072852a9025": {
      "model_module": "@jupyter-widgets/base",
      "model_module_version": "2.0.0",
      "model_name": "LayoutModel",
      "state": {}
     },
     "74a6857290424deaad7a7cb64ea0d2dd": {
      "model_module": "@jupyter-widgets/base",
      "model_module_version": "2.0.0",
      "model_name": "LayoutModel",
      "state": {}
     },
     "75050f86637545ce82d164507469a9fc": {
      "model_module": "@jupyter-widgets/base",
      "model_module_version": "2.0.0",
      "model_name": "LayoutModel",
      "state": {}
     },
     "77100131ec61453a956588c3d14a76ab": {
      "model_module": "@jupyter-widgets/controls",
      "model_module_version": "2.0.0",
      "model_name": "TextModel",
      "state": {
       "continuous_update": false,
       "description": "input",
       "layout": "IPY_MODEL_91c935922dcb4f96b0554a6654e46481",
       "placeholder": "Please input",
       "style": "IPY_MODEL_278c7f1a9d3a4bcc9b031d8b6359c8e9"
      }
     },
     "77ee61907df54b068cdca27e4d9139c0": {
      "model_module": "anywidget",
      "model_module_version": "0.9.3",
      "model_name": "AnyModel",
      "state": {
       "_anywidget_id": "ipywui.widgets.custom.message.MessageWidget",
       "_css": ".wui-message-root {\n    display: flex;\n    position: absolute;\n    left: 0;\n    right: 0;\n    top: 0;\n}\n\n.wui-message-container {\n    align-items: center;\n    display: flex;\n    flex-direction: column-reverse;\n    justify-content: center;\n    min-height: 100%;\n    outline: none;\n    width: 100%;\n\n    -webkit-tap-highlight-color: rgba(0,0,0,0);\n    bottom: 0;\n    left: 0;\n    right: 0;\n    top: 0;\n}\n\n.wui-message--success {\n    --wui-message-bg-color: #f0f9eb;\n    --wui-message-border-color: #e1f3d8;\n    --wui-message-text-color: #67c23a;\n}\n.wui-message--warning {\n    --wui-message-bg-color: #fdf6ec;\n    --wui-message-border-color: #faecd8;\n    --wui-message-text-color: #e6a23c;\n}\n.wui-message--info {\n    --wui-message-bg-color: #f4f4f5;\n    --wui-message-border-color: #e9e9eb;\n    --wui-message-text-color: #909399;\n}\n.wui-message--error {\n    --wui-message-bg-color: #fef0f0;\n    --wui-message-border-color: #fde2e2;\n    --wui-message-text-color: #f56c6c;\n}\n\n@keyframes msg-open {\n    0% {\n        opacity: 0;\n        -webkit-transform: translateY(-120%);\n        transform: translateY(-120%)\n    }\n    to {\n        -webkit-transform: translateY(0);\n        transform: translateY(0)\n    }\n}\n\n@keyframes msg-close {\n    0% {\n        opacity: 1;\n        -webkit-transform: scale(1);\n        transform: scale(1)\n    }\n    to {\n        opacity: 0;\n        -webkit-transform: scale(.9);\n        transform: scale(.9)\n    }\n}\n.wui-message[data-state=entered],.wui-message[data-state=entering] {\n    -webkit-animation: msg-open .24s cubic-bezier(.175,.885,.32,1.175) both;\n    animation: msg-open .24s cubic-bezier(.175,.885,.32,1.175) both\n}\n\n.wui-message[data-state=exiting] {\n    -webkit-animation: msg-close .12s cubic-bezier(.4,0,1,1) both;\n    animation: msg-close .12s cubic-bezier(.4,0,1,1) both\n}\n\n.wui-message {\n    width: -webkit-fit-content;\n    width: -moz-fit-content;\n    width: fit-content;\n    z-index: 2004;\n    max-width: calc(100% - 32px);\n    margin-top: 8px;\n    box-sizing: border-box;\n    /*border-radius: var(--wui-border-radius-base);*/\n    /*border-width: var(--wui-border-width);*/\n    /*border-style: var(--wui-border-style);*/\n    border-color: var(--wui-message-border-color);\n    /*left: 50%;*/\n    /*top: 20px;*/\n    /*transform: translateX(-50%);*/\n    background-color: var(--wui-message-bg-color);\n    /*transition: opacity var(--wui-transition-duration),transform .4s,top .4s;*/\n    /*padding: var(--wui-message-padding);*/\n    display: flex;\n    align-items: center;\n}\n\n/*.wui-message--success */\n.wui-message__content {\n    color: var(--wui-message-text-color);\n    font-size: 14px;\n    line-height: 18px;\n    margin: 10px 14px 10px 14px;\n    overflow-wrap: break-word;\n}\n\n.wui-message__closeBtn {\n    /*cursor: pointer;*/\n    font-style: normal;\n    /*color: gray;*/\n    padding-right: 14px;\n    /*font-size: 13px;*/\n    user-select: none;\n\n    background: transparent;\n    border: none;\n    color: gray;\n    cursor: pointer;\n    font-size: 13px;\n    font-weight: 400;\n    line-height: 1;\n    outline: none;\n    /*padding: 4px;*/\n    text-align: center;\n    transition: opacity .3s;\n    /*width: 100%;*/\n}",
       "_esm": "function closeMsg(msgDom) {\n  if (!msgDom) {\n    return;\n  }\n  msgDom.setAttribute('data-state', 'exiting');\n  msgDom.remove();\n}\n\nfunction createMsg(options) {\n  const {message, msg_id, type = 'info', show_close = false} = options;\n  const msgDom = document.createElement('div');\n  msgDom.className += ` wui-message--${type} wui-message`;\n  msgDom.setAttribute('data-state', 'entered');\n  msgDom.setAttribute('id', msg_id);\n  const msgContent = document.createElement('p');\n  msgContent.className += ` wui-message--${type} wui-message__content`;\n  msgContent.innerText = message;\n  msgDom.appendChild(msgContent);\n  if (show_close) {\n    const closeBtn = document.createElement('i');\n    closeBtn.className += 'wui-message__closeBtn';\n    closeBtn.innerText = 'x';\n    closeBtn.addEventListener('click', (ev) => {\n      closeMsg(msgDom);\n    })\n    msgDom.appendChild(closeBtn);\n  }\n  return msgDom;\n}\n\nexport async function render(view) {\n  let model = view.model;\n  const msgRoot = view.el;\n  msgRoot.className += ' wui-message-root'\n\n  const msgContainer = document.createElement('div');\n  msgContainer.className += ' wui-message-container';\n  msgRoot.appendChild(msgContainer)\n\n  model.on(\"change:message_options\", () => {\n    const options = model.get(\"message_options\");\n    const msg = createMsg(options);\n    msgContainer.appendChild(msg);\n    const {duration = 3000} = options;\n    if (duration > 0) {\n      setTimeout(() => {\n        closeMsg(msg)\n      }, duration);\n    }\n  })\n\n  model.on(\"change:close_msg_id\", () => {\n    const msg_id = model.get(\"close_msg_id\");\n    const msgDom = document.getElementById(msg_id);\n    closeMsg(msgDom);\n  })\n}\n",
       "_model_module": "anywidget",
       "_model_module_version": "0.9.3",
       "_model_name": "AnyModel",
       "_view_module": "anywidget",
       "_view_module_version": "0.9.3",
       "_view_name": "AnyView",
       "close_msg_id": "",
       "layout": "IPY_MODEL_2ed3681da2324609984942699007c8a2",
       "message_options": {
        "duration": 3000,
        "message": "",
        "show_close": false,
        "type": "info"
       }
      }
     },
     "79a57651d33d40f5bb041d563fa16fd5": {
      "model_module": "@jupyter-widgets/base",
      "model_module_version": "2.0.0",
      "model_name": "LayoutModel",
      "state": {}
     },
     "7c46d160d708406aa41b9804dd7b9ea2": {
      "model_module": "@jupyter-widgets/base",
      "model_module_version": "2.0.0",
      "model_name": "LayoutModel",
      "state": {}
     },
     "825ce3e9e4a946769b4cb3a94fe3d9fa": {
      "model_module": "@jupyter-widgets/base",
      "model_module_version": "2.0.0",
      "model_name": "LayoutModel",
      "state": {}
     },
     "83a6fa78a7504ec9b2c8ebca9035875b": {
      "model_module": "@jupyter-widgets/controls",
      "model_module_version": "2.0.0",
      "model_name": "TextModel",
      "state": {
       "continuous_update": false,
       "description": "text 20px",
       "layout": "IPY_MODEL_869d860e96ad4397a408c3ed31525ce1",
       "style": "IPY_MODEL_acf3beb5f91949d192ded680c0f3a286",
       "value": "Paul"
      }
     },
     "869d860e96ad4397a408c3ed31525ce1": {
      "model_module": "@jupyter-widgets/base",
      "model_module_version": "2.0.0",
      "model_name": "LayoutModel",
      "state": {}
     },
     "893580964e144081834d9ffc9de280a6": {
      "model_module": "@jupyter-widgets/base",
      "model_module_version": "2.0.0",
      "model_name": "LayoutModel",
      "state": {}
     },
     "8cf5c021101d457f93b66d653ec0bf25": {
      "model_module": "@jupyter-widgets/output",
      "model_module_version": "1.0.0",
      "model_name": "OutputModel",
      "state": {
       "layout": "IPY_MODEL_9e6c28ff43124eb69968e88b29cd2ffa",
       "outputs": [
        {
         "name": "stdout",
         "output_type": "stream",
         "text": "[INFO] api_create_app.py:render:118 - App render end.\n"
        },
        {
         "name": "stdout",
         "output_type": "stream",
         "text": "[INFO] codegen.py:render:276 - 🔥 Rerender SFC<custom.vue> at 4441503920\n"
        },
        {
         "name": "stdout",
         "output_type": "stream",
         "text": "[INFO] api_create_app.py:render:108 - App render start.\n"
        },
        {
         "name": "stdout",
         "output_type": "stream",
         "text": "[INFO] api_create_app.py:render:118 - App render end.\n"
        },
        {
         "name": "stdout",
         "output_type": "stream",
         "text": "[INFO] codegen.py:render:276 - 🔥 Rerender SFC<textarea.vue> at 4473812160\n"
        },
        {
         "name": "stdout",
         "output_type": "stream",
         "text": "[INFO] api_create_app.py:render:108 - App render start.\n"
        },
        {
         "name": "stdout",
         "output_type": "stream",
         "text": "[INFO] api_create_app.py:render:118 - App render end.\n"
        },
        {
         "name": "stdout",
         "output_type": "stream",
         "text": "[INFO] codegen.py:render:276 - 🔥 Rerender SFC<password.vue> at 4441504640\n"
        },
        {
         "name": "stdout",
         "output_type": "stream",
         "text": "[INFO] api_create_app.py:render:108 - App render start.\n"
        },
        {
         "name": "stdout",
         "output_type": "stream",
         "text": "[INFO] api_create_app.py:render:118 - App render end.\n"
        },
        {
         "name": "stdout",
         "output_type": "stream",
         "text": "[INFO] codegen.py:render:276 - 🔥 Rerender SFC<disabled.vue> at 4441501568\n"
        },
        {
         "name": "stdout",
         "output_type": "stream",
         "text": "[INFO] api_create_app.py:render:108 - App render start.\n"
        },
        {
         "name": "stdout",
         "output_type": "stream",
         "text": "[INFO] api_create_app.py:render:118 - App render end.\n"
        },
        {
         "name": "stdout",
         "output_type": "stream",
         "text": "[INFO] codegen.py:render:276 - 🔥 Rerender SFC<basic.vue> at 4473312192\n"
        },
        {
         "name": "stdout",
         "output_type": "stream",
         "text": "[INFO] api_create_app.py:render:108 - App render start.\n"
        }
       ]
      }
     },
     "8e603e802bb745d89f5e1928b35a6b7d": {
      "model_module": "@jupyter-widgets/controls",
      "model_module_version": "2.0.0",
      "model_name": "TextStyleModel",
      "state": {
       "description_width": "",
       "font_size": null,
       "text_color": null
      }
     },
     "91c935922dcb4f96b0554a6654e46481": {
      "model_module": "@jupyter-widgets/base",
      "model_module_version": "2.0.0",
      "model_name": "LayoutModel",
      "state": {}
     },
     "91f6b6116a274ae4ad825d808ad47b2e": {
      "model_module": "@jupyter-widgets/base",
      "model_module_version": "2.0.0",
      "model_name": "LayoutModel",
      "state": {}
     },
     "92908d3be8f54f57b06f0405c31f24be": {
      "model_module": "@jupyter-widgets/controls",
      "model_module_version": "2.0.0",
      "model_name": "TextModel",
      "state": {
       "continuous_update": false,
       "description": "custom",
       "layout": "IPY_MODEL_72883a9586ee43ed8927d072852a9025",
       "style": "IPY_MODEL_d00d542612454830b7a2f6b2fd6193c4",
       "value": "Paul"
      }
     },
     "93181d690b324c76b25486b5de6610d9": {
      "model_module": "@jupyter-widgets/base",
      "model_module_version": "2.0.0",
      "model_name": "LayoutModel",
      "state": {}
     },
     "95f8ce2f53004dff8dd04dae8f43c991": {
      "model_module": "@jupyter-widgets/controls",
      "model_module_version": "2.0.0",
      "model_name": "TextStyleModel",
      "state": {
       "description_width": "",
       "font_size": null,
       "text_color": null
      }
     },
     "9643100b76164f3ea51ed4f72fb5330d": {
      "model_module": "@jupyter-widgets/base",
      "model_module_version": "2.0.0",
      "model_name": "LayoutModel",
      "state": {}
     },
     "96de1d0635ab433a9db6122cc7cfde0c": {
      "model_module": "@jupyter-widgets/base",
      "model_module_version": "2.0.0",
      "model_name": "LayoutModel",
      "state": {}
     },
     "98215d36257a4906b7f9ecd3959fd516": {
      "model_module": "@jupyter-widgets/controls",
      "model_module_version": "2.0.0",
      "model_name": "TextModel",
      "state": {
       "description": "input",
       "layout": "IPY_MODEL_d5f6d84ba7914cfe937530851df26fb4",
       "placeholder": "continuous update",
       "style": "IPY_MODEL_e6fc3adf0a2b46f883c90d6eb1545075"
      }
     },
     "99cf2a7198bc40fa95a9a19cb454e8c2": {
      "model_module": "@jupyter-widgets/base",
      "model_module_version": "2.0.0",
      "model_name": "LayoutModel",
      "state": {}
     },
     "9e6c28ff43124eb69968e88b29cd2ffa": {
      "model_module": "@jupyter-widgets/base",
      "model_module_version": "2.0.0",
      "model_name": "LayoutModel",
      "state": {}
     },
     "a096e2cb0d714479a8d30911775fc444": {
      "model_module": "@jupyter-widgets/base",
      "model_module_version": "2.0.0",
      "model_name": "LayoutModel",
      "state": {}
     },
     "a58d5808e0fb41f89629ca456fc532a9": {
      "model_module": "@jupyter-widgets/controls",
      "model_module_version": "2.0.0",
      "model_name": "VBoxModel",
      "state": {
       "children": [
        "IPY_MODEL_03a7e452c56b42c9ba53f810c8e68511",
        "IPY_MODEL_03a7e452c56b42c9ba53f810c8e68511",
        "IPY_MODEL_2e5f4c0654a64837aafc5d91fc0eb871"
       ],
       "layout": "IPY_MODEL_7c46d160d708406aa41b9804dd7b9ea2"
      }
     },
     "a5ff7b6cd2664bfe973d2f1bc6ea98ed": {
      "model_module": "@jupyter-widgets/controls",
      "model_module_version": "2.0.0",
      "model_name": "TextModel",
      "state": {
       "continuous_update": false,
       "disabled": true,
       "layout": "IPY_MODEL_74a6857290424deaad7a7cb64ea0d2dd",
       "placeholder": "disabled=True",
       "style": "IPY_MODEL_69d1afdda96241bb81ae295eb6bab512"
      }
     },
     "ac85d8f5f39045bdb49f3f67b684bb7a": {
      "model_module": "anywidget",
      "model_module_version": "0.9.3",
      "model_name": "AnyModel",
      "state": {
       "_anywidget_id": "ipywui.widgets.custom.message.MessageWidget",
       "_css": ".wui-message-root {\n    display: flex;\n    position: absolute;\n    left: 0;\n    right: 0;\n    top: 0;\n}\n\n.wui-message-container {\n    align-items: center;\n    display: flex;\n    flex-direction: column-reverse;\n    justify-content: center;\n    min-height: 100%;\n    outline: none;\n    width: 100%;\n\n    -webkit-tap-highlight-color: rgba(0,0,0,0);\n    bottom: 0;\n    left: 0;\n    right: 0;\n    top: 0;\n}\n\n.wui-message--success {\n    --wui-message-bg-color: #f0f9eb;\n    --wui-message-border-color: #e1f3d8;\n    --wui-message-text-color: #67c23a;\n}\n.wui-message--warning {\n    --wui-message-bg-color: #fdf6ec;\n    --wui-message-border-color: #faecd8;\n    --wui-message-text-color: #e6a23c;\n}\n.wui-message--info {\n    --wui-message-bg-color: #f4f4f5;\n    --wui-message-border-color: #e9e9eb;\n    --wui-message-text-color: #909399;\n}\n.wui-message--error {\n    --wui-message-bg-color: #fef0f0;\n    --wui-message-border-color: #fde2e2;\n    --wui-message-text-color: #f56c6c;\n}\n\n@keyframes msg-open {\n    0% {\n        opacity: 0;\n        -webkit-transform: translateY(-120%);\n        transform: translateY(-120%)\n    }\n    to {\n        -webkit-transform: translateY(0);\n        transform: translateY(0)\n    }\n}\n\n@keyframes msg-close {\n    0% {\n        opacity: 1;\n        -webkit-transform: scale(1);\n        transform: scale(1)\n    }\n    to {\n        opacity: 0;\n        -webkit-transform: scale(.9);\n        transform: scale(.9)\n    }\n}\n.wui-message[data-state=entered],.wui-message[data-state=entering] {\n    -webkit-animation: msg-open .24s cubic-bezier(.175,.885,.32,1.175) both;\n    animation: msg-open .24s cubic-bezier(.175,.885,.32,1.175) both\n}\n\n.wui-message[data-state=exiting] {\n    -webkit-animation: msg-close .12s cubic-bezier(.4,0,1,1) both;\n    animation: msg-close .12s cubic-bezier(.4,0,1,1) both\n}\n\n.wui-message {\n    width: -webkit-fit-content;\n    width: -moz-fit-content;\n    width: fit-content;\n    z-index: 2004;\n    max-width: calc(100% - 32px);\n    margin-top: 8px;\n    box-sizing: border-box;\n    /*border-radius: var(--wui-border-radius-base);*/\n    /*border-width: var(--wui-border-width);*/\n    /*border-style: var(--wui-border-style);*/\n    border-color: var(--wui-message-border-color);\n    /*left: 50%;*/\n    /*top: 20px;*/\n    /*transform: translateX(-50%);*/\n    background-color: var(--wui-message-bg-color);\n    /*transition: opacity var(--wui-transition-duration),transform .4s,top .4s;*/\n    /*padding: var(--wui-message-padding);*/\n    display: flex;\n    align-items: center;\n}\n\n/*.wui-message--success */\n.wui-message__content {\n    color: var(--wui-message-text-color);\n    font-size: 14px;\n    line-height: 18px;\n    margin: 10px 14px 10px 14px;\n    overflow-wrap: break-word;\n}\n\n.wui-message__closeBtn {\n    /*cursor: pointer;*/\n    font-style: normal;\n    /*color: gray;*/\n    padding-right: 14px;\n    /*font-size: 13px;*/\n    user-select: none;\n\n    background: transparent;\n    border: none;\n    color: gray;\n    cursor: pointer;\n    font-size: 13px;\n    font-weight: 400;\n    line-height: 1;\n    outline: none;\n    /*padding: 4px;*/\n    text-align: center;\n    transition: opacity .3s;\n    /*width: 100%;*/\n}",
       "_esm": "function closeMsg(msgDom) {\n  if (!msgDom) {\n    return;\n  }\n  msgDom.setAttribute('data-state', 'exiting');\n  msgDom.remove();\n}\n\nfunction createMsg(options) {\n  const {message, msg_id, type = 'info', show_close = false} = options;\n  const msgDom = document.createElement('div');\n  msgDom.className += ` wui-message--${type} wui-message`;\n  msgDom.setAttribute('data-state', 'entered');\n  msgDom.setAttribute('id', msg_id);\n  const msgContent = document.createElement('p');\n  msgContent.className += ` wui-message--${type} wui-message__content`;\n  msgContent.innerText = message;\n  msgDom.appendChild(msgContent);\n  if (show_close) {\n    const closeBtn = document.createElement('i');\n    closeBtn.className += 'wui-message__closeBtn';\n    closeBtn.innerText = 'x';\n    closeBtn.addEventListener('click', (ev) => {\n      closeMsg(msgDom);\n    })\n    msgDom.appendChild(closeBtn);\n  }\n  return msgDom;\n}\n\nexport async function render(view) {\n  let model = view.model;\n  const msgRoot = view.el;\n  msgRoot.className += ' wui-message-root'\n\n  const msgContainer = document.createElement('div');\n  msgContainer.className += ' wui-message-container';\n  msgRoot.appendChild(msgContainer)\n\n  model.on(\"change:message_options\", () => {\n    const options = model.get(\"message_options\");\n    const msg = createMsg(options);\n    msgContainer.appendChild(msg);\n    const {duration = 3000} = options;\n    if (duration > 0) {\n      setTimeout(() => {\n        closeMsg(msg)\n      }, duration);\n    }\n  })\n\n  model.on(\"change:close_msg_id\", () => {\n    const msg_id = model.get(\"close_msg_id\");\n    const msgDom = document.getElementById(msg_id);\n    closeMsg(msgDom);\n  })\n}\n",
       "_model_module": "anywidget",
       "_model_module_version": "0.9.3",
       "_model_name": "AnyModel",
       "_view_module": "anywidget",
       "_view_module_version": "0.9.3",
       "_view_name": "AnyView",
       "close_msg_id": "",
       "layout": "IPY_MODEL_91f6b6116a274ae4ad825d808ad47b2e",
       "message_options": {
        "duration": 3000,
        "message": "",
        "show_close": false,
        "type": "info"
       }
      }
     },
     "acf3beb5f91949d192ded680c0f3a286": {
      "model_module": "@jupyter-widgets/controls",
      "model_module_version": "2.0.0",
      "model_name": "TextStyleModel",
      "state": {
       "description_width": "",
       "font_size": "20px",
       "text_color": null
      }
     },
     "ad24faf803dd470a8c01cab49ecb9918": {
      "model_module": "@jupyter-widgets/controls",
      "model_module_version": "2.0.0",
      "model_name": "VBoxModel",
      "state": {
       "children": [
        "IPY_MODEL_4f7a0ba5495e46a889988dad4904bbf7"
       ],
       "layout": "IPY_MODEL_d2dc2aaff0134391a123a29e171bfe1b"
      }
     },
     "b3e1db4704144c269c827f43568fb00c": {
      "model_module": "anywidget",
      "model_module_version": "0.9.3",
      "model_name": "AnyModel",
      "state": {
       "_anywidget_id": "ipywui.widgets.custom.message.MessageWidget",
       "_css": ".wui-message-root {\n    display: flex;\n    position: absolute;\n    left: 0;\n    right: 0;\n    top: 0;\n}\n\n.wui-message-container {\n    align-items: center;\n    display: flex;\n    flex-direction: column-reverse;\n    justify-content: center;\n    min-height: 100%;\n    outline: none;\n    width: 100%;\n\n    -webkit-tap-highlight-color: rgba(0,0,0,0);\n    bottom: 0;\n    left: 0;\n    right: 0;\n    top: 0;\n}\n\n.wui-message--success {\n    --wui-message-bg-color: #f0f9eb;\n    --wui-message-border-color: #e1f3d8;\n    --wui-message-text-color: #67c23a;\n}\n.wui-message--warning {\n    --wui-message-bg-color: #fdf6ec;\n    --wui-message-border-color: #faecd8;\n    --wui-message-text-color: #e6a23c;\n}\n.wui-message--info {\n    --wui-message-bg-color: #f4f4f5;\n    --wui-message-border-color: #e9e9eb;\n    --wui-message-text-color: #909399;\n}\n.wui-message--error {\n    --wui-message-bg-color: #fef0f0;\n    --wui-message-border-color: #fde2e2;\n    --wui-message-text-color: #f56c6c;\n}\n\n@keyframes msg-open {\n    0% {\n        opacity: 0;\n        -webkit-transform: translateY(-120%);\n        transform: translateY(-120%)\n    }\n    to {\n        -webkit-transform: translateY(0);\n        transform: translateY(0)\n    }\n}\n\n@keyframes msg-close {\n    0% {\n        opacity: 1;\n        -webkit-transform: scale(1);\n        transform: scale(1)\n    }\n    to {\n        opacity: 0;\n        -webkit-transform: scale(.9);\n        transform: scale(.9)\n    }\n}\n.wui-message[data-state=entered],.wui-message[data-state=entering] {\n    -webkit-animation: msg-open .24s cubic-bezier(.175,.885,.32,1.175) both;\n    animation: msg-open .24s cubic-bezier(.175,.885,.32,1.175) both\n}\n\n.wui-message[data-state=exiting] {\n    -webkit-animation: msg-close .12s cubic-bezier(.4,0,1,1) both;\n    animation: msg-close .12s cubic-bezier(.4,0,1,1) both\n}\n\n.wui-message {\n    width: -webkit-fit-content;\n    width: -moz-fit-content;\n    width: fit-content;\n    z-index: 2004;\n    max-width: calc(100% - 32px);\n    margin-top: 8px;\n    box-sizing: border-box;\n    /*border-radius: var(--wui-border-radius-base);*/\n    /*border-width: var(--wui-border-width);*/\n    /*border-style: var(--wui-border-style);*/\n    border-color: var(--wui-message-border-color);\n    /*left: 50%;*/\n    /*top: 20px;*/\n    /*transform: translateX(-50%);*/\n    background-color: var(--wui-message-bg-color);\n    /*transition: opacity var(--wui-transition-duration),transform .4s,top .4s;*/\n    /*padding: var(--wui-message-padding);*/\n    display: flex;\n    align-items: center;\n}\n\n/*.wui-message--success */\n.wui-message__content {\n    color: var(--wui-message-text-color);\n    font-size: 14px;\n    line-height: 18px;\n    margin: 10px 14px 10px 14px;\n    overflow-wrap: break-word;\n}\n\n.wui-message__closeBtn {\n    /*cursor: pointer;*/\n    font-style: normal;\n    /*color: gray;*/\n    padding-right: 14px;\n    /*font-size: 13px;*/\n    user-select: none;\n\n    background: transparent;\n    border: none;\n    color: gray;\n    cursor: pointer;\n    font-size: 13px;\n    font-weight: 400;\n    line-height: 1;\n    outline: none;\n    /*padding: 4px;*/\n    text-align: center;\n    transition: opacity .3s;\n    /*width: 100%;*/\n}",
       "_esm": "function closeMsg(msgDom) {\n  if (!msgDom) {\n    return;\n  }\n  msgDom.setAttribute('data-state', 'exiting');\n  msgDom.remove();\n}\n\nfunction createMsg(options) {\n  const {message, msg_id, type = 'info', show_close = false} = options;\n  const msgDom = document.createElement('div');\n  msgDom.className += ` wui-message--${type} wui-message`;\n  msgDom.setAttribute('data-state', 'entered');\n  msgDom.setAttribute('id', msg_id);\n  const msgContent = document.createElement('p');\n  msgContent.className += ` wui-message--${type} wui-message__content`;\n  msgContent.innerText = message;\n  msgDom.appendChild(msgContent);\n  if (show_close) {\n    const closeBtn = document.createElement('i');\n    closeBtn.className += 'wui-message__closeBtn';\n    closeBtn.innerText = 'x';\n    closeBtn.addEventListener('click', (ev) => {\n      closeMsg(msgDom);\n    })\n    msgDom.appendChild(closeBtn);\n  }\n  return msgDom;\n}\n\nexport async function render(view) {\n  let model = view.model;\n  const msgRoot = view.el;\n  msgRoot.className += ' wui-message-root'\n\n  const msgContainer = document.createElement('div');\n  msgContainer.className += ' wui-message-container';\n  msgRoot.appendChild(msgContainer)\n\n  model.on(\"change:message_options\", () => {\n    const options = model.get(\"message_options\");\n    const msg = createMsg(options);\n    msgContainer.appendChild(msg);\n    const {duration = 3000} = options;\n    if (duration > 0) {\n      setTimeout(() => {\n        closeMsg(msg)\n      }, duration);\n    }\n  })\n\n  model.on(\"change:close_msg_id\", () => {\n    const msg_id = model.get(\"close_msg_id\");\n    const msgDom = document.getElementById(msg_id);\n    closeMsg(msgDom);\n  })\n}\n",
       "_model_module": "anywidget",
       "_model_module_version": "0.9.3",
       "_model_name": "AnyModel",
       "_view_module": "anywidget",
       "_view_module_version": "0.9.3",
       "_view_name": "AnyView",
       "close_msg_id": "",
       "layout": "IPY_MODEL_4651cd985d6548229c86dd694b716592",
       "message_options": {
        "duration": 3000,
        "message": "",
        "show_close": false,
        "type": "info"
       }
      }
     },
     "b6a41b157afe48cb8800b043f8edd762": {
      "model_module": "@jupyter-widgets/base",
      "model_module_version": "2.0.0",
      "model_name": "LayoutModel",
      "state": {}
     },
     "b7532607dbf84df88144c8af8241fda6": {
      "model_module": "@jupyter-widgets/controls",
      "model_module_version": "2.0.0",
      "model_name": "TextModel",
      "state": {
       "continuous_update": false,
       "description": "text red",
       "layout": "IPY_MODEL_cd49c78f37454861b29cbb5b0de7ae1e",
       "style": "IPY_MODEL_fac9aed2236a447493cbc4d09a56a558",
       "value": "Paul"
      }
     },
     "b78f359c76db40ec819792e76c45f6ed": {
      "model_module": "@jupyter-widgets/base",
      "model_module_version": "2.0.0",
      "model_name": "LayoutModel",
      "state": {}
     },
     "baf0609ce03e421fa7594c1660f072a4": {
      "model_module": "@jupyter-widgets/output",
      "model_module_version": "1.0.0",
      "model_name": "OutputModel",
      "state": {
       "layout": "IPY_MODEL_96de1d0635ab433a9db6122cc7cfde0c",
       "outputs": [
        {
         "data": {
          "application/vnd.jupyter.widget-view+json": {
           "model_id": "ad24faf803dd470a8c01cab49ecb9918",
           "version_major": 2,
           "version_minor": 0
          },
          "text/plain": "sfc_container(children=(VBox(children=(Text(value='', continuous_update=False, description='input', placeholde…"
         },
         "metadata": {},
         "output_type": "display_data"
        }
       ]
      }
     },
     "bdf4582fa54e435d89b193837a685969": {
      "model_module": "@jupyter-widgets/base",
      "model_module_version": "2.0.0",
      "model_name": "LayoutModel",
      "state": {}
     },
     "c0265e4da96f42008429e962a2705baf": {
      "model_module": "@jupyter-widgets/controls",
      "model_module_version": "2.0.0",
      "model_name": "VBoxModel",
      "state": {
       "children": [
        "IPY_MODEL_664aef559de149bcaa4c21ced2b5eefe"
       ],
       "layout": "IPY_MODEL_6f8a6d313f604987b83952bcfc0d1b14"
      }
     },
     "c1e0e8dafa744f27a86c38372b6ae192": {
      "model_module": "@jupyter-widgets/controls",
      "model_module_version": "2.0.0",
      "model_name": "VBoxModel",
      "state": {
       "children": [
        "IPY_MODEL_4fca80aa773841aca774f6b318ec8cc7"
       ],
       "layout": "IPY_MODEL_bdf4582fa54e435d89b193837a685969"
      }
     },
     "c2da2ec7e25343298029ad07f3ab3dbe": {
      "model_module": "@jupyter-widgets/controls",
      "model_module_version": "2.0.0",
      "model_name": "VBoxModel",
      "state": {
       "children": [
        "IPY_MODEL_17792a91e28a43329fc893207e71ecc1"
       ],
       "layout": "IPY_MODEL_386609546b884a63989b0fb2ca868417"
      }
     },
     "cd498d40a1e14edfbc4f8918d4e4a40f": {
      "model_module": "@jupyter-widgets/controls",
      "model_module_version": "2.0.0",
      "model_name": "PasswordModel",
      "state": {
       "continuous_update": false,
       "description": "label width 150px",
       "layout": "IPY_MODEL_e2d38eba26cd4c849f3c930e58f926e3",
       "style": "IPY_MODEL_5ba2effda6ca405c88cf1684b6a2a755",
       "value": "Paul"
      }
     },
     "cd49c78f37454861b29cbb5b0de7ae1e": {
      "model_module": "@jupyter-widgets/base",
      "model_module_version": "2.0.0",
      "model_name": "LayoutModel",
      "state": {}
     },
     "d00d542612454830b7a2f6b2fd6193c4": {
      "model_module": "@jupyter-widgets/controls",
      "model_module_version": "2.0.0",
      "model_name": "TextStyleModel",
      "state": {
       "background": "lightblue",
       "description_width": "",
       "font_size": "large",
       "text_color": "darkorange"
      }
     },
     "d08087bbee5a4f15969e2155ce3935c7": {
      "model_module": "@jupyter-widgets/controls",
      "model_module_version": "2.0.0",
      "model_name": "VBoxModel",
      "state": {
       "children": [
        "IPY_MODEL_dbd788e0428a49eda82ac924b238763b",
        "IPY_MODEL_dbd788e0428a49eda82ac924b238763b",
        "IPY_MODEL_15d9e623c75741318f3ce22ba463bc82"
       ],
       "layout": "IPY_MODEL_99cf2a7198bc40fa95a9a19cb454e8c2"
      }
     },
     "d28831a4f1e14d028151cb5f5b33bac5": {
      "model_module": "@jupyter-widgets/base",
      "model_module_version": "2.0.0",
      "model_name": "LayoutModel",
      "state": {}
     },
     "d2dc2aaff0134391a123a29e171bfe1b": {
      "model_module": "@jupyter-widgets/base",
      "model_module_version": "2.0.0",
      "model_name": "LayoutModel",
      "state": {}
     },
     "d5f6d84ba7914cfe937530851df26fb4": {
      "model_module": "@jupyter-widgets/base",
      "model_module_version": "2.0.0",
      "model_name": "LayoutModel",
      "state": {}
     },
     "dadcfa499be34a8c8c7ceddf333e0494": {
      "model_module": "@jupyter-widgets/base",
      "model_module_version": "2.0.0",
      "model_name": "LayoutModel",
      "state": {}
     },
     "dbd788e0428a49eda82ac924b238763b": {
      "model_module": "anywidget",
      "model_module_version": "0.9.3",
      "model_name": "AnyModel",
      "state": {
       "_anywidget_id": "ipywui.widgets.custom.message.MessageWidget",
       "_css": ".wui-message-root {\n    display: flex;\n    position: absolute;\n    left: 0;\n    right: 0;\n    top: 0;\n}\n\n.wui-message-container {\n    align-items: center;\n    display: flex;\n    flex-direction: column-reverse;\n    justify-content: center;\n    min-height: 100%;\n    outline: none;\n    width: 100%;\n\n    -webkit-tap-highlight-color: rgba(0,0,0,0);\n    bottom: 0;\n    left: 0;\n    right: 0;\n    top: 0;\n}\n\n.wui-message--success {\n    --wui-message-bg-color: #f0f9eb;\n    --wui-message-border-color: #e1f3d8;\n    --wui-message-text-color: #67c23a;\n}\n.wui-message--warning {\n    --wui-message-bg-color: #fdf6ec;\n    --wui-message-border-color: #faecd8;\n    --wui-message-text-color: #e6a23c;\n}\n.wui-message--info {\n    --wui-message-bg-color: #f4f4f5;\n    --wui-message-border-color: #e9e9eb;\n    --wui-message-text-color: #909399;\n}\n.wui-message--error {\n    --wui-message-bg-color: #fef0f0;\n    --wui-message-border-color: #fde2e2;\n    --wui-message-text-color: #f56c6c;\n}\n\n@keyframes msg-open {\n    0% {\n        opacity: 0;\n        -webkit-transform: translateY(-120%);\n        transform: translateY(-120%)\n    }\n    to {\n        -webkit-transform: translateY(0);\n        transform: translateY(0)\n    }\n}\n\n@keyframes msg-close {\n    0% {\n        opacity: 1;\n        -webkit-transform: scale(1);\n        transform: scale(1)\n    }\n    to {\n        opacity: 0;\n        -webkit-transform: scale(.9);\n        transform: scale(.9)\n    }\n}\n.wui-message[data-state=entered],.wui-message[data-state=entering] {\n    -webkit-animation: msg-open .24s cubic-bezier(.175,.885,.32,1.175) both;\n    animation: msg-open .24s cubic-bezier(.175,.885,.32,1.175) both\n}\n\n.wui-message[data-state=exiting] {\n    -webkit-animation: msg-close .12s cubic-bezier(.4,0,1,1) both;\n    animation: msg-close .12s cubic-bezier(.4,0,1,1) both\n}\n\n.wui-message {\n    width: -webkit-fit-content;\n    width: -moz-fit-content;\n    width: fit-content;\n    z-index: 2004;\n    max-width: calc(100% - 32px);\n    margin-top: 8px;\n    box-sizing: border-box;\n    /*border-radius: var(--wui-border-radius-base);*/\n    /*border-width: var(--wui-border-width);*/\n    /*border-style: var(--wui-border-style);*/\n    border-color: var(--wui-message-border-color);\n    /*left: 50%;*/\n    /*top: 20px;*/\n    /*transform: translateX(-50%);*/\n    background-color: var(--wui-message-bg-color);\n    /*transition: opacity var(--wui-transition-duration),transform .4s,top .4s;*/\n    /*padding: var(--wui-message-padding);*/\n    display: flex;\n    align-items: center;\n}\n\n/*.wui-message--success */\n.wui-message__content {\n    color: var(--wui-message-text-color);\n    font-size: 14px;\n    line-height: 18px;\n    margin: 10px 14px 10px 14px;\n    overflow-wrap: break-word;\n}\n\n.wui-message__closeBtn {\n    /*cursor: pointer;*/\n    font-style: normal;\n    /*color: gray;*/\n    padding-right: 14px;\n    /*font-size: 13px;*/\n    user-select: none;\n\n    background: transparent;\n    border: none;\n    color: gray;\n    cursor: pointer;\n    font-size: 13px;\n    font-weight: 400;\n    line-height: 1;\n    outline: none;\n    /*padding: 4px;*/\n    text-align: center;\n    transition: opacity .3s;\n    /*width: 100%;*/\n}",
       "_esm": "function closeMsg(msgDom) {\n  if (!msgDom) {\n    return;\n  }\n  msgDom.setAttribute('data-state', 'exiting');\n  msgDom.remove();\n}\n\nfunction createMsg(options) {\n  const {message, msg_id, type = 'info', show_close = false} = options;\n  const msgDom = document.createElement('div');\n  msgDom.className += ` wui-message--${type} wui-message`;\n  msgDom.setAttribute('data-state', 'entered');\n  msgDom.setAttribute('id', msg_id);\n  const msgContent = document.createElement('p');\n  msgContent.className += ` wui-message--${type} wui-message__content`;\n  msgContent.innerText = message;\n  msgDom.appendChild(msgContent);\n  if (show_close) {\n    const closeBtn = document.createElement('i');\n    closeBtn.className += 'wui-message__closeBtn';\n    closeBtn.innerText = 'x';\n    closeBtn.addEventListener('click', (ev) => {\n      closeMsg(msgDom);\n    })\n    msgDom.appendChild(closeBtn);\n  }\n  return msgDom;\n}\n\nexport async function render(view) {\n  let model = view.model;\n  const msgRoot = view.el;\n  msgRoot.className += ' wui-message-root'\n\n  const msgContainer = document.createElement('div');\n  msgContainer.className += ' wui-message-container';\n  msgRoot.appendChild(msgContainer)\n\n  model.on(\"change:message_options\", () => {\n    const options = model.get(\"message_options\");\n    const msg = createMsg(options);\n    msgContainer.appendChild(msg);\n    const {duration = 3000} = options;\n    if (duration > 0) {\n      setTimeout(() => {\n        closeMsg(msg)\n      }, duration);\n    }\n  })\n\n  model.on(\"change:close_msg_id\", () => {\n    const msg_id = model.get(\"close_msg_id\");\n    const msgDom = document.getElementById(msg_id);\n    closeMsg(msgDom);\n  })\n}\n",
       "_model_module": "anywidget",
       "_model_module_version": "0.9.3",
       "_model_name": "AnyModel",
       "_view_module": "anywidget",
       "_view_module_version": "0.9.3",
       "_view_name": "AnyView",
       "close_msg_id": "",
       "layout": "IPY_MODEL_f7672b4bebeb488aba4cd4db63ad2eca",
       "message_options": {
        "duration": 3000,
        "message": "",
        "show_close": false,
        "type": "info"
       }
      }
     },
     "dc5e6e5d0a314b53880524b005415245": {
      "model_module": "@jupyter-widgets/controls",
      "model_module_version": "2.0.0",
      "model_name": "VBoxModel",
      "state": {
       "children": [
        "IPY_MODEL_61f5f728d8674459bbfb1eed3ed40db0"
       ],
       "layout": "IPY_MODEL_dadcfa499be34a8c8c7ceddf333e0494"
      }
     },
     "de0cfc7c9cec475c839b34fd2222aa05": {
      "model_module": "@jupyter-widgets/base",
      "model_module_version": "2.0.0",
      "model_name": "LayoutModel",
      "state": {}
     },
     "e2d38eba26cd4c849f3c930e58f926e3": {
      "model_module": "@jupyter-widgets/base",
      "model_module_version": "2.0.0",
      "model_name": "LayoutModel",
      "state": {}
     },
     "e6af0c3d600041c8a5c5ec74dd5c0dbf": {
      "model_module": "@jupyter-widgets/output",
      "model_module_version": "1.0.0",
      "model_name": "OutputModel",
      "state": {
       "layout": "IPY_MODEL_46624b193b9e4ac0ba8007ee321c67bf",
       "outputs": [
        {
         "data": {
          "application/vnd.jupyter.widget-view+json": {
           "model_id": "dc5e6e5d0a314b53880524b005415245",
           "version_major": 2,
           "version_minor": 0
          },
          "text/plain": "sfc_container(children=(VBox(children=(Text(value='Paul', continuous_update=False, description='custom', style…"
         },
         "metadata": {},
         "output_type": "display_data"
        }
       ]
      }
     },
     "e6fc3adf0a2b46f883c90d6eb1545075": {
      "model_module": "@jupyter-widgets/controls",
      "model_module_version": "2.0.0",
      "model_name": "TextStyleModel",
      "state": {
       "description_width": "",
       "font_size": null,
       "text_color": null
      }
     },
     "ebdbb29067164dbf8e20bbdf2430b155": {
      "model_module": "@jupyter-widgets/controls",
      "model_module_version": "2.0.0",
      "model_name": "VBoxModel",
      "state": {
       "children": [
        "IPY_MODEL_0b8e941c1d77416dbd1ff8c03f057320"
       ],
       "layout": "IPY_MODEL_7091d4bff49746afaf4eab3c63fcdf64"
      }
     },
     "ec57800889114a53b4ced50eceb3f7c2": {
      "model_module": "@jupyter-widgets/controls",
      "model_module_version": "2.0.0",
      "model_name": "TextStyleModel",
      "state": {
       "background": "green",
       "description_width": "",
       "font_size": null,
       "text_color": null
      }
     },
     "ee8d5f04be1843d1a6fe84ecfffafd70": {
      "model_module": "@jupyter-widgets/controls",
      "model_module_version": "2.0.0",
      "model_name": "TextModel",
      "state": {
       "continuous_update": false,
       "layout": "IPY_MODEL_32f2c1f07d9b450e88774cbb65e61ae0",
       "placeholder": "disabled=False",
       "style": "IPY_MODEL_1886e02815214ea1ad0b51f5a722285e"
      }
     },
     "f42c69b93e7141ebb21091f6f48a13b6": {
      "model_module": "@jupyter-widgets/controls",
      "model_module_version": "2.0.0",
      "model_name": "VBoxModel",
      "state": {
       "children": [
        "IPY_MODEL_fed1e4e6193d4e8992b22babaf30ef14"
       ],
       "layout": "IPY_MODEL_452672b3ecf94502a1ac64487e1b6a5e"
      }
     },
     "f7672b4bebeb488aba4cd4db63ad2eca": {
      "model_module": "@jupyter-widgets/base",
      "model_module_version": "2.0.0",
      "model_name": "LayoutModel",
      "state": {}
     },
     "fac9aed2236a447493cbc4d09a56a558": {
      "model_module": "@jupyter-widgets/controls",
      "model_module_version": "2.0.0",
      "model_name": "TextStyleModel",
      "state": {
       "description_width": "",
       "font_size": null,
       "text_color": "red"
      }
     },
     "fed1e4e6193d4e8992b22babaf30ef14": {
      "model_module": "@jupyter-widgets/controls",
      "model_module_version": "2.0.0",
      "model_name": "VBoxModel",
      "state": {
       "children": [
        "IPY_MODEL_b3e1db4704144c269c827f43568fb00c",
        "IPY_MODEL_b3e1db4704144c269c827f43568fb00c",
        "IPY_MODEL_525c1fde135a409c8e797adcfae14cbf"
       ],
       "layout": "IPY_MODEL_825ce3e9e4a946769b4cb3a94fe3d9fa"
      }
     }
    },
    "version_major": 2,
    "version_minor": 0
   }
  }
 },
 "nbformat": 4,
 "nbformat_minor": 5
}