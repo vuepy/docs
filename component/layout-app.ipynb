{
 "cells": [
  {
   "cell_type": "markdown",
   "id": "a1e2fa29-7566-4426-be1e-a750658d83a5",
   "metadata": {},
   "source": [
    "# AppLayout 应用布局\n",
    "\n",
    "用于布局的容器组件，方便快速搭建页面的基本结构：  \n",
    "\n",
    "`<AppLayout>`：外层容器。有`header`，`left_sidebar`，`center`，`right_sider`，`footer`等5个插槽，分别表示顶栏、左侧边栏、主要区域、右侧边栏、底栏。"
   ]
  },
  {
   "cell_type": "markdown",
   "id": "7cdc5e8c-2aa8-41d1-9461-3e451f6ef6ea",
   "metadata": {},
   "source": [
    "## 常见页面布局"
   ]
  },
  {
   "cell_type": "code",
   "execution_count": 1,
   "id": "f5928b17-e8c8-47b0-9774-a8bb1f7e6af3",
   "metadata": {},
   "outputs": [
    {
     "name": "stdout",
     "output_type": "stream",
     "text": [
      "{\"vue\": \"<template>\\n  <AppLayout>\\n    <template v-slot:header>\\n      <Button label=\\\"header\\\" style=\\\"width: auto; height: auto; background-color: #c8e3fe\\\"></Button>\\n    </template>\\n    <template v-slot:center>\\n      <Button style=\\\"width: auto; height: auto; background-color: #ecf5fe\\\"></Button>\\n      <Button label=\\\"center\\\" style=\\\"width: auto; height: auto; background-color: #ecf5fe\\\"></Button>\\n      <Button style=\\\"width: auto; height: auto; background-color: #ecf5fe\\\"></Button>\\n    </template>\\n  </AppLayout>\\n</template>\\n\\n<script setup>\\nimport Button from \\\"../../../src/ipywui/components/Button\\\";\\nimport AppLayout from \\\"../../../src/ipywui/components/AppLayout\\\";\\n</script>\", \"setup\": 0}\n"
     ]
    },
    {
     "data": {
      "application/vnd.jupyter.widget-view+json": {
       "model_id": "8ed76a9573ca42a0b8f84a54ec157b75",
       "version_major": 2,
       "version_minor": 0
      },
      "text/plain": [
       "Document(children=(Dom(children=(MessageWidget(message_options={'message': '', 'type': 'info', 'show_close': F…"
      ]
     },
     "execution_count": 1,
     "metadata": {},
     "output_type": "execute_result"
    }
   ],
   "source": [
    "import os\n",
    "import pathlib\n",
    "from vuepy.utils import magic\n",
    "\n",
    "cur_path = pathlib.Path()\n",
    "source_root = cur_path.absolute().parent.parent.parent\n",
    "os.chdir(source_root / 'examples' / 'ipywui' / 'layout_app')\n",
    "\n",
    "%vuepy_demo layout-hc.vue"
   ]
  },
  {
   "cell_type": "code",
   "execution_count": 2,
   "id": "b04d7eb3-30e1-4ff3-9b40-e2e6b7c48097",
   "metadata": {},
   "outputs": [
    {
     "name": "stdout",
     "output_type": "stream",
     "text": [
      "{\"vue\": \"<template>\\n  <AppLayout>\\n    <template v-slot:header>\\n      <Button label=\\\"header\\\" style=\\\"width: auto; height: auto; background-color: #c8e3fe\\\"></Button>\\n    </template>\\n    <template v-slot:center>\\n      <Button style=\\\"width: auto; height: auto; background-color: #ecf5fe\\\"></Button>\\n      <Button label=\\\"center\\\" style=\\\"width: auto; height: auto; background-color: #ecf5fe\\\"></Button>\\n      <Button style=\\\"width: auto; height: auto; background-color: #ecf5fe\\\"></Button>\\n    </template>\\n    <template v-slot:footer>\\n      <Button label=\\\"footer\\\" style=\\\"width: auto; height: auto; background-color: #c8e3fe\\\"></Button>\\n    </template>\\n  </AppLayout>\\n</template>\\n\\n<script setup>\\nimport Button from \\\"../../../src/ipywui/components/Button\\\";\\nimport AppLayout from \\\"../../../src/ipywui/components/AppLayout\\\";\\n</script>\", \"setup\": 0}\n"
     ]
    },
    {
     "data": {
      "application/vnd.jupyter.widget-view+json": {
       "model_id": "70a1fd869b624cebb078ca62123bc5ff",
       "version_major": 2,
       "version_minor": 0
      },
      "text/plain": [
       "Document(children=(Dom(children=(MessageWidget(message_options={'message': '', 'type': 'info', 'show_close': F…"
      ]
     },
     "execution_count": 2,
     "metadata": {},
     "output_type": "execute_result"
    }
   ],
   "source": [
    "%vuepy_demo layout-hcf.vue"
   ]
  },
  {
   "cell_type": "code",
   "execution_count": 3,
   "id": "5ea865e1-2910-4add-9470-9ce66935a047",
   "metadata": {},
   "outputs": [
    {
     "name": "stdout",
     "output_type": "stream",
     "text": [
      "{\"vue\": \"<template>\\n  <AppLayout>\\n    <template v-slot:left_sidebar>\\n      <Button label=\\\"\\\" style=\\\"width: auto; height: auto; background-color: #c8e3fe\\\"></Button>\\n      <Button label=\\\"left\\\" style=\\\"width: auto; height: auto; background-color: #c8e3fe\\\"></Button>\\n      <Button label=\\\"\\\" style=\\\"width: auto; height: auto; background-color: #c8e3fe\\\"></Button>\\n    </template>\\n    <template v-slot:right_sidebar>\\n      <Button label=\\\"\\\" style=\\\"width: auto; height: auto; background-color: #c8e3fe\\\"></Button>\\n      <Button label=\\\"right\\\" style=\\\"width: auto; height: auto; background-color: #c8e3fe\\\"></Button>\\n      <Button label=\\\"\\\" style=\\\"width: auto; height: auto; background-color: #c8e3fe\\\"></Button>\\n    </template>\\n    <template v-slot:center>\\n      <Button style=\\\"width: auto; height: auto; background-color: #ecf5fe\\\"></Button>\\n      <Button label=\\\"center\\\" style=\\\"width: auto; height: auto; background-color: #ecf5fe\\\"></Button>\\n      <Button style=\\\"width: auto; height: auto; background-color: #ecf5fe\\\"></Button>\\n    </template>\\n  </AppLayout>\\n</template>\\n\\n<script setup>\\nimport Button from \\\"../../../src/ipywui/components/Button\\\";\\nimport AppLayout from \\\"../../../src/ipywui/components/AppLayout\\\";\\n</script>\", \"setup\": 0}\n"
     ]
    },
    {
     "data": {
      "application/vnd.jupyter.widget-view+json": {
       "model_id": "5bdbb50f13ad42808e50e273b4f1ffa4",
       "version_major": 2,
       "version_minor": 0
      },
      "text/plain": [
       "Document(children=(Dom(children=(MessageWidget(message_options={'message': '', 'type': 'info', 'show_close': F…"
      ]
     },
     "execution_count": 3,
     "metadata": {},
     "output_type": "execute_result"
    }
   ],
   "source": [
    "%vuepy_demo layout-lcr.vue"
   ]
  },
  {
   "cell_type": "code",
   "execution_count": 4,
   "id": "b0c87cc5-2233-41a9-a387-9642009b32ac",
   "metadata": {},
   "outputs": [
    {
     "name": "stdout",
     "output_type": "stream",
     "text": [
      "{\"vue\": \"<template>\\n  <AppLayout>\\n    <template v-slot:header>\\n      <Button label=\\\"header\\\" style=\\\"width: auto; height: auto; background-color: #c8e3fe\\\"></Button>\\n    </template>\\n    <template v-slot:left_sidebar>\\n      <Button label=\\\"\\\" style=\\\"width: auto; height: auto; background-color: #dbecfe\\\"></Button>\\n      <Button label=\\\"left\\\" style=\\\"width: auto; height: auto; background-color: #dbecfe\\\"></Button>\\n      <Button label=\\\"\\\" style=\\\"width: auto; height: auto; background-color: #dbecfe\\\"></Button>\\n    </template>\\n    <template v-slot:center>\\n      <Button style=\\\"width: auto; height: auto; background-color: #ecf5fe\\\"></Button>\\n      <Button label=\\\"center\\\" style=\\\"width: auto; height: auto; background-color: #ecf5fe\\\"></Button>\\n      <Button style=\\\"width: auto; height: auto; background-color: #ecf5fe\\\"></Button>\\n    </template>\\n  </AppLayout>\\n</template>\\n\\n<script setup>\\nimport Button from \\\"../../../src/ipywui/components/Button\\\";\\nimport AppLayout from \\\"../../../src/ipywui/components/AppLayout\\\";\\n</script>\", \"setup\": 0}\n"
     ]
    },
    {
     "data": {
      "application/vnd.jupyter.widget-view+json": {
       "model_id": "f73ce4e983b64dacb16a0083c4f44cc2",
       "version_major": 2,
       "version_minor": 0
      },
      "text/plain": [
       "Document(children=(Dom(children=(MessageWidget(message_options={'message': '', 'type': 'info', 'show_close': F…"
      ]
     },
     "execution_count": 4,
     "metadata": {},
     "output_type": "execute_result"
    }
   ],
   "source": [
    "%vuepy_demo layout-hlc.vue"
   ]
  },
  {
   "cell_type": "code",
   "execution_count": 5,
   "id": "e8e49a95-1d51-4433-9355-b7f102e8a9a5",
   "metadata": {},
   "outputs": [
    {
     "name": "stdout",
     "output_type": "stream",
     "text": [
      "{\"vue\": \"<template>\\n  <AppLayout>\\n    <template v-slot:header>\\n      <Button label=\\\"header\\\" style=\\\"width: auto; height: auto; background-color: #c8e3fe\\\"></Button>\\n    </template>\\n    <template v-slot:left_sidebar>\\n      <Button label=\\\"\\\" style=\\\"width: auto; height: auto; background-color: #dbecfe\\\"></Button>\\n      <Button label=\\\"left\\\" style=\\\"width: auto; height: auto; background-color: #dbecfe\\\"></Button>\\n      <Button label=\\\"\\\" style=\\\"width: auto; height: auto; background-color: #dbecfe\\\"></Button>\\n    </template>\\n    <template v-slot:center>\\n      <Button style=\\\"width: auto; height: auto; background-color: #ecf5fe\\\"></Button>\\n      <Button label=\\\"center\\\" style=\\\"width: auto; height: auto; background-color: #ecf5fe\\\"></Button>\\n      <Button style=\\\"width: auto; height: auto; background-color: #ecf5fe\\\"></Button>\\n    </template>\\n    <template v-slot:footer>\\n      <Button label=\\\"footer\\\" style=\\\"width: auto; height: auto; background-color: #c8e3fe\\\"></Button>\\n    </template>\\n  </AppLayout>\\n</template>\\n\\n<script setup>\\nimport Button from \\\"../../../src/ipywui/components/Button\\\";\\nimport AppLayout from \\\"../../../src/ipywui/components/AppLayout\\\";\\n</script>\", \"setup\": 0}\n"
     ]
    },
    {
     "data": {
      "application/vnd.jupyter.widget-view+json": {
       "model_id": "7c0753dff1fd477fb8efee258ce89269",
       "version_major": 2,
       "version_minor": 0
      },
      "text/plain": [
       "Document(children=(Dom(children=(MessageWidget(message_options={'message': '', 'type': 'info', 'show_close': F…"
      ]
     },
     "execution_count": 5,
     "metadata": {},
     "output_type": "execute_result"
    }
   ],
   "source": [
    "%vuepy_demo layout-hlcf.vue"
   ]
  },
  {
   "cell_type": "code",
   "execution_count": 6,
   "id": "aefac00b-059b-4ab0-b472-f0bba5e69db8",
   "metadata": {},
   "outputs": [
    {
     "name": "stdout",
     "output_type": "stream",
     "text": [
      "{\"vue\": \"<template>\\n  <AppLayout>\\n    <template v-slot:header>\\n      <Button label=\\\"header\\\" style=\\\"width: auto; height: auto; background-color: #c8e3fe\\\"></Button>\\n    </template>\\n\\n    <template v-slot:left_sidebar>\\n      <Button label=\\\"\\\" style=\\\"width: auto; height: auto; background-color: #dbecfe\\\"></Button>\\n      <Button label=\\\"left\\\" style=\\\"width: auto; height: auto; background-color: #dbecfe\\\"></Button>\\n      <Button label=\\\"\\\" style=\\\"width: auto; height: auto; background-color: #dbecfe\\\"></Button>\\n      <Button label=\\\"\\\" style=\\\"width: auto; height: auto; background-color: #dbecfe\\\"></Button>\\n    </template>\\n\\n    <template v-slot:center>\\n      <AppLayout>\\n        <template v-slot:center>\\n          <Button style=\\\"width: auto; height: auto; background-color: #ecf5fe\\\"></Button>\\n          <Button label=\\\"center\\\" style=\\\"width: auto; height: auto; background-color: #ecf5fe\\\"></Button>\\n          <Button style=\\\"width: auto; height: auto; background-color: #ecf5fe\\\"></Button>\\n        </template>\\n\\n        <template v-slot:footer>\\n          <Button label=\\\"footer\\\" style=\\\"width: auto; height: auto; background-color: #c8e3fe\\\"></Button>\\n        </template>\\n      </AppLayout>\\n    </template>\\n  </AppLayout>\\n</template>\\n\\n<script setup>\\nimport Button from \\\"../../../src/ipywui/components/Button\\\";\\nimport AppLayout from \\\"../../../src/ipywui/components/AppLayout\\\";\\n</script>\", \"setup\": 0}\n"
     ]
    },
    {
     "data": {
      "application/vnd.jupyter.widget-view+json": {
       "model_id": "2f8a75c709654e6c82fc8a512a5e6afd",
       "version_major": 2,
       "version_minor": 0
      },
      "text/plain": [
       "Document(children=(Dom(children=(MessageWidget(message_options={'message': '', 'type': 'info', 'show_close': F…"
      ]
     },
     "execution_count": 6,
     "metadata": {},
     "output_type": "execute_result"
    }
   ],
   "source": [
    "%vuepy_demo layout-hl-cf.vue"
   ]
  },
  {
   "cell_type": "code",
   "execution_count": 7,
   "id": "c41e06a3-2410-4c43-a342-040b3d4e643d",
   "metadata": {},
   "outputs": [
    {
     "name": "stdout",
     "output_type": "stream",
     "text": [
      "{\"vue\": \"<template>\\n  <AppLayout>\\n    <template v-slot:left_sidebar>\\n      <Button label=\\\"\\\" style=\\\"width: auto; height: auto; background-color: #dbecfe\\\"></Button>\\n      <Button label=\\\"left\\\" style=\\\"width: auto; height: auto; background-color: #dbecfe\\\"></Button>\\n      <Button label=\\\"\\\" style=\\\"width: auto; height: auto; background-color: #dbecfe\\\"></Button>\\n      <Button label=\\\"\\\" style=\\\"width: auto; height: auto; background-color: #dbecfe\\\"></Button>\\n    </template>\\n\\n    <template v-slot:center>\\n      <AppLayout>\\n        <template v-slot:header>\\n          <Button label=\\\"header\\\" style=\\\"width: auto; height: auto; background-color: #c8e3fe\\\"></Button>\\n        </template>\\n        <template v-slot:center>\\n          <Button style=\\\"width: auto; height: auto; background-color: #ecf5fe\\\"></Button>\\n          <Button label=\\\"center\\\" style=\\\"width: auto; height: auto; background-color: #ecf5fe\\\"></Button>\\n          <Button style=\\\"width: auto; height: auto; background-color: #ecf5fe\\\"></Button>\\n        </template>\\n      </AppLayout>\\n    </template>\\n  </AppLayout>\\n</template>\\n\\n<script setup>\\nimport Button from \\\"../../../src/ipywui/components/Button\\\";\\nimport AppLayout from \\\"../../../src/ipywui/components/AppLayout\\\";\\n</script>\", \"setup\": 0}\n"
     ]
    },
    {
     "data": {
      "application/vnd.jupyter.widget-view+json": {
       "model_id": "e926a5e4a5894d168bb10c570907d9da",
       "version_major": 2,
       "version_minor": 0
      },
      "text/plain": [
       "Document(children=(Dom(children=(MessageWidget(message_options={'message': '', 'type': 'info', 'show_close': F…"
      ]
     },
     "execution_count": 7,
     "metadata": {},
     "output_type": "execute_result"
    }
   ],
   "source": [
    "%vuepy_demo layout-l-hc.vue"
   ]
  },
  {
   "cell_type": "code",
   "execution_count": 8,
   "id": "84d0a1d3-ca64-4210-828f-436e29f6e703",
   "metadata": {},
   "outputs": [
    {
     "name": "stdout",
     "output_type": "stream",
     "text": [
      "{\"vue\": \"<template>\\n  <AppLayout>\\n    <template v-slot:left_sidebar>\\n      <Button label=\\\"\\\" style=\\\"width: auto; height: auto; background-color: #dbecfe\\\"></Button>\\n      <Button label=\\\"\\\" style=\\\"width: auto; height: auto; background-color: #dbecfe\\\"></Button>\\n      <Button label=\\\"left\\\" style=\\\"width: auto; height: auto; background-color: #dbecfe\\\"></Button>\\n      <Button label=\\\"\\\" style=\\\"width: auto; height: auto; background-color: #dbecfe\\\"></Button>\\n      <Button label=\\\"\\\" style=\\\"width: auto; height: auto; background-color: #dbecfe\\\"></Button>\\n    </template>\\n\\n    <template v-slot:center>\\n      <AppLayout>\\n        <template v-slot:header>\\n          <Button label=\\\"header\\\" style=\\\"width: auto; height: auto; background-color: #c8e3fe\\\"></Button>\\n        </template>\\n        <template v-slot:center>\\n          <Button style=\\\"width: auto; height: auto; background-color: #ecf5fe\\\"></Button>\\n          <Button label=\\\"center\\\" style=\\\"width: auto; height: auto; background-color: #ecf5fe\\\"></Button>\\n          <Button style=\\\"width: auto; height: auto; background-color: #ecf5fe\\\"></Button>\\n        </template>\\n        <template v-slot:footer>\\n          <Button label=\\\"footer\\\" style=\\\"width: auto; height: auto; background-color: #c8e3fe\\\"></Button>\\n        </template>\\n      </AppLayout>\\n    </template>\\n  </AppLayout>\\n</template>\\n\\n<script setup>\\nimport Button from \\\"../../../src/ipywui/components/Button\\\";\\nimport AppLayout from \\\"../../../src/ipywui/components/AppLayout\\\";\\n</script>\", \"setup\": 0}\n"
     ]
    },
    {
     "data": {
      "application/vnd.jupyter.widget-view+json": {
       "model_id": "6ff10b65cd8343b387d2958d663bca11",
       "version_major": 2,
       "version_minor": 0
      },
      "text/plain": [
       "Document(children=(Dom(children=(MessageWidget(message_options={'message': '', 'type': 'info', 'show_close': F…"
      ]
     },
     "execution_count": 8,
     "metadata": {},
     "output_type": "execute_result"
    }
   ],
   "source": [
    "%vuepy_demo layout-l-hcf.vue"
   ]
  },
  {
   "cell_type": "markdown",
   "id": "12c2efad-b30b-4a2e-903b-67624ab3ae76",
   "metadata": {},
   "source": [
    "## 自定义面板宽高\n",
    "\n",
    "您还可以使用 `pane_widths` 和 `pane_heights` 参数修改窗格的相对和绝对宽度和高度。两者都接受三个元素的序列，每个元素要么是整数（相当于赋予行/列的权重），要么是格式为 `'1fr'` （与整数相同）或 `'100px'`。"
   ]
  },
  {
   "cell_type": "code",
   "execution_count": 9,
   "id": "fe202d82-29c7-4fe7-adfd-0118cd6ca18c",
   "metadata": {},
   "outputs": [
    {
     "name": "stdout",
     "output_type": "stream",
     "text": [
      "{\"vue\": \"<template>\\n  <AppLayout :pane_widths=\\\"['100px', 1, 1]\\\" :pane_heights=\\\"[1, 5, '60px']\\\">\\n    <template v-slot:header>\\n      <Button label=\\\"header\\\" style=\\\"width: auto; height: auto; background-color: #c8e3fe\\\"></Button>\\n    </template>\\n    <template v-slot:left_sidebar>\\n      <Button label=\\\"\\\" style=\\\"width: auto; height: auto; background-color: #dbecfe\\\"></Button>\\n      <Button label=\\\"\\\" style=\\\"width: auto; height: auto; background-color: #dbecfe\\\"></Button>\\n      <Button label=\\\"left\\\" style=\\\"width: auto; height: auto; background-color: #dbecfe\\\"></Button>\\n      <Button label=\\\"\\\" style=\\\"width: auto; height: auto; background-color: #dbecfe\\\"></Button>\\n      <Button label=\\\"\\\" style=\\\"width: auto; height: auto; background-color: #dbecfe\\\"></Button>\\n    </template>\\n    <template v-slot:right_sidebar>\\n      <Button label=\\\"\\\" style=\\\"width: auto; height: auto; background-color: #dbecfe\\\"></Button>\\n      <Button label=\\\"\\\" style=\\\"width: auto; height: auto; background-color: #dbecfe\\\"></Button>\\n      <Button label=\\\"right\\\" style=\\\"width: auto; height: auto; background-color: #dbecfe\\\"></Button>\\n      <Button label=\\\"\\\" style=\\\"width: auto; height: auto; background-color: #dbecfe\\\"></Button>\\n      <Button label=\\\"\\\" style=\\\"width: auto; height: auto; background-color: #dbecfe\\\"></Button>\\n    </template>\\n    <template v-slot:center>\\n      <Button style=\\\"width: auto; height: auto; background-color: #ecf5fe\\\"></Button>\\n      <Button style=\\\"width: auto; height: auto; background-color: #ecf5fe\\\"></Button>\\n      <Button label=\\\"center\\\" style=\\\"width: auto; height: auto; background-color: #ecf5fe\\\"></Button>\\n      <Button style=\\\"width: auto; height: auto; background-color: #ecf5fe\\\"></Button>\\n      <Button style=\\\"width: auto; height: auto; background-color: #ecf5fe\\\"></Button>\\n    </template>\\n    <template v-slot:footer>\\n      <Button label=\\\"footer\\\" style=\\\"width: auto; height: auto; background-color: #c8e3fe\\\"></Button>\\n      <Button label=\\\"\\\" style=\\\"width: auto; height: auto; background-color: #c8e3fe\\\"></Button>\\n    </template>\\n  </AppLayout>\\n</template>\\n\\n<script setup>\\nimport Button from \\\"../../../src/ipywui/components/Button\\\";\\nimport AppLayout from \\\"../../../src/ipywui/components/AppLayout\\\";\\n</script>\", \"setup\": 0}\n"
     ]
    },
    {
     "data": {
      "application/vnd.jupyter.widget-view+json": {
       "model_id": "616249d51f444b34b6f6c0684b3165e0",
       "version_major": 2,
       "version_minor": 0
      },
      "text/plain": [
       "Document(children=(Dom(children=(MessageWidget(message_options={'message': '', 'type': 'info', 'show_close': F…"
      ]
     },
     "execution_count": 9,
     "metadata": {},
     "output_type": "execute_result"
    }
   ],
   "source": [
    "%vuepy_demo custom.vue"
   ]
  },
  {
   "cell_type": "markdown",
   "id": "8685d144-029f-4afa-8547-4f3d84529504",
   "metadata": {},
   "source": [
    "## AppLayout API\n",
    "\n",
    "### AppLayout 属性\n",
    "\n",
    "| 属性名        | 说明                 | 类型                                                           | 默认值 |\n",
    "| --------     | ------------------- | ---------------------------------------------------------------| ------- |\n",
    "| width        | 容器宽                 | ^[str]                                                         | -       |\n",
    "| height       | 容器高                 | ^[str]                                                         | -       |\n",
    "| pane_widths   | (左侧边栏，主要区域，右侧边栏)的绝对或相对宽度                 | ^[str]                                                         | -       |\n",
    "| pane_heights   | (顶栏，主要区域，底栏)的绝对或相对高度                 | ^[str]                                                         | -       |\n",
    "| gutter（保留参数）       | 栅格间隔, css flex布局下的 gride-gap  | ^[str]                                              | -       |\n",
    "| justify（保留参数） | css flex布局下的水平排列方式  | ^[enum]`'start' \\| 'end' \\| 'center' \\| 'space-around' \\| 'space-between' \\| 'space-evenly'` | start   |\n",
    "| align（保留参数）   | css flex布局下的垂直排列方式 | ^[enum]`'top' \\| 'middle' \\| 'bottom'`                                                       | —       |\n",
    "| style        | 自定义css样式        | ^[str]                                                         | -       |\n",
    "\n",
    "::: tip\n",
    "\n",
    "**style 支持的其它css属性**\n",
    "\n",
    "Sizes相关\n",
    "* height\n",
    "* width\n",
    "* max_height\n",
    "* max_width\n",
    "* min_height\n",
    "* min_width\n",
    "\n",
    "Display相关\n",
    "* visibility\n",
    "* display\n",
    "* overflow\n",
    "\n",
    "Box model相关\n",
    "* border\n",
    "* margin\n",
    "* padding\n",
    "\n",
    "Positioning相关\n",
    "* top\n",
    "* left\n",
    "* bottom\n",
    "* right\n",
    "\n",
    ":::\n",
    "\n",
    "### AppLayout Slots\n",
    "\n",
    "| 插槽名   | 说明               | 子标签 |\n",
    "| ---     | ---               | --- |\n",
    "| header |  顶栏自定义内容 |  |\n",
    "| left_sidebar | 左侧边栏自定义内容      | |\n",
    "| right_sidebar | 右侧边栏自定义内容      | |\n",
    "| center | 主要区域自定义内容      | |\n",
    "| footer | 底栏自定义内容      | |\n",
    "\n",
    "### AppLayout 方法\n",
    "\n",
    "| 属性名 | 说明 | 类型 |\n",
    "| --- | --- | --- |\n"
   ]
  }
 ],
 "metadata": {
  "kernelspec": {
   "display_name": "Python 3 (ipykernel)",
   "language": "python",
   "name": "python3"
  },
  "language_info": {
   "codemirror_mode": {
    "name": "ipython",
    "version": 3
   },
   "file_extension": ".py",
   "mimetype": "text/x-python",
   "name": "python",
   "nbconvert_exporter": "python",
   "pygments_lexer": "ipython3",
   "version": "3.10.12"
  },
  "widgets": {
   "application/vnd.jupyter.widget-state+json": {
    "state": {
     "01051b95eadb4612b74f3190a0b9b11e": {
      "model_module": "@jupyter-widgets/base",
      "model_module_version": "2.0.0",
      "model_name": "LayoutModel",
      "state": {}
     },
     "01210e3330c449df9cf290aba365cdc4": {
      "model_module": "@jupyter-widgets/base",
      "model_module_version": "2.0.0",
      "model_name": "LayoutModel",
      "state": {}
     },
     "012f3ae3859b49689e6dba1ebe704c97": {
      "model_module": "@jupyter-widgets/controls",
      "model_module_version": "2.0.0",
      "model_name": "ButtonStyleModel",
      "state": {
       "button_color": "#dbecfe",
       "font_family": null,
       "font_size": null,
       "font_style": null,
       "font_variant": null,
       "font_weight": null,
       "text_color": null,
       "text_decoration": null
      }
     },
     "02f9ab8087f84d658d0aa787d7822be9": {
      "model_module": "@jupyter-widgets/controls",
      "model_module_version": "2.0.0",
      "model_name": "ButtonStyleModel",
      "state": {
       "button_color": "#ecf5fe",
       "font_family": null,
       "font_size": null,
       "font_style": null,
       "font_variant": null,
       "font_weight": null,
       "text_color": null,
       "text_decoration": null
      }
     },
     "035005d5565d432297a85322a72eb1c6": {
      "model_module": "anywidget",
      "model_module_version": "0.9.3",
      "model_name": "AnyModel",
      "state": {
       "_anywidget_id": "ipywui.widgets.custom.message.MessageWidget",
       "_css": ".wui-message-root {\n    display: flex;\n    position: absolute;\n    left: 0;\n    right: 0;\n    top: 0;\n}\n\n.wui-message-container {\n    align-items: center;\n    display: flex;\n    flex-direction: column-reverse;\n    justify-content: center;\n    min-height: 100%;\n    outline: none;\n    width: 100%;\n\n    -webkit-tap-highlight-color: rgba(0,0,0,0);\n    bottom: 0;\n    left: 0;\n    right: 0;\n    top: 0;\n}\n\n.wui-message--success {\n    --wui-message-bg-color: #f0f9eb;\n    --wui-message-border-color: #e1f3d8;\n    --wui-message-text-color: #67c23a;\n}\n.wui-message--warning {\n    --wui-message-bg-color: #fdf6ec;\n    --wui-message-border-color: #faecd8;\n    --wui-message-text-color: #e6a23c;\n}\n.wui-message--info {\n    --wui-message-bg-color: #f4f4f5;\n    --wui-message-border-color: #e9e9eb;\n    --wui-message-text-color: #909399;\n}\n.wui-message--error {\n    --wui-message-bg-color: #fef0f0;\n    --wui-message-border-color: #fde2e2;\n    --wui-message-text-color: #f56c6c;\n}\n\n@keyframes msg-open {\n    0% {\n        opacity: 0;\n        -webkit-transform: translateY(-120%);\n        transform: translateY(-120%)\n    }\n    to {\n        -webkit-transform: translateY(0);\n        transform: translateY(0)\n    }\n}\n\n@keyframes msg-close {\n    0% {\n        opacity: 1;\n        -webkit-transform: scale(1);\n        transform: scale(1)\n    }\n    to {\n        opacity: 0;\n        -webkit-transform: scale(.9);\n        transform: scale(.9)\n    }\n}\n.wui-message[data-state=entered],.wui-message[data-state=entering] {\n    -webkit-animation: msg-open .24s cubic-bezier(.175,.885,.32,1.175) both;\n    animation: msg-open .24s cubic-bezier(.175,.885,.32,1.175) both\n}\n\n.wui-message[data-state=exiting] {\n    -webkit-animation: msg-close .12s cubic-bezier(.4,0,1,1) both;\n    animation: msg-close .12s cubic-bezier(.4,0,1,1) both\n}\n\n.wui-message {\n    width: -webkit-fit-content;\n    width: -moz-fit-content;\n    width: fit-content;\n    z-index: 2004;\n    max-width: calc(100% - 32px);\n    margin-top: 8px;\n    box-sizing: border-box;\n    /*border-radius: var(--wui-border-radius-base);*/\n    /*border-width: var(--wui-border-width);*/\n    /*border-style: var(--wui-border-style);*/\n    border-color: var(--wui-message-border-color);\n    /*left: 50%;*/\n    /*top: 20px;*/\n    /*transform: translateX(-50%);*/\n    background-color: var(--wui-message-bg-color);\n    /*transition: opacity var(--wui-transition-duration),transform .4s,top .4s;*/\n    /*padding: var(--wui-message-padding);*/\n    display: flex;\n    align-items: center;\n}\n\n/*.wui-message--success */\n.wui-message__content {\n    color: var(--wui-message-text-color);\n    font-size: 14px;\n    line-height: 18px;\n    margin: 10px 14px 10px 14px;\n    overflow-wrap: break-word;\n}\n\n.wui-message__closeBtn {\n    /*cursor: pointer;*/\n    font-style: normal;\n    /*color: gray;*/\n    padding-right: 14px;\n    /*font-size: 13px;*/\n    user-select: none;\n\n    background: transparent;\n    border: none;\n    color: gray;\n    cursor: pointer;\n    font-size: 13px;\n    font-weight: 400;\n    line-height: 1;\n    outline: none;\n    /*padding: 4px;*/\n    text-align: center;\n    transition: opacity .3s;\n    /*width: 100%;*/\n}",
       "_esm": "function closeMsg(msgDom) {\n  if (!msgDom) {\n    return;\n  }\n  msgDom.setAttribute('data-state', 'exiting');\n  msgDom.remove();\n}\n\nfunction createMsg(options) {\n  const {message, msg_id, type = 'info', show_close = false} = options;\n  const msgDom = document.createElement('div');\n  msgDom.className += ` wui-message--${type} wui-message`;\n  msgDom.setAttribute('data-state', 'entered');\n  msgDom.setAttribute('id', msg_id);\n  const msgContent = document.createElement('p');\n  msgContent.className += ` wui-message--${type} wui-message__content`;\n  msgContent.innerText = message;\n  msgDom.appendChild(msgContent);\n  if (show_close) {\n    const closeBtn = document.createElement('i');\n    closeBtn.className += 'wui-message__closeBtn';\n    closeBtn.innerText = 'x';\n    closeBtn.addEventListener('click', (ev) => {\n      closeMsg(msgDom);\n    })\n    msgDom.appendChild(closeBtn);\n  }\n  return msgDom;\n}\n\nexport async function render(view) {\n  let model = view.model;\n  const msgRoot = view.el;\n  msgRoot.className += ' wui-message-root'\n\n  const msgContainer = document.createElement('div');\n  msgContainer.className += ' wui-message-container';\n  msgRoot.appendChild(msgContainer)\n\n  model.on(\"change:message_options\", () => {\n    const options = model.get(\"message_options\");\n    const msg = createMsg(options);\n    msgContainer.appendChild(msg);\n    const {duration = 3000} = options;\n    if (duration > 0) {\n      setTimeout(() => {\n        closeMsg(msg)\n      }, duration);\n    }\n  })\n\n  model.on(\"change:close_msg_id\", () => {\n    const msg_id = model.get(\"close_msg_id\");\n    const msgDom = document.getElementById(msg_id);\n    closeMsg(msgDom);\n  })\n}\n",
       "_model_module": "anywidget",
       "_model_module_version": "0.9.3",
       "_model_name": "AnyModel",
       "_view_module": "anywidget",
       "_view_module_version": "0.9.3",
       "_view_name": "AnyView",
       "close_msg_id": "",
       "layout": "IPY_MODEL_db5d157025fb4517a3d7b932cabd5370",
       "message_options": {
        "duration": 3000,
        "message": "",
        "show_close": false,
        "type": "info"
       }
      }
     },
     "03630f7786a8485cac377a07f77dd661": {
      "model_module": "@jupyter-widgets/controls",
      "model_module_version": "2.0.0",
      "model_name": "VBoxModel",
      "state": {
       "children": [
        "IPY_MODEL_50f81fe3f87c466c8c4ce7f6125ba47d",
        "IPY_MODEL_63cf48a544cc45a2a2cc972819df4111",
        "IPY_MODEL_50f254bdc604440a99e8141bb492cb51"
       ],
       "layout": "IPY_MODEL_c509552dd5e041b094337802fd9af43f"
      }
     },
     "03a1043f585148ef82930e91ba50d3fc": {
      "model_module": "@jupyter-widgets/controls",
      "model_module_version": "2.0.0",
      "model_name": "GridBoxModel",
      "state": {
       "children": [
        "IPY_MODEL_b9e11443d9e44e82b5d616454ce98a87",
        "IPY_MODEL_2079d1be9a09432dbab3e1dd11b56ffe",
        "IPY_MODEL_3d7904c8a5ea4d8ca0c1c853ae2b94df"
       ],
       "layout": "IPY_MODEL_c43a0de2333e4eec8e5d911dc6a8aceb"
      }
     },
     "03ec9424eebe4a2c8d248000de1306ca": {
      "model_module": "@jupyter-widgets/controls",
      "model_module_version": "2.0.0",
      "model_name": "ButtonModel",
      "state": {
       "layout": "IPY_MODEL_3b447c94bf0b4389ad4c0c7cc6349fb6",
       "style": "IPY_MODEL_5b9644028885457c9c18a892d761574d",
       "tooltip": null
      }
     },
     "048fd5257c1943aa867dbeb4ac1f2799": {
      "model_module": "@jupyter-widgets/controls",
      "model_module_version": "2.0.0",
      "model_name": "GridBoxModel",
      "state": {
       "children": [
        "IPY_MODEL_915b8d9d17b34e78bef577497efa81c3",
        "IPY_MODEL_b5325384aa5747b098d22cce914e957d",
        "IPY_MODEL_e8454fae2b00486193248ab9600ec18f"
       ],
       "layout": "IPY_MODEL_32431af3dc0247bca608093f0bde7ac7"
      }
     },
     "053044c0e45a4999bf1fd1ed04c41e8e": {
      "model_module": "@jupyter-widgets/output",
      "model_module_version": "1.0.0",
      "model_name": "OutputModel",
      "state": {
       "layout": "IPY_MODEL_561fe8138db443c093d6cc3351902f31",
       "outputs": [
        {
         "data": {
          "application/vnd.jupyter.widget-view+json": {
           "model_id": "caf5b71b9be04a03817737c0bd68b675",
           "version_major": 2,
           "version_minor": 0
          },
          "text/plain": "sfc_container(children=(AppLayout(children=(VBox(children=(Button(layout=Layout(height='auto', width='auto'), …"
         },
         "metadata": {},
         "output_type": "display_data"
        }
       ]
      }
     },
     "05ca36e816104a92b028a422c8dc498e": {
      "model_module": "@jupyter-widgets/base",
      "model_module_version": "2.0.0",
      "model_name": "LayoutModel",
      "state": {
       "height": "auto",
       "width": "auto"
      }
     },
     "05f98ff905fe483ca553a6c2e783e023": {
      "model_module": "@jupyter-widgets/controls",
      "model_module_version": "2.0.0",
      "model_name": "ButtonStyleModel",
      "state": {
       "button_color": "#dbecfe",
       "font_family": null,
       "font_size": null,
       "font_style": null,
       "font_variant": null,
       "font_weight": null,
       "text_color": null,
       "text_decoration": null
      }
     },
     "07618eb9b926401195d35b9bd9fffce2": {
      "model_module": "@jupyter-widgets/base",
      "model_module_version": "2.0.0",
      "model_name": "LayoutModel",
      "state": {
       "height": "auto",
       "width": "auto"
      }
     },
     "07afb851be3e4708bec08bfbef0734e6": {
      "model_module": "@jupyter-widgets/base",
      "model_module_version": "2.0.0",
      "model_name": "LayoutModel",
      "state": {
       "height": "auto",
       "width": "auto"
      }
     },
     "07da4b1a263f4cfb81e7e702871166a3": {
      "model_module": "@jupyter-widgets/controls",
      "model_module_version": "2.0.0",
      "model_name": "VBoxModel",
      "state": {
       "children": [
        "IPY_MODEL_216cda3140aa4f4b9ba05168db596e59",
        "IPY_MODEL_56ceb4e7ed6545309399227ec6d636be",
        "IPY_MODEL_c6b646d40b26417b8fc91f1dc92a5c75",
        "IPY_MODEL_32a6932b9f674efdbe6c672829449b03",
        "IPY_MODEL_63503c6467864741a5892b98e243f3b4"
       ],
       "layout": "IPY_MODEL_e8d18323142e44d4a8de9626dcd16851"
      }
     },
     "07eb024bd199407287fa1c46ddc424f9": {
      "model_module": "@jupyter-widgets/base",
      "model_module_version": "2.0.0",
      "model_name": "LayoutModel",
      "state": {
       "grid_area": "footer"
      }
     },
     "089096aa12254821a1487ce241863761": {
      "model_module": "@jupyter-widgets/controls",
      "model_module_version": "2.0.0",
      "model_name": "ButtonStyleModel",
      "state": {
       "button_color": "#ecf5fe",
       "font_family": null,
       "font_size": null,
       "font_style": null,
       "font_variant": null,
       "font_weight": null,
       "text_color": null,
       "text_decoration": null
      }
     },
     "08db0a2b959f45d89270b4aac26d96dc": {
      "model_module": "@jupyter-widgets/base",
      "model_module_version": "2.0.0",
      "model_name": "LayoutModel",
      "state": {}
     },
     "09e62256440840068cdebc6a9b981c04": {
      "model_module": "@jupyter-widgets/base",
      "model_module_version": "2.0.0",
      "model_name": "LayoutModel",
      "state": {
       "grid_area": "header"
      }
     },
     "09e9acdc5a4a4193bc01b81959cf6c8c": {
      "model_module": "@jupyter-widgets/base",
      "model_module_version": "2.0.0",
      "model_name": "LayoutModel",
      "state": {}
     },
     "0a5a49142316433a9626b353bb1404a5": {
      "model_module": "@jupyter-widgets/base",
      "model_module_version": "2.0.0",
      "model_name": "LayoutModel",
      "state": {
       "grid_area": "center"
      }
     },
     "0c45036c2b084366871ef9fee3d805f2": {
      "model_module": "@jupyter-widgets/base",
      "model_module_version": "2.0.0",
      "model_name": "LayoutModel",
      "state": {
       "height": "auto",
       "width": "auto"
      }
     },
     "0ca088fa300e4c5cac4c18fb9d1fb6ca": {
      "model_module": "@jupyter-widgets/base",
      "model_module_version": "2.0.0",
      "model_name": "LayoutModel",
      "state": {}
     },
     "0d646604ece543d8a4cc9a01e51acc83": {
      "model_module": "@jupyter-widgets/controls",
      "model_module_version": "2.0.0",
      "model_name": "VBoxModel",
      "state": {
       "children": [
        "IPY_MODEL_f8e3a9f97d8d4531ac4a67280fe3ac43"
       ],
       "layout": "IPY_MODEL_0fcf96ea13b54ff8b5f44f9e80701a8c"
      }
     },
     "0d954b3f3ee9482db473ab3cd0cd61eb": {
      "model_module": "@jupyter-widgets/base",
      "model_module_version": "2.0.0",
      "model_name": "LayoutModel",
      "state": {
       "height": "auto",
       "width": "auto"
      }
     },
     "0e26758e055a4947aa96bb7c17ec3a5e": {
      "model_module": "@jupyter-widgets/base",
      "model_module_version": "2.0.0",
      "model_name": "LayoutModel",
      "state": {
       "height": "auto",
       "width": "auto"
      }
     },
     "0e670d36b99d4198b630d43d316acb98": {
      "model_module": "@jupyter-widgets/controls",
      "model_module_version": "2.0.0",
      "model_name": "ButtonModel",
      "state": {
       "layout": "IPY_MODEL_6231e9c6b4314fae88128e79677b551c",
       "style": "IPY_MODEL_aebb0f3fdc004c2097ae507c5482850e",
       "tooltip": null
      }
     },
     "0eed682c93434b27bcba760b7f4ad8a9": {
      "model_module": "@jupyter-widgets/controls",
      "model_module_version": "2.0.0",
      "model_name": "ButtonModel",
      "state": {
       "description": "header",
       "layout": "IPY_MODEL_05ca36e816104a92b028a422c8dc498e",
       "style": "IPY_MODEL_202d666b9d5e4c5d9bc8ec5765790f19",
       "tooltip": null
      }
     },
     "0efe3a4dcfe941628c9b218f542451e1": {
      "model_module": "@jupyter-widgets/base",
      "model_module_version": "2.0.0",
      "model_name": "LayoutModel",
      "state": {}
     },
     "0fcf96ea13b54ff8b5f44f9e80701a8c": {
      "model_module": "@jupyter-widgets/base",
      "model_module_version": "2.0.0",
      "model_name": "LayoutModel",
      "state": {
       "grid_area": "header"
      }
     },
     "114802568410419199f706b6c6606315": {
      "model_module": "@jupyter-widgets/base",
      "model_module_version": "2.0.0",
      "model_name": "LayoutModel",
      "state": {
       "height": "auto",
       "width": "auto"
      }
     },
     "1282eff27a204331bc2b823bd8b8727e": {
      "model_module": "@jupyter-widgets/base",
      "model_module_version": "2.0.0",
      "model_name": "LayoutModel",
      "state": {
       "height": "auto",
       "width": "auto"
      }
     },
     "13123824a24c4fe4b62bd42e4ea43f2d": {
      "model_module": "@jupyter-widgets/controls",
      "model_module_version": "2.0.0",
      "model_name": "ButtonStyleModel",
      "state": {
       "button_color": "#c8e3fe",
       "font_family": null,
       "font_size": null,
       "font_style": null,
       "font_variant": null,
       "font_weight": null,
       "text_color": null,
       "text_decoration": null
      }
     },
     "140e90d68f804c019800bd35d0c9bd76": {
      "model_module": "@jupyter-widgets/base",
      "model_module_version": "2.0.0",
      "model_name": "LayoutModel",
      "state": {}
     },
     "170127793fa148c0b6d58a6505dbb931": {
      "model_module": "@jupyter-widgets/controls",
      "model_module_version": "2.0.0",
      "model_name": "ButtonModel",
      "state": {
       "description": "center",
       "layout": "IPY_MODEL_b3073463ed7e4114b3699b0161ae4045",
       "style": "IPY_MODEL_80153fe03f1940148f3cde44cdfe3469",
       "tooltip": null
      }
     },
     "18818808acbb4c18922fd5587c9122f7": {
      "model_module": "@jupyter-widgets/controls",
      "model_module_version": "2.0.0",
      "model_name": "ButtonModel",
      "state": {
       "description": "center",
       "layout": "IPY_MODEL_ee4d99b72c224bd2b99c291e5475dd7a",
       "style": "IPY_MODEL_6422099053084583a6e4077e773b9906",
       "tooltip": null
      }
     },
     "19c502629cf94491b26626f530022f7c": {
      "model_module": "@jupyter-widgets/base",
      "model_module_version": "2.0.0",
      "model_name": "LayoutModel",
      "state": {
       "height": "auto",
       "width": "auto"
      }
     },
     "1d9dd3143b9d45dbbf4b960bf5b71615": {
      "model_module": "@jupyter-widgets/controls",
      "model_module_version": "2.0.0",
      "model_name": "ButtonModel",
      "state": {
       "layout": "IPY_MODEL_ab0530ea2d8748faabb9373e8aac5201",
       "style": "IPY_MODEL_9de57a9571624401b5ca1625ec94959c",
       "tooltip": null
      }
     },
     "1e48bee2b88e441ca55a5a22d1e2874a": {
      "model_module": "@jupyter-widgets/controls",
      "model_module_version": "2.0.0",
      "model_name": "ButtonStyleModel",
      "state": {
       "button_color": "#ecf5fe",
       "font_family": null,
       "font_size": null,
       "font_style": null,
       "font_variant": null,
       "font_weight": null,
       "text_color": null,
       "text_decoration": null
      }
     },
     "1ef741ce985f4013ac1135e81a359819": {
      "model_module": "@jupyter-widgets/base",
      "model_module_version": "2.0.0",
      "model_name": "LayoutModel",
      "state": {
       "grid_area": "header"
      }
     },
     "1f5749cef6284cb7bfcdd9bd36dbf382": {
      "model_module": "@jupyter-widgets/base",
      "model_module_version": "2.0.0",
      "model_name": "LayoutModel",
      "state": {
       "height": "auto",
       "width": "auto"
      }
     },
     "1f6c062076244e528f9989bac79e1f4e": {
      "model_module": "@jupyter-widgets/controls",
      "model_module_version": "2.0.0",
      "model_name": "GridBoxModel",
      "state": {
       "children": [
        "IPY_MODEL_28fcc19dacf54efaaa9c3fd11c404a31",
        "IPY_MODEL_d4061d3d3cfb437484c14448ce489de0",
        "IPY_MODEL_20e2ab7410664d889e6fbb56f60da5bc"
       ],
       "layout": "IPY_MODEL_694b2f3eab7c4351bff3ea198ff26d0d"
      }
     },
     "202d666b9d5e4c5d9bc8ec5765790f19": {
      "model_module": "@jupyter-widgets/controls",
      "model_module_version": "2.0.0",
      "model_name": "ButtonStyleModel",
      "state": {
       "button_color": "#c8e3fe",
       "font_family": null,
       "font_size": null,
       "font_style": null,
       "font_variant": null,
       "font_weight": null,
       "text_color": null,
       "text_decoration": null
      }
     },
     "2079d1be9a09432dbab3e1dd11b56ffe": {
      "model_module": "@jupyter-widgets/controls",
      "model_module_version": "2.0.0",
      "model_name": "VBoxModel",
      "state": {
       "children": [
        "IPY_MODEL_b2845bd1b7b04b4ca4f426dc89ef2135",
        "IPY_MODEL_f867dc20dd5e441ab3e2155b8bf896da",
        "IPY_MODEL_f4abde9562364a0c9d10a1a5901fab99"
       ],
       "layout": "IPY_MODEL_ab2bf59890aa431ab15139bcd38dc2ee"
      }
     },
     "20e2ab7410664d889e6fbb56f60da5bc": {
      "model_module": "@jupyter-widgets/controls",
      "model_module_version": "2.0.0",
      "model_name": "VBoxModel",
      "state": {
       "children": [
        "IPY_MODEL_9e1fcf776d1e47afbc006dccf5b1ac6b"
       ],
       "layout": "IPY_MODEL_cdcc30efafbb41a1aec5a81dfcd3cc4f"
      }
     },
     "2107f692957846ceb2044b1235b03f5f": {
      "model_module": "@jupyter-widgets/controls",
      "model_module_version": "2.0.0",
      "model_name": "ButtonModel",
      "state": {
       "description": "header",
       "layout": "IPY_MODEL_d14cf259a5f4411d9e3f8608326006e2",
       "style": "IPY_MODEL_13123824a24c4fe4b62bd42e4ea43f2d",
       "tooltip": null
      }
     },
     "216cda3140aa4f4b9ba05168db596e59": {
      "model_module": "@jupyter-widgets/controls",
      "model_module_version": "2.0.0",
      "model_name": "ButtonModel",
      "state": {
       "layout": "IPY_MODEL_fbf9b233e2304968b71a3806bffe0fdf",
       "style": "IPY_MODEL_5cdb035b8a0f41b8810c4b57d55119f5",
       "tooltip": null
      }
     },
     "21b5a6f9a73c4267b8f9206b9c6fc2bf": {
      "model_module": "@jupyter-widgets/base",
      "model_module_version": "2.0.0",
      "model_name": "LayoutModel",
      "state": {
       "grid_area": "center"
      }
     },
     "22679eaca1cb4e24b96cd5feaf45c215": {
      "model_module": "@jupyter-widgets/base",
      "model_module_version": "2.0.0",
      "model_name": "LayoutModel",
      "state": {
       "height": "auto",
       "width": "auto"
      }
     },
     "2279eeb241114a0eac59e76e8a5ff675": {
      "model_module": "@jupyter-widgets/base",
      "model_module_version": "2.0.0",
      "model_name": "LayoutModel",
      "state": {
       "grid_template_areas": "\"header header header\"\n\"center center center\"",
       "grid_template_columns": "1fr 2fr 1fr",
       "grid_template_rows": "1fr 3fr"
      }
     },
     "228cb5f329f640f5b4de0c1c7d98c5b3": {
      "model_module": "@jupyter-widgets/controls",
      "model_module_version": "2.0.0",
      "model_name": "ButtonModel",
      "state": {
       "description": "footer",
       "layout": "IPY_MODEL_53b96b3f91464c1fb184f6ab3eac69ba",
       "style": "IPY_MODEL_26607548594846fa90277e9e04fd46eb",
       "tooltip": null
      }
     },
     "2361b406a69a4a72bcc8c29d5c88ca2f": {
      "model_module": "@jupyter-widgets/controls",
      "model_module_version": "2.0.0",
      "model_name": "ButtonModel",
      "state": {
       "description": "center",
       "layout": "IPY_MODEL_22679eaca1cb4e24b96cd5feaf45c215",
       "style": "IPY_MODEL_9ca7ba0f1c7f412d88aef7fc83085adb",
       "tooltip": null
      }
     },
     "23b0ebcb8c6f4b19abbff836c8142656": {
      "model_module": "@jupyter-widgets/controls",
      "model_module_version": "2.0.0",
      "model_name": "ButtonModel",
      "state": {
       "layout": "IPY_MODEL_942c67c241034ebc9d8710288c59218e",
       "style": "IPY_MODEL_38fb6864fa5e4e0089dcb5b622b8f3ba",
       "tooltip": null
      }
     },
     "23c56201ead347d9b974b44758e8748c": {
      "model_module": "@jupyter-widgets/controls",
      "model_module_version": "2.0.0",
      "model_name": "ButtonModel",
      "state": {
       "description": "header",
       "layout": "IPY_MODEL_0d954b3f3ee9482db473ab3cd0cd61eb",
       "style": "IPY_MODEL_b23f69d609d9491a8d79e40ce31f75df",
       "tooltip": null
      }
     },
     "245b06d334c945a2874d4e412a331fb4": {
      "model_module": "@jupyter-widgets/controls",
      "model_module_version": "2.0.0",
      "model_name": "VBoxModel",
      "state": {
       "children": [
        "IPY_MODEL_3e08f749bc8e487584ea29efbef52756",
        "IPY_MODEL_170127793fa148c0b6d58a6505dbb931",
        "IPY_MODEL_a50c0642db924d5890fb93f12aeccc7b"
       ],
       "layout": "IPY_MODEL_0a5a49142316433a9626b353bb1404a5"
      }
     },
     "2504e8c5a5694184be72b15ce12f362a": {
      "model_module": "@jupyter-widgets/base",
      "model_module_version": "2.0.0",
      "model_name": "LayoutModel",
      "state": {
       "grid_area": "left-sidebar"
      }
     },
     "255eebccbf3e4aeca5fa8956ae9ef714": {
      "model_module": "@jupyter-widgets/controls",
      "model_module_version": "2.0.0",
      "model_name": "ButtonStyleModel",
      "state": {
       "button_color": "#dbecfe",
       "font_family": null,
       "font_size": null,
       "font_style": null,
       "font_variant": null,
       "font_weight": null,
       "text_color": null,
       "text_decoration": null
      }
     },
     "26607548594846fa90277e9e04fd46eb": {
      "model_module": "@jupyter-widgets/controls",
      "model_module_version": "2.0.0",
      "model_name": "ButtonStyleModel",
      "state": {
       "button_color": "#c8e3fe",
       "font_family": null,
       "font_size": null,
       "font_style": null,
       "font_variant": null,
       "font_weight": null,
       "text_color": null,
       "text_decoration": null
      }
     },
     "2670d5610e1447fb8b3e616e050c5335": {
      "model_module": "@jupyter-widgets/controls",
      "model_module_version": "2.0.0",
      "model_name": "ButtonModel",
      "state": {
       "layout": "IPY_MODEL_364f651655594e9d9138d74e998242fe",
       "style": "IPY_MODEL_3c484a67cacd474cbba562c40fa895be",
       "tooltip": null
      }
     },
     "27609b75a829492a89fc9ed938062985": {
      "model_module": "@jupyter-widgets/base",
      "model_module_version": "2.0.0",
      "model_name": "LayoutModel",
      "state": {}
     },
     "27c562e096144ccfade740cd927310b4": {
      "model_module": "@jupyter-widgets/base",
      "model_module_version": "2.0.0",
      "model_name": "LayoutModel",
      "state": {
       "grid_area": "header"
      }
     },
     "289f118c0aeb47c8b4195204eced313f": {
      "model_module": "@jupyter-widgets/output",
      "model_module_version": "1.0.0",
      "model_name": "OutputModel",
      "state": {
       "layout": "IPY_MODEL_3e23b348e157412bb34e3cc9d173e7e0",
       "outputs": [
        {
         "data": {
          "application/vnd.jupyter.widget-view+json": {
           "model_id": "e1c4fba78a7a4bb0ac8d91663f6d82e6",
           "version_major": 2,
           "version_minor": 0
          },
          "text/plain": "sfc_container(children=(AppLayout(children=(VBox(children=(Button(layout=Layout(height='auto', width='auto'), …"
         },
         "metadata": {},
         "output_type": "display_data"
        }
       ]
      }
     },
     "28a52672b22d47e1bf21a36201e87177": {
      "model_module": "anywidget",
      "model_module_version": "0.9.3",
      "model_name": "AnyModel",
      "state": {
       "_anywidget_id": "ipywui.widgets.custom.message.MessageWidget",
       "_css": ".wui-message-root {\n    display: flex;\n    position: absolute;\n    left: 0;\n    right: 0;\n    top: 0;\n}\n\n.wui-message-container {\n    align-items: center;\n    display: flex;\n    flex-direction: column-reverse;\n    justify-content: center;\n    min-height: 100%;\n    outline: none;\n    width: 100%;\n\n    -webkit-tap-highlight-color: rgba(0,0,0,0);\n    bottom: 0;\n    left: 0;\n    right: 0;\n    top: 0;\n}\n\n.wui-message--success {\n    --wui-message-bg-color: #f0f9eb;\n    --wui-message-border-color: #e1f3d8;\n    --wui-message-text-color: #67c23a;\n}\n.wui-message--warning {\n    --wui-message-bg-color: #fdf6ec;\n    --wui-message-border-color: #faecd8;\n    --wui-message-text-color: #e6a23c;\n}\n.wui-message--info {\n    --wui-message-bg-color: #f4f4f5;\n    --wui-message-border-color: #e9e9eb;\n    --wui-message-text-color: #909399;\n}\n.wui-message--error {\n    --wui-message-bg-color: #fef0f0;\n    --wui-message-border-color: #fde2e2;\n    --wui-message-text-color: #f56c6c;\n}\n\n@keyframes msg-open {\n    0% {\n        opacity: 0;\n        -webkit-transform: translateY(-120%);\n        transform: translateY(-120%)\n    }\n    to {\n        -webkit-transform: translateY(0);\n        transform: translateY(0)\n    }\n}\n\n@keyframes msg-close {\n    0% {\n        opacity: 1;\n        -webkit-transform: scale(1);\n        transform: scale(1)\n    }\n    to {\n        opacity: 0;\n        -webkit-transform: scale(.9);\n        transform: scale(.9)\n    }\n}\n.wui-message[data-state=entered],.wui-message[data-state=entering] {\n    -webkit-animation: msg-open .24s cubic-bezier(.175,.885,.32,1.175) both;\n    animation: msg-open .24s cubic-bezier(.175,.885,.32,1.175) both\n}\n\n.wui-message[data-state=exiting] {\n    -webkit-animation: msg-close .12s cubic-bezier(.4,0,1,1) both;\n    animation: msg-close .12s cubic-bezier(.4,0,1,1) both\n}\n\n.wui-message {\n    width: -webkit-fit-content;\n    width: -moz-fit-content;\n    width: fit-content;\n    z-index: 2004;\n    max-width: calc(100% - 32px);\n    margin-top: 8px;\n    box-sizing: border-box;\n    /*border-radius: var(--wui-border-radius-base);*/\n    /*border-width: var(--wui-border-width);*/\n    /*border-style: var(--wui-border-style);*/\n    border-color: var(--wui-message-border-color);\n    /*left: 50%;*/\n    /*top: 20px;*/\n    /*transform: translateX(-50%);*/\n    background-color: var(--wui-message-bg-color);\n    /*transition: opacity var(--wui-transition-duration),transform .4s,top .4s;*/\n    /*padding: var(--wui-message-padding);*/\n    display: flex;\n    align-items: center;\n}\n\n/*.wui-message--success */\n.wui-message__content {\n    color: var(--wui-message-text-color);\n    font-size: 14px;\n    line-height: 18px;\n    margin: 10px 14px 10px 14px;\n    overflow-wrap: break-word;\n}\n\n.wui-message__closeBtn {\n    /*cursor: pointer;*/\n    font-style: normal;\n    /*color: gray;*/\n    padding-right: 14px;\n    /*font-size: 13px;*/\n    user-select: none;\n\n    background: transparent;\n    border: none;\n    color: gray;\n    cursor: pointer;\n    font-size: 13px;\n    font-weight: 400;\n    line-height: 1;\n    outline: none;\n    /*padding: 4px;*/\n    text-align: center;\n    transition: opacity .3s;\n    /*width: 100%;*/\n}",
       "_esm": "function closeMsg(msgDom) {\n  if (!msgDom) {\n    return;\n  }\n  msgDom.setAttribute('data-state', 'exiting');\n  msgDom.remove();\n}\n\nfunction createMsg(options) {\n  const {message, msg_id, type = 'info', show_close = false} = options;\n  const msgDom = document.createElement('div');\n  msgDom.className += ` wui-message--${type} wui-message`;\n  msgDom.setAttribute('data-state', 'entered');\n  msgDom.setAttribute('id', msg_id);\n  const msgContent = document.createElement('p');\n  msgContent.className += ` wui-message--${type} wui-message__content`;\n  msgContent.innerText = message;\n  msgDom.appendChild(msgContent);\n  if (show_close) {\n    const closeBtn = document.createElement('i');\n    closeBtn.className += 'wui-message__closeBtn';\n    closeBtn.innerText = 'x';\n    closeBtn.addEventListener('click', (ev) => {\n      closeMsg(msgDom);\n    })\n    msgDom.appendChild(closeBtn);\n  }\n  return msgDom;\n}\n\nexport async function render(view) {\n  let model = view.model;\n  const msgRoot = view.el;\n  msgRoot.className += ' wui-message-root'\n\n  const msgContainer = document.createElement('div');\n  msgContainer.className += ' wui-message-container';\n  msgRoot.appendChild(msgContainer)\n\n  model.on(\"change:message_options\", () => {\n    const options = model.get(\"message_options\");\n    const msg = createMsg(options);\n    msgContainer.appendChild(msg);\n    const {duration = 3000} = options;\n    if (duration > 0) {\n      setTimeout(() => {\n        closeMsg(msg)\n      }, duration);\n    }\n  })\n\n  model.on(\"change:close_msg_id\", () => {\n    const msg_id = model.get(\"close_msg_id\");\n    const msgDom = document.getElementById(msg_id);\n    closeMsg(msgDom);\n  })\n}\n",
       "_model_module": "anywidget",
       "_model_module_version": "0.9.3",
       "_model_name": "AnyModel",
       "_view_module": "anywidget",
       "_view_module_version": "0.9.3",
       "_view_name": "AnyView",
       "close_msg_id": "",
       "layout": "IPY_MODEL_d7f47e946c4b40bfb508c322a723f126",
       "message_options": {
        "duration": 3000,
        "message": "",
        "show_close": false,
        "type": "info"
       }
      }
     },
     "28fcc19dacf54efaaa9c3fd11c404a31": {
      "model_module": "@jupyter-widgets/controls",
      "model_module_version": "2.0.0",
      "model_name": "VBoxModel",
      "state": {
       "children": [
        "IPY_MODEL_23c56201ead347d9b974b44758e8748c"
       ],
       "layout": "IPY_MODEL_a2d70e590cd3413aad7c62b54d1f0f58"
      }
     },
     "2989e173e61e4ed3bedc5f40462952bb": {
      "model_module": "@jupyter-widgets/base",
      "model_module_version": "2.0.0",
      "model_name": "LayoutModel",
      "state": {}
     },
     "2ba04f438b744b528ae56c380e2380f9": {
      "model_module": "@jupyter-widgets/base",
      "model_module_version": "2.0.0",
      "model_name": "LayoutModel",
      "state": {
       "grid_area": "left-sidebar"
      }
     },
     "2c443944593d4ed193f2515ae5a9b9e1": {
      "model_module": "@jupyter-widgets/base",
      "model_module_version": "2.0.0",
      "model_name": "LayoutModel",
      "state": {
       "height": "auto",
       "width": "auto"
      }
     },
     "2c52eea1f8f4402e8d74bf97a5e32c41": {
      "model_module": "@jupyter-widgets/base",
      "model_module_version": "2.0.0",
      "model_name": "LayoutModel",
      "state": {
       "grid_template_areas": "\"header header header\"\n\"center center center\"",
       "grid_template_columns": "1fr 2fr 1fr",
       "grid_template_rows": "1fr 3fr"
      }
     },
     "2c678615b615477fb58354f0bf88838c": {
      "model_module": "@jupyter-widgets/controls",
      "model_module_version": "2.0.0",
      "model_name": "VBoxModel",
      "state": {
       "children": [
        "IPY_MODEL_752abcb146a748b3beeb7b4aec3fe4f6"
       ],
       "layout": "IPY_MODEL_21b5a6f9a73c4267b8f9206b9c6fc2bf"
      }
     },
     "2cdfdfdc1ec3447e96df41254620eaac": {
      "model_module": "@jupyter-widgets/controls",
      "model_module_version": "2.0.0",
      "model_name": "ButtonStyleModel",
      "state": {
       "button_color": "#ecf5fe",
       "font_family": null,
       "font_size": null,
       "font_style": null,
       "font_variant": null,
       "font_weight": null,
       "text_color": null,
       "text_decoration": null
      }
     },
     "2d0b8948b9a8431aba5559cd01bb97e1": {
      "model_module": "@jupyter-widgets/controls",
      "model_module_version": "2.0.0",
      "model_name": "ButtonModel",
      "state": {
       "layout": "IPY_MODEL_a50c0cca37fb455ab5d7448f89b812ec",
       "style": "IPY_MODEL_a9e08ef053844d3a8812da2998d51ac3",
       "tooltip": null
      }
     },
     "2d0bac8c65624300b72d1dac249088fa": {
      "model_module": "@jupyter-widgets/base",
      "model_module_version": "2.0.0",
      "model_name": "LayoutModel",
      "state": {
       "grid_area": "center"
      }
     },
     "2dccbd2139854ea6b552a123a3e6b472": {
      "model_module": "@jupyter-widgets/base",
      "model_module_version": "2.0.0",
      "model_name": "LayoutModel",
      "state": {
       "height": "auto",
       "width": "auto"
      }
     },
     "2ec35f447bdf4763bcd635c3e5c5b776": {
      "model_module": "anywidget",
      "model_module_version": "0.9.3",
      "model_name": "AnyModel",
      "state": {
       "_anywidget_id": "ipywui.widgets.custom.message.MessageWidget",
       "_css": ".wui-message-root {\n    display: flex;\n    position: absolute;\n    left: 0;\n    right: 0;\n    top: 0;\n}\n\n.wui-message-container {\n    align-items: center;\n    display: flex;\n    flex-direction: column-reverse;\n    justify-content: center;\n    min-height: 100%;\n    outline: none;\n    width: 100%;\n\n    -webkit-tap-highlight-color: rgba(0,0,0,0);\n    bottom: 0;\n    left: 0;\n    right: 0;\n    top: 0;\n}\n\n.wui-message--success {\n    --wui-message-bg-color: #f0f9eb;\n    --wui-message-border-color: #e1f3d8;\n    --wui-message-text-color: #67c23a;\n}\n.wui-message--warning {\n    --wui-message-bg-color: #fdf6ec;\n    --wui-message-border-color: #faecd8;\n    --wui-message-text-color: #e6a23c;\n}\n.wui-message--info {\n    --wui-message-bg-color: #f4f4f5;\n    --wui-message-border-color: #e9e9eb;\n    --wui-message-text-color: #909399;\n}\n.wui-message--error {\n    --wui-message-bg-color: #fef0f0;\n    --wui-message-border-color: #fde2e2;\n    --wui-message-text-color: #f56c6c;\n}\n\n@keyframes msg-open {\n    0% {\n        opacity: 0;\n        -webkit-transform: translateY(-120%);\n        transform: translateY(-120%)\n    }\n    to {\n        -webkit-transform: translateY(0);\n        transform: translateY(0)\n    }\n}\n\n@keyframes msg-close {\n    0% {\n        opacity: 1;\n        -webkit-transform: scale(1);\n        transform: scale(1)\n    }\n    to {\n        opacity: 0;\n        -webkit-transform: scale(.9);\n        transform: scale(.9)\n    }\n}\n.wui-message[data-state=entered],.wui-message[data-state=entering] {\n    -webkit-animation: msg-open .24s cubic-bezier(.175,.885,.32,1.175) both;\n    animation: msg-open .24s cubic-bezier(.175,.885,.32,1.175) both\n}\n\n.wui-message[data-state=exiting] {\n    -webkit-animation: msg-close .12s cubic-bezier(.4,0,1,1) both;\n    animation: msg-close .12s cubic-bezier(.4,0,1,1) both\n}\n\n.wui-message {\n    width: -webkit-fit-content;\n    width: -moz-fit-content;\n    width: fit-content;\n    z-index: 2004;\n    max-width: calc(100% - 32px);\n    margin-top: 8px;\n    box-sizing: border-box;\n    /*border-radius: var(--wui-border-radius-base);*/\n    /*border-width: var(--wui-border-width);*/\n    /*border-style: var(--wui-border-style);*/\n    border-color: var(--wui-message-border-color);\n    /*left: 50%;*/\n    /*top: 20px;*/\n    /*transform: translateX(-50%);*/\n    background-color: var(--wui-message-bg-color);\n    /*transition: opacity var(--wui-transition-duration),transform .4s,top .4s;*/\n    /*padding: var(--wui-message-padding);*/\n    display: flex;\n    align-items: center;\n}\n\n/*.wui-message--success */\n.wui-message__content {\n    color: var(--wui-message-text-color);\n    font-size: 14px;\n    line-height: 18px;\n    margin: 10px 14px 10px 14px;\n    overflow-wrap: break-word;\n}\n\n.wui-message__closeBtn {\n    /*cursor: pointer;*/\n    font-style: normal;\n    /*color: gray;*/\n    padding-right: 14px;\n    /*font-size: 13px;*/\n    user-select: none;\n\n    background: transparent;\n    border: none;\n    color: gray;\n    cursor: pointer;\n    font-size: 13px;\n    font-weight: 400;\n    line-height: 1;\n    outline: none;\n    /*padding: 4px;*/\n    text-align: center;\n    transition: opacity .3s;\n    /*width: 100%;*/\n}",
       "_esm": "function closeMsg(msgDom) {\n  if (!msgDom) {\n    return;\n  }\n  msgDom.setAttribute('data-state', 'exiting');\n  msgDom.remove();\n}\n\nfunction createMsg(options) {\n  const {message, msg_id, type = 'info', show_close = false} = options;\n  const msgDom = document.createElement('div');\n  msgDom.className += ` wui-message--${type} wui-message`;\n  msgDom.setAttribute('data-state', 'entered');\n  msgDom.setAttribute('id', msg_id);\n  const msgContent = document.createElement('p');\n  msgContent.className += ` wui-message--${type} wui-message__content`;\n  msgContent.innerText = message;\n  msgDom.appendChild(msgContent);\n  if (show_close) {\n    const closeBtn = document.createElement('i');\n    closeBtn.className += 'wui-message__closeBtn';\n    closeBtn.innerText = 'x';\n    closeBtn.addEventListener('click', (ev) => {\n      closeMsg(msgDom);\n    })\n    msgDom.appendChild(closeBtn);\n  }\n  return msgDom;\n}\n\nexport async function render(view) {\n  let model = view.model;\n  const msgRoot = view.el;\n  msgRoot.className += ' wui-message-root'\n\n  const msgContainer = document.createElement('div');\n  msgContainer.className += ' wui-message-container';\n  msgRoot.appendChild(msgContainer)\n\n  model.on(\"change:message_options\", () => {\n    const options = model.get(\"message_options\");\n    const msg = createMsg(options);\n    msgContainer.appendChild(msg);\n    const {duration = 3000} = options;\n    if (duration > 0) {\n      setTimeout(() => {\n        closeMsg(msg)\n      }, duration);\n    }\n  })\n\n  model.on(\"change:close_msg_id\", () => {\n    const msg_id = model.get(\"close_msg_id\");\n    const msgDom = document.getElementById(msg_id);\n    closeMsg(msgDom);\n  })\n}\n",
       "_model_module": "anywidget",
       "_model_module_version": "0.9.3",
       "_model_name": "AnyModel",
       "_view_module": "anywidget",
       "_view_module_version": "0.9.3",
       "_view_name": "AnyView",
       "close_msg_id": "",
       "layout": "IPY_MODEL_b1d5d7e29b85492496e0b3c02cf4c0d3",
       "message_options": {
        "duration": 3000,
        "message": "",
        "show_close": false,
        "type": "info"
       }
      }
     },
     "2ec9cce97d2145e2a50b7aba84ed9a3a": {
      "model_module": "@jupyter-widgets/controls",
      "model_module_version": "2.0.0",
      "model_name": "ButtonStyleModel",
      "state": {
       "button_color": "#dbecfe",
       "font_family": null,
       "font_size": null,
       "font_style": null,
       "font_variant": null,
       "font_weight": null,
       "text_color": null,
       "text_decoration": null
      }
     },
     "2f1409969d384759beda33b6666862d1": {
      "model_module": "@jupyter-widgets/controls",
      "model_module_version": "2.0.0",
      "model_name": "ButtonModel",
      "state": {
       "layout": "IPY_MODEL_d1e2e809641542648103d80b65e42526",
       "style": "IPY_MODEL_255eebccbf3e4aeca5fa8956ae9ef714",
       "tooltip": null
      }
     },
     "2f7fde3a275c4c998a4b1d781d9de51d": {
      "model_module": "@jupyter-widgets/base",
      "model_module_version": "2.0.0",
      "model_name": "LayoutModel",
      "state": {
       "height": "auto",
       "width": "auto"
      }
     },
     "2f8a75c709654e6c82fc8a512a5e6afd": {
      "model_module": "@jupyter-widgets/controls",
      "model_module_version": "2.0.0",
      "model_name": "VBoxModel",
      "state": {
       "children": [
        "IPY_MODEL_7f53c3533bb54e589b410631081edd28"
       ],
       "layout": "IPY_MODEL_e89ea770f17f4e3a9c179e7aed416a16"
      }
     },
     "2fce173345a64e4c9c74bc4e0c525284": {
      "model_module": "@jupyter-widgets/controls",
      "model_module_version": "2.0.0",
      "model_name": "VBoxModel",
      "state": {
       "children": [
        "IPY_MODEL_a0ed5a5ebae447cd88940d7b137a329e",
        "IPY_MODEL_f6b890e94b6a4da9a8d9eede8d6aecd4"
       ],
       "layout": "IPY_MODEL_72c8890135104b20b915d83fa0af8c86"
      }
     },
     "3006583707d74b4da7458b81ec9d843a": {
      "model_module": "@jupyter-widgets/controls",
      "model_module_version": "2.0.0",
      "model_name": "VBoxModel",
      "state": {
       "children": [
        "IPY_MODEL_ebb9a5c3c62245ffb7b680b62b4587ef"
       ],
       "layout": "IPY_MODEL_f313009a051d4888860a247860b41170"
      }
     },
     "30217b1180a0401da5cd6e03f48e97bd": {
      "model_module": "@jupyter-widgets/controls",
      "model_module_version": "2.0.0",
      "model_name": "ButtonModel",
      "state": {
       "description": "header",
       "layout": "IPY_MODEL_fe4a52cb12474b8aaa9f133d70c79ba1",
       "style": "IPY_MODEL_fb29a80db6c84ebaafdca53b5551c7c6",
       "tooltip": null
      }
     },
     "3058714f933b406e96ab9d92ab230c05": {
      "model_module": "@jupyter-widgets/base",
      "model_module_version": "2.0.0",
      "model_name": "LayoutModel",
      "state": {
       "grid_area": "center"
      }
     },
     "31e5fe35738f44b5a66914d906d18f87": {
      "model_module": "@jupyter-widgets/base",
      "model_module_version": "2.0.0",
      "model_name": "LayoutModel",
      "state": {
       "height": "auto",
       "width": "auto"
      }
     },
     "32431af3dc0247bca608093f0bde7ac7": {
      "model_module": "@jupyter-widgets/base",
      "model_module_version": "2.0.0",
      "model_name": "LayoutModel",
      "state": {
       "grid_template_areas": "\"header header header\"\n\"center center center\"\n\"footer footer footer\"",
       "grid_template_columns": "1fr 2fr 1fr",
       "grid_template_rows": "1fr 3fr 1fr"
      }
     },
     "32a6932b9f674efdbe6c672829449b03": {
      "model_module": "@jupyter-widgets/controls",
      "model_module_version": "2.0.0",
      "model_name": "ButtonModel",
      "state": {
       "layout": "IPY_MODEL_31e5fe35738f44b5a66914d906d18f87",
       "style": "IPY_MODEL_7be70182f7ae47079df26ceaa9fc74a4",
       "tooltip": null
      }
     },
     "32b25bfe33ce44b3acbb53d17408bb01": {
      "model_module": "@jupyter-widgets/controls",
      "model_module_version": "2.0.0",
      "model_name": "ButtonStyleModel",
      "state": {
       "button_color": "#ecf5fe",
       "font_family": null,
       "font_size": null,
       "font_style": null,
       "font_variant": null,
       "font_weight": null,
       "text_color": null,
       "text_decoration": null
      }
     },
     "32e7a8ba00e64e37a9cce5e4e3794644": {
      "model_module": "@jupyter-widgets/controls",
      "model_module_version": "2.0.0",
      "model_name": "ButtonStyleModel",
      "state": {
       "button_color": "#ecf5fe",
       "font_family": null,
       "font_size": null,
       "font_style": null,
       "font_variant": null,
       "font_weight": null,
       "text_color": null,
       "text_decoration": null
      }
     },
     "3339499296534b95ad47b2f65d74e4cb": {
      "model_module": "@jupyter-widgets/controls",
      "model_module_version": "2.0.0",
      "model_name": "ButtonStyleModel",
      "state": {
       "button_color": "#c8e3fe",
       "font_family": null,
       "font_size": null,
       "font_style": null,
       "font_variant": null,
       "font_weight": null,
       "text_color": null,
       "text_decoration": null
      }
     },
     "356cf14886d14f488dfc22c9de2d74c1": {
      "model_module": "@jupyter-widgets/controls",
      "model_module_version": "2.0.0",
      "model_name": "ButtonStyleModel",
      "state": {
       "button_color": "#ecf5fe",
       "font_family": null,
       "font_size": null,
       "font_style": null,
       "font_variant": null,
       "font_weight": null,
       "text_color": null,
       "text_decoration": null
      }
     },
     "3601b727c0b24553ac7b4e3a142904b5": {
      "model_module": "@jupyter-widgets/controls",
      "model_module_version": "2.0.0",
      "model_name": "ButtonModel",
      "state": {
       "layout": "IPY_MODEL_371ef0cd3eb7432cb8567b0d00562056",
       "style": "IPY_MODEL_f2df8a345cd449d580ac6c0e27f6464d",
       "tooltip": null
      }
     },
     "364f651655594e9d9138d74e998242fe": {
      "model_module": "@jupyter-widgets/base",
      "model_module_version": "2.0.0",
      "model_name": "LayoutModel",
      "state": {
       "height": "auto",
       "width": "auto"
      }
     },
     "36b5a1cdd1ea4f17932563e024f9c046": {
      "model_module": "@jupyter-widgets/controls",
      "model_module_version": "2.0.0",
      "model_name": "VBoxModel",
      "state": {
       "children": [
        "IPY_MODEL_1d9dd3143b9d45dbbf4b960bf5b71615",
        "IPY_MODEL_acfa927f88be46e59b438146803eb0a6",
        "IPY_MODEL_4c56fa96a72a4676a6020b5f585d1dd7",
        "IPY_MODEL_ee2a6ce5f67a4680adb0eb89ddca731d",
        "IPY_MODEL_2f1409969d384759beda33b6666862d1"
       ],
       "layout": "IPY_MODEL_2ba04f438b744b528ae56c380e2380f9"
      }
     },
     "371ef0cd3eb7432cb8567b0d00562056": {
      "model_module": "@jupyter-widgets/base",
      "model_module_version": "2.0.0",
      "model_name": "LayoutModel",
      "state": {
       "height": "auto",
       "width": "auto"
      }
     },
     "3820240331614e77aff9ec1df9216a30": {
      "model_module": "@jupyter-widgets/base",
      "model_module_version": "2.0.0",
      "model_name": "LayoutModel",
      "state": {
       "grid_template_areas": "\"left-sidebar center center\"",
       "grid_template_columns": "1fr 2fr 1fr",
       "grid_template_rows": "3fr"
      }
     },
     "388053cb6815404088e9ba3c3464bc8d": {
      "model_module": "@jupyter-widgets/controls",
      "model_module_version": "2.0.0",
      "model_name": "ButtonModel",
      "state": {
       "layout": "IPY_MODEL_94850dde7c4741ea91a4fad8c48bd765",
       "style": "IPY_MODEL_f89d8ba19da6411985843360bb8117e2",
       "tooltip": null
      }
     },
     "38fb6864fa5e4e0089dcb5b622b8f3ba": {
      "model_module": "@jupyter-widgets/controls",
      "model_module_version": "2.0.0",
      "model_name": "ButtonStyleModel",
      "state": {
       "button_color": "#ecf5fe",
       "font_family": null,
       "font_size": null,
       "font_style": null,
       "font_variant": null,
       "font_weight": null,
       "text_color": null,
       "text_decoration": null
      }
     },
     "3aa74e0fc8234257a412a8c663662df0": {
      "model_module": "@jupyter-widgets/controls",
      "model_module_version": "2.0.0",
      "model_name": "ButtonStyleModel",
      "state": {
       "button_color": "#dbecfe",
       "font_family": null,
       "font_size": null,
       "font_style": null,
       "font_variant": null,
       "font_weight": null,
       "text_color": null,
       "text_decoration": null
      }
     },
     "3b447c94bf0b4389ad4c0c7cc6349fb6": {
      "model_module": "@jupyter-widgets/base",
      "model_module_version": "2.0.0",
      "model_name": "LayoutModel",
      "state": {
       "height": "auto",
       "width": "auto"
      }
     },
     "3bb691efccff425da17f09742056d96a": {
      "model_module": "@jupyter-widgets/controls",
      "model_module_version": "2.0.0",
      "model_name": "ButtonStyleModel",
      "state": {
       "button_color": "#c8e3fe",
       "font_family": null,
       "font_size": null,
       "font_style": null,
       "font_variant": null,
       "font_weight": null,
       "text_color": null,
       "text_decoration": null
      }
     },
     "3be4eb18be5a430db6126c26f688a0cd": {
      "model_module": "@jupyter-widgets/base",
      "model_module_version": "2.0.0",
      "model_name": "LayoutModel",
      "state": {
       "height": "auto",
       "width": "auto"
      }
     },
     "3c484a67cacd474cbba562c40fa895be": {
      "model_module": "@jupyter-widgets/controls",
      "model_module_version": "2.0.0",
      "model_name": "ButtonStyleModel",
      "state": {
       "button_color": "#ecf5fe",
       "font_family": null,
       "font_size": null,
       "font_style": null,
       "font_variant": null,
       "font_weight": null,
       "text_color": null,
       "text_decoration": null
      }
     },
     "3d30e2948c374dd69a45c08b1d879197": {
      "model_module": "@jupyter-widgets/output",
      "model_module_version": "1.0.0",
      "model_name": "OutputModel",
      "state": {
       "layout": "IPY_MODEL_7bb7b2420cea4f1d90fb1342551f475a",
       "outputs": [
        {
         "data": {
          "application/vnd.jupyter.widget-view+json": {
           "model_id": "bc2c7e264478460ba4e5ccd46c577ac3",
           "version_major": 2,
           "version_minor": 0
          },
          "text/plain": "sfc_container(children=(AppLayout(children=(VBox(children=(Button(description='header', layout=Layout(height='…"
         },
         "metadata": {},
         "output_type": "display_data"
        }
       ]
      }
     },
     "3d7904c8a5ea4d8ca0c1c853ae2b94df": {
      "model_module": "@jupyter-widgets/controls",
      "model_module_version": "2.0.0",
      "model_name": "VBoxModel",
      "state": {
       "children": [
        "IPY_MODEL_5cd3c52fe6b84452b47907dfb548382b",
        "IPY_MODEL_606730e0d0204e9b9a0992b3b603590a",
        "IPY_MODEL_c402bf12733648798f4cb7ec59367ec0"
       ],
       "layout": "IPY_MODEL_f3179311ffe2468ab5d383b19cdecfd8"
      }
     },
     "3e08f749bc8e487584ea29efbef52756": {
      "model_module": "@jupyter-widgets/controls",
      "model_module_version": "2.0.0",
      "model_name": "ButtonModel",
      "state": {
       "layout": "IPY_MODEL_591b506a0ba54bb4b9d0410148a53458",
       "style": "IPY_MODEL_bebfd9622db74d8680d4ac99098701f7",
       "tooltip": null
      }
     },
     "3e23b348e157412bb34e3cc9d173e7e0": {
      "model_module": "@jupyter-widgets/base",
      "model_module_version": "2.0.0",
      "model_name": "LayoutModel",
      "state": {}
     },
     "3fa6ad3117e94c38a8d4bde06031e5c9": {
      "model_module": "@jupyter-widgets/controls",
      "model_module_version": "2.0.0",
      "model_name": "ButtonModel",
      "state": {
       "description": "right",
       "layout": "IPY_MODEL_911d469b4ee24709bca475d729c15381",
       "style": "IPY_MODEL_6a72f5dd21914bc39581b726479c0fe0",
       "tooltip": null
      }
     },
     "4002bb06c9c148fe9026ea9025fae937": {
      "model_module": "@jupyter-widgets/base",
      "model_module_version": "2.0.0",
      "model_name": "LayoutModel",
      "state": {}
     },
     "4068211540c1427bb008d129b00c0be2": {
      "model_module": "@jupyter-widgets/controls",
      "model_module_version": "2.0.0",
      "model_name": "GridBoxModel",
      "state": {
       "children": [
        "IPY_MODEL_dffcca4f13464fc897e93f959d42b327",
        "IPY_MODEL_887a5ee21b294d28b821242a3925cf09",
        "IPY_MODEL_682339e2c3204a568ad658548b61e602"
       ],
       "layout": "IPY_MODEL_48ccfba735cc4ab38f5f85b8906ad0bf"
      }
     },
     "418ce13cf68940328485d8745ce91d50": {
      "model_module": "@jupyter-widgets/base",
      "model_module_version": "2.0.0",
      "model_name": "LayoutModel",
      "state": {
       "grid_area": "header"
      }
     },
     "426a2862719e44b8a877210ef7bdb6ea": {
      "model_module": "@jupyter-widgets/controls",
      "model_module_version": "2.0.0",
      "model_name": "ButtonModel",
      "state": {
       "layout": "IPY_MODEL_2f7fde3a275c4c998a4b1d781d9de51d",
       "style": "IPY_MODEL_c83b77b9b7744e81bc1bb976f18e76f3",
       "tooltip": null
      }
     },
     "42cc2b09c0c94b22b566ece0f4b89991": {
      "model_module": "@jupyter-widgets/base",
      "model_module_version": "2.0.0",
      "model_name": "LayoutModel",
      "state": {
       "height": "auto",
       "width": "auto"
      }
     },
     "43d5c30185014844bdee19cabf5b4111": {
      "model_module": "@jupyter-widgets/base",
      "model_module_version": "2.0.0",
      "model_name": "LayoutModel",
      "state": {
       "height": "auto",
       "width": "auto"
      }
     },
     "43df1b92ed5947c5af3064b14d999eae": {
      "model_module": "@jupyter-widgets/base",
      "model_module_version": "2.0.0",
      "model_name": "LayoutModel",
      "state": {
       "height": "auto",
       "width": "auto"
      }
     },
     "45287dc20edb4150b48ac2ad50c1ff8e": {
      "model_module": "anywidget",
      "model_module_version": "0.9.3",
      "model_name": "AnyModel",
      "state": {
       "_anywidget_id": "ipywui.widgets.custom.message.MessageWidget",
       "_css": ".wui-message-root {\n    display: flex;\n    position: absolute;\n    left: 0;\n    right: 0;\n    top: 0;\n}\n\n.wui-message-container {\n    align-items: center;\n    display: flex;\n    flex-direction: column-reverse;\n    justify-content: center;\n    min-height: 100%;\n    outline: none;\n    width: 100%;\n\n    -webkit-tap-highlight-color: rgba(0,0,0,0);\n    bottom: 0;\n    left: 0;\n    right: 0;\n    top: 0;\n}\n\n.wui-message--success {\n    --wui-message-bg-color: #f0f9eb;\n    --wui-message-border-color: #e1f3d8;\n    --wui-message-text-color: #67c23a;\n}\n.wui-message--warning {\n    --wui-message-bg-color: #fdf6ec;\n    --wui-message-border-color: #faecd8;\n    --wui-message-text-color: #e6a23c;\n}\n.wui-message--info {\n    --wui-message-bg-color: #f4f4f5;\n    --wui-message-border-color: #e9e9eb;\n    --wui-message-text-color: #909399;\n}\n.wui-message--error {\n    --wui-message-bg-color: #fef0f0;\n    --wui-message-border-color: #fde2e2;\n    --wui-message-text-color: #f56c6c;\n}\n\n@keyframes msg-open {\n    0% {\n        opacity: 0;\n        -webkit-transform: translateY(-120%);\n        transform: translateY(-120%)\n    }\n    to {\n        -webkit-transform: translateY(0);\n        transform: translateY(0)\n    }\n}\n\n@keyframes msg-close {\n    0% {\n        opacity: 1;\n        -webkit-transform: scale(1);\n        transform: scale(1)\n    }\n    to {\n        opacity: 0;\n        -webkit-transform: scale(.9);\n        transform: scale(.9)\n    }\n}\n.wui-message[data-state=entered],.wui-message[data-state=entering] {\n    -webkit-animation: msg-open .24s cubic-bezier(.175,.885,.32,1.175) both;\n    animation: msg-open .24s cubic-bezier(.175,.885,.32,1.175) both\n}\n\n.wui-message[data-state=exiting] {\n    -webkit-animation: msg-close .12s cubic-bezier(.4,0,1,1) both;\n    animation: msg-close .12s cubic-bezier(.4,0,1,1) both\n}\n\n.wui-message {\n    width: -webkit-fit-content;\n    width: -moz-fit-content;\n    width: fit-content;\n    z-index: 2004;\n    max-width: calc(100% - 32px);\n    margin-top: 8px;\n    box-sizing: border-box;\n    /*border-radius: var(--wui-border-radius-base);*/\n    /*border-width: var(--wui-border-width);*/\n    /*border-style: var(--wui-border-style);*/\n    border-color: var(--wui-message-border-color);\n    /*left: 50%;*/\n    /*top: 20px;*/\n    /*transform: translateX(-50%);*/\n    background-color: var(--wui-message-bg-color);\n    /*transition: opacity var(--wui-transition-duration),transform .4s,top .4s;*/\n    /*padding: var(--wui-message-padding);*/\n    display: flex;\n    align-items: center;\n}\n\n/*.wui-message--success */\n.wui-message__content {\n    color: var(--wui-message-text-color);\n    font-size: 14px;\n    line-height: 18px;\n    margin: 10px 14px 10px 14px;\n    overflow-wrap: break-word;\n}\n\n.wui-message__closeBtn {\n    /*cursor: pointer;*/\n    font-style: normal;\n    /*color: gray;*/\n    padding-right: 14px;\n    /*font-size: 13px;*/\n    user-select: none;\n\n    background: transparent;\n    border: none;\n    color: gray;\n    cursor: pointer;\n    font-size: 13px;\n    font-weight: 400;\n    line-height: 1;\n    outline: none;\n    /*padding: 4px;*/\n    text-align: center;\n    transition: opacity .3s;\n    /*width: 100%;*/\n}",
       "_esm": "function closeMsg(msgDom) {\n  if (!msgDom) {\n    return;\n  }\n  msgDom.setAttribute('data-state', 'exiting');\n  msgDom.remove();\n}\n\nfunction createMsg(options) {\n  const {message, msg_id, type = 'info', show_close = false} = options;\n  const msgDom = document.createElement('div');\n  msgDom.className += ` wui-message--${type} wui-message`;\n  msgDom.setAttribute('data-state', 'entered');\n  msgDom.setAttribute('id', msg_id);\n  const msgContent = document.createElement('p');\n  msgContent.className += ` wui-message--${type} wui-message__content`;\n  msgContent.innerText = message;\n  msgDom.appendChild(msgContent);\n  if (show_close) {\n    const closeBtn = document.createElement('i');\n    closeBtn.className += 'wui-message__closeBtn';\n    closeBtn.innerText = 'x';\n    closeBtn.addEventListener('click', (ev) => {\n      closeMsg(msgDom);\n    })\n    msgDom.appendChild(closeBtn);\n  }\n  return msgDom;\n}\n\nexport async function render(view) {\n  let model = view.model;\n  const msgRoot = view.el;\n  msgRoot.className += ' wui-message-root'\n\n  const msgContainer = document.createElement('div');\n  msgContainer.className += ' wui-message-container';\n  msgRoot.appendChild(msgContainer)\n\n  model.on(\"change:message_options\", () => {\n    const options = model.get(\"message_options\");\n    const msg = createMsg(options);\n    msgContainer.appendChild(msg);\n    const {duration = 3000} = options;\n    if (duration > 0) {\n      setTimeout(() => {\n        closeMsg(msg)\n      }, duration);\n    }\n  })\n\n  model.on(\"change:close_msg_id\", () => {\n    const msg_id = model.get(\"close_msg_id\");\n    const msgDom = document.getElementById(msg_id);\n    closeMsg(msgDom);\n  })\n}\n",
       "_model_module": "anywidget",
       "_model_module_version": "0.9.3",
       "_model_name": "AnyModel",
       "_view_module": "anywidget",
       "_view_module_version": "0.9.3",
       "_view_name": "AnyView",
       "close_msg_id": "",
       "layout": "IPY_MODEL_69df8a7425ec4ccdb998e7007338a6b9",
       "message_options": {
        "duration": 3000,
        "message": "",
        "show_close": false,
        "type": "info"
       }
      }
     },
     "45712ae500b640bab855ebf0f91de535": {
      "model_module": "@jupyter-widgets/base",
      "model_module_version": "2.0.0",
      "model_name": "LayoutModel",
      "state": {}
     },
     "45e196b9cd0d4710a97c34a6d0316df0": {
      "model_module": "@jupyter-widgets/controls",
      "model_module_version": "2.0.0",
      "model_name": "ButtonStyleModel",
      "state": {
       "button_color": "#ecf5fe",
       "font_family": null,
       "font_size": null,
       "font_style": null,
       "font_variant": null,
       "font_weight": null,
       "text_color": null,
       "text_decoration": null
      }
     },
     "4754ede8edbb4b8cac7e20ed98bd8542": {
      "model_module": "@jupyter-widgets/controls",
      "model_module_version": "2.0.0",
      "model_name": "VBoxModel",
      "state": {
       "children": [
        "IPY_MODEL_0eed682c93434b27bcba760b7f4ad8a9"
       ],
       "layout": "IPY_MODEL_c6740b3a83b7484abe79600b3188a3a4"
      }
     },
     "4798e0f9e154439590074ed3a50fe12a": {
      "model_module": "@jupyter-widgets/base",
      "model_module_version": "2.0.0",
      "model_name": "LayoutModel",
      "state": {
       "height": "auto",
       "width": "auto"
      }
     },
     "486c237d60a546e1a376d86b0869be09": {
      "model_module": "@jupyter-widgets/base",
      "model_module_version": "2.0.0",
      "model_name": "LayoutModel",
      "state": {
       "grid_area": "footer"
      }
     },
     "48ccfba735cc4ab38f5f85b8906ad0bf": {
      "model_module": "@jupyter-widgets/base",
      "model_module_version": "2.0.0",
      "model_name": "LayoutModel",
      "state": {
       "grid_template_areas": "\"left-sidebar center right-sidebar\"",
       "grid_template_columns": "1fr 2fr 1fr",
       "grid_template_rows": "3fr"
      }
     },
     "49c560ba8b3b40fc910a847fb95c7ebe": {
      "model_module": "@jupyter-widgets/controls",
      "model_module_version": "2.0.0",
      "model_name": "VBoxModel",
      "state": {
       "children": [
        "IPY_MODEL_83a9d2abfaea40719bc15a4d19bbb71e",
        "IPY_MODEL_03ec9424eebe4a2c8d248000de1306ca",
        "IPY_MODEL_e77761a5caad460a94ec409b635338a5",
        "IPY_MODEL_dcf09a37d1cb44ca9aaabd905a7a12cb",
        "IPY_MODEL_aef834c797b04266937747f476494358"
       ],
       "layout": "IPY_MODEL_5b68e1644c7c4b49956ba902f2d4e4b9"
      }
     },
     "4a41d6b7f09d4e119770f73327a901c1": {
      "model_module": "@jupyter-widgets/controls",
      "model_module_version": "2.0.0",
      "model_name": "VBoxModel",
      "state": {
       "children": [
        "IPY_MODEL_228cb5f329f640f5b4de0c1c7d98c5b3"
       ],
       "layout": "IPY_MODEL_07eb024bd199407287fa1c46ddc424f9"
      }
     },
     "4a79686bd3214127a68645f1924861cb": {
      "model_module": "@jupyter-widgets/controls",
      "model_module_version": "2.0.0",
      "model_name": "VBoxModel",
      "state": {
       "children": [
        "IPY_MODEL_048fd5257c1943aa867dbeb4ac1f2799"
       ],
       "layout": "IPY_MODEL_b13a12a61cc845dbb0374a24e577d618"
      }
     },
     "4b6828b594374bbfa25283705869c912": {
      "model_module": "@jupyter-widgets/base",
      "model_module_version": "2.0.0",
      "model_name": "LayoutModel",
      "state": {
       "height": "auto",
       "width": "auto"
      }
     },
     "4badbee27c4642f5b10154bf493d3b77": {
      "model_module": "@jupyter-widgets/controls",
      "model_module_version": "2.0.0",
      "model_name": "ButtonModel",
      "state": {
       "layout": "IPY_MODEL_2dccbd2139854ea6b552a123a3e6b472",
       "style": "IPY_MODEL_e3eda652e3d34b25a123aef85c18e4c9",
       "tooltip": null
      }
     },
     "4c56fa96a72a4676a6020b5f585d1dd7": {
      "model_module": "@jupyter-widgets/controls",
      "model_module_version": "2.0.0",
      "model_name": "ButtonModel",
      "state": {
       "description": "left",
       "layout": "IPY_MODEL_d7aea80db06144899043a32a05d6ea06",
       "style": "IPY_MODEL_012f3ae3859b49689e6dba1ebe704c97",
       "tooltip": null
      }
     },
     "4c72da2767324e0583b4395df916b671": {
      "model_module": "@jupyter-widgets/controls",
      "model_module_version": "2.0.0",
      "model_name": "VBoxModel",
      "state": {
       "children": [
        "IPY_MODEL_4068211540c1427bb008d129b00c0be2"
       ],
       "layout": "IPY_MODEL_4002bb06c9c148fe9026ea9025fae937"
      }
     },
     "4d3a832326534d2d8f63c5900a553a3d": {
      "model_module": "@jupyter-widgets/controls",
      "model_module_version": "2.0.0",
      "model_name": "ButtonStyleModel",
      "state": {
       "button_color": "#dbecfe",
       "font_family": null,
       "font_size": null,
       "font_style": null,
       "font_variant": null,
       "font_weight": null,
       "text_color": null,
       "text_decoration": null
      }
     },
     "4dde93abcc614b1794ce7ef8917911fa": {
      "model_module": "@jupyter-widgets/base",
      "model_module_version": "2.0.0",
      "model_name": "LayoutModel",
      "state": {}
     },
     "4f4a4ddc18824a62b1e38a130bcdb527": {
      "model_module": "@jupyter-widgets/base",
      "model_module_version": "2.0.0",
      "model_name": "LayoutModel",
      "state": {
       "height": "auto",
       "width": "auto"
      }
     },
     "4f53e045b8a54605bf82836aeec70c95": {
      "model_module": "anywidget",
      "model_module_version": "0.9.3",
      "model_name": "AnyModel",
      "state": {
       "_anywidget_id": "ipywui.widgets.custom.message.MessageWidget",
       "_css": ".wui-message-root {\n    display: flex;\n    position: absolute;\n    left: 0;\n    right: 0;\n    top: 0;\n}\n\n.wui-message-container {\n    align-items: center;\n    display: flex;\n    flex-direction: column-reverse;\n    justify-content: center;\n    min-height: 100%;\n    outline: none;\n    width: 100%;\n\n    -webkit-tap-highlight-color: rgba(0,0,0,0);\n    bottom: 0;\n    left: 0;\n    right: 0;\n    top: 0;\n}\n\n.wui-message--success {\n    --wui-message-bg-color: #f0f9eb;\n    --wui-message-border-color: #e1f3d8;\n    --wui-message-text-color: #67c23a;\n}\n.wui-message--warning {\n    --wui-message-bg-color: #fdf6ec;\n    --wui-message-border-color: #faecd8;\n    --wui-message-text-color: #e6a23c;\n}\n.wui-message--info {\n    --wui-message-bg-color: #f4f4f5;\n    --wui-message-border-color: #e9e9eb;\n    --wui-message-text-color: #909399;\n}\n.wui-message--error {\n    --wui-message-bg-color: #fef0f0;\n    --wui-message-border-color: #fde2e2;\n    --wui-message-text-color: #f56c6c;\n}\n\n@keyframes msg-open {\n    0% {\n        opacity: 0;\n        -webkit-transform: translateY(-120%);\n        transform: translateY(-120%)\n    }\n    to {\n        -webkit-transform: translateY(0);\n        transform: translateY(0)\n    }\n}\n\n@keyframes msg-close {\n    0% {\n        opacity: 1;\n        -webkit-transform: scale(1);\n        transform: scale(1)\n    }\n    to {\n        opacity: 0;\n        -webkit-transform: scale(.9);\n        transform: scale(.9)\n    }\n}\n.wui-message[data-state=entered],.wui-message[data-state=entering] {\n    -webkit-animation: msg-open .24s cubic-bezier(.175,.885,.32,1.175) both;\n    animation: msg-open .24s cubic-bezier(.175,.885,.32,1.175) both\n}\n\n.wui-message[data-state=exiting] {\n    -webkit-animation: msg-close .12s cubic-bezier(.4,0,1,1) both;\n    animation: msg-close .12s cubic-bezier(.4,0,1,1) both\n}\n\n.wui-message {\n    width: -webkit-fit-content;\n    width: -moz-fit-content;\n    width: fit-content;\n    z-index: 2004;\n    max-width: calc(100% - 32px);\n    margin-top: 8px;\n    box-sizing: border-box;\n    /*border-radius: var(--wui-border-radius-base);*/\n    /*border-width: var(--wui-border-width);*/\n    /*border-style: var(--wui-border-style);*/\n    border-color: var(--wui-message-border-color);\n    /*left: 50%;*/\n    /*top: 20px;*/\n    /*transform: translateX(-50%);*/\n    background-color: var(--wui-message-bg-color);\n    /*transition: opacity var(--wui-transition-duration),transform .4s,top .4s;*/\n    /*padding: var(--wui-message-padding);*/\n    display: flex;\n    align-items: center;\n}\n\n/*.wui-message--success */\n.wui-message__content {\n    color: var(--wui-message-text-color);\n    font-size: 14px;\n    line-height: 18px;\n    margin: 10px 14px 10px 14px;\n    overflow-wrap: break-word;\n}\n\n.wui-message__closeBtn {\n    /*cursor: pointer;*/\n    font-style: normal;\n    /*color: gray;*/\n    padding-right: 14px;\n    /*font-size: 13px;*/\n    user-select: none;\n\n    background: transparent;\n    border: none;\n    color: gray;\n    cursor: pointer;\n    font-size: 13px;\n    font-weight: 400;\n    line-height: 1;\n    outline: none;\n    /*padding: 4px;*/\n    text-align: center;\n    transition: opacity .3s;\n    /*width: 100%;*/\n}",
       "_esm": "function closeMsg(msgDom) {\n  if (!msgDom) {\n    return;\n  }\n  msgDom.setAttribute('data-state', 'exiting');\n  msgDom.remove();\n}\n\nfunction createMsg(options) {\n  const {message, msg_id, type = 'info', show_close = false} = options;\n  const msgDom = document.createElement('div');\n  msgDom.className += ` wui-message--${type} wui-message`;\n  msgDom.setAttribute('data-state', 'entered');\n  msgDom.setAttribute('id', msg_id);\n  const msgContent = document.createElement('p');\n  msgContent.className += ` wui-message--${type} wui-message__content`;\n  msgContent.innerText = message;\n  msgDom.appendChild(msgContent);\n  if (show_close) {\n    const closeBtn = document.createElement('i');\n    closeBtn.className += 'wui-message__closeBtn';\n    closeBtn.innerText = 'x';\n    closeBtn.addEventListener('click', (ev) => {\n      closeMsg(msgDom);\n    })\n    msgDom.appendChild(closeBtn);\n  }\n  return msgDom;\n}\n\nexport async function render(view) {\n  let model = view.model;\n  const msgRoot = view.el;\n  msgRoot.className += ' wui-message-root'\n\n  const msgContainer = document.createElement('div');\n  msgContainer.className += ' wui-message-container';\n  msgRoot.appendChild(msgContainer)\n\n  model.on(\"change:message_options\", () => {\n    const options = model.get(\"message_options\");\n    const msg = createMsg(options);\n    msgContainer.appendChild(msg);\n    const {duration = 3000} = options;\n    if (duration > 0) {\n      setTimeout(() => {\n        closeMsg(msg)\n      }, duration);\n    }\n  })\n\n  model.on(\"change:close_msg_id\", () => {\n    const msg_id = model.get(\"close_msg_id\");\n    const msgDom = document.getElementById(msg_id);\n    closeMsg(msgDom);\n  })\n}\n",
       "_model_module": "anywidget",
       "_model_module_version": "0.9.3",
       "_model_name": "AnyModel",
       "_view_module": "anywidget",
       "_view_module_version": "0.9.3",
       "_view_name": "AnyView",
       "close_msg_id": "",
       "layout": "IPY_MODEL_6bb32372c0fc42fea1286aa22b6372ae",
       "message_options": {
        "duration": 3000,
        "message": "",
        "show_close": false,
        "type": "info"
       }
      }
     },
     "4fb60902c8fb416bbf652cd0082d8231": {
      "model_module": "@jupyter-widgets/base",
      "model_module_version": "2.0.0",
      "model_name": "LayoutModel",
      "state": {
       "grid_template_areas": "\"header header header\"\n\"left-sidebar center center\"\n\"footer footer footer\"",
       "grid_template_columns": "1fr 2fr 1fr",
       "grid_template_rows": "1fr 3fr 1fr"
      }
     },
     "504e5416c1644989b7ec2e0fab18fb5b": {
      "model_module": "@jupyter-widgets/base",
      "model_module_version": "2.0.0",
      "model_name": "LayoutModel",
      "state": {
       "height": "auto",
       "width": "auto"
      }
     },
     "50cdf55f144e48e3bf33292ae69b47d8": {
      "model_module": "@jupyter-widgets/controls",
      "model_module_version": "2.0.0",
      "model_name": "VBoxModel",
      "state": {
       "children": [
        "IPY_MODEL_6d473e52589248e4be84ee2c7c28fdfc"
       ],
       "layout": "IPY_MODEL_09e62256440840068cdebc6a9b981c04"
      }
     },
     "50f254bdc604440a99e8141bb492cb51": {
      "model_module": "@jupyter-widgets/controls",
      "model_module_version": "2.0.0",
      "model_name": "ButtonModel",
      "state": {
       "layout": "IPY_MODEL_fef1861614f74b14a6bc8a3400584304",
       "style": "IPY_MODEL_dbe28f7679a34e9a991272d136574eeb",
       "tooltip": null
      }
     },
     "50f81fe3f87c466c8c4ce7f6125ba47d": {
      "model_module": "@jupyter-widgets/controls",
      "model_module_version": "2.0.0",
      "model_name": "ButtonModel",
      "state": {
       "layout": "IPY_MODEL_9c3b2f5fb7344b418f9b1fa3e53efb5e",
       "style": "IPY_MODEL_ea70f15fb4794896b7ce727e417b8b3e",
       "tooltip": null
      }
     },
     "518a9d447a1e4746b9fa101ede87fef8": {
      "model_module": "@jupyter-widgets/base",
      "model_module_version": "2.0.0",
      "model_name": "LayoutModel",
      "state": {
       "height": "auto",
       "width": "auto"
      }
     },
     "5341b1c299ea484eb7ac2a3ce9ca5ef5": {
      "model_module": "@jupyter-widgets/controls",
      "model_module_version": "2.0.0",
      "model_name": "VBoxModel",
      "state": {
       "children": [
        "IPY_MODEL_2ec35f447bdf4763bcd635c3e5c5b776",
        "IPY_MODEL_2ec35f447bdf4763bcd635c3e5c5b776",
        "IPY_MODEL_053044c0e45a4999bf1fd1ed04c41e8e"
       ],
       "layout": "IPY_MODEL_01051b95eadb4612b74f3190a0b9b11e"
      }
     },
     "53b96b3f91464c1fb184f6ab3eac69ba": {
      "model_module": "@jupyter-widgets/base",
      "model_module_version": "2.0.0",
      "model_name": "LayoutModel",
      "state": {
       "height": "auto",
       "width": "auto"
      }
     },
     "53f851a57112460bb8f7743bec5ebd07": {
      "model_module": "@jupyter-widgets/controls",
      "model_module_version": "2.0.0",
      "model_name": "VBoxModel",
      "state": {
       "children": [
        "IPY_MODEL_d71ba86472fc4392a5024d4c9c2f9d82",
        "IPY_MODEL_2361b406a69a4a72bcc8c29d5c88ca2f",
        "IPY_MODEL_634a6b8830924489a027ab492c8cce83"
       ],
       "layout": "IPY_MODEL_93b6cf1a4ec44f17a84c63ba65e48de2"
      }
     },
     "5451273a6026464aa9adc1e09d71aed6": {
      "model_module": "@jupyter-widgets/base",
      "model_module_version": "2.0.0",
      "model_name": "LayoutModel",
      "state": {
       "grid_template_areas": "\"center center center\"\n\"footer footer footer\"",
       "grid_template_columns": "1fr 2fr 1fr",
       "grid_template_rows": "3fr 1fr"
      }
     },
     "54ed3fd958764359ba138bfe5496ab69": {
      "model_module": "@jupyter-widgets/base",
      "model_module_version": "2.0.0",
      "model_name": "LayoutModel",
      "state": {}
     },
     "54f974a3cb974adf8f3f9207ac595469": {
      "model_module": "@jupyter-widgets/base",
      "model_module_version": "2.0.0",
      "model_name": "LayoutModel",
      "state": {
       "height": "auto",
       "width": "auto"
      }
     },
     "553af4a1f58147e4b33074f279532bd1": {
      "model_module": "@jupyter-widgets/base",
      "model_module_version": "2.0.0",
      "model_name": "LayoutModel",
      "state": {}
     },
     "561fe8138db443c093d6cc3351902f31": {
      "model_module": "@jupyter-widgets/base",
      "model_module_version": "2.0.0",
      "model_name": "LayoutModel",
      "state": {}
     },
     "56ceb4e7ed6545309399227ec6d636be": {
      "model_module": "@jupyter-widgets/controls",
      "model_module_version": "2.0.0",
      "model_name": "ButtonModel",
      "state": {
       "layout": "IPY_MODEL_07618eb9b926401195d35b9bd9fffce2",
       "style": "IPY_MODEL_fe3d4f825e1641d7907fe337f2401113",
       "tooltip": null
      }
     },
     "57c0f0f6bb114d97b8015f8472d203eb": {
      "model_module": "@jupyter-widgets/base",
      "model_module_version": "2.0.0",
      "model_name": "LayoutModel",
      "state": {}
     },
     "584f8df7e323428a918883178fcb7b44": {
      "model_module": "@jupyter-widgets/base",
      "model_module_version": "2.0.0",
      "model_name": "LayoutModel",
      "state": {
       "height": "auto",
       "width": "auto"
      }
     },
     "591b506a0ba54bb4b9d0410148a53458": {
      "model_module": "@jupyter-widgets/base",
      "model_module_version": "2.0.0",
      "model_name": "LayoutModel",
      "state": {
       "height": "auto",
       "width": "auto"
      }
     },
     "59fe899c23ae4ad3af76c4f28b168210": {
      "model_module": "@jupyter-widgets/controls",
      "model_module_version": "2.0.0",
      "model_name": "VBoxModel",
      "state": {
       "children": [
        "IPY_MODEL_8d1f0c2a4c444832a99f6647f8f32ee3"
       ],
       "layout": "IPY_MODEL_d2bf5d67f64d4ded915a5f17691dfc78"
      }
     },
     "5b3a138b4e3e4d71b751703e7073a8a9": {
      "model_module": "@jupyter-widgets/output",
      "model_module_version": "1.0.0",
      "model_name": "OutputModel",
      "state": {
       "layout": "IPY_MODEL_08db0a2b959f45d89270b4aac26d96dc",
       "outputs": [
        {
         "data": {
          "application/vnd.jupyter.widget-view+json": {
           "model_id": "a967393a78074b8997271dca50979e78",
           "version_major": 2,
           "version_minor": 0
          },
          "text/plain": "sfc_container(children=(AppLayout(children=(VBox(children=(Button(description='header', layout=Layout(height='…"
         },
         "metadata": {},
         "output_type": "display_data"
        }
       ]
      }
     },
     "5b68e1644c7c4b49956ba902f2d4e4b9": {
      "model_module": "@jupyter-widgets/base",
      "model_module_version": "2.0.0",
      "model_name": "LayoutModel",
      "state": {
       "grid_area": "left-sidebar"
      }
     },
     "5b9644028885457c9c18a892d761574d": {
      "model_module": "@jupyter-widgets/controls",
      "model_module_version": "2.0.0",
      "model_name": "ButtonStyleModel",
      "state": {
       "button_color": "#dbecfe",
       "font_family": null,
       "font_size": null,
       "font_style": null,
       "font_variant": null,
       "font_weight": null,
       "text_color": null,
       "text_decoration": null
      }
     },
     "5bdbb50f13ad42808e50e273b4f1ffa4": {
      "model_module": "@jupyter-widgets/controls",
      "model_module_version": "2.0.0",
      "model_name": "VBoxModel",
      "state": {
       "children": [
        "IPY_MODEL_ee4560e4699c46e0803481b634da05b6"
       ],
       "layout": "IPY_MODEL_c2ab538b40fe4bf2a7206a77ed7dd387"
      }
     },
     "5cd3c52fe6b84452b47907dfb548382b": {
      "model_module": "@jupyter-widgets/controls",
      "model_module_version": "2.0.0",
      "model_name": "ButtonModel",
      "state": {
       "layout": "IPY_MODEL_9dfdd3b0f77148b2be0e9181059b6ecc",
       "style": "IPY_MODEL_da54c94023d94813ab6b32eae0aefe6d",
       "tooltip": null
      }
     },
     "5cdb035b8a0f41b8810c4b57d55119f5": {
      "model_module": "@jupyter-widgets/controls",
      "model_module_version": "2.0.0",
      "model_name": "ButtonStyleModel",
      "state": {
       "button_color": "#dbecfe",
       "font_family": null,
       "font_size": null,
       "font_style": null,
       "font_variant": null,
       "font_weight": null,
       "text_color": null,
       "text_decoration": null
      }
     },
     "5d0ed2830f414be8a86c0934a003a6bd": {
      "model_module": "@jupyter-widgets/base",
      "model_module_version": "2.0.0",
      "model_name": "LayoutModel",
      "state": {
       "height": "auto",
       "width": "auto"
      }
     },
     "5f0c16d7e33a4bd59316b639ba53b027": {
      "model_module": "@jupyter-widgets/base",
      "model_module_version": "2.0.0",
      "model_name": "LayoutModel",
      "state": {
       "height": "auto",
       "width": "auto"
      }
     },
     "606730e0d0204e9b9a0992b3b603590a": {
      "model_module": "@jupyter-widgets/controls",
      "model_module_version": "2.0.0",
      "model_name": "ButtonModel",
      "state": {
       "description": "center",
       "layout": "IPY_MODEL_07afb851be3e4708bec08bfbef0734e6",
       "style": "IPY_MODEL_aae68ba1f51e44a88928b3dd6d974346",
       "tooltip": null
      }
     },
     "616249d51f444b34b6f6c0684b3165e0": {
      "model_module": "@jupyter-widgets/controls",
      "model_module_version": "2.0.0",
      "model_name": "VBoxModel",
      "state": {
       "children": [
        "IPY_MODEL_cac5c3f508c24a28b0fa9d8c628a2929"
       ],
       "layout": "IPY_MODEL_09e9acdc5a4a4193bc01b81959cf6c8c"
      }
     },
     "6231e9c6b4314fae88128e79677b551c": {
      "model_module": "@jupyter-widgets/base",
      "model_module_version": "2.0.0",
      "model_name": "LayoutModel",
      "state": {
       "height": "auto",
       "width": "auto"
      }
     },
     "634a6b8830924489a027ab492c8cce83": {
      "model_module": "@jupyter-widgets/controls",
      "model_module_version": "2.0.0",
      "model_name": "ButtonModel",
      "state": {
       "layout": "IPY_MODEL_0c45036c2b084366871ef9fee3d805f2",
       "style": "IPY_MODEL_32b25bfe33ce44b3acbb53d17408bb01",
       "tooltip": null
      }
     },
     "63503c6467864741a5892b98e243f3b4": {
      "model_module": "@jupyter-widgets/controls",
      "model_module_version": "2.0.0",
      "model_name": "ButtonModel",
      "state": {
       "layout": "IPY_MODEL_a899de996741408fa1083ba732670979",
       "style": "IPY_MODEL_a2618360a0fe415697f0d5b263a855eb",
       "tooltip": null
      }
     },
     "63cf48a544cc45a2a2cc972819df4111": {
      "model_module": "@jupyter-widgets/controls",
      "model_module_version": "2.0.0",
      "model_name": "ButtonModel",
      "state": {
       "description": "left",
       "layout": "IPY_MODEL_1f5749cef6284cb7bfcdd9bd36dbf382",
       "style": "IPY_MODEL_05f98ff905fe483ca553a6c2e783e023",
       "tooltip": null
      }
     },
     "6422099053084583a6e4077e773b9906": {
      "model_module": "@jupyter-widgets/controls",
      "model_module_version": "2.0.0",
      "model_name": "ButtonStyleModel",
      "state": {
       "button_color": "#ecf5fe",
       "font_family": null,
       "font_size": null,
       "font_style": null,
       "font_variant": null,
       "font_weight": null,
       "text_color": null,
       "text_decoration": null
      }
     },
     "64369ba55e40493e9d3df3d27097d5df": {
      "model_module": "@jupyter-widgets/base",
      "model_module_version": "2.0.0",
      "model_name": "LayoutModel",
      "state": {}
     },
     "6525ceeeb0ec436985ea2e0aae9170df": {
      "model_module": "@jupyter-widgets/controls",
      "model_module_version": "2.0.0",
      "model_name": "ButtonModel",
      "state": {
       "description": "left",
       "layout": "IPY_MODEL_43df1b92ed5947c5af3064b14d999eae",
       "style": "IPY_MODEL_3aa74e0fc8234257a412a8c663662df0",
       "tooltip": null
      }
     },
     "6607a70f54e240b58627548fc61a3279": {
      "model_module": "@jupyter-widgets/controls",
      "model_module_version": "2.0.0",
      "model_name": "ButtonStyleModel",
      "state": {
       "button_color": "#dbecfe",
       "font_family": null,
       "font_size": null,
       "font_style": null,
       "font_variant": null,
       "font_weight": null,
       "text_color": null,
       "text_decoration": null
      }
     },
     "66edd0431dd34e238fe41f50e36481c5": {
      "model_module": "@jupyter-widgets/controls",
      "model_module_version": "2.0.0",
      "model_name": "VBoxModel",
      "state": {
       "children": [
        "IPY_MODEL_682245ced4594263917120796547fcda"
       ],
       "layout": "IPY_MODEL_7c14113f61d946958b86089d55eb36e0"
      }
     },
     "67917ed1affb48248fc47e102e2774da": {
      "model_module": "@jupyter-widgets/base",
      "model_module_version": "2.0.0",
      "model_name": "LayoutModel",
      "state": {}
     },
     "682245ced4594263917120796547fcda": {
      "model_module": "@jupyter-widgets/controls",
      "model_module_version": "2.0.0",
      "model_name": "GridBoxModel",
      "state": {
       "children": [
        "IPY_MODEL_50cdf55f144e48e3bf33292ae69b47d8",
        "IPY_MODEL_be19a6e5d77044b1a57b3068796a225d"
       ],
       "layout": "IPY_MODEL_2c52eea1f8f4402e8d74bf97a5e32c41"
      }
     },
     "682339e2c3204a568ad658548b61e602": {
      "model_module": "@jupyter-widgets/controls",
      "model_module_version": "2.0.0",
      "model_name": "VBoxModel",
      "state": {
       "children": [
        "IPY_MODEL_fb958c7841ba4c63b1d9e0f1980a5823",
        "IPY_MODEL_96956f83ded5400eb65fb554ac28c7f0",
        "IPY_MODEL_a0e2c7569a1a487bb33319df22e75c9c"
       ],
       "layout": "IPY_MODEL_b114a6f8cb4f448b8663a6f38f1fc181"
      }
     },
     "683eefe4a7474173b845dd101368bdec": {
      "model_module": "@jupyter-widgets/base",
      "model_module_version": "2.0.0",
      "model_name": "LayoutModel",
      "state": {}
     },
     "68c52b7d0aec4bc588aa18f05e539f17": {
      "model_module": "@jupyter-widgets/base",
      "model_module_version": "2.0.0",
      "model_name": "LayoutModel",
      "state": {
       "height": "auto",
       "width": "auto"
      }
     },
     "694b2f3eab7c4351bff3ea198ff26d0d": {
      "model_module": "@jupyter-widgets/base",
      "model_module_version": "2.0.0",
      "model_name": "LayoutModel",
      "state": {
       "grid_template_areas": "\"header header header\"\n\"left-sidebar center center\"",
       "grid_template_columns": "1fr 2fr 1fr",
       "grid_template_rows": "1fr 3fr"
      }
     },
     "69d2e89d79294ed1812dfbafe9725dc9": {
      "model_module": "@jupyter-widgets/base",
      "model_module_version": "2.0.0",
      "model_name": "LayoutModel",
      "state": {
       "height": "auto",
       "width": "auto"
      }
     },
     "69df8a7425ec4ccdb998e7007338a6b9": {
      "model_module": "@jupyter-widgets/base",
      "model_module_version": "2.0.0",
      "model_name": "LayoutModel",
      "state": {}
     },
     "6a72f5dd21914bc39581b726479c0fe0": {
      "model_module": "@jupyter-widgets/controls",
      "model_module_version": "2.0.0",
      "model_name": "ButtonStyleModel",
      "state": {
       "button_color": "#c8e3fe",
       "font_family": null,
       "font_size": null,
       "font_style": null,
       "font_variant": null,
       "font_weight": null,
       "text_color": null,
       "text_decoration": null
      }
     },
     "6bb32372c0fc42fea1286aa22b6372ae": {
      "model_module": "@jupyter-widgets/base",
      "model_module_version": "2.0.0",
      "model_name": "LayoutModel",
      "state": {}
     },
     "6c56e5011caa4f4bb178faae8c7a7006": {
      "model_module": "@jupyter-widgets/controls",
      "model_module_version": "2.0.0",
      "model_name": "ButtonModel",
      "state": {
       "layout": "IPY_MODEL_7dd3d5e8ffae4b23878ab9f82db0457d",
       "style": "IPY_MODEL_9b3e1e7f481844199bfeb923367da1e4",
       "tooltip": null
      }
     },
     "6c822a13acaf4032a4ad402e27ab75ff": {
      "model_module": "@jupyter-widgets/controls",
      "model_module_version": "2.0.0",
      "model_name": "ButtonStyleModel",
      "state": {
       "button_color": "#c8e3fe",
       "font_family": null,
       "font_size": null,
       "font_style": null,
       "font_variant": null,
       "font_weight": null,
       "text_color": null,
       "text_decoration": null
      }
     },
     "6d473e52589248e4be84ee2c7c28fdfc": {
      "model_module": "@jupyter-widgets/controls",
      "model_module_version": "2.0.0",
      "model_name": "ButtonModel",
      "state": {
       "description": "header",
       "layout": "IPY_MODEL_69d2e89d79294ed1812dfbafe9725dc9",
       "style": "IPY_MODEL_f95d5075fbf649bc84a890d68556e9ca",
       "tooltip": null
      }
     },
     "6e11721144a24adc9b0c9734fe72d4a5": {
      "model_module": "@jupyter-widgets/base",
      "model_module_version": "2.0.0",
      "model_name": "LayoutModel",
      "state": {
       "height": "auto",
       "width": "auto"
      }
     },
     "6eec3943c716425aa88e595e820da8bd": {
      "model_module": "@jupyter-widgets/controls",
      "model_module_version": "2.0.0",
      "model_name": "ButtonStyleModel",
      "state": {
       "button_color": "#dbecfe",
       "font_family": null,
       "font_size": null,
       "font_style": null,
       "font_variant": null,
       "font_weight": null,
       "text_color": null,
       "text_decoration": null
      }
     },
     "6ff10b65cd8343b387d2958d663bca11": {
      "model_module": "@jupyter-widgets/controls",
      "model_module_version": "2.0.0",
      "model_name": "VBoxModel",
      "state": {
       "children": [
        "IPY_MODEL_5341b1c299ea484eb7ac2a3ce9ca5ef5"
       ],
       "layout": "IPY_MODEL_54ed3fd958764359ba138bfe5496ab69"
      }
     },
     "70425ae654da4dfe8346b569bc799c20": {
      "model_module": "@jupyter-widgets/base",
      "model_module_version": "2.0.0",
      "model_name": "LayoutModel",
      "state": {
       "height": "auto",
       "width": "auto"
      }
     },
     "70a1fd869b624cebb078ca62123bc5ff": {
      "model_module": "@jupyter-widgets/controls",
      "model_module_version": "2.0.0",
      "model_name": "VBoxModel",
      "state": {
       "children": [
        "IPY_MODEL_d6a4f7a5378f4933bace1caaa6bc0793"
       ],
       "layout": "IPY_MODEL_01210e3330c449df9cf290aba365cdc4"
      }
     },
     "70d947a6bc844bd3b3b747c210d4628f": {
      "model_module": "@jupyter-widgets/base",
      "model_module_version": "2.0.0",
      "model_name": "LayoutModel",
      "state": {
       "height": "auto",
       "width": "auto"
      }
     },
     "718d5481c07f4c9f99242dbab5ce5714": {
      "model_module": "@jupyter-widgets/controls",
      "model_module_version": "2.0.0",
      "model_name": "ButtonStyleModel",
      "state": {
       "button_color": "#ecf5fe",
       "font_family": null,
       "font_size": null,
       "font_style": null,
       "font_variant": null,
       "font_weight": null,
       "text_color": null,
       "text_decoration": null
      }
     },
     "72c8890135104b20b915d83fa0af8c86": {
      "model_module": "@jupyter-widgets/base",
      "model_module_version": "2.0.0",
      "model_name": "LayoutModel",
      "state": {
       "grid_area": "footer"
      }
     },
     "73b9910d2695416eb8893ce06b65e611": {
      "model_module": "@jupyter-widgets/base",
      "model_module_version": "2.0.0",
      "model_name": "LayoutModel",
      "state": {
       "height": "auto",
       "width": "auto"
      }
     },
     "73e4d5be48354ae6ac60c4c4f9709860": {
      "model_module": "@jupyter-widgets/controls",
      "model_module_version": "2.0.0",
      "model_name": "VBoxModel",
      "state": {
       "children": [
        "IPY_MODEL_9feb4d5627d1481c99490e58eb9e1897",
        "IPY_MODEL_9feb4d5627d1481c99490e58eb9e1897",
        "IPY_MODEL_289f118c0aeb47c8b4195204eced313f"
       ],
       "layout": "IPY_MODEL_848f5a2fb9bd43e8b136b55fc8a5c906"
      }
     },
     "747533607ce048c78180cc933a43090b": {
      "model_module": "@jupyter-widgets/controls",
      "model_module_version": "2.0.0",
      "model_name": "ButtonModel",
      "state": {
       "layout": "IPY_MODEL_4798e0f9e154439590074ed3a50fe12a",
       "style": "IPY_MODEL_2ec9cce97d2145e2a50b7aba84ed9a3a",
       "tooltip": null
      }
     },
     "74d1ef8e71b049f9b96ed54020b33318": {
      "model_module": "@jupyter-widgets/controls",
      "model_module_version": "2.0.0",
      "model_name": "ButtonModel",
      "state": {
       "layout": "IPY_MODEL_6e11721144a24adc9b0c9734fe72d4a5",
       "style": "IPY_MODEL_ca3456fb34cc44e2b8742844ad2ee561",
       "tooltip": null
      }
     },
     "75293e705c7c4c989fa496f45915ab1a": {
      "model_module": "@jupyter-widgets/base",
      "model_module_version": "2.0.0",
      "model_name": "LayoutModel",
      "state": {
       "grid_area": "center"
      }
     },
     "752abcb146a748b3beeb7b4aec3fe4f6": {
      "model_module": "@jupyter-widgets/controls",
      "model_module_version": "2.0.0",
      "model_name": "GridBoxModel",
      "state": {
       "children": [
        "IPY_MODEL_aac836c2e7c449f7bbdc9cd471cc69ba",
        "IPY_MODEL_3006583707d74b4da7458b81ec9d843a",
        "IPY_MODEL_b3408ad40cf148b6b6491fc09f896ae5"
       ],
       "layout": "IPY_MODEL_8ffa16ce27f546f3b9606d866003975b"
      }
     },
     "75818972bf084e1781a9345e39b4edac": {
      "model_module": "@jupyter-widgets/controls",
      "model_module_version": "2.0.0",
      "model_name": "VBoxModel",
      "state": {
       "children": [
        "IPY_MODEL_8d8770819cbe4572b5a0eade2fd54b76",
        "IPY_MODEL_8d8770819cbe4572b5a0eade2fd54b76",
        "IPY_MODEL_3d30e2948c374dd69a45c08b1d879197"
       ],
       "layout": "IPY_MODEL_dcc7ba7f05124579b489f7d8c3a4fc16"
      }
     },
     "770f417546134ad8ba967756fa5f1bb5": {
      "model_module": "@jupyter-widgets/base",
      "model_module_version": "2.0.0",
      "model_name": "LayoutModel",
      "state": {
       "grid_area": "footer"
      }
     },
     "779916b4b7454b17819ea29ffe933172": {
      "model_module": "@jupyter-widgets/controls",
      "model_module_version": "2.0.0",
      "model_name": "VBoxModel",
      "state": {
       "children": [
        "IPY_MODEL_4badbee27c4642f5b10154bf493d3b77",
        "IPY_MODEL_426a2862719e44b8a877210ef7bdb6ea",
        "IPY_MODEL_c16c9be9ce214888800b4a1e3e17cfe0",
        "IPY_MODEL_23b0ebcb8c6f4b19abbff836c8142656",
        "IPY_MODEL_2670d5610e1447fb8b3e616e050c5335"
       ],
       "layout": "IPY_MODEL_3058714f933b406e96ab9d92ab230c05"
      }
     },
     "78e9d40e88d34866832ee4dd8f83fda4": {
      "model_module": "@jupyter-widgets/base",
      "model_module_version": "2.0.0",
      "model_name": "LayoutModel",
      "state": {
       "height": "auto",
       "width": "auto"
      }
     },
     "7a8776fd3f4249c888ccb5e66511d789": {
      "model_module": "@jupyter-widgets/controls",
      "model_module_version": "2.0.0",
      "model_name": "ButtonModel",
      "state": {
       "description": "left",
       "layout": "IPY_MODEL_2c443944593d4ed193f2515ae5a9b9e1",
       "style": "IPY_MODEL_6607a70f54e240b58627548fc61a3279",
       "tooltip": null
      }
     },
     "7bb7b2420cea4f1d90fb1342551f475a": {
      "model_module": "@jupyter-widgets/base",
      "model_module_version": "2.0.0",
      "model_name": "LayoutModel",
      "state": {}
     },
     "7be70182f7ae47079df26ceaa9fc74a4": {
      "model_module": "@jupyter-widgets/controls",
      "model_module_version": "2.0.0",
      "model_name": "ButtonStyleModel",
      "state": {
       "button_color": "#dbecfe",
       "font_family": null,
       "font_size": null,
       "font_style": null,
       "font_variant": null,
       "font_weight": null,
       "text_color": null,
       "text_decoration": null
      }
     },
     "7c0753dff1fd477fb8efee258ce89269": {
      "model_module": "@jupyter-widgets/controls",
      "model_module_version": "2.0.0",
      "model_name": "VBoxModel",
      "state": {
       "children": [
        "IPY_MODEL_ebbbfe0f0ff8402d900a4c0bb3fed263"
       ],
       "layout": "IPY_MODEL_64369ba55e40493e9d3df3d27097d5df"
      }
     },
     "7c14113f61d946958b86089d55eb36e0": {
      "model_module": "@jupyter-widgets/base",
      "model_module_version": "2.0.0",
      "model_name": "LayoutModel",
      "state": {}
     },
     "7dd3d5e8ffae4b23878ab9f82db0457d": {
      "model_module": "@jupyter-widgets/base",
      "model_module_version": "2.0.0",
      "model_name": "LayoutModel",
      "state": {
       "height": "auto",
       "width": "auto"
      }
     },
     "7e9f43c139aa48dfbce06555d9035e62": {
      "model_module": "@jupyter-widgets/base",
      "model_module_version": "2.0.0",
      "model_name": "LayoutModel",
      "state": {}
     },
     "7f53c3533bb54e589b410631081edd28": {
      "model_module": "@jupyter-widgets/controls",
      "model_module_version": "2.0.0",
      "model_name": "VBoxModel",
      "state": {
       "children": [
        "IPY_MODEL_d88a357d0e844c65b4e1f49a57e00f3b",
        "IPY_MODEL_d88a357d0e844c65b4e1f49a57e00f3b",
        "IPY_MODEL_5b3a138b4e3e4d71b751703e7073a8a9"
       ],
       "layout": "IPY_MODEL_9ae3b4515a20493d8b57d51fb78798c1"
      }
     },
     "80153fe03f1940148f3cde44cdfe3469": {
      "model_module": "@jupyter-widgets/controls",
      "model_module_version": "2.0.0",
      "model_name": "ButtonStyleModel",
      "state": {
       "button_color": "#ecf5fe",
       "font_family": null,
       "font_size": null,
       "font_style": null,
       "font_variant": null,
       "font_weight": null,
       "text_color": null,
       "text_decoration": null
      }
     },
     "81d2f85184f14358afba3cb2c77dc619": {
      "model_module": "@jupyter-widgets/base",
      "model_module_version": "2.0.0",
      "model_name": "LayoutModel",
      "state": {}
     },
     "83a9d2abfaea40719bc15a4d19bbb71e": {
      "model_module": "@jupyter-widgets/controls",
      "model_module_version": "2.0.0",
      "model_name": "ButtonModel",
      "state": {
       "layout": "IPY_MODEL_43d5c30185014844bdee19cabf5b4111",
       "style": "IPY_MODEL_4d3a832326534d2d8f63c5900a553a3d",
       "tooltip": null
      }
     },
     "84518de8d9244f3f8c7a4065e0cacc85": {
      "model_module": "@jupyter-widgets/controls",
      "model_module_version": "2.0.0",
      "model_name": "GridBoxModel",
      "state": {
       "children": [
        "IPY_MODEL_9fec25e57ccf40d485d59670ece3bbd1",
        "IPY_MODEL_de0db0388c91401481180e19898ea68f",
        "IPY_MODEL_03630f7786a8485cac377a07f77dd661",
        "IPY_MODEL_245b06d334c945a2874d4e412a331fb4"
       ],
       "layout": "IPY_MODEL_4fb60902c8fb416bbf652cd0082d8231"
      }
     },
     "848f5a2fb9bd43e8b136b55fc8a5c906": {
      "model_module": "@jupyter-widgets/base",
      "model_module_version": "2.0.0",
      "model_name": "LayoutModel",
      "state": {}
     },
     "85218fafa9f242229e5106c92f13551d": {
      "model_module": "@jupyter-widgets/controls",
      "model_module_version": "2.0.0",
      "model_name": "ButtonStyleModel",
      "state": {
       "button_color": "#dbecfe",
       "font_family": null,
       "font_size": null,
       "font_style": null,
       "font_variant": null,
       "font_weight": null,
       "text_color": null,
       "text_decoration": null
      }
     },
     "87e8c809c1194e2aaf3955e4ff2c78a0": {
      "model_module": "@jupyter-widgets/base",
      "model_module_version": "2.0.0",
      "model_name": "LayoutModel",
      "state": {
       "height": "auto",
       "width": "auto"
      }
     },
     "887a5ee21b294d28b821242a3925cf09": {
      "model_module": "@jupyter-widgets/controls",
      "model_module_version": "2.0.0",
      "model_name": "VBoxModel",
      "state": {
       "children": [
        "IPY_MODEL_c36b3d048faa41abbe7bc0e16e7a5418",
        "IPY_MODEL_3fa6ad3117e94c38a8d4bde06031e5c9",
        "IPY_MODEL_ad8f09ae17bf46b09c84a5e4dfea741c"
       ],
       "layout": "IPY_MODEL_88c78d8a249349bab2f95866475d7060"
      }
     },
     "88c78d8a249349bab2f95866475d7060": {
      "model_module": "@jupyter-widgets/base",
      "model_module_version": "2.0.0",
      "model_name": "LayoutModel",
      "state": {
       "grid_area": "right-sidebar"
      }
     },
     "8907518c02af448a8dc2d225a73573c3": {
      "model_module": "@jupyter-widgets/controls",
      "model_module_version": "2.0.0",
      "model_name": "ButtonStyleModel",
      "state": {
       "button_color": "#c8e3fe",
       "font_family": null,
       "font_size": null,
       "font_style": null,
       "font_variant": null,
       "font_weight": null,
       "text_color": null,
       "text_decoration": null
      }
     },
     "895284358f084567a8a1bc79b7441b68": {
      "model_module": "@jupyter-widgets/base",
      "model_module_version": "2.0.0",
      "model_name": "LayoutModel",
      "state": {
       "height": "auto",
       "width": "auto"
      }
     },
     "89c20825779547e68c0d1d0b5a5dfcd6": {
      "model_module": "@jupyter-widgets/base",
      "model_module_version": "2.0.0",
      "model_name": "LayoutModel",
      "state": {}
     },
     "8d1f0c2a4c444832a99f6647f8f32ee3": {
      "model_module": "@jupyter-widgets/controls",
      "model_module_version": "2.0.0",
      "model_name": "GridBoxModel",
      "state": {
       "children": [
        "IPY_MODEL_4754ede8edbb4b8cac7e20ed98bd8542",
        "IPY_MODEL_2fce173345a64e4c9c74bc4e0c525284",
        "IPY_MODEL_36b5a1cdd1ea4f17932563e024f9c046",
        "IPY_MODEL_07da4b1a263f4cfb81e7e702871166a3",
        "IPY_MODEL_779916b4b7454b17819ea29ffe933172"
       ],
       "layout": "IPY_MODEL_fa9599f1f910445faf508eb321e24189"
      }
     },
     "8d522709b9514f86a22de87b3b8b09ac": {
      "model_module": "@jupyter-widgets/controls",
      "model_module_version": "2.0.0",
      "model_name": "ButtonStyleModel",
      "state": {
       "button_color": "#c8e3fe",
       "font_family": null,
       "font_size": null,
       "font_style": null,
       "font_variant": null,
       "font_weight": null,
       "text_color": null,
       "text_decoration": null
      }
     },
     "8d8770819cbe4572b5a0eade2fd54b76": {
      "model_module": "anywidget",
      "model_module_version": "0.9.3",
      "model_name": "AnyModel",
      "state": {
       "_anywidget_id": "ipywui.widgets.custom.message.MessageWidget",
       "_css": ".wui-message-root {\n    display: flex;\n    position: absolute;\n    left: 0;\n    right: 0;\n    top: 0;\n}\n\n.wui-message-container {\n    align-items: center;\n    display: flex;\n    flex-direction: column-reverse;\n    justify-content: center;\n    min-height: 100%;\n    outline: none;\n    width: 100%;\n\n    -webkit-tap-highlight-color: rgba(0,0,0,0);\n    bottom: 0;\n    left: 0;\n    right: 0;\n    top: 0;\n}\n\n.wui-message--success {\n    --wui-message-bg-color: #f0f9eb;\n    --wui-message-border-color: #e1f3d8;\n    --wui-message-text-color: #67c23a;\n}\n.wui-message--warning {\n    --wui-message-bg-color: #fdf6ec;\n    --wui-message-border-color: #faecd8;\n    --wui-message-text-color: #e6a23c;\n}\n.wui-message--info {\n    --wui-message-bg-color: #f4f4f5;\n    --wui-message-border-color: #e9e9eb;\n    --wui-message-text-color: #909399;\n}\n.wui-message--error {\n    --wui-message-bg-color: #fef0f0;\n    --wui-message-border-color: #fde2e2;\n    --wui-message-text-color: #f56c6c;\n}\n\n@keyframes msg-open {\n    0% {\n        opacity: 0;\n        -webkit-transform: translateY(-120%);\n        transform: translateY(-120%)\n    }\n    to {\n        -webkit-transform: translateY(0);\n        transform: translateY(0)\n    }\n}\n\n@keyframes msg-close {\n    0% {\n        opacity: 1;\n        -webkit-transform: scale(1);\n        transform: scale(1)\n    }\n    to {\n        opacity: 0;\n        -webkit-transform: scale(.9);\n        transform: scale(.9)\n    }\n}\n.wui-message[data-state=entered],.wui-message[data-state=entering] {\n    -webkit-animation: msg-open .24s cubic-bezier(.175,.885,.32,1.175) both;\n    animation: msg-open .24s cubic-bezier(.175,.885,.32,1.175) both\n}\n\n.wui-message[data-state=exiting] {\n    -webkit-animation: msg-close .12s cubic-bezier(.4,0,1,1) both;\n    animation: msg-close .12s cubic-bezier(.4,0,1,1) both\n}\n\n.wui-message {\n    width: -webkit-fit-content;\n    width: -moz-fit-content;\n    width: fit-content;\n    z-index: 2004;\n    max-width: calc(100% - 32px);\n    margin-top: 8px;\n    box-sizing: border-box;\n    /*border-radius: var(--wui-border-radius-base);*/\n    /*border-width: var(--wui-border-width);*/\n    /*border-style: var(--wui-border-style);*/\n    border-color: var(--wui-message-border-color);\n    /*left: 50%;*/\n    /*top: 20px;*/\n    /*transform: translateX(-50%);*/\n    background-color: var(--wui-message-bg-color);\n    /*transition: opacity var(--wui-transition-duration),transform .4s,top .4s;*/\n    /*padding: var(--wui-message-padding);*/\n    display: flex;\n    align-items: center;\n}\n\n/*.wui-message--success */\n.wui-message__content {\n    color: var(--wui-message-text-color);\n    font-size: 14px;\n    line-height: 18px;\n    margin: 10px 14px 10px 14px;\n    overflow-wrap: break-word;\n}\n\n.wui-message__closeBtn {\n    /*cursor: pointer;*/\n    font-style: normal;\n    /*color: gray;*/\n    padding-right: 14px;\n    /*font-size: 13px;*/\n    user-select: none;\n\n    background: transparent;\n    border: none;\n    color: gray;\n    cursor: pointer;\n    font-size: 13px;\n    font-weight: 400;\n    line-height: 1;\n    outline: none;\n    /*padding: 4px;*/\n    text-align: center;\n    transition: opacity .3s;\n    /*width: 100%;*/\n}",
       "_esm": "function closeMsg(msgDom) {\n  if (!msgDom) {\n    return;\n  }\n  msgDom.setAttribute('data-state', 'exiting');\n  msgDom.remove();\n}\n\nfunction createMsg(options) {\n  const {message, msg_id, type = 'info', show_close = false} = options;\n  const msgDom = document.createElement('div');\n  msgDom.className += ` wui-message--${type} wui-message`;\n  msgDom.setAttribute('data-state', 'entered');\n  msgDom.setAttribute('id', msg_id);\n  const msgContent = document.createElement('p');\n  msgContent.className += ` wui-message--${type} wui-message__content`;\n  msgContent.innerText = message;\n  msgDom.appendChild(msgContent);\n  if (show_close) {\n    const closeBtn = document.createElement('i');\n    closeBtn.className += 'wui-message__closeBtn';\n    closeBtn.innerText = 'x';\n    closeBtn.addEventListener('click', (ev) => {\n      closeMsg(msgDom);\n    })\n    msgDom.appendChild(closeBtn);\n  }\n  return msgDom;\n}\n\nexport async function render(view) {\n  let model = view.model;\n  const msgRoot = view.el;\n  msgRoot.className += ' wui-message-root'\n\n  const msgContainer = document.createElement('div');\n  msgContainer.className += ' wui-message-container';\n  msgRoot.appendChild(msgContainer)\n\n  model.on(\"change:message_options\", () => {\n    const options = model.get(\"message_options\");\n    const msg = createMsg(options);\n    msgContainer.appendChild(msg);\n    const {duration = 3000} = options;\n    if (duration > 0) {\n      setTimeout(() => {\n        closeMsg(msg)\n      }, duration);\n    }\n  })\n\n  model.on(\"change:close_msg_id\", () => {\n    const msg_id = model.get(\"close_msg_id\");\n    const msgDom = document.getElementById(msg_id);\n    closeMsg(msgDom);\n  })\n}\n",
       "_model_module": "anywidget",
       "_model_module_version": "0.9.3",
       "_model_name": "AnyModel",
       "_view_module": "anywidget",
       "_view_module_version": "0.9.3",
       "_view_name": "AnyView",
       "close_msg_id": "",
       "layout": "IPY_MODEL_140e90d68f804c019800bd35d0c9bd76",
       "message_options": {
        "duration": 3000,
        "message": "",
        "show_close": false,
        "type": "info"
       }
      }
     },
     "8ebc25f6da6b4c749f4d8b524359e21c": {
      "model_module": "@jupyter-widgets/controls",
      "model_module_version": "2.0.0",
      "model_name": "ButtonStyleModel",
      "state": {
       "button_color": "#ecf5fe",
       "font_family": null,
       "font_size": null,
       "font_style": null,
       "font_variant": null,
       "font_weight": null,
       "text_color": null,
       "text_decoration": null
      }
     },
     "8ed76a9573ca42a0b8f84a54ec157b75": {
      "model_module": "@jupyter-widgets/controls",
      "model_module_version": "2.0.0",
      "model_name": "VBoxModel",
      "state": {
       "children": [
        "IPY_MODEL_c45fedd90a1e420e9b8c3ddc2bcee2fe"
       ],
       "layout": "IPY_MODEL_45712ae500b640bab855ebf0f91de535"
      }
     },
     "8f57d16bd8ea4cfca6870dca9b42316d": {
      "model_module": "@jupyter-widgets/controls",
      "model_module_version": "2.0.0",
      "model_name": "VBoxModel",
      "state": {
       "children": [
        "IPY_MODEL_a4c2dd015cb24b80b987eec95279f806"
       ],
       "layout": "IPY_MODEL_e7a1f5e51db1434f88d658ded7449ee2"
      }
     },
     "8ffa16ce27f546f3b9606d866003975b": {
      "model_module": "@jupyter-widgets/base",
      "model_module_version": "2.0.0",
      "model_name": "LayoutModel",
      "state": {
       "grid_template_areas": "\"header header header\"\n\"center center center\"\n\"footer footer footer\"",
       "grid_template_columns": "1fr 2fr 1fr",
       "grid_template_rows": "1fr 3fr 1fr"
      }
     },
     "911d469b4ee24709bca475d729c15381": {
      "model_module": "@jupyter-widgets/base",
      "model_module_version": "2.0.0",
      "model_name": "LayoutModel",
      "state": {
       "height": "auto",
       "width": "auto"
      }
     },
     "915b8d9d17b34e78bef577497efa81c3": {
      "model_module": "@jupyter-widgets/controls",
      "model_module_version": "2.0.0",
      "model_name": "VBoxModel",
      "state": {
       "children": [
        "IPY_MODEL_e7484553acd94ebc93520c34499dd2d6"
       ],
       "layout": "IPY_MODEL_f19e1437899642648353919f60cd2fc0"
      }
     },
     "919719baa47e4566b1965bab593e31b8": {
      "model_module": "@jupyter-widgets/controls",
      "model_module_version": "2.0.0",
      "model_name": "ButtonModel",
      "state": {
       "layout": "IPY_MODEL_19c502629cf94491b26626f530022f7c",
       "style": "IPY_MODEL_089096aa12254821a1487ce241863761",
       "tooltip": null
      }
     },
     "91e5c8eb5a794d4d8bb0b357e9cdca02": {
      "model_module": "@jupyter-widgets/base",
      "model_module_version": "2.0.0",
      "model_name": "LayoutModel",
      "state": {
       "height": "auto",
       "width": "auto"
      }
     },
     "9296fce8c2ae4bc79899877a46227fb3": {
      "model_module": "@jupyter-widgets/base",
      "model_module_version": "2.0.0",
      "model_name": "LayoutModel",
      "state": {
       "height": "auto",
       "width": "auto"
      }
     },
     "93b6cf1a4ec44f17a84c63ba65e48de2": {
      "model_module": "@jupyter-widgets/base",
      "model_module_version": "2.0.0",
      "model_name": "LayoutModel",
      "state": {
       "grid_area": "center"
      }
     },
     "942c67c241034ebc9d8710288c59218e": {
      "model_module": "@jupyter-widgets/base",
      "model_module_version": "2.0.0",
      "model_name": "LayoutModel",
      "state": {
       "height": "auto",
       "width": "auto"
      }
     },
     "94850dde7c4741ea91a4fad8c48bd765": {
      "model_module": "@jupyter-widgets/base",
      "model_module_version": "2.0.0",
      "model_name": "LayoutModel",
      "state": {
       "height": "auto",
       "width": "auto"
      }
     },
     "957566846d5a4ba9a36a75e6ee6e6067": {
      "model_module": "@jupyter-widgets/controls",
      "model_module_version": "2.0.0",
      "model_name": "ButtonModel",
      "state": {
       "description": "center",
       "layout": "IPY_MODEL_4b6828b594374bbfa25283705869c912",
       "style": "IPY_MODEL_c23dc81a69684c829b0087a31c61a1eb",
       "tooltip": null
      }
     },
     "96956f83ded5400eb65fb554ac28c7f0": {
      "model_module": "@jupyter-widgets/controls",
      "model_module_version": "2.0.0",
      "model_name": "ButtonModel",
      "state": {
       "description": "center",
       "layout": "IPY_MODEL_42cc2b09c0c94b22b566ece0f4b89991",
       "style": "IPY_MODEL_f631c8dae9064659a3f7ba312847eca0",
       "tooltip": null
      }
     },
     "9a5874efc4a04e418d2e0bfe63377a8d": {
      "model_module": "@jupyter-widgets/base",
      "model_module_version": "2.0.0",
      "model_name": "LayoutModel",
      "state": {
       "height": "auto",
       "width": "auto"
      }
     },
     "9ae3b4515a20493d8b57d51fb78798c1": {
      "model_module": "@jupyter-widgets/base",
      "model_module_version": "2.0.0",
      "model_name": "LayoutModel",
      "state": {}
     },
     "9b3e1e7f481844199bfeb923367da1e4": {
      "model_module": "@jupyter-widgets/controls",
      "model_module_version": "2.0.0",
      "model_name": "ButtonStyleModel",
      "state": {
       "button_color": "#ecf5fe",
       "font_family": null,
       "font_size": null,
       "font_style": null,
       "font_variant": null,
       "font_weight": null,
       "text_color": null,
       "text_decoration": null
      }
     },
     "9b71b0001d3343e6b92821b28e01c3ee": {
      "model_module": "@jupyter-widgets/controls",
      "model_module_version": "2.0.0",
      "model_name": "ButtonStyleModel",
      "state": {
       "button_color": "#c8e3fe",
       "font_family": null,
       "font_size": null,
       "font_style": null,
       "font_variant": null,
       "font_weight": null,
       "text_color": null,
       "text_decoration": null
      }
     },
     "9b867a68574d40f5b7fc86481aa58f23": {
      "model_module": "@jupyter-widgets/controls",
      "model_module_version": "2.0.0",
      "model_name": "ButtonStyleModel",
      "state": {
       "button_color": "#c8e3fe",
       "font_family": null,
       "font_size": null,
       "font_style": null,
       "font_variant": null,
       "font_weight": null,
       "text_color": null,
       "text_decoration": null
      }
     },
     "9c3b2f5fb7344b418f9b1fa3e53efb5e": {
      "model_module": "@jupyter-widgets/base",
      "model_module_version": "2.0.0",
      "model_name": "LayoutModel",
      "state": {
       "height": "auto",
       "width": "auto"
      }
     },
     "9ca7ba0f1c7f412d88aef7fc83085adb": {
      "model_module": "@jupyter-widgets/controls",
      "model_module_version": "2.0.0",
      "model_name": "ButtonStyleModel",
      "state": {
       "button_color": "#ecf5fe",
       "font_family": null,
       "font_size": null,
       "font_style": null,
       "font_variant": null,
       "font_weight": null,
       "text_color": null,
       "text_decoration": null
      }
     },
     "9de57a9571624401b5ca1625ec94959c": {
      "model_module": "@jupyter-widgets/controls",
      "model_module_version": "2.0.0",
      "model_name": "ButtonStyleModel",
      "state": {
       "button_color": "#dbecfe",
       "font_family": null,
       "font_size": null,
       "font_style": null,
       "font_variant": null,
       "font_weight": null,
       "text_color": null,
       "text_decoration": null
      }
     },
     "9dfd738e17754effa12fd4b8eacd0a96": {
      "model_module": "@jupyter-widgets/base",
      "model_module_version": "2.0.0",
      "model_name": "LayoutModel",
      "state": {}
     },
     "9dfdd3b0f77148b2be0e9181059b6ecc": {
      "model_module": "@jupyter-widgets/base",
      "model_module_version": "2.0.0",
      "model_name": "LayoutModel",
      "state": {
       "height": "auto",
       "width": "auto"
      }
     },
     "9e1fcf776d1e47afbc006dccf5b1ac6b": {
      "model_module": "@jupyter-widgets/controls",
      "model_module_version": "2.0.0",
      "model_name": "GridBoxModel",
      "state": {
       "children": [
        "IPY_MODEL_4a41d6b7f09d4e119770f73327a901c1",
        "IPY_MODEL_f6907b76b5b644e7b9a13ef6f92d6d82"
       ],
       "layout": "IPY_MODEL_5451273a6026464aa9adc1e09d71aed6"
      }
     },
     "9eb711b877b047f89b46bde9e6645480": {
      "model_module": "@jupyter-widgets/controls",
      "model_module_version": "2.0.0",
      "model_name": "ButtonStyleModel",
      "state": {
       "button_color": "#ecf5fe",
       "font_family": null,
       "font_size": null,
       "font_style": null,
       "font_variant": null,
       "font_weight": null,
       "text_color": null,
       "text_decoration": null
      }
     },
     "9ec910fc823f498d97d06f4ca26b29f8": {
      "model_module": "@jupyter-widgets/controls",
      "model_module_version": "2.0.0",
      "model_name": "ButtonModel",
      "state": {
       "layout": "IPY_MODEL_dc59c9ff75034eb4a5ca2c0aabd2b9c2",
       "style": "IPY_MODEL_c931a4ee27f44ce08e6af44b4c8deda2",
       "tooltip": null
      }
     },
     "9eef8801692f4e3e9d35230cc180e749": {
      "model_module": "@jupyter-widgets/controls",
      "model_module_version": "2.0.0",
      "model_name": "ButtonModel",
      "state": {
       "layout": "IPY_MODEL_68c52b7d0aec4bc588aa18f05e539f17",
       "style": "IPY_MODEL_45e196b9cd0d4710a97c34a6d0316df0",
       "tooltip": null
      }
     },
     "9f732f1c3bae4dbe9da7677bbb9119b6": {
      "model_module": "@jupyter-widgets/controls",
      "model_module_version": "2.0.0",
      "model_name": "ButtonStyleModel",
      "state": {
       "button_color": "#dbecfe",
       "font_family": null,
       "font_size": null,
       "font_style": null,
       "font_variant": null,
       "font_weight": null,
       "text_color": null,
       "text_decoration": null
      }
     },
     "9feb4d5627d1481c99490e58eb9e1897": {
      "model_module": "anywidget",
      "model_module_version": "0.9.3",
      "model_name": "AnyModel",
      "state": {
       "_anywidget_id": "ipywui.widgets.custom.message.MessageWidget",
       "_css": ".wui-message-root {\n    display: flex;\n    position: absolute;\n    left: 0;\n    right: 0;\n    top: 0;\n}\n\n.wui-message-container {\n    align-items: center;\n    display: flex;\n    flex-direction: column-reverse;\n    justify-content: center;\n    min-height: 100%;\n    outline: none;\n    width: 100%;\n\n    -webkit-tap-highlight-color: rgba(0,0,0,0);\n    bottom: 0;\n    left: 0;\n    right: 0;\n    top: 0;\n}\n\n.wui-message--success {\n    --wui-message-bg-color: #f0f9eb;\n    --wui-message-border-color: #e1f3d8;\n    --wui-message-text-color: #67c23a;\n}\n.wui-message--warning {\n    --wui-message-bg-color: #fdf6ec;\n    --wui-message-border-color: #faecd8;\n    --wui-message-text-color: #e6a23c;\n}\n.wui-message--info {\n    --wui-message-bg-color: #f4f4f5;\n    --wui-message-border-color: #e9e9eb;\n    --wui-message-text-color: #909399;\n}\n.wui-message--error {\n    --wui-message-bg-color: #fef0f0;\n    --wui-message-border-color: #fde2e2;\n    --wui-message-text-color: #f56c6c;\n}\n\n@keyframes msg-open {\n    0% {\n        opacity: 0;\n        -webkit-transform: translateY(-120%);\n        transform: translateY(-120%)\n    }\n    to {\n        -webkit-transform: translateY(0);\n        transform: translateY(0)\n    }\n}\n\n@keyframes msg-close {\n    0% {\n        opacity: 1;\n        -webkit-transform: scale(1);\n        transform: scale(1)\n    }\n    to {\n        opacity: 0;\n        -webkit-transform: scale(.9);\n        transform: scale(.9)\n    }\n}\n.wui-message[data-state=entered],.wui-message[data-state=entering] {\n    -webkit-animation: msg-open .24s cubic-bezier(.175,.885,.32,1.175) both;\n    animation: msg-open .24s cubic-bezier(.175,.885,.32,1.175) both\n}\n\n.wui-message[data-state=exiting] {\n    -webkit-animation: msg-close .12s cubic-bezier(.4,0,1,1) both;\n    animation: msg-close .12s cubic-bezier(.4,0,1,1) both\n}\n\n.wui-message {\n    width: -webkit-fit-content;\n    width: -moz-fit-content;\n    width: fit-content;\n    z-index: 2004;\n    max-width: calc(100% - 32px);\n    margin-top: 8px;\n    box-sizing: border-box;\n    /*border-radius: var(--wui-border-radius-base);*/\n    /*border-width: var(--wui-border-width);*/\n    /*border-style: var(--wui-border-style);*/\n    border-color: var(--wui-message-border-color);\n    /*left: 50%;*/\n    /*top: 20px;*/\n    /*transform: translateX(-50%);*/\n    background-color: var(--wui-message-bg-color);\n    /*transition: opacity var(--wui-transition-duration),transform .4s,top .4s;*/\n    /*padding: var(--wui-message-padding);*/\n    display: flex;\n    align-items: center;\n}\n\n/*.wui-message--success */\n.wui-message__content {\n    color: var(--wui-message-text-color);\n    font-size: 14px;\n    line-height: 18px;\n    margin: 10px 14px 10px 14px;\n    overflow-wrap: break-word;\n}\n\n.wui-message__closeBtn {\n    /*cursor: pointer;*/\n    font-style: normal;\n    /*color: gray;*/\n    padding-right: 14px;\n    /*font-size: 13px;*/\n    user-select: none;\n\n    background: transparent;\n    border: none;\n    color: gray;\n    cursor: pointer;\n    font-size: 13px;\n    font-weight: 400;\n    line-height: 1;\n    outline: none;\n    /*padding: 4px;*/\n    text-align: center;\n    transition: opacity .3s;\n    /*width: 100%;*/\n}",
       "_esm": "function closeMsg(msgDom) {\n  if (!msgDom) {\n    return;\n  }\n  msgDom.setAttribute('data-state', 'exiting');\n  msgDom.remove();\n}\n\nfunction createMsg(options) {\n  const {message, msg_id, type = 'info', show_close = false} = options;\n  const msgDom = document.createElement('div');\n  msgDom.className += ` wui-message--${type} wui-message`;\n  msgDom.setAttribute('data-state', 'entered');\n  msgDom.setAttribute('id', msg_id);\n  const msgContent = document.createElement('p');\n  msgContent.className += ` wui-message--${type} wui-message__content`;\n  msgContent.innerText = message;\n  msgDom.appendChild(msgContent);\n  if (show_close) {\n    const closeBtn = document.createElement('i');\n    closeBtn.className += 'wui-message__closeBtn';\n    closeBtn.innerText = 'x';\n    closeBtn.addEventListener('click', (ev) => {\n      closeMsg(msgDom);\n    })\n    msgDom.appendChild(closeBtn);\n  }\n  return msgDom;\n}\n\nexport async function render(view) {\n  let model = view.model;\n  const msgRoot = view.el;\n  msgRoot.className += ' wui-message-root'\n\n  const msgContainer = document.createElement('div');\n  msgContainer.className += ' wui-message-container';\n  msgRoot.appendChild(msgContainer)\n\n  model.on(\"change:message_options\", () => {\n    const options = model.get(\"message_options\");\n    const msg = createMsg(options);\n    msgContainer.appendChild(msg);\n    const {duration = 3000} = options;\n    if (duration > 0) {\n      setTimeout(() => {\n        closeMsg(msg)\n      }, duration);\n    }\n  })\n\n  model.on(\"change:close_msg_id\", () => {\n    const msg_id = model.get(\"close_msg_id\");\n    const msgDom = document.getElementById(msg_id);\n    closeMsg(msgDom);\n  })\n}\n",
       "_model_module": "anywidget",
       "_model_module_version": "0.9.3",
       "_model_name": "AnyModel",
       "_view_module": "anywidget",
       "_view_module_version": "0.9.3",
       "_view_name": "AnyView",
       "close_msg_id": "",
       "layout": "IPY_MODEL_de3abe9e03dc46c88b0f119312526e81",
       "message_options": {
        "duration": 3000,
        "message": "",
        "show_close": false,
        "type": "info"
       }
      }
     },
     "9fec25e57ccf40d485d59670ece3bbd1": {
      "model_module": "@jupyter-widgets/controls",
      "model_module_version": "2.0.0",
      "model_name": "VBoxModel",
      "state": {
       "children": [
        "IPY_MODEL_c3c43fb28ebd41cdaffef53d78c06d5b"
       ],
       "layout": "IPY_MODEL_418ce13cf68940328485d8745ce91d50"
      }
     },
     "a0e2c7569a1a487bb33319df22e75c9c": {
      "model_module": "@jupyter-widgets/controls",
      "model_module_version": "2.0.0",
      "model_name": "ButtonModel",
      "state": {
       "layout": "IPY_MODEL_ba2ac2f8933c498392b92a01ddbe8ece",
       "style": "IPY_MODEL_9eb711b877b047f89b46bde9e6645480",
       "tooltip": null
      }
     },
     "a0ed5a5ebae447cd88940d7b137a329e": {
      "model_module": "@jupyter-widgets/controls",
      "model_module_version": "2.0.0",
      "model_name": "ButtonModel",
      "state": {
       "description": "footer",
       "layout": "IPY_MODEL_4f4a4ddc18824a62b1e38a130bcdb527",
       "style": "IPY_MODEL_9b867a68574d40f5b7fc86481aa58f23",
       "tooltip": null
      }
     },
     "a2618360a0fe415697f0d5b263a855eb": {
      "model_module": "@jupyter-widgets/controls",
      "model_module_version": "2.0.0",
      "model_name": "ButtonStyleModel",
      "state": {
       "button_color": "#dbecfe",
       "font_family": null,
       "font_size": null,
       "font_style": null,
       "font_variant": null,
       "font_weight": null,
       "text_color": null,
       "text_decoration": null
      }
     },
     "a2d70e590cd3413aad7c62b54d1f0f58": {
      "model_module": "@jupyter-widgets/base",
      "model_module_version": "2.0.0",
      "model_name": "LayoutModel",
      "state": {
       "grid_area": "header"
      }
     },
     "a4904337cf2a4362a6d3b6a9fb96e6a4": {
      "model_module": "@jupyter-widgets/controls",
      "model_module_version": "2.0.0",
      "model_name": "ButtonStyleModel",
      "state": {
       "button_color": "#c8e3fe",
       "font_family": null,
       "font_size": null,
       "font_style": null,
       "font_variant": null,
       "font_weight": null,
       "text_color": null,
       "text_decoration": null
      }
     },
     "a4c2dd015cb24b80b987eec95279f806": {
      "model_module": "@jupyter-widgets/controls",
      "model_module_version": "2.0.0",
      "model_name": "GridBoxModel",
      "state": {
       "children": [
        "IPY_MODEL_0d646604ece543d8a4cc9a01e51acc83",
        "IPY_MODEL_53f851a57112460bb8f7743bec5ebd07"
       ],
       "layout": "IPY_MODEL_2279eeb241114a0eac59e76e8a5ff675"
      }
     },
     "a50c0642db924d5890fb93f12aeccc7b": {
      "model_module": "@jupyter-widgets/controls",
      "model_module_version": "2.0.0",
      "model_name": "ButtonModel",
      "state": {
       "layout": "IPY_MODEL_db3073177f364ec8ba94d981527f4148",
       "style": "IPY_MODEL_32e7a8ba00e64e37a9cce5e4e3794644",
       "tooltip": null
      }
     },
     "a50c0cca37fb455ab5d7448f89b812ec": {
      "model_module": "@jupyter-widgets/base",
      "model_module_version": "2.0.0",
      "model_name": "LayoutModel",
      "state": {
       "height": "auto",
       "width": "auto"
      }
     },
     "a627ee63742f4cd9a1be5876ca52fa65": {
      "model_module": "@jupyter-widgets/base",
      "model_module_version": "2.0.0",
      "model_name": "LayoutModel",
      "state": {}
     },
     "a6d6b8d1b2174c9781a0ec5d4079630a": {
      "model_module": "@jupyter-widgets/controls",
      "model_module_version": "2.0.0",
      "model_name": "ButtonStyleModel",
      "state": {
       "button_color": "#dbecfe",
       "font_family": null,
       "font_size": null,
       "font_style": null,
       "font_variant": null,
       "font_weight": null,
       "text_color": null,
       "text_decoration": null
      }
     },
     "a899de996741408fa1083ba732670979": {
      "model_module": "@jupyter-widgets/base",
      "model_module_version": "2.0.0",
      "model_name": "LayoutModel",
      "state": {
       "height": "auto",
       "width": "auto"
      }
     },
     "a967393a78074b8997271dca50979e78": {
      "model_module": "@jupyter-widgets/controls",
      "model_module_version": "2.0.0",
      "model_name": "VBoxModel",
      "state": {
       "children": [
        "IPY_MODEL_1f6c062076244e528f9989bac79e1f4e"
       ],
       "layout": "IPY_MODEL_683eefe4a7474173b845dd101368bdec"
      }
     },
     "a998d4eb9c0d409a98af60c98c1eee6c": {
      "model_module": "@jupyter-widgets/output",
      "model_module_version": "1.0.0",
      "model_name": "OutputModel",
      "state": {
       "layout": "IPY_MODEL_89c20825779547e68c0d1d0b5a5dfcd6",
       "outputs": [
        {
         "data": {
          "application/vnd.jupyter.widget-view+json": {
           "model_id": "4c72da2767324e0583b4395df916b671",
           "version_major": 2,
           "version_minor": 0
          },
          "text/plain": "sfc_container(children=(AppLayout(children=(VBox(children=(Button(layout=Layout(height='auto', width='auto'), …"
         },
         "metadata": {},
         "output_type": "display_data"
        }
       ]
      }
     },
     "a9e08ef053844d3a8812da2998d51ac3": {
      "model_module": "@jupyter-widgets/controls",
      "model_module_version": "2.0.0",
      "model_name": "ButtonStyleModel",
      "state": {
       "button_color": "#c8e3fe",
       "font_family": null,
       "font_size": null,
       "font_style": null,
       "font_variant": null,
       "font_weight": null,
       "text_color": null,
       "text_decoration": null
      }
     },
     "aaa8d2c802434640801401b347c5eaf8": {
      "model_module": "@jupyter-widgets/controls",
      "model_module_version": "2.0.0",
      "model_name": "ButtonModel",
      "state": {
       "layout": "IPY_MODEL_3be4eb18be5a430db6126c26f688a0cd",
       "style": "IPY_MODEL_6eec3943c716425aa88e595e820da8bd",
       "tooltip": null
      }
     },
     "aac836c2e7c449f7bbdc9cd471cc69ba": {
      "model_module": "@jupyter-widgets/controls",
      "model_module_version": "2.0.0",
      "model_name": "VBoxModel",
      "state": {
       "children": [
        "IPY_MODEL_2107f692957846ceb2044b1235b03f5f"
       ],
       "layout": "IPY_MODEL_27c562e096144ccfade740cd927310b4"
      }
     },
     "aae68ba1f51e44a88928b3dd6d974346": {
      "model_module": "@jupyter-widgets/controls",
      "model_module_version": "2.0.0",
      "model_name": "ButtonStyleModel",
      "state": {
       "button_color": "#ecf5fe",
       "font_family": null,
       "font_size": null,
       "font_style": null,
       "font_variant": null,
       "font_weight": null,
       "text_color": null,
       "text_decoration": null
      }
     },
     "ab0530ea2d8748faabb9373e8aac5201": {
      "model_module": "@jupyter-widgets/base",
      "model_module_version": "2.0.0",
      "model_name": "LayoutModel",
      "state": {
       "height": "auto",
       "width": "auto"
      }
     },
     "ab2bf59890aa431ab15139bcd38dc2ee": {
      "model_module": "@jupyter-widgets/base",
      "model_module_version": "2.0.0",
      "model_name": "LayoutModel",
      "state": {
       "grid_area": "left-sidebar"
      }
     },
     "aca7d4a389414a3b860c0b028a3fa6c4": {
      "model_module": "@jupyter-widgets/base",
      "model_module_version": "2.0.0",
      "model_name": "LayoutModel",
      "state": {
       "grid_area": "center"
      }
     },
     "accc4902b4c344d49fd44e6993196110": {
      "model_module": "@jupyter-widgets/base",
      "model_module_version": "2.0.0",
      "model_name": "LayoutModel",
      "state": {
       "height": "auto",
       "width": "auto"
      }
     },
     "acfa927f88be46e59b438146803eb0a6": {
      "model_module": "@jupyter-widgets/controls",
      "model_module_version": "2.0.0",
      "model_name": "ButtonModel",
      "state": {
       "layout": "IPY_MODEL_584f8df7e323428a918883178fcb7b44",
       "style": "IPY_MODEL_e9814deec4254cc297a49a51d10f716e",
       "tooltip": null
      }
     },
     "ad8dcdae158743bc9b829799ba5b3483": {
      "model_module": "@jupyter-widgets/controls",
      "model_module_version": "2.0.0",
      "model_name": "ButtonStyleModel",
      "state": {
       "button_color": "#c8e3fe",
       "font_family": null,
       "font_size": null,
       "font_style": null,
       "font_variant": null,
       "font_weight": null,
       "text_color": null,
       "text_decoration": null
      }
     },
     "ad8f09ae17bf46b09c84a5e4dfea741c": {
      "model_module": "@jupyter-widgets/controls",
      "model_module_version": "2.0.0",
      "model_name": "ButtonModel",
      "state": {
       "layout": "IPY_MODEL_114802568410419199f706b6c6606315",
       "style": "IPY_MODEL_dd8a38f0ba3c41ef97bbd60676829383",
       "tooltip": null
      }
     },
     "ae5c4f99137e451d8436ce94384c5f55": {
      "model_module": "@jupyter-widgets/base",
      "model_module_version": "2.0.0",
      "model_name": "LayoutModel",
      "state": {
       "grid_area": "left-sidebar"
      }
     },
     "aebb0f3fdc004c2097ae507c5482850e": {
      "model_module": "@jupyter-widgets/controls",
      "model_module_version": "2.0.0",
      "model_name": "ButtonStyleModel",
      "state": {
       "button_color": "#dbecfe",
       "font_family": null,
       "font_size": null,
       "font_style": null,
       "font_variant": null,
       "font_weight": null,
       "text_color": null,
       "text_decoration": null
      }
     },
     "aee4dc17080a4560a1c606c814835628": {
      "model_module": "@jupyter-widgets/base",
      "model_module_version": "2.0.0",
      "model_name": "LayoutModel",
      "state": {}
     },
     "aef834c797b04266937747f476494358": {
      "model_module": "@jupyter-widgets/controls",
      "model_module_version": "2.0.0",
      "model_name": "ButtonModel",
      "state": {
       "layout": "IPY_MODEL_eaf138c38dea4e6ea658098b092baaaf",
       "style": "IPY_MODEL_bc8c68a263974214b72877f3fa3958ba",
       "tooltip": null
      }
     },
     "b114a6f8cb4f448b8663a6f38f1fc181": {
      "model_module": "@jupyter-widgets/base",
      "model_module_version": "2.0.0",
      "model_name": "LayoutModel",
      "state": {
       "grid_area": "center"
      }
     },
     "b13a12a61cc845dbb0374a24e577d618": {
      "model_module": "@jupyter-widgets/base",
      "model_module_version": "2.0.0",
      "model_name": "LayoutModel",
      "state": {}
     },
     "b1d5d7e29b85492496e0b3c02cf4c0d3": {
      "model_module": "@jupyter-widgets/base",
      "model_module_version": "2.0.0",
      "model_name": "LayoutModel",
      "state": {}
     },
     "b231e3d4bd684ee0b8060118b8af0d22": {
      "model_module": "@jupyter-widgets/controls",
      "model_module_version": "2.0.0",
      "model_name": "ButtonModel",
      "state": {
       "layout": "IPY_MODEL_d97949b366f14d3f81e7dd001e699b47",
       "style": "IPY_MODEL_3339499296534b95ad47b2f65d74e4cb",
       "tooltip": null
      }
     },
     "b23f69d609d9491a8d79e40ce31f75df": {
      "model_module": "@jupyter-widgets/controls",
      "model_module_version": "2.0.0",
      "model_name": "ButtonStyleModel",
      "state": {
       "button_color": "#c8e3fe",
       "font_family": null,
       "font_size": null,
       "font_style": null,
       "font_variant": null,
       "font_weight": null,
       "text_color": null,
       "text_decoration": null
      }
     },
     "b2845bd1b7b04b4ca4f426dc89ef2135": {
      "model_module": "@jupyter-widgets/controls",
      "model_module_version": "2.0.0",
      "model_name": "ButtonModel",
      "state": {
       "layout": "IPY_MODEL_5f0c16d7e33a4bd59316b639ba53b027",
       "style": "IPY_MODEL_c61f8d63afd24d66ba603dd6ebd61ed3",
       "tooltip": null
      }
     },
     "b29d456f4072458fb4b21388cd9d315c": {
      "model_module": "@jupyter-widgets/controls",
      "model_module_version": "2.0.0",
      "model_name": "ButtonStyleModel",
      "state": {
       "button_color": "#dbecfe",
       "font_family": null,
       "font_size": null,
       "font_style": null,
       "font_variant": null,
       "font_weight": null,
       "text_color": null,
       "text_decoration": null
      }
     },
     "b3073463ed7e4114b3699b0161ae4045": {
      "model_module": "@jupyter-widgets/base",
      "model_module_version": "2.0.0",
      "model_name": "LayoutModel",
      "state": {
       "height": "auto",
       "width": "auto"
      }
     },
     "b3408ad40cf148b6b6491fc09f896ae5": {
      "model_module": "@jupyter-widgets/controls",
      "model_module_version": "2.0.0",
      "model_name": "VBoxModel",
      "state": {
       "children": [
        "IPY_MODEL_74d1ef8e71b049f9b96ed54020b33318",
        "IPY_MODEL_f7194ff00e8946ad9298aa5773601277",
        "IPY_MODEL_ba2e7b4146ce4a9b8179dbc7a2648956"
       ],
       "layout": "IPY_MODEL_75293e705c7c4c989fa496f45915ab1a"
      }
     },
     "b5325384aa5747b098d22cce914e957d": {
      "model_module": "@jupyter-widgets/controls",
      "model_module_version": "2.0.0",
      "model_name": "VBoxModel",
      "state": {
       "children": [
        "IPY_MODEL_d25ed3d20512455fbdf321227e38abde"
       ],
       "layout": "IPY_MODEL_486c237d60a546e1a376d86b0869be09"
      }
     },
     "b5b03b8d2348460d8ed27519fd93bd37": {
      "model_module": "anywidget",
      "model_module_version": "0.9.3",
      "model_name": "AnyModel",
      "state": {
       "_anywidget_id": "ipywui.widgets.custom.message.MessageWidget",
       "_css": ".wui-message-root {\n    display: flex;\n    position: absolute;\n    left: 0;\n    right: 0;\n    top: 0;\n}\n\n.wui-message-container {\n    align-items: center;\n    display: flex;\n    flex-direction: column-reverse;\n    justify-content: center;\n    min-height: 100%;\n    outline: none;\n    width: 100%;\n\n    -webkit-tap-highlight-color: rgba(0,0,0,0);\n    bottom: 0;\n    left: 0;\n    right: 0;\n    top: 0;\n}\n\n.wui-message--success {\n    --wui-message-bg-color: #f0f9eb;\n    --wui-message-border-color: #e1f3d8;\n    --wui-message-text-color: #67c23a;\n}\n.wui-message--warning {\n    --wui-message-bg-color: #fdf6ec;\n    --wui-message-border-color: #faecd8;\n    --wui-message-text-color: #e6a23c;\n}\n.wui-message--info {\n    --wui-message-bg-color: #f4f4f5;\n    --wui-message-border-color: #e9e9eb;\n    --wui-message-text-color: #909399;\n}\n.wui-message--error {\n    --wui-message-bg-color: #fef0f0;\n    --wui-message-border-color: #fde2e2;\n    --wui-message-text-color: #f56c6c;\n}\n\n@keyframes msg-open {\n    0% {\n        opacity: 0;\n        -webkit-transform: translateY(-120%);\n        transform: translateY(-120%)\n    }\n    to {\n        -webkit-transform: translateY(0);\n        transform: translateY(0)\n    }\n}\n\n@keyframes msg-close {\n    0% {\n        opacity: 1;\n        -webkit-transform: scale(1);\n        transform: scale(1)\n    }\n    to {\n        opacity: 0;\n        -webkit-transform: scale(.9);\n        transform: scale(.9)\n    }\n}\n.wui-message[data-state=entered],.wui-message[data-state=entering] {\n    -webkit-animation: msg-open .24s cubic-bezier(.175,.885,.32,1.175) both;\n    animation: msg-open .24s cubic-bezier(.175,.885,.32,1.175) both\n}\n\n.wui-message[data-state=exiting] {\n    -webkit-animation: msg-close .12s cubic-bezier(.4,0,1,1) both;\n    animation: msg-close .12s cubic-bezier(.4,0,1,1) both\n}\n\n.wui-message {\n    width: -webkit-fit-content;\n    width: -moz-fit-content;\n    width: fit-content;\n    z-index: 2004;\n    max-width: calc(100% - 32px);\n    margin-top: 8px;\n    box-sizing: border-box;\n    /*border-radius: var(--wui-border-radius-base);*/\n    /*border-width: var(--wui-border-width);*/\n    /*border-style: var(--wui-border-style);*/\n    border-color: var(--wui-message-border-color);\n    /*left: 50%;*/\n    /*top: 20px;*/\n    /*transform: translateX(-50%);*/\n    background-color: var(--wui-message-bg-color);\n    /*transition: opacity var(--wui-transition-duration),transform .4s,top .4s;*/\n    /*padding: var(--wui-message-padding);*/\n    display: flex;\n    align-items: center;\n}\n\n/*.wui-message--success */\n.wui-message__content {\n    color: var(--wui-message-text-color);\n    font-size: 14px;\n    line-height: 18px;\n    margin: 10px 14px 10px 14px;\n    overflow-wrap: break-word;\n}\n\n.wui-message__closeBtn {\n    /*cursor: pointer;*/\n    font-style: normal;\n    /*color: gray;*/\n    padding-right: 14px;\n    /*font-size: 13px;*/\n    user-select: none;\n\n    background: transparent;\n    border: none;\n    color: gray;\n    cursor: pointer;\n    font-size: 13px;\n    font-weight: 400;\n    line-height: 1;\n    outline: none;\n    /*padding: 4px;*/\n    text-align: center;\n    transition: opacity .3s;\n    /*width: 100%;*/\n}",
       "_esm": "function closeMsg(msgDom) {\n  if (!msgDom) {\n    return;\n  }\n  msgDom.setAttribute('data-state', 'exiting');\n  msgDom.remove();\n}\n\nfunction createMsg(options) {\n  const {message, msg_id, type = 'info', show_close = false} = options;\n  const msgDom = document.createElement('div');\n  msgDom.className += ` wui-message--${type} wui-message`;\n  msgDom.setAttribute('data-state', 'entered');\n  msgDom.setAttribute('id', msg_id);\n  const msgContent = document.createElement('p');\n  msgContent.className += ` wui-message--${type} wui-message__content`;\n  msgContent.innerText = message;\n  msgDom.appendChild(msgContent);\n  if (show_close) {\n    const closeBtn = document.createElement('i');\n    closeBtn.className += 'wui-message__closeBtn';\n    closeBtn.innerText = 'x';\n    closeBtn.addEventListener('click', (ev) => {\n      closeMsg(msgDom);\n    })\n    msgDom.appendChild(closeBtn);\n  }\n  return msgDom;\n}\n\nexport async function render(view) {\n  let model = view.model;\n  const msgRoot = view.el;\n  msgRoot.className += ' wui-message-root'\n\n  const msgContainer = document.createElement('div');\n  msgContainer.className += ' wui-message-container';\n  msgRoot.appendChild(msgContainer)\n\n  model.on(\"change:message_options\", () => {\n    const options = model.get(\"message_options\");\n    const msg = createMsg(options);\n    msgContainer.appendChild(msg);\n    const {duration = 3000} = options;\n    if (duration > 0) {\n      setTimeout(() => {\n        closeMsg(msg)\n      }, duration);\n    }\n  })\n\n  model.on(\"change:close_msg_id\", () => {\n    const msg_id = model.get(\"close_msg_id\");\n    const msgDom = document.getElementById(msg_id);\n    closeMsg(msgDom);\n  })\n}\n",
       "_model_module": "anywidget",
       "_model_module_version": "0.9.3",
       "_model_name": "AnyModel",
       "_view_module": "anywidget",
       "_view_module_version": "0.9.3",
       "_view_name": "AnyView",
       "close_msg_id": "",
       "layout": "IPY_MODEL_0ca088fa300e4c5cac4c18fb9d1fb6ca",
       "message_options": {
        "duration": 3000,
        "message": "",
        "show_close": false,
        "type": "info"
       }
      }
     },
     "b68437bb04554a4d9f1f2d272cb3c514": {
      "model_module": "@jupyter-widgets/controls",
      "model_module_version": "2.0.0",
      "model_name": "GridBoxModel",
      "state": {
       "children": [
        "IPY_MODEL_d18ed2de51504f838be23abfad536dd5",
        "IPY_MODEL_8f57d16bd8ea4cfca6870dca9b42316d"
       ],
       "layout": "IPY_MODEL_3820240331614e77aff9ec1df9216a30"
      }
     },
     "b896b09788c94dffa838b7234a8f40ec": {
      "model_module": "@jupyter-widgets/output",
      "model_module_version": "1.0.0",
      "model_name": "OutputModel",
      "state": {
       "layout": "IPY_MODEL_2989e173e61e4ed3bedc5f40462952bb",
       "outputs": [
        {
         "data": {
          "application/vnd.jupyter.widget-view+json": {
           "model_id": "66edd0431dd34e238fe41f50e36481c5",
           "version_major": 2,
           "version_minor": 0
          },
          "text/plain": "sfc_container(children=(AppLayout(children=(VBox(children=(Button(description='header', layout=Layout(height='…"
         },
         "metadata": {},
         "output_type": "display_data"
        }
       ]
      }
     },
     "b9dfd1f91d68425c9b59e134ca213772": {
      "model_module": "@jupyter-widgets/base",
      "model_module_version": "2.0.0",
      "model_name": "LayoutModel",
      "state": {
       "height": "auto",
       "width": "auto"
      }
     },
     "b9e11443d9e44e82b5d616454ce98a87": {
      "model_module": "@jupyter-widgets/controls",
      "model_module_version": "2.0.0",
      "model_name": "VBoxModel",
      "state": {
       "children": [
        "IPY_MODEL_30217b1180a0401da5cd6e03f48e97bd"
       ],
       "layout": "IPY_MODEL_1ef741ce985f4013ac1135e81a359819"
      }
     },
     "ba2ac2f8933c498392b92a01ddbe8ece": {
      "model_module": "@jupyter-widgets/base",
      "model_module_version": "2.0.0",
      "model_name": "LayoutModel",
      "state": {
       "height": "auto",
       "width": "auto"
      }
     },
     "ba2e7b4146ce4a9b8179dbc7a2648956": {
      "model_module": "@jupyter-widgets/controls",
      "model_module_version": "2.0.0",
      "model_name": "ButtonModel",
      "state": {
       "layout": "IPY_MODEL_895284358f084567a8a1bc79b7441b68",
       "style": "IPY_MODEL_1e48bee2b88e441ca55a5a22d1e2874a",
       "tooltip": null
      }
     },
     "bb69cade596d4aa3bdea6f4e69baf67b": {
      "model_module": "@jupyter-widgets/controls",
      "model_module_version": "2.0.0",
      "model_name": "ButtonStyleModel",
      "state": {
       "button_color": "#dbecfe",
       "font_family": null,
       "font_size": null,
       "font_style": null,
       "font_variant": null,
       "font_weight": null,
       "text_color": null,
       "text_decoration": null
      }
     },
     "bc2c7e264478460ba4e5ccd46c577ac3": {
      "model_module": "@jupyter-widgets/controls",
      "model_module_version": "2.0.0",
      "model_name": "VBoxModel",
      "state": {
       "children": [
        "IPY_MODEL_03a1043f585148ef82930e91ba50d3fc"
       ],
       "layout": "IPY_MODEL_cfa92bf68a394655a127ee4251e0d132"
      }
     },
     "bc8c68a263974214b72877f3fa3958ba": {
      "model_module": "@jupyter-widgets/controls",
      "model_module_version": "2.0.0",
      "model_name": "ButtonStyleModel",
      "state": {
       "button_color": "#dbecfe",
       "font_family": null,
       "font_size": null,
       "font_style": null,
       "font_variant": null,
       "font_weight": null,
       "text_color": null,
       "text_decoration": null
      }
     },
     "bcced320511947bf932ff22d90dd5e1b": {
      "model_module": "@jupyter-widgets/controls",
      "model_module_version": "2.0.0",
      "model_name": "GridBoxModel",
      "state": {
       "children": [
        "IPY_MODEL_49c560ba8b3b40fc910a847fb95c7ebe",
        "IPY_MODEL_2c678615b615477fb58354f0bf88838c"
       ],
       "layout": "IPY_MODEL_e02469202be74cbab2b857ae1e86883a"
      }
     },
     "be19a6e5d77044b1a57b3068796a225d": {
      "model_module": "@jupyter-widgets/controls",
      "model_module_version": "2.0.0",
      "model_name": "VBoxModel",
      "state": {
       "children": [
        "IPY_MODEL_ed44f9f71e6c47ba8554de3c80f8d650",
        "IPY_MODEL_957566846d5a4ba9a36a75e6ee6e6067",
        "IPY_MODEL_919719baa47e4566b1965bab593e31b8"
       ],
       "layout": "IPY_MODEL_d70f51e03f8149e29c5d69e422d793ea"
      }
     },
     "bebfd9622db74d8680d4ac99098701f7": {
      "model_module": "@jupyter-widgets/controls",
      "model_module_version": "2.0.0",
      "model_name": "ButtonStyleModel",
      "state": {
       "button_color": "#ecf5fe",
       "font_family": null,
       "font_size": null,
       "font_style": null,
       "font_variant": null,
       "font_weight": null,
       "text_color": null,
       "text_decoration": null
      }
     },
     "c0d679dacc774a13a7b82322508b1f0b": {
      "model_module": "@jupyter-widgets/output",
      "model_module_version": "1.0.0",
      "model_name": "OutputModel",
      "state": {
       "layout": "IPY_MODEL_57c0f0f6bb114d97b8015f8472d203eb",
       "outputs": [
        {
         "data": {
          "application/vnd.jupyter.widget-view+json": {
           "model_id": "4a79686bd3214127a68645f1924861cb",
           "version_major": 2,
           "version_minor": 0
          },
          "text/plain": "sfc_container(children=(AppLayout(children=(VBox(children=(Button(description='header', layout=Layout(height='…"
         },
         "metadata": {},
         "output_type": "display_data"
        }
       ]
      }
     },
     "c16c9be9ce214888800b4a1e3e17cfe0": {
      "model_module": "@jupyter-widgets/controls",
      "model_module_version": "2.0.0",
      "model_name": "ButtonModel",
      "state": {
       "description": "center",
       "layout": "IPY_MODEL_9a5874efc4a04e418d2e0bfe63377a8d",
       "style": "IPY_MODEL_8ebc25f6da6b4c749f4d8b524359e21c",
       "tooltip": null
      }
     },
     "c23dc81a69684c829b0087a31c61a1eb": {
      "model_module": "@jupyter-widgets/controls",
      "model_module_version": "2.0.0",
      "model_name": "ButtonStyleModel",
      "state": {
       "button_color": "#ecf5fe",
       "font_family": null,
       "font_size": null,
       "font_style": null,
       "font_variant": null,
       "font_weight": null,
       "text_color": null,
       "text_decoration": null
      }
     },
     "c2ab538b40fe4bf2a7206a77ed7dd387": {
      "model_module": "@jupyter-widgets/base",
      "model_module_version": "2.0.0",
      "model_name": "LayoutModel",
      "state": {}
     },
     "c2ff5a3a4c6b4c019740c11327201002": {
      "model_module": "@jupyter-widgets/controls",
      "model_module_version": "2.0.0",
      "model_name": "ButtonStyleModel",
      "state": {
       "button_color": "#ecf5fe",
       "font_family": null,
       "font_size": null,
       "font_style": null,
       "font_variant": null,
       "font_weight": null,
       "text_color": null,
       "text_decoration": null
      }
     },
     "c32d7f4316e449c584f20fc6aeb5b4e5": {
      "model_module": "@jupyter-widgets/output",
      "model_module_version": "1.0.0",
      "model_name": "OutputModel",
      "state": {
       "layout": "IPY_MODEL_81d2f85184f14358afba3cb2c77dc619",
       "outputs": [
        {
         "data": {
          "application/vnd.jupyter.widget-view+json": {
           "model_id": "59fe899c23ae4ad3af76c4f28b168210",
           "version_major": 2,
           "version_minor": 0
          },
          "text/plain": "sfc_container(children=(AppLayout(children=(VBox(children=(Button(description='header', layout=Layout(height='…"
         },
         "metadata": {},
         "output_type": "display_data"
        }
       ]
      }
     },
     "c36b3d048faa41abbe7bc0e16e7a5418": {
      "model_module": "@jupyter-widgets/controls",
      "model_module_version": "2.0.0",
      "model_name": "ButtonModel",
      "state": {
       "layout": "IPY_MODEL_78e9d40e88d34866832ee4dd8f83fda4",
       "style": "IPY_MODEL_c7095bedd0f14298bcd61a38147acf5b",
       "tooltip": null
      }
     },
     "c397a5dc579441fdbeb5e0f576915066": {
      "model_module": "@jupyter-widgets/base",
      "model_module_version": "2.0.0",
      "model_name": "LayoutModel",
      "state": {
       "height": "auto",
       "width": "auto"
      }
     },
     "c3ba9938dc0a423997cd2416a715be69": {
      "model_module": "@jupyter-widgets/base",
      "model_module_version": "2.0.0",
      "model_name": "LayoutModel",
      "state": {
       "grid_area": "left-sidebar"
      }
     },
     "c3c43fb28ebd41cdaffef53d78c06d5b": {
      "model_module": "@jupyter-widgets/controls",
      "model_module_version": "2.0.0",
      "model_name": "ButtonModel",
      "state": {
       "description": "header",
       "layout": "IPY_MODEL_accc4902b4c344d49fd44e6993196110",
       "style": "IPY_MODEL_9b71b0001d3343e6b92821b28e01c3ee",
       "tooltip": null
      }
     },
     "c402bf12733648798f4cb7ec59367ec0": {
      "model_module": "@jupyter-widgets/controls",
      "model_module_version": "2.0.0",
      "model_name": "ButtonModel",
      "state": {
       "layout": "IPY_MODEL_504e5416c1644989b7ec2e0fab18fb5b",
       "style": "IPY_MODEL_ec7b10010039457189c493f63625307f",
       "tooltip": null
      }
     },
     "c43a0de2333e4eec8e5d911dc6a8aceb": {
      "model_module": "@jupyter-widgets/base",
      "model_module_version": "2.0.0",
      "model_name": "LayoutModel",
      "state": {
       "grid_template_areas": "\"header header header\"\n\"left-sidebar center center\"",
       "grid_template_columns": "1fr 2fr 1fr",
       "grid_template_rows": "1fr 3fr"
      }
     },
     "c45fedd90a1e420e9b8c3ddc2bcee2fe": {
      "model_module": "@jupyter-widgets/controls",
      "model_module_version": "2.0.0",
      "model_name": "VBoxModel",
      "state": {
       "children": [
        "IPY_MODEL_4f53e045b8a54605bf82836aeec70c95",
        "IPY_MODEL_4f53e045b8a54605bf82836aeec70c95",
        "IPY_MODEL_b896b09788c94dffa838b7234a8f40ec"
       ],
       "layout": "IPY_MODEL_aee4dc17080a4560a1c606c814835628"
      }
     },
     "c50363ec1b00486f95e5d211a898b2d8": {
      "model_module": "@jupyter-widgets/base",
      "model_module_version": "2.0.0",
      "model_name": "LayoutModel",
      "state": {}
     },
     "c509552dd5e041b094337802fd9af43f": {
      "model_module": "@jupyter-widgets/base",
      "model_module_version": "2.0.0",
      "model_name": "LayoutModel",
      "state": {
       "grid_area": "left-sidebar"
      }
     },
     "c61f8d63afd24d66ba603dd6ebd61ed3": {
      "model_module": "@jupyter-widgets/controls",
      "model_module_version": "2.0.0",
      "model_name": "ButtonStyleModel",
      "state": {
       "button_color": "#dbecfe",
       "font_family": null,
       "font_size": null,
       "font_style": null,
       "font_variant": null,
       "font_weight": null,
       "text_color": null,
       "text_decoration": null
      }
     },
     "c6740b3a83b7484abe79600b3188a3a4": {
      "model_module": "@jupyter-widgets/base",
      "model_module_version": "2.0.0",
      "model_name": "LayoutModel",
      "state": {
       "grid_area": "header"
      }
     },
     "c6b646d40b26417b8fc91f1dc92a5c75": {
      "model_module": "@jupyter-widgets/controls",
      "model_module_version": "2.0.0",
      "model_name": "ButtonModel",
      "state": {
       "description": "right",
       "layout": "IPY_MODEL_d4114dd581fa4aec85d66a58210d2654",
       "style": "IPY_MODEL_ffbec2e541b64bb8936d95924a6f6d23",
       "tooltip": null
      }
     },
     "c7095bedd0f14298bcd61a38147acf5b": {
      "model_module": "@jupyter-widgets/controls",
      "model_module_version": "2.0.0",
      "model_name": "ButtonStyleModel",
      "state": {
       "button_color": "#c8e3fe",
       "font_family": null,
       "font_size": null,
       "font_style": null,
       "font_variant": null,
       "font_weight": null,
       "text_color": null,
       "text_decoration": null
      }
     },
     "c83b77b9b7744e81bc1bb976f18e76f3": {
      "model_module": "@jupyter-widgets/controls",
      "model_module_version": "2.0.0",
      "model_name": "ButtonStyleModel",
      "state": {
       "button_color": "#ecf5fe",
       "font_family": null,
       "font_size": null,
       "font_style": null,
       "font_variant": null,
       "font_weight": null,
       "text_color": null,
       "text_decoration": null
      }
     },
     "c88ea7232fbc479cad5d4fec03b1d492": {
      "model_module": "@jupyter-widgets/output",
      "model_module_version": "1.0.0",
      "model_name": "OutputModel",
      "state": {
       "layout": "IPY_MODEL_c50363ec1b00486f95e5d211a898b2d8"
      }
     },
     "c931a4ee27f44ce08e6af44b4c8deda2": {
      "model_module": "@jupyter-widgets/controls",
      "model_module_version": "2.0.0",
      "model_name": "ButtonStyleModel",
      "state": {
       "button_color": "#ecf5fe",
       "font_family": null,
       "font_size": null,
       "font_style": null,
       "font_variant": null,
       "font_weight": null,
       "text_color": null,
       "text_decoration": null
      }
     },
     "ca3456fb34cc44e2b8742844ad2ee561": {
      "model_module": "@jupyter-widgets/controls",
      "model_module_version": "2.0.0",
      "model_name": "ButtonStyleModel",
      "state": {
       "button_color": "#ecf5fe",
       "font_family": null,
       "font_size": null,
       "font_style": null,
       "font_variant": null,
       "font_weight": null,
       "text_color": null,
       "text_decoration": null
      }
     },
     "ca4354d751254ca3a4128247c26fedb3": {
      "model_module": "@jupyter-widgets/controls",
      "model_module_version": "2.0.0",
      "model_name": "ButtonModel",
      "state": {
       "description": "left",
       "layout": "IPY_MODEL_87e8c809c1194e2aaf3955e4ff2c78a0",
       "style": "IPY_MODEL_a4904337cf2a4362a6d3b6a9fb96e6a4",
       "tooltip": null
      }
     },
     "cac5c3f508c24a28b0fa9d8c628a2929": {
      "model_module": "@jupyter-widgets/controls",
      "model_module_version": "2.0.0",
      "model_name": "VBoxModel",
      "state": {
       "children": [
        "IPY_MODEL_b5b03b8d2348460d8ed27519fd93bd37",
        "IPY_MODEL_b5b03b8d2348460d8ed27519fd93bd37",
        "IPY_MODEL_c32d7f4316e449c584f20fc6aeb5b4e5"
       ],
       "layout": "IPY_MODEL_ec5db79742254a70b1af13651f7d77f7"
      }
     },
     "caf5b71b9be04a03817737c0bd68b675": {
      "model_module": "@jupyter-widgets/controls",
      "model_module_version": "2.0.0",
      "model_name": "VBoxModel",
      "state": {
       "children": [
        "IPY_MODEL_bcced320511947bf932ff22d90dd5e1b"
       ],
       "layout": "IPY_MODEL_67917ed1affb48248fc47e102e2774da"
      }
     },
     "cba47d3c1d2b4a78a37e8c11d841b6e0": {
      "model_module": "@jupyter-widgets/base",
      "model_module_version": "2.0.0",
      "model_name": "LayoutModel",
      "state": {}
     },
     "cdcc30efafbb41a1aec5a81dfcd3cc4f": {
      "model_module": "@jupyter-widgets/base",
      "model_module_version": "2.0.0",
      "model_name": "LayoutModel",
      "state": {
       "grid_area": "center"
      }
     },
     "ce8d90a637114b44b43c3d68ab0140fa": {
      "model_module": "@jupyter-widgets/base",
      "model_module_version": "2.0.0",
      "model_name": "LayoutModel",
      "state": {
       "height": "auto",
       "width": "auto"
      }
     },
     "ced9991aef9940a4a5043fcb3deaea2c": {
      "model_module": "@jupyter-widgets/output",
      "model_module_version": "1.0.0",
      "model_name": "OutputModel",
      "state": {
       "layout": "IPY_MODEL_27609b75a829492a89fc9ed938062985",
       "outputs": [
        {
         "data": {
          "application/vnd.jupyter.widget-view+json": {
           "model_id": "d39323d188dc463daef2e63acc52f52a",
           "version_major": 2,
           "version_minor": 0
          },
          "text/plain": "sfc_container(children=(AppLayout(children=(VBox(children=(Button(description='header', layout=Layout(height='…"
         },
         "metadata": {},
         "output_type": "display_data"
        }
       ]
      }
     },
     "cfa92bf68a394655a127ee4251e0d132": {
      "model_module": "@jupyter-widgets/base",
      "model_module_version": "2.0.0",
      "model_name": "LayoutModel",
      "state": {}
     },
     "d14cf259a5f4411d9e3f8608326006e2": {
      "model_module": "@jupyter-widgets/base",
      "model_module_version": "2.0.0",
      "model_name": "LayoutModel",
      "state": {
       "height": "auto",
       "width": "auto"
      }
     },
     "d18ed2de51504f838be23abfad536dd5": {
      "model_module": "@jupyter-widgets/controls",
      "model_module_version": "2.0.0",
      "model_name": "VBoxModel",
      "state": {
       "children": [
        "IPY_MODEL_aaa8d2c802434640801401b347c5eaf8",
        "IPY_MODEL_7a8776fd3f4249c888ccb5e66511d789",
        "IPY_MODEL_3601b727c0b24553ac7b4e3a142904b5",
        "IPY_MODEL_ea05db2b83644463b62a6af9728c3d84"
       ],
       "layout": "IPY_MODEL_c3ba9938dc0a423997cd2416a715be69"
      }
     },
     "d1e2e809641542648103d80b65e42526": {
      "model_module": "@jupyter-widgets/base",
      "model_module_version": "2.0.0",
      "model_name": "LayoutModel",
      "state": {
       "height": "auto",
       "width": "auto"
      }
     },
     "d25ed3d20512455fbdf321227e38abde": {
      "model_module": "@jupyter-widgets/controls",
      "model_module_version": "2.0.0",
      "model_name": "ButtonModel",
      "state": {
       "description": "footer",
       "layout": "IPY_MODEL_5d0ed2830f414be8a86c0934a003a6bd",
       "style": "IPY_MODEL_8d522709b9514f86a22de87b3b8b09ac",
       "tooltip": null
      }
     },
     "d2bf5d67f64d4ded915a5f17691dfc78": {
      "model_module": "@jupyter-widgets/base",
      "model_module_version": "2.0.0",
      "model_name": "LayoutModel",
      "state": {}
     },
     "d39323d188dc463daef2e63acc52f52a": {
      "model_module": "@jupyter-widgets/controls",
      "model_module_version": "2.0.0",
      "model_name": "VBoxModel",
      "state": {
       "children": [
        "IPY_MODEL_84518de8d9244f3f8c7a4065e0cacc85"
       ],
       "layout": "IPY_MODEL_0efe3a4dcfe941628c9b218f542451e1"
      }
     },
     "d4061d3d3cfb437484c14448ce489de0": {
      "model_module": "@jupyter-widgets/controls",
      "model_module_version": "2.0.0",
      "model_name": "VBoxModel",
      "state": {
       "children": [
        "IPY_MODEL_e838ee7237054c8f9034286ea18c4211",
        "IPY_MODEL_6525ceeeb0ec436985ea2e0aae9170df",
        "IPY_MODEL_0e670d36b99d4198b630d43d316acb98",
        "IPY_MODEL_747533607ce048c78180cc933a43090b"
       ],
       "layout": "IPY_MODEL_2504e8c5a5694184be72b15ce12f362a"
      }
     },
     "d4114dd581fa4aec85d66a58210d2654": {
      "model_module": "@jupyter-widgets/base",
      "model_module_version": "2.0.0",
      "model_name": "LayoutModel",
      "state": {
       "height": "auto",
       "width": "auto"
      }
     },
     "d6463b909d9f4a08b9ba83d9740d6936": {
      "model_module": "@jupyter-widgets/base",
      "model_module_version": "2.0.0",
      "model_name": "LayoutModel",
      "state": {
       "height": "auto",
       "width": "auto"
      }
     },
     "d6a4f7a5378f4933bace1caaa6bc0793": {
      "model_module": "@jupyter-widgets/controls",
      "model_module_version": "2.0.0",
      "model_name": "VBoxModel",
      "state": {
       "children": [
        "IPY_MODEL_28a52672b22d47e1bf21a36201e87177",
        "IPY_MODEL_28a52672b22d47e1bf21a36201e87177",
        "IPY_MODEL_c0d679dacc774a13a7b82322508b1f0b"
       ],
       "layout": "IPY_MODEL_553af4a1f58147e4b33074f279532bd1"
      }
     },
     "d6bc967b16a74352bb6ab054409e9283": {
      "model_module": "@jupyter-widgets/base",
      "model_module_version": "2.0.0",
      "model_name": "LayoutModel",
      "state": {
       "height": "auto",
       "width": "auto"
      }
     },
     "d70f51e03f8149e29c5d69e422d793ea": {
      "model_module": "@jupyter-widgets/base",
      "model_module_version": "2.0.0",
      "model_name": "LayoutModel",
      "state": {
       "grid_area": "center"
      }
     },
     "d71ba86472fc4392a5024d4c9c2f9d82": {
      "model_module": "@jupyter-widgets/controls",
      "model_module_version": "2.0.0",
      "model_name": "ButtonModel",
      "state": {
       "layout": "IPY_MODEL_b9dfd1f91d68425c9b59e134ca213772",
       "style": "IPY_MODEL_c2ff5a3a4c6b4c019740c11327201002",
       "tooltip": null
      }
     },
     "d7aea80db06144899043a32a05d6ea06": {
      "model_module": "@jupyter-widgets/base",
      "model_module_version": "2.0.0",
      "model_name": "LayoutModel",
      "state": {
       "height": "auto",
       "width": "auto"
      }
     },
     "d7c785d0183a4f9fbed934ccdff280f8": {
      "model_module": "@jupyter-widgets/base",
      "model_module_version": "2.0.0",
      "model_name": "LayoutModel",
      "state": {
       "height": "auto",
       "width": "auto"
      }
     },
     "d7f47e946c4b40bfb508c322a723f126": {
      "model_module": "@jupyter-widgets/base",
      "model_module_version": "2.0.0",
      "model_name": "LayoutModel",
      "state": {}
     },
     "d88a357d0e844c65b4e1f49a57e00f3b": {
      "model_module": "anywidget",
      "model_module_version": "0.9.3",
      "model_name": "AnyModel",
      "state": {
       "_anywidget_id": "ipywui.widgets.custom.message.MessageWidget",
       "_css": ".wui-message-root {\n    display: flex;\n    position: absolute;\n    left: 0;\n    right: 0;\n    top: 0;\n}\n\n.wui-message-container {\n    align-items: center;\n    display: flex;\n    flex-direction: column-reverse;\n    justify-content: center;\n    min-height: 100%;\n    outline: none;\n    width: 100%;\n\n    -webkit-tap-highlight-color: rgba(0,0,0,0);\n    bottom: 0;\n    left: 0;\n    right: 0;\n    top: 0;\n}\n\n.wui-message--success {\n    --wui-message-bg-color: #f0f9eb;\n    --wui-message-border-color: #e1f3d8;\n    --wui-message-text-color: #67c23a;\n}\n.wui-message--warning {\n    --wui-message-bg-color: #fdf6ec;\n    --wui-message-border-color: #faecd8;\n    --wui-message-text-color: #e6a23c;\n}\n.wui-message--info {\n    --wui-message-bg-color: #f4f4f5;\n    --wui-message-border-color: #e9e9eb;\n    --wui-message-text-color: #909399;\n}\n.wui-message--error {\n    --wui-message-bg-color: #fef0f0;\n    --wui-message-border-color: #fde2e2;\n    --wui-message-text-color: #f56c6c;\n}\n\n@keyframes msg-open {\n    0% {\n        opacity: 0;\n        -webkit-transform: translateY(-120%);\n        transform: translateY(-120%)\n    }\n    to {\n        -webkit-transform: translateY(0);\n        transform: translateY(0)\n    }\n}\n\n@keyframes msg-close {\n    0% {\n        opacity: 1;\n        -webkit-transform: scale(1);\n        transform: scale(1)\n    }\n    to {\n        opacity: 0;\n        -webkit-transform: scale(.9);\n        transform: scale(.9)\n    }\n}\n.wui-message[data-state=entered],.wui-message[data-state=entering] {\n    -webkit-animation: msg-open .24s cubic-bezier(.175,.885,.32,1.175) both;\n    animation: msg-open .24s cubic-bezier(.175,.885,.32,1.175) both\n}\n\n.wui-message[data-state=exiting] {\n    -webkit-animation: msg-close .12s cubic-bezier(.4,0,1,1) both;\n    animation: msg-close .12s cubic-bezier(.4,0,1,1) both\n}\n\n.wui-message {\n    width: -webkit-fit-content;\n    width: -moz-fit-content;\n    width: fit-content;\n    z-index: 2004;\n    max-width: calc(100% - 32px);\n    margin-top: 8px;\n    box-sizing: border-box;\n    /*border-radius: var(--wui-border-radius-base);*/\n    /*border-width: var(--wui-border-width);*/\n    /*border-style: var(--wui-border-style);*/\n    border-color: var(--wui-message-border-color);\n    /*left: 50%;*/\n    /*top: 20px;*/\n    /*transform: translateX(-50%);*/\n    background-color: var(--wui-message-bg-color);\n    /*transition: opacity var(--wui-transition-duration),transform .4s,top .4s;*/\n    /*padding: var(--wui-message-padding);*/\n    display: flex;\n    align-items: center;\n}\n\n/*.wui-message--success */\n.wui-message__content {\n    color: var(--wui-message-text-color);\n    font-size: 14px;\n    line-height: 18px;\n    margin: 10px 14px 10px 14px;\n    overflow-wrap: break-word;\n}\n\n.wui-message__closeBtn {\n    /*cursor: pointer;*/\n    font-style: normal;\n    /*color: gray;*/\n    padding-right: 14px;\n    /*font-size: 13px;*/\n    user-select: none;\n\n    background: transparent;\n    border: none;\n    color: gray;\n    cursor: pointer;\n    font-size: 13px;\n    font-weight: 400;\n    line-height: 1;\n    outline: none;\n    /*padding: 4px;*/\n    text-align: center;\n    transition: opacity .3s;\n    /*width: 100%;*/\n}",
       "_esm": "function closeMsg(msgDom) {\n  if (!msgDom) {\n    return;\n  }\n  msgDom.setAttribute('data-state', 'exiting');\n  msgDom.remove();\n}\n\nfunction createMsg(options) {\n  const {message, msg_id, type = 'info', show_close = false} = options;\n  const msgDom = document.createElement('div');\n  msgDom.className += ` wui-message--${type} wui-message`;\n  msgDom.setAttribute('data-state', 'entered');\n  msgDom.setAttribute('id', msg_id);\n  const msgContent = document.createElement('p');\n  msgContent.className += ` wui-message--${type} wui-message__content`;\n  msgContent.innerText = message;\n  msgDom.appendChild(msgContent);\n  if (show_close) {\n    const closeBtn = document.createElement('i');\n    closeBtn.className += 'wui-message__closeBtn';\n    closeBtn.innerText = 'x';\n    closeBtn.addEventListener('click', (ev) => {\n      closeMsg(msgDom);\n    })\n    msgDom.appendChild(closeBtn);\n  }\n  return msgDom;\n}\n\nexport async function render(view) {\n  let model = view.model;\n  const msgRoot = view.el;\n  msgRoot.className += ' wui-message-root'\n\n  const msgContainer = document.createElement('div');\n  msgContainer.className += ' wui-message-container';\n  msgRoot.appendChild(msgContainer)\n\n  model.on(\"change:message_options\", () => {\n    const options = model.get(\"message_options\");\n    const msg = createMsg(options);\n    msgContainer.appendChild(msg);\n    const {duration = 3000} = options;\n    if (duration > 0) {\n      setTimeout(() => {\n        closeMsg(msg)\n      }, duration);\n    }\n  })\n\n  model.on(\"change:close_msg_id\", () => {\n    const msg_id = model.get(\"close_msg_id\");\n    const msgDom = document.getElementById(msg_id);\n    closeMsg(msgDom);\n  })\n}\n",
       "_model_module": "anywidget",
       "_model_module_version": "0.9.3",
       "_model_name": "AnyModel",
       "_view_module": "anywidget",
       "_view_module_version": "0.9.3",
       "_view_name": "AnyView",
       "close_msg_id": "",
       "layout": "IPY_MODEL_9dfd738e17754effa12fd4b8eacd0a96",
       "message_options": {
        "duration": 3000,
        "message": "",
        "show_close": false,
        "type": "info"
       }
      }
     },
     "d97949b366f14d3f81e7dd001e699b47": {
      "model_module": "@jupyter-widgets/base",
      "model_module_version": "2.0.0",
      "model_name": "LayoutModel",
      "state": {
       "height": "auto",
       "width": "auto"
      }
     },
     "da54c94023d94813ab6b32eae0aefe6d": {
      "model_module": "@jupyter-widgets/controls",
      "model_module_version": "2.0.0",
      "model_name": "ButtonStyleModel",
      "state": {
       "button_color": "#ecf5fe",
       "font_family": null,
       "font_size": null,
       "font_style": null,
       "font_variant": null,
       "font_weight": null,
       "text_color": null,
       "text_decoration": null
      }
     },
     "db3073177f364ec8ba94d981527f4148": {
      "model_module": "@jupyter-widgets/base",
      "model_module_version": "2.0.0",
      "model_name": "LayoutModel",
      "state": {
       "height": "auto",
       "width": "auto"
      }
     },
     "db5d157025fb4517a3d7b932cabd5370": {
      "model_module": "@jupyter-widgets/base",
      "model_module_version": "2.0.0",
      "model_name": "LayoutModel",
      "state": {}
     },
     "dbe28f7679a34e9a991272d136574eeb": {
      "model_module": "@jupyter-widgets/controls",
      "model_module_version": "2.0.0",
      "model_name": "ButtonStyleModel",
      "state": {
       "button_color": "#dbecfe",
       "font_family": null,
       "font_size": null,
       "font_style": null,
       "font_variant": null,
       "font_weight": null,
       "text_color": null,
       "text_decoration": null
      }
     },
     "dc59c9ff75034eb4a5ca2c0aabd2b9c2": {
      "model_module": "@jupyter-widgets/base",
      "model_module_version": "2.0.0",
      "model_name": "LayoutModel",
      "state": {
       "height": "auto",
       "width": "auto"
      }
     },
     "dcc7ba7f05124579b489f7d8c3a4fc16": {
      "model_module": "@jupyter-widgets/base",
      "model_module_version": "2.0.0",
      "model_name": "LayoutModel",
      "state": {}
     },
     "dcf09a37d1cb44ca9aaabd905a7a12cb": {
      "model_module": "@jupyter-widgets/controls",
      "model_module_version": "2.0.0",
      "model_name": "ButtonModel",
      "state": {
       "layout": "IPY_MODEL_d6463b909d9f4a08b9ba83d9740d6936",
       "style": "IPY_MODEL_bb69cade596d4aa3bdea6f4e69baf67b",
       "tooltip": null
      }
     },
     "dd8a38f0ba3c41ef97bbd60676829383": {
      "model_module": "@jupyter-widgets/controls",
      "model_module_version": "2.0.0",
      "model_name": "ButtonStyleModel",
      "state": {
       "button_color": "#c8e3fe",
       "font_family": null,
       "font_size": null,
       "font_style": null,
       "font_variant": null,
       "font_weight": null,
       "text_color": null,
       "text_decoration": null
      }
     },
     "de0db0388c91401481180e19898ea68f": {
      "model_module": "@jupyter-widgets/controls",
      "model_module_version": "2.0.0",
      "model_name": "VBoxModel",
      "state": {
       "children": [
        "IPY_MODEL_faecf69e3c10434fa01f26b580475277"
       ],
       "layout": "IPY_MODEL_770f417546134ad8ba967756fa5f1bb5"
      }
     },
     "de3abe9e03dc46c88b0f119312526e81": {
      "model_module": "@jupyter-widgets/base",
      "model_module_version": "2.0.0",
      "model_name": "LayoutModel",
      "state": {}
     },
     "de8c31de7e35466ca75208d6cc7f757f": {
      "model_module": "anywidget",
      "model_module_version": "0.9.3",
      "model_name": "AnyModel",
      "state": {
       "_anywidget_id": "ipywui.widgets.custom.message.MessageWidget",
       "_css": ".wui-message-root {\n    display: flex;\n    position: absolute;\n    left: 0;\n    right: 0;\n    top: 0;\n}\n\n.wui-message-container {\n    align-items: center;\n    display: flex;\n    flex-direction: column-reverse;\n    justify-content: center;\n    min-height: 100%;\n    outline: none;\n    width: 100%;\n\n    -webkit-tap-highlight-color: rgba(0,0,0,0);\n    bottom: 0;\n    left: 0;\n    right: 0;\n    top: 0;\n}\n\n.wui-message--success {\n    --wui-message-bg-color: #f0f9eb;\n    --wui-message-border-color: #e1f3d8;\n    --wui-message-text-color: #67c23a;\n}\n.wui-message--warning {\n    --wui-message-bg-color: #fdf6ec;\n    --wui-message-border-color: #faecd8;\n    --wui-message-text-color: #e6a23c;\n}\n.wui-message--info {\n    --wui-message-bg-color: #f4f4f5;\n    --wui-message-border-color: #e9e9eb;\n    --wui-message-text-color: #909399;\n}\n.wui-message--error {\n    --wui-message-bg-color: #fef0f0;\n    --wui-message-border-color: #fde2e2;\n    --wui-message-text-color: #f56c6c;\n}\n\n@keyframes msg-open {\n    0% {\n        opacity: 0;\n        -webkit-transform: translateY(-120%);\n        transform: translateY(-120%)\n    }\n    to {\n        -webkit-transform: translateY(0);\n        transform: translateY(0)\n    }\n}\n\n@keyframes msg-close {\n    0% {\n        opacity: 1;\n        -webkit-transform: scale(1);\n        transform: scale(1)\n    }\n    to {\n        opacity: 0;\n        -webkit-transform: scale(.9);\n        transform: scale(.9)\n    }\n}\n.wui-message[data-state=entered],.wui-message[data-state=entering] {\n    -webkit-animation: msg-open .24s cubic-bezier(.175,.885,.32,1.175) both;\n    animation: msg-open .24s cubic-bezier(.175,.885,.32,1.175) both\n}\n\n.wui-message[data-state=exiting] {\n    -webkit-animation: msg-close .12s cubic-bezier(.4,0,1,1) both;\n    animation: msg-close .12s cubic-bezier(.4,0,1,1) both\n}\n\n.wui-message {\n    width: -webkit-fit-content;\n    width: -moz-fit-content;\n    width: fit-content;\n    z-index: 2004;\n    max-width: calc(100% - 32px);\n    margin-top: 8px;\n    box-sizing: border-box;\n    /*border-radius: var(--wui-border-radius-base);*/\n    /*border-width: var(--wui-border-width);*/\n    /*border-style: var(--wui-border-style);*/\n    border-color: var(--wui-message-border-color);\n    /*left: 50%;*/\n    /*top: 20px;*/\n    /*transform: translateX(-50%);*/\n    background-color: var(--wui-message-bg-color);\n    /*transition: opacity var(--wui-transition-duration),transform .4s,top .4s;*/\n    /*padding: var(--wui-message-padding);*/\n    display: flex;\n    align-items: center;\n}\n\n/*.wui-message--success */\n.wui-message__content {\n    color: var(--wui-message-text-color);\n    font-size: 14px;\n    line-height: 18px;\n    margin: 10px 14px 10px 14px;\n    overflow-wrap: break-word;\n}\n\n.wui-message__closeBtn {\n    /*cursor: pointer;*/\n    font-style: normal;\n    /*color: gray;*/\n    padding-right: 14px;\n    /*font-size: 13px;*/\n    user-select: none;\n\n    background: transparent;\n    border: none;\n    color: gray;\n    cursor: pointer;\n    font-size: 13px;\n    font-weight: 400;\n    line-height: 1;\n    outline: none;\n    /*padding: 4px;*/\n    text-align: center;\n    transition: opacity .3s;\n    /*width: 100%;*/\n}",
       "_esm": "function closeMsg(msgDom) {\n  if (!msgDom) {\n    return;\n  }\n  msgDom.setAttribute('data-state', 'exiting');\n  msgDom.remove();\n}\n\nfunction createMsg(options) {\n  const {message, msg_id, type = 'info', show_close = false} = options;\n  const msgDom = document.createElement('div');\n  msgDom.className += ` wui-message--${type} wui-message`;\n  msgDom.setAttribute('data-state', 'entered');\n  msgDom.setAttribute('id', msg_id);\n  const msgContent = document.createElement('p');\n  msgContent.className += ` wui-message--${type} wui-message__content`;\n  msgContent.innerText = message;\n  msgDom.appendChild(msgContent);\n  if (show_close) {\n    const closeBtn = document.createElement('i');\n    closeBtn.className += 'wui-message__closeBtn';\n    closeBtn.innerText = 'x';\n    closeBtn.addEventListener('click', (ev) => {\n      closeMsg(msgDom);\n    })\n    msgDom.appendChild(closeBtn);\n  }\n  return msgDom;\n}\n\nexport async function render(view) {\n  let model = view.model;\n  const msgRoot = view.el;\n  msgRoot.className += ' wui-message-root'\n\n  const msgContainer = document.createElement('div');\n  msgContainer.className += ' wui-message-container';\n  msgRoot.appendChild(msgContainer)\n\n  model.on(\"change:message_options\", () => {\n    const options = model.get(\"message_options\");\n    const msg = createMsg(options);\n    msgContainer.appendChild(msg);\n    const {duration = 3000} = options;\n    if (duration > 0) {\n      setTimeout(() => {\n        closeMsg(msg)\n      }, duration);\n    }\n  })\n\n  model.on(\"change:close_msg_id\", () => {\n    const msg_id = model.get(\"close_msg_id\");\n    const msgDom = document.getElementById(msg_id);\n    closeMsg(msgDom);\n  })\n}\n",
       "_model_module": "anywidget",
       "_model_module_version": "0.9.3",
       "_model_name": "AnyModel",
       "_view_module": "anywidget",
       "_view_module_version": "0.9.3",
       "_view_name": "AnyView",
       "close_msg_id": "",
       "layout": "IPY_MODEL_fd1b200e07224556aebe9734672c2138",
       "message_options": {
        "duration": 3000,
        "message": "",
        "show_close": false,
        "type": "info"
       }
      }
     },
     "df23707b6ffc4d1eae45297e4a7191e9": {
      "model_module": "@jupyter-widgets/controls",
      "model_module_version": "2.0.0",
      "model_name": "ButtonStyleModel",
      "state": {
       "button_color": "#c8e3fe",
       "font_family": null,
       "font_size": null,
       "font_style": null,
       "font_variant": null,
       "font_weight": null,
       "text_color": null,
       "text_decoration": null
      }
     },
     "dffcca4f13464fc897e93f959d42b327": {
      "model_module": "@jupyter-widgets/controls",
      "model_module_version": "2.0.0",
      "model_name": "VBoxModel",
      "state": {
       "children": [
        "IPY_MODEL_2d0b8948b9a8431aba5559cd01bb97e1",
        "IPY_MODEL_ca4354d751254ca3a4128247c26fedb3",
        "IPY_MODEL_b231e3d4bd684ee0b8060118b8af0d22"
       ],
       "layout": "IPY_MODEL_ae5c4f99137e451d8436ce94384c5f55"
      }
     },
     "e02469202be74cbab2b857ae1e86883a": {
      "model_module": "@jupyter-widgets/base",
      "model_module_version": "2.0.0",
      "model_name": "LayoutModel",
      "state": {
       "grid_template_areas": "\"left-sidebar center center\"",
       "grid_template_columns": "1fr 2fr 1fr",
       "grid_template_rows": "3fr"
      }
     },
     "e1c4fba78a7a4bb0ac8d91663f6d82e6": {
      "model_module": "@jupyter-widgets/controls",
      "model_module_version": "2.0.0",
      "model_name": "VBoxModel",
      "state": {
       "children": [
        "IPY_MODEL_b68437bb04554a4d9f1f2d272cb3c514"
       ],
       "layout": "IPY_MODEL_7e9f43c139aa48dfbce06555d9035e62"
      }
     },
     "e3eda652e3d34b25a123aef85c18e4c9": {
      "model_module": "@jupyter-widgets/controls",
      "model_module_version": "2.0.0",
      "model_name": "ButtonStyleModel",
      "state": {
       "button_color": "#ecf5fe",
       "font_family": null,
       "font_size": null,
       "font_style": null,
       "font_variant": null,
       "font_weight": null,
       "text_color": null,
       "text_decoration": null
      }
     },
     "e448067036cc42b58cdba238c7668a7b": {
      "model_module": "@jupyter-widgets/controls",
      "model_module_version": "2.0.0",
      "model_name": "ButtonStyleModel",
      "state": {
       "button_color": "#dbecfe",
       "font_family": null,
       "font_size": null,
       "font_style": null,
       "font_variant": null,
       "font_weight": null,
       "text_color": null,
       "text_decoration": null
      }
     },
     "e4f7c1fa4a33497f8ad194ce44230ae7": {
      "model_module": "@jupyter-widgets/controls",
      "model_module_version": "2.0.0",
      "model_name": "ButtonModel",
      "state": {
       "description": "center",
       "layout": "IPY_MODEL_0e26758e055a4947aa96bb7c17ec3a5e",
       "style": "IPY_MODEL_718d5481c07f4c9f99242dbab5ce5714",
       "tooltip": null
      }
     },
     "e5fd6a20916f4bd7ae0fb3407801c0d7": {
      "model_module": "@jupyter-widgets/base",
      "model_module_version": "2.0.0",
      "model_name": "LayoutModel",
      "state": {
       "height": "auto",
       "width": "auto"
      }
     },
     "e7484553acd94ebc93520c34499dd2d6": {
      "model_module": "@jupyter-widgets/controls",
      "model_module_version": "2.0.0",
      "model_name": "ButtonModel",
      "state": {
       "description": "header",
       "layout": "IPY_MODEL_f44dbfc5d3cf4ae2b837fd16e3c9f47e",
       "style": "IPY_MODEL_df23707b6ffc4d1eae45297e4a7191e9",
       "tooltip": null
      }
     },
     "e77761a5caad460a94ec409b635338a5": {
      "model_module": "@jupyter-widgets/controls",
      "model_module_version": "2.0.0",
      "model_name": "ButtonModel",
      "state": {
       "description": "left",
       "layout": "IPY_MODEL_e5fd6a20916f4bd7ae0fb3407801c0d7",
       "style": "IPY_MODEL_9f732f1c3bae4dbe9da7677bbb9119b6",
       "tooltip": null
      }
     },
     "e7a1f5e51db1434f88d658ded7449ee2": {
      "model_module": "@jupyter-widgets/base",
      "model_module_version": "2.0.0",
      "model_name": "LayoutModel",
      "state": {
       "grid_area": "center"
      }
     },
     "e838ee7237054c8f9034286ea18c4211": {
      "model_module": "@jupyter-widgets/controls",
      "model_module_version": "2.0.0",
      "model_name": "ButtonModel",
      "state": {
       "layout": "IPY_MODEL_ce8d90a637114b44b43c3d68ab0140fa",
       "style": "IPY_MODEL_b29d456f4072458fb4b21388cd9d315c",
       "tooltip": null
      }
     },
     "e8454fae2b00486193248ab9600ec18f": {
      "model_module": "@jupyter-widgets/controls",
      "model_module_version": "2.0.0",
      "model_name": "VBoxModel",
      "state": {
       "children": [
        "IPY_MODEL_388053cb6815404088e9ba3c3464bc8d",
        "IPY_MODEL_18818808acbb4c18922fd5587c9122f7",
        "IPY_MODEL_9ec910fc823f498d97d06f4ca26b29f8"
       ],
       "layout": "IPY_MODEL_aca7d4a389414a3b860c0b028a3fa6c4"
      }
     },
     "e89ea770f17f4e3a9c179e7aed416a16": {
      "model_module": "@jupyter-widgets/base",
      "model_module_version": "2.0.0",
      "model_name": "LayoutModel",
      "state": {}
     },
     "e8d18323142e44d4a8de9626dcd16851": {
      "model_module": "@jupyter-widgets/base",
      "model_module_version": "2.0.0",
      "model_name": "LayoutModel",
      "state": {
       "grid_area": "right-sidebar"
      }
     },
     "e926a5e4a5894d168bb10c570907d9da": {
      "model_module": "@jupyter-widgets/controls",
      "model_module_version": "2.0.0",
      "model_name": "VBoxModel",
      "state": {
       "children": [
        "IPY_MODEL_73e4d5be48354ae6ac60c4c4f9709860"
       ],
       "layout": "IPY_MODEL_cba47d3c1d2b4a78a37e8c11d841b6e0"
      }
     },
     "e9814deec4254cc297a49a51d10f716e": {
      "model_module": "@jupyter-widgets/controls",
      "model_module_version": "2.0.0",
      "model_name": "ButtonStyleModel",
      "state": {
       "button_color": "#dbecfe",
       "font_family": null,
       "font_size": null,
       "font_style": null,
       "font_variant": null,
       "font_weight": null,
       "text_color": null,
       "text_decoration": null
      }
     },
     "ea05db2b83644463b62a6af9728c3d84": {
      "model_module": "@jupyter-widgets/controls",
      "model_module_version": "2.0.0",
      "model_name": "ButtonModel",
      "state": {
       "layout": "IPY_MODEL_70d947a6bc844bd3b3b747c210d4628f",
       "style": "IPY_MODEL_a6d6b8d1b2174c9781a0ec5d4079630a",
       "tooltip": null
      }
     },
     "ea70f15fb4794896b7ce727e417b8b3e": {
      "model_module": "@jupyter-widgets/controls",
      "model_module_version": "2.0.0",
      "model_name": "ButtonStyleModel",
      "state": {
       "button_color": "#dbecfe",
       "font_family": null,
       "font_size": null,
       "font_style": null,
       "font_variant": null,
       "font_weight": null,
       "text_color": null,
       "text_decoration": null
      }
     },
     "eaf138c38dea4e6ea658098b092baaaf": {
      "model_module": "@jupyter-widgets/base",
      "model_module_version": "2.0.0",
      "model_name": "LayoutModel",
      "state": {
       "height": "auto",
       "width": "auto"
      }
     },
     "ebb9a5c3c62245ffb7b680b62b4587ef": {
      "model_module": "@jupyter-widgets/controls",
      "model_module_version": "2.0.0",
      "model_name": "ButtonModel",
      "state": {
       "description": "footer",
       "layout": "IPY_MODEL_d6bc967b16a74352bb6ab054409e9283",
       "style": "IPY_MODEL_8907518c02af448a8dc2d225a73573c3",
       "tooltip": null
      }
     },
     "ebbbfe0f0ff8402d900a4c0bb3fed263": {
      "model_module": "@jupyter-widgets/controls",
      "model_module_version": "2.0.0",
      "model_name": "VBoxModel",
      "state": {
       "children": [
        "IPY_MODEL_de8c31de7e35466ca75208d6cc7f757f",
        "IPY_MODEL_de8c31de7e35466ca75208d6cc7f757f",
        "IPY_MODEL_ced9991aef9940a4a5043fcb3deaea2c"
       ],
       "layout": "IPY_MODEL_4dde93abcc614b1794ce7ef8917911fa"
      }
     },
     "ec5db79742254a70b1af13651f7d77f7": {
      "model_module": "@jupyter-widgets/base",
      "model_module_version": "2.0.0",
      "model_name": "LayoutModel",
      "state": {}
     },
     "ec7b10010039457189c493f63625307f": {
      "model_module": "@jupyter-widgets/controls",
      "model_module_version": "2.0.0",
      "model_name": "ButtonStyleModel",
      "state": {
       "button_color": "#ecf5fe",
       "font_family": null,
       "font_size": null,
       "font_style": null,
       "font_variant": null,
       "font_weight": null,
       "text_color": null,
       "text_decoration": null
      }
     },
     "ed44f9f71e6c47ba8554de3c80f8d650": {
      "model_module": "@jupyter-widgets/controls",
      "model_module_version": "2.0.0",
      "model_name": "ButtonModel",
      "state": {
       "layout": "IPY_MODEL_91e5c8eb5a794d4d8bb0b357e9cdca02",
       "style": "IPY_MODEL_02f9ab8087f84d658d0aa787d7822be9",
       "tooltip": null
      }
     },
     "ee2a6ce5f67a4680adb0eb89ddca731d": {
      "model_module": "@jupyter-widgets/controls",
      "model_module_version": "2.0.0",
      "model_name": "ButtonModel",
      "state": {
       "layout": "IPY_MODEL_54f974a3cb974adf8f3f9207ac595469",
       "style": "IPY_MODEL_f9fdb066cec24af68377dd111afb80f4",
       "tooltip": null
      }
     },
     "ee2ec40d55b045598649b2e56b3ce822": {
      "model_module": "@jupyter-widgets/base",
      "model_module_version": "2.0.0",
      "model_name": "LayoutModel",
      "state": {}
     },
     "ee4560e4699c46e0803481b634da05b6": {
      "model_module": "@jupyter-widgets/controls",
      "model_module_version": "2.0.0",
      "model_name": "VBoxModel",
      "state": {
       "children": [
        "IPY_MODEL_035005d5565d432297a85322a72eb1c6",
        "IPY_MODEL_035005d5565d432297a85322a72eb1c6",
        "IPY_MODEL_a998d4eb9c0d409a98af60c98c1eee6c"
       ],
       "layout": "IPY_MODEL_ee2ec40d55b045598649b2e56b3ce822"
      }
     },
     "ee4d99b72c224bd2b99c291e5475dd7a": {
      "model_module": "@jupyter-widgets/base",
      "model_module_version": "2.0.0",
      "model_name": "LayoutModel",
      "state": {
       "height": "auto",
       "width": "auto"
      }
     },
     "f19e1437899642648353919f60cd2fc0": {
      "model_module": "@jupyter-widgets/base",
      "model_module_version": "2.0.0",
      "model_name": "LayoutModel",
      "state": {
       "grid_area": "header"
      }
     },
     "f2df8a345cd449d580ac6c0e27f6464d": {
      "model_module": "@jupyter-widgets/controls",
      "model_module_version": "2.0.0",
      "model_name": "ButtonStyleModel",
      "state": {
       "button_color": "#dbecfe",
       "font_family": null,
       "font_size": null,
       "font_style": null,
       "font_variant": null,
       "font_weight": null,
       "text_color": null,
       "text_decoration": null
      }
     },
     "f313009a051d4888860a247860b41170": {
      "model_module": "@jupyter-widgets/base",
      "model_module_version": "2.0.0",
      "model_name": "LayoutModel",
      "state": {
       "grid_area": "footer"
      }
     },
     "f3179311ffe2468ab5d383b19cdecfd8": {
      "model_module": "@jupyter-widgets/base",
      "model_module_version": "2.0.0",
      "model_name": "LayoutModel",
      "state": {
       "grid_area": "center"
      }
     },
     "f44dbfc5d3cf4ae2b837fd16e3c9f47e": {
      "model_module": "@jupyter-widgets/base",
      "model_module_version": "2.0.0",
      "model_name": "LayoutModel",
      "state": {
       "height": "auto",
       "width": "auto"
      }
     },
     "f4abde9562364a0c9d10a1a5901fab99": {
      "model_module": "@jupyter-widgets/controls",
      "model_module_version": "2.0.0",
      "model_name": "ButtonModel",
      "state": {
       "layout": "IPY_MODEL_73b9910d2695416eb8893ce06b65e611",
       "style": "IPY_MODEL_e448067036cc42b58cdba238c7668a7b",
       "tooltip": null
      }
     },
     "f631c8dae9064659a3f7ba312847eca0": {
      "model_module": "@jupyter-widgets/controls",
      "model_module_version": "2.0.0",
      "model_name": "ButtonStyleModel",
      "state": {
       "button_color": "#ecf5fe",
       "font_family": null,
       "font_size": null,
       "font_style": null,
       "font_variant": null,
       "font_weight": null,
       "text_color": null,
       "text_decoration": null
      }
     },
     "f6907b76b5b644e7b9a13ef6f92d6d82": {
      "model_module": "@jupyter-widgets/controls",
      "model_module_version": "2.0.0",
      "model_name": "VBoxModel",
      "state": {
       "children": [
        "IPY_MODEL_9eef8801692f4e3e9d35230cc180e749",
        "IPY_MODEL_e4f7c1fa4a33497f8ad194ce44230ae7",
        "IPY_MODEL_6c56e5011caa4f4bb178faae8c7a7006"
       ],
       "layout": "IPY_MODEL_2d0bac8c65624300b72d1dac249088fa"
      }
     },
     "f6b890e94b6a4da9a8d9eede8d6aecd4": {
      "model_module": "@jupyter-widgets/controls",
      "model_module_version": "2.0.0",
      "model_name": "ButtonModel",
      "state": {
       "layout": "IPY_MODEL_c397a5dc579441fdbeb5e0f576915066",
       "style": "IPY_MODEL_ad8dcdae158743bc9b829799ba5b3483",
       "tooltip": null
      }
     },
     "f7194ff00e8946ad9298aa5773601277": {
      "model_module": "@jupyter-widgets/controls",
      "model_module_version": "2.0.0",
      "model_name": "ButtonModel",
      "state": {
       "description": "center",
       "layout": "IPY_MODEL_518a9d447a1e4746b9fa101ede87fef8",
       "style": "IPY_MODEL_2cdfdfdc1ec3447e96df41254620eaac",
       "tooltip": null
      }
     },
     "f73ce4e983b64dacb16a0083c4f44cc2": {
      "model_module": "@jupyter-widgets/controls",
      "model_module_version": "2.0.0",
      "model_name": "VBoxModel",
      "state": {
       "children": [
        "IPY_MODEL_75818972bf084e1781a9345e39b4edac"
       ],
       "layout": "IPY_MODEL_a627ee63742f4cd9a1be5876ca52fa65"
      }
     },
     "f867dc20dd5e441ab3e2155b8bf896da": {
      "model_module": "@jupyter-widgets/controls",
      "model_module_version": "2.0.0",
      "model_name": "ButtonModel",
      "state": {
       "description": "left",
       "layout": "IPY_MODEL_1282eff27a204331bc2b823bd8b8727e",
       "style": "IPY_MODEL_85218fafa9f242229e5106c92f13551d",
       "tooltip": null
      }
     },
     "f89d8ba19da6411985843360bb8117e2": {
      "model_module": "@jupyter-widgets/controls",
      "model_module_version": "2.0.0",
      "model_name": "ButtonStyleModel",
      "state": {
       "button_color": "#ecf5fe",
       "font_family": null,
       "font_size": null,
       "font_style": null,
       "font_variant": null,
       "font_weight": null,
       "text_color": null,
       "text_decoration": null
      }
     },
     "f8e3a9f97d8d4531ac4a67280fe3ac43": {
      "model_module": "@jupyter-widgets/controls",
      "model_module_version": "2.0.0",
      "model_name": "ButtonModel",
      "state": {
       "description": "header",
       "layout": "IPY_MODEL_70425ae654da4dfe8346b569bc799c20",
       "style": "IPY_MODEL_3bb691efccff425da17f09742056d96a",
       "tooltip": null
      }
     },
     "f95d5075fbf649bc84a890d68556e9ca": {
      "model_module": "@jupyter-widgets/controls",
      "model_module_version": "2.0.0",
      "model_name": "ButtonStyleModel",
      "state": {
       "button_color": "#c8e3fe",
       "font_family": null,
       "font_size": null,
       "font_style": null,
       "font_variant": null,
       "font_weight": null,
       "text_color": null,
       "text_decoration": null
      }
     },
     "f9fdb066cec24af68377dd111afb80f4": {
      "model_module": "@jupyter-widgets/controls",
      "model_module_version": "2.0.0",
      "model_name": "ButtonStyleModel",
      "state": {
       "button_color": "#dbecfe",
       "font_family": null,
       "font_size": null,
       "font_style": null,
       "font_variant": null,
       "font_weight": null,
       "text_color": null,
       "text_decoration": null
      }
     },
     "fa9599f1f910445faf508eb321e24189": {
      "model_module": "@jupyter-widgets/base",
      "model_module_version": "2.0.0",
      "model_name": "LayoutModel",
      "state": {
       "grid_template_areas": "\"header header header\"\n\"left-sidebar center right-sidebar\"\n\"footer footer footer\"",
       "grid_template_columns": "100px 1fr 1fr",
       "grid_template_rows": "1fr 5fr 60px"
      }
     },
     "faecf69e3c10434fa01f26b580475277": {
      "model_module": "@jupyter-widgets/controls",
      "model_module_version": "2.0.0",
      "model_name": "ButtonModel",
      "state": {
       "description": "footer",
       "layout": "IPY_MODEL_d7c785d0183a4f9fbed934ccdff280f8",
       "style": "IPY_MODEL_6c822a13acaf4032a4ad402e27ab75ff",
       "tooltip": null
      }
     },
     "fb29a80db6c84ebaafdca53b5551c7c6": {
      "model_module": "@jupyter-widgets/controls",
      "model_module_version": "2.0.0",
      "model_name": "ButtonStyleModel",
      "state": {
       "button_color": "#c8e3fe",
       "font_family": null,
       "font_size": null,
       "font_style": null,
       "font_variant": null,
       "font_weight": null,
       "text_color": null,
       "text_decoration": null
      }
     },
     "fb958c7841ba4c63b1d9e0f1980a5823": {
      "model_module": "@jupyter-widgets/controls",
      "model_module_version": "2.0.0",
      "model_name": "ButtonModel",
      "state": {
       "layout": "IPY_MODEL_9296fce8c2ae4bc79899877a46227fb3",
       "style": "IPY_MODEL_356cf14886d14f488dfc22c9de2d74c1",
       "tooltip": null
      }
     },
     "fbf9b233e2304968b71a3806bffe0fdf": {
      "model_module": "@jupyter-widgets/base",
      "model_module_version": "2.0.0",
      "model_name": "LayoutModel",
      "state": {
       "height": "auto",
       "width": "auto"
      }
     },
     "fd1b200e07224556aebe9734672c2138": {
      "model_module": "@jupyter-widgets/base",
      "model_module_version": "2.0.0",
      "model_name": "LayoutModel",
      "state": {}
     },
     "fe3d4f825e1641d7907fe337f2401113": {
      "model_module": "@jupyter-widgets/controls",
      "model_module_version": "2.0.0",
      "model_name": "ButtonStyleModel",
      "state": {
       "button_color": "#dbecfe",
       "font_family": null,
       "font_size": null,
       "font_style": null,
       "font_variant": null,
       "font_weight": null,
       "text_color": null,
       "text_decoration": null
      }
     },
     "fe4a52cb12474b8aaa9f133d70c79ba1": {
      "model_module": "@jupyter-widgets/base",
      "model_module_version": "2.0.0",
      "model_name": "LayoutModel",
      "state": {
       "height": "auto",
       "width": "auto"
      }
     },
     "fef1861614f74b14a6bc8a3400584304": {
      "model_module": "@jupyter-widgets/base",
      "model_module_version": "2.0.0",
      "model_name": "LayoutModel",
      "state": {
       "height": "auto",
       "width": "auto"
      }
     },
     "ffbec2e541b64bb8936d95924a6f6d23": {
      "model_module": "@jupyter-widgets/controls",
      "model_module_version": "2.0.0",
      "model_name": "ButtonStyleModel",
      "state": {
       "button_color": "#dbecfe",
       "font_family": null,
       "font_size": null,
       "font_style": null,
       "font_variant": null,
       "font_weight": null,
       "text_color": null,
       "text_decoration": null
      }
     }
    },
    "version_major": 2,
    "version_minor": 0
   }
  }
 },
 "nbformat": 4,
 "nbformat_minor": 5
}