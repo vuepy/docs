{
 "cells": [
  {
   "cell_type": "markdown",
   "id": "a1e2fa29-7566-4426-be1e-a750658d83a5",
   "metadata": {},
   "source": [
    "# AppLayout 应用布局\n",
    "\n",
    "用于布局的容器组件，方便快速搭建页面的基本结构：  \n",
    "\n",
    "`<AppLayout>`：外层容器。有`header`，`left_sidebar`，`center`，`right_sider`，`footer`等5个插槽，分别表示顶栏、左侧边栏、主要区域、右侧边栏、底栏。"
   ]
  },
  {
   "cell_type": "markdown",
   "id": "7cdc5e8c-2aa8-41d1-9461-3e451f6ef6ea",
   "metadata": {},
   "source": [
    "## 常见页面布局"
   ]
  },
  {
   "cell_type": "code",
   "execution_count": 1,
   "id": "f5928b17-e8c8-47b0-9774-a8bb1f7e6af3",
   "metadata": {},
   "outputs": [
    {
     "name": "stdout",
     "output_type": "stream",
     "text": [
      "init\n",
      "{\"vue\": \"<template>\\n  <AppLayout>\\n    <template v-slot:header>\\n      <Button label=\\\"header\\\" style=\\\"width: auto; height: auto; background-color: #c8e3fe\\\"></Button>\\n    </template>\\n    <template v-slot:center>\\n      <Button style=\\\"width: auto; height: auto; background-color: #ecf5fe\\\"></Button>\\n      <Button label=\\\"center\\\" style=\\\"width: auto; height: auto; background-color: #ecf5fe\\\"></Button>\\n      <Button style=\\\"width: auto; height: auto; background-color: #ecf5fe\\\"></Button>\\n    </template>\\n  </AppLayout>\\n</template>\\n\\n<script setup>\\nimport Button from \\\"../../../src/ipywui/components/Button\\\";\\nimport AppLayout from \\\"../../../src/ipywui/components/AppLayout\\\";\\n</script>\", \"setup\": 0}\n"
     ]
    },
    {
     "data": {
      "application/vnd.jupyter.widget-view+json": {
       "model_id": "3f9aec6cadca4d9da50c63491a0f1004",
       "version_major": 2,
       "version_minor": 0
      },
      "text/plain": [
       "Document(children=(Dom(children=(MessageWidget(message_options={'message': '', 'type': 'info', 'show_close': F…"
      ]
     },
     "execution_count": 1,
     "metadata": {},
     "output_type": "execute_result"
    }
   ],
   "source": [
    "import os\n",
    "import pathlib\n",
    "from vuepy.utils import magic\n",
    "\n",
    "cur_path = pathlib.Path()\n",
    "source_root = cur_path.absolute().parent.parent.parent\n",
    "os.chdir(source_root / 'examples' / 'ipywui' / 'layout_app')\n",
    "\n",
    "%vuepy_demo layout-hc.vue"
   ]
  },
  {
   "cell_type": "code",
   "execution_count": 2,
   "id": "b04d7eb3-30e1-4ff3-9b40-e2e6b7c48097",
   "metadata": {},
   "outputs": [
    {
     "name": "stdout",
     "output_type": "stream",
     "text": [
      "{\"vue\": \"<template>\\n  <AppLayout>\\n    <template v-slot:header>\\n      <Button label=\\\"header\\\" style=\\\"width: auto; height: auto; background-color: #c8e3fe\\\"></Button>\\n    </template>\\n    <template v-slot:center>\\n      <Button style=\\\"width: auto; height: auto; background-color: #ecf5fe\\\"></Button>\\n      <Button label=\\\"center\\\" style=\\\"width: auto; height: auto; background-color: #ecf5fe\\\"></Button>\\n      <Button style=\\\"width: auto; height: auto; background-color: #ecf5fe\\\"></Button>\\n    </template>\\n    <template v-slot:footer>\\n      <Button label=\\\"footer\\\" style=\\\"width: auto; height: auto; background-color: #c8e3fe\\\"></Button>\\n    </template>\\n  </AppLayout>\\n</template>\\n\\n<script setup>\\nimport Button from \\\"../../../src/ipywui/components/Button\\\";\\nimport AppLayout from \\\"../../../src/ipywui/components/AppLayout\\\";\\n</script>\", \"setup\": 0}\n"
     ]
    },
    {
     "data": {
      "application/vnd.jupyter.widget-view+json": {
       "model_id": "d350b9d270e9408381e306a431fc132c",
       "version_major": 2,
       "version_minor": 0
      },
      "text/plain": [
       "Document(children=(Dom(children=(MessageWidget(message_options={'message': '', 'type': 'info', 'show_close': F…"
      ]
     },
     "execution_count": 2,
     "metadata": {},
     "output_type": "execute_result"
    }
   ],
   "source": [
    "%vuepy_demo layout-hcf.vue"
   ]
  },
  {
   "cell_type": "code",
   "execution_count": 3,
   "id": "5ea865e1-2910-4add-9470-9ce66935a047",
   "metadata": {},
   "outputs": [
    {
     "name": "stdout",
     "output_type": "stream",
     "text": [
      "{\"vue\": \"<template>\\n  <AppLayout>\\n    <template v-slot:left_sidebar>\\n      <Button label=\\\"\\\" style=\\\"width: auto; height: auto; background-color: #c8e3fe\\\"></Button>\\n      <Button label=\\\"left\\\" style=\\\"width: auto; height: auto; background-color: #c8e3fe\\\"></Button>\\n      <Button label=\\\"\\\" style=\\\"width: auto; height: auto; background-color: #c8e3fe\\\"></Button>\\n    </template>\\n    <template v-slot:right_sidebar>\\n      <Button label=\\\"\\\" style=\\\"width: auto; height: auto; background-color: #c8e3fe\\\"></Button>\\n      <Button label=\\\"right\\\" style=\\\"width: auto; height: auto; background-color: #c8e3fe\\\"></Button>\\n      <Button label=\\\"\\\" style=\\\"width: auto; height: auto; background-color: #c8e3fe\\\"></Button>\\n    </template>\\n    <template v-slot:center>\\n      <Button style=\\\"width: auto; height: auto; background-color: #ecf5fe\\\"></Button>\\n      <Button label=\\\"center\\\" style=\\\"width: auto; height: auto; background-color: #ecf5fe\\\"></Button>\\n      <Button style=\\\"width: auto; height: auto; background-color: #ecf5fe\\\"></Button>\\n    </template>\\n  </AppLayout>\\n</template>\\n\\n<script setup>\\nimport Button from \\\"../../../src/ipywui/components/Button\\\";\\nimport AppLayout from \\\"../../../src/ipywui/components/AppLayout\\\";\\n</script>\", \"setup\": 0}\n"
     ]
    },
    {
     "data": {
      "application/vnd.jupyter.widget-view+json": {
       "model_id": "4ad74ad945af4d3f9b59eab510e665e6",
       "version_major": 2,
       "version_minor": 0
      },
      "text/plain": [
       "Document(children=(Dom(children=(MessageWidget(message_options={'message': '', 'type': 'info', 'show_close': F…"
      ]
     },
     "execution_count": 3,
     "metadata": {},
     "output_type": "execute_result"
    }
   ],
   "source": [
    "%vuepy_demo layout-lcr.vue"
   ]
  },
  {
   "cell_type": "code",
   "execution_count": 4,
   "id": "b0c87cc5-2233-41a9-a387-9642009b32ac",
   "metadata": {},
   "outputs": [
    {
     "name": "stdout",
     "output_type": "stream",
     "text": [
      "{\"vue\": \"<template>\\n  <AppLayout>\\n    <template v-slot:header>\\n      <Button label=\\\"header\\\" style=\\\"width: auto; height: auto; background-color: #c8e3fe\\\"></Button>\\n    </template>\\n    <template v-slot:left_sidebar>\\n      <Button label=\\\"\\\" style=\\\"width: auto; height: auto; background-color: #dbecfe\\\"></Button>\\n      <Button label=\\\"left\\\" style=\\\"width: auto; height: auto; background-color: #dbecfe\\\"></Button>\\n      <Button label=\\\"\\\" style=\\\"width: auto; height: auto; background-color: #dbecfe\\\"></Button>\\n    </template>\\n    <template v-slot:center>\\n      <Button style=\\\"width: auto; height: auto; background-color: #ecf5fe\\\"></Button>\\n      <Button label=\\\"center\\\" style=\\\"width: auto; height: auto; background-color: #ecf5fe\\\"></Button>\\n      <Button style=\\\"width: auto; height: auto; background-color: #ecf5fe\\\"></Button>\\n    </template>\\n  </AppLayout>\\n</template>\\n\\n<script setup>\\nimport Button from \\\"../../../src/ipywui/components/Button\\\";\\nimport AppLayout from \\\"../../../src/ipywui/components/AppLayout\\\";\\n</script>\", \"setup\": 0}\n"
     ]
    },
    {
     "data": {
      "application/vnd.jupyter.widget-view+json": {
       "model_id": "21159f2214d044febf23c037f4b4a5ca",
       "version_major": 2,
       "version_minor": 0
      },
      "text/plain": [
       "Document(children=(Dom(children=(MessageWidget(message_options={'message': '', 'type': 'info', 'show_close': F…"
      ]
     },
     "execution_count": 4,
     "metadata": {},
     "output_type": "execute_result"
    }
   ],
   "source": [
    "%vuepy_demo layout-hlc.vue"
   ]
  },
  {
   "cell_type": "code",
   "execution_count": 5,
   "id": "e8e49a95-1d51-4433-9355-b7f102e8a9a5",
   "metadata": {},
   "outputs": [
    {
     "name": "stdout",
     "output_type": "stream",
     "text": [
      "{\"vue\": \"<template>\\n  <AppLayout>\\n    <template v-slot:header>\\n      <Button label=\\\"header\\\" style=\\\"width: auto; height: auto; background-color: #c8e3fe\\\"></Button>\\n    </template>\\n    <template v-slot:left_sidebar>\\n      <Button label=\\\"\\\" style=\\\"width: auto; height: auto; background-color: #dbecfe\\\"></Button>\\n      <Button label=\\\"left\\\" style=\\\"width: auto; height: auto; background-color: #dbecfe\\\"></Button>\\n      <Button label=\\\"\\\" style=\\\"width: auto; height: auto; background-color: #dbecfe\\\"></Button>\\n    </template>\\n    <template v-slot:center>\\n      <Button style=\\\"width: auto; height: auto; background-color: #ecf5fe\\\"></Button>\\n      <Button label=\\\"center\\\" style=\\\"width: auto; height: auto; background-color: #ecf5fe\\\"></Button>\\n      <Button style=\\\"width: auto; height: auto; background-color: #ecf5fe\\\"></Button>\\n    </template>\\n    <template v-slot:footer>\\n      <Button label=\\\"footer\\\" style=\\\"width: auto; height: auto; background-color: #c8e3fe\\\"></Button>\\n    </template>\\n  </AppLayout>\\n</template>\\n\\n<script setup>\\nimport Button from \\\"../../../src/ipywui/components/Button\\\";\\nimport AppLayout from \\\"../../../src/ipywui/components/AppLayout\\\";\\n</script>\", \"setup\": 0}\n"
     ]
    },
    {
     "data": {
      "application/vnd.jupyter.widget-view+json": {
       "model_id": "56d9b36ccae54f4eb59243ea1bf0f139",
       "version_major": 2,
       "version_minor": 0
      },
      "text/plain": [
       "Document(children=(Dom(children=(MessageWidget(message_options={'message': '', 'type': 'info', 'show_close': F…"
      ]
     },
     "execution_count": 5,
     "metadata": {},
     "output_type": "execute_result"
    }
   ],
   "source": [
    "%vuepy_demo layout-hlcf.vue"
   ]
  },
  {
   "cell_type": "code",
   "execution_count": 6,
   "id": "aefac00b-059b-4ab0-b472-f0bba5e69db8",
   "metadata": {},
   "outputs": [
    {
     "name": "stdout",
     "output_type": "stream",
     "text": [
      "{\"vue\": \"<template>\\n  <AppLayout>\\n    <template v-slot:header>\\n      <Button label=\\\"header\\\" style=\\\"width: auto; height: auto; background-color: #c8e3fe\\\"></Button>\\n    </template>\\n\\n    <template v-slot:left_sidebar>\\n      <Button label=\\\"\\\" style=\\\"width: auto; height: auto; background-color: #dbecfe\\\"></Button>\\n      <Button label=\\\"left\\\" style=\\\"width: auto; height: auto; background-color: #dbecfe\\\"></Button>\\n      <Button label=\\\"\\\" style=\\\"width: auto; height: auto; background-color: #dbecfe\\\"></Button>\\n      <Button label=\\\"\\\" style=\\\"width: auto; height: auto; background-color: #dbecfe\\\"></Button>\\n    </template>\\n\\n    <template v-slot:center>\\n      <AppLayout>\\n        <template v-slot:center>\\n          <Button style=\\\"width: auto; height: auto; background-color: #ecf5fe\\\"></Button>\\n          <Button label=\\\"center\\\" style=\\\"width: auto; height: auto; background-color: #ecf5fe\\\"></Button>\\n          <Button style=\\\"width: auto; height: auto; background-color: #ecf5fe\\\"></Button>\\n        </template>\\n\\n        <template v-slot:footer>\\n          <Button label=\\\"footer\\\" style=\\\"width: auto; height: auto; background-color: #c8e3fe\\\"></Button>\\n        </template>\\n      </AppLayout>\\n    </template>\\n  </AppLayout>\\n</template>\\n\\n<script setup>\\nimport Button from \\\"../../../src/ipywui/components/Button\\\";\\nimport AppLayout from \\\"../../../src/ipywui/components/AppLayout\\\";\\n</script>\", \"setup\": 0}\n"
     ]
    },
    {
     "data": {
      "application/vnd.jupyter.widget-view+json": {
       "model_id": "372426e73c4143009ec8bb8b3897a88f",
       "version_major": 2,
       "version_minor": 0
      },
      "text/plain": [
       "Document(children=(Dom(children=(MessageWidget(message_options={'message': '', 'type': 'info', 'show_close': F…"
      ]
     },
     "execution_count": 6,
     "metadata": {},
     "output_type": "execute_result"
    }
   ],
   "source": [
    "%vuepy_demo layout-hl-cf.vue"
   ]
  },
  {
   "cell_type": "code",
   "execution_count": 7,
   "id": "c41e06a3-2410-4c43-a342-040b3d4e643d",
   "metadata": {},
   "outputs": [
    {
     "name": "stdout",
     "output_type": "stream",
     "text": [
      "{\"vue\": \"<template>\\n  <AppLayout>\\n    <template v-slot:left_sidebar>\\n      <Button label=\\\"\\\" style=\\\"width: auto; height: auto; background-color: #dbecfe\\\"></Button>\\n      <Button label=\\\"left\\\" style=\\\"width: auto; height: auto; background-color: #dbecfe\\\"></Button>\\n      <Button label=\\\"\\\" style=\\\"width: auto; height: auto; background-color: #dbecfe\\\"></Button>\\n      <Button label=\\\"\\\" style=\\\"width: auto; height: auto; background-color: #dbecfe\\\"></Button>\\n    </template>\\n\\n    <template v-slot:center>\\n      <AppLayout>\\n        <template v-slot:header>\\n          <Button label=\\\"header\\\" style=\\\"width: auto; height: auto; background-color: #c8e3fe\\\"></Button>\\n        </template>\\n        <template v-slot:center>\\n          <Button style=\\\"width: auto; height: auto; background-color: #ecf5fe\\\"></Button>\\n          <Button label=\\\"center\\\" style=\\\"width: auto; height: auto; background-color: #ecf5fe\\\"></Button>\\n          <Button style=\\\"width: auto; height: auto; background-color: #ecf5fe\\\"></Button>\\n        </template>\\n      </AppLayout>\\n    </template>\\n  </AppLayout>\\n</template>\\n\\n<script setup>\\nimport Button from \\\"../../../src/ipywui/components/Button\\\";\\nimport AppLayout from \\\"../../../src/ipywui/components/AppLayout\\\";\\n</script>\", \"setup\": 0}\n"
     ]
    },
    {
     "data": {
      "application/vnd.jupyter.widget-view+json": {
       "model_id": "41cfa3c3aa1c44d289430037c6cb1c36",
       "version_major": 2,
       "version_minor": 0
      },
      "text/plain": [
       "Document(children=(Dom(children=(MessageWidget(message_options={'message': '', 'type': 'info', 'show_close': F…"
      ]
     },
     "execution_count": 7,
     "metadata": {},
     "output_type": "execute_result"
    }
   ],
   "source": [
    "%vuepy_demo layout-l-hc.vue"
   ]
  },
  {
   "cell_type": "code",
   "execution_count": 8,
   "id": "84d0a1d3-ca64-4210-828f-436e29f6e703",
   "metadata": {},
   "outputs": [
    {
     "name": "stdout",
     "output_type": "stream",
     "text": [
      "{\"vue\": \"<template>\\n  <AppLayout>\\n    <template v-slot:left_sidebar>\\n      <Button label=\\\"\\\" style=\\\"width: auto; height: auto; background-color: #dbecfe\\\"></Button>\\n      <Button label=\\\"\\\" style=\\\"width: auto; height: auto; background-color: #dbecfe\\\"></Button>\\n      <Button label=\\\"left\\\" style=\\\"width: auto; height: auto; background-color: #dbecfe\\\"></Button>\\n      <Button label=\\\"\\\" style=\\\"width: auto; height: auto; background-color: #dbecfe\\\"></Button>\\n      <Button label=\\\"\\\" style=\\\"width: auto; height: auto; background-color: #dbecfe\\\"></Button>\\n    </template>\\n\\n    <template v-slot:center>\\n      <AppLayout>\\n        <template v-slot:header>\\n          <Button label=\\\"header\\\" style=\\\"width: auto; height: auto; background-color: #c8e3fe\\\"></Button>\\n        </template>\\n        <template v-slot:center>\\n          <Button style=\\\"width: auto; height: auto; background-color: #ecf5fe\\\"></Button>\\n          <Button label=\\\"center\\\" style=\\\"width: auto; height: auto; background-color: #ecf5fe\\\"></Button>\\n          <Button style=\\\"width: auto; height: auto; background-color: #ecf5fe\\\"></Button>\\n        </template>\\n        <template v-slot:footer>\\n          <Button label=\\\"footer\\\" style=\\\"width: auto; height: auto; background-color: #c8e3fe\\\"></Button>\\n        </template>\\n      </AppLayout>\\n    </template>\\n  </AppLayout>\\n</template>\\n\\n<script setup>\\nimport Button from \\\"../../../src/ipywui/components/Button\\\";\\nimport AppLayout from \\\"../../../src/ipywui/components/AppLayout\\\";\\n</script>\", \"setup\": 0}\n"
     ]
    },
    {
     "data": {
      "application/vnd.jupyter.widget-view+json": {
       "model_id": "759103fa30af43fd995c90e332552365",
       "version_major": 2,
       "version_minor": 0
      },
      "text/plain": [
       "Document(children=(Dom(children=(MessageWidget(message_options={'message': '', 'type': 'info', 'show_close': F…"
      ]
     },
     "execution_count": 8,
     "metadata": {},
     "output_type": "execute_result"
    }
   ],
   "source": [
    "%vuepy_demo layout-l-hcf.vue"
   ]
  },
  {
   "cell_type": "markdown",
   "id": "12c2efad-b30b-4a2e-903b-67624ab3ae76",
   "metadata": {},
   "source": [
    "## 自定义面板宽高\n",
    "\n",
    "您还可以使用 `pane_widths` 和 `pane_heights` 参数修改窗格的相对和绝对宽度和高度。两者都接受三个元素的序列，每个元素要么是整数（相当于赋予行/列的权重），要么是格式为 `'1fr'` （与整数相同）或 `'100px'`。"
   ]
  },
  {
   "cell_type": "code",
   "execution_count": 9,
   "id": "fe202d82-29c7-4fe7-adfd-0118cd6ca18c",
   "metadata": {},
   "outputs": [
    {
     "name": "stdout",
     "output_type": "stream",
     "text": [
      "{\"vue\": \"<template>\\n  <AppLayout :pane_widths=\\\"['100px', 1, 1]\\\" :pane_heights=\\\"[1, 5, '60px']\\\">\\n    <template v-slot:header>\\n      <Button label=\\\"header\\\" style=\\\"width: auto; height: auto; background-color: #c8e3fe\\\"></Button>\\n    </template>\\n    <template v-slot:left_sidebar>\\n      <Button label=\\\"\\\" style=\\\"width: auto; height: auto; background-color: #dbecfe\\\"></Button>\\n      <Button label=\\\"\\\" style=\\\"width: auto; height: auto; background-color: #dbecfe\\\"></Button>\\n      <Button label=\\\"left\\\" style=\\\"width: auto; height: auto; background-color: #dbecfe\\\"></Button>\\n      <Button label=\\\"\\\" style=\\\"width: auto; height: auto; background-color: #dbecfe\\\"></Button>\\n      <Button label=\\\"\\\" style=\\\"width: auto; height: auto; background-color: #dbecfe\\\"></Button>\\n    </template>\\n    <template v-slot:right_sidebar>\\n      <Button label=\\\"\\\" style=\\\"width: auto; height: auto; background-color: #dbecfe\\\"></Button>\\n      <Button label=\\\"\\\" style=\\\"width: auto; height: auto; background-color: #dbecfe\\\"></Button>\\n      <Button label=\\\"right\\\" style=\\\"width: auto; height: auto; background-color: #dbecfe\\\"></Button>\\n      <Button label=\\\"\\\" style=\\\"width: auto; height: auto; background-color: #dbecfe\\\"></Button>\\n      <Button label=\\\"\\\" style=\\\"width: auto; height: auto; background-color: #dbecfe\\\"></Button>\\n    </template>\\n    <template v-slot:center>\\n      <Button style=\\\"width: auto; height: auto; background-color: #ecf5fe\\\"></Button>\\n      <Button style=\\\"width: auto; height: auto; background-color: #ecf5fe\\\"></Button>\\n      <Button label=\\\"center\\\" style=\\\"width: auto; height: auto; background-color: #ecf5fe\\\"></Button>\\n      <Button style=\\\"width: auto; height: auto; background-color: #ecf5fe\\\"></Button>\\n      <Button style=\\\"width: auto; height: auto; background-color: #ecf5fe\\\"></Button>\\n    </template>\\n    <template v-slot:footer>\\n      <Button label=\\\"footer\\\" style=\\\"width: auto; height: auto; background-color: #c8e3fe\\\"></Button>\\n      <Button label=\\\"\\\" style=\\\"width: auto; height: auto; background-color: #c8e3fe\\\"></Button>\\n    </template>\\n  </AppLayout>\\n</template>\\n\\n<script setup>\\nimport Button from \\\"../../../src/ipywui/components/Button\\\";\\nimport AppLayout from \\\"../../../src/ipywui/components/AppLayout\\\";\\n</script>\", \"setup\": 0}\n"
     ]
    },
    {
     "data": {
      "application/vnd.jupyter.widget-view+json": {
       "model_id": "0a4c71d7cb544a76a205aee055ae19a9",
       "version_major": 2,
       "version_minor": 0
      },
      "text/plain": [
       "Document(children=(Dom(children=(MessageWidget(message_options={'message': '', 'type': 'info', 'show_close': F…"
      ]
     },
     "execution_count": 9,
     "metadata": {},
     "output_type": "execute_result"
    }
   ],
   "source": [
    "%vuepy_demo custom.vue"
   ]
  },
  {
   "cell_type": "markdown",
   "id": "8685d144-029f-4afa-8547-4f3d84529504",
   "metadata": {},
   "source": [
    "## AppLayout API\n",
    "\n",
    "### AppLayout 属性\n",
    "\n",
    "| 属性名        | 说明                 | 类型                                                           | 默认值 |\n",
    "| --------     | ------------------- | ---------------------------------------------------------------| ------- |\n",
    "| width        | 容器宽                 | ^[str]                                                         | -       |\n",
    "| height       | 容器高                 | ^[str]                                                         | -       |\n",
    "| pane_widths   | (左侧边栏，主要区域，右侧边栏)的绝对或相对宽度                 | ^[str]                                                         | -       |\n",
    "| pane_heights   | (顶栏，主要区域，底栏)的绝对或相对高度                 | ^[str]                                                         | -       |\n",
    "| gutter（保留参数）       | 栅格间隔, css flex布局下的 gride-gap  | ^[str]                                              | -       |\n",
    "| justify（保留参数） | css flex布局下的水平排列方式  | ^[enum]`'start' \\| 'end' \\| 'center' \\| 'space-around' \\| 'space-between' \\| 'space-evenly'` | start   |\n",
    "| align（保留参数）   | css flex布局下的垂直排列方式 | ^[enum]`'top' \\| 'middle' \\| 'bottom'`                                                       | —       |\n",
    "| style        | 自定义css样式        | ^[str]                                                         | -       |\n",
    "\n",
    "### AppLayout Slots\n",
    "\n",
    "| 插槽名   | 说明               | 子标签 |\n",
    "| ---     | ---               | --- |\n",
    "| header |  顶栏自定义内容 |  |\n",
    "| left_sidebar | 左侧边栏自定义内容      | |\n",
    "| right_sidebar | 右侧边栏自定义内容      | |\n",
    "| center | 主要区域自定义内容      | |\n",
    "| footer | 底栏自定义内容      | |\n",
    "\n",
    "### AppLayout 方法\n",
    "\n",
    "| 属性名 | 说明 | 类型 |\n",
    "| --- | --- | --- |\n"
   ]
  }
 ],
 "metadata": {
  "kernelspec": {
   "display_name": "Python 3 (ipykernel)",
   "language": "python",
   "name": "python3"
  },
  "language_info": {
   "codemirror_mode": {
    "name": "ipython",
    "version": 3
   },
   "file_extension": ".py",
   "mimetype": "text/x-python",
   "name": "python",
   "nbconvert_exporter": "python",
   "pygments_lexer": "ipython3",
   "version": "3.10.12"
  },
  "widgets": {
   "application/vnd.jupyter.widget-state+json": {
    "state": {
     "002b522d21ee4cceb01eb0b1cf339965": {
      "model_module": "@jupyter-widgets/base",
      "model_module_version": "2.0.0",
      "model_name": "LayoutModel",
      "state": {
       "height": "auto",
       "width": "auto"
      }
     },
     "003e736a63df40099ed23779e0b6bf8b": {
      "model_module": "@jupyter-widgets/output",
      "model_module_version": "1.0.0",
      "model_name": "OutputModel",
      "state": {
       "layout": "IPY_MODEL_7c1fa99efaaf4d1b872e08e3c42af96a",
       "outputs": [
        {
         "data": {
          "application/vnd.jupyter.widget-view+json": {
           "model_id": "d47d2bdfa7e046e2b48b99104c44fe70",
           "version_major": 2,
           "version_minor": 0
          },
          "text/plain": "AppLayout(children=(VBox(children=(Button(description='header', layout=Layout(height='auto', width='auto'), st…"
         },
         "metadata": {},
         "output_type": "display_data"
        }
       ]
      }
     },
     "003fe70d89bc4b99ae4fe77943351d24": {
      "model_module": "@jupyter-widgets/controls",
      "model_module_version": "2.0.0",
      "model_name": "VBoxModel",
      "state": {
       "children": [
        "IPY_MODEL_59c5cfda33fb49c0925b9e8692ccd5f8",
        "IPY_MODEL_26092e1237124709856aab04a0f7824d",
        "IPY_MODEL_7521c5ca325b44da8cfdfe4b284f978b"
       ],
       "layout": "IPY_MODEL_abd16141207141e0aa75a3a17413a464"
      }
     },
     "00c29ed2f3ed490a9be8d9a7015e2e78": {
      "model_module": "@jupyter-widgets/base",
      "model_module_version": "2.0.0",
      "model_name": "LayoutModel",
      "state": {
       "height": "auto",
       "width": "auto"
      }
     },
     "025eaa3cd1d14d228efd638db2f33bcb": {
      "model_module": "@jupyter-widgets/controls",
      "model_module_version": "2.0.0",
      "model_name": "VBoxModel",
      "state": {
       "children": [
        "IPY_MODEL_30bd370eed864d179ff34fa44cb1e3cd"
       ],
       "layout": "IPY_MODEL_603047b1ea1a4b7f8f5d2fd3676c1351"
      }
     },
     "03aff781fd54486ab2a4ca36715a9294": {
      "model_module": "@jupyter-widgets/output",
      "model_module_version": "1.0.0",
      "model_name": "OutputModel",
      "state": {
       "layout": "IPY_MODEL_4ed3391f8b8c4ccabb2603a8c31d0a6f",
       "outputs": [
        {
         "data": {
          "application/vnd.jupyter.widget-view+json": {
           "model_id": "5f8197a47e2348e6b679621cb7352579",
           "version_major": 2,
           "version_minor": 0
          },
          "text/plain": "AppLayout(children=(VBox(children=(Button(description='header', layout=Layout(height='auto', width='auto'), st…"
         },
         "metadata": {},
         "output_type": "display_data"
        }
       ]
      }
     },
     "0431cbeac720464884c3ba547ecc2a98": {
      "model_module": "@jupyter-widgets/base",
      "model_module_version": "2.0.0",
      "model_name": "LayoutModel",
      "state": {
       "height": "auto",
       "width": "auto"
      }
     },
     "047f670e3333480d85904ed7520c7504": {
      "model_module": "@jupyter-widgets/controls",
      "model_module_version": "2.0.0",
      "model_name": "VBoxModel",
      "state": {
       "children": [
        "IPY_MODEL_143a9f190e474f35a012226c49fab658",
        "IPY_MODEL_ccd0b08672534ec48d0be141e8d4d415",
        "IPY_MODEL_bd554ad6517744b1a07acce29f84e4d5"
       ],
       "layout": "IPY_MODEL_8355bbb808d74a20bf008b567fa8e058"
      }
     },
     "04e3048f529d408d8e91700139d17cc0": {
      "model_module": "@jupyter-widgets/base",
      "model_module_version": "2.0.0",
      "model_name": "LayoutModel",
      "state": {
       "grid_area": "center"
      }
     },
     "063c70571252407d9ecd4531aa09deb8": {
      "model_module": "@jupyter-widgets/controls",
      "model_module_version": "2.0.0",
      "model_name": "ButtonModel",
      "state": {
       "layout": "IPY_MODEL_d5cef06eabb24dac85334501671b310c",
       "style": "IPY_MODEL_f71412568a9447578177962d781bf5aa",
       "tooltip": null
      }
     },
     "06857239cda840bbb9ec33566e8de636": {
      "model_module": "@jupyter-widgets/base",
      "model_module_version": "2.0.0",
      "model_name": "LayoutModel",
      "state": {
       "height": "auto",
       "width": "auto"
      }
     },
     "0689eb33594e4df49802d85bbde98328": {
      "model_module": "@jupyter-widgets/base",
      "model_module_version": "2.0.0",
      "model_name": "LayoutModel",
      "state": {
       "grid_template_areas": "\"header header header\"\n\"left-sidebar center right-sidebar\"\n\"footer footer footer\"",
       "grid_template_columns": "100px 1fr 1fr",
       "grid_template_rows": "1fr 5fr 60px"
      }
     },
     "06a777c096724c58b43179f159ab7849": {
      "model_module": "@jupyter-widgets/base",
      "model_module_version": "2.0.0",
      "model_name": "LayoutModel",
      "state": {
       "height": "auto",
       "width": "auto"
      }
     },
     "07b2a45ee1894e3180d486f39ad0385f": {
      "model_module": "@jupyter-widgets/base",
      "model_module_version": "2.0.0",
      "model_name": "LayoutModel",
      "state": {
       "grid_area": "right-sidebar"
      }
     },
     "08df32e04c0f414eb9f1537524391e4b": {
      "model_module": "@jupyter-widgets/controls",
      "model_module_version": "2.0.0",
      "model_name": "GridBoxModel",
      "state": {
       "children": [
        "IPY_MODEL_9e70e0c08f7a4ea6a7b293622e67f7fc",
        "IPY_MODEL_047f670e3333480d85904ed7520c7504"
       ],
       "layout": "IPY_MODEL_edf23a32885344fda7292305e005cecc"
      }
     },
     "08f46bdd14d04bed9e6379f98c422d58": {
      "model_module": "@jupyter-widgets/base",
      "model_module_version": "2.0.0",
      "model_name": "LayoutModel",
      "state": {
       "height": "auto",
       "width": "auto"
      }
     },
     "0a4c71d7cb544a76a205aee055ae19a9": {
      "model_module": "@jupyter-widgets/controls",
      "model_module_version": "2.0.0",
      "model_name": "VBoxModel",
      "state": {
       "children": [
        "IPY_MODEL_baf09fc8134e454695731db3e0cd2c2b"
       ],
       "layout": "IPY_MODEL_ff9d4364b14349788a0b7f7147206033"
      }
     },
     "0a693568a66e413880d1d1c84fedb6b5": {
      "model_module": "@jupyter-widgets/controls",
      "model_module_version": "2.0.0",
      "model_name": "ButtonModel",
      "state": {
       "layout": "IPY_MODEL_be1c1d04cbdf46e69b8cc34defbf142d",
       "style": "IPY_MODEL_4efc78191bdd487592bd68cf05324d7d",
       "tooltip": null
      }
     },
     "0a72dfbc973f4b19a9c66228e1b7cd67": {
      "model_module": "@jupyter-widgets/controls",
      "model_module_version": "2.0.0",
      "model_name": "ButtonStyleModel",
      "state": {
       "button_color": "#c8e3fe",
       "font_family": null,
       "font_size": null,
       "font_style": null,
       "font_variant": null,
       "font_weight": null,
       "text_color": null,
       "text_decoration": null
      }
     },
     "0ace0cead4174dceb4bbf543683a8aa6": {
      "model_module": "@jupyter-widgets/base",
      "model_module_version": "2.0.0",
      "model_name": "LayoutModel",
      "state": {
       "grid_template_areas": "\"header header header\"\n\"center center center\"\n\"footer footer footer\"",
       "grid_template_columns": "1fr 2fr 1fr",
       "grid_template_rows": "1fr 3fr 1fr"
      }
     },
     "0ba9b22450f847d49bbfeae1871f19d0": {
      "model_module": "@jupyter-widgets/controls",
      "model_module_version": "2.0.0",
      "model_name": "ButtonStyleModel",
      "state": {
       "button_color": "#c8e3fe",
       "font_family": null,
       "font_size": null,
       "font_style": null,
       "font_variant": null,
       "font_weight": null,
       "text_color": null,
       "text_decoration": null
      }
     },
     "0bab0b3e78634685aaa67845fb47f3f2": {
      "model_module": "@jupyter-widgets/controls",
      "model_module_version": "2.0.0",
      "model_name": "ButtonModel",
      "state": {
       "layout": "IPY_MODEL_3584b0aed02442b89047a07bb5783aed",
       "style": "IPY_MODEL_7614a63f9d4243a9813cf0894a61ca5c",
       "tooltip": null
      }
     },
     "0bcf92bcc9814037a86afb8886a3c09b": {
      "model_module": "@jupyter-widgets/base",
      "model_module_version": "2.0.0",
      "model_name": "LayoutModel",
      "state": {
       "height": "auto",
       "width": "auto"
      }
     },
     "0c36f90f50424904a611759d76214ffa": {
      "model_module": "@jupyter-widgets/controls",
      "model_module_version": "2.0.0",
      "model_name": "GridBoxModel",
      "state": {
       "children": [
        "IPY_MODEL_86fc2293ff014a6c893d2006410af355",
        "IPY_MODEL_78a1dc599c8f48c5bf1a6a1a34cecc55",
        "IPY_MODEL_d9aa9e4221c14d8e8a0f35518c6fa20b"
       ],
       "layout": "IPY_MODEL_0ace0cead4174dceb4bbf543683a8aa6"
      }
     },
     "0ceda82d58e84f0e985a7bec17fed6a0": {
      "model_module": "@jupyter-widgets/base",
      "model_module_version": "2.0.0",
      "model_name": "LayoutModel",
      "state": {
       "grid_area": "left-sidebar"
      }
     },
     "0dab48152de348c3a84a3ce3a6b15964": {
      "model_module": "@jupyter-widgets/controls",
      "model_module_version": "2.0.0",
      "model_name": "ButtonModel",
      "state": {
       "layout": "IPY_MODEL_d74abf6b146d43c88e1b1b918c5580c4",
       "style": "IPY_MODEL_3fbf60f8f4044507b0803db5234d684c",
       "tooltip": null
      }
     },
     "0f19c9665eb04f268db9feca050f46e5": {
      "model_module": "@jupyter-widgets/controls",
      "model_module_version": "2.0.0",
      "model_name": "ButtonModel",
      "state": {
       "layout": "IPY_MODEL_00c29ed2f3ed490a9be8d9a7015e2e78",
       "style": "IPY_MODEL_4fd34b35de6a44f3809fb0dfa14232a4",
       "tooltip": null
      }
     },
     "0f81ba6f3509446880f9a88206515df2": {
      "model_module": "@jupyter-widgets/controls",
      "model_module_version": "2.0.0",
      "model_name": "VBoxModel",
      "state": {
       "children": [
        "IPY_MODEL_db68aa2426d2467eb28362d5eeaad9a8"
       ],
       "layout": "IPY_MODEL_c5eae7c9886e4aec959b4b17c47e7341"
      }
     },
     "103095b4c3474b8180b2e4b2152927ce": {
      "model_module": "@jupyter-widgets/base",
      "model_module_version": "2.0.0",
      "model_name": "LayoutModel",
      "state": {
       "height": "auto",
       "width": "auto"
      }
     },
     "10b004c93dd641478561348c9a4ff922": {
      "model_module": "@jupyter-widgets/controls",
      "model_module_version": "2.0.0",
      "model_name": "ButtonStyleModel",
      "state": {
       "button_color": "#ecf5fe",
       "font_family": null,
       "font_size": null,
       "font_style": null,
       "font_variant": null,
       "font_weight": null,
       "text_color": null,
       "text_decoration": null
      }
     },
     "10ee4b6acd4a4b69a711ecec1920721b": {
      "model_module": "@jupyter-widgets/base",
      "model_module_version": "2.0.0",
      "model_name": "LayoutModel",
      "state": {
       "height": "auto",
       "width": "auto"
      }
     },
     "112c720c8b4347008ab057100fa08761": {
      "model_module": "@jupyter-widgets/base",
      "model_module_version": "2.0.0",
      "model_name": "LayoutModel",
      "state": {
       "grid_template_areas": "\"header header header\"\n\"center center center\"",
       "grid_template_columns": "1fr 2fr 1fr",
       "grid_template_rows": "1fr 3fr"
      }
     },
     "11f18f54d5974534b025e160629059e4": {
      "model_module": "@jupyter-widgets/base",
      "model_module_version": "2.0.0",
      "model_name": "LayoutModel",
      "state": {
       "height": "auto",
       "width": "auto"
      }
     },
     "12696487c702461c9e7964b9f1974fcc": {
      "model_module": "@jupyter-widgets/base",
      "model_module_version": "2.0.0",
      "model_name": "LayoutModel",
      "state": {}
     },
     "12745dbec8484ddf8349fc0337463510": {
      "model_module": "@jupyter-widgets/controls",
      "model_module_version": "2.0.0",
      "model_name": "VBoxModel",
      "state": {
       "children": [
        "IPY_MODEL_357180a792e64c2fbdf2d7bd65a58810",
        "IPY_MODEL_75bdd83cef76445b895fac69a3297fa8",
        "IPY_MODEL_7e863f3475b54a788a63f8112adf9a15",
        "IPY_MODEL_a14b0088c4ed4cdb90dc9035656fccb7",
        "IPY_MODEL_0dab48152de348c3a84a3ce3a6b15964"
       ],
       "layout": "IPY_MODEL_c0de4dbf45d64728b67a17c4d94b5318"
      }
     },
     "1296fdccfb19487a8aa07778163f7fbe": {
      "model_module": "@jupyter-widgets/controls",
      "model_module_version": "2.0.0",
      "model_name": "GridBoxModel",
      "state": {
       "children": [
        "IPY_MODEL_1c266cb0914946d5a70b68afd808ecc6",
        "IPY_MODEL_dcbbc77b05fd4c4abc49e49d368f8b09"
       ],
       "layout": "IPY_MODEL_2a350c950b07437786b2f1da6c3a8746"
      }
     },
     "13337116eef74506b6e6d689966206d9": {
      "model_module": "@jupyter-widgets/controls",
      "model_module_version": "2.0.0",
      "model_name": "ButtonStyleModel",
      "state": {
       "button_color": "#ecf5fe",
       "font_family": null,
       "font_size": null,
       "font_style": null,
       "font_variant": null,
       "font_weight": null,
       "text_color": null,
       "text_decoration": null
      }
     },
     "1342525173724f2d804b5bd6744a09ab": {
      "model_module": "@jupyter-widgets/controls",
      "model_module_version": "2.0.0",
      "model_name": "GridBoxModel",
      "state": {
       "children": [
        "IPY_MODEL_025eaa3cd1d14d228efd638db2f33bcb",
        "IPY_MODEL_61a207c5ee3c4f86aa9f0f84c288bfde",
        "IPY_MODEL_f0d29f468537423f94e8f7ceceb44aa6",
        "IPY_MODEL_12745dbec8484ddf8349fc0337463510",
        "IPY_MODEL_dd5cecc51a2f448fae668cd7b92c6248"
       ],
       "layout": "IPY_MODEL_0689eb33594e4df49802d85bbde98328"
      }
     },
     "134d21d4ccfd49929a46d776e5881226": {
      "model_module": "@jupyter-widgets/controls",
      "model_module_version": "2.0.0",
      "model_name": "GridBoxModel",
      "state": {
       "children": [
        "IPY_MODEL_003fe70d89bc4b99ae4fe77943351d24",
        "IPY_MODEL_77863a5bcdc24caf9686e7d5a7892fbe",
        "IPY_MODEL_d594ca33dbb54390b6ea7efc3b999c09"
       ],
       "layout": "IPY_MODEL_205a03e462f4445b919729153209d674"
      }
     },
     "1396e043beac46bd832ebc2c43285fd8": {
      "model_module": "@jupyter-widgets/base",
      "model_module_version": "2.0.0",
      "model_name": "LayoutModel",
      "state": {}
     },
     "143a9f190e474f35a012226c49fab658": {
      "model_module": "@jupyter-widgets/controls",
      "model_module_version": "2.0.0",
      "model_name": "ButtonModel",
      "state": {
       "layout": "IPY_MODEL_548fe088bef144b685365620c386c5f2",
       "style": "IPY_MODEL_7fb0698959414d84b46afa170011a77d",
       "tooltip": null
      }
     },
     "161e20fa753147969642ce639118d75b": {
      "model_module": "@jupyter-widgets/controls",
      "model_module_version": "2.0.0",
      "model_name": "ButtonStyleModel",
      "state": {
       "button_color": "#dbecfe",
       "font_family": null,
       "font_size": null,
       "font_style": null,
       "font_variant": null,
       "font_weight": null,
       "text_color": null,
       "text_decoration": null
      }
     },
     "169694b5769647f1b8b0e37a4eb27273": {
      "model_module": "@jupyter-widgets/base",
      "model_module_version": "2.0.0",
      "model_name": "LayoutModel",
      "state": {
       "height": "auto",
       "width": "auto"
      }
     },
     "18d2b33c2c7945638a89d8863954abea": {
      "model_module": "@jupyter-widgets/base",
      "model_module_version": "2.0.0",
      "model_name": "LayoutModel",
      "state": {
       "grid_area": "footer"
      }
     },
     "19edb405c7734fea9be9a90cd158fbc2": {
      "model_module": "@jupyter-widgets/controls",
      "model_module_version": "2.0.0",
      "model_name": "VBoxModel",
      "state": {
       "children": [
        "IPY_MODEL_6f95ef884058415c8030fd01b873844f",
        "IPY_MODEL_2484abe49e5f4b9baa2d644e5155b22a",
        "IPY_MODEL_0a693568a66e413880d1d1c84fedb6b5"
       ],
       "layout": "IPY_MODEL_3ed1d71120fc48bcb5615e371c902e3e"
      }
     },
     "1bc9ec1a682241728f356ffd18837713": {
      "model_module": "@jupyter-widgets/controls",
      "model_module_version": "2.0.0",
      "model_name": "ButtonStyleModel",
      "state": {
       "button_color": "#dbecfe",
       "font_family": null,
       "font_size": null,
       "font_style": null,
       "font_variant": null,
       "font_weight": null,
       "text_color": null,
       "text_decoration": null
      }
     },
     "1c266cb0914946d5a70b68afd808ecc6": {
      "model_module": "@jupyter-widgets/controls",
      "model_module_version": "2.0.0",
      "model_name": "VBoxModel",
      "state": {
       "children": [
        "IPY_MODEL_4c70757165904531b4aefa950cbc1c30",
        "IPY_MODEL_64417c345e6a4295aa6d1ea30c7025f9",
        "IPY_MODEL_9abe7e8345084802aa974e8de38d8c4a",
        "IPY_MODEL_f9f11474808848d0b3b4f10f3f12579f"
       ],
       "layout": "IPY_MODEL_c8fb09a43acf4d99b2c7df3d8ada19bf"
      }
     },
     "1e248a958b77495a83b2cee2f2065d21": {
      "model_module": "anywidget",
      "model_module_version": "0.9.3",
      "model_name": "AnyModel",
      "state": {
       "_anywidget_id": "ipywui.widgets.custom.message.MessageWidget",
       "_css": ".wui-message-root {\n    display: flex;\n    position: absolute;\n    left: 0;\n    right: 0;\n    top: 0;\n}\n\n.wui-message-container {\n    align-items: center;\n    display: flex;\n    flex-direction: column-reverse;\n    justify-content: center;\n    min-height: 100%;\n    outline: none;\n    width: 100%;\n\n    -webkit-tap-highlight-color: rgba(0,0,0,0);\n    bottom: 0;\n    left: 0;\n    right: 0;\n    top: 0;\n}\n\n.wui-message--success {\n    --wui-message-bg-color: #f0f9eb;\n    --wui-message-border-color: #e1f3d8;\n    --wui-message-text-color: #67c23a;\n}\n.wui-message--warning {\n    --wui-message-bg-color: #fdf6ec;\n    --wui-message-border-color: #faecd8;\n    --wui-message-text-color: #e6a23c;\n}\n.wui-message--info {\n    --wui-message-bg-color: #f4f4f5;\n    --wui-message-border-color: #e9e9eb;\n    --wui-message-text-color: #909399;\n}\n.wui-message--error {\n    --wui-message-bg-color: #fef0f0;\n    --wui-message-border-color: #fde2e2;\n    --wui-message-text-color: #f56c6c;\n}\n\n@keyframes msg-open {\n    0% {\n        opacity: 0;\n        -webkit-transform: translateY(-120%);\n        transform: translateY(-120%)\n    }\n    to {\n        -webkit-transform: translateY(0);\n        transform: translateY(0)\n    }\n}\n\n@keyframes msg-close {\n    0% {\n        opacity: 1;\n        -webkit-transform: scale(1);\n        transform: scale(1)\n    }\n    to {\n        opacity: 0;\n        -webkit-transform: scale(.9);\n        transform: scale(.9)\n    }\n}\n.wui-message[data-state=entered],.wui-message[data-state=entering] {\n    -webkit-animation: msg-open .24s cubic-bezier(.175,.885,.32,1.175) both;\n    animation: msg-open .24s cubic-bezier(.175,.885,.32,1.175) both\n}\n\n.wui-message[data-state=exiting] {\n    -webkit-animation: msg-close .12s cubic-bezier(.4,0,1,1) both;\n    animation: msg-close .12s cubic-bezier(.4,0,1,1) both\n}\n\n.wui-message {\n    width: -webkit-fit-content;\n    width: -moz-fit-content;\n    width: fit-content;\n    z-index: 2004;\n    max-width: calc(100% - 32px);\n    margin-top: 8px;\n    box-sizing: border-box;\n    /*border-radius: var(--wui-border-radius-base);*/\n    /*border-width: var(--wui-border-width);*/\n    /*border-style: var(--wui-border-style);*/\n    border-color: var(--wui-message-border-color);\n    /*left: 50%;*/\n    /*top: 20px;*/\n    /*transform: translateX(-50%);*/\n    background-color: var(--wui-message-bg-color);\n    /*transition: opacity var(--wui-transition-duration),transform .4s,top .4s;*/\n    /*padding: var(--wui-message-padding);*/\n    display: flex;\n    align-items: center;\n}\n\n/*.wui-message--success */\n.wui-message__content {\n    color: var(--wui-message-text-color);\n    font-size: 14px;\n    line-height: 18px;\n    margin: 10px 14px 10px 14px;\n    overflow-wrap: break-word;\n}\n\n.wui-message__closeBtn {\n    /*cursor: pointer;*/\n    font-style: normal;\n    /*color: gray;*/\n    padding-right: 14px;\n    /*font-size: 13px;*/\n    user-select: none;\n\n    background: transparent;\n    border: none;\n    color: gray;\n    cursor: pointer;\n    font-size: 13px;\n    font-weight: 400;\n    line-height: 1;\n    outline: none;\n    /*padding: 4px;*/\n    text-align: center;\n    transition: opacity .3s;\n    /*width: 100%;*/\n}",
       "_esm": "function closeMsg(msgDom) {\n  if (!msgDom) {\n    return;\n  }\n  msgDom.setAttribute('data-state', 'exiting');\n  msgDom.remove();\n}\n\nfunction createMsg(options) {\n  const {message, msg_id, type = 'info', show_close = false} = options;\n  const msgDom = document.createElement('div');\n  msgDom.className += ` wui-message--${type} wui-message`;\n  msgDom.setAttribute('data-state', 'entered');\n  msgDom.setAttribute('id', msg_id);\n  const msgContent = document.createElement('p');\n  msgContent.className += ` wui-message--${type} wui-message__content`;\n  msgContent.innerText = message;\n  msgDom.appendChild(msgContent);\n  if (show_close) {\n    const closeBtn = document.createElement('i');\n    closeBtn.className += 'wui-message__closeBtn';\n    closeBtn.innerText = 'x';\n    closeBtn.addEventListener('click', (ev) => {\n      closeMsg(msgDom);\n    })\n    msgDom.appendChild(closeBtn);\n  }\n  return msgDom;\n}\n\nexport async function render(view) {\n  let model = view.model;\n  const msgRoot = view.el;\n  msgRoot.className += ' wui-message-root'\n\n  const msgContainer = document.createElement('div');\n  msgContainer.className += ' wui-message-container';\n  msgRoot.appendChild(msgContainer)\n\n  model.on(\"change:message_options\", () => {\n    const options = model.get(\"message_options\");\n    const msg = createMsg(options);\n    msgContainer.appendChild(msg);\n    const {duration = 3000} = options;\n    if (duration > 0) {\n      setTimeout(() => {\n        closeMsg(msg)\n      }, duration);\n    }\n  })\n\n  model.on(\"change:close_msg_id\", () => {\n    const msg_id = model.get(\"close_msg_id\");\n    const msgDom = document.getElementById(msg_id);\n    closeMsg(msgDom);\n  })\n}\n",
       "_model_module": "anywidget",
       "_model_module_version": "0.9.3",
       "_model_name": "AnyModel",
       "_view_module": "anywidget",
       "_view_module_version": "0.9.3",
       "_view_name": "AnyView",
       "close_msg_id": "",
       "layout": "IPY_MODEL_913800a32fa8484c9265f7f88348c26b",
       "message_options": {
        "duration": 3000,
        "message": "",
        "show_close": false,
        "type": "info"
       }
      }
     },
     "1f17f6658ebb4b7fbd417387b20deb09": {
      "model_module": "@jupyter-widgets/controls",
      "model_module_version": "2.0.0",
      "model_name": "ButtonModel",
      "state": {
       "layout": "IPY_MODEL_d49a436b1b1c40daa29f56f2b06b2390",
       "style": "IPY_MODEL_c8e9b67c7d8c49ac9a054ee8ce28faf8",
       "tooltip": null
      }
     },
     "1f2ca08b6f8d470e97716251c2f384ce": {
      "model_module": "@jupyter-widgets/controls",
      "model_module_version": "2.0.0",
      "model_name": "ButtonModel",
      "state": {
       "description": "header",
       "layout": "IPY_MODEL_2e657341147049829cba3a99c40fcfb0",
       "style": "IPY_MODEL_0a72dfbc973f4b19a9c66228e1b7cd67",
       "tooltip": null
      }
     },
     "205a03e462f4445b919729153209d674": {
      "model_module": "@jupyter-widgets/base",
      "model_module_version": "2.0.0",
      "model_name": "LayoutModel",
      "state": {
       "grid_template_areas": "\"left-sidebar center right-sidebar\"",
       "grid_template_columns": "1fr 2fr 1fr",
       "grid_template_rows": "3fr"
      }
     },
     "20838cee12cd44bfa8486204cd1dd81b": {
      "model_module": "@jupyter-widgets/output",
      "model_module_version": "1.0.0",
      "model_name": "OutputModel",
      "state": {
       "layout": "IPY_MODEL_c57c767c97a544809e734490ee629ba6",
       "outputs": [
        {
         "data": {
          "application/vnd.jupyter.widget-view+json": {
           "model_id": "30ccf668922f4361abab5df3c3d57516",
           "version_major": 2,
           "version_minor": 0
          },
          "text/plain": "AppLayout(children=(VBox(children=(Button(layout=Layout(height='auto', width='auto'), style=ButtonStyle(button…"
         },
         "metadata": {},
         "output_type": "display_data"
        }
       ]
      }
     },
     "21159f2214d044febf23c037f4b4a5ca": {
      "model_module": "@jupyter-widgets/controls",
      "model_module_version": "2.0.0",
      "model_name": "VBoxModel",
      "state": {
       "children": [
        "IPY_MODEL_f85e04a43c3c4cb985ae3448212cc599"
       ],
       "layout": "IPY_MODEL_d865920039cb4ef2ab46377a300db925"
      }
     },
     "224041d99f8a4604aef8a9e43ef66b6b": {
      "model_module": "@jupyter-widgets/base",
      "model_module_version": "2.0.0",
      "model_name": "LayoutModel",
      "state": {
       "height": "auto",
       "width": "auto"
      }
     },
     "2484abe49e5f4b9baa2d644e5155b22a": {
      "model_module": "@jupyter-widgets/controls",
      "model_module_version": "2.0.0",
      "model_name": "ButtonModel",
      "state": {
       "description": "center",
       "layout": "IPY_MODEL_59a583a9889d48cd863be189663ffcae",
       "style": "IPY_MODEL_3ab264beaa824abba0714c25ab4d3fac",
       "tooltip": null
      }
     },
     "2489f9a94c7a47beb039c6d0df532ebf": {
      "model_module": "@jupyter-widgets/controls",
      "model_module_version": "2.0.0",
      "model_name": "ButtonModel",
      "state": {
       "layout": "IPY_MODEL_52a5bce59c2e4575b8a26ec2ef6f03bb",
       "style": "IPY_MODEL_849a6a1790fa4996ac35e88aef39d44e",
       "tooltip": null
      }
     },
     "26092e1237124709856aab04a0f7824d": {
      "model_module": "@jupyter-widgets/controls",
      "model_module_version": "2.0.0",
      "model_name": "ButtonModel",
      "state": {
       "description": "left",
       "layout": "IPY_MODEL_8c434dbd9c6a453f9c16eaa24c9d7796",
       "style": "IPY_MODEL_dc19c2d576c242ab906585ab5a0fe6ae",
       "tooltip": null
      }
     },
     "288db9b7c3074a3f917345cceaa5f07c": {
      "model_module": "@jupyter-widgets/controls",
      "model_module_version": "2.0.0",
      "model_name": "ButtonStyleModel",
      "state": {
       "button_color": "#c8e3fe",
       "font_family": null,
       "font_size": null,
       "font_style": null,
       "font_variant": null,
       "font_weight": null,
       "text_color": null,
       "text_decoration": null
      }
     },
     "2a350c950b07437786b2f1da6c3a8746": {
      "model_module": "@jupyter-widgets/base",
      "model_module_version": "2.0.0",
      "model_name": "LayoutModel",
      "state": {
       "grid_template_areas": "\"left-sidebar center center\"",
       "grid_template_columns": "1fr 2fr 1fr",
       "grid_template_rows": "3fr"
      }
     },
     "2a4cf52b4ad24b8ab3597d9b2f1a9397": {
      "model_module": "@jupyter-widgets/controls",
      "model_module_version": "2.0.0",
      "model_name": "ButtonStyleModel",
      "state": {
       "button_color": "#c8e3fe",
       "font_family": null,
       "font_size": null,
       "font_style": null,
       "font_variant": null,
       "font_weight": null,
       "text_color": null,
       "text_decoration": null
      }
     },
     "2a698089e93e4dfaa33fe62905d6d67a": {
      "model_module": "@jupyter-widgets/base",
      "model_module_version": "2.0.0",
      "model_name": "LayoutModel",
      "state": {
       "height": "auto",
       "width": "auto"
      }
     },
     "2a6f664c993e4cc7a46deff9c8b35a3a": {
      "model_module": "@jupyter-widgets/base",
      "model_module_version": "2.0.0",
      "model_name": "LayoutModel",
      "state": {}
     },
     "2bf01719373a416092939be17c7e7d60": {
      "model_module": "@jupyter-widgets/controls",
      "model_module_version": "2.0.0",
      "model_name": "ButtonModel",
      "state": {
       "description": "footer",
       "layout": "IPY_MODEL_5e6baf3c67d444a3a28a02a7718b6ac0",
       "style": "IPY_MODEL_828f5651ceb34adf9d21928e3d0e08da",
       "tooltip": null
      }
     },
     "2d70411f758f4130a6019d9f9c39ebb9": {
      "model_module": "@jupyter-widgets/base",
      "model_module_version": "2.0.0",
      "model_name": "LayoutModel",
      "state": {
       "height": "auto",
       "width": "auto"
      }
     },
     "2e657341147049829cba3a99c40fcfb0": {
      "model_module": "@jupyter-widgets/base",
      "model_module_version": "2.0.0",
      "model_name": "LayoutModel",
      "state": {
       "height": "auto",
       "width": "auto"
      }
     },
     "2e813055fba34e03b89369c635a46ba1": {
      "model_module": "@jupyter-widgets/controls",
      "model_module_version": "2.0.0",
      "model_name": "ButtonModel",
      "state": {
       "description": "footer",
       "layout": "IPY_MODEL_fd3551a75d1543f79343dcaedb0de694",
       "style": "IPY_MODEL_793ffde09544468992cb6b567ad8802f",
       "tooltip": null
      }
     },
     "2fa98138e08e42a1bac7bd86105db081": {
      "model_module": "@jupyter-widgets/controls",
      "model_module_version": "2.0.0",
      "model_name": "ButtonModel",
      "state": {
       "layout": "IPY_MODEL_9c5f52ddde494255a99859e65c62b69f",
       "style": "IPY_MODEL_9e98fb264f034c18b5ff59df013cffc8",
       "tooltip": null
      }
     },
     "3017904827d64b0ea844e848f073dba1": {
      "model_module": "@jupyter-widgets/controls",
      "model_module_version": "2.0.0",
      "model_name": "ButtonModel",
      "state": {
       "layout": "IPY_MODEL_b48728d79ca346239cfa3304d4370aa7",
       "style": "IPY_MODEL_4ffd4d6a72a849ff886b29645df3d406",
       "tooltip": null
      }
     },
     "3068fb3f7387437d90f07933b0b20f86": {
      "model_module": "@jupyter-widgets/base",
      "model_module_version": "2.0.0",
      "model_name": "LayoutModel",
      "state": {
       "grid_area": "center"
      }
     },
     "30bd370eed864d179ff34fa44cb1e3cd": {
      "model_module": "@jupyter-widgets/controls",
      "model_module_version": "2.0.0",
      "model_name": "ButtonModel",
      "state": {
       "description": "header",
       "layout": "IPY_MODEL_103095b4c3474b8180b2e4b2152927ce",
       "style": "IPY_MODEL_72b5cdd9e5674144a4b1b7d0312243f7",
       "tooltip": null
      }
     },
     "30ccf668922f4361abab5df3c3d57516": {
      "model_module": "@jupyter-widgets/controls",
      "model_module_version": "2.0.0",
      "model_name": "GridBoxModel",
      "state": {
       "children": [
        "IPY_MODEL_a9178f41b1db44828a49ac786cee93e4",
        "IPY_MODEL_b83e1321fd574f15bcfc055cb3c5b63f"
       ],
       "layout": "IPY_MODEL_f68b0335e8724fae89046a92c45e9ebe"
      }
     },
     "31cd0a4304ac4552925fbb2d2c43d394": {
      "model_module": "@jupyter-widgets/controls",
      "model_module_version": "2.0.0",
      "model_name": "ButtonStyleModel",
      "state": {
       "button_color": "#ecf5fe",
       "font_family": null,
       "font_size": null,
       "font_style": null,
       "font_variant": null,
       "font_weight": null,
       "text_color": null,
       "text_decoration": null
      }
     },
     "325f1c230c6445f2b590ebe7ce22493c": {
      "model_module": "@jupyter-widgets/base",
      "model_module_version": "2.0.0",
      "model_name": "LayoutModel",
      "state": {
       "height": "auto",
       "width": "auto"
      }
     },
     "330173cefe3742a99b2c6db55187d4aa": {
      "model_module": "anywidget",
      "model_module_version": "0.9.3",
      "model_name": "AnyModel",
      "state": {
       "_anywidget_id": "ipywui.widgets.custom.message.MessageWidget",
       "_css": ".wui-message-root {\n    display: flex;\n    position: absolute;\n    left: 0;\n    right: 0;\n    top: 0;\n}\n\n.wui-message-container {\n    align-items: center;\n    display: flex;\n    flex-direction: column-reverse;\n    justify-content: center;\n    min-height: 100%;\n    outline: none;\n    width: 100%;\n\n    -webkit-tap-highlight-color: rgba(0,0,0,0);\n    bottom: 0;\n    left: 0;\n    right: 0;\n    top: 0;\n}\n\n.wui-message--success {\n    --wui-message-bg-color: #f0f9eb;\n    --wui-message-border-color: #e1f3d8;\n    --wui-message-text-color: #67c23a;\n}\n.wui-message--warning {\n    --wui-message-bg-color: #fdf6ec;\n    --wui-message-border-color: #faecd8;\n    --wui-message-text-color: #e6a23c;\n}\n.wui-message--info {\n    --wui-message-bg-color: #f4f4f5;\n    --wui-message-border-color: #e9e9eb;\n    --wui-message-text-color: #909399;\n}\n.wui-message--error {\n    --wui-message-bg-color: #fef0f0;\n    --wui-message-border-color: #fde2e2;\n    --wui-message-text-color: #f56c6c;\n}\n\n@keyframes msg-open {\n    0% {\n        opacity: 0;\n        -webkit-transform: translateY(-120%);\n        transform: translateY(-120%)\n    }\n    to {\n        -webkit-transform: translateY(0);\n        transform: translateY(0)\n    }\n}\n\n@keyframes msg-close {\n    0% {\n        opacity: 1;\n        -webkit-transform: scale(1);\n        transform: scale(1)\n    }\n    to {\n        opacity: 0;\n        -webkit-transform: scale(.9);\n        transform: scale(.9)\n    }\n}\n.wui-message[data-state=entered],.wui-message[data-state=entering] {\n    -webkit-animation: msg-open .24s cubic-bezier(.175,.885,.32,1.175) both;\n    animation: msg-open .24s cubic-bezier(.175,.885,.32,1.175) both\n}\n\n.wui-message[data-state=exiting] {\n    -webkit-animation: msg-close .12s cubic-bezier(.4,0,1,1) both;\n    animation: msg-close .12s cubic-bezier(.4,0,1,1) both\n}\n\n.wui-message {\n    width: -webkit-fit-content;\n    width: -moz-fit-content;\n    width: fit-content;\n    z-index: 2004;\n    max-width: calc(100% - 32px);\n    margin-top: 8px;\n    box-sizing: border-box;\n    /*border-radius: var(--wui-border-radius-base);*/\n    /*border-width: var(--wui-border-width);*/\n    /*border-style: var(--wui-border-style);*/\n    border-color: var(--wui-message-border-color);\n    /*left: 50%;*/\n    /*top: 20px;*/\n    /*transform: translateX(-50%);*/\n    background-color: var(--wui-message-bg-color);\n    /*transition: opacity var(--wui-transition-duration),transform .4s,top .4s;*/\n    /*padding: var(--wui-message-padding);*/\n    display: flex;\n    align-items: center;\n}\n\n/*.wui-message--success */\n.wui-message__content {\n    color: var(--wui-message-text-color);\n    font-size: 14px;\n    line-height: 18px;\n    margin: 10px 14px 10px 14px;\n    overflow-wrap: break-word;\n}\n\n.wui-message__closeBtn {\n    /*cursor: pointer;*/\n    font-style: normal;\n    /*color: gray;*/\n    padding-right: 14px;\n    /*font-size: 13px;*/\n    user-select: none;\n\n    background: transparent;\n    border: none;\n    color: gray;\n    cursor: pointer;\n    font-size: 13px;\n    font-weight: 400;\n    line-height: 1;\n    outline: none;\n    /*padding: 4px;*/\n    text-align: center;\n    transition: opacity .3s;\n    /*width: 100%;*/\n}",
       "_esm": "function closeMsg(msgDom) {\n  if (!msgDom) {\n    return;\n  }\n  msgDom.setAttribute('data-state', 'exiting');\n  msgDom.remove();\n}\n\nfunction createMsg(options) {\n  const {message, msg_id, type = 'info', show_close = false} = options;\n  const msgDom = document.createElement('div');\n  msgDom.className += ` wui-message--${type} wui-message`;\n  msgDom.setAttribute('data-state', 'entered');\n  msgDom.setAttribute('id', msg_id);\n  const msgContent = document.createElement('p');\n  msgContent.className += ` wui-message--${type} wui-message__content`;\n  msgContent.innerText = message;\n  msgDom.appendChild(msgContent);\n  if (show_close) {\n    const closeBtn = document.createElement('i');\n    closeBtn.className += 'wui-message__closeBtn';\n    closeBtn.innerText = 'x';\n    closeBtn.addEventListener('click', (ev) => {\n      closeMsg(msgDom);\n    })\n    msgDom.appendChild(closeBtn);\n  }\n  return msgDom;\n}\n\nexport async function render(view) {\n  let model = view.model;\n  const msgRoot = view.el;\n  msgRoot.className += ' wui-message-root'\n\n  const msgContainer = document.createElement('div');\n  msgContainer.className += ' wui-message-container';\n  msgRoot.appendChild(msgContainer)\n\n  model.on(\"change:message_options\", () => {\n    const options = model.get(\"message_options\");\n    const msg = createMsg(options);\n    msgContainer.appendChild(msg);\n    const {duration = 3000} = options;\n    if (duration > 0) {\n      setTimeout(() => {\n        closeMsg(msg)\n      }, duration);\n    }\n  })\n\n  model.on(\"change:close_msg_id\", () => {\n    const msg_id = model.get(\"close_msg_id\");\n    const msgDom = document.getElementById(msg_id);\n    closeMsg(msgDom);\n  })\n}\n",
       "_model_module": "anywidget",
       "_model_module_version": "0.9.3",
       "_model_name": "AnyModel",
       "_view_module": "anywidget",
       "_view_module_version": "0.9.3",
       "_view_name": "AnyView",
       "close_msg_id": "",
       "layout": "IPY_MODEL_e060f97e47644e30be135dd5704b2972",
       "message_options": {
        "duration": 3000,
        "message": "",
        "show_close": false,
        "type": "info"
       }
      }
     },
     "338e7b556e0642fa99741827ed2e3725": {
      "model_module": "@jupyter-widgets/output",
      "model_module_version": "1.0.0",
      "model_name": "OutputModel",
      "state": {
       "layout": "IPY_MODEL_4d71e16b0cfa4868b92d647c6429d8df",
       "outputs": [
        {
         "data": {
          "application/vnd.jupyter.widget-view+json": {
           "model_id": "134d21d4ccfd49929a46d776e5881226",
           "version_major": 2,
           "version_minor": 0
          },
          "text/plain": "AppLayout(children=(VBox(children=(Button(layout=Layout(height='auto', width='auto'), style=ButtonStyle(button…"
         },
         "metadata": {},
         "output_type": "display_data"
        }
       ]
      }
     },
     "339f9e96b8a748a8a4c909ba5d19f2fb": {
      "model_module": "@jupyter-widgets/controls",
      "model_module_version": "2.0.0",
      "model_name": "ButtonModel",
      "state": {
       "layout": "IPY_MODEL_48af57ce1b234189a5fed5127c5f4f80",
       "style": "IPY_MODEL_92ba437f687d4fafa680e5830cd19f16",
       "tooltip": null
      }
     },
     "356fc2061be84e76b1ae7ce27254f7f4": {
      "model_module": "@jupyter-widgets/controls",
      "model_module_version": "2.0.0",
      "model_name": "VBoxModel",
      "state": {
       "children": [
        "IPY_MODEL_b4743276eb6145a4935bedb5aacfd3bd",
        "IPY_MODEL_338e7b556e0642fa99741827ed2e3725"
       ],
       "layout": "IPY_MODEL_620265552985405a8ba931ddd1f126aa"
      }
     },
     "357180a792e64c2fbdf2d7bd65a58810": {
      "model_module": "@jupyter-widgets/controls",
      "model_module_version": "2.0.0",
      "model_name": "ButtonModel",
      "state": {
       "layout": "IPY_MODEL_60c7e681113a4b3db5b7fdd4977e7b8d",
       "style": "IPY_MODEL_161e20fa753147969642ce639118d75b",
       "tooltip": null
      }
     },
     "3578772f6350425c8490288377fa1b1f": {
      "model_module": "@jupyter-widgets/output",
      "model_module_version": "1.0.0",
      "model_name": "OutputModel",
      "state": {
       "layout": "IPY_MODEL_494b230f78074cf5afbe3b208dc0e8d6",
       "outputs": [
        {
         "data": {
          "application/vnd.jupyter.widget-view+json": {
           "model_id": "da59015ef45849c48ff2953c45bb5d8c",
           "version_major": 2,
           "version_minor": 0
          },
          "text/plain": "AppLayout(children=(VBox(children=(Button(description='header', layout=Layout(height='auto', width='auto'), st…"
         },
         "metadata": {},
         "output_type": "display_data"
        }
       ]
      }
     },
     "3584b0aed02442b89047a07bb5783aed": {
      "model_module": "@jupyter-widgets/base",
      "model_module_version": "2.0.0",
      "model_name": "LayoutModel",
      "state": {
       "height": "auto",
       "width": "auto"
      }
     },
     "3668577e464041dc8520a0db6c5b56dc": {
      "model_module": "@jupyter-widgets/base",
      "model_module_version": "2.0.0",
      "model_name": "LayoutModel",
      "state": {}
     },
     "36e121c797ac41a5a813bf68ae7712b6": {
      "model_module": "@jupyter-widgets/base",
      "model_module_version": "2.0.0",
      "model_name": "LayoutModel",
      "state": {
       "height": "auto",
       "width": "auto"
      }
     },
     "372426e73c4143009ec8bb8b3897a88f": {
      "model_module": "@jupyter-widgets/controls",
      "model_module_version": "2.0.0",
      "model_name": "VBoxModel",
      "state": {
       "children": [
        "IPY_MODEL_fea01bf782ba473f86a23273eff62484"
       ],
       "layout": "IPY_MODEL_3e970103054d4eee983d2eeedc2d20b1"
      }
     },
     "382be98a01ad44a9a8fd5898e85e69cd": {
      "model_module": "@jupyter-widgets/base",
      "model_module_version": "2.0.0",
      "model_name": "LayoutModel",
      "state": {
       "height": "auto",
       "width": "auto"
      }
     },
     "388c546562384b6885fc2e37a093d878": {
      "model_module": "@jupyter-widgets/base",
      "model_module_version": "2.0.0",
      "model_name": "LayoutModel",
      "state": {
       "height": "auto",
       "width": "auto"
      }
     },
     "3923ea38bb85404d8f4e5cc1a79814b5": {
      "model_module": "anywidget",
      "model_module_version": "0.9.3",
      "model_name": "AnyModel",
      "state": {
       "_anywidget_id": "ipywui.widgets.custom.message.MessageWidget",
       "_css": ".wui-message-root {\n    display: flex;\n    position: absolute;\n    left: 0;\n    right: 0;\n    top: 0;\n}\n\n.wui-message-container {\n    align-items: center;\n    display: flex;\n    flex-direction: column-reverse;\n    justify-content: center;\n    min-height: 100%;\n    outline: none;\n    width: 100%;\n\n    -webkit-tap-highlight-color: rgba(0,0,0,0);\n    bottom: 0;\n    left: 0;\n    right: 0;\n    top: 0;\n}\n\n.wui-message--success {\n    --wui-message-bg-color: #f0f9eb;\n    --wui-message-border-color: #e1f3d8;\n    --wui-message-text-color: #67c23a;\n}\n.wui-message--warning {\n    --wui-message-bg-color: #fdf6ec;\n    --wui-message-border-color: #faecd8;\n    --wui-message-text-color: #e6a23c;\n}\n.wui-message--info {\n    --wui-message-bg-color: #f4f4f5;\n    --wui-message-border-color: #e9e9eb;\n    --wui-message-text-color: #909399;\n}\n.wui-message--error {\n    --wui-message-bg-color: #fef0f0;\n    --wui-message-border-color: #fde2e2;\n    --wui-message-text-color: #f56c6c;\n}\n\n@keyframes msg-open {\n    0% {\n        opacity: 0;\n        -webkit-transform: translateY(-120%);\n        transform: translateY(-120%)\n    }\n    to {\n        -webkit-transform: translateY(0);\n        transform: translateY(0)\n    }\n}\n\n@keyframes msg-close {\n    0% {\n        opacity: 1;\n        -webkit-transform: scale(1);\n        transform: scale(1)\n    }\n    to {\n        opacity: 0;\n        -webkit-transform: scale(.9);\n        transform: scale(.9)\n    }\n}\n.wui-message[data-state=entered],.wui-message[data-state=entering] {\n    -webkit-animation: msg-open .24s cubic-bezier(.175,.885,.32,1.175) both;\n    animation: msg-open .24s cubic-bezier(.175,.885,.32,1.175) both\n}\n\n.wui-message[data-state=exiting] {\n    -webkit-animation: msg-close .12s cubic-bezier(.4,0,1,1) both;\n    animation: msg-close .12s cubic-bezier(.4,0,1,1) both\n}\n\n.wui-message {\n    width: -webkit-fit-content;\n    width: -moz-fit-content;\n    width: fit-content;\n    z-index: 2004;\n    max-width: calc(100% - 32px);\n    margin-top: 8px;\n    box-sizing: border-box;\n    /*border-radius: var(--wui-border-radius-base);*/\n    /*border-width: var(--wui-border-width);*/\n    /*border-style: var(--wui-border-style);*/\n    border-color: var(--wui-message-border-color);\n    /*left: 50%;*/\n    /*top: 20px;*/\n    /*transform: translateX(-50%);*/\n    background-color: var(--wui-message-bg-color);\n    /*transition: opacity var(--wui-transition-duration),transform .4s,top .4s;*/\n    /*padding: var(--wui-message-padding);*/\n    display: flex;\n    align-items: center;\n}\n\n/*.wui-message--success */\n.wui-message__content {\n    color: var(--wui-message-text-color);\n    font-size: 14px;\n    line-height: 18px;\n    margin: 10px 14px 10px 14px;\n    overflow-wrap: break-word;\n}\n\n.wui-message__closeBtn {\n    /*cursor: pointer;*/\n    font-style: normal;\n    /*color: gray;*/\n    padding-right: 14px;\n    /*font-size: 13px;*/\n    user-select: none;\n\n    background: transparent;\n    border: none;\n    color: gray;\n    cursor: pointer;\n    font-size: 13px;\n    font-weight: 400;\n    line-height: 1;\n    outline: none;\n    /*padding: 4px;*/\n    text-align: center;\n    transition: opacity .3s;\n    /*width: 100%;*/\n}",
       "_esm": "function closeMsg(msgDom) {\n  if (!msgDom) {\n    return;\n  }\n  msgDom.setAttribute('data-state', 'exiting');\n  msgDom.remove();\n}\n\nfunction createMsg(options) {\n  const {message, msg_id, type = 'info', show_close = false} = options;\n  const msgDom = document.createElement('div');\n  msgDom.className += ` wui-message--${type} wui-message`;\n  msgDom.setAttribute('data-state', 'entered');\n  msgDom.setAttribute('id', msg_id);\n  const msgContent = document.createElement('p');\n  msgContent.className += ` wui-message--${type} wui-message__content`;\n  msgContent.innerText = message;\n  msgDom.appendChild(msgContent);\n  if (show_close) {\n    const closeBtn = document.createElement('i');\n    closeBtn.className += 'wui-message__closeBtn';\n    closeBtn.innerText = 'x';\n    closeBtn.addEventListener('click', (ev) => {\n      closeMsg(msgDom);\n    })\n    msgDom.appendChild(closeBtn);\n  }\n  return msgDom;\n}\n\nexport async function render(view) {\n  let model = view.model;\n  const msgRoot = view.el;\n  msgRoot.className += ' wui-message-root'\n\n  const msgContainer = document.createElement('div');\n  msgContainer.className += ' wui-message-container';\n  msgRoot.appendChild(msgContainer)\n\n  model.on(\"change:message_options\", () => {\n    const options = model.get(\"message_options\");\n    const msg = createMsg(options);\n    msgContainer.appendChild(msg);\n    const {duration = 3000} = options;\n    if (duration > 0) {\n      setTimeout(() => {\n        closeMsg(msg)\n      }, duration);\n    }\n  })\n\n  model.on(\"change:close_msg_id\", () => {\n    const msg_id = model.get(\"close_msg_id\");\n    const msgDom = document.getElementById(msg_id);\n    closeMsg(msgDom);\n  })\n}\n",
       "_model_module": "anywidget",
       "_model_module_version": "0.9.3",
       "_model_name": "AnyModel",
       "_view_module": "anywidget",
       "_view_module_version": "0.9.3",
       "_view_name": "AnyView",
       "close_msg_id": "",
       "layout": "IPY_MODEL_1396e043beac46bd832ebc2c43285fd8",
       "message_options": {
        "duration": 3000,
        "message": "",
        "show_close": false,
        "type": "info"
       }
      }
     },
     "3ab264beaa824abba0714c25ab4d3fac": {
      "model_module": "@jupyter-widgets/controls",
      "model_module_version": "2.0.0",
      "model_name": "ButtonStyleModel",
      "state": {
       "button_color": "#ecf5fe",
       "font_family": null,
       "font_size": null,
       "font_style": null,
       "font_variant": null,
       "font_weight": null,
       "text_color": null,
       "text_decoration": null
      }
     },
     "3af70918fcb940a0a9b12005d8fe763a": {
      "model_module": "@jupyter-widgets/base",
      "model_module_version": "2.0.0",
      "model_name": "LayoutModel",
      "state": {
       "height": "auto",
       "width": "auto"
      }
     },
     "3b05eee48dd944c989dfdcfe94078115": {
      "model_module": "@jupyter-widgets/base",
      "model_module_version": "2.0.0",
      "model_name": "LayoutModel",
      "state": {
       "height": "auto",
       "width": "auto"
      }
     },
     "3b6c22571368453f8754a33869742caa": {
      "model_module": "@jupyter-widgets/base",
      "model_module_version": "2.0.0",
      "model_name": "LayoutModel",
      "state": {
       "height": "auto",
       "width": "auto"
      }
     },
     "3be521675d0e4c7b9d9c8aff1f72c74e": {
      "model_module": "@jupyter-widgets/base",
      "model_module_version": "2.0.0",
      "model_name": "LayoutModel",
      "state": {
       "grid_area": "center"
      }
     },
     "3e009848bcfe4637bf29cfdaa1c83d73": {
      "model_module": "@jupyter-widgets/controls",
      "model_module_version": "2.0.0",
      "model_name": "ButtonStyleModel",
      "state": {
       "button_color": "#c8e3fe",
       "font_family": null,
       "font_size": null,
       "font_style": null,
       "font_variant": null,
       "font_weight": null,
       "text_color": null,
       "text_decoration": null
      }
     },
     "3e8558dfb0f34f29812917209feac0a3": {
      "model_module": "@jupyter-widgets/controls",
      "model_module_version": "2.0.0",
      "model_name": "VBoxModel",
      "state": {
       "children": [
        "IPY_MODEL_f712df9382994f148d2935cb523ed057",
        "IPY_MODEL_c89bab40fbc34892bbddbc77bea58ecc",
        "IPY_MODEL_8112be7d3acb4bfbad7e520f4a9029be"
       ],
       "layout": "IPY_MODEL_9d241728385b4518963f2bc48a8016d4"
      }
     },
     "3e970103054d4eee983d2eeedc2d20b1": {
      "model_module": "@jupyter-widgets/base",
      "model_module_version": "2.0.0",
      "model_name": "LayoutModel",
      "state": {}
     },
     "3ed1d71120fc48bcb5615e371c902e3e": {
      "model_module": "@jupyter-widgets/base",
      "model_module_version": "2.0.0",
      "model_name": "LayoutModel",
      "state": {
       "grid_area": "center"
      }
     },
     "3f4188495bd04ad98882e8afb8c426c4": {
      "model_module": "@jupyter-widgets/output",
      "model_module_version": "1.0.0",
      "model_name": "OutputModel",
      "state": {
       "layout": "IPY_MODEL_fb20cd4364904e599c1c4adf40f9eb37",
       "outputs": [
        {
         "data": {
          "application/vnd.jupyter.widget-view+json": {
           "model_id": "0c36f90f50424904a611759d76214ffa",
           "version_major": 2,
           "version_minor": 0
          },
          "text/plain": "AppLayout(children=(VBox(children=(Button(description='header', layout=Layout(height='auto', width='auto'), st…"
         },
         "metadata": {},
         "output_type": "display_data"
        }
       ]
      }
     },
     "3f9aec6cadca4d9da50c63491a0f1004": {
      "model_module": "@jupyter-widgets/controls",
      "model_module_version": "2.0.0",
      "model_name": "VBoxModel",
      "state": {
       "children": [
        "IPY_MODEL_a293c2e5058e40ddbb4c289cc54b59f9"
       ],
       "layout": "IPY_MODEL_5e812839515c47279d12b7d702be70ea"
      }
     },
     "3fbf60f8f4044507b0803db5234d684c": {
      "model_module": "@jupyter-widgets/controls",
      "model_module_version": "2.0.0",
      "model_name": "ButtonStyleModel",
      "state": {
       "button_color": "#dbecfe",
       "font_family": null,
       "font_size": null,
       "font_style": null,
       "font_variant": null,
       "font_weight": null,
       "text_color": null,
       "text_decoration": null
      }
     },
     "407fcb34f5c242ffaae4a0c32aee1a89": {
      "model_module": "@jupyter-widgets/controls",
      "model_module_version": "2.0.0",
      "model_name": "ButtonModel",
      "state": {
       "layout": "IPY_MODEL_535953a566264594bbb7ced5d7620274",
       "style": "IPY_MODEL_b1964affb9bf47148ab09693fa0a4194",
       "tooltip": null
      }
     },
     "40f177d4316a42a2b2e536abad51c809": {
      "model_module": "@jupyter-widgets/base",
      "model_module_version": "2.0.0",
      "model_name": "LayoutModel",
      "state": {
       "height": "auto",
       "width": "auto"
      }
     },
     "41cfa3c3aa1c44d289430037c6cb1c36": {
      "model_module": "@jupyter-widgets/controls",
      "model_module_version": "2.0.0",
      "model_name": "VBoxModel",
      "state": {
       "children": [
        "IPY_MODEL_d2ecf5bacc3b485999bf7c217742bb28"
       ],
       "layout": "IPY_MODEL_9736ae682cfd4df5a96637b6a3fe3ca3"
      }
     },
     "42a45b3bb2b440f88ccdf24e2afa8f80": {
      "model_module": "@jupyter-widgets/base",
      "model_module_version": "2.0.0",
      "model_name": "LayoutModel",
      "state": {}
     },
     "432634d20fc34e0698257a7c5dd6a47c": {
      "model_module": "@jupyter-widgets/controls",
      "model_module_version": "2.0.0",
      "model_name": "ButtonModel",
      "state": {
       "description": "center",
       "layout": "IPY_MODEL_5eeaff6af55d42de91a3f6f5e8aca872",
       "style": "IPY_MODEL_31cd0a4304ac4552925fbb2d2c43d394",
       "tooltip": null
      }
     },
     "44406dd3edd245a99577317455c6705d": {
      "model_module": "@jupyter-widgets/controls",
      "model_module_version": "2.0.0",
      "model_name": "ButtonModel",
      "state": {
       "layout": "IPY_MODEL_5bfc61fa5c9d49e680c2b8fef5e52d05",
       "style": "IPY_MODEL_53488f3f3a1447e99610e781b034f5bd",
       "tooltip": null
      }
     },
     "45184df13efa4c3d9188fdd48f11344d": {
      "model_module": "@jupyter-widgets/base",
      "model_module_version": "2.0.0",
      "model_name": "LayoutModel",
      "state": {
       "height": "auto",
       "width": "auto"
      }
     },
     "452fa11349e248889c82be96c89c7407": {
      "model_module": "@jupyter-widgets/base",
      "model_module_version": "2.0.0",
      "model_name": "LayoutModel",
      "state": {
       "height": "auto",
       "width": "auto"
      }
     },
     "454887197ebf4636ace58f0012da91fa": {
      "model_module": "anywidget",
      "model_module_version": "0.9.3",
      "model_name": "AnyModel",
      "state": {
       "_anywidget_id": "ipywui.widgets.custom.message.MessageWidget",
       "_css": ".wui-message-root {\n    display: flex;\n    position: absolute;\n    left: 0;\n    right: 0;\n    top: 0;\n}\n\n.wui-message-container {\n    align-items: center;\n    display: flex;\n    flex-direction: column-reverse;\n    justify-content: center;\n    min-height: 100%;\n    outline: none;\n    width: 100%;\n\n    -webkit-tap-highlight-color: rgba(0,0,0,0);\n    bottom: 0;\n    left: 0;\n    right: 0;\n    top: 0;\n}\n\n.wui-message--success {\n    --wui-message-bg-color: #f0f9eb;\n    --wui-message-border-color: #e1f3d8;\n    --wui-message-text-color: #67c23a;\n}\n.wui-message--warning {\n    --wui-message-bg-color: #fdf6ec;\n    --wui-message-border-color: #faecd8;\n    --wui-message-text-color: #e6a23c;\n}\n.wui-message--info {\n    --wui-message-bg-color: #f4f4f5;\n    --wui-message-border-color: #e9e9eb;\n    --wui-message-text-color: #909399;\n}\n.wui-message--error {\n    --wui-message-bg-color: #fef0f0;\n    --wui-message-border-color: #fde2e2;\n    --wui-message-text-color: #f56c6c;\n}\n\n@keyframes msg-open {\n    0% {\n        opacity: 0;\n        -webkit-transform: translateY(-120%);\n        transform: translateY(-120%)\n    }\n    to {\n        -webkit-transform: translateY(0);\n        transform: translateY(0)\n    }\n}\n\n@keyframes msg-close {\n    0% {\n        opacity: 1;\n        -webkit-transform: scale(1);\n        transform: scale(1)\n    }\n    to {\n        opacity: 0;\n        -webkit-transform: scale(.9);\n        transform: scale(.9)\n    }\n}\n.wui-message[data-state=entered],.wui-message[data-state=entering] {\n    -webkit-animation: msg-open .24s cubic-bezier(.175,.885,.32,1.175) both;\n    animation: msg-open .24s cubic-bezier(.175,.885,.32,1.175) both\n}\n\n.wui-message[data-state=exiting] {\n    -webkit-animation: msg-close .12s cubic-bezier(.4,0,1,1) both;\n    animation: msg-close .12s cubic-bezier(.4,0,1,1) both\n}\n\n.wui-message {\n    width: -webkit-fit-content;\n    width: -moz-fit-content;\n    width: fit-content;\n    z-index: 2004;\n    max-width: calc(100% - 32px);\n    margin-top: 8px;\n    box-sizing: border-box;\n    /*border-radius: var(--wui-border-radius-base);*/\n    /*border-width: var(--wui-border-width);*/\n    /*border-style: var(--wui-border-style);*/\n    border-color: var(--wui-message-border-color);\n    /*left: 50%;*/\n    /*top: 20px;*/\n    /*transform: translateX(-50%);*/\n    background-color: var(--wui-message-bg-color);\n    /*transition: opacity var(--wui-transition-duration),transform .4s,top .4s;*/\n    /*padding: var(--wui-message-padding);*/\n    display: flex;\n    align-items: center;\n}\n\n/*.wui-message--success */\n.wui-message__content {\n    color: var(--wui-message-text-color);\n    font-size: 14px;\n    line-height: 18px;\n    margin: 10px 14px 10px 14px;\n    overflow-wrap: break-word;\n}\n\n.wui-message__closeBtn {\n    /*cursor: pointer;*/\n    font-style: normal;\n    /*color: gray;*/\n    padding-right: 14px;\n    /*font-size: 13px;*/\n    user-select: none;\n\n    background: transparent;\n    border: none;\n    color: gray;\n    cursor: pointer;\n    font-size: 13px;\n    font-weight: 400;\n    line-height: 1;\n    outline: none;\n    /*padding: 4px;*/\n    text-align: center;\n    transition: opacity .3s;\n    /*width: 100%;*/\n}",
       "_esm": "function closeMsg(msgDom) {\n  if (!msgDom) {\n    return;\n  }\n  msgDom.setAttribute('data-state', 'exiting');\n  msgDom.remove();\n}\n\nfunction createMsg(options) {\n  const {message, msg_id, type = 'info', show_close = false} = options;\n  const msgDom = document.createElement('div');\n  msgDom.className += ` wui-message--${type} wui-message`;\n  msgDom.setAttribute('data-state', 'entered');\n  msgDom.setAttribute('id', msg_id);\n  const msgContent = document.createElement('p');\n  msgContent.className += ` wui-message--${type} wui-message__content`;\n  msgContent.innerText = message;\n  msgDom.appendChild(msgContent);\n  if (show_close) {\n    const closeBtn = document.createElement('i');\n    closeBtn.className += 'wui-message__closeBtn';\n    closeBtn.innerText = 'x';\n    closeBtn.addEventListener('click', (ev) => {\n      closeMsg(msgDom);\n    })\n    msgDom.appendChild(closeBtn);\n  }\n  return msgDom;\n}\n\nexport async function render(view) {\n  let model = view.model;\n  const msgRoot = view.el;\n  msgRoot.className += ' wui-message-root'\n\n  const msgContainer = document.createElement('div');\n  msgContainer.className += ' wui-message-container';\n  msgRoot.appendChild(msgContainer)\n\n  model.on(\"change:message_options\", () => {\n    const options = model.get(\"message_options\");\n    const msg = createMsg(options);\n    msgContainer.appendChild(msg);\n    const {duration = 3000} = options;\n    if (duration > 0) {\n      setTimeout(() => {\n        closeMsg(msg)\n      }, duration);\n    }\n  })\n\n  model.on(\"change:close_msg_id\", () => {\n    const msg_id = model.get(\"close_msg_id\");\n    const msgDom = document.getElementById(msg_id);\n    closeMsg(msgDom);\n  })\n}\n",
       "_model_module": "anywidget",
       "_model_module_version": "0.9.3",
       "_model_name": "AnyModel",
       "_view_module": "anywidget",
       "_view_module_version": "0.9.3",
       "_view_name": "AnyView",
       "close_msg_id": "",
       "layout": "IPY_MODEL_c88be09e56814d639bdc397d1797b2c1",
       "message_options": {
        "duration": 3000,
        "message": "",
        "show_close": false,
        "type": "info"
       }
      }
     },
     "45dc09abb0f74f3dbd846b52e530c6e4": {
      "model_module": "@jupyter-widgets/base",
      "model_module_version": "2.0.0",
      "model_name": "LayoutModel",
      "state": {}
     },
     "462fab10321c404090cfe4e87218443f": {
      "model_module": "@jupyter-widgets/controls",
      "model_module_version": "2.0.0",
      "model_name": "VBoxModel",
      "state": {
       "children": [
        "IPY_MODEL_9845b2e4d3b94ab79521ba565133bc7c"
       ],
       "layout": "IPY_MODEL_71025e6d44834e27913a006c6527be60"
      }
     },
     "4663c60b5426452898341e106b7fa36d": {
      "model_module": "@jupyter-widgets/controls",
      "model_module_version": "2.0.0",
      "model_name": "VBoxModel",
      "state": {
       "children": [
        "IPY_MODEL_648f1c613b1f428a98788afe9b0861ac"
       ],
       "layout": "IPY_MODEL_d38b1d1e559e4cd49fabe0746d5fbffd"
      }
     },
     "47bb5a0328ec427cb0140b741da5e639": {
      "model_module": "@jupyter-widgets/controls",
      "model_module_version": "2.0.0",
      "model_name": "ButtonModel",
      "state": {
       "layout": "IPY_MODEL_7efca43b02e54889814a97c2230a800a",
       "style": "IPY_MODEL_2a4cf52b4ad24b8ab3597d9b2f1a9397",
       "tooltip": null
      }
     },
     "47fff37401ec45ecb158e16f26ce551e": {
      "model_module": "@jupyter-widgets/base",
      "model_module_version": "2.0.0",
      "model_name": "LayoutModel",
      "state": {
       "grid_area": "header"
      }
     },
     "48af57ce1b234189a5fed5127c5f4f80": {
      "model_module": "@jupyter-widgets/base",
      "model_module_version": "2.0.0",
      "model_name": "LayoutModel",
      "state": {
       "height": "auto",
       "width": "auto"
      }
     },
     "494b230f78074cf5afbe3b208dc0e8d6": {
      "model_module": "@jupyter-widgets/base",
      "model_module_version": "2.0.0",
      "model_name": "LayoutModel",
      "state": {}
     },
     "4993804706524c529c772e8de9d83f08": {
      "model_module": "@jupyter-widgets/controls",
      "model_module_version": "2.0.0",
      "model_name": "ButtonModel",
      "state": {
       "layout": "IPY_MODEL_2a698089e93e4dfaa33fe62905d6d67a",
       "style": "IPY_MODEL_bee750a61bae4363baf6e48d7349f3de",
       "tooltip": null
      }
     },
     "4ad74ad945af4d3f9b59eab510e665e6": {
      "model_module": "@jupyter-widgets/controls",
      "model_module_version": "2.0.0",
      "model_name": "VBoxModel",
      "state": {
       "children": [
        "IPY_MODEL_356fc2061be84e76b1ae7ce27254f7f4"
       ],
       "layout": "IPY_MODEL_42a45b3bb2b440f88ccdf24e2afa8f80"
      }
     },
     "4c70757165904531b4aefa950cbc1c30": {
      "model_module": "@jupyter-widgets/controls",
      "model_module_version": "2.0.0",
      "model_name": "ButtonModel",
      "state": {
       "layout": "IPY_MODEL_bb42739f9fb04c57a4b92f5ffcbf27b6",
       "style": "IPY_MODEL_618a054514664414b27f715fb340da99",
       "tooltip": null
      }
     },
     "4d71e16b0cfa4868b92d647c6429d8df": {
      "model_module": "@jupyter-widgets/base",
      "model_module_version": "2.0.0",
      "model_name": "LayoutModel",
      "state": {}
     },
     "4ed3391f8b8c4ccabb2603a8c31d0a6f": {
      "model_module": "@jupyter-widgets/base",
      "model_module_version": "2.0.0",
      "model_name": "LayoutModel",
      "state": {}
     },
     "4efc78191bdd487592bd68cf05324d7d": {
      "model_module": "@jupyter-widgets/controls",
      "model_module_version": "2.0.0",
      "model_name": "ButtonStyleModel",
      "state": {
       "button_color": "#ecf5fe",
       "font_family": null,
       "font_size": null,
       "font_style": null,
       "font_variant": null,
       "font_weight": null,
       "text_color": null,
       "text_decoration": null
      }
     },
     "4fd34b35de6a44f3809fb0dfa14232a4": {
      "model_module": "@jupyter-widgets/controls",
      "model_module_version": "2.0.0",
      "model_name": "ButtonStyleModel",
      "state": {
       "button_color": "#ecf5fe",
       "font_family": null,
       "font_size": null,
       "font_style": null,
       "font_variant": null,
       "font_weight": null,
       "text_color": null,
       "text_decoration": null
      }
     },
     "4ffd4d6a72a849ff886b29645df3d406": {
      "model_module": "@jupyter-widgets/controls",
      "model_module_version": "2.0.0",
      "model_name": "ButtonStyleModel",
      "state": {
       "button_color": "#dbecfe",
       "font_family": null,
       "font_size": null,
       "font_style": null,
       "font_variant": null,
       "font_weight": null,
       "text_color": null,
       "text_decoration": null
      }
     },
     "5013bcdb729b416c8f3395aded79517a": {
      "model_module": "@jupyter-widgets/controls",
      "model_module_version": "2.0.0",
      "model_name": "ButtonStyleModel",
      "state": {
       "button_color": "#c8e3fe",
       "font_family": null,
       "font_size": null,
       "font_style": null,
       "font_variant": null,
       "font_weight": null,
       "text_color": null,
       "text_decoration": null
      }
     },
     "50642b9819694048be8628320282335b": {
      "model_module": "@jupyter-widgets/controls",
      "model_module_version": "2.0.0",
      "model_name": "ButtonStyleModel",
      "state": {
       "button_color": "#ecf5fe",
       "font_family": null,
       "font_size": null,
       "font_style": null,
       "font_variant": null,
       "font_weight": null,
       "text_color": null,
       "text_decoration": null
      }
     },
     "50e4c9594fb64ee48a753867ffb3e867": {
      "model_module": "@jupyter-widgets/controls",
      "model_module_version": "2.0.0",
      "model_name": "ButtonStyleModel",
      "state": {
       "button_color": "#ecf5fe",
       "font_family": null,
       "font_size": null,
       "font_style": null,
       "font_variant": null,
       "font_weight": null,
       "text_color": null,
       "text_decoration": null
      }
     },
     "52193057d1a449e7afcc50286d50aa20": {
      "model_module": "@jupyter-widgets/controls",
      "model_module_version": "2.0.0",
      "model_name": "ButtonModel",
      "state": {
       "layout": "IPY_MODEL_fa54b7849abd4a84b87ad46706b03257",
       "style": "IPY_MODEL_1bc9ec1a682241728f356ffd18837713",
       "tooltip": null
      }
     },
     "5288a1a3d4fd460b816c7d7de884847b": {
      "model_module": "@jupyter-widgets/controls",
      "model_module_version": "2.0.0",
      "model_name": "GridBoxModel",
      "state": {
       "children": [
        "IPY_MODEL_462fab10321c404090cfe4e87218443f",
        "IPY_MODEL_7a89d3b4218343b5b06c3f86a0e01a1a"
       ],
       "layout": "IPY_MODEL_112c720c8b4347008ab057100fa08761"
      }
     },
     "52a5bce59c2e4575b8a26ec2ef6f03bb": {
      "model_module": "@jupyter-widgets/base",
      "model_module_version": "2.0.0",
      "model_name": "LayoutModel",
      "state": {
       "height": "auto",
       "width": "auto"
      }
     },
     "53488f3f3a1447e99610e781b034f5bd": {
      "model_module": "@jupyter-widgets/controls",
      "model_module_version": "2.0.0",
      "model_name": "ButtonStyleModel",
      "state": {
       "button_color": "#ecf5fe",
       "font_family": null,
       "font_size": null,
       "font_style": null,
       "font_variant": null,
       "font_weight": null,
       "text_color": null,
       "text_decoration": null
      }
     },
     "535953a566264594bbb7ced5d7620274": {
      "model_module": "@jupyter-widgets/base",
      "model_module_version": "2.0.0",
      "model_name": "LayoutModel",
      "state": {
       "height": "auto",
       "width": "auto"
      }
     },
     "53d46b787c1f44cc9bd9ddd63a3bdc2d": {
      "model_module": "@jupyter-widgets/controls",
      "model_module_version": "2.0.0",
      "model_name": "ButtonStyleModel",
      "state": {
       "button_color": "#ecf5fe",
       "font_family": null,
       "font_size": null,
       "font_style": null,
       "font_variant": null,
       "font_weight": null,
       "text_color": null,
       "text_decoration": null
      }
     },
     "53e76da190994006b9eebf0733070199": {
      "model_module": "@jupyter-widgets/controls",
      "model_module_version": "2.0.0",
      "model_name": "VBoxModel",
      "state": {
       "children": [
        "IPY_MODEL_606a686937cd4b9c9cb6d69e0fd53839",
        "IPY_MODEL_702769ac771441e788850c9ee4566b91",
        "IPY_MODEL_0f19c9665eb04f268db9feca050f46e5"
       ],
       "layout": "IPY_MODEL_ae2a6626d81b4813a57f343d38f88bf0"
      }
     },
     "5418e6434055424c97b88bac811bdce5": {
      "model_module": "@jupyter-widgets/controls",
      "model_module_version": "2.0.0",
      "model_name": "ButtonStyleModel",
      "state": {
       "button_color": "#c8e3fe",
       "font_family": null,
       "font_size": null,
       "font_style": null,
       "font_variant": null,
       "font_weight": null,
       "text_color": null,
       "text_decoration": null
      }
     },
     "543fa293e6434206805a4d09f5973342": {
      "model_module": "@jupyter-widgets/controls",
      "model_module_version": "2.0.0",
      "model_name": "ButtonModel",
      "state": {
       "description": "left",
       "layout": "IPY_MODEL_ec63ab3b060442e2a4d2620d00e89c11",
       "style": "IPY_MODEL_757a180a337748fba6afe4fed1cee7df",
       "tooltip": null
      }
     },
     "548fe088bef144b685365620c386c5f2": {
      "model_module": "@jupyter-widgets/base",
      "model_module_version": "2.0.0",
      "model_name": "LayoutModel",
      "state": {
       "height": "auto",
       "width": "auto"
      }
     },
     "5492ec20bc6b4e7c8731f0ea0f4969e5": {
      "model_module": "@jupyter-widgets/controls",
      "model_module_version": "2.0.0",
      "model_name": "ButtonStyleModel",
      "state": {
       "button_color": "#dbecfe",
       "font_family": null,
       "font_size": null,
       "font_style": null,
       "font_variant": null,
       "font_weight": null,
       "text_color": null,
       "text_decoration": null
      }
     },
     "551178c654df404cbf10f1d7e5443b9f": {
      "model_module": "@jupyter-widgets/controls",
      "model_module_version": "2.0.0",
      "model_name": "ButtonModel",
      "state": {
       "layout": "IPY_MODEL_782bc2d1dbbe4b5aa79767a1c5583a58",
       "style": "IPY_MODEL_e36a1edee16c4c62b621606e705d6cee",
       "tooltip": null
      }
     },
     "56d9b36ccae54f4eb59243ea1bf0f139": {
      "model_module": "@jupyter-widgets/controls",
      "model_module_version": "2.0.0",
      "model_name": "VBoxModel",
      "state": {
       "children": [
        "IPY_MODEL_bc161dd76c7d46b3930ea83e8d6d668c"
       ],
       "layout": "IPY_MODEL_89a6931de38345f7b1e0d24b09b03199"
      }
     },
     "57e7669ad29d4a828f82270bc28fb16c": {
      "model_module": "@jupyter-widgets/base",
      "model_module_version": "2.0.0",
      "model_name": "LayoutModel",
      "state": {}
     },
     "59a583a9889d48cd863be189663ffcae": {
      "model_module": "@jupyter-widgets/base",
      "model_module_version": "2.0.0",
      "model_name": "LayoutModel",
      "state": {
       "height": "auto",
       "width": "auto"
      }
     },
     "59c5cfda33fb49c0925b9e8692ccd5f8": {
      "model_module": "@jupyter-widgets/controls",
      "model_module_version": "2.0.0",
      "model_name": "ButtonModel",
      "state": {
       "layout": "IPY_MODEL_ac55006bcdaa42b8b0b94c08b9773ea6",
       "style": "IPY_MODEL_0ba9b22450f847d49bbfeae1871f19d0",
       "tooltip": null
      }
     },
     "5a49ef709b704878b160df1fc40cf65a": {
      "model_module": "@jupyter-widgets/base",
      "model_module_version": "2.0.0",
      "model_name": "LayoutModel",
      "state": {
       "grid_template_areas": "\"header header header\"\n\"center center center\"\n\"footer footer footer\"",
       "grid_template_columns": "1fr 2fr 1fr",
       "grid_template_rows": "1fr 3fr 1fr"
      }
     },
     "5bfc61fa5c9d49e680c2b8fef5e52d05": {
      "model_module": "@jupyter-widgets/base",
      "model_module_version": "2.0.0",
      "model_name": "LayoutModel",
      "state": {
       "height": "auto",
       "width": "auto"
      }
     },
     "5d38146b40a943aab8e4268e7e0251e7": {
      "model_module": "@jupyter-widgets/base",
      "model_module_version": "2.0.0",
      "model_name": "LayoutModel",
      "state": {
       "height": "auto",
       "width": "auto"
      }
     },
     "5dcc46ae58b84548afe42ab1e3582dc7": {
      "model_module": "@jupyter-widgets/controls",
      "model_module_version": "2.0.0",
      "model_name": "VBoxModel",
      "state": {
       "children": [
        "IPY_MODEL_3923ea38bb85404d8f4e5cc1a79814b5",
        "IPY_MODEL_3f4188495bd04ad98882e8afb8c426c4"
       ],
       "layout": "IPY_MODEL_e59df77c007244aa933c5048e2a83e7f"
      }
     },
     "5e6baf3c67d444a3a28a02a7718b6ac0": {
      "model_module": "@jupyter-widgets/base",
      "model_module_version": "2.0.0",
      "model_name": "LayoutModel",
      "state": {
       "height": "auto",
       "width": "auto"
      }
     },
     "5e812839515c47279d12b7d702be70ea": {
      "model_module": "@jupyter-widgets/base",
      "model_module_version": "2.0.0",
      "model_name": "LayoutModel",
      "state": {}
     },
     "5e84db66bf324084a6c6476bf55d9d85": {
      "model_module": "@jupyter-widgets/base",
      "model_module_version": "2.0.0",
      "model_name": "LayoutModel",
      "state": {
       "height": "auto",
       "width": "auto"
      }
     },
     "5eeaff6af55d42de91a3f6f5e8aca872": {
      "model_module": "@jupyter-widgets/base",
      "model_module_version": "2.0.0",
      "model_name": "LayoutModel",
      "state": {
       "height": "auto",
       "width": "auto"
      }
     },
     "5f3ac65a4f944a8ca7a9b7bb49d3f70d": {
      "model_module": "@jupyter-widgets/controls",
      "model_module_version": "2.0.0",
      "model_name": "ButtonStyleModel",
      "state": {
       "button_color": "#c8e3fe",
       "font_family": null,
       "font_size": null,
       "font_style": null,
       "font_variant": null,
       "font_weight": null,
       "text_color": null,
       "text_decoration": null
      }
     },
     "5f8197a47e2348e6b679621cb7352579": {
      "model_module": "@jupyter-widgets/controls",
      "model_module_version": "2.0.0",
      "model_name": "GridBoxModel",
      "state": {
       "children": [
        "IPY_MODEL_6b65144aca12479cbd2595275662d465",
        "IPY_MODEL_c97369def35b455092ccbceccff95f8d",
        "IPY_MODEL_bd3a708c0440423ab092307f4d01775b"
       ],
       "layout": "IPY_MODEL_997aafb146ab471db90f9b2d53f07bca"
      }
     },
     "5fde0b6a706a4ba4b68f4f4e44b75097": {
      "model_module": "@jupyter-widgets/output",
      "model_module_version": "1.0.0",
      "model_name": "OutputModel",
      "state": {
       "layout": "IPY_MODEL_d79e625a1817458b8036dac3c891962a",
       "outputs": [
        {
         "data": {
          "application/vnd.jupyter.widget-view+json": {
           "model_id": "1296fdccfb19487a8aa07778163f7fbe",
           "version_major": 2,
           "version_minor": 0
          },
          "text/plain": "AppLayout(children=(VBox(children=(Button(layout=Layout(height='auto', width='auto'), style=ButtonStyle(button…"
         },
         "metadata": {},
         "output_type": "display_data"
        }
       ]
      }
     },
     "603047b1ea1a4b7f8f5d2fd3676c1351": {
      "model_module": "@jupyter-widgets/base",
      "model_module_version": "2.0.0",
      "model_name": "LayoutModel",
      "state": {
       "grid_area": "header"
      }
     },
     "606a686937cd4b9c9cb6d69e0fd53839": {
      "model_module": "@jupyter-widgets/controls",
      "model_module_version": "2.0.0",
      "model_name": "ButtonModel",
      "state": {
       "layout": "IPY_MODEL_edab55880747469fa2197ca2c9e124f5",
       "style": "IPY_MODEL_f506525c19b34a7281657c7fe23fe552",
       "tooltip": null
      }
     },
     "60c7e681113a4b3db5b7fdd4977e7b8d": {
      "model_module": "@jupyter-widgets/base",
      "model_module_version": "2.0.0",
      "model_name": "LayoutModel",
      "state": {
       "height": "auto",
       "width": "auto"
      }
     },
     "611e95a5c6774e21a569a61b3ddd4e85": {
      "model_module": "@jupyter-widgets/base",
      "model_module_version": "2.0.0",
      "model_name": "LayoutModel",
      "state": {
       "grid_area": "left-sidebar"
      }
     },
     "618a054514664414b27f715fb340da99": {
      "model_module": "@jupyter-widgets/controls",
      "model_module_version": "2.0.0",
      "model_name": "ButtonStyleModel",
      "state": {
       "button_color": "#dbecfe",
       "font_family": null,
       "font_size": null,
       "font_style": null,
       "font_variant": null,
       "font_weight": null,
       "text_color": null,
       "text_decoration": null
      }
     },
     "61a207c5ee3c4f86aa9f0f84c288bfde": {
      "model_module": "@jupyter-widgets/controls",
      "model_module_version": "2.0.0",
      "model_name": "VBoxModel",
      "state": {
       "children": [
        "IPY_MODEL_ca7d0020b1d0402195c380e3ea053dfb",
        "IPY_MODEL_a59b6e81c19d469bb49c44d6867f3df3"
       ],
       "layout": "IPY_MODEL_871f31b6be6c4c7d881a00d6116da3d4"
      }
     },
     "61d4c9192dbc474f8d593c2623a033c9": {
      "model_module": "@jupyter-widgets/base",
      "model_module_version": "2.0.0",
      "model_name": "LayoutModel",
      "state": {
       "height": "auto",
       "width": "auto"
      }
     },
     "620265552985405a8ba931ddd1f126aa": {
      "model_module": "@jupyter-widgets/base",
      "model_module_version": "2.0.0",
      "model_name": "LayoutModel",
      "state": {}
     },
     "6242b3c17ed042f59512cfd37294722a": {
      "model_module": "@jupyter-widgets/base",
      "model_module_version": "2.0.0",
      "model_name": "LayoutModel",
      "state": {
       "height": "auto",
       "width": "auto"
      }
     },
     "63593960ac694f169100ea40818ad455": {
      "model_module": "@jupyter-widgets/controls",
      "model_module_version": "2.0.0",
      "model_name": "ButtonStyleModel",
      "state": {
       "button_color": "#ecf5fe",
       "font_family": null,
       "font_size": null,
       "font_style": null,
       "font_variant": null,
       "font_weight": null,
       "text_color": null,
       "text_decoration": null
      }
     },
     "64417c345e6a4295aa6d1ea30c7025f9": {
      "model_module": "@jupyter-widgets/controls",
      "model_module_version": "2.0.0",
      "model_name": "ButtonModel",
      "state": {
       "description": "left",
       "layout": "IPY_MODEL_770b5746e2cf46b78965f85b1539b3f2",
       "style": "IPY_MODEL_74af1ba9a5924470bfec182831f9ab6d",
       "tooltip": null
      }
     },
     "648f1c613b1f428a98788afe9b0861ac": {
      "model_module": "@jupyter-widgets/controls",
      "model_module_version": "2.0.0",
      "model_name": "ButtonModel",
      "state": {
       "description": "header",
       "layout": "IPY_MODEL_6cd52ff0dab34c5584ddb879945fed4c",
       "style": "IPY_MODEL_288db9b7c3074a3f917345cceaa5f07c",
       "tooltip": null
      }
     },
     "6585996278ff4c938dad0c1d09f2f503": {
      "model_module": "@jupyter-widgets/controls",
      "model_module_version": "2.0.0",
      "model_name": "VBoxModel",
      "state": {
       "children": [
        "IPY_MODEL_eda554972407471aa116e9d4f6a5cbc1"
       ],
       "layout": "IPY_MODEL_47fff37401ec45ecb158e16f26ce551e"
      }
     },
     "65a6f20d6fd3479fa340d4aa69396faf": {
      "model_module": "@jupyter-widgets/controls",
      "model_module_version": "2.0.0",
      "model_name": "ButtonModel",
      "state": {
       "layout": "IPY_MODEL_f4c2fc71d628408e9a61090927af01ad",
       "style": "IPY_MODEL_8bf28b2390f44331bd73114e69a4761d",
       "tooltip": null
      }
     },
     "673c421011544a6299b628f77496bf3e": {
      "model_module": "@jupyter-widgets/base",
      "model_module_version": "2.0.0",
      "model_name": "LayoutModel",
      "state": {
       "height": "auto",
       "width": "auto"
      }
     },
     "67f2d9a698d149948baf1d264851778c": {
      "model_module": "@jupyter-widgets/controls",
      "model_module_version": "2.0.0",
      "model_name": "ButtonStyleModel",
      "state": {
       "button_color": "#ecf5fe",
       "font_family": null,
       "font_size": null,
       "font_style": null,
       "font_variant": null,
       "font_weight": null,
       "text_color": null,
       "text_decoration": null
      }
     },
     "6910b4af5ba14474b264ab0e25b2aeaa": {
      "model_module": "@jupyter-widgets/controls",
      "model_module_version": "2.0.0",
      "model_name": "GridBoxModel",
      "state": {
       "children": [
        "IPY_MODEL_6585996278ff4c938dad0c1d09f2f503",
        "IPY_MODEL_a36f755e39d149efad53f84cdd316ed8",
        "IPY_MODEL_53e76da190994006b9eebf0733070199"
       ],
       "layout": "IPY_MODEL_5a49ef709b704878b160df1fc40cf65a"
      }
     },
     "691ab73d4cf649468131e4d3b94eeafa": {
      "model_module": "@jupyter-widgets/base",
      "model_module_version": "2.0.0",
      "model_name": "LayoutModel",
      "state": {}
     },
     "699a7dc5eeb445bd9d1e812c9ceed427": {
      "model_module": "@jupyter-widgets/controls",
      "model_module_version": "2.0.0",
      "model_name": "ButtonStyleModel",
      "state": {
       "button_color": "#ecf5fe",
       "font_family": null,
       "font_size": null,
       "font_style": null,
       "font_variant": null,
       "font_weight": null,
       "text_color": null,
       "text_decoration": null
      }
     },
     "69dc59f46e304b70a6759bf0b8cf9912": {
      "model_module": "@jupyter-widgets/base",
      "model_module_version": "2.0.0",
      "model_name": "LayoutModel",
      "state": {
       "height": "auto",
       "width": "auto"
      }
     },
     "6a704f4f64994ae090f7f870cc210dd4": {
      "model_module": "@jupyter-widgets/base",
      "model_module_version": "2.0.0",
      "model_name": "LayoutModel",
      "state": {
       "grid_area": "left-sidebar"
      }
     },
     "6a831a34916d40c4ad4fea65fa20650b": {
      "model_module": "@jupyter-widgets/controls",
      "model_module_version": "2.0.0",
      "model_name": "ButtonStyleModel",
      "state": {
       "button_color": "#ecf5fe",
       "font_family": null,
       "font_size": null,
       "font_style": null,
       "font_variant": null,
       "font_weight": null,
       "text_color": null,
       "text_decoration": null
      }
     },
     "6b5bddc0379b4e398bbad03be470d5f2": {
      "model_module": "@jupyter-widgets/controls",
      "model_module_version": "2.0.0",
      "model_name": "ButtonModel",
      "state": {
       "layout": "IPY_MODEL_bbd699f974804f72b34bad81fe61dbdc",
       "style": "IPY_MODEL_6c7e502105764a76bc4601097b549026",
       "tooltip": null
      }
     },
     "6b65144aca12479cbd2595275662d465": {
      "model_module": "@jupyter-widgets/controls",
      "model_module_version": "2.0.0",
      "model_name": "VBoxModel",
      "state": {
       "children": [
        "IPY_MODEL_7e6283a266a24c829dd2e2409a871e63"
       ],
       "layout": "IPY_MODEL_a4de2739be174c84bddb286a9c475ba5"
      }
     },
     "6c7e502105764a76bc4601097b549026": {
      "model_module": "@jupyter-widgets/controls",
      "model_module_version": "2.0.0",
      "model_name": "ButtonStyleModel",
      "state": {
       "button_color": "#ecf5fe",
       "font_family": null,
       "font_size": null,
       "font_style": null,
       "font_variant": null,
       "font_weight": null,
       "text_color": null,
       "text_decoration": null
      }
     },
     "6cce50a2ea634b0fb3aadc3e8d703c51": {
      "model_module": "@jupyter-widgets/controls",
      "model_module_version": "2.0.0",
      "model_name": "ButtonStyleModel",
      "state": {
       "button_color": "#dbecfe",
       "font_family": null,
       "font_size": null,
       "font_style": null,
       "font_variant": null,
       "font_weight": null,
       "text_color": null,
       "text_decoration": null
      }
     },
     "6cd52ff0dab34c5584ddb879945fed4c": {
      "model_module": "@jupyter-widgets/base",
      "model_module_version": "2.0.0",
      "model_name": "LayoutModel",
      "state": {
       "height": "auto",
       "width": "auto"
      }
     },
     "6ebe1fb83a3c4e209235099b375965de": {
      "model_module": "@jupyter-widgets/controls",
      "model_module_version": "2.0.0",
      "model_name": "ButtonStyleModel",
      "state": {
       "button_color": "#c8e3fe",
       "font_family": null,
       "font_size": null,
       "font_style": null,
       "font_variant": null,
       "font_weight": null,
       "text_color": null,
       "text_decoration": null
      }
     },
     "6ee668cb4ab74e3b8f34899679d32e6b": {
      "model_module": "@jupyter-widgets/controls",
      "model_module_version": "2.0.0",
      "model_name": "ButtonModel",
      "state": {
       "description": "center",
       "layout": "IPY_MODEL_382be98a01ad44a9a8fd5898e85e69cd",
       "style": "IPY_MODEL_13337116eef74506b6e6d689966206d9",
       "tooltip": null
      }
     },
     "6f731c9373664777ab0ecfb8d3e0e45b": {
      "model_module": "@jupyter-widgets/controls",
      "model_module_version": "2.0.0",
      "model_name": "ButtonStyleModel",
      "state": {
       "button_color": "#dbecfe",
       "font_family": null,
       "font_size": null,
       "font_style": null,
       "font_variant": null,
       "font_weight": null,
       "text_color": null,
       "text_decoration": null
      }
     },
     "6f95ef884058415c8030fd01b873844f": {
      "model_module": "@jupyter-widgets/controls",
      "model_module_version": "2.0.0",
      "model_name": "ButtonModel",
      "state": {
       "layout": "IPY_MODEL_169694b5769647f1b8b0e37a4eb27273",
       "style": "IPY_MODEL_50642b9819694048be8628320282335b",
       "tooltip": null
      }
     },
     "6fa0d5e4521f48f7b68b9242c98fd5b5": {
      "model_module": "@jupyter-widgets/controls",
      "model_module_version": "2.0.0",
      "model_name": "ButtonStyleModel",
      "state": {
       "button_color": "#dbecfe",
       "font_family": null,
       "font_size": null,
       "font_style": null,
       "font_variant": null,
       "font_weight": null,
       "text_color": null,
       "text_decoration": null
      }
     },
     "702769ac771441e788850c9ee4566b91": {
      "model_module": "@jupyter-widgets/controls",
      "model_module_version": "2.0.0",
      "model_name": "ButtonModel",
      "state": {
       "description": "center",
       "layout": "IPY_MODEL_3b05eee48dd944c989dfdcfe94078115",
       "style": "IPY_MODEL_a4355e873b4b4c128e31123b378f1494",
       "tooltip": null
      }
     },
     "70e1e4c509ab41c6b0333aa69647b158": {
      "model_module": "@jupyter-widgets/base",
      "model_module_version": "2.0.0",
      "model_name": "LayoutModel",
      "state": {}
     },
     "71025e6d44834e27913a006c6527be60": {
      "model_module": "@jupyter-widgets/base",
      "model_module_version": "2.0.0",
      "model_name": "LayoutModel",
      "state": {
       "grid_area": "header"
      }
     },
     "71f3ed786b73489fb8c0214d84ad4707": {
      "model_module": "@jupyter-widgets/base",
      "model_module_version": "2.0.0",
      "model_name": "LayoutModel",
      "state": {
       "height": "auto",
       "width": "auto"
      }
     },
     "72b5cdd9e5674144a4b1b7d0312243f7": {
      "model_module": "@jupyter-widgets/controls",
      "model_module_version": "2.0.0",
      "model_name": "ButtonStyleModel",
      "state": {
       "button_color": "#c8e3fe",
       "font_family": null,
       "font_size": null,
       "font_style": null,
       "font_variant": null,
       "font_weight": null,
       "text_color": null,
       "text_decoration": null
      }
     },
     "74af1ba9a5924470bfec182831f9ab6d": {
      "model_module": "@jupyter-widgets/controls",
      "model_module_version": "2.0.0",
      "model_name": "ButtonStyleModel",
      "state": {
       "button_color": "#dbecfe",
       "font_family": null,
       "font_size": null,
       "font_style": null,
       "font_variant": null,
       "font_weight": null,
       "text_color": null,
       "text_decoration": null
      }
     },
     "7521c5ca325b44da8cfdfe4b284f978b": {
      "model_module": "@jupyter-widgets/controls",
      "model_module_version": "2.0.0",
      "model_name": "ButtonModel",
      "state": {
       "layout": "IPY_MODEL_f0e12bc2673b4f9db05a64c5a0108459",
       "style": "IPY_MODEL_e151c3bfc2f34ae09ad19310bf588ec8",
       "tooltip": null
      }
     },
     "757a180a337748fba6afe4fed1cee7df": {
      "model_module": "@jupyter-widgets/controls",
      "model_module_version": "2.0.0",
      "model_name": "ButtonStyleModel",
      "state": {
       "button_color": "#dbecfe",
       "font_family": null,
       "font_size": null,
       "font_style": null,
       "font_variant": null,
       "font_weight": null,
       "text_color": null,
       "text_decoration": null
      }
     },
     "759103fa30af43fd995c90e332552365": {
      "model_module": "@jupyter-widgets/controls",
      "model_module_version": "2.0.0",
      "model_name": "VBoxModel",
      "state": {
       "children": [
        "IPY_MODEL_ea3dc42b8e67476ab4bdc39c4c6b850c"
       ],
       "layout": "IPY_MODEL_57e7669ad29d4a828f82270bc28fb16c"
      }
     },
     "75bdd83cef76445b895fac69a3297fa8": {
      "model_module": "@jupyter-widgets/controls",
      "model_module_version": "2.0.0",
      "model_name": "ButtonModel",
      "state": {
       "layout": "IPY_MODEL_69dc59f46e304b70a6759bf0b8cf9912",
       "style": "IPY_MODEL_da51ecc4009e4c8f826f48ff82e4d2af",
       "tooltip": null
      }
     },
     "7614a63f9d4243a9813cf0894a61ca5c": {
      "model_module": "@jupyter-widgets/controls",
      "model_module_version": "2.0.0",
      "model_name": "ButtonStyleModel",
      "state": {
       "button_color": "#ecf5fe",
       "font_family": null,
       "font_size": null,
       "font_style": null,
       "font_variant": null,
       "font_weight": null,
       "text_color": null,
       "text_decoration": null
      }
     },
     "7654659d32344493a153605c1a78045d": {
      "model_module": "@jupyter-widgets/controls",
      "model_module_version": "2.0.0",
      "model_name": "ButtonStyleModel",
      "state": {
       "button_color": "#c8e3fe",
       "font_family": null,
       "font_size": null,
       "font_style": null,
       "font_variant": null,
       "font_weight": null,
       "text_color": null,
       "text_decoration": null
      }
     },
     "76841842dac6492fad0565e4e21eba1a": {
      "model_module": "@jupyter-widgets/output",
      "model_module_version": "1.0.0",
      "model_name": "OutputModel",
      "state": {
       "layout": "IPY_MODEL_eb7fcb0f92b447118e08693548c01f39"
      }
     },
     "770b5746e2cf46b78965f85b1539b3f2": {
      "model_module": "@jupyter-widgets/base",
      "model_module_version": "2.0.0",
      "model_name": "LayoutModel",
      "state": {
       "height": "auto",
       "width": "auto"
      }
     },
     "77863a5bcdc24caf9686e7d5a7892fbe": {
      "model_module": "@jupyter-widgets/controls",
      "model_module_version": "2.0.0",
      "model_name": "VBoxModel",
      "state": {
       "children": [
        "IPY_MODEL_c1e3c63819464edbaf3a57cf3074af78",
        "IPY_MODEL_8403f56d72644b9a8ee89f2578340f43",
        "IPY_MODEL_47bb5a0328ec427cb0140b741da5e639"
       ],
       "layout": "IPY_MODEL_07b2a45ee1894e3180d486f39ad0385f"
      }
     },
     "780b6489c1b542ce96fe19bf1f9659f1": {
      "model_module": "@jupyter-widgets/base",
      "model_module_version": "2.0.0",
      "model_name": "LayoutModel",
      "state": {}
     },
     "782bc2d1dbbe4b5aa79767a1c5583a58": {
      "model_module": "@jupyter-widgets/base",
      "model_module_version": "2.0.0",
      "model_name": "LayoutModel",
      "state": {
       "height": "auto",
       "width": "auto"
      }
     },
     "78a1dc599c8f48c5bf1a6a1a34cecc55": {
      "model_module": "@jupyter-widgets/controls",
      "model_module_version": "2.0.0",
      "model_name": "VBoxModel",
      "state": {
       "children": [
        "IPY_MODEL_2e813055fba34e03b89369c635a46ba1"
       ],
       "layout": "IPY_MODEL_18d2b33c2c7945638a89d8863954abea"
      }
     },
     "793ffde09544468992cb6b567ad8802f": {
      "model_module": "@jupyter-widgets/controls",
      "model_module_version": "2.0.0",
      "model_name": "ButtonStyleModel",
      "state": {
       "button_color": "#c8e3fe",
       "font_family": null,
       "font_size": null,
       "font_style": null,
       "font_variant": null,
       "font_weight": null,
       "text_color": null,
       "text_decoration": null
      }
     },
     "7a89d3b4218343b5b06c3f86a0e01a1a": {
      "model_module": "@jupyter-widgets/controls",
      "model_module_version": "2.0.0",
      "model_name": "VBoxModel",
      "state": {
       "children": [
        "IPY_MODEL_0bab0b3e78634685aaa67845fb47f3f2",
        "IPY_MODEL_432634d20fc34e0698257a7c5dd6a47c",
        "IPY_MODEL_44406dd3edd245a99577317455c6705d"
       ],
       "layout": "IPY_MODEL_f805d7d931874f9ea5d068b13971ec58"
      }
     },
     "7ad0c0fa46cf400b98eda1247a23f9fd": {
      "model_module": "@jupyter-widgets/base",
      "model_module_version": "2.0.0",
      "model_name": "LayoutModel",
      "state": {
       "height": "auto",
       "width": "auto"
      }
     },
     "7c1fa99efaaf4d1b872e08e3c42af96a": {
      "model_module": "@jupyter-widgets/base",
      "model_module_version": "2.0.0",
      "model_name": "LayoutModel",
      "state": {}
     },
     "7c345a56503b43d7b84f554449efc5e3": {
      "model_module": "@jupyter-widgets/controls",
      "model_module_version": "2.0.0",
      "model_name": "ButtonStyleModel",
      "state": {
       "button_color": "#dbecfe",
       "font_family": null,
       "font_size": null,
       "font_style": null,
       "font_variant": null,
       "font_weight": null,
       "text_color": null,
       "text_decoration": null
      }
     },
     "7d05fba183e04df0b22247a91a20a330": {
      "model_module": "anywidget",
      "model_module_version": "0.9.3",
      "model_name": "AnyModel",
      "state": {
       "_anywidget_id": "ipywui.widgets.custom.message.MessageWidget",
       "_css": ".wui-message-root {\n    display: flex;\n    position: absolute;\n    left: 0;\n    right: 0;\n    top: 0;\n}\n\n.wui-message-container {\n    align-items: center;\n    display: flex;\n    flex-direction: column-reverse;\n    justify-content: center;\n    min-height: 100%;\n    outline: none;\n    width: 100%;\n\n    -webkit-tap-highlight-color: rgba(0,0,0,0);\n    bottom: 0;\n    left: 0;\n    right: 0;\n    top: 0;\n}\n\n.wui-message--success {\n    --wui-message-bg-color: #f0f9eb;\n    --wui-message-border-color: #e1f3d8;\n    --wui-message-text-color: #67c23a;\n}\n.wui-message--warning {\n    --wui-message-bg-color: #fdf6ec;\n    --wui-message-border-color: #faecd8;\n    --wui-message-text-color: #e6a23c;\n}\n.wui-message--info {\n    --wui-message-bg-color: #f4f4f5;\n    --wui-message-border-color: #e9e9eb;\n    --wui-message-text-color: #909399;\n}\n.wui-message--error {\n    --wui-message-bg-color: #fef0f0;\n    --wui-message-border-color: #fde2e2;\n    --wui-message-text-color: #f56c6c;\n}\n\n@keyframes msg-open {\n    0% {\n        opacity: 0;\n        -webkit-transform: translateY(-120%);\n        transform: translateY(-120%)\n    }\n    to {\n        -webkit-transform: translateY(0);\n        transform: translateY(0)\n    }\n}\n\n@keyframes msg-close {\n    0% {\n        opacity: 1;\n        -webkit-transform: scale(1);\n        transform: scale(1)\n    }\n    to {\n        opacity: 0;\n        -webkit-transform: scale(.9);\n        transform: scale(.9)\n    }\n}\n.wui-message[data-state=entered],.wui-message[data-state=entering] {\n    -webkit-animation: msg-open .24s cubic-bezier(.175,.885,.32,1.175) both;\n    animation: msg-open .24s cubic-bezier(.175,.885,.32,1.175) both\n}\n\n.wui-message[data-state=exiting] {\n    -webkit-animation: msg-close .12s cubic-bezier(.4,0,1,1) both;\n    animation: msg-close .12s cubic-bezier(.4,0,1,1) both\n}\n\n.wui-message {\n    width: -webkit-fit-content;\n    width: -moz-fit-content;\n    width: fit-content;\n    z-index: 2004;\n    max-width: calc(100% - 32px);\n    margin-top: 8px;\n    box-sizing: border-box;\n    /*border-radius: var(--wui-border-radius-base);*/\n    /*border-width: var(--wui-border-width);*/\n    /*border-style: var(--wui-border-style);*/\n    border-color: var(--wui-message-border-color);\n    /*left: 50%;*/\n    /*top: 20px;*/\n    /*transform: translateX(-50%);*/\n    background-color: var(--wui-message-bg-color);\n    /*transition: opacity var(--wui-transition-duration),transform .4s,top .4s;*/\n    /*padding: var(--wui-message-padding);*/\n    display: flex;\n    align-items: center;\n}\n\n/*.wui-message--success */\n.wui-message__content {\n    color: var(--wui-message-text-color);\n    font-size: 14px;\n    line-height: 18px;\n    margin: 10px 14px 10px 14px;\n    overflow-wrap: break-word;\n}\n\n.wui-message__closeBtn {\n    /*cursor: pointer;*/\n    font-style: normal;\n    /*color: gray;*/\n    padding-right: 14px;\n    /*font-size: 13px;*/\n    user-select: none;\n\n    background: transparent;\n    border: none;\n    color: gray;\n    cursor: pointer;\n    font-size: 13px;\n    font-weight: 400;\n    line-height: 1;\n    outline: none;\n    /*padding: 4px;*/\n    text-align: center;\n    transition: opacity .3s;\n    /*width: 100%;*/\n}",
       "_esm": "function closeMsg(msgDom) {\n  if (!msgDom) {\n    return;\n  }\n  msgDom.setAttribute('data-state', 'exiting');\n  msgDom.remove();\n}\n\nfunction createMsg(options) {\n  const {message, msg_id, type = 'info', show_close = false} = options;\n  const msgDom = document.createElement('div');\n  msgDom.className += ` wui-message--${type} wui-message`;\n  msgDom.setAttribute('data-state', 'entered');\n  msgDom.setAttribute('id', msg_id);\n  const msgContent = document.createElement('p');\n  msgContent.className += ` wui-message--${type} wui-message__content`;\n  msgContent.innerText = message;\n  msgDom.appendChild(msgContent);\n  if (show_close) {\n    const closeBtn = document.createElement('i');\n    closeBtn.className += 'wui-message__closeBtn';\n    closeBtn.innerText = 'x';\n    closeBtn.addEventListener('click', (ev) => {\n      closeMsg(msgDom);\n    })\n    msgDom.appendChild(closeBtn);\n  }\n  return msgDom;\n}\n\nexport async function render(view) {\n  let model = view.model;\n  const msgRoot = view.el;\n  msgRoot.className += ' wui-message-root'\n\n  const msgContainer = document.createElement('div');\n  msgContainer.className += ' wui-message-container';\n  msgRoot.appendChild(msgContainer)\n\n  model.on(\"change:message_options\", () => {\n    const options = model.get(\"message_options\");\n    const msg = createMsg(options);\n    msgContainer.appendChild(msg);\n    const {duration = 3000} = options;\n    if (duration > 0) {\n      setTimeout(() => {\n        closeMsg(msg)\n      }, duration);\n    }\n  })\n\n  model.on(\"change:close_msg_id\", () => {\n    const msg_id = model.get(\"close_msg_id\");\n    const msgDom = document.getElementById(msg_id);\n    closeMsg(msgDom);\n  })\n}\n",
       "_model_module": "anywidget",
       "_model_module_version": "0.9.3",
       "_model_name": "AnyModel",
       "_view_module": "anywidget",
       "_view_module_version": "0.9.3",
       "_view_name": "AnyView",
       "close_msg_id": "",
       "layout": "IPY_MODEL_f3a2167df8b14244be18dfc56d1ec53c",
       "message_options": {
        "duration": 3000,
        "message": "",
        "show_close": false,
        "type": "info"
       }
      }
     },
     "7e6283a266a24c829dd2e2409a871e63": {
      "model_module": "@jupyter-widgets/controls",
      "model_module_version": "2.0.0",
      "model_name": "ButtonModel",
      "state": {
       "description": "header",
       "layout": "IPY_MODEL_adc999f9b40f495cb8d63b1e32d8021f",
       "style": "IPY_MODEL_5418e6434055424c97b88bac811bdce5",
       "tooltip": null
      }
     },
     "7e863f3475b54a788a63f8112adf9a15": {
      "model_module": "@jupyter-widgets/controls",
      "model_module_version": "2.0.0",
      "model_name": "ButtonModel",
      "state": {
       "description": "right",
       "layout": "IPY_MODEL_452fa11349e248889c82be96c89c7407",
       "style": "IPY_MODEL_f152eb2aec1b4105b37795d518048e7b",
       "tooltip": null
      }
     },
     "7ec7a8d423394df2881e375f4f457f08": {
      "model_module": "@jupyter-widgets/controls",
      "model_module_version": "2.0.0",
      "model_name": "ButtonModel",
      "state": {
       "description": "left",
       "layout": "IPY_MODEL_a95c507983474f0e893625f7252ac8b4",
       "style": "IPY_MODEL_6cce50a2ea634b0fb3aadc3e8d703c51",
       "tooltip": null
      }
     },
     "7efca43b02e54889814a97c2230a800a": {
      "model_module": "@jupyter-widgets/base",
      "model_module_version": "2.0.0",
      "model_name": "LayoutModel",
      "state": {
       "height": "auto",
       "width": "auto"
      }
     },
     "7fb0698959414d84b46afa170011a77d": {
      "model_module": "@jupyter-widgets/controls",
      "model_module_version": "2.0.0",
      "model_name": "ButtonStyleModel",
      "state": {
       "button_color": "#ecf5fe",
       "font_family": null,
       "font_size": null,
       "font_style": null,
       "font_variant": null,
       "font_weight": null,
       "text_color": null,
       "text_decoration": null
      }
     },
     "810210c307e04378bf19f995da4d02a9": {
      "model_module": "@jupyter-widgets/base",
      "model_module_version": "2.0.0",
      "model_name": "LayoutModel",
      "state": {
       "grid_area": "center"
      }
     },
     "8112be7d3acb4bfbad7e520f4a9029be": {
      "model_module": "@jupyter-widgets/controls",
      "model_module_version": "2.0.0",
      "model_name": "ButtonModel",
      "state": {
       "layout": "IPY_MODEL_61d4c9192dbc474f8d593c2623a033c9",
       "style": "IPY_MODEL_864b1ca410194617800e132c0fc93cf4",
       "tooltip": null
      }
     },
     "827824c7aef546ca92d9d5677afb55bc": {
      "model_module": "@jupyter-widgets/controls",
      "model_module_version": "2.0.0",
      "model_name": "ButtonModel",
      "state": {
       "layout": "IPY_MODEL_d1559df2b01a405bb0bbbc8a33bef2fc",
       "style": "IPY_MODEL_d572d33251d44daabff91e36d4233957",
       "tooltip": null
      }
     },
     "82795ca23e3c4184a490492fdbd60747": {
      "model_module": "@jupyter-widgets/controls",
      "model_module_version": "2.0.0",
      "model_name": "ButtonStyleModel",
      "state": {
       "button_color": "#ecf5fe",
       "font_family": null,
       "font_size": null,
       "font_style": null,
       "font_variant": null,
       "font_weight": null,
       "text_color": null,
       "text_decoration": null
      }
     },
     "828f5651ceb34adf9d21928e3d0e08da": {
      "model_module": "@jupyter-widgets/controls",
      "model_module_version": "2.0.0",
      "model_name": "ButtonStyleModel",
      "state": {
       "button_color": "#c8e3fe",
       "font_family": null,
       "font_size": null,
       "font_style": null,
       "font_variant": null,
       "font_weight": null,
       "text_color": null,
       "text_decoration": null
      }
     },
     "8355bbb808d74a20bf008b567fa8e058": {
      "model_module": "@jupyter-widgets/base",
      "model_module_version": "2.0.0",
      "model_name": "LayoutModel",
      "state": {
       "grid_area": "center"
      }
     },
     "8403f56d72644b9a8ee89f2578340f43": {
      "model_module": "@jupyter-widgets/controls",
      "model_module_version": "2.0.0",
      "model_name": "ButtonModel",
      "state": {
       "description": "right",
       "layout": "IPY_MODEL_673c421011544a6299b628f77496bf3e",
       "style": "IPY_MODEL_cecd6de2581a46058242945f1383ba59",
       "tooltip": null
      }
     },
     "849a6a1790fa4996ac35e88aef39d44e": {
      "model_module": "@jupyter-widgets/controls",
      "model_module_version": "2.0.0",
      "model_name": "ButtonStyleModel",
      "state": {
       "button_color": "#dbecfe",
       "font_family": null,
       "font_size": null,
       "font_style": null,
       "font_variant": null,
       "font_weight": null,
       "text_color": null,
       "text_decoration": null
      }
     },
     "864b1ca410194617800e132c0fc93cf4": {
      "model_module": "@jupyter-widgets/controls",
      "model_module_version": "2.0.0",
      "model_name": "ButtonStyleModel",
      "state": {
       "button_color": "#dbecfe",
       "font_family": null,
       "font_size": null,
       "font_style": null,
       "font_variant": null,
       "font_weight": null,
       "text_color": null,
       "text_decoration": null
      }
     },
     "86fc2293ff014a6c893d2006410af355": {
      "model_module": "@jupyter-widgets/controls",
      "model_module_version": "2.0.0",
      "model_name": "VBoxModel",
      "state": {
       "children": [
        "IPY_MODEL_cd1269638e2a41d28700d7d50853c61d"
       ],
       "layout": "IPY_MODEL_8b8609eb59034f679c7d4527f2bf772e"
      }
     },
     "871f31b6be6c4c7d881a00d6116da3d4": {
      "model_module": "@jupyter-widgets/base",
      "model_module_version": "2.0.0",
      "model_name": "LayoutModel",
      "state": {
       "grid_area": "footer"
      }
     },
     "874a1dd035e14a1fb93133faf2dc1ed2": {
      "model_module": "@jupyter-widgets/base",
      "model_module_version": "2.0.0",
      "model_name": "LayoutModel",
      "state": {
       "grid_template_areas": "\"center center center\"\n\"footer footer footer\"",
       "grid_template_columns": "1fr 2fr 1fr",
       "grid_template_rows": "3fr 1fr"
      }
     },
     "8976c3fdece04e2fb58dbcc34cf25433": {
      "model_module": "@jupyter-widgets/controls",
      "model_module_version": "2.0.0",
      "model_name": "ButtonModel",
      "state": {
       "layout": "IPY_MODEL_325f1c230c6445f2b590ebe7ce22493c",
       "style": "IPY_MODEL_cd8b44bbc18c4c6e9c7647de5155b67e",
       "tooltip": null
      }
     },
     "89a6931de38345f7b1e0d24b09b03199": {
      "model_module": "@jupyter-widgets/base",
      "model_module_version": "2.0.0",
      "model_name": "LayoutModel",
      "state": {}
     },
     "8b09360322b04fb99c7818d5f8605db1": {
      "model_module": "@jupyter-widgets/base",
      "model_module_version": "2.0.0",
      "model_name": "LayoutModel",
      "state": {
       "grid_template_areas": "\"header header header\"\n\"left-sidebar center center\"\n\"footer footer footer\"",
       "grid_template_columns": "1fr 2fr 1fr",
       "grid_template_rows": "1fr 3fr 1fr"
      }
     },
     "8b4394ac91dd473b90ad2048a495e6d7": {
      "model_module": "@jupyter-widgets/base",
      "model_module_version": "2.0.0",
      "model_name": "LayoutModel",
      "state": {}
     },
     "8b8609eb59034f679c7d4527f2bf772e": {
      "model_module": "@jupyter-widgets/base",
      "model_module_version": "2.0.0",
      "model_name": "LayoutModel",
      "state": {
       "grid_area": "header"
      }
     },
     "8bbbb03af0014dcab14fea1a843c8891": {
      "model_module": "@jupyter-widgets/base",
      "model_module_version": "2.0.0",
      "model_name": "LayoutModel",
      "state": {
       "grid_area": "left-sidebar"
      }
     },
     "8bf28b2390f44331bd73114e69a4761d": {
      "model_module": "@jupyter-widgets/controls",
      "model_module_version": "2.0.0",
      "model_name": "ButtonStyleModel",
      "state": {
       "button_color": "#dbecfe",
       "font_family": null,
       "font_size": null,
       "font_style": null,
       "font_variant": null,
       "font_weight": null,
       "text_color": null,
       "text_decoration": null
      }
     },
     "8c434dbd9c6a453f9c16eaa24c9d7796": {
      "model_module": "@jupyter-widgets/base",
      "model_module_version": "2.0.0",
      "model_name": "LayoutModel",
      "state": {
       "height": "auto",
       "width": "auto"
      }
     },
     "9015b942b6b046018f40b4cbb8aef32d": {
      "model_module": "@jupyter-widgets/controls",
      "model_module_version": "2.0.0",
      "model_name": "ButtonStyleModel",
      "state": {
       "button_color": "#dbecfe",
       "font_family": null,
       "font_size": null,
       "font_style": null,
       "font_variant": null,
       "font_weight": null,
       "text_color": null,
       "text_decoration": null
      }
     },
     "902a7b71f56047559363a03a6591545b": {
      "model_module": "@jupyter-widgets/controls",
      "model_module_version": "2.0.0",
      "model_name": "VBoxModel",
      "state": {
       "children": [
        "IPY_MODEL_2fa98138e08e42a1bac7bd86105db081",
        "IPY_MODEL_a69505f4e71446808de4e84c16122d88",
        "IPY_MODEL_c8dc211117b5434f8c681dcf286d5371"
       ],
       "layout": "IPY_MODEL_810210c307e04378bf19f995da4d02a9"
      }
     },
     "913800a32fa8484c9265f7f88348c26b": {
      "model_module": "@jupyter-widgets/base",
      "model_module_version": "2.0.0",
      "model_name": "LayoutModel",
      "state": {}
     },
     "92ba437f687d4fafa680e5830cd19f16": {
      "model_module": "@jupyter-widgets/controls",
      "model_module_version": "2.0.0",
      "model_name": "ButtonStyleModel",
      "state": {
       "button_color": "#ecf5fe",
       "font_family": null,
       "font_size": null,
       "font_style": null,
       "font_variant": null,
       "font_weight": null,
       "text_color": null,
       "text_decoration": null
      }
     },
     "93cbdabdbe6e4df884c56905afe83a9e": {
      "model_module": "@jupyter-widgets/base",
      "model_module_version": "2.0.0",
      "model_name": "LayoutModel",
      "state": {
       "height": "auto",
       "width": "auto"
      }
     },
     "96a64a85593d44b28805f39da17b95ce": {
      "model_module": "@jupyter-widgets/controls",
      "model_module_version": "2.0.0",
      "model_name": "ButtonModel",
      "state": {
       "layout": "IPY_MODEL_06857239cda840bbb9ec33566e8de636",
       "style": "IPY_MODEL_9b66721a1e0d4659bb1767e5787dad15",
       "tooltip": null
      }
     },
     "96eab2a16b2b4e2a8a5b9f6c247013e5": {
      "model_module": "@jupyter-widgets/controls",
      "model_module_version": "2.0.0",
      "model_name": "ButtonModel",
      "state": {
       "layout": "IPY_MODEL_97188e1bab0d4d568b9520a0e65f2a45",
       "style": "IPY_MODEL_9015b942b6b046018f40b4cbb8aef32d",
       "tooltip": null
      }
     },
     "9701fbf3cb864be5bfbb7a1b9d0fd8e3": {
      "model_module": "@jupyter-widgets/controls",
      "model_module_version": "2.0.0",
      "model_name": "ButtonModel",
      "state": {
       "description": "center",
       "layout": "IPY_MODEL_11f18f54d5974534b025e160629059e4",
       "style": "IPY_MODEL_9e0c633a58bd46cd99b36434b242f871",
       "tooltip": null
      }
     },
     "97188e1bab0d4d568b9520a0e65f2a45": {
      "model_module": "@jupyter-widgets/base",
      "model_module_version": "2.0.0",
      "model_name": "LayoutModel",
      "state": {
       "height": "auto",
       "width": "auto"
      }
     },
     "9736ae682cfd4df5a96637b6a3fe3ca3": {
      "model_module": "@jupyter-widgets/base",
      "model_module_version": "2.0.0",
      "model_name": "LayoutModel",
      "state": {}
     },
     "973e2cd3b7cb4f378d7ea41753701bfa": {
      "model_module": "@jupyter-widgets/controls",
      "model_module_version": "2.0.0",
      "model_name": "ButtonStyleModel",
      "state": {
       "button_color": "#ecf5fe",
       "font_family": null,
       "font_size": null,
       "font_style": null,
       "font_variant": null,
       "font_weight": null,
       "text_color": null,
       "text_decoration": null
      }
     },
     "9781ccf094e648c88b513297cd740a99": {
      "model_module": "@jupyter-widgets/controls",
      "model_module_version": "2.0.0",
      "model_name": "ButtonModel",
      "state": {
       "layout": "IPY_MODEL_08f46bdd14d04bed9e6379f98c422d58",
       "style": "IPY_MODEL_e1f2553f1e1741c68ef3fdeb5bd39ddd",
       "tooltip": null
      }
     },
     "9845b2e4d3b94ab79521ba565133bc7c": {
      "model_module": "@jupyter-widgets/controls",
      "model_module_version": "2.0.0",
      "model_name": "ButtonModel",
      "state": {
       "description": "header",
       "layout": "IPY_MODEL_06a777c096724c58b43179f159ab7849",
       "style": "IPY_MODEL_5013bcdb729b416c8f3395aded79517a",
       "tooltip": null
      }
     },
     "9864a308cbbf4138be67a019565691d0": {
      "model_module": "@jupyter-widgets/base",
      "model_module_version": "2.0.0",
      "model_name": "LayoutModel",
      "state": {
       "height": "auto",
       "width": "auto"
      }
     },
     "993e44f5e28b441d81110fd1e9fbe0de": {
      "model_module": "@jupyter-widgets/base",
      "model_module_version": "2.0.0",
      "model_name": "LayoutModel",
      "state": {
       "height": "auto",
       "width": "auto"
      }
     },
     "997aafb146ab471db90f9b2d53f07bca": {
      "model_module": "@jupyter-widgets/base",
      "model_module_version": "2.0.0",
      "model_name": "LayoutModel",
      "state": {
       "grid_template_areas": "\"header header header\"\n\"left-sidebar center center\"",
       "grid_template_columns": "1fr 2fr 1fr",
       "grid_template_rows": "1fr 3fr"
      }
     },
     "9abe7e8345084802aa974e8de38d8c4a": {
      "model_module": "@jupyter-widgets/controls",
      "model_module_version": "2.0.0",
      "model_name": "ButtonModel",
      "state": {
       "layout": "IPY_MODEL_45184df13efa4c3d9188fdd48f11344d",
       "style": "IPY_MODEL_d96df87711b9441bb2d35c10ed627435",
       "tooltip": null
      }
     },
     "9b66721a1e0d4659bb1767e5787dad15": {
      "model_module": "@jupyter-widgets/controls",
      "model_module_version": "2.0.0",
      "model_name": "ButtonStyleModel",
      "state": {
       "button_color": "#dbecfe",
       "font_family": null,
       "font_size": null,
       "font_style": null,
       "font_variant": null,
       "font_weight": null,
       "text_color": null,
       "text_decoration": null
      }
     },
     "9c5f52ddde494255a99859e65c62b69f": {
      "model_module": "@jupyter-widgets/base",
      "model_module_version": "2.0.0",
      "model_name": "LayoutModel",
      "state": {
       "height": "auto",
       "width": "auto"
      }
     },
     "9cc96f8bb20a4495949f766f9a1d8d2b": {
      "model_module": "@jupyter-widgets/controls",
      "model_module_version": "2.0.0",
      "model_name": "ButtonModel",
      "state": {
       "description": "footer",
       "layout": "IPY_MODEL_5e84db66bf324084a6c6476bf55d9d85",
       "style": "IPY_MODEL_5f3ac65a4f944a8ca7a9b7bb49d3f70d",
       "tooltip": null
      }
     },
     "9d241728385b4518963f2bc48a8016d4": {
      "model_module": "@jupyter-widgets/base",
      "model_module_version": "2.0.0",
      "model_name": "LayoutModel",
      "state": {
       "grid_area": "left-sidebar"
      }
     },
     "9e0c633a58bd46cd99b36434b242f871": {
      "model_module": "@jupyter-widgets/controls",
      "model_module_version": "2.0.0",
      "model_name": "ButtonStyleModel",
      "state": {
       "button_color": "#ecf5fe",
       "font_family": null,
       "font_size": null,
       "font_style": null,
       "font_variant": null,
       "font_weight": null,
       "text_color": null,
       "text_decoration": null
      }
     },
     "9e1473dc0a6a4e38b0f833f251740a8c": {
      "model_module": "@jupyter-widgets/controls",
      "model_module_version": "2.0.0",
      "model_name": "ButtonModel",
      "state": {
       "description": "left",
       "layout": "IPY_MODEL_993e44f5e28b441d81110fd1e9fbe0de",
       "style": "IPY_MODEL_6f731c9373664777ab0ecfb8d3e0e45b",
       "tooltip": null
      }
     },
     "9e70e0c08f7a4ea6a7b293622e67f7fc": {
      "model_module": "@jupyter-widgets/controls",
      "model_module_version": "2.0.0",
      "model_name": "VBoxModel",
      "state": {
       "children": [
        "IPY_MODEL_1f2ca08b6f8d470e97716251c2f384ce"
       ],
       "layout": "IPY_MODEL_f6a3c028e9834fea8c151eb2fad7914c"
      }
     },
     "9e98fb264f034c18b5ff59df013cffc8": {
      "model_module": "@jupyter-widgets/controls",
      "model_module_version": "2.0.0",
      "model_name": "ButtonStyleModel",
      "state": {
       "button_color": "#ecf5fe",
       "font_family": null,
       "font_size": null,
       "font_style": null,
       "font_variant": null,
       "font_weight": null,
       "text_color": null,
       "text_decoration": null
      }
     },
     "a14b0088c4ed4cdb90dc9035656fccb7": {
      "model_module": "@jupyter-widgets/controls",
      "model_module_version": "2.0.0",
      "model_name": "ButtonModel",
      "state": {
       "layout": "IPY_MODEL_e75bfe0e1d8b4b19abb3c8cdcf06b329",
       "style": "IPY_MODEL_db9f18b56b0f475aa1f66cefe7b27ef4",
       "tooltip": null
      }
     },
     "a265c11a25a045a0997d47abb5b6cffa": {
      "model_module": "@jupyter-widgets/controls",
      "model_module_version": "2.0.0",
      "model_name": "ButtonStyleModel",
      "state": {
       "button_color": "#c8e3fe",
       "font_family": null,
       "font_size": null,
       "font_style": null,
       "font_variant": null,
       "font_weight": null,
       "text_color": null,
       "text_decoration": null
      }
     },
     "a293c2e5058e40ddbb4c289cc54b59f9": {
      "model_module": "@jupyter-widgets/controls",
      "model_module_version": "2.0.0",
      "model_name": "VBoxModel",
      "state": {
       "children": [
        "IPY_MODEL_454887197ebf4636ace58f0012da91fa",
        "IPY_MODEL_fa77df2b6c8a4fa6b05aea7f0c767f06"
       ],
       "layout": "IPY_MODEL_2a6f664c993e4cc7a46deff9c8b35a3a"
      }
     },
     "a2a94628467f4698b50e18f0ec522c0c": {
      "model_module": "@jupyter-widgets/controls",
      "model_module_version": "2.0.0",
      "model_name": "ButtonModel",
      "state": {
       "layout": "IPY_MODEL_388c546562384b6885fc2e37a093d878",
       "style": "IPY_MODEL_63593960ac694f169100ea40818ad455",
       "tooltip": null
      }
     },
     "a36f755e39d149efad53f84cdd316ed8": {
      "model_module": "@jupyter-widgets/controls",
      "model_module_version": "2.0.0",
      "model_name": "VBoxModel",
      "state": {
       "children": [
        "IPY_MODEL_d4bc4109c2ae44b4b7fc2989c9d602f4"
       ],
       "layout": "IPY_MODEL_bc9308c85f2f481a83341682a5d5b896"
      }
     },
     "a3f379f4432b4b6da01816991254d0c9": {
      "model_module": "anywidget",
      "model_module_version": "0.9.3",
      "model_name": "AnyModel",
      "state": {
       "_anywidget_id": "ipywui.widgets.custom.message.MessageWidget",
       "_css": ".wui-message-root {\n    display: flex;\n    position: absolute;\n    left: 0;\n    right: 0;\n    top: 0;\n}\n\n.wui-message-container {\n    align-items: center;\n    display: flex;\n    flex-direction: column-reverse;\n    justify-content: center;\n    min-height: 100%;\n    outline: none;\n    width: 100%;\n\n    -webkit-tap-highlight-color: rgba(0,0,0,0);\n    bottom: 0;\n    left: 0;\n    right: 0;\n    top: 0;\n}\n\n.wui-message--success {\n    --wui-message-bg-color: #f0f9eb;\n    --wui-message-border-color: #e1f3d8;\n    --wui-message-text-color: #67c23a;\n}\n.wui-message--warning {\n    --wui-message-bg-color: #fdf6ec;\n    --wui-message-border-color: #faecd8;\n    --wui-message-text-color: #e6a23c;\n}\n.wui-message--info {\n    --wui-message-bg-color: #f4f4f5;\n    --wui-message-border-color: #e9e9eb;\n    --wui-message-text-color: #909399;\n}\n.wui-message--error {\n    --wui-message-bg-color: #fef0f0;\n    --wui-message-border-color: #fde2e2;\n    --wui-message-text-color: #f56c6c;\n}\n\n@keyframes msg-open {\n    0% {\n        opacity: 0;\n        -webkit-transform: translateY(-120%);\n        transform: translateY(-120%)\n    }\n    to {\n        -webkit-transform: translateY(0);\n        transform: translateY(0)\n    }\n}\n\n@keyframes msg-close {\n    0% {\n        opacity: 1;\n        -webkit-transform: scale(1);\n        transform: scale(1)\n    }\n    to {\n        opacity: 0;\n        -webkit-transform: scale(.9);\n        transform: scale(.9)\n    }\n}\n.wui-message[data-state=entered],.wui-message[data-state=entering] {\n    -webkit-animation: msg-open .24s cubic-bezier(.175,.885,.32,1.175) both;\n    animation: msg-open .24s cubic-bezier(.175,.885,.32,1.175) both\n}\n\n.wui-message[data-state=exiting] {\n    -webkit-animation: msg-close .12s cubic-bezier(.4,0,1,1) both;\n    animation: msg-close .12s cubic-bezier(.4,0,1,1) both\n}\n\n.wui-message {\n    width: -webkit-fit-content;\n    width: -moz-fit-content;\n    width: fit-content;\n    z-index: 2004;\n    max-width: calc(100% - 32px);\n    margin-top: 8px;\n    box-sizing: border-box;\n    /*border-radius: var(--wui-border-radius-base);*/\n    /*border-width: var(--wui-border-width);*/\n    /*border-style: var(--wui-border-style);*/\n    border-color: var(--wui-message-border-color);\n    /*left: 50%;*/\n    /*top: 20px;*/\n    /*transform: translateX(-50%);*/\n    background-color: var(--wui-message-bg-color);\n    /*transition: opacity var(--wui-transition-duration),transform .4s,top .4s;*/\n    /*padding: var(--wui-message-padding);*/\n    display: flex;\n    align-items: center;\n}\n\n/*.wui-message--success */\n.wui-message__content {\n    color: var(--wui-message-text-color);\n    font-size: 14px;\n    line-height: 18px;\n    margin: 10px 14px 10px 14px;\n    overflow-wrap: break-word;\n}\n\n.wui-message__closeBtn {\n    /*cursor: pointer;*/\n    font-style: normal;\n    /*color: gray;*/\n    padding-right: 14px;\n    /*font-size: 13px;*/\n    user-select: none;\n\n    background: transparent;\n    border: none;\n    color: gray;\n    cursor: pointer;\n    font-size: 13px;\n    font-weight: 400;\n    line-height: 1;\n    outline: none;\n    /*padding: 4px;*/\n    text-align: center;\n    transition: opacity .3s;\n    /*width: 100%;*/\n}",
       "_esm": "function closeMsg(msgDom) {\n  if (!msgDom) {\n    return;\n  }\n  msgDom.setAttribute('data-state', 'exiting');\n  msgDom.remove();\n}\n\nfunction createMsg(options) {\n  const {message, msg_id, type = 'info', show_close = false} = options;\n  const msgDom = document.createElement('div');\n  msgDom.className += ` wui-message--${type} wui-message`;\n  msgDom.setAttribute('data-state', 'entered');\n  msgDom.setAttribute('id', msg_id);\n  const msgContent = document.createElement('p');\n  msgContent.className += ` wui-message--${type} wui-message__content`;\n  msgContent.innerText = message;\n  msgDom.appendChild(msgContent);\n  if (show_close) {\n    const closeBtn = document.createElement('i');\n    closeBtn.className += 'wui-message__closeBtn';\n    closeBtn.innerText = 'x';\n    closeBtn.addEventListener('click', (ev) => {\n      closeMsg(msgDom);\n    })\n    msgDom.appendChild(closeBtn);\n  }\n  return msgDom;\n}\n\nexport async function render(view) {\n  let model = view.model;\n  const msgRoot = view.el;\n  msgRoot.className += ' wui-message-root'\n\n  const msgContainer = document.createElement('div');\n  msgContainer.className += ' wui-message-container';\n  msgRoot.appendChild(msgContainer)\n\n  model.on(\"change:message_options\", () => {\n    const options = model.get(\"message_options\");\n    const msg = createMsg(options);\n    msgContainer.appendChild(msg);\n    const {duration = 3000} = options;\n    if (duration > 0) {\n      setTimeout(() => {\n        closeMsg(msg)\n      }, duration);\n    }\n  })\n\n  model.on(\"change:close_msg_id\", () => {\n    const msg_id = model.get(\"close_msg_id\");\n    const msgDom = document.getElementById(msg_id);\n    closeMsg(msgDom);\n  })\n}\n",
       "_model_module": "anywidget",
       "_model_module_version": "0.9.3",
       "_model_name": "AnyModel",
       "_view_module": "anywidget",
       "_view_module_version": "0.9.3",
       "_view_name": "AnyView",
       "close_msg_id": "",
       "layout": "IPY_MODEL_45dc09abb0f74f3dbd846b52e530c6e4",
       "message_options": {
        "duration": 3000,
        "message": "",
        "show_close": false,
        "type": "info"
       }
      }
     },
     "a4355e873b4b4c128e31123b378f1494": {
      "model_module": "@jupyter-widgets/controls",
      "model_module_version": "2.0.0",
      "model_name": "ButtonStyleModel",
      "state": {
       "button_color": "#ecf5fe",
       "font_family": null,
       "font_size": null,
       "font_style": null,
       "font_variant": null,
       "font_weight": null,
       "text_color": null,
       "text_decoration": null
      }
     },
     "a4de2739be174c84bddb286a9c475ba5": {
      "model_module": "@jupyter-widgets/base",
      "model_module_version": "2.0.0",
      "model_name": "LayoutModel",
      "state": {
       "grid_area": "header"
      }
     },
     "a59b6e81c19d469bb49c44d6867f3df3": {
      "model_module": "@jupyter-widgets/controls",
      "model_module_version": "2.0.0",
      "model_name": "ButtonModel",
      "state": {
       "layout": "IPY_MODEL_40f177d4316a42a2b2e536abad51c809",
       "style": "IPY_MODEL_d7b0d6f4d25d4ce9b1d85ab96861a48f",
       "tooltip": null
      }
     },
     "a69505f4e71446808de4e84c16122d88": {
      "model_module": "@jupyter-widgets/controls",
      "model_module_version": "2.0.0",
      "model_name": "ButtonModel",
      "state": {
       "description": "center",
       "layout": "IPY_MODEL_0431cbeac720464884c3ba547ecc2a98",
       "style": "IPY_MODEL_10b004c93dd641478561348c9a4ff922",
       "tooltip": null
      }
     },
     "a87b06c05a5e48b6a30f03dcaf82220e": {
      "model_module": "@jupyter-widgets/controls",
      "model_module_version": "2.0.0",
      "model_name": "ButtonModel",
      "state": {
       "layout": "IPY_MODEL_93cbdabdbe6e4df884c56905afe83a9e",
       "style": "IPY_MODEL_7c345a56503b43d7b84f554449efc5e3",
       "tooltip": null
      }
     },
     "a9178f41b1db44828a49ac786cee93e4": {
      "model_module": "@jupyter-widgets/controls",
      "model_module_version": "2.0.0",
      "model_name": "VBoxModel",
      "state": {
       "children": [
        "IPY_MODEL_65a6f20d6fd3479fa340d4aa69396faf",
        "IPY_MODEL_2489f9a94c7a47beb039c6d0df532ebf",
        "IPY_MODEL_7ec7a8d423394df2881e375f4f457f08",
        "IPY_MODEL_4993804706524c529c772e8de9d83f08",
        "IPY_MODEL_96a64a85593d44b28805f39da17b95ce"
       ],
       "layout": "IPY_MODEL_6a704f4f64994ae090f7f870cc210dd4"
      }
     },
     "a95c507983474f0e893625f7252ac8b4": {
      "model_module": "@jupyter-widgets/base",
      "model_module_version": "2.0.0",
      "model_name": "LayoutModel",
      "state": {
       "height": "auto",
       "width": "auto"
      }
     },
     "a980c9fdc13d48f9ae74e83aa96a01e5": {
      "model_module": "@jupyter-widgets/base",
      "model_module_version": "2.0.0",
      "model_name": "LayoutModel",
      "state": {}
     },
     "a9b021ed5a5741b79b794b8cd347adcc": {
      "model_module": "@jupyter-widgets/base",
      "model_module_version": "2.0.0",
      "model_name": "LayoutModel",
      "state": {
       "grid_area": "center"
      }
     },
     "abd16141207141e0aa75a3a17413a464": {
      "model_module": "@jupyter-widgets/base",
      "model_module_version": "2.0.0",
      "model_name": "LayoutModel",
      "state": {
       "grid_area": "left-sidebar"
      }
     },
     "abfae09070954319a4b51a80a82f8990": {
      "model_module": "anywidget",
      "model_module_version": "0.9.3",
      "model_name": "AnyModel",
      "state": {
       "_anywidget_id": "ipywui.widgets.custom.message.MessageWidget",
       "_css": ".wui-message-root {\n    display: flex;\n    position: absolute;\n    left: 0;\n    right: 0;\n    top: 0;\n}\n\n.wui-message-container {\n    align-items: center;\n    display: flex;\n    flex-direction: column-reverse;\n    justify-content: center;\n    min-height: 100%;\n    outline: none;\n    width: 100%;\n\n    -webkit-tap-highlight-color: rgba(0,0,0,0);\n    bottom: 0;\n    left: 0;\n    right: 0;\n    top: 0;\n}\n\n.wui-message--success {\n    --wui-message-bg-color: #f0f9eb;\n    --wui-message-border-color: #e1f3d8;\n    --wui-message-text-color: #67c23a;\n}\n.wui-message--warning {\n    --wui-message-bg-color: #fdf6ec;\n    --wui-message-border-color: #faecd8;\n    --wui-message-text-color: #e6a23c;\n}\n.wui-message--info {\n    --wui-message-bg-color: #f4f4f5;\n    --wui-message-border-color: #e9e9eb;\n    --wui-message-text-color: #909399;\n}\n.wui-message--error {\n    --wui-message-bg-color: #fef0f0;\n    --wui-message-border-color: #fde2e2;\n    --wui-message-text-color: #f56c6c;\n}\n\n@keyframes msg-open {\n    0% {\n        opacity: 0;\n        -webkit-transform: translateY(-120%);\n        transform: translateY(-120%)\n    }\n    to {\n        -webkit-transform: translateY(0);\n        transform: translateY(0)\n    }\n}\n\n@keyframes msg-close {\n    0% {\n        opacity: 1;\n        -webkit-transform: scale(1);\n        transform: scale(1)\n    }\n    to {\n        opacity: 0;\n        -webkit-transform: scale(.9);\n        transform: scale(.9)\n    }\n}\n.wui-message[data-state=entered],.wui-message[data-state=entering] {\n    -webkit-animation: msg-open .24s cubic-bezier(.175,.885,.32,1.175) both;\n    animation: msg-open .24s cubic-bezier(.175,.885,.32,1.175) both\n}\n\n.wui-message[data-state=exiting] {\n    -webkit-animation: msg-close .12s cubic-bezier(.4,0,1,1) both;\n    animation: msg-close .12s cubic-bezier(.4,0,1,1) both\n}\n\n.wui-message {\n    width: -webkit-fit-content;\n    width: -moz-fit-content;\n    width: fit-content;\n    z-index: 2004;\n    max-width: calc(100% - 32px);\n    margin-top: 8px;\n    box-sizing: border-box;\n    /*border-radius: var(--wui-border-radius-base);*/\n    /*border-width: var(--wui-border-width);*/\n    /*border-style: var(--wui-border-style);*/\n    border-color: var(--wui-message-border-color);\n    /*left: 50%;*/\n    /*top: 20px;*/\n    /*transform: translateX(-50%);*/\n    background-color: var(--wui-message-bg-color);\n    /*transition: opacity var(--wui-transition-duration),transform .4s,top .4s;*/\n    /*padding: var(--wui-message-padding);*/\n    display: flex;\n    align-items: center;\n}\n\n/*.wui-message--success */\n.wui-message__content {\n    color: var(--wui-message-text-color);\n    font-size: 14px;\n    line-height: 18px;\n    margin: 10px 14px 10px 14px;\n    overflow-wrap: break-word;\n}\n\n.wui-message__closeBtn {\n    /*cursor: pointer;*/\n    font-style: normal;\n    /*color: gray;*/\n    padding-right: 14px;\n    /*font-size: 13px;*/\n    user-select: none;\n\n    background: transparent;\n    border: none;\n    color: gray;\n    cursor: pointer;\n    font-size: 13px;\n    font-weight: 400;\n    line-height: 1;\n    outline: none;\n    /*padding: 4px;*/\n    text-align: center;\n    transition: opacity .3s;\n    /*width: 100%;*/\n}",
       "_esm": "function closeMsg(msgDom) {\n  if (!msgDom) {\n    return;\n  }\n  msgDom.setAttribute('data-state', 'exiting');\n  msgDom.remove();\n}\n\nfunction createMsg(options) {\n  const {message, msg_id, type = 'info', show_close = false} = options;\n  const msgDom = document.createElement('div');\n  msgDom.className += ` wui-message--${type} wui-message`;\n  msgDom.setAttribute('data-state', 'entered');\n  msgDom.setAttribute('id', msg_id);\n  const msgContent = document.createElement('p');\n  msgContent.className += ` wui-message--${type} wui-message__content`;\n  msgContent.innerText = message;\n  msgDom.appendChild(msgContent);\n  if (show_close) {\n    const closeBtn = document.createElement('i');\n    closeBtn.className += 'wui-message__closeBtn';\n    closeBtn.innerText = 'x';\n    closeBtn.addEventListener('click', (ev) => {\n      closeMsg(msgDom);\n    })\n    msgDom.appendChild(closeBtn);\n  }\n  return msgDom;\n}\n\nexport async function render(view) {\n  let model = view.model;\n  const msgRoot = view.el;\n  msgRoot.className += ' wui-message-root'\n\n  const msgContainer = document.createElement('div');\n  msgContainer.className += ' wui-message-container';\n  msgRoot.appendChild(msgContainer)\n\n  model.on(\"change:message_options\", () => {\n    const options = model.get(\"message_options\");\n    const msg = createMsg(options);\n    msgContainer.appendChild(msg);\n    const {duration = 3000} = options;\n    if (duration > 0) {\n      setTimeout(() => {\n        closeMsg(msg)\n      }, duration);\n    }\n  })\n\n  model.on(\"change:close_msg_id\", () => {\n    const msg_id = model.get(\"close_msg_id\");\n    const msgDom = document.getElementById(msg_id);\n    closeMsg(msgDom);\n  })\n}\n",
       "_model_module": "anywidget",
       "_model_module_version": "0.9.3",
       "_model_name": "AnyModel",
       "_view_module": "anywidget",
       "_view_module_version": "0.9.3",
       "_view_name": "AnyView",
       "close_msg_id": "",
       "layout": "IPY_MODEL_dc5c7af693c54ec69351e130b2db45d9",
       "message_options": {
        "duration": 3000,
        "message": "",
        "show_close": false,
        "type": "info"
       }
      }
     },
     "ac55006bcdaa42b8b0b94c08b9773ea6": {
      "model_module": "@jupyter-widgets/base",
      "model_module_version": "2.0.0",
      "model_name": "LayoutModel",
      "state": {
       "height": "auto",
       "width": "auto"
      }
     },
     "aca9e1fa560f4742b9871d71d4484740": {
      "model_module": "@jupyter-widgets/controls",
      "model_module_version": "2.0.0",
      "model_name": "ButtonModel",
      "state": {
       "description": "left",
       "layout": "IPY_MODEL_f9706a3ac96c4d83853daf6d16f1c304",
       "style": "IPY_MODEL_6fa0d5e4521f48f7b68b9242c98fd5b5",
       "tooltip": null
      }
     },
     "adc999f9b40f495cb8d63b1e32d8021f": {
      "model_module": "@jupyter-widgets/base",
      "model_module_version": "2.0.0",
      "model_name": "LayoutModel",
      "state": {
       "height": "auto",
       "width": "auto"
      }
     },
     "ae2a6626d81b4813a57f343d38f88bf0": {
      "model_module": "@jupyter-widgets/base",
      "model_module_version": "2.0.0",
      "model_name": "LayoutModel",
      "state": {
       "grid_area": "center"
      }
     },
     "b1964affb9bf47148ab09693fa0a4194": {
      "model_module": "@jupyter-widgets/controls",
      "model_module_version": "2.0.0",
      "model_name": "ButtonStyleModel",
      "state": {
       "button_color": "#dbecfe",
       "font_family": null,
       "font_size": null,
       "font_style": null,
       "font_variant": null,
       "font_weight": null,
       "text_color": null,
       "text_decoration": null
      }
     },
     "b233f43f62ca4d2a9078aa8dfbb0240a": {
      "model_module": "@jupyter-widgets/controls",
      "model_module_version": "2.0.0",
      "model_name": "ButtonModel",
      "state": {
       "layout": "IPY_MODEL_b27a2b0ed9d947238950e165b54a4a73",
       "style": "IPY_MODEL_baf4119915e34fe98ed57b982686189d",
       "tooltip": null
      }
     },
     "b27a2b0ed9d947238950e165b54a4a73": {
      "model_module": "@jupyter-widgets/base",
      "model_module_version": "2.0.0",
      "model_name": "LayoutModel",
      "state": {
       "height": "auto",
       "width": "auto"
      }
     },
     "b4743276eb6145a4935bedb5aacfd3bd": {
      "model_module": "anywidget",
      "model_module_version": "0.9.3",
      "model_name": "AnyModel",
      "state": {
       "_anywidget_id": "ipywui.widgets.custom.message.MessageWidget",
       "_css": ".wui-message-root {\n    display: flex;\n    position: absolute;\n    left: 0;\n    right: 0;\n    top: 0;\n}\n\n.wui-message-container {\n    align-items: center;\n    display: flex;\n    flex-direction: column-reverse;\n    justify-content: center;\n    min-height: 100%;\n    outline: none;\n    width: 100%;\n\n    -webkit-tap-highlight-color: rgba(0,0,0,0);\n    bottom: 0;\n    left: 0;\n    right: 0;\n    top: 0;\n}\n\n.wui-message--success {\n    --wui-message-bg-color: #f0f9eb;\n    --wui-message-border-color: #e1f3d8;\n    --wui-message-text-color: #67c23a;\n}\n.wui-message--warning {\n    --wui-message-bg-color: #fdf6ec;\n    --wui-message-border-color: #faecd8;\n    --wui-message-text-color: #e6a23c;\n}\n.wui-message--info {\n    --wui-message-bg-color: #f4f4f5;\n    --wui-message-border-color: #e9e9eb;\n    --wui-message-text-color: #909399;\n}\n.wui-message--error {\n    --wui-message-bg-color: #fef0f0;\n    --wui-message-border-color: #fde2e2;\n    --wui-message-text-color: #f56c6c;\n}\n\n@keyframes msg-open {\n    0% {\n        opacity: 0;\n        -webkit-transform: translateY(-120%);\n        transform: translateY(-120%)\n    }\n    to {\n        -webkit-transform: translateY(0);\n        transform: translateY(0)\n    }\n}\n\n@keyframes msg-close {\n    0% {\n        opacity: 1;\n        -webkit-transform: scale(1);\n        transform: scale(1)\n    }\n    to {\n        opacity: 0;\n        -webkit-transform: scale(.9);\n        transform: scale(.9)\n    }\n}\n.wui-message[data-state=entered],.wui-message[data-state=entering] {\n    -webkit-animation: msg-open .24s cubic-bezier(.175,.885,.32,1.175) both;\n    animation: msg-open .24s cubic-bezier(.175,.885,.32,1.175) both\n}\n\n.wui-message[data-state=exiting] {\n    -webkit-animation: msg-close .12s cubic-bezier(.4,0,1,1) both;\n    animation: msg-close .12s cubic-bezier(.4,0,1,1) both\n}\n\n.wui-message {\n    width: -webkit-fit-content;\n    width: -moz-fit-content;\n    width: fit-content;\n    z-index: 2004;\n    max-width: calc(100% - 32px);\n    margin-top: 8px;\n    box-sizing: border-box;\n    /*border-radius: var(--wui-border-radius-base);*/\n    /*border-width: var(--wui-border-width);*/\n    /*border-style: var(--wui-border-style);*/\n    border-color: var(--wui-message-border-color);\n    /*left: 50%;*/\n    /*top: 20px;*/\n    /*transform: translateX(-50%);*/\n    background-color: var(--wui-message-bg-color);\n    /*transition: opacity var(--wui-transition-duration),transform .4s,top .4s;*/\n    /*padding: var(--wui-message-padding);*/\n    display: flex;\n    align-items: center;\n}\n\n/*.wui-message--success */\n.wui-message__content {\n    color: var(--wui-message-text-color);\n    font-size: 14px;\n    line-height: 18px;\n    margin: 10px 14px 10px 14px;\n    overflow-wrap: break-word;\n}\n\n.wui-message__closeBtn {\n    /*cursor: pointer;*/\n    font-style: normal;\n    /*color: gray;*/\n    padding-right: 14px;\n    /*font-size: 13px;*/\n    user-select: none;\n\n    background: transparent;\n    border: none;\n    color: gray;\n    cursor: pointer;\n    font-size: 13px;\n    font-weight: 400;\n    line-height: 1;\n    outline: none;\n    /*padding: 4px;*/\n    text-align: center;\n    transition: opacity .3s;\n    /*width: 100%;*/\n}",
       "_esm": "function closeMsg(msgDom) {\n  if (!msgDom) {\n    return;\n  }\n  msgDom.setAttribute('data-state', 'exiting');\n  msgDom.remove();\n}\n\nfunction createMsg(options) {\n  const {message, msg_id, type = 'info', show_close = false} = options;\n  const msgDom = document.createElement('div');\n  msgDom.className += ` wui-message--${type} wui-message`;\n  msgDom.setAttribute('data-state', 'entered');\n  msgDom.setAttribute('id', msg_id);\n  const msgContent = document.createElement('p');\n  msgContent.className += ` wui-message--${type} wui-message__content`;\n  msgContent.innerText = message;\n  msgDom.appendChild(msgContent);\n  if (show_close) {\n    const closeBtn = document.createElement('i');\n    closeBtn.className += 'wui-message__closeBtn';\n    closeBtn.innerText = 'x';\n    closeBtn.addEventListener('click', (ev) => {\n      closeMsg(msgDom);\n    })\n    msgDom.appendChild(closeBtn);\n  }\n  return msgDom;\n}\n\nexport async function render(view) {\n  let model = view.model;\n  const msgRoot = view.el;\n  msgRoot.className += ' wui-message-root'\n\n  const msgContainer = document.createElement('div');\n  msgContainer.className += ' wui-message-container';\n  msgRoot.appendChild(msgContainer)\n\n  model.on(\"change:message_options\", () => {\n    const options = model.get(\"message_options\");\n    const msg = createMsg(options);\n    msgContainer.appendChild(msg);\n    const {duration = 3000} = options;\n    if (duration > 0) {\n      setTimeout(() => {\n        closeMsg(msg)\n      }, duration);\n    }\n  })\n\n  model.on(\"change:close_msg_id\", () => {\n    const msg_id = model.get(\"close_msg_id\");\n    const msgDom = document.getElementById(msg_id);\n    closeMsg(msgDom);\n  })\n}\n",
       "_model_module": "anywidget",
       "_model_module_version": "0.9.3",
       "_model_name": "AnyModel",
       "_view_module": "anywidget",
       "_view_module_version": "0.9.3",
       "_view_name": "AnyView",
       "close_msg_id": "",
       "layout": "IPY_MODEL_70e1e4c509ab41c6b0333aa69647b158",
       "message_options": {
        "duration": 3000,
        "message": "",
        "show_close": false,
        "type": "info"
       }
      }
     },
     "b48728d79ca346239cfa3304d4370aa7": {
      "model_module": "@jupyter-widgets/base",
      "model_module_version": "2.0.0",
      "model_name": "LayoutModel",
      "state": {
       "height": "auto",
       "width": "auto"
      }
     },
     "b54c6b683ebb4e628ab434353acc80c5": {
      "model_module": "@jupyter-widgets/controls",
      "model_module_version": "2.0.0",
      "model_name": "ButtonStyleModel",
      "state": {
       "button_color": "#dbecfe",
       "font_family": null,
       "font_size": null,
       "font_style": null,
       "font_variant": null,
       "font_weight": null,
       "text_color": null,
       "text_decoration": null
      }
     },
     "b716d2e25a4b4a6babf6f2b44665761b": {
      "model_module": "anywidget",
      "model_module_version": "0.9.3",
      "model_name": "AnyModel",
      "state": {
       "_anywidget_id": "ipywui.widgets.custom.message.MessageWidget",
       "_css": ".wui-message-root {\n    display: flex;\n    position: absolute;\n    left: 0;\n    right: 0;\n    top: 0;\n}\n\n.wui-message-container {\n    align-items: center;\n    display: flex;\n    flex-direction: column-reverse;\n    justify-content: center;\n    min-height: 100%;\n    outline: none;\n    width: 100%;\n\n    -webkit-tap-highlight-color: rgba(0,0,0,0);\n    bottom: 0;\n    left: 0;\n    right: 0;\n    top: 0;\n}\n\n.wui-message--success {\n    --wui-message-bg-color: #f0f9eb;\n    --wui-message-border-color: #e1f3d8;\n    --wui-message-text-color: #67c23a;\n}\n.wui-message--warning {\n    --wui-message-bg-color: #fdf6ec;\n    --wui-message-border-color: #faecd8;\n    --wui-message-text-color: #e6a23c;\n}\n.wui-message--info {\n    --wui-message-bg-color: #f4f4f5;\n    --wui-message-border-color: #e9e9eb;\n    --wui-message-text-color: #909399;\n}\n.wui-message--error {\n    --wui-message-bg-color: #fef0f0;\n    --wui-message-border-color: #fde2e2;\n    --wui-message-text-color: #f56c6c;\n}\n\n@keyframes msg-open {\n    0% {\n        opacity: 0;\n        -webkit-transform: translateY(-120%);\n        transform: translateY(-120%)\n    }\n    to {\n        -webkit-transform: translateY(0);\n        transform: translateY(0)\n    }\n}\n\n@keyframes msg-close {\n    0% {\n        opacity: 1;\n        -webkit-transform: scale(1);\n        transform: scale(1)\n    }\n    to {\n        opacity: 0;\n        -webkit-transform: scale(.9);\n        transform: scale(.9)\n    }\n}\n.wui-message[data-state=entered],.wui-message[data-state=entering] {\n    -webkit-animation: msg-open .24s cubic-bezier(.175,.885,.32,1.175) both;\n    animation: msg-open .24s cubic-bezier(.175,.885,.32,1.175) both\n}\n\n.wui-message[data-state=exiting] {\n    -webkit-animation: msg-close .12s cubic-bezier(.4,0,1,1) both;\n    animation: msg-close .12s cubic-bezier(.4,0,1,1) both\n}\n\n.wui-message {\n    width: -webkit-fit-content;\n    width: -moz-fit-content;\n    width: fit-content;\n    z-index: 2004;\n    max-width: calc(100% - 32px);\n    margin-top: 8px;\n    box-sizing: border-box;\n    /*border-radius: var(--wui-border-radius-base);*/\n    /*border-width: var(--wui-border-width);*/\n    /*border-style: var(--wui-border-style);*/\n    border-color: var(--wui-message-border-color);\n    /*left: 50%;*/\n    /*top: 20px;*/\n    /*transform: translateX(-50%);*/\n    background-color: var(--wui-message-bg-color);\n    /*transition: opacity var(--wui-transition-duration),transform .4s,top .4s;*/\n    /*padding: var(--wui-message-padding);*/\n    display: flex;\n    align-items: center;\n}\n\n/*.wui-message--success */\n.wui-message__content {\n    color: var(--wui-message-text-color);\n    font-size: 14px;\n    line-height: 18px;\n    margin: 10px 14px 10px 14px;\n    overflow-wrap: break-word;\n}\n\n.wui-message__closeBtn {\n    /*cursor: pointer;*/\n    font-style: normal;\n    /*color: gray;*/\n    padding-right: 14px;\n    /*font-size: 13px;*/\n    user-select: none;\n\n    background: transparent;\n    border: none;\n    color: gray;\n    cursor: pointer;\n    font-size: 13px;\n    font-weight: 400;\n    line-height: 1;\n    outline: none;\n    /*padding: 4px;*/\n    text-align: center;\n    transition: opacity .3s;\n    /*width: 100%;*/\n}",
       "_esm": "function closeMsg(msgDom) {\n  if (!msgDom) {\n    return;\n  }\n  msgDom.setAttribute('data-state', 'exiting');\n  msgDom.remove();\n}\n\nfunction createMsg(options) {\n  const {message, msg_id, type = 'info', show_close = false} = options;\n  const msgDom = document.createElement('div');\n  msgDom.className += ` wui-message--${type} wui-message`;\n  msgDom.setAttribute('data-state', 'entered');\n  msgDom.setAttribute('id', msg_id);\n  const msgContent = document.createElement('p');\n  msgContent.className += ` wui-message--${type} wui-message__content`;\n  msgContent.innerText = message;\n  msgDom.appendChild(msgContent);\n  if (show_close) {\n    const closeBtn = document.createElement('i');\n    closeBtn.className += 'wui-message__closeBtn';\n    closeBtn.innerText = 'x';\n    closeBtn.addEventListener('click', (ev) => {\n      closeMsg(msgDom);\n    })\n    msgDom.appendChild(closeBtn);\n  }\n  return msgDom;\n}\n\nexport async function render(view) {\n  let model = view.model;\n  const msgRoot = view.el;\n  msgRoot.className += ' wui-message-root'\n\n  const msgContainer = document.createElement('div');\n  msgContainer.className += ' wui-message-container';\n  msgRoot.appendChild(msgContainer)\n\n  model.on(\"change:message_options\", () => {\n    const options = model.get(\"message_options\");\n    const msg = createMsg(options);\n    msgContainer.appendChild(msg);\n    const {duration = 3000} = options;\n    if (duration > 0) {\n      setTimeout(() => {\n        closeMsg(msg)\n      }, duration);\n    }\n  })\n\n  model.on(\"change:close_msg_id\", () => {\n    const msg_id = model.get(\"close_msg_id\");\n    const msgDom = document.getElementById(msg_id);\n    closeMsg(msgDom);\n  })\n}\n",
       "_model_module": "anywidget",
       "_model_module_version": "0.9.3",
       "_model_name": "AnyModel",
       "_view_module": "anywidget",
       "_view_module_version": "0.9.3",
       "_view_name": "AnyView",
       "close_msg_id": "",
       "layout": "IPY_MODEL_12696487c702461c9e7964b9f1974fcc",
       "message_options": {
        "duration": 3000,
        "message": "",
        "show_close": false,
        "type": "info"
       }
      }
     },
     "b83e1321fd574f15bcfc055cb3c5b63f": {
      "model_module": "@jupyter-widgets/controls",
      "model_module_version": "2.0.0",
      "model_name": "VBoxModel",
      "state": {
       "children": [
        "IPY_MODEL_6910b4af5ba14474b264ab0e25b2aeaa"
       ],
       "layout": "IPY_MODEL_04e3048f529d408d8e91700139d17cc0"
      }
     },
     "b933534d1c20415fbc311133586e41ae": {
      "model_module": "@jupyter-widgets/controls",
      "model_module_version": "2.0.0",
      "model_name": "ButtonStyleModel",
      "state": {
       "button_color": "#c8e3fe",
       "font_family": null,
       "font_size": null,
       "font_style": null,
       "font_variant": null,
       "font_weight": null,
       "text_color": null,
       "text_decoration": null
      }
     },
     "baf09fc8134e454695731db3e0cd2c2b": {
      "model_module": "@jupyter-widgets/controls",
      "model_module_version": "2.0.0",
      "model_name": "VBoxModel",
      "state": {
       "children": [
        "IPY_MODEL_1e248a958b77495a83b2cee2f2065d21",
        "IPY_MODEL_e57b32647986407d99770b57f52772f0"
       ],
       "layout": "IPY_MODEL_d207c6a6f6c74be3b191694dadc4be01"
      }
     },
     "baf4119915e34fe98ed57b982686189d": {
      "model_module": "@jupyter-widgets/controls",
      "model_module_version": "2.0.0",
      "model_name": "ButtonStyleModel",
      "state": {
       "button_color": "#ecf5fe",
       "font_family": null,
       "font_size": null,
       "font_style": null,
       "font_variant": null,
       "font_weight": null,
       "text_color": null,
       "text_decoration": null
      }
     },
     "bb42739f9fb04c57a4b92f5ffcbf27b6": {
      "model_module": "@jupyter-widgets/base",
      "model_module_version": "2.0.0",
      "model_name": "LayoutModel",
      "state": {
       "height": "auto",
       "width": "auto"
      }
     },
     "bbd699f974804f72b34bad81fe61dbdc": {
      "model_module": "@jupyter-widgets/base",
      "model_module_version": "2.0.0",
      "model_name": "LayoutModel",
      "state": {
       "height": "auto",
       "width": "auto"
      }
     },
     "bc161dd76c7d46b3930ea83e8d6d668c": {
      "model_module": "@jupyter-widgets/controls",
      "model_module_version": "2.0.0",
      "model_name": "VBoxModel",
      "state": {
       "children": [
        "IPY_MODEL_e829688e76524dc0bfee502bd5749ee3",
        "IPY_MODEL_3578772f6350425c8490288377fa1b1f"
       ],
       "layout": "IPY_MODEL_e646d91986844d4884cd58841a8069c5"
      }
     },
     "bc9308c85f2f481a83341682a5d5b896": {
      "model_module": "@jupyter-widgets/base",
      "model_module_version": "2.0.0",
      "model_name": "LayoutModel",
      "state": {
       "grid_area": "footer"
      }
     },
     "bd0b70cfb5ab44b2979d0953c057c9ec": {
      "model_module": "@jupyter-widgets/controls",
      "model_module_version": "2.0.0",
      "model_name": "ButtonModel",
      "state": {
       "layout": "IPY_MODEL_10ee4b6acd4a4b69a711ecec1920721b",
       "style": "IPY_MODEL_50e4c9594fb64ee48a753867ffb3e867",
       "tooltip": null
      }
     },
     "bd3a708c0440423ab092307f4d01775b": {
      "model_module": "@jupyter-widgets/controls",
      "model_module_version": "2.0.0",
      "model_name": "VBoxModel",
      "state": {
       "children": [
        "IPY_MODEL_f92f7469b7d54c538f9a2c168ce0e739"
       ],
       "layout": "IPY_MODEL_3be521675d0e4c7b9d9c8aff1f72c74e"
      }
     },
     "bd554ad6517744b1a07acce29f84e4d5": {
      "model_module": "@jupyter-widgets/controls",
      "model_module_version": "2.0.0",
      "model_name": "ButtonModel",
      "state": {
       "layout": "IPY_MODEL_6242b3c17ed042f59512cfd37294722a",
       "style": "IPY_MODEL_67f2d9a698d149948baf1d264851778c",
       "tooltip": null
      }
     },
     "bd8695be8fc049f8a4a82c4899d19645": {
      "model_module": "@jupyter-widgets/controls",
      "model_module_version": "2.0.0",
      "model_name": "ButtonStyleModel",
      "state": {
       "button_color": "#dbecfe",
       "font_family": null,
       "font_size": null,
       "font_style": null,
       "font_variant": null,
       "font_weight": null,
       "text_color": null,
       "text_decoration": null
      }
     },
     "bd9633a6841e495cbe114e366b1dfb2b": {
      "model_module": "@jupyter-widgets/controls",
      "model_module_version": "2.0.0",
      "model_name": "VBoxModel",
      "state": {
       "children": [
        "IPY_MODEL_bd0b70cfb5ab44b2979d0953c057c9ec",
        "IPY_MODEL_6ee668cb4ab74e3b8f34899679d32e6b",
        "IPY_MODEL_827824c7aef546ca92d9d5677afb55bc"
       ],
       "layout": "IPY_MODEL_be621148195c440ea2391df151da098e"
      }
     },
     "be1c1d04cbdf46e69b8cc34defbf142d": {
      "model_module": "@jupyter-widgets/base",
      "model_module_version": "2.0.0",
      "model_name": "LayoutModel",
      "state": {
       "height": "auto",
       "width": "auto"
      }
     },
     "be621148195c440ea2391df151da098e": {
      "model_module": "@jupyter-widgets/base",
      "model_module_version": "2.0.0",
      "model_name": "LayoutModel",
      "state": {
       "grid_area": "center"
      }
     },
     "bee750a61bae4363baf6e48d7349f3de": {
      "model_module": "@jupyter-widgets/controls",
      "model_module_version": "2.0.0",
      "model_name": "ButtonStyleModel",
      "state": {
       "button_color": "#dbecfe",
       "font_family": null,
       "font_size": null,
       "font_style": null,
       "font_variant": null,
       "font_weight": null,
       "text_color": null,
       "text_decoration": null
      }
     },
     "c0de4dbf45d64728b67a17c4d94b5318": {
      "model_module": "@jupyter-widgets/base",
      "model_module_version": "2.0.0",
      "model_name": "LayoutModel",
      "state": {
       "grid_area": "right-sidebar"
      }
     },
     "c1e3c63819464edbaf3a57cf3074af78": {
      "model_module": "@jupyter-widgets/controls",
      "model_module_version": "2.0.0",
      "model_name": "ButtonModel",
      "state": {
       "layout": "IPY_MODEL_2d70411f758f4130a6019d9f9c39ebb9",
       "style": "IPY_MODEL_f5420b8922b94622ae11e489000eecbe",
       "tooltip": null
      }
     },
     "c2eaf6082fbf487dbdf19495f27e9bc4": {
      "model_module": "@jupyter-widgets/controls",
      "model_module_version": "2.0.0",
      "model_name": "ButtonStyleModel",
      "state": {
       "button_color": "#ecf5fe",
       "font_family": null,
       "font_size": null,
       "font_style": null,
       "font_variant": null,
       "font_weight": null,
       "text_color": null,
       "text_decoration": null
      }
     },
     "c397705ac7c045deac90af25694cad12": {
      "model_module": "@jupyter-widgets/controls",
      "model_module_version": "2.0.0",
      "model_name": "ButtonModel",
      "state": {
       "description": "center",
       "layout": "IPY_MODEL_002b522d21ee4cceb01eb0b1cf339965",
       "style": "IPY_MODEL_6a831a34916d40c4ad4fea65fa20650b",
       "tooltip": null
      }
     },
     "c515a4833a504a45b3a8183ad34c07c4": {
      "model_module": "@jupyter-widgets/base",
      "model_module_version": "2.0.0",
      "model_name": "LayoutModel",
      "state": {
       "height": "auto",
       "width": "auto"
      }
     },
     "c57c767c97a544809e734490ee629ba6": {
      "model_module": "@jupyter-widgets/base",
      "model_module_version": "2.0.0",
      "model_name": "LayoutModel",
      "state": {}
     },
     "c5eae7c9886e4aec959b4b17c47e7341": {
      "model_module": "@jupyter-widgets/base",
      "model_module_version": "2.0.0",
      "model_name": "LayoutModel",
      "state": {
       "grid_area": "header"
      }
     },
     "c88be09e56814d639bdc397d1797b2c1": {
      "model_module": "@jupyter-widgets/base",
      "model_module_version": "2.0.0",
      "model_name": "LayoutModel",
      "state": {}
     },
     "c89bab40fbc34892bbddbc77bea58ecc": {
      "model_module": "@jupyter-widgets/controls",
      "model_module_version": "2.0.0",
      "model_name": "ButtonModel",
      "state": {
       "description": "left",
       "layout": "IPY_MODEL_3b6c22571368453f8754a33869742caa",
       "style": "IPY_MODEL_5492ec20bc6b4e7c8731f0ea0f4969e5",
       "tooltip": null
      }
     },
     "c8dc211117b5434f8c681dcf286d5371": {
      "model_module": "@jupyter-widgets/controls",
      "model_module_version": "2.0.0",
      "model_name": "ButtonModel",
      "state": {
       "layout": "IPY_MODEL_224041d99f8a4604aef8a9e43ef66b6b",
       "style": "IPY_MODEL_d5cb25ac80df4f0f9e63f7e6291dd8eb",
       "tooltip": null
      }
     },
     "c8e9b67c7d8c49ac9a054ee8ce28faf8": {
      "model_module": "@jupyter-widgets/controls",
      "model_module_version": "2.0.0",
      "model_name": "ButtonStyleModel",
      "state": {
       "button_color": "#dbecfe",
       "font_family": null,
       "font_size": null,
       "font_style": null,
       "font_variant": null,
       "font_weight": null,
       "text_color": null,
       "text_decoration": null
      }
     },
     "c8fb09a43acf4d99b2c7df3d8ada19bf": {
      "model_module": "@jupyter-widgets/base",
      "model_module_version": "2.0.0",
      "model_name": "LayoutModel",
      "state": {
       "grid_area": "left-sidebar"
      }
     },
     "c90997c21193470eb940cb3736e6be76": {
      "model_module": "@jupyter-widgets/base",
      "model_module_version": "2.0.0",
      "model_name": "LayoutModel",
      "state": {
       "grid_area": "center"
      }
     },
     "c97369def35b455092ccbceccff95f8d": {
      "model_module": "@jupyter-widgets/controls",
      "model_module_version": "2.0.0",
      "model_name": "VBoxModel",
      "state": {
       "children": [
        "IPY_MODEL_a87b06c05a5e48b6a30f03dcaf82220e",
        "IPY_MODEL_aca9e1fa560f4742b9871d71d4484740",
        "IPY_MODEL_8976c3fdece04e2fb58dbcc34cf25433",
        "IPY_MODEL_063c70571252407d9ecd4531aa09deb8"
       ],
       "layout": "IPY_MODEL_0ceda82d58e84f0e985a7bec17fed6a0"
      }
     },
     "ca7d0020b1d0402195c380e3ea053dfb": {
      "model_module": "@jupyter-widgets/controls",
      "model_module_version": "2.0.0",
      "model_name": "ButtonModel",
      "state": {
       "description": "footer",
       "layout": "IPY_MODEL_3af70918fcb940a0a9b12005d8fe763a",
       "style": "IPY_MODEL_6ebe1fb83a3c4e209235099b375965de",
       "tooltip": null
      }
     },
     "cb6b7dcfd5f94b7ba3b2bfb150c94575": {
      "model_module": "@jupyter-widgets/controls",
      "model_module_version": "2.0.0",
      "model_name": "ButtonModel",
      "state": {
       "layout": "IPY_MODEL_c515a4833a504a45b3a8183ad34c07c4",
       "style": "IPY_MODEL_82795ca23e3c4184a490492fdbd60747",
       "tooltip": null
      }
     },
     "ccd0b08672534ec48d0be141e8d4d415": {
      "model_module": "@jupyter-widgets/controls",
      "model_module_version": "2.0.0",
      "model_name": "ButtonModel",
      "state": {
       "description": "center",
       "layout": "IPY_MODEL_36e121c797ac41a5a813bf68ae7712b6",
       "style": "IPY_MODEL_53d46b787c1f44cc9bd9ddd63a3bdc2d",
       "tooltip": null
      }
     },
     "cd1269638e2a41d28700d7d50853c61d": {
      "model_module": "@jupyter-widgets/controls",
      "model_module_version": "2.0.0",
      "model_name": "ButtonModel",
      "state": {
       "description": "header",
       "layout": "IPY_MODEL_7ad0c0fa46cf400b98eda1247a23f9fd",
       "style": "IPY_MODEL_7654659d32344493a153605c1a78045d",
       "tooltip": null
      }
     },
     "cd26aa0d35824a64a0ceae9c767dca3a": {
      "model_module": "@jupyter-widgets/base",
      "model_module_version": "2.0.0",
      "model_name": "LayoutModel",
      "state": {}
     },
     "cd8b44bbc18c4c6e9c7647de5155b67e": {
      "model_module": "@jupyter-widgets/controls",
      "model_module_version": "2.0.0",
      "model_name": "ButtonStyleModel",
      "state": {
       "button_color": "#dbecfe",
       "font_family": null,
       "font_size": null,
       "font_style": null,
       "font_variant": null,
       "font_weight": null,
       "text_color": null,
       "text_decoration": null
      }
     },
     "cdc4693c03474cca94f64a0c0e1d0d9f": {
      "model_module": "@jupyter-widgets/base",
      "model_module_version": "2.0.0",
      "model_name": "LayoutModel",
      "state": {
       "height": "auto",
       "width": "auto"
      }
     },
     "cecd6de2581a46058242945f1383ba59": {
      "model_module": "@jupyter-widgets/controls",
      "model_module_version": "2.0.0",
      "model_name": "ButtonStyleModel",
      "state": {
       "button_color": "#c8e3fe",
       "font_family": null,
       "font_size": null,
       "font_style": null,
       "font_variant": null,
       "font_weight": null,
       "text_color": null,
       "text_decoration": null
      }
     },
     "d00c930bf8224c4eb33648c4d3cc3af9": {
      "model_module": "@jupyter-widgets/controls",
      "model_module_version": "2.0.0",
      "model_name": "VBoxModel",
      "state": {
       "children": [
        "IPY_MODEL_1f17f6658ebb4b7fbd417387b20deb09",
        "IPY_MODEL_543fa293e6434206805a4d09f5973342",
        "IPY_MODEL_3017904827d64b0ea844e848f073dba1"
       ],
       "layout": "IPY_MODEL_611e95a5c6774e21a569a61b3ddd4e85"
      }
     },
     "d1559df2b01a405bb0bbbc8a33bef2fc": {
      "model_module": "@jupyter-widgets/base",
      "model_module_version": "2.0.0",
      "model_name": "LayoutModel",
      "state": {
       "height": "auto",
       "width": "auto"
      }
     },
     "d207c6a6f6c74be3b191694dadc4be01": {
      "model_module": "@jupyter-widgets/base",
      "model_module_version": "2.0.0",
      "model_name": "LayoutModel",
      "state": {}
     },
     "d2ecf5bacc3b485999bf7c217742bb28": {
      "model_module": "@jupyter-widgets/controls",
      "model_module_version": "2.0.0",
      "model_name": "VBoxModel",
      "state": {
       "children": [
        "IPY_MODEL_a3f379f4432b4b6da01816991254d0c9",
        "IPY_MODEL_5fde0b6a706a4ba4b68f4f4e44b75097"
       ],
       "layout": "IPY_MODEL_cd26aa0d35824a64a0ceae9c767dca3a"
      }
     },
     "d350b9d270e9408381e306a431fc132c": {
      "model_module": "@jupyter-widgets/controls",
      "model_module_version": "2.0.0",
      "model_name": "VBoxModel",
      "state": {
       "children": [
        "IPY_MODEL_5dcc46ae58b84548afe42ab1e3582dc7"
       ],
       "layout": "IPY_MODEL_e8f3047720bd4ada9448ffe89f2988e0"
      }
     },
     "d38b1d1e559e4cd49fabe0746d5fbffd": {
      "model_module": "@jupyter-widgets/base",
      "model_module_version": "2.0.0",
      "model_name": "LayoutModel",
      "state": {
       "grid_area": "header"
      }
     },
     "d418803fa78e4224b6898bde6a0b3f2d": {
      "model_module": "@jupyter-widgets/controls",
      "model_module_version": "2.0.0",
      "model_name": "ButtonModel",
      "state": {
       "description": "center",
       "layout": "IPY_MODEL_71f3ed786b73489fb8c0214d84ad4707",
       "style": "IPY_MODEL_699a7dc5eeb445bd9d1e812c9ceed427",
       "tooltip": null
      }
     },
     "d47d2bdfa7e046e2b48b99104c44fe70": {
      "model_module": "@jupyter-widgets/controls",
      "model_module_version": "2.0.0",
      "model_name": "GridBoxModel",
      "state": {
       "children": [
        "IPY_MODEL_4663c60b5426452898341e106b7fa36d",
        "IPY_MODEL_d00c930bf8224c4eb33648c4d3cc3af9",
        "IPY_MODEL_902a7b71f56047559363a03a6591545b"
       ],
       "layout": "IPY_MODEL_ff29a48c1a4a4675986c57f26c126181"
      }
     },
     "d49a436b1b1c40daa29f56f2b06b2390": {
      "model_module": "@jupyter-widgets/base",
      "model_module_version": "2.0.0",
      "model_name": "LayoutModel",
      "state": {
       "height": "auto",
       "width": "auto"
      }
     },
     "d4bc4109c2ae44b4b7fc2989c9d602f4": {
      "model_module": "@jupyter-widgets/controls",
      "model_module_version": "2.0.0",
      "model_name": "ButtonModel",
      "state": {
       "description": "footer",
       "layout": "IPY_MODEL_5d38146b40a943aab8e4268e7e0251e7",
       "style": "IPY_MODEL_3e009848bcfe4637bf29cfdaa1c83d73",
       "tooltip": null
      }
     },
     "d572d33251d44daabff91e36d4233957": {
      "model_module": "@jupyter-widgets/controls",
      "model_module_version": "2.0.0",
      "model_name": "ButtonStyleModel",
      "state": {
       "button_color": "#ecf5fe",
       "font_family": null,
       "font_size": null,
       "font_style": null,
       "font_variant": null,
       "font_weight": null,
       "text_color": null,
       "text_decoration": null
      }
     },
     "d594ca33dbb54390b6ea7efc3b999c09": {
      "model_module": "@jupyter-widgets/controls",
      "model_module_version": "2.0.0",
      "model_name": "VBoxModel",
      "state": {
       "children": [
        "IPY_MODEL_a2a94628467f4698b50e18f0ec522c0c",
        "IPY_MODEL_9701fbf3cb864be5bfbb7a1b9d0fd8e3",
        "IPY_MODEL_6b5bddc0379b4e398bbad03be470d5f2"
       ],
       "layout": "IPY_MODEL_f43a13b58ccf4e519918756eae075a42"
      }
     },
     "d5cb25ac80df4f0f9e63f7e6291dd8eb": {
      "model_module": "@jupyter-widgets/controls",
      "model_module_version": "2.0.0",
      "model_name": "ButtonStyleModel",
      "state": {
       "button_color": "#ecf5fe",
       "font_family": null,
       "font_size": null,
       "font_style": null,
       "font_variant": null,
       "font_weight": null,
       "text_color": null,
       "text_decoration": null
      }
     },
     "d5cef06eabb24dac85334501671b310c": {
      "model_module": "@jupyter-widgets/base",
      "model_module_version": "2.0.0",
      "model_name": "LayoutModel",
      "state": {
       "height": "auto",
       "width": "auto"
      }
     },
     "d74abf6b146d43c88e1b1b918c5580c4": {
      "model_module": "@jupyter-widgets/base",
      "model_module_version": "2.0.0",
      "model_name": "LayoutModel",
      "state": {
       "height": "auto",
       "width": "auto"
      }
     },
     "d79e625a1817458b8036dac3c891962a": {
      "model_module": "@jupyter-widgets/base",
      "model_module_version": "2.0.0",
      "model_name": "LayoutModel",
      "state": {}
     },
     "d7b0d6f4d25d4ce9b1d85ab96861a48f": {
      "model_module": "@jupyter-widgets/controls",
      "model_module_version": "2.0.0",
      "model_name": "ButtonStyleModel",
      "state": {
       "button_color": "#c8e3fe",
       "font_family": null,
       "font_size": null,
       "font_style": null,
       "font_variant": null,
       "font_weight": null,
       "text_color": null,
       "text_decoration": null
      }
     },
     "d865920039cb4ef2ab46377a300db925": {
      "model_module": "@jupyter-widgets/base",
      "model_module_version": "2.0.0",
      "model_name": "LayoutModel",
      "state": {}
     },
     "d90c2d0555bc4c629cbc92475ca5745b": {
      "model_module": "@jupyter-widgets/base",
      "model_module_version": "2.0.0",
      "model_name": "LayoutModel",
      "state": {
       "height": "auto",
       "width": "auto"
      }
     },
     "d96df87711b9441bb2d35c10ed627435": {
      "model_module": "@jupyter-widgets/controls",
      "model_module_version": "2.0.0",
      "model_name": "ButtonStyleModel",
      "state": {
       "button_color": "#dbecfe",
       "font_family": null,
       "font_size": null,
       "font_style": null,
       "font_variant": null,
       "font_weight": null,
       "text_color": null,
       "text_decoration": null
      }
     },
     "d9aa9e4221c14d8e8a0f35518c6fa20b": {
      "model_module": "@jupyter-widgets/controls",
      "model_module_version": "2.0.0",
      "model_name": "VBoxModel",
      "state": {
       "children": [
        "IPY_MODEL_e1e4df4df9da43ddabc3ea223f2a402f",
        "IPY_MODEL_d418803fa78e4224b6898bde6a0b3f2d",
        "IPY_MODEL_cb6b7dcfd5f94b7ba3b2bfb150c94575"
       ],
       "layout": "IPY_MODEL_c90997c21193470eb940cb3736e6be76"
      }
     },
     "da51ecc4009e4c8f826f48ff82e4d2af": {
      "model_module": "@jupyter-widgets/controls",
      "model_module_version": "2.0.0",
      "model_name": "ButtonStyleModel",
      "state": {
       "button_color": "#dbecfe",
       "font_family": null,
       "font_size": null,
       "font_style": null,
       "font_variant": null,
       "font_weight": null,
       "text_color": null,
       "text_decoration": null
      }
     },
     "da59015ef45849c48ff2953c45bb5d8c": {
      "model_module": "@jupyter-widgets/controls",
      "model_module_version": "2.0.0",
      "model_name": "GridBoxModel",
      "state": {
       "children": [
        "IPY_MODEL_0f81ba6f3509446880f9a88206515df2",
        "IPY_MODEL_efc7607f758f43978a3b0d3bb45239d1",
        "IPY_MODEL_3e8558dfb0f34f29812917209feac0a3",
        "IPY_MODEL_bd9633a6841e495cbe114e366b1dfb2b"
       ],
       "layout": "IPY_MODEL_8b09360322b04fb99c7818d5f8605db1"
      }
     },
     "db68aa2426d2467eb28362d5eeaad9a8": {
      "model_module": "@jupyter-widgets/controls",
      "model_module_version": "2.0.0",
      "model_name": "ButtonModel",
      "state": {
       "description": "header",
       "layout": "IPY_MODEL_d90c2d0555bc4c629cbc92475ca5745b",
       "style": "IPY_MODEL_b933534d1c20415fbc311133586e41ae",
       "tooltip": null
      }
     },
     "db9f18b56b0f475aa1f66cefe7b27ef4": {
      "model_module": "@jupyter-widgets/controls",
      "model_module_version": "2.0.0",
      "model_name": "ButtonStyleModel",
      "state": {
       "button_color": "#dbecfe",
       "font_family": null,
       "font_size": null,
       "font_style": null,
       "font_variant": null,
       "font_weight": null,
       "text_color": null,
       "text_decoration": null
      }
     },
     "dc19c2d576c242ab906585ab5a0fe6ae": {
      "model_module": "@jupyter-widgets/controls",
      "model_module_version": "2.0.0",
      "model_name": "ButtonStyleModel",
      "state": {
       "button_color": "#c8e3fe",
       "font_family": null,
       "font_size": null,
       "font_style": null,
       "font_variant": null,
       "font_weight": null,
       "text_color": null,
       "text_decoration": null
      }
     },
     "dc5c7af693c54ec69351e130b2db45d9": {
      "model_module": "@jupyter-widgets/base",
      "model_module_version": "2.0.0",
      "model_name": "LayoutModel",
      "state": {}
     },
     "dcbbc77b05fd4c4abc49e49d368f8b09": {
      "model_module": "@jupyter-widgets/controls",
      "model_module_version": "2.0.0",
      "model_name": "VBoxModel",
      "state": {
       "children": [
        "IPY_MODEL_08df32e04c0f414eb9f1537524391e4b"
       ],
       "layout": "IPY_MODEL_3068fb3f7387437d90f07933b0b20f86"
      }
     },
     "dd5cecc51a2f448fae668cd7b92c6248": {
      "model_module": "@jupyter-widgets/controls",
      "model_module_version": "2.0.0",
      "model_name": "VBoxModel",
      "state": {
       "children": [
        "IPY_MODEL_fc6f9c2291e84ab69f1180387793d680",
        "IPY_MODEL_339f9e96b8a748a8a4c909ba5d19f2fb",
        "IPY_MODEL_c397705ac7c045deac90af25694cad12",
        "IPY_MODEL_551178c654df404cbf10f1d7e5443b9f",
        "IPY_MODEL_b233f43f62ca4d2a9078aa8dfbb0240a"
       ],
       "layout": "IPY_MODEL_a9b021ed5a5741b79b794b8cd347adcc"
      }
     },
     "e060f97e47644e30be135dd5704b2972": {
      "model_module": "@jupyter-widgets/base",
      "model_module_version": "2.0.0",
      "model_name": "LayoutModel",
      "state": {}
     },
     "e151c3bfc2f34ae09ad19310bf588ec8": {
      "model_module": "@jupyter-widgets/controls",
      "model_module_version": "2.0.0",
      "model_name": "ButtonStyleModel",
      "state": {
       "button_color": "#c8e3fe",
       "font_family": null,
       "font_size": null,
       "font_style": null,
       "font_variant": null,
       "font_weight": null,
       "text_color": null,
       "text_decoration": null
      }
     },
     "e1e4df4df9da43ddabc3ea223f2a402f": {
      "model_module": "@jupyter-widgets/controls",
      "model_module_version": "2.0.0",
      "model_name": "ButtonModel",
      "state": {
       "layout": "IPY_MODEL_e8cc2e60a504444b8790f588aa0b4b79",
       "style": "IPY_MODEL_973e2cd3b7cb4f378d7ea41753701bfa",
       "tooltip": null
      }
     },
     "e1f2553f1e1741c68ef3fdeb5bd39ddd": {
      "model_module": "@jupyter-widgets/controls",
      "model_module_version": "2.0.0",
      "model_name": "ButtonStyleModel",
      "state": {
       "button_color": "#dbecfe",
       "font_family": null,
       "font_size": null,
       "font_style": null,
       "font_variant": null,
       "font_weight": null,
       "text_color": null,
       "text_decoration": null
      }
     },
     "e36a1edee16c4c62b621606e705d6cee": {
      "model_module": "@jupyter-widgets/controls",
      "model_module_version": "2.0.0",
      "model_name": "ButtonStyleModel",
      "state": {
       "button_color": "#ecf5fe",
       "font_family": null,
       "font_size": null,
       "font_style": null,
       "font_variant": null,
       "font_weight": null,
       "text_color": null,
       "text_decoration": null
      }
     },
     "e57b32647986407d99770b57f52772f0": {
      "model_module": "@jupyter-widgets/output",
      "model_module_version": "1.0.0",
      "model_name": "OutputModel",
      "state": {
       "layout": "IPY_MODEL_3668577e464041dc8520a0db6c5b56dc",
       "outputs": [
        {
         "data": {
          "application/vnd.jupyter.widget-view+json": {
           "model_id": "1342525173724f2d804b5bd6744a09ab",
           "version_major": 2,
           "version_minor": 0
          },
          "text/plain": "AppLayout(children=(VBox(children=(Button(description='header', layout=Layout(height='auto', width='auto'), st…"
         },
         "metadata": {},
         "output_type": "display_data"
        }
       ]
      }
     },
     "e59df77c007244aa933c5048e2a83e7f": {
      "model_module": "@jupyter-widgets/base",
      "model_module_version": "2.0.0",
      "model_name": "LayoutModel",
      "state": {}
     },
     "e646d91986844d4884cd58841a8069c5": {
      "model_module": "@jupyter-widgets/base",
      "model_module_version": "2.0.0",
      "model_name": "LayoutModel",
      "state": {}
     },
     "e75bfe0e1d8b4b19abb3c8cdcf06b329": {
      "model_module": "@jupyter-widgets/base",
      "model_module_version": "2.0.0",
      "model_name": "LayoutModel",
      "state": {
       "height": "auto",
       "width": "auto"
      }
     },
     "e829688e76524dc0bfee502bd5749ee3": {
      "model_module": "anywidget",
      "model_module_version": "0.9.3",
      "model_name": "AnyModel",
      "state": {
       "_anywidget_id": "ipywui.widgets.custom.message.MessageWidget",
       "_css": ".wui-message-root {\n    display: flex;\n    position: absolute;\n    left: 0;\n    right: 0;\n    top: 0;\n}\n\n.wui-message-container {\n    align-items: center;\n    display: flex;\n    flex-direction: column-reverse;\n    justify-content: center;\n    min-height: 100%;\n    outline: none;\n    width: 100%;\n\n    -webkit-tap-highlight-color: rgba(0,0,0,0);\n    bottom: 0;\n    left: 0;\n    right: 0;\n    top: 0;\n}\n\n.wui-message--success {\n    --wui-message-bg-color: #f0f9eb;\n    --wui-message-border-color: #e1f3d8;\n    --wui-message-text-color: #67c23a;\n}\n.wui-message--warning {\n    --wui-message-bg-color: #fdf6ec;\n    --wui-message-border-color: #faecd8;\n    --wui-message-text-color: #e6a23c;\n}\n.wui-message--info {\n    --wui-message-bg-color: #f4f4f5;\n    --wui-message-border-color: #e9e9eb;\n    --wui-message-text-color: #909399;\n}\n.wui-message--error {\n    --wui-message-bg-color: #fef0f0;\n    --wui-message-border-color: #fde2e2;\n    --wui-message-text-color: #f56c6c;\n}\n\n@keyframes msg-open {\n    0% {\n        opacity: 0;\n        -webkit-transform: translateY(-120%);\n        transform: translateY(-120%)\n    }\n    to {\n        -webkit-transform: translateY(0);\n        transform: translateY(0)\n    }\n}\n\n@keyframes msg-close {\n    0% {\n        opacity: 1;\n        -webkit-transform: scale(1);\n        transform: scale(1)\n    }\n    to {\n        opacity: 0;\n        -webkit-transform: scale(.9);\n        transform: scale(.9)\n    }\n}\n.wui-message[data-state=entered],.wui-message[data-state=entering] {\n    -webkit-animation: msg-open .24s cubic-bezier(.175,.885,.32,1.175) both;\n    animation: msg-open .24s cubic-bezier(.175,.885,.32,1.175) both\n}\n\n.wui-message[data-state=exiting] {\n    -webkit-animation: msg-close .12s cubic-bezier(.4,0,1,1) both;\n    animation: msg-close .12s cubic-bezier(.4,0,1,1) both\n}\n\n.wui-message {\n    width: -webkit-fit-content;\n    width: -moz-fit-content;\n    width: fit-content;\n    z-index: 2004;\n    max-width: calc(100% - 32px);\n    margin-top: 8px;\n    box-sizing: border-box;\n    /*border-radius: var(--wui-border-radius-base);*/\n    /*border-width: var(--wui-border-width);*/\n    /*border-style: var(--wui-border-style);*/\n    border-color: var(--wui-message-border-color);\n    /*left: 50%;*/\n    /*top: 20px;*/\n    /*transform: translateX(-50%);*/\n    background-color: var(--wui-message-bg-color);\n    /*transition: opacity var(--wui-transition-duration),transform .4s,top .4s;*/\n    /*padding: var(--wui-message-padding);*/\n    display: flex;\n    align-items: center;\n}\n\n/*.wui-message--success */\n.wui-message__content {\n    color: var(--wui-message-text-color);\n    font-size: 14px;\n    line-height: 18px;\n    margin: 10px 14px 10px 14px;\n    overflow-wrap: break-word;\n}\n\n.wui-message__closeBtn {\n    /*cursor: pointer;*/\n    font-style: normal;\n    /*color: gray;*/\n    padding-right: 14px;\n    /*font-size: 13px;*/\n    user-select: none;\n\n    background: transparent;\n    border: none;\n    color: gray;\n    cursor: pointer;\n    font-size: 13px;\n    font-weight: 400;\n    line-height: 1;\n    outline: none;\n    /*padding: 4px;*/\n    text-align: center;\n    transition: opacity .3s;\n    /*width: 100%;*/\n}",
       "_esm": "function closeMsg(msgDom) {\n  if (!msgDom) {\n    return;\n  }\n  msgDom.setAttribute('data-state', 'exiting');\n  msgDom.remove();\n}\n\nfunction createMsg(options) {\n  const {message, msg_id, type = 'info', show_close = false} = options;\n  const msgDom = document.createElement('div');\n  msgDom.className += ` wui-message--${type} wui-message`;\n  msgDom.setAttribute('data-state', 'entered');\n  msgDom.setAttribute('id', msg_id);\n  const msgContent = document.createElement('p');\n  msgContent.className += ` wui-message--${type} wui-message__content`;\n  msgContent.innerText = message;\n  msgDom.appendChild(msgContent);\n  if (show_close) {\n    const closeBtn = document.createElement('i');\n    closeBtn.className += 'wui-message__closeBtn';\n    closeBtn.innerText = 'x';\n    closeBtn.addEventListener('click', (ev) => {\n      closeMsg(msgDom);\n    })\n    msgDom.appendChild(closeBtn);\n  }\n  return msgDom;\n}\n\nexport async function render(view) {\n  let model = view.model;\n  const msgRoot = view.el;\n  msgRoot.className += ' wui-message-root'\n\n  const msgContainer = document.createElement('div');\n  msgContainer.className += ' wui-message-container';\n  msgRoot.appendChild(msgContainer)\n\n  model.on(\"change:message_options\", () => {\n    const options = model.get(\"message_options\");\n    const msg = createMsg(options);\n    msgContainer.appendChild(msg);\n    const {duration = 3000} = options;\n    if (duration > 0) {\n      setTimeout(() => {\n        closeMsg(msg)\n      }, duration);\n    }\n  })\n\n  model.on(\"change:close_msg_id\", () => {\n    const msg_id = model.get(\"close_msg_id\");\n    const msgDom = document.getElementById(msg_id);\n    closeMsg(msgDom);\n  })\n}\n",
       "_model_module": "anywidget",
       "_model_module_version": "0.9.3",
       "_model_name": "AnyModel",
       "_view_module": "anywidget",
       "_view_module_version": "0.9.3",
       "_view_name": "AnyView",
       "close_msg_id": "",
       "layout": "IPY_MODEL_8b4394ac91dd473b90ad2048a495e6d7",
       "message_options": {
        "duration": 3000,
        "message": "",
        "show_close": false,
        "type": "info"
       }
      }
     },
     "e898cec378284988b92bffc14a587f76": {
      "model_module": "@jupyter-widgets/base",
      "model_module_version": "2.0.0",
      "model_name": "LayoutModel",
      "state": {
       "height": "auto",
       "width": "auto"
      }
     },
     "e8cc2e60a504444b8790f588aa0b4b79": {
      "model_module": "@jupyter-widgets/base",
      "model_module_version": "2.0.0",
      "model_name": "LayoutModel",
      "state": {
       "height": "auto",
       "width": "auto"
      }
     },
     "e8f3047720bd4ada9448ffe89f2988e0": {
      "model_module": "@jupyter-widgets/base",
      "model_module_version": "2.0.0",
      "model_name": "LayoutModel",
      "state": {}
     },
     "ea3dc42b8e67476ab4bdc39c4c6b850c": {
      "model_module": "@jupyter-widgets/controls",
      "model_module_version": "2.0.0",
      "model_name": "VBoxModel",
      "state": {
       "children": [
        "IPY_MODEL_b716d2e25a4b4a6babf6f2b44665761b",
        "IPY_MODEL_20838cee12cd44bfa8486204cd1dd81b"
       ],
       "layout": "IPY_MODEL_f3a8d51a507048ed98146f318483ae37"
      }
     },
     "eb7fcb0f92b447118e08693548c01f39": {
      "model_module": "@jupyter-widgets/base",
      "model_module_version": "2.0.0",
      "model_name": "LayoutModel",
      "state": {}
     },
     "ec63ab3b060442e2a4d2620d00e89c11": {
      "model_module": "@jupyter-widgets/base",
      "model_module_version": "2.0.0",
      "model_name": "LayoutModel",
      "state": {
       "height": "auto",
       "width": "auto"
      }
     },
     "eda554972407471aa116e9d4f6a5cbc1": {
      "model_module": "@jupyter-widgets/controls",
      "model_module_version": "2.0.0",
      "model_name": "ButtonModel",
      "state": {
       "description": "header",
       "layout": "IPY_MODEL_9864a308cbbf4138be67a019565691d0",
       "style": "IPY_MODEL_a265c11a25a045a0997d47abb5b6cffa",
       "tooltip": null
      }
     },
     "edab55880747469fa2197ca2c9e124f5": {
      "model_module": "@jupyter-widgets/base",
      "model_module_version": "2.0.0",
      "model_name": "LayoutModel",
      "state": {
       "height": "auto",
       "width": "auto"
      }
     },
     "edf23a32885344fda7292305e005cecc": {
      "model_module": "@jupyter-widgets/base",
      "model_module_version": "2.0.0",
      "model_name": "LayoutModel",
      "state": {
       "grid_template_areas": "\"header header header\"\n\"center center center\"",
       "grid_template_columns": "1fr 2fr 1fr",
       "grid_template_rows": "1fr 3fr"
      }
     },
     "efc7607f758f43978a3b0d3bb45239d1": {
      "model_module": "@jupyter-widgets/controls",
      "model_module_version": "2.0.0",
      "model_name": "VBoxModel",
      "state": {
       "children": [
        "IPY_MODEL_9cc96f8bb20a4495949f766f9a1d8d2b"
       ],
       "layout": "IPY_MODEL_f210190fecbe405e8e894c1cd80f04fd"
      }
     },
     "f0d29f468537423f94e8f7ceceb44aa6": {
      "model_module": "@jupyter-widgets/controls",
      "model_module_version": "2.0.0",
      "model_name": "VBoxModel",
      "state": {
       "children": [
        "IPY_MODEL_9781ccf094e648c88b513297cd740a99",
        "IPY_MODEL_52193057d1a449e7afcc50286d50aa20",
        "IPY_MODEL_9e1473dc0a6a4e38b0f833f251740a8c",
        "IPY_MODEL_96eab2a16b2b4e2a8a5b9f6c247013e5",
        "IPY_MODEL_407fcb34f5c242ffaae4a0c32aee1a89"
       ],
       "layout": "IPY_MODEL_8bbbb03af0014dcab14fea1a843c8891"
      }
     },
     "f0e12bc2673b4f9db05a64c5a0108459": {
      "model_module": "@jupyter-widgets/base",
      "model_module_version": "2.0.0",
      "model_name": "LayoutModel",
      "state": {
       "height": "auto",
       "width": "auto"
      }
     },
     "f152eb2aec1b4105b37795d518048e7b": {
      "model_module": "@jupyter-widgets/controls",
      "model_module_version": "2.0.0",
      "model_name": "ButtonStyleModel",
      "state": {
       "button_color": "#dbecfe",
       "font_family": null,
       "font_size": null,
       "font_style": null,
       "font_variant": null,
       "font_weight": null,
       "text_color": null,
       "text_decoration": null
      }
     },
     "f210190fecbe405e8e894c1cd80f04fd": {
      "model_module": "@jupyter-widgets/base",
      "model_module_version": "2.0.0",
      "model_name": "LayoutModel",
      "state": {
       "grid_area": "footer"
      }
     },
     "f3a2167df8b14244be18dfc56d1ec53c": {
      "model_module": "@jupyter-widgets/base",
      "model_module_version": "2.0.0",
      "model_name": "LayoutModel",
      "state": {}
     },
     "f3a8d51a507048ed98146f318483ae37": {
      "model_module": "@jupyter-widgets/base",
      "model_module_version": "2.0.0",
      "model_name": "LayoutModel",
      "state": {}
     },
     "f43a13b58ccf4e519918756eae075a42": {
      "model_module": "@jupyter-widgets/base",
      "model_module_version": "2.0.0",
      "model_name": "LayoutModel",
      "state": {
       "grid_area": "center"
      }
     },
     "f4c2fc71d628408e9a61090927af01ad": {
      "model_module": "@jupyter-widgets/base",
      "model_module_version": "2.0.0",
      "model_name": "LayoutModel",
      "state": {
       "height": "auto",
       "width": "auto"
      }
     },
     "f506525c19b34a7281657c7fe23fe552": {
      "model_module": "@jupyter-widgets/controls",
      "model_module_version": "2.0.0",
      "model_name": "ButtonStyleModel",
      "state": {
       "button_color": "#ecf5fe",
       "font_family": null,
       "font_size": null,
       "font_style": null,
       "font_variant": null,
       "font_weight": null,
       "text_color": null,
       "text_decoration": null
      }
     },
     "f5420b8922b94622ae11e489000eecbe": {
      "model_module": "@jupyter-widgets/controls",
      "model_module_version": "2.0.0",
      "model_name": "ButtonStyleModel",
      "state": {
       "button_color": "#c8e3fe",
       "font_family": null,
       "font_size": null,
       "font_style": null,
       "font_variant": null,
       "font_weight": null,
       "text_color": null,
       "text_decoration": null
      }
     },
     "f5a7296ad29241229dfcc66aa15e02af": {
      "model_module": "@jupyter-widgets/controls",
      "model_module_version": "2.0.0",
      "model_name": "VBoxModel",
      "state": {
       "children": [
        "IPY_MODEL_2bf01719373a416092939be17c7e7d60"
       ],
       "layout": "IPY_MODEL_f9c167d0775145afb4cb5950674dcafc"
      }
     },
     "f68b0335e8724fae89046a92c45e9ebe": {
      "model_module": "@jupyter-widgets/base",
      "model_module_version": "2.0.0",
      "model_name": "LayoutModel",
      "state": {
       "grid_template_areas": "\"left-sidebar center center\"",
       "grid_template_columns": "1fr 2fr 1fr",
       "grid_template_rows": "3fr"
      }
     },
     "f6a3c028e9834fea8c151eb2fad7914c": {
      "model_module": "@jupyter-widgets/base",
      "model_module_version": "2.0.0",
      "model_name": "LayoutModel",
      "state": {
       "grid_area": "header"
      }
     },
     "f712df9382994f148d2935cb523ed057": {
      "model_module": "@jupyter-widgets/controls",
      "model_module_version": "2.0.0",
      "model_name": "ButtonModel",
      "state": {
       "layout": "IPY_MODEL_0bcf92bcc9814037a86afb8886a3c09b",
       "style": "IPY_MODEL_b54c6b683ebb4e628ab434353acc80c5",
       "tooltip": null
      }
     },
     "f71412568a9447578177962d781bf5aa": {
      "model_module": "@jupyter-widgets/controls",
      "model_module_version": "2.0.0",
      "model_name": "ButtonStyleModel",
      "state": {
       "button_color": "#dbecfe",
       "font_family": null,
       "font_size": null,
       "font_style": null,
       "font_variant": null,
       "font_weight": null,
       "text_color": null,
       "text_decoration": null
      }
     },
     "f805d7d931874f9ea5d068b13971ec58": {
      "model_module": "@jupyter-widgets/base",
      "model_module_version": "2.0.0",
      "model_name": "LayoutModel",
      "state": {
       "grid_area": "center"
      }
     },
     "f85e04a43c3c4cb985ae3448212cc599": {
      "model_module": "@jupyter-widgets/controls",
      "model_module_version": "2.0.0",
      "model_name": "VBoxModel",
      "state": {
       "children": [
        "IPY_MODEL_7d05fba183e04df0b22247a91a20a330",
        "IPY_MODEL_003e736a63df40099ed23779e0b6bf8b"
       ],
       "layout": "IPY_MODEL_691ab73d4cf649468131e4d3b94eeafa"
      }
     },
     "f92f7469b7d54c538f9a2c168ce0e739": {
      "model_module": "@jupyter-widgets/controls",
      "model_module_version": "2.0.0",
      "model_name": "GridBoxModel",
      "state": {
       "children": [
        "IPY_MODEL_f5a7296ad29241229dfcc66aa15e02af",
        "IPY_MODEL_19edb405c7734fea9be9a90cd158fbc2"
       ],
       "layout": "IPY_MODEL_874a1dd035e14a1fb93133faf2dc1ed2"
      }
     },
     "f9706a3ac96c4d83853daf6d16f1c304": {
      "model_module": "@jupyter-widgets/base",
      "model_module_version": "2.0.0",
      "model_name": "LayoutModel",
      "state": {
       "height": "auto",
       "width": "auto"
      }
     },
     "f9c167d0775145afb4cb5950674dcafc": {
      "model_module": "@jupyter-widgets/base",
      "model_module_version": "2.0.0",
      "model_name": "LayoutModel",
      "state": {
       "grid_area": "footer"
      }
     },
     "f9f11474808848d0b3b4f10f3f12579f": {
      "model_module": "@jupyter-widgets/controls",
      "model_module_version": "2.0.0",
      "model_name": "ButtonModel",
      "state": {
       "layout": "IPY_MODEL_e898cec378284988b92bffc14a587f76",
       "style": "IPY_MODEL_bd8695be8fc049f8a4a82c4899d19645",
       "tooltip": null
      }
     },
     "fa54b7849abd4a84b87ad46706b03257": {
      "model_module": "@jupyter-widgets/base",
      "model_module_version": "2.0.0",
      "model_name": "LayoutModel",
      "state": {
       "height": "auto",
       "width": "auto"
      }
     },
     "fa77df2b6c8a4fa6b05aea7f0c767f06": {
      "model_module": "@jupyter-widgets/output",
      "model_module_version": "1.0.0",
      "model_name": "OutputModel",
      "state": {
       "layout": "IPY_MODEL_a980c9fdc13d48f9ae74e83aa96a01e5",
       "outputs": [
        {
         "data": {
          "application/vnd.jupyter.widget-view+json": {
           "model_id": "5288a1a3d4fd460b816c7d7de884847b",
           "version_major": 2,
           "version_minor": 0
          },
          "text/plain": "AppLayout(children=(VBox(children=(Button(description='header', layout=Layout(height='auto', width='auto'), st…"
         },
         "metadata": {},
         "output_type": "display_data"
        }
       ]
      }
     },
     "fb20cd4364904e599c1c4adf40f9eb37": {
      "model_module": "@jupyter-widgets/base",
      "model_module_version": "2.0.0",
      "model_name": "LayoutModel",
      "state": {}
     },
     "fc6f9c2291e84ab69f1180387793d680": {
      "model_module": "@jupyter-widgets/controls",
      "model_module_version": "2.0.0",
      "model_name": "ButtonModel",
      "state": {
       "layout": "IPY_MODEL_cdc4693c03474cca94f64a0c0e1d0d9f",
       "style": "IPY_MODEL_c2eaf6082fbf487dbdf19495f27e9bc4",
       "tooltip": null
      }
     },
     "fd3551a75d1543f79343dcaedb0de694": {
      "model_module": "@jupyter-widgets/base",
      "model_module_version": "2.0.0",
      "model_name": "LayoutModel",
      "state": {
       "height": "auto",
       "width": "auto"
      }
     },
     "fea01bf782ba473f86a23273eff62484": {
      "model_module": "@jupyter-widgets/controls",
      "model_module_version": "2.0.0",
      "model_name": "VBoxModel",
      "state": {
       "children": [
        "IPY_MODEL_abfae09070954319a4b51a80a82f8990",
        "IPY_MODEL_03aff781fd54486ab2a4ca36715a9294"
       ],
       "layout": "IPY_MODEL_780b6489c1b542ce96fe19bf1f9659f1"
      }
     },
     "ff29a48c1a4a4675986c57f26c126181": {
      "model_module": "@jupyter-widgets/base",
      "model_module_version": "2.0.0",
      "model_name": "LayoutModel",
      "state": {
       "grid_template_areas": "\"header header header\"\n\"left-sidebar center center\"",
       "grid_template_columns": "1fr 2fr 1fr",
       "grid_template_rows": "1fr 3fr"
      }
     },
     "ff9d4364b14349788a0b7f7147206033": {
      "model_module": "@jupyter-widgets/base",
      "model_module_version": "2.0.0",
      "model_name": "LayoutModel",
      "state": {}
     }
    },
    "version_major": 2,
    "version_minor": 0
   }
  }
 },
 "nbformat": 4,
 "nbformat_minor": 5
}
