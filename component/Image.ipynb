{
 "cells": [
  {
   "cell_type": "markdown",
   "id": "a1e2fa29-7566-4426-be1e-a750658d83a5",
   "metadata": {},
   "source": [
    "# Image 图片\n",
    "\n",
    "图片容器，用于显示图片"
   ]
  },
  {
   "cell_type": "markdown",
   "id": "7cdc5e8c-2aa8-41d1-9461-3e451f6ef6ea",
   "metadata": {},
   "source": [
    "## 基础用法"
   ]
  },
  {
   "cell_type": "code",
   "execution_count": 5,
   "id": "f5928b17-e8c8-47b0-9774-a8bb1f7e6af3",
   "metadata": {},
   "outputs": [
    {
     "name": "stdout",
     "output_type": "stream",
     "text": [
      "{\"vue\": \"<template>\\n  <Image v-model=\\\"img.value\\\" format=\\\"png\\\"></Image>\\n</template>\\n\\n<script src=\\\"./basic_setup.py\\\"></script>\\n<script setup>\\nimport Image from \\\"../../../src/ipywui/components/Image\\\";\\n</script>\", \"setup\": \"from vuepy import ref\\n\\n\\ndef setup(props, ctx, vm):\\n    file = open(\\\"jupyter_logo.png\\\", \\\"rb\\\")\\n    img = ref(file.read())\\n\\n    return locals()\\n\"}\n"
     ]
    },
    {
     "data": {
      "application/vnd.jupyter.widget-view+json": {
       "model_id": "6a5b4c5cc4004523b2b02c02d7f4ae5b",
       "version_major": 2,
       "version_minor": 0
      },
      "text/plain": [
       "Document(children=(Dom(children=(MessageWidget(message_options={'message': '', 'type': 'info', 'show_close': F…"
      ]
     },
     "execution_count": 5,
     "metadata": {},
     "output_type": "execute_result"
    }
   ],
   "source": [
    "import os\n",
    "import pathlib\n",
    "from vuepy.utils import magic\n",
    "\n",
    "cur_path = pathlib.Path()\n",
    "source_root = cur_path.absolute().parent.parent.parent\n",
    "os.chdir(source_root / 'examples' / 'ipywui' / 'image')\n",
    "\n",
    "%vuepy_demo basic.vue"
   ]
  },
  {
   "cell_type": "markdown",
   "id": "8685d144-029f-4afa-8547-4f3d84529504",
   "metadata": {},
   "source": [
    "## API\n",
    "\n",
    "### 属性\n",
    "\n",
    "| 属性名        | 说明                 | 类型                                                           | 默认值 |\n",
    "| --------     | ------------------- | ---------------------------------------------------------------| ------- |\n",
    "| v-model/value | 绑定值，图片二进制数据 | ^[bytes]                                                         | —       |\n",
    "| format | 图片格式 | ^[str]                                                         | png      |\n",
    "| width | 图片的宽 | ^[int]                                                         | -      |\n",
    "| height | 图片的高 | ^[int]                                                         | -      |\n",
    "\n",
    "### 方法\n",
    "\n",
    "| 属性名 | 说明 | 类型 |\n",
    "| --- | --- | --- |\n"
   ]
  }
 ],
 "metadata": {
  "kernelspec": {
   "display_name": "Python 3 (ipykernel)",
   "language": "python",
   "name": "python3"
  },
  "language_info": {
   "codemirror_mode": {
    "name": "ipython",
    "version": 3
   },
   "file_extension": ".py",
   "mimetype": "text/x-python",
   "name": "python",
   "nbconvert_exporter": "python",
   "pygments_lexer": "ipython3",
   "version": "3.10.12"
  },
  "widgets": {
   "application/vnd.jupyter.widget-state+json": {
    "state": {
     "019cb9cf17764ca6ad6fccf2573283eb": {
      "model_module": "@jupyter-widgets/controls",
      "model_module_version": "2.0.0",
      "model_name": "VBoxModel",
      "state": {
       "children": [
        "IPY_MODEL_e16f6498c12f4424bea4fb7487aa22d1",
        "IPY_MODEL_bff4d75a888b4536b7ef7b16aec9da22"
       ],
       "layout": "IPY_MODEL_a9a86e37193a4d25b22f9ad1f8d03083"
      }
     },
     "1345222aa52948a49fa837ad2e2d40c3": {
      "model_module": "@jupyter-widgets/base",
      "model_module_version": "2.0.0",
      "model_name": "LayoutModel",
      "state": {}
     },
     "18290ab27d354ff38366bcfc107b3f2f": {
      "model_module": "@jupyter-widgets/controls",
      "model_module_version": "2.0.0",
      "model_name": "VBoxModel",
      "state": {
       "children": [
        "IPY_MODEL_c59d34b9d48341e8bb212d3328602a83",
        "IPY_MODEL_7406fcf4505344fb82ae32c4232dae03"
       ],
       "layout": "IPY_MODEL_e445a92fe888418194be32ad89e5c3e1"
      }
     },
     "1af68a65e1e345418637e6be11187937": {
      "model_module": "@jupyter-widgets/controls",
      "model_module_version": "2.0.0",
      "model_name": "VBoxModel",
      "state": {
       "children": [
        "IPY_MODEL_1f588e2ebd614c7da4272a75fc43fe08"
       ],
       "layout": "IPY_MODEL_dc88aead0b544747a5c326b929b08ce5"
      }
     },
     "1f588e2ebd614c7da4272a75fc43fe08": {
      "model_module": "@jupyter-widgets/controls",
      "model_module_version": "2.0.0",
      "model_name": "VBoxModel",
      "state": {
       "children": [
        "IPY_MODEL_625630454a41491b92020351aaf3b1f6",
        "IPY_MODEL_d1f05a395dee4962b35106e14aa9302e"
       ],
       "layout": "IPY_MODEL_c5983a90dbf642df9fa53ab2bf76d76f"
      }
     },
     "22a0805540a24b2c9ca085846273cf0b": {
      "model_module": "anywidget",
      "model_module_version": "0.9.3",
      "model_name": "AnyModel",
      "state": {
       "_anywidget_id": "ipywui.widgets.custom.message.MessageWidget",
       "_css": ".wui-message-root {\n    display: flex;\n    position: absolute;\n    left: 0;\n    right: 0;\n    top: 0;\n}\n\n.wui-message-container {\n    align-items: center;\n    display: flex;\n    flex-direction: column-reverse;\n    justify-content: center;\n    min-height: 100%;\n    outline: none;\n    width: 100%;\n\n    -webkit-tap-highlight-color: rgba(0,0,0,0);\n    bottom: 0;\n    left: 0;\n    right: 0;\n    top: 0;\n}\n\n.wui-message--success {\n    --wui-message-bg-color: #f0f9eb;\n    --wui-message-border-color: #e1f3d8;\n    --wui-message-text-color: #67c23a;\n}\n.wui-message--warning {\n    --wui-message-bg-color: #fdf6ec;\n    --wui-message-border-color: #faecd8;\n    --wui-message-text-color: #e6a23c;\n}\n.wui-message--info {\n    --wui-message-bg-color: #f4f4f5;\n    --wui-message-border-color: #e9e9eb;\n    --wui-message-text-color: #909399;\n}\n.wui-message--error {\n    --wui-message-bg-color: #fef0f0;\n    --wui-message-border-color: #fde2e2;\n    --wui-message-text-color: #f56c6c;\n}\n\n@keyframes msg-open {\n    0% {\n        opacity: 0;\n        -webkit-transform: translateY(-120%);\n        transform: translateY(-120%)\n    }\n    to {\n        -webkit-transform: translateY(0);\n        transform: translateY(0)\n    }\n}\n\n@keyframes msg-close {\n    0% {\n        opacity: 1;\n        -webkit-transform: scale(1);\n        transform: scale(1)\n    }\n    to {\n        opacity: 0;\n        -webkit-transform: scale(.9);\n        transform: scale(.9)\n    }\n}\n.wui-message[data-state=entered],.wui-message[data-state=entering] {\n    -webkit-animation: msg-open .24s cubic-bezier(.175,.885,.32,1.175) both;\n    animation: msg-open .24s cubic-bezier(.175,.885,.32,1.175) both\n}\n\n.wui-message[data-state=exiting] {\n    -webkit-animation: msg-close .12s cubic-bezier(.4,0,1,1) both;\n    animation: msg-close .12s cubic-bezier(.4,0,1,1) both\n}\n\n.wui-message {\n    width: -webkit-fit-content;\n    width: -moz-fit-content;\n    width: fit-content;\n    z-index: 2004;\n    max-width: calc(100% - 32px);\n    margin-top: 8px;\n    box-sizing: border-box;\n    /*border-radius: var(--wui-border-radius-base);*/\n    /*border-width: var(--wui-border-width);*/\n    /*border-style: var(--wui-border-style);*/\n    border-color: var(--wui-message-border-color);\n    /*left: 50%;*/\n    /*top: 20px;*/\n    /*transform: translateX(-50%);*/\n    background-color: var(--wui-message-bg-color);\n    /*transition: opacity var(--wui-transition-duration),transform .4s,top .4s;*/\n    /*padding: var(--wui-message-padding);*/\n    display: flex;\n    align-items: center;\n}\n\n/*.wui-message--success */\n.wui-message__content {\n    color: var(--wui-message-text-color);\n    font-size: 14px;\n    line-height: 18px;\n    margin: 10px 14px 10px 14px;\n    overflow-wrap: break-word;\n}\n\n.wui-message__closeBtn {\n    /*cursor: pointer;*/\n    font-style: normal;\n    /*color: gray;*/\n    padding-right: 14px;\n    /*font-size: 13px;*/\n    user-select: none;\n\n    background: transparent;\n    border: none;\n    color: gray;\n    cursor: pointer;\n    font-size: 13px;\n    font-weight: 400;\n    line-height: 1;\n    outline: none;\n    /*padding: 4px;*/\n    text-align: center;\n    transition: opacity .3s;\n    /*width: 100%;*/\n}",
       "_esm": "function closeMsg(msgDom) {\n  if (!msgDom) {\n    return;\n  }\n  msgDom.setAttribute('data-state', 'exiting');\n  msgDom.remove();\n}\n\nfunction createMsg(options) {\n  const {message, msg_id, type = 'info', show_close = false} = options;\n  const msgDom = document.createElement('div');\n  msgDom.className += ` wui-message--${type} wui-message`;\n  msgDom.setAttribute('data-state', 'entered');\n  msgDom.setAttribute('id', msg_id);\n  const msgContent = document.createElement('p');\n  msgContent.className += ` wui-message--${type} wui-message__content`;\n  msgContent.innerText = message;\n  msgDom.appendChild(msgContent);\n  if (show_close) {\n    const closeBtn = document.createElement('i');\n    closeBtn.className += 'wui-message__closeBtn';\n    closeBtn.innerText = 'x';\n    closeBtn.addEventListener('click', (ev) => {\n      closeMsg(msgDom);\n    })\n    msgDom.appendChild(closeBtn);\n  }\n  return msgDom;\n}\n\nexport async function render(view) {\n  let model = view.model;\n  const msgRoot = view.el;\n  msgRoot.className += ' wui-message-root'\n\n  const msgContainer = document.createElement('div');\n  msgContainer.className += ' wui-message-container';\n  msgRoot.appendChild(msgContainer)\n\n  model.on(\"change:message_options\", () => {\n    const options = model.get(\"message_options\");\n    const msg = createMsg(options);\n    msgContainer.appendChild(msg);\n    const {duration = 3000} = options;\n    if (duration > 0) {\n      setTimeout(() => {\n        closeMsg(msg)\n      }, duration);\n    }\n  })\n\n  model.on(\"change:close_msg_id\", () => {\n    const msg_id = model.get(\"close_msg_id\");\n    const msgDom = document.getElementById(msg_id);\n    closeMsg(msgDom);\n  })\n}\n",
       "_model_module": "anywidget",
       "_model_module_version": "0.9.3",
       "_model_name": "AnyModel",
       "_view_module": "anywidget",
       "_view_module_version": "0.9.3",
       "_view_name": "AnyView",
       "close_msg_id": "",
       "layout": "IPY_MODEL_e135d70003fc464ea78adb3bc8bd4629",
       "message_options": {
        "duration": 3000,
        "message": "",
        "show_close": false,
        "type": "info"
       }
      }
     },
     "28ac51f85868485f9b450a1322fb7973": {
      "model_module": "@jupyter-widgets/base",
      "model_module_version": "2.0.0",
      "model_name": "LayoutModel",
      "state": {}
     },
     "2b5704beba5f4ea9ab443eb98af0815e": {
      "model_module": "@jupyter-widgets/controls",
      "model_module_version": "2.0.0",
      "model_name": "VBoxModel",
      "state": {
       "children": [
        "IPY_MODEL_d412f4acd2cb4d5ba2d80eb126f23594",
        "IPY_MODEL_ce8a50663a37493485fb29551269a720"
       ],
       "layout": "IPY_MODEL_87797e38b7e84250913310d25777bd12"
      }
     },
     "324528d4c17f403487da6e538b0c7776": {
      "buffers": [
       {
        "data": "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",
        "encoding": "base64",
        "path": [
         "value"
        ]
       }
      ],
      "model_module": "@jupyter-widgets/controls",
      "model_module_version": "2.0.0",
      "model_name": "ImageModel",
      "state": {
       "layout": "IPY_MODEL_b67e45bf9d1a45e585c7c0f2cead36cc"
      }
     },
     "389d37f8869e45e6a4be4ff9ad993f99": {
      "model_module": "@jupyter-widgets/base",
      "model_module_version": "2.0.0",
      "model_name": "LayoutModel",
      "state": {}
     },
     "47b0ea27ae9b490a84d501a60ece3934": {
      "model_module": "@jupyter-widgets/base",
      "model_module_version": "2.0.0",
      "model_name": "LayoutModel",
      "state": {}
     },
     "4a60f6a3d4644c528c4b613f2dbe31c1": {
      "model_module": "@jupyter-widgets/base",
      "model_module_version": "2.0.0",
      "model_name": "LayoutModel",
      "state": {}
     },
     "4b92c691a7bf4ff7bd01da93e8c25157": {
      "model_module": "@jupyter-widgets/output",
      "model_module_version": "1.0.0",
      "model_name": "OutputModel",
      "state": {
       "layout": "IPY_MODEL_70aa296dc4664725af110095d105cf46"
      }
     },
     "4ca037d784b7452994b000406521c1ea": {
      "buffers": [
       {
        "data": "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",
        "encoding": "base64",
        "path": [
         "value"
        ]
       }
      ],
      "model_module": "@jupyter-widgets/controls",
      "model_module_version": "2.0.0",
      "model_name": "ImageModel",
      "state": {
       "layout": "IPY_MODEL_60963a005b7642138bd5bb35799c13e4"
      }
     },
     "53ec685b9da742f38ebac68a72e4268d": {
      "model_module": "anywidget",
      "model_module_version": "0.9.3",
      "model_name": "AnyModel",
      "state": {
       "_anywidget_id": "ipywui.widgets.custom.message.MessageWidget",
       "_css": ".wui-message-root {\n    display: flex;\n    position: absolute;\n    left: 0;\n    right: 0;\n    top: 0;\n}\n\n.wui-message-container {\n    align-items: center;\n    display: flex;\n    flex-direction: column-reverse;\n    justify-content: center;\n    min-height: 100%;\n    outline: none;\n    width: 100%;\n\n    -webkit-tap-highlight-color: rgba(0,0,0,0);\n    bottom: 0;\n    left: 0;\n    right: 0;\n    top: 0;\n}\n\n.wui-message--success {\n    --wui-message-bg-color: #f0f9eb;\n    --wui-message-border-color: #e1f3d8;\n    --wui-message-text-color: #67c23a;\n}\n.wui-message--warning {\n    --wui-message-bg-color: #fdf6ec;\n    --wui-message-border-color: #faecd8;\n    --wui-message-text-color: #e6a23c;\n}\n.wui-message--info {\n    --wui-message-bg-color: #f4f4f5;\n    --wui-message-border-color: #e9e9eb;\n    --wui-message-text-color: #909399;\n}\n.wui-message--error {\n    --wui-message-bg-color: #fef0f0;\n    --wui-message-border-color: #fde2e2;\n    --wui-message-text-color: #f56c6c;\n}\n\n@keyframes msg-open {\n    0% {\n        opacity: 0;\n        -webkit-transform: translateY(-120%);\n        transform: translateY(-120%)\n    }\n    to {\n        -webkit-transform: translateY(0);\n        transform: translateY(0)\n    }\n}\n\n@keyframes msg-close {\n    0% {\n        opacity: 1;\n        -webkit-transform: scale(1);\n        transform: scale(1)\n    }\n    to {\n        opacity: 0;\n        -webkit-transform: scale(.9);\n        transform: scale(.9)\n    }\n}\n.wui-message[data-state=entered],.wui-message[data-state=entering] {\n    -webkit-animation: msg-open .24s cubic-bezier(.175,.885,.32,1.175) both;\n    animation: msg-open .24s cubic-bezier(.175,.885,.32,1.175) both\n}\n\n.wui-message[data-state=exiting] {\n    -webkit-animation: msg-close .12s cubic-bezier(.4,0,1,1) both;\n    animation: msg-close .12s cubic-bezier(.4,0,1,1) both\n}\n\n.wui-message {\n    width: -webkit-fit-content;\n    width: -moz-fit-content;\n    width: fit-content;\n    z-index: 2004;\n    max-width: calc(100% - 32px);\n    margin-top: 8px;\n    box-sizing: border-box;\n    /*border-radius: var(--wui-border-radius-base);*/\n    /*border-width: var(--wui-border-width);*/\n    /*border-style: var(--wui-border-style);*/\n    border-color: var(--wui-message-border-color);\n    /*left: 50%;*/\n    /*top: 20px;*/\n    /*transform: translateX(-50%);*/\n    background-color: var(--wui-message-bg-color);\n    /*transition: opacity var(--wui-transition-duration),transform .4s,top .4s;*/\n    /*padding: var(--wui-message-padding);*/\n    display: flex;\n    align-items: center;\n}\n\n/*.wui-message--success */\n.wui-message__content {\n    color: var(--wui-message-text-color);\n    font-size: 14px;\n    line-height: 18px;\n    margin: 10px 14px 10px 14px;\n    overflow-wrap: break-word;\n}\n\n.wui-message__closeBtn {\n    /*cursor: pointer;*/\n    font-style: normal;\n    /*color: gray;*/\n    padding-right: 14px;\n    /*font-size: 13px;*/\n    user-select: none;\n\n    background: transparent;\n    border: none;\n    color: gray;\n    cursor: pointer;\n    font-size: 13px;\n    font-weight: 400;\n    line-height: 1;\n    outline: none;\n    /*padding: 4px;*/\n    text-align: center;\n    transition: opacity .3s;\n    /*width: 100%;*/\n}",
       "_esm": "function closeMsg(msgDom) {\n  if (!msgDom) {\n    return;\n  }\n  msgDom.setAttribute('data-state', 'exiting');\n  msgDom.remove();\n}\n\nfunction createMsg(options) {\n  const {message, msg_id, type = 'info', show_close = false} = options;\n  const msgDom = document.createElement('div');\n  msgDom.className += ` wui-message--${type} wui-message`;\n  msgDom.setAttribute('data-state', 'entered');\n  msgDom.setAttribute('id', msg_id);\n  const msgContent = document.createElement('p');\n  msgContent.className += ` wui-message--${type} wui-message__content`;\n  msgContent.innerText = message;\n  msgDom.appendChild(msgContent);\n  if (show_close) {\n    const closeBtn = document.createElement('i');\n    closeBtn.className += 'wui-message__closeBtn';\n    closeBtn.innerText = 'x';\n    closeBtn.addEventListener('click', (ev) => {\n      closeMsg(msgDom);\n    })\n    msgDom.appendChild(closeBtn);\n  }\n  return msgDom;\n}\n\nexport async function render(view) {\n  let model = view.model;\n  const msgRoot = view.el;\n  msgRoot.className += ' wui-message-root'\n\n  const msgContainer = document.createElement('div');\n  msgContainer.className += ' wui-message-container';\n  msgRoot.appendChild(msgContainer)\n\n  model.on(\"change:message_options\", () => {\n    const options = model.get(\"message_options\");\n    const msg = createMsg(options);\n    msgContainer.appendChild(msg);\n    const {duration = 3000} = options;\n    if (duration > 0) {\n      setTimeout(() => {\n        closeMsg(msg)\n      }, duration);\n    }\n  })\n\n  model.on(\"change:close_msg_id\", () => {\n    const msg_id = model.get(\"close_msg_id\");\n    const msgDom = document.getElementById(msg_id);\n    closeMsg(msgDom);\n  })\n}\n",
       "_model_module": "anywidget",
       "_model_module_version": "0.9.3",
       "_model_name": "AnyModel",
       "_view_module": "anywidget",
       "_view_module_version": "0.9.3",
       "_view_name": "AnyView",
       "close_msg_id": "",
       "layout": "IPY_MODEL_6fa6aae1baad4d7c826dac0ed7e4efbf",
       "message_options": {
        "duration": 3000,
        "message": "",
        "show_close": false,
        "type": "info"
       }
      }
     },
     "5c5d2d5302d64ad19323a995ad1af8ba": {
      "model_module": "@jupyter-widgets/base",
      "model_module_version": "2.0.0",
      "model_name": "LayoutModel",
      "state": {}
     },
     "5e828d10073d45fea67003f9575f171c": {
      "model_module": "@jupyter-widgets/base",
      "model_module_version": "2.0.0",
      "model_name": "LayoutModel",
      "state": {}
     },
     "60963a005b7642138bd5bb35799c13e4": {
      "model_module": "@jupyter-widgets/base",
      "model_module_version": "2.0.0",
      "model_name": "LayoutModel",
      "state": {}
     },
     "625630454a41491b92020351aaf3b1f6": {
      "model_module": "anywidget",
      "model_module_version": "0.9.3",
      "model_name": "AnyModel",
      "state": {
       "_anywidget_id": "ipywui.widgets.custom.message.MessageWidget",
       "_css": ".wui-message-root {\n    display: flex;\n    position: absolute;\n    left: 0;\n    right: 0;\n    top: 0;\n}\n\n.wui-message-container {\n    align-items: center;\n    display: flex;\n    flex-direction: column-reverse;\n    justify-content: center;\n    min-height: 100%;\n    outline: none;\n    width: 100%;\n\n    -webkit-tap-highlight-color: rgba(0,0,0,0);\n    bottom: 0;\n    left: 0;\n    right: 0;\n    top: 0;\n}\n\n.wui-message--success {\n    --wui-message-bg-color: #f0f9eb;\n    --wui-message-border-color: #e1f3d8;\n    --wui-message-text-color: #67c23a;\n}\n.wui-message--warning {\n    --wui-message-bg-color: #fdf6ec;\n    --wui-message-border-color: #faecd8;\n    --wui-message-text-color: #e6a23c;\n}\n.wui-message--info {\n    --wui-message-bg-color: #f4f4f5;\n    --wui-message-border-color: #e9e9eb;\n    --wui-message-text-color: #909399;\n}\n.wui-message--error {\n    --wui-message-bg-color: #fef0f0;\n    --wui-message-border-color: #fde2e2;\n    --wui-message-text-color: #f56c6c;\n}\n\n@keyframes msg-open {\n    0% {\n        opacity: 0;\n        -webkit-transform: translateY(-120%);\n        transform: translateY(-120%)\n    }\n    to {\n        -webkit-transform: translateY(0);\n        transform: translateY(0)\n    }\n}\n\n@keyframes msg-close {\n    0% {\n        opacity: 1;\n        -webkit-transform: scale(1);\n        transform: scale(1)\n    }\n    to {\n        opacity: 0;\n        -webkit-transform: scale(.9);\n        transform: scale(.9)\n    }\n}\n.wui-message[data-state=entered],.wui-message[data-state=entering] {\n    -webkit-animation: msg-open .24s cubic-bezier(.175,.885,.32,1.175) both;\n    animation: msg-open .24s cubic-bezier(.175,.885,.32,1.175) both\n}\n\n.wui-message[data-state=exiting] {\n    -webkit-animation: msg-close .12s cubic-bezier(.4,0,1,1) both;\n    animation: msg-close .12s cubic-bezier(.4,0,1,1) both\n}\n\n.wui-message {\n    width: -webkit-fit-content;\n    width: -moz-fit-content;\n    width: fit-content;\n    z-index: 2004;\n    max-width: calc(100% - 32px);\n    margin-top: 8px;\n    box-sizing: border-box;\n    /*border-radius: var(--wui-border-radius-base);*/\n    /*border-width: var(--wui-border-width);*/\n    /*border-style: var(--wui-border-style);*/\n    border-color: var(--wui-message-border-color);\n    /*left: 50%;*/\n    /*top: 20px;*/\n    /*transform: translateX(-50%);*/\n    background-color: var(--wui-message-bg-color);\n    /*transition: opacity var(--wui-transition-duration),transform .4s,top .4s;*/\n    /*padding: var(--wui-message-padding);*/\n    display: flex;\n    align-items: center;\n}\n\n/*.wui-message--success */\n.wui-message__content {\n    color: var(--wui-message-text-color);\n    font-size: 14px;\n    line-height: 18px;\n    margin: 10px 14px 10px 14px;\n    overflow-wrap: break-word;\n}\n\n.wui-message__closeBtn {\n    /*cursor: pointer;*/\n    font-style: normal;\n    /*color: gray;*/\n    padding-right: 14px;\n    /*font-size: 13px;*/\n    user-select: none;\n\n    background: transparent;\n    border: none;\n    color: gray;\n    cursor: pointer;\n    font-size: 13px;\n    font-weight: 400;\n    line-height: 1;\n    outline: none;\n    /*padding: 4px;*/\n    text-align: center;\n    transition: opacity .3s;\n    /*width: 100%;*/\n}",
       "_esm": "function closeMsg(msgDom) {\n  if (!msgDom) {\n    return;\n  }\n  msgDom.setAttribute('data-state', 'exiting');\n  msgDom.remove();\n}\n\nfunction createMsg(options) {\n  const {message, msg_id, type = 'info', show_close = false} = options;\n  const msgDom = document.createElement('div');\n  msgDom.className += ` wui-message--${type} wui-message`;\n  msgDom.setAttribute('data-state', 'entered');\n  msgDom.setAttribute('id', msg_id);\n  const msgContent = document.createElement('p');\n  msgContent.className += ` wui-message--${type} wui-message__content`;\n  msgContent.innerText = message;\n  msgDom.appendChild(msgContent);\n  if (show_close) {\n    const closeBtn = document.createElement('i');\n    closeBtn.className += 'wui-message__closeBtn';\n    closeBtn.innerText = 'x';\n    closeBtn.addEventListener('click', (ev) => {\n      closeMsg(msgDom);\n    })\n    msgDom.appendChild(closeBtn);\n  }\n  return msgDom;\n}\n\nexport async function render(view) {\n  let model = view.model;\n  const msgRoot = view.el;\n  msgRoot.className += ' wui-message-root'\n\n  const msgContainer = document.createElement('div');\n  msgContainer.className += ' wui-message-container';\n  msgRoot.appendChild(msgContainer)\n\n  model.on(\"change:message_options\", () => {\n    const options = model.get(\"message_options\");\n    const msg = createMsg(options);\n    msgContainer.appendChild(msg);\n    const {duration = 3000} = options;\n    if (duration > 0) {\n      setTimeout(() => {\n        closeMsg(msg)\n      }, duration);\n    }\n  })\n\n  model.on(\"change:close_msg_id\", () => {\n    const msg_id = model.get(\"close_msg_id\");\n    const msgDom = document.getElementById(msg_id);\n    closeMsg(msgDom);\n  })\n}\n",
       "_model_module": "anywidget",
       "_model_module_version": "0.9.3",
       "_model_name": "AnyModel",
       "_view_module": "anywidget",
       "_view_module_version": "0.9.3",
       "_view_name": "AnyView",
       "close_msg_id": "",
       "layout": "IPY_MODEL_4a60f6a3d4644c528c4b613f2dbe31c1",
       "message_options": {
        "duration": 3000,
        "message": "",
        "show_close": false,
        "type": "info"
       }
      }
     },
     "6764cd85d312498e826001fd2b2d240e": {
      "model_module": "@jupyter-widgets/base",
      "model_module_version": "2.0.0",
      "model_name": "LayoutModel",
      "state": {}
     },
     "6a5b4c5cc4004523b2b02c02d7f4ae5b": {
      "model_module": "@jupyter-widgets/controls",
      "model_module_version": "2.0.0",
      "model_name": "VBoxModel",
      "state": {
       "children": [
        "IPY_MODEL_019cb9cf17764ca6ad6fccf2573283eb"
       ],
       "layout": "IPY_MODEL_e14a09afceaa4bd48c63498ce1d2a573"
      }
     },
     "6edb2046a72b44b3a30c4dd784ddd679": {
      "model_module": "@jupyter-widgets/base",
      "model_module_version": "2.0.0",
      "model_name": "LayoutModel",
      "state": {}
     },
     "6fa6aae1baad4d7c826dac0ed7e4efbf": {
      "model_module": "@jupyter-widgets/base",
      "model_module_version": "2.0.0",
      "model_name": "LayoutModel",
      "state": {}
     },
     "70aa296dc4664725af110095d105cf46": {
      "model_module": "@jupyter-widgets/base",
      "model_module_version": "2.0.0",
      "model_name": "LayoutModel",
      "state": {}
     },
     "7406fcf4505344fb82ae32c4232dae03": {
      "model_module": "@jupyter-widgets/output",
      "model_module_version": "1.0.0",
      "model_name": "OutputModel",
      "state": {
       "layout": "IPY_MODEL_389d37f8869e45e6a4be4ff9ad993f99",
       "outputs": [
        {
         "ename": "TraitError",
         "evalue": "The 'value' trait of an Image instance expected a memory view object, not the str 'https://upload.wikimedia.org/wikipedia/commons/thumb/3/38/Jupyter_logo.svg/207px-Jupyter_logo.svg.png'.",
         "output_type": "error",
         "traceback": [
          "\u001B[0;31m---------------------------------------------------------------------------\u001B[0m",
          "\u001B[0;31mTypeError\u001B[0m                                 Traceback (most recent call last)",
          "File \u001B[0;32m~/miniforge3/envs/textgen/lib/python3.10/site-packages/ipywidgets/widgets/trait_types.py:290\u001B[0m, in \u001B[0;36mCByteMemoryView.validate\u001B[0;34m(self, obj, value)\u001B[0m\n\u001B[1;32m    289\u001B[0m \u001B[38;5;28;01mtry\u001B[39;00m:\n\u001B[0;32m--> 290\u001B[0m     mv \u001B[38;5;241m=\u001B[39m \u001B[38;5;28;43mmemoryview\u001B[39;49m\u001B[43m(\u001B[49m\u001B[43mvalue\u001B[49m\u001B[43m)\u001B[49m\n\u001B[1;32m    291\u001B[0m     \u001B[38;5;28;01mif\u001B[39;00m mv\u001B[38;5;241m.\u001B[39mformat \u001B[38;5;241m!=\u001B[39m \u001B[38;5;124m'\u001B[39m\u001B[38;5;124mB\u001B[39m\u001B[38;5;124m'\u001B[39m:\n",
          "\u001B[0;31mTypeError\u001B[0m: memoryview: a bytes-like object is required, not 'str'",
          "\nDuring handling of the above exception, another exception occurred:\n",
          "\u001B[0;31mTraitError\u001B[0m                                Traceback (most recent call last)",
          "File \u001B[0;32m~/proj/bb/url2io.com/open_sesame/nb_llm/pyvue/src/vuepy/vue.py:1162\u001B[0m, in \u001B[0;36mVue.render\u001B[0;34m(self)\u001B[0m\n\u001B[1;32m   1160\u001B[0m     \u001B[38;5;28mself\u001B[39m\u001B[38;5;241m.\u001B[39mdom \u001B[38;5;241m=\u001B[39m \u001B[38;5;28mself\u001B[39m\u001B[38;5;241m.\u001B[39moptions\u001B[38;5;241m.\u001B[39mtemplate(\u001B[38;5;28mself\u001B[39m)\n\u001B[1;32m   1161\u001B[0m \u001B[38;5;28;01melse\u001B[39;00m:\n\u001B[0;32m-> 1162\u001B[0m     \u001B[38;5;28mself\u001B[39m\u001B[38;5;241m.\u001B[39mdom \u001B[38;5;241m=\u001B[39m \u001B[38;5;28;43mself\u001B[39;49m\u001B[38;5;241;43m.\u001B[39;49m\u001B[43m_compile_template\u001B[49m\u001B[43m(\u001B[49m\u001B[38;5;28;43mself\u001B[39;49m\u001B[38;5;241;43m.\u001B[39;49m\u001B[43moptions\u001B[49m\u001B[38;5;241;43m.\u001B[39;49m\u001B[43mtemplate\u001B[49m\u001B[43m)\u001B[49m\n\u001B[1;32m   1163\u001B[0m clear_output(\u001B[38;5;28;01mTrue\u001B[39;00m)\n\u001B[1;32m   1164\u001B[0m display(\u001B[38;5;28mself\u001B[39m\u001B[38;5;241m.\u001B[39mdom)\n",
          "File \u001B[0;32m~/proj/bb/url2io.com/open_sesame/nb_llm/pyvue/src/vuepy/vue.py:1149\u001B[0m, in \u001B[0;36mVue._compile_template\u001B[0;34m(self, template)\u001B[0m\n\u001B[1;32m   1147\u001B[0m \u001B[38;5;28;01mdef\u001B[39;00m \u001B[38;5;21m_compile_template\u001B[39m(\u001B[38;5;28mself\u001B[39m, template):\n\u001B[1;32m   1148\u001B[0m     vue_template \u001B[38;5;241m=\u001B[39m VueTemplate(\u001B[38;5;28mself\u001B[39m)\n\u001B[0;32m-> 1149\u001B[0m     \u001B[38;5;28;01mreturn\u001B[39;00m \u001B[43mvue_template\u001B[49m\u001B[38;5;241;43m.\u001B[39;49m\u001B[43mcompile\u001B[49m\u001B[43m(\u001B[49m\u001B[43mtemplate\u001B[49m\u001B[43m)\u001B[49m\n",
          "File \u001B[0;32m~/proj/bb/url2io.com/open_sesame/nb_llm/pyvue/src/vuepy/vue.py:1029\u001B[0m, in \u001B[0;36mVueTemplate.compile\u001B[0;34m(self, html)\u001B[0m\n\u001B[1;32m   1028\u001B[0m \u001B[38;5;28;01mdef\u001B[39;00m \u001B[38;5;21mcompile\u001B[39m(\u001B[38;5;28mself\u001B[39m, html):\n\u001B[0;32m-> 1029\u001B[0m     \u001B[38;5;28;43mself\u001B[39;49m\u001B[38;5;241;43m.\u001B[39;49m\u001B[43mfeed\u001B[49m\u001B[43m(\u001B[49m\u001B[43mhtml\u001B[49m\u001B[43m)\u001B[49m\n\u001B[1;32m   1030\u001B[0m     \u001B[38;5;28;01mif\u001B[39;00m \u001B[38;5;28mlen\u001B[39m(\u001B[38;5;28mself\u001B[39m\u001B[38;5;241m.\u001B[39mwidgets) \u001B[38;5;241m==\u001B[39m \u001B[38;5;241m1\u001B[39m:\n\u001B[1;32m   1031\u001B[0m         \u001B[38;5;28;01mreturn\u001B[39;00m \u001B[38;5;28mself\u001B[39m\u001B[38;5;241m.\u001B[39mwidgets[\u001B[38;5;241m0\u001B[39m]\n",
          "File \u001B[0;32m~/miniforge3/envs/textgen/lib/python3.10/html/parser.py:110\u001B[0m, in \u001B[0;36mHTMLParser.feed\u001B[0;34m(self, data)\u001B[0m\n\u001B[1;32m    104\u001B[0m \u001B[38;5;250m\u001B[39m\u001B[38;5;124mr\u001B[39m\u001B[38;5;124;03m\"\"\"Feed data to the parser.\u001B[39;00m\n\u001B[1;32m    105\u001B[0m \n\u001B[1;32m    106\u001B[0m \u001B[38;5;124;03mCall this as often as you want, with as little or as much text\u001B[39;00m\n\u001B[1;32m    107\u001B[0m \u001B[38;5;124;03mas you want (may include '\\n').\u001B[39;00m\n\u001B[1;32m    108\u001B[0m \u001B[38;5;124;03m\"\"\"\u001B[39;00m\n\u001B[1;32m    109\u001B[0m \u001B[38;5;28mself\u001B[39m\u001B[38;5;241m.\u001B[39mrawdata \u001B[38;5;241m=\u001B[39m \u001B[38;5;28mself\u001B[39m\u001B[38;5;241m.\u001B[39mrawdata \u001B[38;5;241m+\u001B[39m data\n\u001B[0;32m--> 110\u001B[0m \u001B[38;5;28;43mself\u001B[39;49m\u001B[38;5;241;43m.\u001B[39;49m\u001B[43mgoahead\u001B[49m\u001B[43m(\u001B[49m\u001B[38;5;241;43m0\u001B[39;49m\u001B[43m)\u001B[49m\n",
          "File \u001B[0;32m~/miniforge3/envs/textgen/lib/python3.10/html/parser.py:172\u001B[0m, in \u001B[0;36mHTMLParser.goahead\u001B[0;34m(self, end)\u001B[0m\n\u001B[1;32m    170\u001B[0m     k \u001B[38;5;241m=\u001B[39m \u001B[38;5;28mself\u001B[39m\u001B[38;5;241m.\u001B[39mparse_starttag(i)\n\u001B[1;32m    171\u001B[0m \u001B[38;5;28;01melif\u001B[39;00m startswith(\u001B[38;5;124m\"\u001B[39m\u001B[38;5;124m</\u001B[39m\u001B[38;5;124m\"\u001B[39m, i):\n\u001B[0;32m--> 172\u001B[0m     k \u001B[38;5;241m=\u001B[39m \u001B[38;5;28;43mself\u001B[39;49m\u001B[38;5;241;43m.\u001B[39;49m\u001B[43mparse_endtag\u001B[49m\u001B[43m(\u001B[49m\u001B[43mi\u001B[49m\u001B[43m)\u001B[49m\n\u001B[1;32m    173\u001B[0m \u001B[38;5;28;01melif\u001B[39;00m startswith(\u001B[38;5;124m\"\u001B[39m\u001B[38;5;124m<!--\u001B[39m\u001B[38;5;124m\"\u001B[39m, i):\n\u001B[1;32m    174\u001B[0m     k \u001B[38;5;241m=\u001B[39m \u001B[38;5;28mself\u001B[39m\u001B[38;5;241m.\u001B[39mparse_comment(i)\n",
          "File \u001B[0;32m~/miniforge3/envs/textgen/lib/python3.10/html/parser.py:420\u001B[0m, in \u001B[0;36mHTMLParser.parse_endtag\u001B[0;34m(self, i)\u001B[0m\n\u001B[1;32m    417\u001B[0m         \u001B[38;5;28mself\u001B[39m\u001B[38;5;241m.\u001B[39mhandle_data(rawdata[i:gtpos])\n\u001B[1;32m    418\u001B[0m         \u001B[38;5;28;01mreturn\u001B[39;00m gtpos\n\u001B[0;32m--> 420\u001B[0m \u001B[38;5;28;43mself\u001B[39;49m\u001B[38;5;241;43m.\u001B[39;49m\u001B[43mhandle_endtag\u001B[49m\u001B[43m(\u001B[49m\u001B[43melem\u001B[49m\u001B[43m)\u001B[49m\n\u001B[1;32m    421\u001B[0m \u001B[38;5;28mself\u001B[39m\u001B[38;5;241m.\u001B[39mclear_cdata_mode()\n\u001B[1;32m    422\u001B[0m \u001B[38;5;28;01mreturn\u001B[39;00m gtpos\n",
          "File \u001B[0;32m~/proj/bb/url2io.com/open_sesame/nb_llm/pyvue/src/vuepy/vue.py:1019\u001B[0m, in \u001B[0;36mVueTemplate.handle_endtag\u001B[0;34m(self, tag)\u001B[0m\n\u001B[1;32m   1017\u001B[0m         \u001B[38;5;28mself\u001B[39m\u001B[38;5;241m.\u001B[39mv_for_stack\u001B[38;5;241m.\u001B[39mpop()\n\u001B[1;32m   1018\u001B[0m \u001B[38;5;28;01melse\u001B[39;00m:\n\u001B[0;32m-> 1019\u001B[0m     widget \u001B[38;5;241m=\u001B[39m \u001B[38;5;28;43mself\u001B[39;49m\u001B[38;5;241;43m.\u001B[39;49m\u001B[43m_gen_widget\u001B[49m\u001B[43m(\u001B[49m\u001B[43mnode\u001B[49m\u001B[43m)\u001B[49m\n\u001B[1;32m   1020\u001B[0m     \u001B[38;5;28;01mif\u001B[39;00m \u001B[38;5;129;01mnot\u001B[39;00m widget:\n\u001B[1;32m   1021\u001B[0m         \u001B[38;5;28;01mreturn\u001B[39;00m\n",
          "File \u001B[0;32m~/proj/bb/url2io.com/open_sesame/nb_llm/pyvue/src/vuepy/vue.py:852\u001B[0m, in \u001B[0;36mVueTemplate._gen_widget\u001B[0;34m(self, node, for_scope)\u001B[0m\n\u001B[1;32m    850\u001B[0m tag \u001B[38;5;241m=\u001B[39m node[\u001B[38;5;124m'\u001B[39m\u001B[38;5;124mtag\u001B[39m\u001B[38;5;124m'\u001B[39m]\n\u001B[1;32m    851\u001B[0m \u001B[38;5;28;01mif\u001B[39;00m \u001B[38;5;28mself\u001B[39m\u001B[38;5;241m.\u001B[39mvm\u001B[38;5;241m.\u001B[39mfind_component(tag):\n\u001B[0;32m--> 852\u001B[0m     widget \u001B[38;5;241m=\u001B[39m \u001B[38;5;28;43mself\u001B[39;49m\u001B[38;5;241;43m.\u001B[39;49m\u001B[43m_component_tag_exit\u001B[49m\u001B[43m(\u001B[49m\u001B[43mnode\u001B[49m\u001B[43m,\u001B[49m\u001B[43m \u001B[49m\u001B[43mfor_scope\u001B[49m\u001B[43m)\u001B[49m\n\u001B[1;32m    853\u001B[0m \u001B[38;5;28;01melse\u001B[39;00m:\n\u001B[1;32m    854\u001B[0m     widget \u001B[38;5;241m=\u001B[39m \u001B[38;5;28mself\u001B[39m\u001B[38;5;241m.\u001B[39m_html_tag_exit(node, for_scope)\n",
          "File \u001B[0;32m~/proj/bb/url2io.com/open_sesame/nb_llm/pyvue/src/vuepy/vue.py:865\u001B[0m, in \u001B[0;36mVueTemplate._component_tag_exit\u001B[0;34m(self, node, for_scope)\u001B[0m\n\u001B[1;32m    863\u001B[0m local \u001B[38;5;241m=\u001B[39m for_scope\u001B[38;5;241m.\u001B[39mto_ns() \u001B[38;5;28;01mif\u001B[39;00m for_scope \u001B[38;5;28;01melse\u001B[39;00m \u001B[38;5;28;01mNone\u001B[39;00m\n\u001B[1;32m    864\u001B[0m ns \u001B[38;5;241m=\u001B[39m VueCompNamespace(\u001B[38;5;28mself\u001B[39m\u001B[38;5;241m.\u001B[39mvm\u001B[38;5;241m.\u001B[39m_data, \u001B[38;5;28mself\u001B[39m\u001B[38;5;241m.\u001B[39mvm\u001B[38;5;241m.\u001B[39mto_ns(), local)\n\u001B[0;32m--> 865\u001B[0m widget \u001B[38;5;241m=\u001B[39m \u001B[43mVueCompCodeGen\u001B[49m\u001B[38;5;241;43m.\u001B[39;49m\u001B[43mgen\u001B[49m\u001B[43m(\u001B[49m\u001B[43mcomp_ast\u001B[49m\u001B[43m,\u001B[49m\u001B[43m \u001B[49m\u001B[43mnode\u001B[49m\u001B[43m[\u001B[49m\u001B[38;5;124;43m'\u001B[39;49m\u001B[38;5;124;43mbody\u001B[39;49m\u001B[38;5;124;43m'\u001B[39;49m\u001B[43m]\u001B[49m\u001B[43m,\u001B[49m\u001B[43m \u001B[49m\u001B[38;5;28;43mself\u001B[39;49m\u001B[38;5;241;43m.\u001B[39;49m\u001B[43mvm\u001B[49m\u001B[43m,\u001B[49m\u001B[43m \u001B[49m\u001B[43mns\u001B[49m\u001B[43m)\u001B[49m\n\u001B[1;32m    866\u001B[0m \u001B[38;5;28;01mreturn\u001B[39;00m widget\n",
          "File \u001B[0;32m~/proj/bb/url2io.com/open_sesame/nb_llm/pyvue/src/vuepy/vue.py:747\u001B[0m, in \u001B[0;36mVueCompCodeGen.gen\u001B[0;34m(cls, comp_ast, children, vm, ns)\u001B[0m\n\u001B[1;32m    744\u001B[0m \u001B[38;5;28;01mif\u001B[39;00m comp_ast\u001B[38;5;241m.\u001B[39mv_model_vm:\n\u001B[1;32m    745\u001B[0m     props[component_cls\u001B[38;5;241m.\u001B[39mv_model_default] \u001B[38;5;241m=\u001B[39m ns\u001B[38;5;241m.\u001B[39mgetattr(comp_ast\u001B[38;5;241m.\u001B[39mv_model_vm)\n\u001B[0;32m--> 747\u001B[0m widget \u001B[38;5;241m=\u001B[39m \u001B[43mcomponent_cls\u001B[49m\u001B[43m(\u001B[49m\u001B[43m)\u001B[49m\u001B[38;5;241;43m.\u001B[39;49m\u001B[43mrender\u001B[49m\u001B[43m(\u001B[49m\u001B[43mctx\u001B[49m\u001B[43m,\u001B[49m\u001B[43m \u001B[49m\u001B[43mprops\u001B[49m\u001B[43m,\u001B[49m\u001B[43m \u001B[49m\u001B[43m{\u001B[49m\u001B[43m}\u001B[49m\u001B[43m)\u001B[49m\n\u001B[1;32m    749\u001B[0m \u001B[38;5;66;03m# v-slot\u001B[39;00m\n\u001B[1;32m    750\u001B[0m \u001B[38;5;28;01mif\u001B[39;00m comp_ast\u001B[38;5;241m.\u001B[39mv_slot:\n",
          "File \u001B[0;32m~/proj/bb/url2io.com/open_sesame/nb_llm/pyvue/src/ipywui/comps.py:266\u001B[0m, in \u001B[0;36mImage.render\u001B[0;34m(self, ctx, props, setup_returned)\u001B[0m\n\u001B[1;32m    264\u001B[0m \u001B[38;5;28;01mdef\u001B[39;00m \u001B[38;5;21mrender\u001B[39m(\u001B[38;5;28mself\u001B[39m, ctx, props, setup_returned):\n\u001B[1;32m    265\u001B[0m     attrs \u001B[38;5;241m=\u001B[39m ctx\u001B[38;5;241m.\u001B[39mget(\u001B[38;5;124m'\u001B[39m\u001B[38;5;124mattrs\u001B[39m\u001B[38;5;124m'\u001B[39m, {})\n\u001B[0;32m--> 266\u001B[0m     \u001B[38;5;28;01mreturn\u001B[39;00m \u001B[43mwidgets\u001B[49m\u001B[38;5;241;43m.\u001B[39;49m\u001B[43mImage\u001B[49m\u001B[43m(\u001B[49m\u001B[38;5;241;43m*\u001B[39;49m\u001B[38;5;241;43m*\u001B[39;49m\u001B[43mprops\u001B[49m\u001B[43m,\u001B[49m\u001B[43m \u001B[49m\u001B[38;5;241;43m*\u001B[39;49m\u001B[38;5;241;43m*\u001B[39;49m\u001B[43mattrs\u001B[49m\u001B[43m)\u001B[49m\n",
          "File \u001B[0;32m~/miniforge3/envs/textgen/lib/python3.10/site-packages/ipywidgets/widgets/widget_media.py:157\u001B[0m, in \u001B[0;36mImage.__init__\u001B[0;34m(self, *args, **kwargs)\u001B[0m\n\u001B[1;32m    156\u001B[0m \u001B[38;5;28;01mdef\u001B[39;00m \u001B[38;5;21m__init__\u001B[39m(\u001B[38;5;28mself\u001B[39m, \u001B[38;5;241m*\u001B[39margs, \u001B[38;5;241m*\u001B[39m\u001B[38;5;241m*\u001B[39mkwargs):\n\u001B[0;32m--> 157\u001B[0m     \u001B[38;5;28;43msuper\u001B[39;49m\u001B[43m(\u001B[49m\u001B[43m)\u001B[49m\u001B[38;5;241;43m.\u001B[39;49m\u001B[38;5;21;43m__init__\u001B[39;49m\u001B[43m(\u001B[49m\u001B[38;5;241;43m*\u001B[39;49m\u001B[43margs\u001B[49m\u001B[43m,\u001B[49m\u001B[43m \u001B[49m\u001B[38;5;241;43m*\u001B[39;49m\u001B[38;5;241;43m*\u001B[39;49m\u001B[43mkwargs\u001B[49m\u001B[43m)\u001B[49m\n",
          "File \u001B[0;32m~/miniforge3/envs/textgen/lib/python3.10/site-packages/ipywidgets/widgets/widget.py:503\u001B[0m, in \u001B[0;36mWidget.__init__\u001B[0;34m(self, **kwargs)\u001B[0m\n\u001B[1;32m    501\u001B[0m \u001B[38;5;250m\u001B[39m\u001B[38;5;124;03m\"\"\"Public constructor\"\"\"\u001B[39;00m\n\u001B[1;32m    502\u001B[0m \u001B[38;5;28mself\u001B[39m\u001B[38;5;241m.\u001B[39m_model_id \u001B[38;5;241m=\u001B[39m kwargs\u001B[38;5;241m.\u001B[39mpop(\u001B[38;5;124m'\u001B[39m\u001B[38;5;124mmodel_id\u001B[39m\u001B[38;5;124m'\u001B[39m, \u001B[38;5;28;01mNone\u001B[39;00m)\n\u001B[0;32m--> 503\u001B[0m \u001B[38;5;28;43msuper\u001B[39;49m\u001B[43m(\u001B[49m\u001B[43m)\u001B[49m\u001B[38;5;241;43m.\u001B[39;49m\u001B[38;5;21;43m__init__\u001B[39;49m\u001B[43m(\u001B[49m\u001B[38;5;241;43m*\u001B[39;49m\u001B[38;5;241;43m*\u001B[39;49m\u001B[43mkwargs\u001B[49m\u001B[43m)\u001B[49m\n\u001B[1;32m    505\u001B[0m Widget\u001B[38;5;241m.\u001B[39m_call_widget_constructed(\u001B[38;5;28mself\u001B[39m)\n\u001B[1;32m    506\u001B[0m \u001B[38;5;28mself\u001B[39m\u001B[38;5;241m.\u001B[39mopen()\n",
          "File \u001B[0;32m~/miniforge3/envs/textgen/lib/python3.10/site-packages/traitlets/traitlets.py:1347\u001B[0m, in \u001B[0;36mHasTraits.__init__\u001B[0;34m(self, *args, **kwargs)\u001B[0m\n\u001B[1;32m   1345\u001B[0m \u001B[38;5;28;01mfor\u001B[39;00m key, value \u001B[38;5;129;01min\u001B[39;00m kwargs\u001B[38;5;241m.\u001B[39mitems():\n\u001B[1;32m   1346\u001B[0m     \u001B[38;5;28;01mif\u001B[39;00m \u001B[38;5;28mself\u001B[39m\u001B[38;5;241m.\u001B[39mhas_trait(key):\n\u001B[0;32m-> 1347\u001B[0m         \u001B[38;5;28;43msetattr\u001B[39;49m\u001B[43m(\u001B[49m\u001B[38;5;28;43mself\u001B[39;49m\u001B[43m,\u001B[49m\u001B[43m \u001B[49m\u001B[43mkey\u001B[49m\u001B[43m,\u001B[49m\u001B[43m \u001B[49m\u001B[43mvalue\u001B[49m\u001B[43m)\u001B[49m\n\u001B[1;32m   1348\u001B[0m         changes[key] \u001B[38;5;241m=\u001B[39m Bunch(\n\u001B[1;32m   1349\u001B[0m             name\u001B[38;5;241m=\u001B[39mkey,\n\u001B[1;32m   1350\u001B[0m             old\u001B[38;5;241m=\u001B[39m\u001B[38;5;28;01mNone\u001B[39;00m,\n\u001B[0;32m   (...)\u001B[0m\n\u001B[1;32m   1353\u001B[0m             \u001B[38;5;28mtype\u001B[39m\u001B[38;5;241m=\u001B[39m\u001B[38;5;124m\"\u001B[39m\u001B[38;5;124mchange\u001B[39m\u001B[38;5;124m\"\u001B[39m,\n\u001B[1;32m   1354\u001B[0m         )\n\u001B[1;32m   1355\u001B[0m     \u001B[38;5;28;01melse\u001B[39;00m:\n\u001B[1;32m   1356\u001B[0m         \u001B[38;5;66;03m# passthrough args that don't set traits to super\u001B[39;00m\n",
          "File \u001B[0;32m~/miniforge3/envs/textgen/lib/python3.10/site-packages/traitlets/traitlets.py:732\u001B[0m, in \u001B[0;36mTraitType.__set__\u001B[0;34m(self, obj, value)\u001B[0m\n\u001B[1;32m    730\u001B[0m     \u001B[38;5;28;01mraise\u001B[39;00m TraitError(\u001B[38;5;124m'\u001B[39m\u001B[38;5;124mThe \u001B[39m\u001B[38;5;124m\"\u001B[39m\u001B[38;5;132;01m%s\u001B[39;00m\u001B[38;5;124m\"\u001B[39m\u001B[38;5;124m trait is read-only.\u001B[39m\u001B[38;5;124m'\u001B[39m \u001B[38;5;241m%\u001B[39m \u001B[38;5;28mself\u001B[39m\u001B[38;5;241m.\u001B[39mname)\n\u001B[1;32m    731\u001B[0m \u001B[38;5;28;01melse\u001B[39;00m:\n\u001B[0;32m--> 732\u001B[0m     \u001B[38;5;28;43mself\u001B[39;49m\u001B[38;5;241;43m.\u001B[39;49m\u001B[43mset\u001B[49m\u001B[43m(\u001B[49m\u001B[43mobj\u001B[49m\u001B[43m,\u001B[49m\u001B[43m \u001B[49m\u001B[43mvalue\u001B[49m\u001B[43m)\u001B[49m\n",
          "File \u001B[0;32m~/miniforge3/envs/textgen/lib/python3.10/site-packages/traitlets/traitlets.py:706\u001B[0m, in \u001B[0;36mTraitType.set\u001B[0;34m(self, obj, value)\u001B[0m\n\u001B[1;32m    705\u001B[0m \u001B[38;5;28;01mdef\u001B[39;00m \u001B[38;5;21mset\u001B[39m(\u001B[38;5;28mself\u001B[39m, obj, value):\n\u001B[0;32m--> 706\u001B[0m     new_value \u001B[38;5;241m=\u001B[39m \u001B[38;5;28;43mself\u001B[39;49m\u001B[38;5;241;43m.\u001B[39;49m\u001B[43m_validate\u001B[49m\u001B[43m(\u001B[49m\u001B[43mobj\u001B[49m\u001B[43m,\u001B[49m\u001B[43m \u001B[49m\u001B[43mvalue\u001B[49m\u001B[43m)\u001B[49m\n\u001B[1;32m    707\u001B[0m     \u001B[38;5;28;01mtry\u001B[39;00m:\n\u001B[1;32m    708\u001B[0m         old_value \u001B[38;5;241m=\u001B[39m obj\u001B[38;5;241m.\u001B[39m_trait_values[\u001B[38;5;28mself\u001B[39m\u001B[38;5;241m.\u001B[39mname]\n",
          "File \u001B[0;32m~/miniforge3/envs/textgen/lib/python3.10/site-packages/traitlets/traitlets.py:738\u001B[0m, in \u001B[0;36mTraitType._validate\u001B[0;34m(self, obj, value)\u001B[0m\n\u001B[1;32m    736\u001B[0m     \u001B[38;5;28;01mreturn\u001B[39;00m value\n\u001B[1;32m    737\u001B[0m \u001B[38;5;28;01mif\u001B[39;00m \u001B[38;5;28mhasattr\u001B[39m(\u001B[38;5;28mself\u001B[39m, \u001B[38;5;124m\"\u001B[39m\u001B[38;5;124mvalidate\u001B[39m\u001B[38;5;124m\"\u001B[39m):\n\u001B[0;32m--> 738\u001B[0m     value \u001B[38;5;241m=\u001B[39m \u001B[38;5;28;43mself\u001B[39;49m\u001B[38;5;241;43m.\u001B[39;49m\u001B[43mvalidate\u001B[49m\u001B[43m(\u001B[49m\u001B[43mobj\u001B[49m\u001B[43m,\u001B[49m\u001B[43m \u001B[49m\u001B[43mvalue\u001B[49m\u001B[43m)\u001B[49m\n\u001B[1;32m    739\u001B[0m \u001B[38;5;28;01mif\u001B[39;00m obj\u001B[38;5;241m.\u001B[39m_cross_validation_lock \u001B[38;5;129;01mis\u001B[39;00m \u001B[38;5;28;01mFalse\u001B[39;00m:\n\u001B[1;32m    740\u001B[0m     value \u001B[38;5;241m=\u001B[39m \u001B[38;5;28mself\u001B[39m\u001B[38;5;241m.\u001B[39m_cross_validate(obj, value)\n",
          "File \u001B[0;32m~/miniforge3/envs/textgen/lib/python3.10/site-packages/ipywidgets/widgets/trait_types.py:295\u001B[0m, in \u001B[0;36mCByteMemoryView.validate\u001B[0;34m(self, obj, value)\u001B[0m\n\u001B[1;32m    293\u001B[0m     \u001B[38;5;28;01mreturn\u001B[39;00m mv\n\u001B[1;32m    294\u001B[0m \u001B[38;5;28;01mexcept\u001B[39;00m \u001B[38;5;167;01mException\u001B[39;00m:\n\u001B[0;32m--> 295\u001B[0m     \u001B[38;5;28;43mself\u001B[39;49m\u001B[38;5;241;43m.\u001B[39;49m\u001B[43merror\u001B[49m\u001B[43m(\u001B[49m\u001B[43mobj\u001B[49m\u001B[43m,\u001B[49m\u001B[43m \u001B[49m\u001B[43mvalue\u001B[49m\u001B[43m)\u001B[49m\n",
          "File \u001B[0;32m~/miniforge3/envs/textgen/lib/python3.10/site-packages/traitlets/traitlets.py:844\u001B[0m, in \u001B[0;36mTraitType.error\u001B[0;34m(self, obj, value, error, info)\u001B[0m\n\u001B[1;32m    838\u001B[0m \u001B[38;5;28;01melse\u001B[39;00m:\n\u001B[1;32m    839\u001B[0m     e \u001B[38;5;241m=\u001B[39m \u001B[38;5;124m\"\u001B[39m\u001B[38;5;124mThe \u001B[39m\u001B[38;5;124m'\u001B[39m\u001B[38;5;132;01m{}\u001B[39;00m\u001B[38;5;124m'\u001B[39m\u001B[38;5;124m trait expected \u001B[39m\u001B[38;5;132;01m{}\u001B[39;00m\u001B[38;5;124m, not \u001B[39m\u001B[38;5;132;01m{}\u001B[39;00m\u001B[38;5;124m.\u001B[39m\u001B[38;5;124m\"\u001B[39m\u001B[38;5;241m.\u001B[39mformat(\n\u001B[1;32m    840\u001B[0m         \u001B[38;5;28mself\u001B[39m\u001B[38;5;241m.\u001B[39mname,\n\u001B[1;32m    841\u001B[0m         \u001B[38;5;28mself\u001B[39m\u001B[38;5;241m.\u001B[39minfo(),\n\u001B[1;32m    842\u001B[0m         describe(\u001B[38;5;124m\"\u001B[39m\u001B[38;5;124mthe\u001B[39m\u001B[38;5;124m\"\u001B[39m, value),\n\u001B[1;32m    843\u001B[0m     )\n\u001B[0;32m--> 844\u001B[0m \u001B[38;5;28;01mraise\u001B[39;00m TraitError(e)\n",
          "\u001B[0;31mTraitError\u001B[0m: The 'value' trait of an Image instance expected a memory view object, not the str 'https://upload.wikimedia.org/wikipedia/commons/thumb/3/38/Jupyter_logo.svg/207px-Jupyter_logo.svg.png'."
         ]
        }
       ]
      }
     },
     "829bbaca4a114fd3bd29ff87e4f1d2a0": {
      "model_module": "@jupyter-widgets/base",
      "model_module_version": "2.0.0",
      "model_name": "LayoutModel",
      "state": {}
     },
     "87797e38b7e84250913310d25777bd12": {
      "model_module": "@jupyter-widgets/base",
      "model_module_version": "2.0.0",
      "model_name": "LayoutModel",
      "state": {}
     },
     "8a1892aa85fc4a9b919948678c391f3e": {
      "buffers": [
       {
        "data": "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",
        "encoding": "base64",
        "path": [
         "value"
        ]
       }
      ],
      "model_module": "@jupyter-widgets/controls",
      "model_module_version": "2.0.0",
      "model_name": "ImageModel",
      "state": {
       "layout": "IPY_MODEL_1345222aa52948a49fa837ad2e2d40c3"
      }
     },
     "8a886fabd2f04254a48f853208e180c7": {
      "model_module": "@jupyter-widgets/base",
      "model_module_version": "2.0.0",
      "model_name": "LayoutModel",
      "state": {}
     },
     "8f629cbbe4224ecf8528526bc0bbc520": {
      "model_module": "@jupyter-widgets/controls",
      "model_module_version": "2.0.0",
      "model_name": "VBoxModel",
      "state": {
       "children": [
        "IPY_MODEL_2b5704beba5f4ea9ab443eb98af0815e"
       ],
       "layout": "IPY_MODEL_829bbaca4a114fd3bd29ff87e4f1d2a0"
      }
     },
     "9bbe39bb9f9244669d68c4f67d1c9cac": {
      "model_module": "@jupyter-widgets/output",
      "model_module_version": "1.0.0",
      "model_name": "OutputModel",
      "state": {
       "layout": "IPY_MODEL_bc119d49e0704abfbf59f329e298bd66",
       "outputs": [
        {
         "data": {
          "application/vnd.jupyter.widget-view+json": {
           "model_id": "ae409a168a38469cb17d98e2509c29b3",
           "version_major": 2,
           "version_minor": 0
          },
          "text/plain": "Image(value=b\"\\x89PNG\\r\\n\\x1a\\n\\x00\\x00\\x00\\rIHDR\\x00\\x00\\x00\\xcf\\x00\\x00\\x00\\xf0\\x08\\x06\\x00\\x00\\x00\\xa7\\xad0…"
         },
         "metadata": {},
         "output_type": "display_data"
        }
       ]
      }
     },
     "9c28e50c502547d39f30df64b80a65a9": {
      "buffers": [
       {
        "data": "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",
        "encoding": "base64",
        "path": [
         "value"
        ]
       }
      ],
      "model_module": "@jupyter-widgets/controls",
      "model_module_version": "2.0.0",
      "model_name": "ImageModel",
      "state": {
       "layout": "IPY_MODEL_6764cd85d312498e826001fd2b2d240e"
      }
     },
     "a9a86e37193a4d25b22f9ad1f8d03083": {
      "model_module": "@jupyter-widgets/base",
      "model_module_version": "2.0.0",
      "model_name": "LayoutModel",
      "state": {}
     },
     "aa244eec8d6b431e97f92151c1962e69": {
      "model_module": "@jupyter-widgets/controls",
      "model_module_version": "2.0.0",
      "model_name": "VBoxModel",
      "state": {
       "children": [
        "IPY_MODEL_324528d4c17f403487da6e538b0c7776",
        "IPY_MODEL_e130812a1679418897b3f86d669c2704"
       ],
       "layout": "IPY_MODEL_28ac51f85868485f9b450a1322fb7973"
      }
     },
     "ae409a168a38469cb17d98e2509c29b3": {
      "buffers": [
       {
        "data": "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",
        "encoding": "base64",
        "path": [
         "value"
        ]
       }
      ],
      "model_module": "@jupyter-widgets/controls",
      "model_module_version": "2.0.0",
      "model_name": "ImageModel",
      "state": {
       "layout": "IPY_MODEL_8a886fabd2f04254a48f853208e180c7"
      }
     },
     "af2ff957132f4f7780e1628e30d9fc8c": {
      "model_module": "@jupyter-widgets/base",
      "model_module_version": "2.0.0",
      "model_name": "LayoutModel",
      "state": {}
     },
     "b1881d3363be4f24a52bea0cf693ba39": {
      "model_module": "@jupyter-widgets/base",
      "model_module_version": "2.0.0",
      "model_name": "LayoutModel",
      "state": {}
     },
     "b5aad6813cc24afb8466c27b18348826": {
      "model_module": "@jupyter-widgets/base",
      "model_module_version": "2.0.0",
      "model_name": "LayoutModel",
      "state": {}
     },
     "b5fe0ab39d8c44ed82f0e27ded366dd6": {
      "model_module": "@jupyter-widgets/controls",
      "model_module_version": "2.0.0",
      "model_name": "VBoxModel",
      "state": {
       "children": [
        "IPY_MODEL_f7a6074fe30b4b67a10a114dc08dd9f1"
       ],
       "layout": "IPY_MODEL_5c5d2d5302d64ad19323a995ad1af8ba"
      }
     },
     "b67e45bf9d1a45e585c7c0f2cead36cc": {
      "model_module": "@jupyter-widgets/base",
      "model_module_version": "2.0.0",
      "model_name": "LayoutModel",
      "state": {}
     },
     "bc119d49e0704abfbf59f329e298bd66": {
      "model_module": "@jupyter-widgets/base",
      "model_module_version": "2.0.0",
      "model_name": "LayoutModel",
      "state": {}
     },
     "bff4d75a888b4536b7ef7b16aec9da22": {
      "model_module": "@jupyter-widgets/output",
      "model_module_version": "1.0.0",
      "model_name": "OutputModel",
      "state": {
       "layout": "IPY_MODEL_6edb2046a72b44b3a30c4dd784ddd679",
       "outputs": [
        {
         "data": {
          "application/vnd.jupyter.widget-view+json": {
           "model_id": "4ca037d784b7452994b000406521c1ea",
           "version_major": 2,
           "version_minor": 0
          },
          "text/plain": "Image(value=b\"\\x89PNG\\r\\n\\x1a\\n\\x00\\x00\\x00\\rIHDR\\x00\\x00\\x00\\xcf\\x00\\x00\\x00\\xf0\\x08\\x06\\x00\\x00\\x00\\xa7\\xad0…"
         },
         "metadata": {},
         "output_type": "display_data"
        }
       ]
      }
     },
     "c5983a90dbf642df9fa53ab2bf76d76f": {
      "model_module": "@jupyter-widgets/base",
      "model_module_version": "2.0.0",
      "model_name": "LayoutModel",
      "state": {}
     },
     "c59d34b9d48341e8bb212d3328602a83": {
      "model_module": "anywidget",
      "model_module_version": "0.9.3",
      "model_name": "AnyModel",
      "state": {
       "_anywidget_id": "ipywui.widgets.custom.message.MessageWidget",
       "_css": ".wui-message-root {\n    display: flex;\n    position: absolute;\n    left: 0;\n    right: 0;\n    top: 0;\n}\n\n.wui-message-container {\n    align-items: center;\n    display: flex;\n    flex-direction: column-reverse;\n    justify-content: center;\n    min-height: 100%;\n    outline: none;\n    width: 100%;\n\n    -webkit-tap-highlight-color: rgba(0,0,0,0);\n    bottom: 0;\n    left: 0;\n    right: 0;\n    top: 0;\n}\n\n.wui-message--success {\n    --wui-message-bg-color: #f0f9eb;\n    --wui-message-border-color: #e1f3d8;\n    --wui-message-text-color: #67c23a;\n}\n.wui-message--warning {\n    --wui-message-bg-color: #fdf6ec;\n    --wui-message-border-color: #faecd8;\n    --wui-message-text-color: #e6a23c;\n}\n.wui-message--info {\n    --wui-message-bg-color: #f4f4f5;\n    --wui-message-border-color: #e9e9eb;\n    --wui-message-text-color: #909399;\n}\n.wui-message--error {\n    --wui-message-bg-color: #fef0f0;\n    --wui-message-border-color: #fde2e2;\n    --wui-message-text-color: #f56c6c;\n}\n\n@keyframes msg-open {\n    0% {\n        opacity: 0;\n        -webkit-transform: translateY(-120%);\n        transform: translateY(-120%)\n    }\n    to {\n        -webkit-transform: translateY(0);\n        transform: translateY(0)\n    }\n}\n\n@keyframes msg-close {\n    0% {\n        opacity: 1;\n        -webkit-transform: scale(1);\n        transform: scale(1)\n    }\n    to {\n        opacity: 0;\n        -webkit-transform: scale(.9);\n        transform: scale(.9)\n    }\n}\n.wui-message[data-state=entered],.wui-message[data-state=entering] {\n    -webkit-animation: msg-open .24s cubic-bezier(.175,.885,.32,1.175) both;\n    animation: msg-open .24s cubic-bezier(.175,.885,.32,1.175) both\n}\n\n.wui-message[data-state=exiting] {\n    -webkit-animation: msg-close .12s cubic-bezier(.4,0,1,1) both;\n    animation: msg-close .12s cubic-bezier(.4,0,1,1) both\n}\n\n.wui-message {\n    width: -webkit-fit-content;\n    width: -moz-fit-content;\n    width: fit-content;\n    z-index: 2004;\n    max-width: calc(100% - 32px);\n    margin-top: 8px;\n    box-sizing: border-box;\n    /*border-radius: var(--wui-border-radius-base);*/\n    /*border-width: var(--wui-border-width);*/\n    /*border-style: var(--wui-border-style);*/\n    border-color: var(--wui-message-border-color);\n    /*left: 50%;*/\n    /*top: 20px;*/\n    /*transform: translateX(-50%);*/\n    background-color: var(--wui-message-bg-color);\n    /*transition: opacity var(--wui-transition-duration),transform .4s,top .4s;*/\n    /*padding: var(--wui-message-padding);*/\n    display: flex;\n    align-items: center;\n}\n\n/*.wui-message--success */\n.wui-message__content {\n    color: var(--wui-message-text-color);\n    font-size: 14px;\n    line-height: 18px;\n    margin: 10px 14px 10px 14px;\n    overflow-wrap: break-word;\n}\n\n.wui-message__closeBtn {\n    /*cursor: pointer;*/\n    font-style: normal;\n    /*color: gray;*/\n    padding-right: 14px;\n    /*font-size: 13px;*/\n    user-select: none;\n\n    background: transparent;\n    border: none;\n    color: gray;\n    cursor: pointer;\n    font-size: 13px;\n    font-weight: 400;\n    line-height: 1;\n    outline: none;\n    /*padding: 4px;*/\n    text-align: center;\n    transition: opacity .3s;\n    /*width: 100%;*/\n}",
       "_esm": "function closeMsg(msgDom) {\n  if (!msgDom) {\n    return;\n  }\n  msgDom.setAttribute('data-state', 'exiting');\n  msgDom.remove();\n}\n\nfunction createMsg(options) {\n  const {message, msg_id, type = 'info', show_close = false} = options;\n  const msgDom = document.createElement('div');\n  msgDom.className += ` wui-message--${type} wui-message`;\n  msgDom.setAttribute('data-state', 'entered');\n  msgDom.setAttribute('id', msg_id);\n  const msgContent = document.createElement('p');\n  msgContent.className += ` wui-message--${type} wui-message__content`;\n  msgContent.innerText = message;\n  msgDom.appendChild(msgContent);\n  if (show_close) {\n    const closeBtn = document.createElement('i');\n    closeBtn.className += 'wui-message__closeBtn';\n    closeBtn.innerText = 'x';\n    closeBtn.addEventListener('click', (ev) => {\n      closeMsg(msgDom);\n    })\n    msgDom.appendChild(closeBtn);\n  }\n  return msgDom;\n}\n\nexport async function render(view) {\n  let model = view.model;\n  const msgRoot = view.el;\n  msgRoot.className += ' wui-message-root'\n\n  const msgContainer = document.createElement('div');\n  msgContainer.className += ' wui-message-container';\n  msgRoot.appendChild(msgContainer)\n\n  model.on(\"change:message_options\", () => {\n    const options = model.get(\"message_options\");\n    const msg = createMsg(options);\n    msgContainer.appendChild(msg);\n    const {duration = 3000} = options;\n    if (duration > 0) {\n      setTimeout(() => {\n        closeMsg(msg)\n      }, duration);\n    }\n  })\n\n  model.on(\"change:close_msg_id\", () => {\n    const msg_id = model.get(\"close_msg_id\");\n    const msgDom = document.getElementById(msg_id);\n    closeMsg(msgDom);\n  })\n}\n",
       "_model_module": "anywidget",
       "_model_module_version": "0.9.3",
       "_model_name": "AnyModel",
       "_view_module": "anywidget",
       "_view_module_version": "0.9.3",
       "_view_name": "AnyView",
       "close_msg_id": "",
       "layout": "IPY_MODEL_b5aad6813cc24afb8466c27b18348826",
       "message_options": {
        "duration": 3000,
        "message": "",
        "show_close": false,
        "type": "info"
       }
      }
     },
     "c768e6b40aa9432ebcc77f6683b100fb": {
      "model_module": "@jupyter-widgets/base",
      "model_module_version": "2.0.0",
      "model_name": "LayoutModel",
      "state": {}
     },
     "cad5c49e637a4952915134d12ad4e5c2": {
      "model_module": "@jupyter-widgets/base",
      "model_module_version": "2.0.0",
      "model_name": "LayoutModel",
      "state": {}
     },
     "ce8a50663a37493485fb29551269a720": {
      "model_module": "@jupyter-widgets/output",
      "model_module_version": "1.0.0",
      "model_name": "OutputModel",
      "state": {
       "layout": "IPY_MODEL_c768e6b40aa9432ebcc77f6683b100fb",
       "outputs": [
        {
         "data": {
          "application/vnd.jupyter.widget-view+json": {
           "model_id": "aa244eec8d6b431e97f92151c1962e69",
           "version_major": 2,
           "version_minor": 0
          },
          "text/plain": "VBox(children=(Image(value=b\"\\x89PNG\\r\\n\\x1a\\n\\x00\\x00\\x00\\rIHDR\\x00\\x00\\x00\\xcf\\x00\\x00\\x00\\xf0\\x08\\x06\\x00\\x…"
         },
         "metadata": {},
         "output_type": "display_data"
        }
       ]
      }
     },
     "d0676cf0a0e34289b9ce1905717ea7c7": {
      "model_module": "@jupyter-widgets/base",
      "model_module_version": "2.0.0",
      "model_name": "LayoutModel",
      "state": {}
     },
     "d1f05a395dee4962b35106e14aa9302e": {
      "model_module": "@jupyter-widgets/output",
      "model_module_version": "1.0.0",
      "model_name": "OutputModel",
      "state": {
       "layout": "IPY_MODEL_cad5c49e637a4952915134d12ad4e5c2",
       "outputs": [
        {
         "data": {
          "application/vnd.jupyter.widget-view+json": {
           "model_id": "8a1892aa85fc4a9b919948678c391f3e",
           "version_major": 2,
           "version_minor": 0
          },
          "text/plain": "Image(value=b\"\\x89PNG\\r\\n\\x1a\\n\\x00\\x00\\x00\\rIHDR\\x00\\x00\\x00\\xcf\\x00\\x00\\x00\\xf0\\x08\\x06\\x00\\x00\\x00\\xa7\\xad0…"
         },
         "metadata": {},
         "output_type": "display_data"
        }
       ]
      }
     },
     "d412f4acd2cb4d5ba2d80eb126f23594": {
      "model_module": "anywidget",
      "model_module_version": "0.9.3",
      "model_name": "AnyModel",
      "state": {
       "_anywidget_id": "ipywui.widgets.custom.message.MessageWidget",
       "_css": ".wui-message-root {\n    display: flex;\n    position: absolute;\n    left: 0;\n    right: 0;\n    top: 0;\n}\n\n.wui-message-container {\n    align-items: center;\n    display: flex;\n    flex-direction: column-reverse;\n    justify-content: center;\n    min-height: 100%;\n    outline: none;\n    width: 100%;\n\n    -webkit-tap-highlight-color: rgba(0,0,0,0);\n    bottom: 0;\n    left: 0;\n    right: 0;\n    top: 0;\n}\n\n.wui-message--success {\n    --wui-message-bg-color: #f0f9eb;\n    --wui-message-border-color: #e1f3d8;\n    --wui-message-text-color: #67c23a;\n}\n.wui-message--warning {\n    --wui-message-bg-color: #fdf6ec;\n    --wui-message-border-color: #faecd8;\n    --wui-message-text-color: #e6a23c;\n}\n.wui-message--info {\n    --wui-message-bg-color: #f4f4f5;\n    --wui-message-border-color: #e9e9eb;\n    --wui-message-text-color: #909399;\n}\n.wui-message--error {\n    --wui-message-bg-color: #fef0f0;\n    --wui-message-border-color: #fde2e2;\n    --wui-message-text-color: #f56c6c;\n}\n\n@keyframes msg-open {\n    0% {\n        opacity: 0;\n        -webkit-transform: translateY(-120%);\n        transform: translateY(-120%)\n    }\n    to {\n        -webkit-transform: translateY(0);\n        transform: translateY(0)\n    }\n}\n\n@keyframes msg-close {\n    0% {\n        opacity: 1;\n        -webkit-transform: scale(1);\n        transform: scale(1)\n    }\n    to {\n        opacity: 0;\n        -webkit-transform: scale(.9);\n        transform: scale(.9)\n    }\n}\n.wui-message[data-state=entered],.wui-message[data-state=entering] {\n    -webkit-animation: msg-open .24s cubic-bezier(.175,.885,.32,1.175) both;\n    animation: msg-open .24s cubic-bezier(.175,.885,.32,1.175) both\n}\n\n.wui-message[data-state=exiting] {\n    -webkit-animation: msg-close .12s cubic-bezier(.4,0,1,1) both;\n    animation: msg-close .12s cubic-bezier(.4,0,1,1) both\n}\n\n.wui-message {\n    width: -webkit-fit-content;\n    width: -moz-fit-content;\n    width: fit-content;\n    z-index: 2004;\n    max-width: calc(100% - 32px);\n    margin-top: 8px;\n    box-sizing: border-box;\n    /*border-radius: var(--wui-border-radius-base);*/\n    /*border-width: var(--wui-border-width);*/\n    /*border-style: var(--wui-border-style);*/\n    border-color: var(--wui-message-border-color);\n    /*left: 50%;*/\n    /*top: 20px;*/\n    /*transform: translateX(-50%);*/\n    background-color: var(--wui-message-bg-color);\n    /*transition: opacity var(--wui-transition-duration),transform .4s,top .4s;*/\n    /*padding: var(--wui-message-padding);*/\n    display: flex;\n    align-items: center;\n}\n\n/*.wui-message--success */\n.wui-message__content {\n    color: var(--wui-message-text-color);\n    font-size: 14px;\n    line-height: 18px;\n    margin: 10px 14px 10px 14px;\n    overflow-wrap: break-word;\n}\n\n.wui-message__closeBtn {\n    /*cursor: pointer;*/\n    font-style: normal;\n    /*color: gray;*/\n    padding-right: 14px;\n    /*font-size: 13px;*/\n    user-select: none;\n\n    background: transparent;\n    border: none;\n    color: gray;\n    cursor: pointer;\n    font-size: 13px;\n    font-weight: 400;\n    line-height: 1;\n    outline: none;\n    /*padding: 4px;*/\n    text-align: center;\n    transition: opacity .3s;\n    /*width: 100%;*/\n}",
       "_esm": "function closeMsg(msgDom) {\n  if (!msgDom) {\n    return;\n  }\n  msgDom.setAttribute('data-state', 'exiting');\n  msgDom.remove();\n}\n\nfunction createMsg(options) {\n  const {message, msg_id, type = 'info', show_close = false} = options;\n  const msgDom = document.createElement('div');\n  msgDom.className += ` wui-message--${type} wui-message`;\n  msgDom.setAttribute('data-state', 'entered');\n  msgDom.setAttribute('id', msg_id);\n  const msgContent = document.createElement('p');\n  msgContent.className += ` wui-message--${type} wui-message__content`;\n  msgContent.innerText = message;\n  msgDom.appendChild(msgContent);\n  if (show_close) {\n    const closeBtn = document.createElement('i');\n    closeBtn.className += 'wui-message__closeBtn';\n    closeBtn.innerText = 'x';\n    closeBtn.addEventListener('click', (ev) => {\n      closeMsg(msgDom);\n    })\n    msgDom.appendChild(closeBtn);\n  }\n  return msgDom;\n}\n\nexport async function render(view) {\n  let model = view.model;\n  const msgRoot = view.el;\n  msgRoot.className += ' wui-message-root'\n\n  const msgContainer = document.createElement('div');\n  msgContainer.className += ' wui-message-container';\n  msgRoot.appendChild(msgContainer)\n\n  model.on(\"change:message_options\", () => {\n    const options = model.get(\"message_options\");\n    const msg = createMsg(options);\n    msgContainer.appendChild(msg);\n    const {duration = 3000} = options;\n    if (duration > 0) {\n      setTimeout(() => {\n        closeMsg(msg)\n      }, duration);\n    }\n  })\n\n  model.on(\"change:close_msg_id\", () => {\n    const msg_id = model.get(\"close_msg_id\");\n    const msgDom = document.getElementById(msg_id);\n    closeMsg(msgDom);\n  })\n}\n",
       "_model_module": "anywidget",
       "_model_module_version": "0.9.3",
       "_model_name": "AnyModel",
       "_view_module": "anywidget",
       "_view_module_version": "0.9.3",
       "_view_name": "AnyView",
       "close_msg_id": "",
       "layout": "IPY_MODEL_b1881d3363be4f24a52bea0cf693ba39",
       "message_options": {
        "duration": 3000,
        "message": "",
        "show_close": false,
        "type": "info"
       }
      }
     },
     "dc88aead0b544747a5c326b929b08ce5": {
      "model_module": "@jupyter-widgets/base",
      "model_module_version": "2.0.0",
      "model_name": "LayoutModel",
      "state": {}
     },
     "e130812a1679418897b3f86d669c2704": {
      "model_module": "@jupyter-widgets/controls",
      "model_module_version": "2.0.0",
      "model_name": "ImageModel",
      "state": {
       "layout": "IPY_MODEL_d0676cf0a0e34289b9ce1905717ea7c7"
      }
     },
     "e135d70003fc464ea78adb3bc8bd4629": {
      "model_module": "@jupyter-widgets/base",
      "model_module_version": "2.0.0",
      "model_name": "LayoutModel",
      "state": {}
     },
     "e14a09afceaa4bd48c63498ce1d2a573": {
      "model_module": "@jupyter-widgets/base",
      "model_module_version": "2.0.0",
      "model_name": "LayoutModel",
      "state": {}
     },
     "e16f6498c12f4424bea4fb7487aa22d1": {
      "model_module": "anywidget",
      "model_module_version": "0.9.3",
      "model_name": "AnyModel",
      "state": {
       "_anywidget_id": "ipywui.widgets.custom.message.MessageWidget",
       "_css": ".wui-message-root {\n    display: flex;\n    position: absolute;\n    left: 0;\n    right: 0;\n    top: 0;\n}\n\n.wui-message-container {\n    align-items: center;\n    display: flex;\n    flex-direction: column-reverse;\n    justify-content: center;\n    min-height: 100%;\n    outline: none;\n    width: 100%;\n\n    -webkit-tap-highlight-color: rgba(0,0,0,0);\n    bottom: 0;\n    left: 0;\n    right: 0;\n    top: 0;\n}\n\n.wui-message--success {\n    --wui-message-bg-color: #f0f9eb;\n    --wui-message-border-color: #e1f3d8;\n    --wui-message-text-color: #67c23a;\n}\n.wui-message--warning {\n    --wui-message-bg-color: #fdf6ec;\n    --wui-message-border-color: #faecd8;\n    --wui-message-text-color: #e6a23c;\n}\n.wui-message--info {\n    --wui-message-bg-color: #f4f4f5;\n    --wui-message-border-color: #e9e9eb;\n    --wui-message-text-color: #909399;\n}\n.wui-message--error {\n    --wui-message-bg-color: #fef0f0;\n    --wui-message-border-color: #fde2e2;\n    --wui-message-text-color: #f56c6c;\n}\n\n@keyframes msg-open {\n    0% {\n        opacity: 0;\n        -webkit-transform: translateY(-120%);\n        transform: translateY(-120%)\n    }\n    to {\n        -webkit-transform: translateY(0);\n        transform: translateY(0)\n    }\n}\n\n@keyframes msg-close {\n    0% {\n        opacity: 1;\n        -webkit-transform: scale(1);\n        transform: scale(1)\n    }\n    to {\n        opacity: 0;\n        -webkit-transform: scale(.9);\n        transform: scale(.9)\n    }\n}\n.wui-message[data-state=entered],.wui-message[data-state=entering] {\n    -webkit-animation: msg-open .24s cubic-bezier(.175,.885,.32,1.175) both;\n    animation: msg-open .24s cubic-bezier(.175,.885,.32,1.175) both\n}\n\n.wui-message[data-state=exiting] {\n    -webkit-animation: msg-close .12s cubic-bezier(.4,0,1,1) both;\n    animation: msg-close .12s cubic-bezier(.4,0,1,1) both\n}\n\n.wui-message {\n    width: -webkit-fit-content;\n    width: -moz-fit-content;\n    width: fit-content;\n    z-index: 2004;\n    max-width: calc(100% - 32px);\n    margin-top: 8px;\n    box-sizing: border-box;\n    /*border-radius: var(--wui-border-radius-base);*/\n    /*border-width: var(--wui-border-width);*/\n    /*border-style: var(--wui-border-style);*/\n    border-color: var(--wui-message-border-color);\n    /*left: 50%;*/\n    /*top: 20px;*/\n    /*transform: translateX(-50%);*/\n    background-color: var(--wui-message-bg-color);\n    /*transition: opacity var(--wui-transition-duration),transform .4s,top .4s;*/\n    /*padding: var(--wui-message-padding);*/\n    display: flex;\n    align-items: center;\n}\n\n/*.wui-message--success */\n.wui-message__content {\n    color: var(--wui-message-text-color);\n    font-size: 14px;\n    line-height: 18px;\n    margin: 10px 14px 10px 14px;\n    overflow-wrap: break-word;\n}\n\n.wui-message__closeBtn {\n    /*cursor: pointer;*/\n    font-style: normal;\n    /*color: gray;*/\n    padding-right: 14px;\n    /*font-size: 13px;*/\n    user-select: none;\n\n    background: transparent;\n    border: none;\n    color: gray;\n    cursor: pointer;\n    font-size: 13px;\n    font-weight: 400;\n    line-height: 1;\n    outline: none;\n    /*padding: 4px;*/\n    text-align: center;\n    transition: opacity .3s;\n    /*width: 100%;*/\n}",
       "_esm": "function closeMsg(msgDom) {\n  if (!msgDom) {\n    return;\n  }\n  msgDom.setAttribute('data-state', 'exiting');\n  msgDom.remove();\n}\n\nfunction createMsg(options) {\n  const {message, msg_id, type = 'info', show_close = false} = options;\n  const msgDom = document.createElement('div');\n  msgDom.className += ` wui-message--${type} wui-message`;\n  msgDom.setAttribute('data-state', 'entered');\n  msgDom.setAttribute('id', msg_id);\n  const msgContent = document.createElement('p');\n  msgContent.className += ` wui-message--${type} wui-message__content`;\n  msgContent.innerText = message;\n  msgDom.appendChild(msgContent);\n  if (show_close) {\n    const closeBtn = document.createElement('i');\n    closeBtn.className += 'wui-message__closeBtn';\n    closeBtn.innerText = 'x';\n    closeBtn.addEventListener('click', (ev) => {\n      closeMsg(msgDom);\n    })\n    msgDom.appendChild(closeBtn);\n  }\n  return msgDom;\n}\n\nexport async function render(view) {\n  let model = view.model;\n  const msgRoot = view.el;\n  msgRoot.className += ' wui-message-root'\n\n  const msgContainer = document.createElement('div');\n  msgContainer.className += ' wui-message-container';\n  msgRoot.appendChild(msgContainer)\n\n  model.on(\"change:message_options\", () => {\n    const options = model.get(\"message_options\");\n    const msg = createMsg(options);\n    msgContainer.appendChild(msg);\n    const {duration = 3000} = options;\n    if (duration > 0) {\n      setTimeout(() => {\n        closeMsg(msg)\n      }, duration);\n    }\n  })\n\n  model.on(\"change:close_msg_id\", () => {\n    const msg_id = model.get(\"close_msg_id\");\n    const msgDom = document.getElementById(msg_id);\n    closeMsg(msgDom);\n  })\n}\n",
       "_model_module": "anywidget",
       "_model_module_version": "0.9.3",
       "_model_name": "AnyModel",
       "_view_module": "anywidget",
       "_view_module_version": "0.9.3",
       "_view_name": "AnyView",
       "close_msg_id": "",
       "layout": "IPY_MODEL_47b0ea27ae9b490a84d501a60ece3934",
       "message_options": {
        "duration": 3000,
        "message": "",
        "show_close": false,
        "type": "info"
       }
      }
     },
     "e445a92fe888418194be32ad89e5c3e1": {
      "model_module": "@jupyter-widgets/base",
      "model_module_version": "2.0.0",
      "model_name": "LayoutModel",
      "state": {}
     },
     "ec06c6d88b284e84a6fe7c90e58c83d1": {
      "model_module": "@jupyter-widgets/controls",
      "model_module_version": "2.0.0",
      "model_name": "VBoxModel",
      "state": {
       "children": [
        "IPY_MODEL_18290ab27d354ff38366bcfc107b3f2f"
       ],
       "layout": "IPY_MODEL_5e828d10073d45fea67003f9575f171c"
      }
     },
     "f7a6074fe30b4b67a10a114dc08dd9f1": {
      "model_module": "@jupyter-widgets/controls",
      "model_module_version": "2.0.0",
      "model_name": "VBoxModel",
      "state": {
       "children": [
        "IPY_MODEL_22a0805540a24b2c9ca085846273cf0b",
        "IPY_MODEL_9bbe39bb9f9244669d68c4f67d1c9cac"
       ],
       "layout": "IPY_MODEL_af2ff957132f4f7780e1628e30d9fc8c"
      }
     }
    },
    "version_major": 2,
    "version_minor": 0
   }
  }
 },
 "nbformat": 4,
 "nbformat_minor": 5
}