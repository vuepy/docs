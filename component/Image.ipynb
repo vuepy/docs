{
 "cells": [
  {
   "cell_type": "markdown",
   "id": "a1e2fa29-7566-4426-be1e-a750658d83a5",
   "metadata": {},
   "source": [
    "# Image 图片\n",
    "\n",
    "图片容器，用于显示图片"
   ]
  },
  {
   "cell_type": "markdown",
   "id": "7cdc5e8c-2aa8-41d1-9461-3e451f6ef6ea",
   "metadata": {},
   "source": [
    "## 基础用法\n",
    "\n",
    "读取图片并显示。可以通过 `100px`, `50%` 等形式设置图片的宽、高。也可以通过 `style` 的 `border` 设置边框。"
   ]
  },
  {
   "cell_type": "code",
   "execution_count": 1,
   "id": "f5928b17-e8c8-47b0-9774-a8bb1f7e6af3",
   "metadata": {},
   "outputs": [
    {
     "name": "stdout",
     "output_type": "stream",
     "text": [
      "{\"vue\": \"<!-- basic.vue -->\\n<template>\\n  <Image v-model=\\\"img.value\\\" format=\\\"png\\\" style=\\\"width: 200px\\\"></Image>\\n\\n  <Image\\n      v-model=\\\"img.value\\\" format=\\\"png\\\"\\n      style=\\\"width: 200px; border: 2px solid deepskyblue\\\"\\n  ></Image>\\n\\n  <Image\\n      v-model=\\\"img.value\\\" format=\\\"png\\\"\\n      :style=\\\"'width: 200px; border: 2px solid {}'.format('blue')\\\"\\n  ></Image>\\n</template>\\n\\n<script setup>\\nimport Image from \\\"../../../src/ipywui/components/Image\\\";\\n</script>\\n<script lang=\\\"py\\\">\\nfrom vuepy import ref\\n\\nfile = open(\\\"jupyter_logo.png\\\", \\\"rb\\\")\\nimg = ref(file.read())\\n</script>\", \"setup\": 0}\n"
     ]
    },
    {
     "data": {
      "application/vnd.jupyter.widget-view+json": {
       "model_id": "8b02a49079924548b887f89f795da9f7",
       "version_major": 2,
       "version_minor": 0
      },
      "text/plain": [
       "Document(children=(Dom(children=(MessageWidget(message_options={'message': '', 'type': 'info', 'show_close': F…"
      ]
     },
     "execution_count": 1,
     "metadata": {},
     "output_type": "execute_result"
    }
   ],
   "source": [
    "import os\n",
    "import pathlib\n",
    "from vuepy.utils import magic\n",
    "\n",
    "cur_path = magic.get_curr_ipynb_dir()\n",
    "source_root = cur_path.absolute().parent.parent.parent\n",
    "os.chdir(source_root / 'examples' / 'ipywui' / 'image')\n",
    "\n",
    "%vuepy_demo basic.vue"
   ]
  },
  {
   "cell_type": "markdown",
   "id": "f2ce0eb3-5c85-41c5-a2ed-60c3bd028f5e",
   "metadata": {},
   "source": [
    "## 显示 PIL 图片\n",
    "\n",
    "组件内部会自动将 `PIL` 图片通过 `convert_pil_image_to_bin` 转换为二进制。"
   ]
  },
  {
   "cell_type": "code",
   "execution_count": 2,
   "id": "ae63e8bb-ea25-4bf1-9297-53efcca4bae8",
   "metadata": {},
   "outputs": [
    {
     "name": "stdout",
     "output_type": "stream",
     "text": [
      "{\"vue\": \"<!-- pil_img.vue -->\\n<template>\\n  <Image :value=\\\"pil_img\\\" style=\\\"width: 200px\\\"></Image>\\n</template>\\n\\n<script setup>\\nimport Image from \\\"../../../src/ipywui/components/Image\\\";\\n</script>\\n<script lang=\\\"py\\\">\\nfrom vuepy import ref\\nfrom PIL import Image\\n\\npil_img = Image.open(\\\"jupyter_logo.png\\\")\\n</script>\", \"setup\": 0}\n"
     ]
    },
    {
     "data": {
      "application/vnd.jupyter.widget-view+json": {
       "model_id": "710e8bd09dc549d5805f3c568eeacc3b",
       "version_major": 2,
       "version_minor": 0
      },
      "text/plain": [
       "Document(children=(Dom(children=(MessageWidget(message_options={'message': '', 'type': 'info', 'show_close': F…"
      ]
     },
     "execution_count": 2,
     "metadata": {},
     "output_type": "execute_result"
    }
   ],
   "source": [
    "%vuepy_demo pil_img.vue"
   ]
  },
  {
   "cell_type": "markdown",
   "id": "9ac9b614-0b50-48d0-9104-e11282d5e234",
   "metadata": {},
   "source": [
    "## 显示 OpenCV 图片 / numpy ndarray\n",
    "\n",
    "可以将 opencv 图片 / ndarray 装换为 PIL 图片后再显示。"
   ]
  },
  {
   "cell_type": "code",
   "execution_count": 3,
   "id": "212ff936-b457-4e8f-9b27-c37b6590aa86",
   "metadata": {},
   "outputs": [
    {
     "name": "stdout",
     "output_type": "stream",
     "text": [
      "{\"vue\": \"<!-- numpy_ndarray.vue -->\\n<template>\\n  <Image :value=\\\"rgb_png\\\" width=\\\"30%\\\"></Image>\\n  <Image :value=\\\"gray_png\\\" width=\\\"100px\\\"></Image>\\n  <Image :value=\\\"img_png\\\" width=\\\"100px\\\"></Image>\\n</template>\\n\\n<script src=\\\"./numpy_ndarray.py\\\"></script>\\n<script>\\nimport Image from \\\"../../../src/ipywui/components/Image\\\";\\n</script>\\n\", \"setup\": \"# ./numpy_ndarray.py\\n\\nimport numpy as np\\nfrom PIL import Image\\n\\nfrom vuepy.utils.image_processer import convert_pil_image_to_bin\\n\\n\\ndef setup(props, ctx, vm):\\n    img_array = np.zeros([100, 100, 3], dtype=np.uint8)\\n    img_array[:, :, 2] = 200\\n    # to rgb img\\n    rgb_png = Image.fromarray(img_array, mode='RGB')\\n    # \\u5fc5\\u987b\\u6307\\u5b9aformat\\n    rgb_png.format = 'PNG'\\n\\n\\n    img_array = np.zeros([100, 100, 1], dtype=np.uint8)\\n    img_array += 122\\n    # to gray img\\n    img = Image.fromarray(img_array.squeeze(), 'L')\\n    gray_png = convert_pil_image_to_bin(img, 'PNG')\\n\\n\\n    import cv2 as cv\\n    cv_img = cv.imread(\\\"jupyter_logo.png\\\", cv.IMREAD_UNCHANGED)\\n    # opencv to pil\\n    img_png = Image.fromarray(cv.cvtColor(cv_img, cv.COLOR_BGRA2RGBA))\\n    img_png.format = \\\"PNG\\\"\\n\\n    return locals()\\n\"}\n"
     ]
    },
    {
     "data": {
      "application/vnd.jupyter.widget-view+json": {
       "model_id": "2ab0ca6ddfe246479b722e8c5b62142e",
       "version_major": 2,
       "version_minor": 0
      },
      "text/plain": [
       "Document(children=(Dom(children=(MessageWidget(message_options={'message': '', 'type': 'info', 'show_close': F…"
      ]
     },
     "execution_count": 3,
     "metadata": {},
     "output_type": "execute_result"
    }
   ],
   "source": [
    "%vuepy_demo numpy_ndarray.vue"
   ]
  },
  {
   "cell_type": "markdown",
   "id": "8685d144-029f-4afa-8547-4f3d84529504",
   "metadata": {},
   "source": [
    "## API\n",
    "\n",
    "### 属性\n",
    "\n",
    "| 属性名        | 说明                 | 类型                                                           | 默认值 |\n",
    "| --------     | ------------------- | ---------------------------------------------------------------| ------- |\n",
    "| v-model/value | 绑定值，图片二进制数据 | ^[bytes]                                                         | —       |\n",
    "| format | 图片格式 | ^[str]                                                         | png      |\n",
    "| width | 图片的宽 | ^[str]                                                         | -      |\n",
    "| height | 图片的高 | ^[str]                                                         | -      |\n",
    "| style    | 自定义css样式             | ^[str]                                                         | -       |\n",
    "\n",
    "::: tip\n",
    "\n",
    "**style 支持的其它css属性**\n",
    "\n",
    "Sizes相关\n",
    "* height\n",
    "* width\n",
    "* max_height\n",
    "* max_width\n",
    "* min_height\n",
    "* min_width\n",
    "\n",
    "Display相关\n",
    "* visibility\n",
    "* display\n",
    "* overflow\n",
    "\n",
    "Box model相关\n",
    "* border\n",
    "* margin\n",
    "* padding\n",
    "\n",
    "Positioning相关\n",
    "* top\n",
    "* left\n",
    "* bottom\n",
    "* right\n",
    "\n",
    ":::\n",
    "\n",
    "### 方法\n",
    "\n",
    "| 属性名 | 说明 | 类型 |\n",
    "| --- | --- | --- |\n"
   ]
  }
 ],
 "metadata": {
  "kernelspec": {
   "display_name": "Python 3 (ipykernel)",
   "language": "python",
   "name": "python3"
  },
  "language_info": {
   "codemirror_mode": {
    "name": "ipython",
    "version": 3
   },
   "file_extension": ".py",
   "mimetype": "text/x-python",
   "name": "python",
   "nbconvert_exporter": "python",
   "pygments_lexer": "ipython3",
   "version": "3.10.12"
  },
  "widgets": {
   "application/vnd.jupyter.widget-state+json": {
    "state": {
     "0089fe62ca6c4d50ba124c6848396814": {
      "model_module": "@jupyter-widgets/controls",
      "model_module_version": "2.0.0",
      "model_name": "VBoxModel",
      "state": {
       "children": [
        "IPY_MODEL_9483c188a507435b9247f88efaa6b38e",
        "IPY_MODEL_9483c188a507435b9247f88efaa6b38e",
        "IPY_MODEL_6e94ce8db4ce4186962667b69694dd6d"
       ],
       "layout": "IPY_MODEL_3a24b16616034bc1b4c6bf2fbdba216f"
      }
     },
     "0d129a7d3b3e4aea8ee986ceac834abd": {
      "model_module": "@jupyter-widgets/base",
      "model_module_version": "2.0.0",
      "model_name": "LayoutModel",
      "state": {
       "width": "100px"
      }
     },
     "0d2eb62a41b44a24b0f4ada1f658099b": {
      "model_module": "@jupyter-widgets/base",
      "model_module_version": "2.0.0",
      "model_name": "LayoutModel",
      "state": {
       "border_bottom": "2px solid blue",
       "border_left": "2px solid blue",
       "border_right": "2px solid blue",
       "border_top": "2px solid blue",
       "width": "200px"
      }
     },
     "12c1c92f33ec45da88c96a699ad16da4": {
      "model_module": "@jupyter-widgets/base",
      "model_module_version": "2.0.0",
      "model_name": "LayoutModel",
      "state": {}
     },
     "1d113795d1404efea2bf7299f263156d": {
      "model_module": "@jupyter-widgets/output",
      "model_module_version": "1.0.0",
      "model_name": "OutputModel",
      "state": {
       "layout": "IPY_MODEL_12c1c92f33ec45da88c96a699ad16da4"
      }
     },
     "261d06ec2f50445698ddaedb5c19635b": {
      "model_module": "@jupyter-widgets/output",
      "model_module_version": "1.0.0",
      "model_name": "OutputModel",
      "state": {
       "layout": "IPY_MODEL_3de7aefcadf246e9a2f31e0d4cb155d2",
       "outputs": [
        {
         "data": {
          "application/vnd.jupyter.widget-view+json": {
           "model_id": "2ab0ca6ddfe246479b722e8c5b62142e",
           "version_major": 2,
           "version_minor": 0
          },
          "text/plain": "Document(children=(Dom(children=(MessageWidget(message_options={'message': '', 'type': 'info', 'show_close': F…"
         },
         "metadata": {},
         "output_type": "display_data"
        }
       ]
      }
     },
     "2ab0ca6ddfe246479b722e8c5b62142e": {
      "model_module": "@jupyter-widgets/controls",
      "model_module_version": "2.0.0",
      "model_name": "VBoxModel",
      "state": {
       "children": [
        "IPY_MODEL_0089fe62ca6c4d50ba124c6848396814"
       ],
       "layout": "IPY_MODEL_a66c737e838e45f0ba65b994ae93f145"
      }
     },
     "32c35658509c410c86754d2aba517412": {
      "model_module": "@jupyter-widgets/controls",
      "model_module_version": "2.0.0",
      "model_name": "VBoxModel",
      "state": {
       "children": [
        "IPY_MODEL_5af1e1cb8129472eba37bf599b66301d",
        "IPY_MODEL_5af1e1cb8129472eba37bf599b66301d",
        "IPY_MODEL_41ad16e76553496fa7fbd554b40d4134"
       ],
       "layout": "IPY_MODEL_a774f26d18464c6c901c38905fe46ba2"
      }
     },
     "345cd97879ab46189dbee8083b08c264": {
      "model_module": "@jupyter-widgets/base",
      "model_module_version": "2.0.0",
      "model_name": "LayoutModel",
      "state": {
       "width": "100px"
      }
     },
     "3a24b16616034bc1b4c6bf2fbdba216f": {
      "model_module": "@jupyter-widgets/base",
      "model_module_version": "2.0.0",
      "model_name": "LayoutModel",
      "state": {}
     },
     "3c7c436527c14b51907ff5416b776d40": {
      "model_module": "@jupyter-widgets/base",
      "model_module_version": "2.0.0",
      "model_name": "LayoutModel",
      "state": {}
     },
     "3de7aefcadf246e9a2f31e0d4cb155d2": {
      "model_module": "@jupyter-widgets/base",
      "model_module_version": "2.0.0",
      "model_name": "LayoutModel",
      "state": {}
     },
     "41ad16e76553496fa7fbd554b40d4134": {
      "model_module": "@jupyter-widgets/controls",
      "model_module_version": "2.0.0",
      "model_name": "VBoxModel",
      "state": {
       "children": [
        "IPY_MODEL_6a1be43da72348209d6713908c1bee91"
       ],
       "layout": "IPY_MODEL_741371635a71480f80736b011537080f"
      }
     },
     "455b4551c42749cfa9aa28a120e922c3": {
      "model_module": "@jupyter-widgets/controls",
      "model_module_version": "2.0.0",
      "model_name": "VBoxModel",
      "state": {
       "children": [
        "IPY_MODEL_bf7c3878a19243a9b3279632da954d55",
        "IPY_MODEL_fb5a939e90d44d37a7a0677dee229209",
        "IPY_MODEL_bd75cee1ad904727ae49df886e9fb172"
       ],
       "layout": "IPY_MODEL_c3e51f1495a54dc7821a75b00a49f7a4"
      }
     },
     "47a79ac1b17f4e3ca37f226ede25c9fe": {
      "buffers": [
       {
        "data": "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",
        "encoding": "base64",
        "path": [
         "value"
        ]
       }
      ],
      "model_module": "@jupyter-widgets/controls",
      "model_module_version": "2.0.0",
      "model_name": "ImageModel",
      "state": {
       "layout": "IPY_MODEL_baef66adb4c943898a1b308497c45c98"
      }
     },
     "48964e24a7a94fb1af76f33c00aed9cc": {
      "model_module": "@jupyter-widgets/base",
      "model_module_version": "2.0.0",
      "model_name": "LayoutModel",
      "state": {}
     },
     "4f2ee5f931ec436c8eb79843254eca18": {
      "buffers": [
       {
        "data": "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",
        "encoding": "base64",
        "path": [
         "value"
        ]
       }
      ],
      "model_module": "@jupyter-widgets/controls",
      "model_module_version": "2.0.0",
      "model_name": "ImageModel",
      "state": {
       "layout": "IPY_MODEL_0d2eb62a41b44a24b0f4ada1f658099b"
      }
     },
     "4fb843716eb54040ba562687f1d15c5b": {
      "model_module": "@jupyter-widgets/base",
      "model_module_version": "2.0.0",
      "model_name": "LayoutModel",
      "state": {}
     },
     "56c56e7b31fd48a1ad3958fed2fe9c65": {
      "model_module": "@jupyter-widgets/base",
      "model_module_version": "2.0.0",
      "model_name": "LayoutModel",
      "state": {}
     },
     "575ee80c267248cab502f794d2da1212": {
      "model_module": "@jupyter-widgets/base",
      "model_module_version": "2.0.0",
      "model_name": "LayoutModel",
      "state": {}
     },
     "5af1e1cb8129472eba37bf599b66301d": {
      "model_module": "anywidget",
      "model_module_version": "0.9.3",
      "model_name": "AnyModel",
      "state": {
       "_anywidget_id": "ipywui.widgets.custom.message.MessageWidget",
       "_css": ".wui-message-root {\n    display: flex;\n    position: absolute;\n    left: 0;\n    right: 0;\n    top: 0;\n}\n\n.wui-message-container {\n    align-items: center;\n    display: flex;\n    flex-direction: column-reverse;\n    justify-content: center;\n    min-height: 100%;\n    outline: none;\n    width: 100%;\n\n    -webkit-tap-highlight-color: rgba(0,0,0,0);\n    bottom: 0;\n    left: 0;\n    right: 0;\n    top: 0;\n}\n\n.wui-message--success {\n    --wui-message-bg-color: #f0f9eb;\n    --wui-message-border-color: #e1f3d8;\n    --wui-message-text-color: #67c23a;\n}\n.wui-message--warning {\n    --wui-message-bg-color: #fdf6ec;\n    --wui-message-border-color: #faecd8;\n    --wui-message-text-color: #e6a23c;\n}\n.wui-message--info {\n    --wui-message-bg-color: #f4f4f5;\n    --wui-message-border-color: #e9e9eb;\n    --wui-message-text-color: #909399;\n}\n.wui-message--error {\n    --wui-message-bg-color: #fef0f0;\n    --wui-message-border-color: #fde2e2;\n    --wui-message-text-color: #f56c6c;\n}\n\n@keyframes msg-open {\n    0% {\n        opacity: 0;\n        -webkit-transform: translateY(-120%);\n        transform: translateY(-120%)\n    }\n    to {\n        -webkit-transform: translateY(0);\n        transform: translateY(0)\n    }\n}\n\n@keyframes msg-close {\n    0% {\n        opacity: 1;\n        -webkit-transform: scale(1);\n        transform: scale(1)\n    }\n    to {\n        opacity: 0;\n        -webkit-transform: scale(.9);\n        transform: scale(.9)\n    }\n}\n.wui-message[data-state=entered],.wui-message[data-state=entering] {\n    -webkit-animation: msg-open .24s cubic-bezier(.175,.885,.32,1.175) both;\n    animation: msg-open .24s cubic-bezier(.175,.885,.32,1.175) both\n}\n\n.wui-message[data-state=exiting] {\n    -webkit-animation: msg-close .12s cubic-bezier(.4,0,1,1) both;\n    animation: msg-close .12s cubic-bezier(.4,0,1,1) both\n}\n\n.wui-message {\n    width: -webkit-fit-content;\n    width: -moz-fit-content;\n    width: fit-content;\n    z-index: 2004;\n    max-width: calc(100% - 32px);\n    margin-top: 8px;\n    box-sizing: border-box;\n    /*border-radius: var(--wui-border-radius-base);*/\n    /*border-width: var(--wui-border-width);*/\n    /*border-style: var(--wui-border-style);*/\n    border-color: var(--wui-message-border-color);\n    /*left: 50%;*/\n    /*top: 20px;*/\n    /*transform: translateX(-50%);*/\n    background-color: var(--wui-message-bg-color);\n    /*transition: opacity var(--wui-transition-duration),transform .4s,top .4s;*/\n    /*padding: var(--wui-message-padding);*/\n    display: flex;\n    align-items: center;\n}\n\n/*.wui-message--success */\n.wui-message__content {\n    color: var(--wui-message-text-color);\n    font-size: 14px;\n    line-height: 18px;\n    margin: 10px 14px 10px 14px;\n    overflow-wrap: break-word;\n}\n\n.wui-message__closeBtn {\n    /*cursor: pointer;*/\n    font-style: normal;\n    /*color: gray;*/\n    padding-right: 14px;\n    /*font-size: 13px;*/\n    user-select: none;\n\n    background: transparent;\n    border: none;\n    color: gray;\n    cursor: pointer;\n    font-size: 13px;\n    font-weight: 400;\n    line-height: 1;\n    outline: none;\n    /*padding: 4px;*/\n    text-align: center;\n    transition: opacity .3s;\n    /*width: 100%;*/\n}",
       "_esm": "function closeMsg(msgDom) {\n  if (!msgDom) {\n    return;\n  }\n  msgDom.setAttribute('data-state', 'exiting');\n  msgDom.remove();\n}\n\nfunction createMsg(options) {\n  const {message, msg_id, type = 'info', show_close = false} = options;\n  const msgDom = document.createElement('div');\n  msgDom.className += ` wui-message--${type} wui-message`;\n  msgDom.setAttribute('data-state', 'entered');\n  msgDom.setAttribute('id', msg_id);\n  const msgContent = document.createElement('p');\n  msgContent.className += ` wui-message--${type} wui-message__content`;\n  msgContent.innerText = message;\n  msgDom.appendChild(msgContent);\n  if (show_close) {\n    const closeBtn = document.createElement('i');\n    closeBtn.className += 'wui-message__closeBtn';\n    closeBtn.innerText = 'x';\n    closeBtn.addEventListener('click', (ev) => {\n      closeMsg(msgDom);\n    })\n    msgDom.appendChild(closeBtn);\n  }\n  return msgDom;\n}\n\nexport async function render(view) {\n  let model = view.model;\n  const msgRoot = view.el;\n  msgRoot.className += ' wui-message-root'\n\n  const msgContainer = document.createElement('div');\n  msgContainer.className += ' wui-message-container';\n  msgRoot.appendChild(msgContainer)\n\n  model.on(\"change:message_options\", () => {\n    const options = model.get(\"message_options\");\n    const msg = createMsg(options);\n    msgContainer.appendChild(msg);\n    const {duration = 3000} = options;\n    if (duration > 0) {\n      setTimeout(() => {\n        closeMsg(msg)\n      }, duration);\n    }\n  })\n\n  model.on(\"change:close_msg_id\", () => {\n    const msg_id = model.get(\"close_msg_id\");\n    const msgDom = document.getElementById(msg_id);\n    closeMsg(msgDom);\n  })\n}\n",
       "_model_module": "anywidget",
       "_model_module_version": "0.9.3",
       "_model_name": "AnyModel",
       "_view_module": "anywidget",
       "_view_module_version": "0.9.3",
       "_view_name": "AnyView",
       "close_msg_id": "",
       "layout": "IPY_MODEL_575ee80c267248cab502f794d2da1212",
       "message_options": {
        "duration": 3000,
        "message": "",
        "show_close": false,
        "type": "info"
       }
      }
     },
     "655401c52afe4ea082f1a16cd84e23fa": {
      "model_module": "@jupyter-widgets/controls",
      "model_module_version": "2.0.0",
      "model_name": "VBoxModel",
      "state": {
       "children": [
        "IPY_MODEL_9f238904844844818f357b821783c72d",
        "IPY_MODEL_9f238904844844818f357b821783c72d",
        "IPY_MODEL_97cbf008697549928bb74d2a6a53159c"
       ],
       "layout": "IPY_MODEL_c9f75725aed345678da673908b0a33a8"
      }
     },
     "6a1be43da72348209d6713908c1bee91": {
      "buffers": [
       {
        "data": "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",
        "encoding": "base64",
        "path": [
         "value"
        ]
       }
      ],
      "model_module": "@jupyter-widgets/controls",
      "model_module_version": "2.0.0",
      "model_name": "ImageModel",
      "state": {
       "layout": "IPY_MODEL_8bf8602c775b4e08a95be83b06eba877"
      }
     },
     "6e94ce8db4ce4186962667b69694dd6d": {
      "model_module": "@jupyter-widgets/controls",
      "model_module_version": "2.0.0",
      "model_name": "VBoxModel",
      "state": {
       "children": [
        "IPY_MODEL_455b4551c42749cfa9aa28a120e922c3"
       ],
       "layout": "IPY_MODEL_bac5e5cdfa804a8db113d7a2f3895075"
      }
     },
     "710e8bd09dc549d5805f3c568eeacc3b": {
      "model_module": "@jupyter-widgets/controls",
      "model_module_version": "2.0.0",
      "model_name": "VBoxModel",
      "state": {
       "children": [
        "IPY_MODEL_32c35658509c410c86754d2aba517412"
       ],
       "layout": "IPY_MODEL_ac19f84aaec143b785aaff8ff42b68e0"
      }
     },
     "73b43bd3c0424bfe9c03c894aecf8411": {
      "model_module": "@jupyter-widgets/base",
      "model_module_version": "2.0.0",
      "model_name": "LayoutModel",
      "state": {}
     },
     "741371635a71480f80736b011537080f": {
      "model_module": "@jupyter-widgets/base",
      "model_module_version": "2.0.0",
      "model_name": "LayoutModel",
      "state": {}
     },
     "81e15562eecd40f4a8ca2a5003ee3e7c": {
      "model_module": "anywidget",
      "model_module_version": "0.9.3",
      "model_name": "AnyModel",
      "state": {
       "_anywidget_id": "ipywui.widgets.custom.message.MessageWidget",
       "_css": ".wui-message-root {\n    display: flex;\n    position: absolute;\n    left: 0;\n    right: 0;\n    top: 0;\n}\n\n.wui-message-container {\n    align-items: center;\n    display: flex;\n    flex-direction: column-reverse;\n    justify-content: center;\n    min-height: 100%;\n    outline: none;\n    width: 100%;\n\n    -webkit-tap-highlight-color: rgba(0,0,0,0);\n    bottom: 0;\n    left: 0;\n    right: 0;\n    top: 0;\n}\n\n.wui-message--success {\n    --wui-message-bg-color: #f0f9eb;\n    --wui-message-border-color: #e1f3d8;\n    --wui-message-text-color: #67c23a;\n}\n.wui-message--warning {\n    --wui-message-bg-color: #fdf6ec;\n    --wui-message-border-color: #faecd8;\n    --wui-message-text-color: #e6a23c;\n}\n.wui-message--info {\n    --wui-message-bg-color: #f4f4f5;\n    --wui-message-border-color: #e9e9eb;\n    --wui-message-text-color: #909399;\n}\n.wui-message--error {\n    --wui-message-bg-color: #fef0f0;\n    --wui-message-border-color: #fde2e2;\n    --wui-message-text-color: #f56c6c;\n}\n\n@keyframes msg-open {\n    0% {\n        opacity: 0;\n        -webkit-transform: translateY(-120%);\n        transform: translateY(-120%)\n    }\n    to {\n        -webkit-transform: translateY(0);\n        transform: translateY(0)\n    }\n}\n\n@keyframes msg-close {\n    0% {\n        opacity: 1;\n        -webkit-transform: scale(1);\n        transform: scale(1)\n    }\n    to {\n        opacity: 0;\n        -webkit-transform: scale(.9);\n        transform: scale(.9)\n    }\n}\n.wui-message[data-state=entered],.wui-message[data-state=entering] {\n    -webkit-animation: msg-open .24s cubic-bezier(.175,.885,.32,1.175) both;\n    animation: msg-open .24s cubic-bezier(.175,.885,.32,1.175) both\n}\n\n.wui-message[data-state=exiting] {\n    -webkit-animation: msg-close .12s cubic-bezier(.4,0,1,1) both;\n    animation: msg-close .12s cubic-bezier(.4,0,1,1) both\n}\n\n.wui-message {\n    width: -webkit-fit-content;\n    width: -moz-fit-content;\n    width: fit-content;\n    z-index: 2004;\n    max-width: calc(100% - 32px);\n    margin-top: 8px;\n    box-sizing: border-box;\n    /*border-radius: var(--wui-border-radius-base);*/\n    /*border-width: var(--wui-border-width);*/\n    /*border-style: var(--wui-border-style);*/\n    border-color: var(--wui-message-border-color);\n    /*left: 50%;*/\n    /*top: 20px;*/\n    /*transform: translateX(-50%);*/\n    background-color: var(--wui-message-bg-color);\n    /*transition: opacity var(--wui-transition-duration),transform .4s,top .4s;*/\n    /*padding: var(--wui-message-padding);*/\n    display: flex;\n    align-items: center;\n}\n\n/*.wui-message--success */\n.wui-message__content {\n    color: var(--wui-message-text-color);\n    font-size: 14px;\n    line-height: 18px;\n    margin: 10px 14px 10px 14px;\n    overflow-wrap: break-word;\n}\n\n.wui-message__closeBtn {\n    /*cursor: pointer;*/\n    font-style: normal;\n    /*color: gray;*/\n    padding-right: 14px;\n    /*font-size: 13px;*/\n    user-select: none;\n\n    background: transparent;\n    border: none;\n    color: gray;\n    cursor: pointer;\n    font-size: 13px;\n    font-weight: 400;\n    line-height: 1;\n    outline: none;\n    /*padding: 4px;*/\n    text-align: center;\n    transition: opacity .3s;\n    /*width: 100%;*/\n}",
       "_esm": "function closeMsg(msgDom) {\n  if (!msgDom) {\n    return;\n  }\n  msgDom.setAttribute('data-state', 'exiting');\n  msgDom.remove();\n}\n\nfunction createMsg(options) {\n  const {message, msg_id, type = 'info', show_close = false} = options;\n  const msgDom = document.createElement('div');\n  msgDom.className += ` wui-message--${type} wui-message`;\n  msgDom.setAttribute('data-state', 'entered');\n  msgDom.setAttribute('id', msg_id);\n  const msgContent = document.createElement('p');\n  msgContent.className += ` wui-message--${type} wui-message__content`;\n  msgContent.innerText = message;\n  msgDom.appendChild(msgContent);\n  if (show_close) {\n    const closeBtn = document.createElement('i');\n    closeBtn.className += 'wui-message__closeBtn';\n    closeBtn.innerText = 'x';\n    closeBtn.addEventListener('click', (ev) => {\n      closeMsg(msgDom);\n    })\n    msgDom.appendChild(closeBtn);\n  }\n  return msgDom;\n}\n\nexport async function render(view) {\n  let model = view.model;\n  const msgRoot = view.el;\n  msgRoot.className += ' wui-message-root'\n\n  const msgContainer = document.createElement('div');\n  msgContainer.className += ' wui-message-container';\n  msgRoot.appendChild(msgContainer)\n\n  model.on(\"change:message_options\", () => {\n    const options = model.get(\"message_options\");\n    const msg = createMsg(options);\n    msgContainer.appendChild(msg);\n    const {duration = 3000} = options;\n    if (duration > 0) {\n      setTimeout(() => {\n        closeMsg(msg)\n      }, duration);\n    }\n  })\n\n  model.on(\"change:close_msg_id\", () => {\n    const msg_id = model.get(\"close_msg_id\");\n    const msgDom = document.getElementById(msg_id);\n    closeMsg(msgDom);\n  })\n}\n",
       "_model_module": "anywidget",
       "_model_module_version": "0.9.3",
       "_model_name": "AnyModel",
       "_view_module": "anywidget",
       "_view_module_version": "0.9.3",
       "_view_name": "AnyView",
       "close_msg_id": "",
       "layout": "IPY_MODEL_48964e24a7a94fb1af76f33c00aed9cc",
       "message_options": {
        "duration": 3000,
        "message": "",
        "show_close": false,
        "type": "info"
       }
      }
     },
     "8b02a49079924548b887f89f795da9f7": {
      "model_module": "@jupyter-widgets/controls",
      "model_module_version": "2.0.0",
      "model_name": "VBoxModel",
      "state": {
       "children": [
        "IPY_MODEL_655401c52afe4ea082f1a16cd84e23fa"
       ],
       "layout": "IPY_MODEL_73b43bd3c0424bfe9c03c894aecf8411"
      }
     },
     "8bf8602c775b4e08a95be83b06eba877": {
      "model_module": "@jupyter-widgets/base",
      "model_module_version": "2.0.0",
      "model_name": "LayoutModel",
      "state": {
       "width": "200px"
      }
     },
     "8db74195e0d6474ab7b98e8b4f213e13": {
      "model_module": "@jupyter-widgets/controls",
      "model_module_version": "2.0.0",
      "model_name": "VBoxModel",
      "state": {
       "children": [
        "IPY_MODEL_47a79ac1b17f4e3ca37f226ede25c9fe",
        "IPY_MODEL_de93c52ada0846b493121958662fe8ed",
        "IPY_MODEL_4f2ee5f931ec436c8eb79843254eca18"
       ],
       "layout": "IPY_MODEL_3c7c436527c14b51907ff5416b776d40"
      }
     },
     "9483c188a507435b9247f88efaa6b38e": {
      "model_module": "anywidget",
      "model_module_version": "0.9.3",
      "model_name": "AnyModel",
      "state": {
       "_anywidget_id": "ipywui.widgets.custom.message.MessageWidget",
       "_css": ".wui-message-root {\n    display: flex;\n    position: absolute;\n    left: 0;\n    right: 0;\n    top: 0;\n}\n\n.wui-message-container {\n    align-items: center;\n    display: flex;\n    flex-direction: column-reverse;\n    justify-content: center;\n    min-height: 100%;\n    outline: none;\n    width: 100%;\n\n    -webkit-tap-highlight-color: rgba(0,0,0,0);\n    bottom: 0;\n    left: 0;\n    right: 0;\n    top: 0;\n}\n\n.wui-message--success {\n    --wui-message-bg-color: #f0f9eb;\n    --wui-message-border-color: #e1f3d8;\n    --wui-message-text-color: #67c23a;\n}\n.wui-message--warning {\n    --wui-message-bg-color: #fdf6ec;\n    --wui-message-border-color: #faecd8;\n    --wui-message-text-color: #e6a23c;\n}\n.wui-message--info {\n    --wui-message-bg-color: #f4f4f5;\n    --wui-message-border-color: #e9e9eb;\n    --wui-message-text-color: #909399;\n}\n.wui-message--error {\n    --wui-message-bg-color: #fef0f0;\n    --wui-message-border-color: #fde2e2;\n    --wui-message-text-color: #f56c6c;\n}\n\n@keyframes msg-open {\n    0% {\n        opacity: 0;\n        -webkit-transform: translateY(-120%);\n        transform: translateY(-120%)\n    }\n    to {\n        -webkit-transform: translateY(0);\n        transform: translateY(0)\n    }\n}\n\n@keyframes msg-close {\n    0% {\n        opacity: 1;\n        -webkit-transform: scale(1);\n        transform: scale(1)\n    }\n    to {\n        opacity: 0;\n        -webkit-transform: scale(.9);\n        transform: scale(.9)\n    }\n}\n.wui-message[data-state=entered],.wui-message[data-state=entering] {\n    -webkit-animation: msg-open .24s cubic-bezier(.175,.885,.32,1.175) both;\n    animation: msg-open .24s cubic-bezier(.175,.885,.32,1.175) both\n}\n\n.wui-message[data-state=exiting] {\n    -webkit-animation: msg-close .12s cubic-bezier(.4,0,1,1) both;\n    animation: msg-close .12s cubic-bezier(.4,0,1,1) both\n}\n\n.wui-message {\n    width: -webkit-fit-content;\n    width: -moz-fit-content;\n    width: fit-content;\n    z-index: 2004;\n    max-width: calc(100% - 32px);\n    margin-top: 8px;\n    box-sizing: border-box;\n    /*border-radius: var(--wui-border-radius-base);*/\n    /*border-width: var(--wui-border-width);*/\n    /*border-style: var(--wui-border-style);*/\n    border-color: var(--wui-message-border-color);\n    /*left: 50%;*/\n    /*top: 20px;*/\n    /*transform: translateX(-50%);*/\n    background-color: var(--wui-message-bg-color);\n    /*transition: opacity var(--wui-transition-duration),transform .4s,top .4s;*/\n    /*padding: var(--wui-message-padding);*/\n    display: flex;\n    align-items: center;\n}\n\n/*.wui-message--success */\n.wui-message__content {\n    color: var(--wui-message-text-color);\n    font-size: 14px;\n    line-height: 18px;\n    margin: 10px 14px 10px 14px;\n    overflow-wrap: break-word;\n}\n\n.wui-message__closeBtn {\n    /*cursor: pointer;*/\n    font-style: normal;\n    /*color: gray;*/\n    padding-right: 14px;\n    /*font-size: 13px;*/\n    user-select: none;\n\n    background: transparent;\n    border: none;\n    color: gray;\n    cursor: pointer;\n    font-size: 13px;\n    font-weight: 400;\n    line-height: 1;\n    outline: none;\n    /*padding: 4px;*/\n    text-align: center;\n    transition: opacity .3s;\n    /*width: 100%;*/\n}",
       "_esm": "function closeMsg(msgDom) {\n  if (!msgDom) {\n    return;\n  }\n  msgDom.setAttribute('data-state', 'exiting');\n  msgDom.remove();\n}\n\nfunction createMsg(options) {\n  const {message, msg_id, type = 'info', show_close = false} = options;\n  const msgDom = document.createElement('div');\n  msgDom.className += ` wui-message--${type} wui-message`;\n  msgDom.setAttribute('data-state', 'entered');\n  msgDom.setAttribute('id', msg_id);\n  const msgContent = document.createElement('p');\n  msgContent.className += ` wui-message--${type} wui-message__content`;\n  msgContent.innerText = message;\n  msgDom.appendChild(msgContent);\n  if (show_close) {\n    const closeBtn = document.createElement('i');\n    closeBtn.className += 'wui-message__closeBtn';\n    closeBtn.innerText = 'x';\n    closeBtn.addEventListener('click', (ev) => {\n      closeMsg(msgDom);\n    })\n    msgDom.appendChild(closeBtn);\n  }\n  return msgDom;\n}\n\nexport async function render(view) {\n  let model = view.model;\n  const msgRoot = view.el;\n  msgRoot.className += ' wui-message-root'\n\n  const msgContainer = document.createElement('div');\n  msgContainer.className += ' wui-message-container';\n  msgRoot.appendChild(msgContainer)\n\n  model.on(\"change:message_options\", () => {\n    const options = model.get(\"message_options\");\n    const msg = createMsg(options);\n    msgContainer.appendChild(msg);\n    const {duration = 3000} = options;\n    if (duration > 0) {\n      setTimeout(() => {\n        closeMsg(msg)\n      }, duration);\n    }\n  })\n\n  model.on(\"change:close_msg_id\", () => {\n    const msg_id = model.get(\"close_msg_id\");\n    const msgDom = document.getElementById(msg_id);\n    closeMsg(msgDom);\n  })\n}\n",
       "_model_module": "anywidget",
       "_model_module_version": "0.9.3",
       "_model_name": "AnyModel",
       "_view_module": "anywidget",
       "_view_module_version": "0.9.3",
       "_view_name": "AnyView",
       "close_msg_id": "",
       "layout": "IPY_MODEL_f67acf8d7a2445bf8cbad0e3d6b643ed",
       "message_options": {
        "duration": 3000,
        "message": "",
        "show_close": false,
        "type": "info"
       }
      }
     },
     "95941da86dda4b4c8de1c79f3402c6db": {
      "model_module": "@jupyter-widgets/base",
      "model_module_version": "2.0.0",
      "model_name": "LayoutModel",
      "state": {}
     },
     "97cbf008697549928bb74d2a6a53159c": {
      "model_module": "@jupyter-widgets/controls",
      "model_module_version": "2.0.0",
      "model_name": "VBoxModel",
      "state": {
       "children": [
        "IPY_MODEL_8db74195e0d6474ab7b98e8b4f213e13"
       ],
       "layout": "IPY_MODEL_97d180ba231a4adf8258146ca1cb44f4"
      }
     },
     "97d180ba231a4adf8258146ca1cb44f4": {
      "model_module": "@jupyter-widgets/base",
      "model_module_version": "2.0.0",
      "model_name": "LayoutModel",
      "state": {}
     },
     "9f238904844844818f357b821783c72d": {
      "model_module": "anywidget",
      "model_module_version": "0.9.3",
      "model_name": "AnyModel",
      "state": {
       "_anywidget_id": "ipywui.widgets.custom.message.MessageWidget",
       "_css": ".wui-message-root {\n    display: flex;\n    position: absolute;\n    left: 0;\n    right: 0;\n    top: 0;\n}\n\n.wui-message-container {\n    align-items: center;\n    display: flex;\n    flex-direction: column-reverse;\n    justify-content: center;\n    min-height: 100%;\n    outline: none;\n    width: 100%;\n\n    -webkit-tap-highlight-color: rgba(0,0,0,0);\n    bottom: 0;\n    left: 0;\n    right: 0;\n    top: 0;\n}\n\n.wui-message--success {\n    --wui-message-bg-color: #f0f9eb;\n    --wui-message-border-color: #e1f3d8;\n    --wui-message-text-color: #67c23a;\n}\n.wui-message--warning {\n    --wui-message-bg-color: #fdf6ec;\n    --wui-message-border-color: #faecd8;\n    --wui-message-text-color: #e6a23c;\n}\n.wui-message--info {\n    --wui-message-bg-color: #f4f4f5;\n    --wui-message-border-color: #e9e9eb;\n    --wui-message-text-color: #909399;\n}\n.wui-message--error {\n    --wui-message-bg-color: #fef0f0;\n    --wui-message-border-color: #fde2e2;\n    --wui-message-text-color: #f56c6c;\n}\n\n@keyframes msg-open {\n    0% {\n        opacity: 0;\n        -webkit-transform: translateY(-120%);\n        transform: translateY(-120%)\n    }\n    to {\n        -webkit-transform: translateY(0);\n        transform: translateY(0)\n    }\n}\n\n@keyframes msg-close {\n    0% {\n        opacity: 1;\n        -webkit-transform: scale(1);\n        transform: scale(1)\n    }\n    to {\n        opacity: 0;\n        -webkit-transform: scale(.9);\n        transform: scale(.9)\n    }\n}\n.wui-message[data-state=entered],.wui-message[data-state=entering] {\n    -webkit-animation: msg-open .24s cubic-bezier(.175,.885,.32,1.175) both;\n    animation: msg-open .24s cubic-bezier(.175,.885,.32,1.175) both\n}\n\n.wui-message[data-state=exiting] {\n    -webkit-animation: msg-close .12s cubic-bezier(.4,0,1,1) both;\n    animation: msg-close .12s cubic-bezier(.4,0,1,1) both\n}\n\n.wui-message {\n    width: -webkit-fit-content;\n    width: -moz-fit-content;\n    width: fit-content;\n    z-index: 2004;\n    max-width: calc(100% - 32px);\n    margin-top: 8px;\n    box-sizing: border-box;\n    /*border-radius: var(--wui-border-radius-base);*/\n    /*border-width: var(--wui-border-width);*/\n    /*border-style: var(--wui-border-style);*/\n    border-color: var(--wui-message-border-color);\n    /*left: 50%;*/\n    /*top: 20px;*/\n    /*transform: translateX(-50%);*/\n    background-color: var(--wui-message-bg-color);\n    /*transition: opacity var(--wui-transition-duration),transform .4s,top .4s;*/\n    /*padding: var(--wui-message-padding);*/\n    display: flex;\n    align-items: center;\n}\n\n/*.wui-message--success */\n.wui-message__content {\n    color: var(--wui-message-text-color);\n    font-size: 14px;\n    line-height: 18px;\n    margin: 10px 14px 10px 14px;\n    overflow-wrap: break-word;\n}\n\n.wui-message__closeBtn {\n    /*cursor: pointer;*/\n    font-style: normal;\n    /*color: gray;*/\n    padding-right: 14px;\n    /*font-size: 13px;*/\n    user-select: none;\n\n    background: transparent;\n    border: none;\n    color: gray;\n    cursor: pointer;\n    font-size: 13px;\n    font-weight: 400;\n    line-height: 1;\n    outline: none;\n    /*padding: 4px;*/\n    text-align: center;\n    transition: opacity .3s;\n    /*width: 100%;*/\n}",
       "_esm": "function closeMsg(msgDom) {\n  if (!msgDom) {\n    return;\n  }\n  msgDom.setAttribute('data-state', 'exiting');\n  msgDom.remove();\n}\n\nfunction createMsg(options) {\n  const {message, msg_id, type = 'info', show_close = false} = options;\n  const msgDom = document.createElement('div');\n  msgDom.className += ` wui-message--${type} wui-message`;\n  msgDom.setAttribute('data-state', 'entered');\n  msgDom.setAttribute('id', msg_id);\n  const msgContent = document.createElement('p');\n  msgContent.className += ` wui-message--${type} wui-message__content`;\n  msgContent.innerText = message;\n  msgDom.appendChild(msgContent);\n  if (show_close) {\n    const closeBtn = document.createElement('i');\n    closeBtn.className += 'wui-message__closeBtn';\n    closeBtn.innerText = 'x';\n    closeBtn.addEventListener('click', (ev) => {\n      closeMsg(msgDom);\n    })\n    msgDom.appendChild(closeBtn);\n  }\n  return msgDom;\n}\n\nexport async function render(view) {\n  let model = view.model;\n  const msgRoot = view.el;\n  msgRoot.className += ' wui-message-root'\n\n  const msgContainer = document.createElement('div');\n  msgContainer.className += ' wui-message-container';\n  msgRoot.appendChild(msgContainer)\n\n  model.on(\"change:message_options\", () => {\n    const options = model.get(\"message_options\");\n    const msg = createMsg(options);\n    msgContainer.appendChild(msg);\n    const {duration = 3000} = options;\n    if (duration > 0) {\n      setTimeout(() => {\n        closeMsg(msg)\n      }, duration);\n    }\n  })\n\n  model.on(\"change:close_msg_id\", () => {\n    const msg_id = model.get(\"close_msg_id\");\n    const msgDom = document.getElementById(msg_id);\n    closeMsg(msgDom);\n  })\n}\n",
       "_model_module": "anywidget",
       "_model_module_version": "0.9.3",
       "_model_name": "AnyModel",
       "_view_module": "anywidget",
       "_view_module_version": "0.9.3",
       "_view_name": "AnyView",
       "close_msg_id": "",
       "layout": "IPY_MODEL_4fb843716eb54040ba562687f1d15c5b",
       "message_options": {
        "duration": 3000,
        "message": "",
        "show_close": false,
        "type": "info"
       }
      }
     },
     "a66c737e838e45f0ba65b994ae93f145": {
      "model_module": "@jupyter-widgets/base",
      "model_module_version": "2.0.0",
      "model_name": "LayoutModel",
      "state": {}
     },
     "a774f26d18464c6c901c38905fe46ba2": {
      "model_module": "@jupyter-widgets/base",
      "model_module_version": "2.0.0",
      "model_name": "LayoutModel",
      "state": {}
     },
     "ac19f84aaec143b785aaff8ff42b68e0": {
      "model_module": "@jupyter-widgets/base",
      "model_module_version": "2.0.0",
      "model_name": "LayoutModel",
      "state": {}
     },
     "b2e2e23696c144998558ffe67699a870": {
      "model_module": "@jupyter-widgets/base",
      "model_module_version": "2.0.0",
      "model_name": "LayoutModel",
      "state": {
       "width": "30%"
      }
     },
     "bac5e5cdfa804a8db113d7a2f3895075": {
      "model_module": "@jupyter-widgets/base",
      "model_module_version": "2.0.0",
      "model_name": "LayoutModel",
      "state": {}
     },
     "baef66adb4c943898a1b308497c45c98": {
      "model_module": "@jupyter-widgets/base",
      "model_module_version": "2.0.0",
      "model_name": "LayoutModel",
      "state": {
       "width": "200px"
      }
     },
     "bd75cee1ad904727ae49df886e9fb172": {
      "buffers": [
       {
        "data": "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",
        "encoding": "base64",
        "path": [
         "value"
        ]
       }
      ],
      "model_module": "@jupyter-widgets/controls",
      "model_module_version": "2.0.0",
      "model_name": "ImageModel",
      "state": {
       "layout": "IPY_MODEL_0d129a7d3b3e4aea8ee986ceac834abd"
      }
     },
     "bf7c3878a19243a9b3279632da954d55": {
      "buffers": [
       {
        "data": "iVBORw0KGgoAAAANSUhEUgAAAGQAAABkCAIAAAD/gAIDAAAA6UlEQVR4nO3QQQ0AIRDAwAX/wk7WWaAvQjKjoOma+YYz+3bAS8wKzArMCswKzArMCswKzArMCswKzArMCswKzArMCswKzArMCswKzArMCswKzArMCswKzArMCswKzArMCswKzArMCswKzArMCswKzArMCswKzArMCswKzArMCswKzArMCswKzArMCswKzArMCswKzArMCswKzArMCswKzArMCswKzArMCswKzArMCswKzArMCswKzArMCswKzArMCswKzArMCswKzArMCswKzArMCswKzArMCswKzArMCswKzArMCswKzAp+RMIBkMgcse8AAAAASUVORK5CYII=",
        "encoding": "base64",
        "path": [
         "value"
        ]
       }
      ],
      "model_module": "@jupyter-widgets/controls",
      "model_module_version": "2.0.0",
      "model_name": "ImageModel",
      "state": {
       "layout": "IPY_MODEL_b2e2e23696c144998558ffe67699a870"
      }
     },
     "c3e51f1495a54dc7821a75b00a49f7a4": {
      "model_module": "@jupyter-widgets/base",
      "model_module_version": "2.0.0",
      "model_name": "LayoutModel",
      "state": {}
     },
     "c9f75725aed345678da673908b0a33a8": {
      "model_module": "@jupyter-widgets/base",
      "model_module_version": "2.0.0",
      "model_name": "LayoutModel",
      "state": {}
     },
     "cd374a421cdb4636b35095f18ad1b205": {
      "model_module": "@jupyter-widgets/output",
      "model_module_version": "1.0.0",
      "model_name": "OutputModel",
      "state": {
       "layout": "IPY_MODEL_56c56e7b31fd48a1ad3958fed2fe9c65",
       "outputs": [
        {
         "data": {
          "application/vnd.jupyter.widget-view+json": {
           "model_id": "8b02a49079924548b887f89f795da9f7",
           "version_major": 2,
           "version_minor": 0
          },
          "text/plain": "Document(children=(Dom(children=(MessageWidget(message_options={'message': '', 'type': 'info', 'show_close': F…"
         },
         "metadata": {},
         "output_type": "display_data"
        }
       ]
      }
     },
     "de93c52ada0846b493121958662fe8ed": {
      "buffers": [
       {
        "data": "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",
        "encoding": "base64",
        "path": [
         "value"
        ]
       }
      ],
      "model_module": "@jupyter-widgets/controls",
      "model_module_version": "2.0.0",
      "model_name": "ImageModel",
      "state": {
       "layout": "IPY_MODEL_f6bdbfa604224e59bc6d64bb22dbf13c"
      }
     },
     "f67acf8d7a2445bf8cbad0e3d6b643ed": {
      "model_module": "@jupyter-widgets/base",
      "model_module_version": "2.0.0",
      "model_name": "LayoutModel",
      "state": {}
     },
     "f6bdbfa604224e59bc6d64bb22dbf13c": {
      "model_module": "@jupyter-widgets/base",
      "model_module_version": "2.0.0",
      "model_name": "LayoutModel",
      "state": {
       "border_bottom": "2px solid deepskyblue",
       "border_left": "2px solid deepskyblue",
       "border_right": "2px solid deepskyblue",
       "border_top": "2px solid deepskyblue",
       "width": "200px"
      }
     },
     "fb5a939e90d44d37a7a0677dee229209": {
      "buffers": [
       {
        "data": "iVBORw0KGgoAAAANSUhEUgAAAGQAAABkCAAAAABVicqIAAAAP0lEQVR4nO3NQQEAAAQEMMSWXorz2gqst/Lm4ZBIJBKJRCKRSCQSiUQikUgkEolEIpFIJBKJRCKRSCQSiSTsAF+QAUKi8BJIAAAAAElFTkSuQmCC",
        "encoding": "base64",
        "path": [
         "value"
        ]
       }
      ],
      "model_module": "@jupyter-widgets/controls",
      "model_module_version": "2.0.0",
      "model_name": "ImageModel",
      "state": {
       "layout": "IPY_MODEL_345cd97879ab46189dbee8083b08c264"
      }
     },
     "fc7fb42ca6f0496da91bca6921c0e5af": {
      "model_module": "@jupyter-widgets/output",
      "model_module_version": "1.0.0",
      "model_name": "OutputModel",
      "state": {
       "layout": "IPY_MODEL_95941da86dda4b4c8de1c79f3402c6db",
       "outputs": [
        {
         "data": {
          "application/vnd.jupyter.widget-view+json": {
           "model_id": "710e8bd09dc549d5805f3c568eeacc3b",
           "version_major": 2,
           "version_minor": 0
          },
          "text/plain": "Document(children=(Dom(children=(MessageWidget(message_options={'message': '', 'type': 'info', 'show_close': F…"
         },
         "metadata": {},
         "output_type": "display_data"
        }
       ]
      }
     }
    },
    "version_major": 2,
    "version_minor": 0
   }
  }
 },
 "nbformat": 4,
 "nbformat_minor": 5
}