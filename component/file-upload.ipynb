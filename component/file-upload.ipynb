{
 "cells": [
  {
   "cell_type": "markdown",
   "id": "a1e2fa29-7566-4426-be1e-a750658d83a5",
   "metadata": {},
   "source": [
    "# File Upload 文件上传\n",
    "\n",
    "将任何类型的文件上传到 `kernel` 内存中。"
   ]
  },
  {
   "cell_type": "markdown",
   "id": "7cdc5e8c-2aa8-41d1-9461-3e451f6ef6ea",
   "metadata": {},
   "source": [
    "## 基础用法\n",
    "\n",
    "`v-model/value` 包含上传文件的属性，这是一个元组，其中包含每个上传文件的字典。例如：\n",
    "\n",
    "```python\n",
    "# once a file is uploaded, use the `.value` attribute to retrieve the content:\n",
    "(\n",
    "  {\n",
    "    'name': 'example.txt',\n",
    "    'type': 'text/plain',\n",
    "    'size': 36,\n",
    "    'last_modified': datetime.datetime(2020, 1, 9, 15, 58, 43, 321000, tzinfo=datetime.timezone.utc), \n",
    "    'content': <memory at 0x10c1b37c8>\n",
    "  },\n",
    ")\n",
    "```\n",
    "\n",
    "上传文件的内容在 content 键的值中。它们是 [memory view](https://docs.python.org/3/library/stdtypes.html#memory-views)。  \n",
    "\n",
    "您可以将内容提取为字节：  \n",
    "\n",
    "```python\n",
    "content.tobytes()\n",
    "#=> b'This is the content of example.txt.\\n'\n",
    "```\n",
    "\n",
    "如果文件是文本文件，则可以通过解码来获取字符串形式的内容：\n",
    "\n",
    "```python\n",
    "import codecs\n",
    "codecs.decode(content, encoding=\"utf-8\")\n",
    "#=> 'This is the content of example.txt.\\n'\n",
    "```\n",
    "\n",
    "您可以将上传的文件从内核保存到文件系统：  \n",
    "\n",
    "```python\n",
    "with open(\"./saved-output.txt\", \"wb\") as fp:\n",
    "    fp.write(uploaded_file.content)\n",
    "```\n",
    "\n",
    "要将上传的文件转换为 Pandas 数据帧，您可以使用 BytesIO 对象：\n",
    "\n",
    "```python\n",
    "import io\n",
    "import pandas as pd\n",
    "pd.read_csv(io.BytesIO(uploaded_file.content))\n",
    "```"
   ]
  },
  {
   "cell_type": "code",
   "execution_count": 2,
   "id": "f5928b17-e8c8-47b0-9774-a8bb1f7e6af3",
   "metadata": {},
   "outputs": [
    {
     "name": "stdout",
     "output_type": "stream",
     "text": [
      "{\"vue\": \"<template>\\n  <FileUpload v-model=\\\"files.value\\\" accept=\\\".txt\\\"></FileUpload>\\n  <Input label=\\\"file info\\\"\\n         :value=\\\"upload_file.value\\\"\\n         type=\\\"textarea\\\"\\n         style=\\\"height: 200px\\\"\\n  ></Input>\\n</template>\\n\\n<script src=\\\"./basic_setup.py\\\"></script>\\n<script setup>\\nimport FileUpload from \\\"../../../src/ipywui/components/FileUpload\\\";\\nimport Input from \\\"../../../src/ipywui/components/Input\\\";\\n</script>\", \"setup\": \"import codecs\\nimport json\\n\\nfrom vuepy import computed\\nfrom vuepy import ref\\n\\n\\ndef setup(props, ctx, vm):\\n    files = ref([])\\n\\n    def get_first_file():\\n        file_info = {}\\n        if files.value:\\n            file_info = files.value[0]\\n            content = file_info['content']\\n            file_info['content'] = codecs.decode(content, encoding='utf-8')\\n            file_info['last_modified'] = str(file_info['last_modified'])\\n\\n        return json.dumps(file_info, indent=2)\\n\\n    upload_file = computed(get_first_file)\\n\\n    return locals()\\n\"}\n"
     ]
    },
    {
     "data": {
      "application/vnd.jupyter.widget-view+json": {
       "model_id": "570dc779000e4d419428f56280d06cce",
       "version_major": 2,
       "version_minor": 0
      },
      "text/plain": [
       "Document(children=(Dom(children=(MessageWidget(message_options={'message': '', 'type': 'info', 'show_close': F…"
      ]
     },
     "execution_count": 2,
     "metadata": {},
     "output_type": "execute_result"
    }
   ],
   "source": [
    "import os\n",
    "import pathlib\n",
    "from vuepy.utils import magic\n",
    "\n",
    "cur_path = pathlib.Path()\n",
    "source_root = cur_path.absolute().parent.parent.parent\n",
    "os.chdir(source_root / 'examples' / 'ipywui' / 'file_upload')\n",
    "\n",
    "%vuepy_demo basic.vue"
   ]
  },
  {
   "cell_type": "markdown",
   "id": "8685d144-029f-4afa-8547-4f3d84529504",
   "metadata": {},
   "source": [
    "## API\n",
    "\n",
    "### 属性\n",
    "\n",
    "| 属性名        | 说明                 | 类型                                                           | 默认值 |\n",
    "| --------     | ------------------- | ---------------------------------------------------------------| ------- |\n",
    "| v-model/value | 绑定值，上传的文件列表信息 | ^[list]                                                         | —       |\n",
    "| accept | 接受上传的[文件类型](https://developer.mozilla.org/en-US/docs/Web/HTML/Element/input#attr-accept) | ^[str]                                                         | '' |\n",
    "| multiple | 是否支持多选文件\t | ^[bool]                                                         | -      |\n",
    "\n",
    "### 方法\n",
    "\n",
    "| 属性名 | 说明 | 类型 |\n",
    "| --- | --- | --- |\n"
   ]
  }
 ],
 "metadata": {
  "kernelspec": {
   "display_name": "Python 3 (ipykernel)",
   "language": "python",
   "name": "python3"
  },
  "language_info": {
   "codemirror_mode": {
    "name": "ipython",
    "version": 3
   },
   "file_extension": ".py",
   "mimetype": "text/x-python",
   "name": "python",
   "nbconvert_exporter": "python",
   "pygments_lexer": "ipython3",
   "version": "3.10.12"
  },
  "widgets": {
   "application/vnd.jupyter.widget-state+json": {
    "state": {
     "02d3a6b2bf314b60a1db3d076a7ccbf8": {
      "model_module": "@jupyter-widgets/controls",
      "model_module_version": "2.0.0",
      "model_name": "TextareaModel",
      "state": {
       "continuous_update": false,
       "description": "file info",
       "layout": "IPY_MODEL_4004dc65ee2b4f7283793e1b490d46c9",
       "style": "IPY_MODEL_7a2c6190556c402687aa5cee109a5afb",
       "value": "{}"
      }
     },
     "10678d1ee33c4c818b827c0bdaf891e8": {
      "model_module": "anywidget",
      "model_module_version": "0.9.3",
      "model_name": "AnyModel",
      "state": {
       "_anywidget_id": "ipywui.widgets.custom.message.MessageWidget",
       "_css": ".wui-message-root {\n    display: flex;\n    position: absolute;\n    left: 0;\n    right: 0;\n    top: 0;\n}\n\n.wui-message-container {\n    align-items: center;\n    display: flex;\n    flex-direction: column-reverse;\n    justify-content: center;\n    min-height: 100%;\n    outline: none;\n    width: 100%;\n\n    -webkit-tap-highlight-color: rgba(0,0,0,0);\n    bottom: 0;\n    left: 0;\n    right: 0;\n    top: 0;\n}\n\n.wui-message--success {\n    --wui-message-bg-color: #f0f9eb;\n    --wui-message-border-color: #e1f3d8;\n    --wui-message-text-color: #67c23a;\n}\n.wui-message--warning {\n    --wui-message-bg-color: #fdf6ec;\n    --wui-message-border-color: #faecd8;\n    --wui-message-text-color: #e6a23c;\n}\n.wui-message--info {\n    --wui-message-bg-color: #f4f4f5;\n    --wui-message-border-color: #e9e9eb;\n    --wui-message-text-color: #909399;\n}\n.wui-message--error {\n    --wui-message-bg-color: #fef0f0;\n    --wui-message-border-color: #fde2e2;\n    --wui-message-text-color: #f56c6c;\n}\n\n@keyframes msg-open {\n    0% {\n        opacity: 0;\n        -webkit-transform: translateY(-120%);\n        transform: translateY(-120%)\n    }\n    to {\n        -webkit-transform: translateY(0);\n        transform: translateY(0)\n    }\n}\n\n@keyframes msg-close {\n    0% {\n        opacity: 1;\n        -webkit-transform: scale(1);\n        transform: scale(1)\n    }\n    to {\n        opacity: 0;\n        -webkit-transform: scale(.9);\n        transform: scale(.9)\n    }\n}\n.wui-message[data-state=entered],.wui-message[data-state=entering] {\n    -webkit-animation: msg-open .24s cubic-bezier(.175,.885,.32,1.175) both;\n    animation: msg-open .24s cubic-bezier(.175,.885,.32,1.175) both\n}\n\n.wui-message[data-state=exiting] {\n    -webkit-animation: msg-close .12s cubic-bezier(.4,0,1,1) both;\n    animation: msg-close .12s cubic-bezier(.4,0,1,1) both\n}\n\n.wui-message {\n    width: -webkit-fit-content;\n    width: -moz-fit-content;\n    width: fit-content;\n    z-index: 2004;\n    max-width: calc(100% - 32px);\n    margin-top: 8px;\n    box-sizing: border-box;\n    /*border-radius: var(--wui-border-radius-base);*/\n    /*border-width: var(--wui-border-width);*/\n    /*border-style: var(--wui-border-style);*/\n    border-color: var(--wui-message-border-color);\n    /*left: 50%;*/\n    /*top: 20px;*/\n    /*transform: translateX(-50%);*/\n    background-color: var(--wui-message-bg-color);\n    /*transition: opacity var(--wui-transition-duration),transform .4s,top .4s;*/\n    /*padding: var(--wui-message-padding);*/\n    display: flex;\n    align-items: center;\n}\n\n/*.wui-message--success */\n.wui-message__content {\n    color: var(--wui-message-text-color);\n    font-size: 14px;\n    line-height: 18px;\n    margin: 10px 14px 10px 14px;\n    overflow-wrap: break-word;\n}\n\n.wui-message__closeBtn {\n    /*cursor: pointer;*/\n    font-style: normal;\n    /*color: gray;*/\n    padding-right: 14px;\n    /*font-size: 13px;*/\n    user-select: none;\n\n    background: transparent;\n    border: none;\n    color: gray;\n    cursor: pointer;\n    font-size: 13px;\n    font-weight: 400;\n    line-height: 1;\n    outline: none;\n    /*padding: 4px;*/\n    text-align: center;\n    transition: opacity .3s;\n    /*width: 100%;*/\n}",
       "_esm": "function closeMsg(msgDom) {\n  if (!msgDom) {\n    return;\n  }\n  msgDom.setAttribute('data-state', 'exiting');\n  msgDom.remove();\n}\n\nfunction createMsg(options) {\n  const {message, msg_id, type = 'info', show_close = false} = options;\n  const msgDom = document.createElement('div');\n  msgDom.className += ` wui-message--${type} wui-message`;\n  msgDom.setAttribute('data-state', 'entered');\n  msgDom.setAttribute('id', msg_id);\n  const msgContent = document.createElement('p');\n  msgContent.className += ` wui-message--${type} wui-message__content`;\n  msgContent.innerText = message;\n  msgDom.appendChild(msgContent);\n  if (show_close) {\n    const closeBtn = document.createElement('i');\n    closeBtn.className += 'wui-message__closeBtn';\n    closeBtn.innerText = 'x';\n    closeBtn.addEventListener('click', (ev) => {\n      closeMsg(msgDom);\n    })\n    msgDom.appendChild(closeBtn);\n  }\n  return msgDom;\n}\n\nexport async function render(view) {\n  let model = view.model;\n  const msgRoot = view.el;\n  msgRoot.className += ' wui-message-root'\n\n  const msgContainer = document.createElement('div');\n  msgContainer.className += ' wui-message-container';\n  msgRoot.appendChild(msgContainer)\n\n  model.on(\"change:message_options\", () => {\n    const options = model.get(\"message_options\");\n    const msg = createMsg(options);\n    msgContainer.appendChild(msg);\n    const {duration = 3000} = options;\n    if (duration > 0) {\n      setTimeout(() => {\n        closeMsg(msg)\n      }, duration);\n    }\n  })\n\n  model.on(\"change:close_msg_id\", () => {\n    const msg_id = model.get(\"close_msg_id\");\n    const msgDom = document.getElementById(msg_id);\n    closeMsg(msgDom);\n  })\n}\n",
       "_model_module": "anywidget",
       "_model_module_version": "0.9.3",
       "_model_name": "AnyModel",
       "_view_module": "anywidget",
       "_view_module_version": "0.9.3",
       "_view_name": "AnyView",
       "close_msg_id": "",
       "layout": "IPY_MODEL_9402d3380bdc49ff927cd0af210e8c77",
       "message_options": {
        "duration": 3000,
        "message": "",
        "show_close": false,
        "type": "info"
       }
      }
     },
     "10c60d9978ad4ad197d754dcd3f5047c": {
      "model_module": "@jupyter-widgets/base",
      "model_module_version": "2.0.0",
      "model_name": "LayoutModel",
      "state": {}
     },
     "1814c4e561d54740845d453960798e67": {
      "model_module": "@jupyter-widgets/controls",
      "model_module_version": "2.0.0",
      "model_name": "ButtonStyleModel",
      "state": {
       "font_family": null,
       "font_size": null,
       "font_style": null,
       "font_variant": null,
       "font_weight": null,
       "text_color": null,
       "text_decoration": null
      }
     },
     "2c46d94f4c104995b456443d4b179db1": {
      "model_module": "@jupyter-widgets/output",
      "model_module_version": "1.0.0",
      "model_name": "OutputModel",
      "state": {
       "layout": "IPY_MODEL_a4af09ea2e8345fb89ae19b48e27fd05",
       "outputs": [
        {
         "data": {
          "application/vnd.jupyter.widget-view+json": {
           "model_id": "2d0a43d7cd9b491cb640790e32b19366",
           "version_major": 2,
           "version_minor": 0
          },
          "text/plain": "VBox(children=(FileUpload(value=(), accept='.txt', description='Upload'), Textarea(value='{}', continuous_upda…"
         },
         "metadata": {},
         "output_type": "display_data"
        }
       ]
      }
     },
     "2d0a43d7cd9b491cb640790e32b19366": {
      "model_module": "@jupyter-widgets/controls",
      "model_module_version": "2.0.0",
      "model_name": "VBoxModel",
      "state": {
       "children": [
        "IPY_MODEL_dbd3a038b5bd4da99b221057d1880797",
        "IPY_MODEL_02d3a6b2bf314b60a1db3d076a7ccbf8"
       ],
       "layout": "IPY_MODEL_2dcedd7fb51a42d3b4e95e5be7d61d10"
      }
     },
     "2dcedd7fb51a42d3b4e95e5be7d61d10": {
      "model_module": "@jupyter-widgets/base",
      "model_module_version": "2.0.0",
      "model_name": "LayoutModel",
      "state": {}
     },
     "4004dc65ee2b4f7283793e1b490d46c9": {
      "model_module": "@jupyter-widgets/base",
      "model_module_version": "2.0.0",
      "model_name": "LayoutModel",
      "state": {
       "height": "200px"
      }
     },
     "4dd30fa4de2d4025bafd24b57621fabe": {
      "model_module": "@jupyter-widgets/base",
      "model_module_version": "2.0.0",
      "model_name": "LayoutModel",
      "state": {}
     },
     "570dc779000e4d419428f56280d06cce": {
      "model_module": "@jupyter-widgets/controls",
      "model_module_version": "2.0.0",
      "model_name": "VBoxModel",
      "state": {
       "children": [
        "IPY_MODEL_a6d56155f03c4d0dbf04afec1202979f"
       ],
       "layout": "IPY_MODEL_10c60d9978ad4ad197d754dcd3f5047c"
      }
     },
     "7a2c6190556c402687aa5cee109a5afb": {
      "model_module": "@jupyter-widgets/controls",
      "model_module_version": "2.0.0",
      "model_name": "TextStyleModel",
      "state": {
       "description_width": "",
       "font_size": null,
       "text_color": null
      }
     },
     "9402d3380bdc49ff927cd0af210e8c77": {
      "model_module": "@jupyter-widgets/base",
      "model_module_version": "2.0.0",
      "model_name": "LayoutModel",
      "state": {}
     },
     "a4af09ea2e8345fb89ae19b48e27fd05": {
      "model_module": "@jupyter-widgets/base",
      "model_module_version": "2.0.0",
      "model_name": "LayoutModel",
      "state": {}
     },
     "a6d56155f03c4d0dbf04afec1202979f": {
      "model_module": "@jupyter-widgets/controls",
      "model_module_version": "2.0.0",
      "model_name": "VBoxModel",
      "state": {
       "children": [
        "IPY_MODEL_10678d1ee33c4c818b827c0bdaf891e8",
        "IPY_MODEL_2c46d94f4c104995b456443d4b179db1"
       ],
       "layout": "IPY_MODEL_4dd30fa4de2d4025bafd24b57621fabe"
      }
     },
     "cf9a727931f7410cb98180a21717b87b": {
      "model_module": "@jupyter-widgets/base",
      "model_module_version": "2.0.0",
      "model_name": "LayoutModel",
      "state": {}
     },
     "dbd3a038b5bd4da99b221057d1880797": {
      "model_module": "@jupyter-widgets/controls",
      "model_module_version": "2.0.0",
      "model_name": "FileUploadModel",
      "state": {
       "accept": ".txt",
       "description_allow_html": false,
       "layout": "IPY_MODEL_cf9a727931f7410cb98180a21717b87b",
       "style": "IPY_MODEL_1814c4e561d54740845d453960798e67"
      }
     }
    },
    "version_major": 2,
    "version_minor": 0
   }
  }
 },
 "nbformat": 4,
 "nbformat_minor": 5
}
