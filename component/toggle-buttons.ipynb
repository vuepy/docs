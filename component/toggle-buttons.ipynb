{
 "cells": [
  {
   "cell_type": "markdown",
   "id": "a1e2fa29-7566-4426-be1e-a750658d83a5",
   "metadata": {},
   "source": [
    "# ToggleButtons 切换按钮\n",
    "\n",
    "在一组备选项中进行单选"
   ]
  },
  {
   "cell_type": "markdown",
   "id": "7cdc5e8c-2aa8-41d1-9461-3e451f6ef6ea",
   "metadata": {},
   "source": [
    "## 基础用法\n",
    "\n",
    "切换按钮不应该有太多的可选项， 如果你有很多的可选项你应该使用 `Select` 选择框而不是单选框。  \n",
    "要使用 `ToggleButtons` 组件，只需要设置v-model绑定变量， 选中意味着变量的值为对应选项的值。  \n",
    "选项 `options` 可以是标签的列表，也可以是 `(标签、值)` 形式的列表。\n",
    "\n",
    "::: tip\n",
    "`v-model` 或初始值必须是 options 中的值。\n",
    ":::\n",
    "\n",
    "使用图标为按钮添加更多的含义。 使用 `icons` 属性来为按钮添加图标。请参阅 [fontaweson](https://fontawesome.com/v5/search?m=free) 页面获取可用图标。"
   ]
  },
  {
   "cell_type": "code",
   "execution_count": 1,
   "id": "f5928b17-e8c8-47b0-9774-a8bb1f7e6af3",
   "metadata": {},
   "outputs": [
    {
     "name": "stdout",
     "output_type": "stream",
     "text": [
      "{\"vue\": \"<template>\\n  <ToggleButtons description=\\\"Options ['pepperoni', 'pineapple', 'anchovies']\\\"\\n                 v-model=\\\"choice1.value\\\"\\n                 :options=\\\"options1\\\"\\n  ></ToggleButtons>\\n\\n  <ToggleButtons description=\\\"Options [('One', 1), ('Two', 2), ('Three', 3)]\\\"\\n                 v-model=\\\"choice2.value\\\"\\n                 :options=\\\"options2\\\"\\n  ></ToggleButtons>\\n\\n  <!--  style-->\\n  <ToggleButtons description=\\\"Style success\\\"\\n                 type=\\\"success\\\"\\n                 :options=\\\"options2\\\"\\n  ></ToggleButtons>\\n  <ToggleButtons description=\\\"Style info\\\"\\n                 type=\\\"info\\\"\\n                 :options=\\\"options2\\\"\\n  ></ToggleButtons>\\n  <ToggleButtons description=\\\"Style warning\\\"\\n                 type=\\\"warning\\\"\\n                 :options=\\\"options2\\\"\\n  ></ToggleButtons>\\n  <ToggleButtons description=\\\"Style danger\\\"\\n                 type=\\\"danger\\\"\\n                 :options=\\\"options2\\\"\\n  ></ToggleButtons>\\n\\n  <!--  icon-->\\n  <ToggleButtons description=\\\"With icons\\\"\\n                 :icons=\\\"['walking', 'car-side', 'plane']\\\"\\n                 :options=\\\"['walking ', 'car ', 'plane ']\\\"\\n  ></ToggleButtons>\\n\\n</template>\\n\\n<script src=\\\"./basic_setup.py\\\"></script>\\n<script setup>\\nimport ToggleButtons from \\\"../../../src/ipywui/components/ToggleButtons\\\";\\n</script>\", \"setup\": \"from vuepy import ref\\n\\n\\ndef setup(props, ctx, vm):\\n    options1 = ['pepperoni', 'pineapple', 'anchovies']\\n    choice1 = ref('pepperoni')\\n\\n    options2 = [('One', 1), ('Two', 2), ('Three', 3)]\\n    choice2 = ref(1)\\n\\n    return locals()\\n\"}\n"
     ]
    },
    {
     "data": {
      "application/vnd.jupyter.widget-view+json": {
       "model_id": "15ec4cfaa13e4d90b558d534a3719741",
       "version_major": 2,
       "version_minor": 0
      },
      "text/plain": [
       "Document(children=(Dom(children=(MessageWidget(message_options={'message': '', 'type': 'info', 'show_close': F…"
      ]
     },
     "execution_count": 1,
     "metadata": {},
     "output_type": "execute_result"
    }
   ],
   "source": [
    "import os\n",
    "import pathlib\n",
    "from vuepy.utils import magic\n",
    "\n",
    "cur_path = pathlib.Path()\n",
    "source_root = cur_path.absolute().parent.parent.parent\n",
    "os.chdir(source_root / 'examples' / 'ipywui' / 'toggle_buttons')\n",
    "\n",
    "%vuepy_demo basic.vue"
   ]
  },
  {
   "cell_type": "markdown",
   "id": "c831bd9d-4d8d-4e6b-a6c1-d0c2a9e5e977",
   "metadata": {},
   "source": [
    "## 禁用状态\n",
    "\n",
    "你可以使用 `disabled` 属性来定义是否被禁用。  \n",
    "使用 `disabled` 属性来控制是否为禁用状态。该属性接受一个 `bool` 类型的值。"
   ]
  },
  {
   "cell_type": "code",
   "execution_count": 2,
   "id": "540d2cc4-2c3f-4b19-8e5d-0bf3c7f0090f",
   "metadata": {},
   "outputs": [
    {
     "name": "stdout",
     "output_type": "stream",
     "text": [
      "{\"vue\": \"<template>\\n  <ToggleButtons description=\\\"Disabled\\\"\\n                 :options=\\\"['option1', 'option2', 'option3']\\\"\\n                 disabled\\n  ></ToggleButtons>\\n</template>\\n\\n<script setup>\\nimport ToggleButtons from \\\"../../../src/ipywui/components/ToggleButtons\\\";\\n</script>\", \"setup\": 0}\n"
     ]
    },
    {
     "data": {
      "application/vnd.jupyter.widget-view+json": {
       "model_id": "221746595f844058b5a879960affb898",
       "version_major": 2,
       "version_minor": 0
      },
      "text/plain": [
       "Document(children=(Dom(children=(MessageWidget(message_options={'message': '', 'type': 'info', 'show_close': F…"
      ]
     },
     "execution_count": 2,
     "metadata": {},
     "output_type": "execute_result"
    }
   ],
   "source": [
    "%vuepy_demo disabled.vue"
   ]
  },
  {
   "cell_type": "markdown",
   "id": "17e8c7d4-b58b-47a4-8bd6-9a18736f410c",
   "metadata": {},
   "source": [
    "## 提示信息\n",
    "\n",
    "通过 `tooltips` 属性在鼠标 hover 时展示提示信息。"
   ]
  },
  {
   "cell_type": "code",
   "execution_count": 3,
   "id": "edcd723f-9407-4524-b90a-f14f9644633c",
   "metadata": {},
   "outputs": [
    {
     "name": "stdout",
     "output_type": "stream",
     "text": [
      "{\"vue\": \"<template>\\n  <ToggleButtons description=\\\"Tooltips\\\"\\n                 :options=\\\"['pepperoni', 'pineapple', 'anchovies']\\\"\\n                 :tooltips=\\\"['tooltip 1', 'tooltip 2', 'tooltip 3']\\\"\\n  ></ToggleButtons>\\n</template>\\n\\n<script setup>\\nimport ToggleButtons from \\\"../../../src/ipywui/components/ToggleButtons\\\";\\n</script>\", \"setup\": 0}\n"
     ]
    },
    {
     "data": {
      "application/vnd.jupyter.widget-view+json": {
       "model_id": "399c2fb8836a4acba242ded8b0ae6c8e",
       "version_major": 2,
       "version_minor": 0
      },
      "text/plain": [
       "Document(children=(Dom(children=(MessageWidget(message_options={'message': '', 'type': 'info', 'show_close': F…"
      ]
     },
     "execution_count": 3,
     "metadata": {},
     "output_type": "execute_result"
    }
   ],
   "source": [
    "%vuepy_demo tooltips.vue"
   ]
  },
  {
   "cell_type": "markdown",
   "id": "0b0e76d8-3d1f-42a1-b6dc-b642a138510d",
   "metadata": {},
   "source": [
    "## 自定义样式\n",
    "\n",
    "您可以自定义切换按钮样式。  \n",
    "使用 `style` 属性额外配置样式: \n",
    "* `button_width`：按钮的宽度，可使用`px`、`%`、`auto`等形式。可使用`px`、`%`、`auto`等形式。\n",
    "* `font_weight`：按钮字体的粗细。\n",
    "* `description-width`：label的宽度。"
   ]
  },
  {
   "cell_type": "code",
   "execution_count": 4,
   "id": "4555cd32-d66d-411b-8b39-01153e8fb53d",
   "metadata": {},
   "outputs": [
    {
     "name": "stdout",
     "output_type": "stream",
     "text": [
      "{\"vue\": \"<template>\\n  <ToggleButtons description=\\\"button-width 180px\\\"\\n                 :options=\\\"['one', 'two', 'three']\\\"\\n                 style=\\\"button-width: 180px\\\"\\n  ></ToggleButtons>\\n\\n  <ToggleButtons description=\\\"button-width 150px\\\"\\n                 :options=\\\"['one', 'two', 'three']\\\"\\n                 style=\\\"button-width: 150px\\\"\\n  ></ToggleButtons>\\n\\n  <ToggleButtons description=\\\"button-width auto\\\"\\n                 :options=\\\"['one', 'two', 'three']\\\"\\n                 style=\\\"button-width: auto\\\"\\n  ></ToggleButtons>\\n\\n  <ToggleButtons description=\\\"button-width 10%\\\"\\n                 :options=\\\"['one', 'two', 'three']\\\"\\n                 style=\\\"button-width: 10%\\\"\\n  ></ToggleButtons>\\n\\n  <ToggleButtons description=\\\"font-weight bold\\\"\\n                 :options=\\\"['one', 'two', 'three']\\\"\\n                 style=\\\"font-weight: bold\\\"\\n  ></ToggleButtons>\\n\\n</template>\\n\\n<script setup>\\nimport ToggleButtons from \\\"../../../src/ipywui/components/ToggleButtons\\\";\\n</script>\\n\", \"setup\": 0}\n"
     ]
    },
    {
     "data": {
      "application/vnd.jupyter.widget-view+json": {
       "model_id": "50d6711c7db043299abc03a79eec31ad",
       "version_major": 2,
       "version_minor": 0
      },
      "text/plain": [
       "Document(children=(Dom(children=(MessageWidget(message_options={'message': '', 'type': 'info', 'show_close': F…"
      ]
     },
     "execution_count": 4,
     "metadata": {},
     "output_type": "execute_result"
    }
   ],
   "source": [
    "%vuepy_demo custom.vue"
   ]
  },
  {
   "cell_type": "markdown",
   "id": "8685d144-029f-4afa-8547-4f3d84529504",
   "metadata": {},
   "source": [
    "## API\n",
    "\n",
    "### 属性\n",
    "\n",
    "| 属性名        | 说明                 | 类型                                                           | 默认值 |\n",
    "| --------     | ------------------- | ---------------------------------------------------------------| ------- |\n",
    "| v-model/value | 绑定值             | ^[any]                                                         | —       |\n",
    "| description     | 标签文字             | ^[str]                                                         | —       |\n",
    "| options | 选项列表        | ^[list]                                                        | —       |\n",
    "| icons | 选项图标列表        | ^[list]                                                        | —       |\n",
    "| tooltips  | 选项提示信息列表         | ^[str]                                                         | —       |\n",
    "| type     | 按钮类型                | ^[enum]`''\\| 'success'\\| 'warning'\\| 'danger'\\| 'info'`        | —       |\n",
    "| disabled | 是否为禁用状态     | ^[boolean]                                                     | false   |\n",
    "| style        | 自定义css样式        | ^[str]                                                         | -       |\n",
    "\n",
    "### 方法\n",
    "\n",
    "| 属性名 | 说明 | 类型 |\n",
    "| --- | --- | --- |\n",
    "| index | 当前选择的索引 | int |\n",
    "| label | 当前选择的标签 | --- |\n",
    "| value | 当前选择的值 | --- |"
   ]
  },
  {
   "cell_type": "code",
   "execution_count": null,
   "id": "e487a1b8-f16f-4bba-9079-2dd6f4a71b24",
   "metadata": {},
   "outputs": [],
   "source": []
  }
 ],
 "metadata": {
  "kernelspec": {
   "display_name": "Python 3 (ipykernel)",
   "language": "python",
   "name": "python3"
  },
  "language_info": {
   "codemirror_mode": {
    "name": "ipython",
    "version": 3
   },
   "file_extension": ".py",
   "mimetype": "text/x-python",
   "name": "python",
   "nbconvert_exporter": "python",
   "pygments_lexer": "ipython3",
   "version": "3.10.12"
  },
  "widgets": {
   "application/vnd.jupyter.widget-state+json": {
    "state": {},
    "version_major": 2,
    "version_minor": 0
   }
  }
 },
 "nbformat": 4,
 "nbformat_minor": 5
}
