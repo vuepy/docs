{
 "cells": [
  {
   "cell_type": "markdown",
   "id": "a1e2fa29-7566-4426-be1e-a750658d83a5",
   "metadata": {},
   "source": [
    "# TimePicker 时间选择器\n",
    "\n",
    "用于选择或输入日期\n",
    "\n",
    "::: tip\n",
    "有关 TimePicker 组件支持的浏览器列表，请参阅 [MDN](https://developer.mozilla.org/en-US/docs/Web/HTML/Element/input/time#Browser_compatibility)。\n",
    ":::"
   ]
  },
  {
   "cell_type": "markdown",
   "id": "7cdc5e8c-2aa8-41d1-9461-3e451f6ef6ea",
   "metadata": {},
   "source": [
    "## 基本用法\n",
    "\n",
    "可以选择任意时间\n",
    "\n",
    "`v-model` 的值为 `datetime.time` 类型。指定 `step` 后可以在`秒`维度进行选择。"
   ]
  },
  {
   "cell_type": "code",
   "execution_count": 1,
   "id": "f5928b17-e8c8-47b0-9774-a8bb1f7e6af3",
   "metadata": {},
   "outputs": [
    {
     "name": "stdout",
     "output_type": "stream",
     "text": [
      "{\"vue\": \"<template>\\n  <TimePicker label=\\\"HH::mm\\\"\\n              v-model=\\\"time.value\\\"\\n  ></TimePicker>\\n\\n  <TimePicker label=\\\"HH::mm::ss\\\"\\n              v-model=\\\"time.value\\\"\\n              step=\\\"1\\\"\\n  ></TimePicker>\\n</template>\\n\\n<script src=\\\"./basic_setup.py\\\"></script>\\n<script setup>\\nimport TimePicker from \\\"../../../src/ipywui/components/TimePicker\\\";\\n</script>\", \"setup\": \"from vuepy import ref\\n\\n\\ndef setup(props, ctx, vm):\\n    time = ref(None)\\n\\n    return locals()\\n\"}\n"
     ]
    },
    {
     "data": {
      "application/vnd.jupyter.widget-view+json": {
       "model_id": "43759c1da3d44239a7209cff768c9a5f",
       "version_major": 2,
       "version_minor": 0
      },
      "text/plain": [
       "Document(children=(Dom(children=(MessageWidget(message_options={'message': '', 'type': 'info', 'show_close': F…"
      ]
     },
     "execution_count": 1,
     "metadata": {},
     "output_type": "execute_result"
    }
   ],
   "source": [
    "import os\n",
    "import pathlib\n",
    "from vuepy.utils import magic\n",
    "\n",
    "cur_path = pathlib.Path()\n",
    "source_root = cur_path.absolute().parent.parent.parent\n",
    "os.chdir(source_root / 'examples' / 'ipywui' / 'time_picker')\n",
    "\n",
    "%vuepy_demo basic.vue"
   ]
  },
  {
   "cell_type": "markdown",
   "id": "7b87c6d5-a7fb-445f-96bb-093031780e21",
   "metadata": {},
   "source": [
    "## 限制时间选择范围\n",
    "\n",
    "可以限制时间选择范围。\n",
    "\n",
    "通过 `min` 和 `max` 限制可选时间范围。"
   ]
  },
  {
   "cell_type": "code",
   "execution_count": 6,
   "id": "ac6e3160-831b-4db9-8d8c-3b698b48c927",
   "metadata": {},
   "outputs": [
    {
     "name": "stdout",
     "output_type": "stream",
     "text": [
      "{\"vue\": \"<template>\\n  <Text :value=\\\"str(min_time) + ' to ' + str(max_time)\\\"></Text>\\n  <TimePicker label=\\\"HH::mm::ss\\\"\\n              v-model=\\\"time.value\\\"\\n              :min=\\\"min_time\\\"\\n              :max=\\\"max_time\\\"\\n              :step=\\\"1\\\"\\n  ></TimePicker>\\n</template>\\n\\n<script src=\\\"./basic_range_setup.py\\\"></script>\\n<script setup>\\nimport TimePicker from \\\"../../../src/ipywui/components/TimePicker\\\";\\nimport Text from \\\"../../../src/ipywui/components/Text\\\";\\n</script>\", \"setup\": \"import datetime\\n\\nfrom vuepy import ref\\n\\n\\ndef setup(props, ctx, vm):\\n    time = ref(None)\\n    min_time = datetime.time(10, 10, 0)\\n    max_time = datetime.time(12, 10, 0)\\n\\n    return locals()\\n\"}\n"
     ]
    },
    {
     "data": {
      "application/vnd.jupyter.widget-view+json": {
       "model_id": "b9a95e32a6bc46a19cb2b861b959a197",
       "version_major": 2,
       "version_minor": 0
      },
      "text/plain": [
       "Document(children=(Dom(children=(MessageWidget(message_options={'message': '', 'type': 'info', 'show_close': F…"
      ]
     },
     "execution_count": 6,
     "metadata": {},
     "output_type": "execute_result"
    }
   ],
   "source": [
    "%vuepy_demo basic-range.vue"
   ]
  },
  {
   "cell_type": "markdown",
   "id": "392aa25a-4073-4d2b-93f9-d89666b38369",
   "metadata": {},
   "source": [
    "## 禁用状态\n",
    "\n",
    "你可以使用 `disabled` 属性来定义是否被禁用。  \n",
    "使用 `disabled` 属性来控制是否为禁用状态。该属性接受一个 `bool` 类型的值。"
   ]
  },
  {
   "cell_type": "code",
   "execution_count": 2,
   "id": "4555cd32-d66d-411b-8b39-01153e8fb53d",
   "metadata": {},
   "outputs": [
    {
     "name": "stdout",
     "output_type": "stream",
     "text": [
      "{\"vue\": \"<template>\\n  <DateTimePicker label=\\\"Disabled\\\" disabled></DateTimePicker>\\n</template>\\n\\n<script setup>\\nimport DateTimePicker from \\\"../../../src/ipywui/components/DateTimePicker\\\";\\n</script>\", \"setup\": 0}\n"
     ]
    },
    {
     "data": {
      "application/vnd.jupyter.widget-view+json": {
       "model_id": "56b9f3139faa4fbab7b363a7db19ebe5",
       "version_major": 2,
       "version_minor": 0
      },
      "text/plain": [
       "Document(children=(Dom(children=(MessageWidget(message_options={'message': '', 'type': 'info', 'show_close': F…"
      ]
     },
     "execution_count": 2,
     "metadata": {},
     "output_type": "execute_result"
    }
   ],
   "source": [
    "%vuepy_demo disabled.vue"
   ]
  },
  {
   "cell_type": "markdown",
   "id": "9b148177-88bb-454e-9605-437f21b0206d",
   "metadata": {},
   "source": [
    "## 自定义样式\n",
    "\n",
    "您可以自定义输入框样式。  \n",
    "使用 `style` 属性额外配置样式: \n",
    "* `description-width`：label的宽度。"
   ]
  },
  {
   "cell_type": "code",
   "execution_count": 3,
   "id": "58dcd8ef-cd88-467e-be1b-a06448490512",
   "metadata": {},
   "outputs": [
    {
     "name": "stdout",
     "output_type": "stream",
     "text": [
      "{\"vue\": \"<template>\\n  <DateTimePicker label=\\\"Description-width 150px\\\"\\n              style=\\\"description-width: 150px\\\"\\n  ></DateTimePicker>\\n\\n  <DateTimePicker label=\\\"Description-width 180px\\\"\\n              style=\\\"description-width: 180px\\\"\\n  ></DateTimePicker>\\n</template>\\n\\n<script setup>\\nimport DateTimePicker from \\\"../../../src/ipywui/components/DateTimePicker\\\";\\n</script>\", \"setup\": 0}\n"
     ]
    },
    {
     "data": {
      "application/vnd.jupyter.widget-view+json": {
       "model_id": "17bcb073173f436faadeef43ffcf4535",
       "version_major": 2,
       "version_minor": 0
      },
      "text/plain": [
       "Document(children=(Dom(children=(MessageWidget(message_options={'message': '', 'type': 'info', 'show_close': F…"
      ]
     },
     "execution_count": 3,
     "metadata": {},
     "output_type": "execute_result"
    }
   ],
   "source": [
    "%vuepy_demo custom.vue"
   ]
  },
  {
   "cell_type": "markdown",
   "id": "8685d144-029f-4afa-8547-4f3d84529504",
   "metadata": {},
   "source": [
    "## TimePicker API\n",
    "\n",
    "### TimePicker 属性\n",
    "\n",
    "| 属性名    | 说明                 | 类型                                                           | 默认值 |\n",
    "| -------- | ------------------- | ---------------------------------------------------------------| ------- |\n",
    "| v-model/value | 绑定值             | ^[datetime.time]                                            | —       |\n",
    "| label     | 标签文字             | ^[str]                                                         | —       |\n",
    "| min      | 允许选择的最小时间             | ^[datetime.time]                                            | —       |\n",
    "| max      | 允许选择的最大时间             | ^[datetime.time]                                            | —       |\n",
    "| step     | 时间选择器的步长             | ^[float]                                            | —       |\n",
    "| disabled | 按钮是否为禁用状态     | ^[boolean]                                                     | false   |\n",
    "| style    | 自定义css样式             | ^[str]                                                         | -       |\n",
    "\n",
    "\n",
    "### TimePicker 方法\n",
    "\n",
    "| 属性名 | 说明 | 类型 |\n",
    "| --- | --- | --- |"
   ]
  },
  {
   "cell_type": "code",
   "execution_count": null,
   "id": "db17c770-7085-4365-b5f0-bd4f66ebc948",
   "metadata": {},
   "outputs": [],
   "source": []
  }
 ],
 "metadata": {
  "kernelspec": {
   "display_name": "Python 3 (ipykernel)",
   "language": "python",
   "name": "python3"
  },
  "language_info": {
   "codemirror_mode": {
    "name": "ipython",
    "version": 3
   },
   "file_extension": ".py",
   "mimetype": "text/x-python",
   "name": "python",
   "nbconvert_exporter": "python",
   "pygments_lexer": "ipython3",
   "version": "3.10.12"
  },
  "widgets": {
   "application/vnd.jupyter.widget-state+json": {
    "state": {},
    "version_major": 2,
    "version_minor": 0
   }
  }
 },
 "nbformat": 4,
 "nbformat_minor": 5
}
