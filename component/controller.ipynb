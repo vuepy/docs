{
 "cells": [
  {
   "cell_type": "markdown",
   "id": "a1e2fa29-7566-4426-be1e-a750658d83a5",
   "metadata": {},
   "source": [
    "# Controller 游戏控制器🎮\n",
    "\n",
    "`Controller` 允许游戏控制器作为输入设备。"
   ]
  },
  {
   "cell_type": "markdown",
   "id": "7cdc5e8c-2aa8-41d1-9461-3e451f6ef6ea",
   "metadata": {},
   "source": [
    "## 基础用法\n",
    "\n",
    "适用广泛的基础单选 `v-model` 的值为当前被选中的 `option` 的 value 属性值\n",
    "\n",
    "`options` 可以是列表，可以是 `(名字、值)` 形式的列表。\n",
    "\n",
    "> [!TIP]\n",
    "> `v-model` 或初始值必须是 options 中的值。"
   ]
  },
  {
   "cell_type": "code",
   "execution_count": 1,
   "id": "f5928b17-e8c8-47b0-9774-a8bb1f7e6af3",
   "metadata": {},
   "outputs": [
    {
     "name": "stdout",
     "output_type": "stream",
     "text": [
      "{\"vue\": \"<template>\\n  <Select description=\\\"OS:\\\"\\n          :rows=\\\"1\\\"\\n          :options=\\\"['Linux', 'Win', 'macOS']\\\"\\n  ></Select>\\n\\n  <Select description=\\\"OS:\\\"\\n          v-model=\\\"choice.value\\\"\\n          :options=\\\"['Linux', 'Win', 'macOS']\\\"\\n  ></Select>\\n</template>\\n\\n<script src=\\\"./basic_setup.py\\\"></script>\\n<script setup>\\nimport Select from \\\"../../../src/ipywui/components/Select\\\";\\n</script>\", \"setup\": \"from vuepy import ref\\n\\n\\ndef setup(props, ctx, vm):\\n    choice = ref('macOS')\\n\\n    choice2 = ref(1)\\n    radio_items = [('One', 1), ('Two', 2), ('Three', 3)]\\n    return locals()\\n\"}\n"
     ]
    },
    {
     "data": {
      "application/vnd.jupyter.widget-view+json": {
       "model_id": "ce2bc416f3044ba5852662389ac2ab25",
       "version_major": 2,
       "version_minor": 0
      },
      "text/plain": [
       "Document(children=(Dom(children=(MessageWidget(message_options={'message': '', 'type': 'info', 'show_close': F…"
      ]
     },
     "execution_count": 1,
     "metadata": {},
     "output_type": "execute_result"
    }
   ],
   "source": [
    "import os\n",
    "import pathlib\n",
    "from vuepy.utils import magic\n",
    "\n",
    "cur_path = pathlib.Path()\n",
    "source_root = cur_path.absolute().parent.parent.parent\n",
    "os.chdir(source_root / 'examples' / 'ipywui' / 'select')\n",
    "\n",
    "%vuepy_demo basic.vue"
   ]
  },
  {
   "cell_type": "markdown",
   "id": "c831bd9d-4d8d-4e6b-a6c1-d0c2a9e5e977",
   "metadata": {},
   "source": [
    "## 禁用状态\n",
    "\n",
    "你可以使用 `disabled` 属性来定义是否被禁用。  \n",
    "使用 `disabled` 属性来控制是否为禁用状态。该属性接受一个 `bool` 类型的值。"
   ]
  },
  {
   "cell_type": "code",
   "execution_count": 2,
   "id": "540d2cc4-2c3f-4b19-8e5d-0bf3c7f0090f",
   "metadata": {},
   "outputs": [
    {
     "name": "stdout",
     "output_type": "stream",
     "text": [
      "{\"vue\": \"<template>\\n  <Select description=\\\"OS:\\\"\\n          :rows=\\\"1\\\"\\n          :options=\\\"['Linux', 'Win', 'macOS']\\\"\\n          disabled\\n  ></Select>\\n\\n  <Select description=\\\"OS:\\\"\\n          :options=\\\"['Linux', 'Win', 'macOS']\\\"\\n          disabled\\n  ></Select>\\n</template>\\n\\n<script setup>\\nimport Select from \\\"../../../src/ipywui/components/Select\\\";\\n</script>\\n\", \"setup\": 0}\n"
     ]
    },
    {
     "data": {
      "application/vnd.jupyter.widget-view+json": {
       "model_id": "4d6a7faf1a2c438cb9c1438889c534cc",
       "version_major": 2,
       "version_minor": 0
      },
      "text/plain": [
       "Document(children=(Dom(children=(MessageWidget(message_options={'message': '', 'type': 'info', 'show_close': F…"
      ]
     },
     "execution_count": 2,
     "metadata": {},
     "output_type": "execute_result"
    }
   ],
   "source": [
    "%vuepy_demo disabled.vue"
   ]
  },
  {
   "cell_type": "markdown",
   "id": "fe086dd1-f8ed-41d9-9193-e53ef6996e14",
   "metadata": {},
   "source": [
    "## 基础多选\n",
    "\n",
    "设置 `multiple` 属性即可启用多选。\n",
    "\n",
    "可以通过按下 `shift` 或 `ctrl` （或 `command` ）并单击鼠标或箭头键来选择多个值。"
   ]
  },
  {
   "cell_type": "code",
   "execution_count": 3,
   "id": "f7eb384f-43e6-4ab0-b54d-8d0c31e1cb46",
   "metadata": {},
   "outputs": [
    {
     "name": "stdout",
     "output_type": "stream",
     "text": [
      "{\"vue\": \"<template>\\n  <Select description=\\\"OS:\\\"\\n          v-model=\\\"choices.value\\\"\\n          :rows=\\\"2\\\"\\n          :options=\\\"['Linux', 'Win', 'macOS']\\\"\\n          multiple\\n  ></Select>\\n\\n  <Select description=\\\"OS:\\\"\\n          v-model=\\\"choices2.value\\\"\\n          :options=\\\"['Linux', 'Win', 'macOS']\\\"\\n          multiple\\n  ></Select>\\n</template>\\n\\n<script src=\\\"./multiple_setup.py\\\"></script>\\n<script setup>\\nimport Select from \\\"../../../src/ipywui/components/Select\\\";\\n</script>\", \"setup\": \"from vuepy import ref\\n\\n\\ndef setup(props, ctx, vm):\\n    choices = ref([])\\n\\n    choices2 = ref(['Linux', 'macOS'])\\n    return locals()\\n\"}\n"
     ]
    },
    {
     "data": {
      "application/vnd.jupyter.widget-view+json": {
       "model_id": "9bfe676480d042d192ed43427dacc585",
       "version_major": 2,
       "version_minor": 0
      },
      "text/plain": [
       "Document(children=(Dom(children=(MessageWidget(message_options={'message': '', 'type': 'info', 'show_close': F…"
      ]
     },
     "execution_count": 3,
     "metadata": {},
     "output_type": "execute_result"
    }
   ],
   "source": [
    "%vuepy_demo multiple.vue"
   ]
  },
  {
   "cell_type": "markdown",
   "id": "0b0e76d8-3d1f-42a1-b6dc-b642a138510d",
   "metadata": {},
   "source": [
    "## 自定义样式\n",
    "\n",
    "您可以自定义输入框样式。  \n",
    "使用 `style` 属性额外配置样式: \n",
    "* `description-width`：label的宽度。"
   ]
  },
  {
   "cell_type": "code",
   "execution_count": 4,
   "id": "4555cd32-d66d-411b-8b39-01153e8fb53d",
   "metadata": {},
   "outputs": [
    {
     "name": "stdout",
     "output_type": "stream",
     "text": [
      "{\"vue\": \"<template>\\n  <Select description=\\\"Description-width 150px\\\"\\n          :options=\\\"['one', 'two']\\\"\\n          style=\\\"description-width: 150px\\\"\\n  ></Select>\\n\\n  <Select description=\\\"Description-width 180px\\\"\\n          :options=\\\"['one', 'two']\\\"\\n          style=\\\"description-width: 180px\\\"\\n  ></Select>\\n</template>\\n\\n<script setup>\\nimport Select from \\\"../../../src/ipywui/components/Select\\\";\\n</script>\\n\", \"setup\": 0}\n"
     ]
    },
    {
     "data": {
      "application/vnd.jupyter.widget-view+json": {
       "model_id": "49062d8b888c4865937c152b57fad656",
       "version_major": 2,
       "version_minor": 0
      },
      "text/plain": [
       "Document(children=(Dom(children=(MessageWidget(message_options={'message': '', 'type': 'info', 'show_close': F…"
      ]
     },
     "execution_count": 4,
     "metadata": {},
     "output_type": "execute_result"
    }
   ],
   "source": [
    "%vuepy_demo custom.vue"
   ]
  },
  {
   "cell_type": "markdown",
   "id": "8685d144-029f-4afa-8547-4f3d84529504",
   "metadata": {},
   "source": [
    "## API\n",
    "\n",
    "### 属性\n",
    "\n",
    "| 属性名        | 说明                 | 类型                                                           | 默认值 |\n",
    "| --------     | ------------------- | ---------------------------------------------------------------| ------- |\n",
    "| v-model/value | 选定项绑定值         | ^[any]                                                         | —       |\n",
    "| description  | 标签文字             | ^[str]                                                         | —       |\n",
    "| options      | 选项列表             | ^[list]                                                        | —       |\n",
    "| rows         | 显示的选项个数        | ^[int]                                                         | —       |\n",
    "| multiple     | 是否为多选           | ^[boolean]                                                     | false   |\n",
    "| disabled     | 是否为禁用状态        | ^[boolean]                                                     | false   |\n",
    "| style        | 自定义css样式        | ^[str]                                                         | -       |\n",
    "\n",
    "### 方法\n",
    "\n",
    "| 属性名 | 说明 | 类型 |\n",
    "| --- | --- | --- |\n",
    "| index | 当前选择标签的索引 | int |\n",
    "| label | 当前选择的标签 | --- |\n",
    "| value | 当前选择的值 | --- |"
   ]
  }
 ],
 "metadata": {
  "kernelspec": {
   "display_name": "Python 3 (ipykernel)",
   "language": "python",
   "name": "python3"
  },
  "language_info": {
   "codemirror_mode": {
    "name": "ipython",
    "version": 3
   },
   "file_extension": ".py",
   "mimetype": "text/x-python",
   "name": "python",
   "nbconvert_exporter": "python",
   "pygments_lexer": "ipython3",
   "version": "3.10.12"
  },
  "widgets": {
   "application/vnd.jupyter.widget-state+json": {
    "state": {},
    "version_major": 2,
    "version_minor": 0
   }
  }
 },
 "nbformat": 4,
 "nbformat_minor": 5
}