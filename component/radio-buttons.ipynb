{
 "cells": [
  {
   "cell_type": "markdown",
   "id": "a1e2fa29-7566-4426-be1e-a750658d83a5",
   "metadata": {},
   "source": [
    "# RadioButtons 单选框\n",
    "\n",
    "在一组备选项中进行单选"
   ]
  },
  {
   "cell_type": "markdown",
   "id": "7cdc5e8c-2aa8-41d1-9461-3e451f6ef6ea",
   "metadata": {},
   "source": [
    "## 基础用法\n",
    "\n",
    "单选框不应该有太多的可选项， 如果你有很多的可选项你应该使用 `Select` 选择框而不是单选框。  \n",
    "要使用 `RadioButtons` 组件，只需要设置v-model绑定变量， 选中意味着变量的值为对应选项的值。  \n",
    "选项 `options` 可以是标签的列表，也可以是 `(标签、值)` 形式的列表。\n",
    "\n",
    "::: tip\n",
    "`v-model` 或初始值必须是 options 中的值。\n",
    ":::"
   ]
  },
  {
   "cell_type": "code",
   "execution_count": 4,
   "id": "f5928b17-e8c8-47b0-9774-a8bb1f7e6af3",
   "metadata": {},
   "outputs": [
    {
     "name": "stdout",
     "output_type": "stream",
     "text": [
      "{\"vue\": \"<template>\\n  <RadioButtons description=\\\"options ['pepperoni', 'pineapple', 'anchovies']\\\"\\n                v-model=\\\"choice1.value\\\"\\n                :options=\\\"options1\\\"\\n  ></RadioButtons>\\n\\n  <RadioButtons description=\\\"options [('One', 1), ('Two', 2), ('Three', 3)]\\\"\\n                v-model=\\\"choice2.value\\\"\\n                :options=\\\"options2\\\"\\n  ></RadioButtons>\\n\\n</template>\\n\\n<script src=\\\"./basic_setup.py\\\"></script>\\n<script setup>\\nimport RadioButtons from \\\"../../../src/ipywui/components/RadioButtons\\\";\\n</script>\", \"setup\": \"from vuepy import ref\\n\\n\\ndef setup(props, ctx, vm):\\n    options1 = ['pepperoni', 'pineapple', 'anchovies']\\n    choice1 = ref('pepperoni')\\n\\n    options2 = [('One', 1), ('Two', 2), ('Three', 3)]\\n    choice2 = ref(1)\\n\\n    return locals()\\n\"}\n"
     ]
    },
    {
     "data": {
      "application/vnd.jupyter.widget-view+json": {
       "model_id": "df73d904d6dc4017a1a7b24937c8d306",
       "version_major": 2,
       "version_minor": 0
      },
      "text/plain": [
       "Document(children=(Dom(children=(MessageWidget(message_options={'message': '', 'type': 'info', 'show_close': F…"
      ]
     },
     "execution_count": 4,
     "metadata": {},
     "output_type": "execute_result"
    }
   ],
   "source": [
    "import os\n",
    "import pathlib\n",
    "from vuepy.utils import magic\n",
    "\n",
    "cur_path = pathlib.Path()\n",
    "source_root = cur_path.absolute().parent.parent.parent\n",
    "os.chdir(source_root / 'examples' / 'ipywui' / 'radio_buttons')\n",
    "\n",
    "%vuepy_demo basic.vue"
   ]
  },
  {
   "cell_type": "markdown",
   "id": "c831bd9d-4d8d-4e6b-a6c1-d0c2a9e5e977",
   "metadata": {},
   "source": [
    "## 禁用状态\n",
    "\n",
    "你可以使用 `disabled` 属性来定义是否被禁用。  \n",
    "使用 `disabled` 属性来控制是否为禁用状态。该属性接受一个 `bool` 类型的值。"
   ]
  },
  {
   "cell_type": "code",
   "execution_count": 2,
   "id": "540d2cc4-2c3f-4b19-8e5d-0bf3c7f0090f",
   "metadata": {},
   "outputs": [
    {
     "name": "stdout",
     "output_type": "stream",
     "text": [
      "{\"vue\": \"<template>\\n  <RadioButtons description=\\\"Disabled\\\"\\n                :options=\\\"['pepperoni', 'pineapple', 'anchovies']\\\"\\n                disabled\\n  ></RadioButtons>\\n</template>\\n\\n<script>\\nexport default {\\n  name: \\\"disabled\\\"\\n}\\n</script>\\n\\n<style scoped>\\n\\n</style>\", \"setup\": 0}\n"
     ]
    },
    {
     "data": {
      "application/vnd.jupyter.widget-view+json": {
       "model_id": "28c391ac7bf14a89bccb5edf8127acc3",
       "version_major": 2,
       "version_minor": 0
      },
      "text/plain": [
       "Document(children=(Dom(children=(MessageWidget(message_options={'message': '', 'type': 'info', 'show_close': F…"
      ]
     },
     "execution_count": 2,
     "metadata": {},
     "output_type": "execute_result"
    }
   ],
   "source": [
    "%vuepy_demo disabled.vue"
   ]
  },
  {
   "cell_type": "markdown",
   "id": "0b0e76d8-3d1f-42a1-b6dc-b642a138510d",
   "metadata": {},
   "source": [
    "## 自定义样式\n",
    "\n",
    "您可以自定义输入框样式。  \n",
    "使用 `style` 属性额外配置样式: \n",
    "* `description-width`：label的宽度。"
   ]
  },
  {
   "cell_type": "code",
   "execution_count": 3,
   "id": "4555cd32-d66d-411b-8b39-01153e8fb53d",
   "metadata": {},
   "outputs": [
    {
     "name": "stdout",
     "output_type": "stream",
     "text": [
      "{\"vue\": \"<template>\\n  <RadioButtons description=\\\"Description-width 150px\\\"\\n                :options=\\\"['one', 'two']\\\"\\n               style=\\\"description-width: 150px\\\"\\n  ></RadioButtons>\\n\\n  <RadioButtons description=\\\"Description-width 180px\\\"\\n               :options=\\\"['one', 'two']\\\"\\n               style=\\\"description-width: 180px\\\"\\n  ></RadioButtons>\\n</template>\\n\\n<script setup>\\nimport RadioButtons from \\\"../../../src/ipywui/components/RadioButtons\\\";\\n</script>\\n\", \"setup\": 0}\n"
     ]
    },
    {
     "data": {
      "application/vnd.jupyter.widget-view+json": {
       "model_id": "129e4390b4f347bbb0159af4ea67c375",
       "version_major": 2,
       "version_minor": 0
      },
      "text/plain": [
       "Document(children=(Dom(children=(MessageWidget(message_options={'message': '', 'type': 'info', 'show_close': F…"
      ]
     },
     "execution_count": 3,
     "metadata": {},
     "output_type": "execute_result"
    }
   ],
   "source": [
    "%vuepy_demo custom.vue"
   ]
  },
  {
   "cell_type": "markdown",
   "id": "8685d144-029f-4afa-8547-4f3d84529504",
   "metadata": {},
   "source": [
    "## API\n",
    "\n",
    "### 属性\n",
    "\n",
    "| 属性名        | 说明                 | 类型                                                           | 默认值 |\n",
    "| --------     | ------------------- | ---------------------------------------------------------------| ------- |\n",
    "| v-model/value | 绑定值             | ^[any]                                                         | —       |\n",
    "| description     | 标签文字             | ^[str]                                                         | —       |\n",
    "| options | 选项列表        | ^[list]                                                        | —       |\n",
    "| disabled | 是否为禁用状态     | ^[boolean]                                                     | false   |\n",
    "| style        | 自定义css样式        | ^[str]                                                         | -       |\n",
    "\n",
    "### 方法\n",
    "\n",
    "| 属性名 | 说明 | 类型 |\n",
    "| --- | --- | --- |\n",
    "| index | 当前选择的索引 | int |\n",
    "| label | 当前选择的标签 | --- |\n",
    "| value | 当前选择的值 | --- |"
   ]
  }
 ],
 "metadata": {
  "kernelspec": {
   "display_name": "Python 3 (ipykernel)",
   "language": "python",
   "name": "python3"
  },
  "language_info": {
   "codemirror_mode": {
    "name": "ipython",
    "version": 3
   },
   "file_extension": ".py",
   "mimetype": "text/x-python",
   "name": "python",
   "nbconvert_exporter": "python",
   "pygments_lexer": "ipython3",
   "version": "3.10.12"
  },
  "widgets": {
   "application/vnd.jupyter.widget-state+json": {
    "state": {},
    "version_major": 2,
    "version_minor": 0
   }
  }
 },
 "nbformat": 4,
 "nbformat_minor": 5
}
