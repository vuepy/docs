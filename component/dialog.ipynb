{
 "cells": [
  {
   "cell_type": "markdown",
   "id": "a1e2fa29-7566-4426-be1e-a750658d83a5",
   "metadata": {},
   "source": [
    "# Dialog 对话框\n",
    "\n",
    "在保留当前页面状态的情况下，告知用户并承载相关操作。"
   ]
  },
  {
   "cell_type": "markdown",
   "id": "cb4fc10a-d3d9-48f2-b51b-021e07847da9",
   "metadata": {},
   "source": [
    "## 基础用法\n",
    "\n",
    "Dialog 弹出一个对话框，适合需要定制性更大的场景。  \n",
    "需要设置 `v-model` 属性，它接收 `bool`，当为 `True` 时显示 `Dialog`。 `Dialog` 分为两个部分：`body` 和 `footer`，`footer` 需要具名为 `footer` 的 slot。 `title` 属性用于定义标题，它是可选的，默认值为空。 \n",
    "\n",
    "::: tip\n",
    "`Dialog` 需要放在最外层才能正确显示！\n",
    ":::"
   ]
  },
  {
   "cell_type": "code",
   "execution_count": 1,
   "id": "5c878f24-18cc-4b02-952f-286774c42519",
   "metadata": {},
   "outputs": [
    {
     "name": "stdout",
     "output_type": "stream",
     "text": [
      "{\"vue\": \"<template>\\n  <Button label=\\\"show dialog\\\" type='info' @click=\\\"show_dialog()\\\"></Button>\\n  <Label value=\\\"Placeholder\\\" style=\\\"height: 200px\\\"></Label>\\n  <Dialog title=\\\"Shipping address\\\" v-model=\\\"is_show.value\\\" width=\\\"45%\\\">\\n    <template>\\n      <Input label=\\\"name\\\"></Input>\\n    </template>\\n    <template v-slot:footer>\\n      <HBox>\\n        <Button label=\\\"Cancel\\\" type=\\\"warning\\\" @click=\\\"close_dialog()\\\"></Button>\\n        <Button label=\\\"Ok\\\" type=\\\"info\\\" @click=\\\"close_dialog()\\\"></Button>\\n      </HBox>\\n    </template>\\n  </Dialog>\\n</template>\\n\\n<script src=\\\"./basic_setup.py\\\"></script>\\n<script setup>\\nimport Dialog from \\\"../../../src/ipywui/components/Dialog\\\";\\nimport Button from \\\"../../../src/ipywui/components/Button\\\";\\nimport Label from \\\"../../../src/ipywui/components/Label\\\";\\nimport Input from \\\"../../../src/ipywui/components/Input\\\";\\nimport HBox from \\\"../../../src/ipywui/components/HBox\\\";\\n</script>\", \"setup\": \"from vuepy import ref\\n\\n\\ndef setup(props, ctx, vm):\\n    is_show = ref(True)\\n\\n    def show_dialog():\\n        is_show.value = True\\n\\n    def close_dialog():\\n        is_show.value = False\\n\\n    return locals()\\n\"}\n"
     ]
    },
    {
     "data": {
      "application/vnd.jupyter.widget-view+json": {
       "model_id": "3b94f15f154f449dad500615949837c1",
       "version_major": 2,
       "version_minor": 0
      },
      "text/plain": [
       "Document(children=(Dom(children=(MessageWidget(message_options={'message': '', 'type': 'info', 'show_close': F…"
      ]
     },
     "execution_count": 1,
     "metadata": {},
     "output_type": "execute_result"
    }
   ],
   "source": [
    "import os\n",
    "import pathlib\n",
    "from vuepy.utils import magic\n",
    "\n",
    "\n",
    "cur_path = pathlib.Path()\n",
    "source_root = cur_path.absolute().parent.parent.parent\n",
    "os.chdir(source_root / 'examples' / 'ipywui' / 'dialog')\n",
    "\n",
    "\n",
    "%vuepy_demo basic.vue"
   ]
  },
  {
   "cell_type": "markdown",
   "id": "e9bc5ea6-5915-4182-91fa-8cf0bbb390e6",
   "metadata": {},
   "source": [
    "## 打开/关闭对话框事件"
   ]
  },
  {
   "cell_type": "code",
   "execution_count": 2,
   "id": "7250ac4c-ce07-4038-803e-4e281635837a",
   "metadata": {},
   "outputs": [
    {
     "name": "stdout",
     "output_type": "stream",
     "text": [
      "{\"vue\": \"<template>\\n  <Button label=\\\"show dialog\\\" type='info' @click=\\\"show_dialog()\\\"></Button>\\n  <Label :value=\\\"state.value\\\" style=\\\"height: 200px\\\"></Label>\\n  <Dialog title=\\\"Shipping address\\\" v-model=\\\"is_show.value\\\" width=\\\"45%\\\"\\n          @close=\\\"handle_close()\\\"\\n          @open=\\\"handle_open()\\\"\\n  >\\n    <template>\\n      <Input label=\\\"name\\\"></Input>\\n    </template>\\n    <template v-slot:footer>\\n      <HBox>\\n        <Button label=\\\"Cancel\\\" type=\\\"warning\\\" @click=\\\"close_dialog()\\\"></Button>\\n        <Button label=\\\"Ok\\\" type=\\\"info\\\" @click=\\\"close_dialog()\\\"></Button>\\n      </HBox>\\n    </template>\\n  </Dialog>\\n</template>\\n\\n<script src=\\\"./events_setup.py\\\"></script>\\n<script setup>\\nimport Dialog from \\\"../../../src/ipywui/components/Dialog\\\";\\nimport Button from \\\"../../../src/ipywui/components/Button\\\";\\nimport Label from \\\"../../../src/ipywui/components/Label\\\";\\nimport Input from \\\"../../../src/ipywui/components/Input\\\";\\nimport HBox from \\\"../../../src/ipywui/components/HBox\\\";\\n</script>\", \"setup\": \"from vuepy import ref\\n\\n\\ndef setup(props, ctx, vm):\\n    is_show = ref(False)\\n\\n    state = ref(\\\"-\\\")\\n\\n    def show_dialog():\\n        is_show.value = True\\n\\n    def close_dialog():\\n        is_show.value = False\\n\\n    def handle_open():\\n        state.value = 'open'\\n\\n    def handle_close():\\n        state.value = 'close'\\n\\n    return locals()\\n\"}\n"
     ]
    },
    {
     "data": {
      "application/vnd.jupyter.widget-view+json": {
       "model_id": "2d4be69c33e04d2bb7ac612eccc83455",
       "version_major": 2,
       "version_minor": 0
      },
      "text/plain": [
       "Document(children=(Dom(children=(MessageWidget(message_options={'message': '', 'type': 'info', 'show_close': F…"
      ]
     },
     "execution_count": 2,
     "metadata": {},
     "output_type": "execute_result"
    }
   ],
   "source": [
    "%vuepy_demo events.vue"
   ]
  },
  {
   "cell_type": "markdown",
   "id": "8685d144-029f-4afa-8547-4f3d84529504",
   "metadata": {},
   "source": [
    "## API\n",
    "\n",
    "### Attributes\n",
    "\n",
    "| Name                       | Description                                    | Type                                | Default |\n",
    "| -------------------------- | -----------------------------------------------| ----------------------------------- | ------- |\n",
    "| model-value / v-model      | 是否显示 Dialog                                 | ^[boolean]                          | —       |\n",
    "| title                      | Dialog 对话框 Dialog 的标题                      | ^[string]                           | ''      |\n",
    "| width                      | 对话框的宽度，默认值为 50%                        | ^[string] / ^[number]               | ''      |\n",
    "\n",
    "### Slots\n",
    "\n",
    "| Name                | Description            |\n",
    "| ------------------- | -----------------------|\n",
    "| —                   | Dialog 的内容           |\n",
    "| footer              | Dialog按钮操作区的内容    |\n",
    "\n",
    "\n",
    "### Events\n",
    "\n",
    "| Name             | Description                | Type                    |\n",
    "| ---------------- | ---------------------------| ----------------------- |\n",
    "| open             | Dialog 打开的回调\t        | ^[Function]`() => void` |\n",
    "| close            | Dialog 关闭的回调\t        | ^[Function]`() => void` |"
   ]
  }
 ],
 "metadata": {
  "kernelspec": {
   "display_name": "Python 3 (ipykernel)",
   "language": "python",
   "name": "python3"
  },
  "language_info": {
   "codemirror_mode": {
    "name": "ipython",
    "version": 3
   },
   "file_extension": ".py",
   "mimetype": "text/x-python",
   "name": "python",
   "nbconvert_exporter": "python",
   "pygments_lexer": "ipython3",
   "version": "3.10.12"
  },
  "widgets": {
   "application/vnd.jupyter.widget-state+json": {
    "state": {},
    "version_major": 2,
    "version_minor": 0
   }
  }
 },
 "nbformat": 4,
 "nbformat_minor": 5
}