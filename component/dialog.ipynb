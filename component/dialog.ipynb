{
 "cells": [
  {
   "cell_type": "markdown",
   "id": "a1e2fa29-7566-4426-be1e-a750658d83a5",
   "metadata": {},
   "source": [
    "# Dialog 对话框\n",
    "\n",
    "在保留当前页面状态的情况下，告知用户并承载相关操作。"
   ]
  },
  {
   "cell_type": "markdown",
   "id": "cb4fc10a-d3d9-48f2-b51b-021e07847da9",
   "metadata": {},
   "source": [
    "## 基本用法\n",
    "\n",
    "Dialog 弹出一个对话框，适合需要定制性更大的场景。  \n",
    "需要设置 `v-model` 属性，它接收 `bool`，当为 `True` 时显示 `Dialog`。 `Dialog` 分为两个部分：`body` 和 `footer`，`footer` 需要具名为 `footer` 的 slot。 `title` 属性用于定义标题，它是可选的，默认值为空。 \n",
    "\n",
    "::: tip\n",
    "`Dialog` 需要放在最外层才能正确显示！\n",
    ":::"
   ]
  },
  {
   "cell_type": "code",
   "execution_count": 1,
   "id": "5c878f24-18cc-4b02-952f-286774c42519",
   "metadata": {},
   "outputs": [
    {
     "name": "stdout",
     "output_type": "stream",
     "text": [
      "{\"vue\": \"<template>\\n  <Button label=\\\"show dialog\\\" type='info' @click=\\\"show_dialog()\\\"></Button>\\n  <Label value=\\\"Placeholder\\\" style=\\\"height: 200px\\\"></Label>\\n  <Dialog title=\\\"Shipping address\\\" v-model=\\\"is_show.value\\\" width=\\\"45%\\\">\\n    <template>\\n      <Input label=\\\"name\\\"></Input>\\n    </template>\\n    <template v-slot:footer>\\n      <HBox>\\n        <Button label=\\\"Cancel\\\" type=\\\"warning\\\" @click=\\\"close_dialog()\\\"></Button>\\n        <Button label=\\\"Ok\\\" type=\\\"info\\\" @click=\\\"close_dialog()\\\"></Button>\\n      </HBox>\\n    </template>\\n  </Dialog>\\n</template>\\n\\n<script src=\\\"./basic_setup.py\\\"></script>\\n<script setup>\\nimport Dialog from \\\"../../../src/ipywui/components/Dialog\\\";\\nimport Button from \\\"../../../src/ipywui/components/Button\\\";\\nimport Label from \\\"../../../src/ipywui/components/Label\\\";\\nimport Input from \\\"../../../src/ipywui/components/Input\\\";\\nimport HBox from \\\"../../../src/ipywui/components/HBox\\\";\\n</script>\", \"setup\": \"from vuepy import ref\\n\\n\\ndef setup(props, ctx, vm):\\n    is_show = ref(True)\\n\\n    def show_dialog():\\n        is_show.value = True\\n\\n    def close_dialog():\\n        is_show.value = False\\n\\n    return locals()\\n\"}\n"
     ]
    },
    {
     "data": {
      "application/vnd.jupyter.widget-view+json": {
       "model_id": "ad90cd25f30e463fba4702c43a67766f",
       "version_major": 2,
       "version_minor": 0
      },
      "text/plain": [
       "Document(children=(Dom(children=(MessageWidget(message_options={'message': '', 'type': 'info', 'show_close': F…"
      ]
     },
     "execution_count": 1,
     "metadata": {},
     "output_type": "execute_result"
    }
   ],
   "source": [
    "import os\n",
    "import pathlib\n",
    "from vuepy.utils import magic\n",
    "\n",
    "\n",
    "cur_path = pathlib.Path()\n",
    "source_root = cur_path.absolute().parent.parent.parent\n",
    "os.chdir(source_root / 'examples' / 'ipywui' / 'dialog')\n",
    "\n",
    "\n",
    "%vuepy_demo basic.vue"
   ]
  },
  {
   "cell_type": "markdown",
   "id": "e9bc5ea6-5915-4182-91fa-8cf0bbb390e6",
   "metadata": {},
   "source": [
    "## 打开/关闭对话框事件"
   ]
  },
  {
   "cell_type": "code",
   "execution_count": 2,
   "id": "7250ac4c-ce07-4038-803e-4e281635837a",
   "metadata": {},
   "outputs": [
    {
     "name": "stdout",
     "output_type": "stream",
     "text": [
      "{\"vue\": \"<template>\\n  <Button label=\\\"show dialog\\\" type='info' @click=\\\"show_dialog()\\\"></Button>\\n  <Label :value=\\\"state.value\\\" style=\\\"height: 200px\\\"></Label>\\n  <Dialog title=\\\"Shipping address\\\" v-model=\\\"is_show.value\\\" width=\\\"45%\\\"\\n          @close=\\\"handle_close()\\\"\\n          @open=\\\"handle_open()\\\"\\n  >\\n    <template>\\n      <Input label=\\\"name\\\"></Input>\\n    </template>\\n    <template v-slot:footer>\\n      <HBox>\\n        <Button label=\\\"Cancel\\\" type=\\\"warning\\\" @click=\\\"close_dialog()\\\"></Button>\\n        <Button label=\\\"Ok\\\" type=\\\"info\\\" @click=\\\"close_dialog()\\\"></Button>\\n      </HBox>\\n    </template>\\n  </Dialog>\\n</template>\\n\\n<script src=\\\"./events_setup.py\\\"></script>\\n<script setup>\\nimport Dialog from \\\"../../../src/ipywui/components/Dialog\\\";\\nimport Button from \\\"../../../src/ipywui/components/Button\\\";\\nimport Label from \\\"../../../src/ipywui/components/Label\\\";\\nimport Input from \\\"../../../src/ipywui/components/Input\\\";\\nimport HBox from \\\"../../../src/ipywui/components/HBox\\\";\\n</script>\", \"setup\": \"from vuepy import ref\\n\\n\\ndef setup(props, ctx, vm):\\n    is_show = ref(False)\\n\\n    state = ref(\\\"-\\\")\\n\\n    def show_dialog():\\n        is_show.value = True\\n\\n    def close_dialog():\\n        is_show.value = False\\n\\n    def handle_open():\\n        state.value = 'open'\\n\\n    def handle_close():\\n        state.value = 'close'\\n\\n    return locals()\\n\"}\n"
     ]
    },
    {
     "data": {
      "application/vnd.jupyter.widget-view+json": {
       "model_id": "e65d8b57fa154f92b4aba527014773b3",
       "version_major": 2,
       "version_minor": 0
      },
      "text/plain": [
       "Document(children=(Dom(children=(MessageWidget(message_options={'message': '', 'type': 'info', 'show_close': F…"
      ]
     },
     "execution_count": 2,
     "metadata": {},
     "output_type": "execute_result"
    }
   ],
   "source": [
    "%vuepy_demo events.vue"
   ]
  },
  {
   "cell_type": "code",
   "execution_count": 3,
   "id": "5dca37a3-dacc-4745-9d20-e689f06a0230",
   "metadata": {},
   "outputs": [
    {
     "data": {
      "application/vnd.jupyter.widget-view+json": {
       "model_id": "cedf1f25638f4552b41955da155719cc",
       "version_major": 2,
       "version_minor": 0
      },
      "text/plain": [
       "Output(outputs=({'name': 'stdout', 'output_type': 'stream', 'text': '2024-04-10 02:21:42,151  - [INFO] vue.py:…"
      ]
     },
     "execution_count": 3,
     "metadata": {},
     "output_type": "execute_result"
    }
   ],
   "source": [
    "from vuepy import log\n",
    "log.logout"
   ]
  },
  {
   "cell_type": "markdown",
   "id": "8685d144-029f-4afa-8547-4f3d84529504",
   "metadata": {},
   "source": [
    "## API\n",
    "\n",
    "### Attributes\n",
    "\n",
    "| Name                       | Description                                    | Type                                | Default |\n",
    "| -------------------------- | -----------------------------------------------| ----------------------------------- | ------- |\n",
    "| model-value / v-model      | 是否显示 Dialog                                 | ^[boolean]                          | —       |\n",
    "| title                      | Dialog 对话框 Dialog 的标题                      | ^[string]                           | ''      |\n",
    "| width                      | 对话框的宽度，默认值为 50%                        | ^[string] / ^[number]               | ''      |\n",
    "\n",
    "### Slots\n",
    "\n",
    "| Name                | Description            |\n",
    "| ------------------- | -----------------------|\n",
    "| —                   | Dialog 的内容           |\n",
    "| footer              | Dialog按钮操作区的内容    |\n",
    "\n",
    "\n",
    "### Events\n",
    "\n",
    "| Name             | Description                | Type                    |\n",
    "| ---------------- | ---------------------------| ----------------------- |\n",
    "| open             | Dialog 打开的回调\t        | ^[Function]`() => void` |\n",
    "| close            | Dialog 关闭的回调\t        | ^[Function]`() => void` |"
   ]
  }
 ],
 "metadata": {
  "kernelspec": {
   "display_name": "Python 3 (ipykernel)",
   "language": "python",
   "name": "python3"
  },
  "language_info": {
   "codemirror_mode": {
    "name": "ipython",
    "version": 3
   },
   "file_extension": ".py",
   "mimetype": "text/x-python",
   "name": "python",
   "nbconvert_exporter": "python",
   "pygments_lexer": "ipython3",
   "version": "3.10.12"
  },
  "widgets": {
   "application/vnd.jupyter.widget-state+json": {
    "state": {
     "01845b0c302c45b98caa429a6b3cb738": {
      "model_module": "@jupyter-widgets/base",
      "model_module_version": "2.0.0",
      "model_name": "LayoutModel",
      "state": {}
     },
     "0237aa5932ab408c97f3abcfcbd5ec1d": {
      "model_module": "@jupyter-widgets/controls",
      "model_module_version": "2.0.0",
      "model_name": "VBoxModel",
      "state": {
       "children": [
        "IPY_MODEL_054851b4397847dcbc8dbcc75e6b92e7",
        "IPY_MODEL_dc145c2d8f964620888675edd40bfef0"
       ],
       "layout": "IPY_MODEL_6e37b9d91b4645d1919e88f6b5328615"
      }
     },
     "028a1c807e494320bd23817486bb0142": {
      "model_module": "@jupyter-widgets/base",
      "model_module_version": "2.0.0",
      "model_name": "LayoutModel",
      "state": {}
     },
     "054851b4397847dcbc8dbcc75e6b92e7": {
      "model_module": "anywidget",
      "model_module_version": "0.9.3",
      "model_name": "AnyModel",
      "state": {
       "_anywidget_id": "ipywui.widgets.custom.message.MessageWidget",
       "_css": ".wui-message-root {\n    display: flex;\n    position: absolute;\n    left: 0;\n    right: 0;\n    top: 0;\n}\n\n.wui-message-container {\n    align-items: center;\n    display: flex;\n    flex-direction: column-reverse;\n    justify-content: center;\n    min-height: 100%;\n    outline: none;\n    width: 100%;\n\n    -webkit-tap-highlight-color: rgba(0,0,0,0);\n    bottom: 0;\n    left: 0;\n    right: 0;\n    top: 0;\n}\n\n.wui-message--success {\n    --wui-message-bg-color: #f0f9eb;\n    --wui-message-border-color: #e1f3d8;\n    --wui-message-text-color: #67c23a;\n}\n.wui-message--warning {\n    --wui-message-bg-color: #fdf6ec;\n    --wui-message-border-color: #faecd8;\n    --wui-message-text-color: #e6a23c;\n}\n.wui-message--info {\n    --wui-message-bg-color: #f4f4f5;\n    --wui-message-border-color: #e9e9eb;\n    --wui-message-text-color: #909399;\n}\n.wui-message--error {\n    --wui-message-bg-color: #fef0f0;\n    --wui-message-border-color: #fde2e2;\n    --wui-message-text-color: #f56c6c;\n}\n\n@keyframes msg-open {\n    0% {\n        opacity: 0;\n        -webkit-transform: translateY(-120%);\n        transform: translateY(-120%)\n    }\n    to {\n        -webkit-transform: translateY(0);\n        transform: translateY(0)\n    }\n}\n\n@keyframes msg-close {\n    0% {\n        opacity: 1;\n        -webkit-transform: scale(1);\n        transform: scale(1)\n    }\n    to {\n        opacity: 0;\n        -webkit-transform: scale(.9);\n        transform: scale(.9)\n    }\n}\n.wui-message[data-state=entered],.wui-message[data-state=entering] {\n    -webkit-animation: msg-open .24s cubic-bezier(.175,.885,.32,1.175) both;\n    animation: msg-open .24s cubic-bezier(.175,.885,.32,1.175) both\n}\n\n.wui-message[data-state=exiting] {\n    -webkit-animation: msg-close .12s cubic-bezier(.4,0,1,1) both;\n    animation: msg-close .12s cubic-bezier(.4,0,1,1) both\n}\n\n.wui-message {\n    width: -webkit-fit-content;\n    width: -moz-fit-content;\n    width: fit-content;\n    z-index: 2004;\n    max-width: calc(100% - 32px);\n    margin-top: 8px;\n    box-sizing: border-box;\n    /*border-radius: var(--wui-border-radius-base);*/\n    /*border-width: var(--wui-border-width);*/\n    /*border-style: var(--wui-border-style);*/\n    border-color: var(--wui-message-border-color);\n    /*left: 50%;*/\n    /*top: 20px;*/\n    /*transform: translateX(-50%);*/\n    background-color: var(--wui-message-bg-color);\n    /*transition: opacity var(--wui-transition-duration),transform .4s,top .4s;*/\n    /*padding: var(--wui-message-padding);*/\n    display: flex;\n    align-items: center;\n}\n\n/*.wui-message--success */\n.wui-message__content {\n    color: var(--wui-message-text-color);\n    font-size: 14px;\n    line-height: 18px;\n    margin: 10px 14px 10px 14px;\n    overflow-wrap: break-word;\n}\n\n.wui-message__closeBtn {\n    /*cursor: pointer;*/\n    font-style: normal;\n    /*color: gray;*/\n    padding-right: 14px;\n    /*font-size: 13px;*/\n    user-select: none;\n\n    background: transparent;\n    border: none;\n    color: gray;\n    cursor: pointer;\n    font-size: 13px;\n    font-weight: 400;\n    line-height: 1;\n    outline: none;\n    /*padding: 4px;*/\n    text-align: center;\n    transition: opacity .3s;\n    /*width: 100%;*/\n}",
       "_esm": "function closeMsg(msgDom) {\n  if (!msgDom) {\n    return;\n  }\n  msgDom.setAttribute('data-state', 'exiting');\n  msgDom.remove();\n}\n\nfunction createMsg(options) {\n  const {message, msg_id, type = 'info', show_close = false} = options;\n  const msgDom = document.createElement('div');\n  msgDom.className += ` wui-message--${type} wui-message`;\n  msgDom.setAttribute('data-state', 'entered');\n  msgDom.setAttribute('id', msg_id);\n  const msgContent = document.createElement('p');\n  msgContent.className += ` wui-message--${type} wui-message__content`;\n  msgContent.innerText = message;\n  msgDom.appendChild(msgContent);\n  if (show_close) {\n    const closeBtn = document.createElement('i');\n    closeBtn.className += 'wui-message__closeBtn';\n    closeBtn.innerText = 'x';\n    closeBtn.addEventListener('click', (ev) => {\n      closeMsg(msgDom);\n    })\n    msgDom.appendChild(closeBtn);\n  }\n  return msgDom;\n}\n\nexport async function render(view) {\n  let model = view.model;\n  const msgRoot = view.el;\n  msgRoot.className += ' wui-message-root'\n\n  const msgContainer = document.createElement('div');\n  msgContainer.className += ' wui-message-container';\n  msgRoot.appendChild(msgContainer)\n\n  model.on(\"change:message_options\", () => {\n    const options = model.get(\"message_options\");\n    const msg = createMsg(options);\n    msgContainer.appendChild(msg);\n    const {duration = 3000} = options;\n    if (duration > 0) {\n      setTimeout(() => {\n        closeMsg(msg)\n      }, duration);\n    }\n  })\n\n  model.on(\"change:close_msg_id\", () => {\n    const msg_id = model.get(\"close_msg_id\");\n    const msgDom = document.getElementById(msg_id);\n    closeMsg(msgDom);\n  })\n}\n",
       "_model_module": "anywidget",
       "_model_module_version": "0.9.3",
       "_model_name": "AnyModel",
       "_view_module": "anywidget",
       "_view_module_version": "0.9.3",
       "_view_name": "AnyView",
       "close_msg_id": "",
       "layout": "IPY_MODEL_f2603653e32b4543a3bfade77656123c",
       "message_options": {
        "duration": 3000,
        "message": "",
        "show_close": false,
        "type": "info"
       }
      }
     },
     "0e5c70f322cb4581b062ce2aa8c8a529": {
      "model_module": "@jupyter-widgets/controls",
      "model_module_version": "2.0.0",
      "model_name": "VBoxModel",
      "state": {
       "children": [
        "IPY_MODEL_1368295b2ed54e5a88830b328290283c"
       ],
       "layout": "IPY_MODEL_0f013cab21a04682a9054136372332e7"
      }
     },
     "0f013cab21a04682a9054136372332e7": {
      "model_module": "@jupyter-widgets/base",
      "model_module_version": "2.0.0",
      "model_name": "LayoutModel",
      "state": {}
     },
     "105e5d38dd964ca6bb83a4aaf1b0a8b1": {
      "model_module": "@jupyter-widgets/controls",
      "model_module_version": "2.0.0",
      "model_name": "VBoxModel",
      "state": {
       "children": [
        "IPY_MODEL_795db454b3b245e7abf5b425a5c92c87",
        "IPY_MODEL_4b55ca81e30b448596e971e7c1e1a112",
        "IPY_MODEL_826140a626c04914a46f7f2b4f69f2d9"
       ],
       "layout": "IPY_MODEL_877f97a779df4d779a5e92efce98e8c2"
      }
     },
     "1368295b2ed54e5a88830b328290283c": {
      "model_module": "@jupyter-widgets/controls",
      "model_module_version": "2.0.0",
      "model_name": "HBoxModel",
      "state": {
       "children": [
        "IPY_MODEL_4f387e1ec5194f11a3d71c6eceac9d0a",
        "IPY_MODEL_bab57080dca54b22911980b3aee7564d"
       ],
       "layout": "IPY_MODEL_f730c1d87fb74e91b6cafbff0a23eb55"
      }
     },
     "1b2f279021094718b8d9c312ffa5fc44": {
      "model_module": "@jupyter-widgets/base",
      "model_module_version": "2.0.0",
      "model_name": "LayoutModel",
      "state": {}
     },
     "1c9f6328d39b40e19edb3f7edf02403a": {
      "model_module": "@jupyter-widgets/controls",
      "model_module_version": "2.0.0",
      "model_name": "VBoxModel",
      "state": {
       "children": [
        "IPY_MODEL_50a3ae14e2934749a9b6de0af964c57e"
       ],
       "layout": "IPY_MODEL_cad315bd814b4ae8aa7e9a2bc176417c"
      }
     },
     "2188732608ef47d6add67380b049eec5": {
      "model_module": "@jupyter-widgets/base",
      "model_module_version": "2.0.0",
      "model_name": "LayoutModel",
      "state": {}
     },
     "21bb87bfbf9c40658eab79195dc6b660": {
      "model_module": "@jupyter-widgets/base",
      "model_module_version": "2.0.0",
      "model_name": "LayoutModel",
      "state": {}
     },
     "24ea0fdb722c4d129f80d43030c48493": {
      "model_module": "@jupyter-widgets/controls",
      "model_module_version": "2.0.0",
      "model_name": "ButtonStyleModel",
      "state": {
       "font_family": null,
       "font_size": null,
       "font_style": null,
       "font_variant": null,
       "font_weight": null,
       "text_color": null,
       "text_decoration": null
      }
     },
     "26b906bcd62546779d02de5870ba5c1e": {
      "model_module": "@jupyter-widgets/base",
      "model_module_version": "2.0.0",
      "model_name": "LayoutModel",
      "state": {}
     },
     "288948dbeb174a8db410057be9df6f44": {
      "model_module": "@jupyter-widgets/base",
      "model_module_version": "2.0.0",
      "model_name": "LayoutModel",
      "state": {}
     },
     "2c71edac289847fd8f099e455cde4479": {
      "model_module": "@jupyter-widgets/controls",
      "model_module_version": "2.0.0",
      "model_name": "VBoxModel",
      "state": {
       "children": [
        "IPY_MODEL_7fa8cf7bb9f24d74be2142dee80361e6"
       ],
       "layout": "IPY_MODEL_feecb0a40dcc412e817aa3dd77e0dc19"
      }
     },
     "30f4292f16e7486e81511777cc245896": {
      "model_module": "@jupyter-widgets/controls",
      "model_module_version": "2.0.0",
      "model_name": "LabelStyleModel",
      "state": {
       "description_width": "",
       "font_family": null,
       "font_size": null,
       "font_style": null,
       "font_variant": null,
       "font_weight": null,
       "text_color": null,
       "text_decoration": null
      }
     },
     "3388c921b17c497483a69b11a7b9ae34": {
      "model_module": "@jupyter-widgets/base",
      "model_module_version": "2.0.0",
      "model_name": "LayoutModel",
      "state": {}
     },
     "3fa74355d7624ede872cdedb9144129f": {
      "model_module": "@jupyter-widgets/controls",
      "model_module_version": "2.0.0",
      "model_name": "ButtonStyleModel",
      "state": {
       "font_family": null,
       "font_size": null,
       "font_style": null,
       "font_variant": null,
       "font_weight": null,
       "text_color": null,
       "text_decoration": null
      }
     },
     "3fd4217040f443b9aa4001cab3ecbfce": {
      "model_module": "@jupyter-widgets/controls",
      "model_module_version": "2.0.0",
      "model_name": "VBoxModel",
      "state": {
       "children": [
        "IPY_MODEL_9fb1be466fc8479c93c53e8c6a77b1e0",
        "IPY_MODEL_eb9c03a06ca14333b77c461d3767d406"
       ],
       "layout": "IPY_MODEL_81d720f2173241c1bc9dcd9444dcac65"
      }
     },
     "42325171752d4df4b4c97b073491b383": {
      "model_module": "@jupyter-widgets/base",
      "model_module_version": "2.0.0",
      "model_name": "LayoutModel",
      "state": {}
     },
     "4b55ca81e30b448596e971e7c1e1a112": {
      "model_module": "@jupyter-widgets/controls",
      "model_module_version": "2.0.0",
      "model_name": "LabelModel",
      "state": {
       "layout": "IPY_MODEL_cea239be057e459482010dfa05a09473",
       "style": "IPY_MODEL_30f4292f16e7486e81511777cc245896",
       "value": "open"
      }
     },
     "4f387e1ec5194f11a3d71c6eceac9d0a": {
      "model_module": "@jupyter-widgets/controls",
      "model_module_version": "2.0.0",
      "model_name": "ButtonModel",
      "state": {
       "button_style": "warning",
       "description": "Cancel",
       "layout": "IPY_MODEL_3388c921b17c497483a69b11a7b9ae34",
       "style": "IPY_MODEL_fca500542f9a49c4a3e86715a65bc592",
       "tooltip": null
      }
     },
     "50a3ae14e2934749a9b6de0af964c57e": {
      "model_module": "@jupyter-widgets/controls",
      "model_module_version": "2.0.0",
      "model_name": "TextModel",
      "state": {
       "continuous_update": false,
       "description": "name",
       "layout": "IPY_MODEL_7e61947522034507a0e48ebba07d0364",
       "style": "IPY_MODEL_55a9b355cc504f448cd9aadcfd3a960f"
      }
     },
     "55a9b355cc504f448cd9aadcfd3a960f": {
      "model_module": "@jupyter-widgets/controls",
      "model_module_version": "2.0.0",
      "model_name": "TextStyleModel",
      "state": {
       "description_width": "",
       "font_size": null,
       "text_color": null
      }
     },
     "5a18c9d7c54b4b748fcedcf2381f99e6": {
      "model_module": "@jupyter-widgets/controls",
      "model_module_version": "2.0.0",
      "model_name": "VBoxModel",
      "state": {
       "children": [
        "IPY_MODEL_69c590e1e28243369307d2b955aacc0c"
       ],
       "layout": "IPY_MODEL_66efc531a1f346ffb943a6f590135d91"
      }
     },
     "6062f03bac62452fba199572ac41af9f": {
      "model_module": "anywidget",
      "model_module_version": "0.9.3",
      "model_name": "AnyModel",
      "state": {
       "_anywidget_id": "ipywui.widgets.custom.message.MessageWidget",
       "_css": ".wui-message-root {\n    display: flex;\n    position: absolute;\n    left: 0;\n    right: 0;\n    top: 0;\n}\n\n.wui-message-container {\n    align-items: center;\n    display: flex;\n    flex-direction: column-reverse;\n    justify-content: center;\n    min-height: 100%;\n    outline: none;\n    width: 100%;\n\n    -webkit-tap-highlight-color: rgba(0,0,0,0);\n    bottom: 0;\n    left: 0;\n    right: 0;\n    top: 0;\n}\n\n.wui-message--success {\n    --wui-message-bg-color: #f0f9eb;\n    --wui-message-border-color: #e1f3d8;\n    --wui-message-text-color: #67c23a;\n}\n.wui-message--warning {\n    --wui-message-bg-color: #fdf6ec;\n    --wui-message-border-color: #faecd8;\n    --wui-message-text-color: #e6a23c;\n}\n.wui-message--info {\n    --wui-message-bg-color: #f4f4f5;\n    --wui-message-border-color: #e9e9eb;\n    --wui-message-text-color: #909399;\n}\n.wui-message--error {\n    --wui-message-bg-color: #fef0f0;\n    --wui-message-border-color: #fde2e2;\n    --wui-message-text-color: #f56c6c;\n}\n\n@keyframes msg-open {\n    0% {\n        opacity: 0;\n        -webkit-transform: translateY(-120%);\n        transform: translateY(-120%)\n    }\n    to {\n        -webkit-transform: translateY(0);\n        transform: translateY(0)\n    }\n}\n\n@keyframes msg-close {\n    0% {\n        opacity: 1;\n        -webkit-transform: scale(1);\n        transform: scale(1)\n    }\n    to {\n        opacity: 0;\n        -webkit-transform: scale(.9);\n        transform: scale(.9)\n    }\n}\n.wui-message[data-state=entered],.wui-message[data-state=entering] {\n    -webkit-animation: msg-open .24s cubic-bezier(.175,.885,.32,1.175) both;\n    animation: msg-open .24s cubic-bezier(.175,.885,.32,1.175) both\n}\n\n.wui-message[data-state=exiting] {\n    -webkit-animation: msg-close .12s cubic-bezier(.4,0,1,1) both;\n    animation: msg-close .12s cubic-bezier(.4,0,1,1) both\n}\n\n.wui-message {\n    width: -webkit-fit-content;\n    width: -moz-fit-content;\n    width: fit-content;\n    z-index: 2004;\n    max-width: calc(100% - 32px);\n    margin-top: 8px;\n    box-sizing: border-box;\n    /*border-radius: var(--wui-border-radius-base);*/\n    /*border-width: var(--wui-border-width);*/\n    /*border-style: var(--wui-border-style);*/\n    border-color: var(--wui-message-border-color);\n    /*left: 50%;*/\n    /*top: 20px;*/\n    /*transform: translateX(-50%);*/\n    background-color: var(--wui-message-bg-color);\n    /*transition: opacity var(--wui-transition-duration),transform .4s,top .4s;*/\n    /*padding: var(--wui-message-padding);*/\n    display: flex;\n    align-items: center;\n}\n\n/*.wui-message--success */\n.wui-message__content {\n    color: var(--wui-message-text-color);\n    font-size: 14px;\n    line-height: 18px;\n    margin: 10px 14px 10px 14px;\n    overflow-wrap: break-word;\n}\n\n.wui-message__closeBtn {\n    /*cursor: pointer;*/\n    font-style: normal;\n    /*color: gray;*/\n    padding-right: 14px;\n    /*font-size: 13px;*/\n    user-select: none;\n\n    background: transparent;\n    border: none;\n    color: gray;\n    cursor: pointer;\n    font-size: 13px;\n    font-weight: 400;\n    line-height: 1;\n    outline: none;\n    /*padding: 4px;*/\n    text-align: center;\n    transition: opacity .3s;\n    /*width: 100%;*/\n}",
       "_esm": "function closeMsg(msgDom) {\n  if (!msgDom) {\n    return;\n  }\n  msgDom.setAttribute('data-state', 'exiting');\n  msgDom.remove();\n}\n\nfunction createMsg(options) {\n  const {message, msg_id, type = 'info', show_close = false} = options;\n  const msgDom = document.createElement('div');\n  msgDom.className += ` wui-message--${type} wui-message`;\n  msgDom.setAttribute('data-state', 'entered');\n  msgDom.setAttribute('id', msg_id);\n  const msgContent = document.createElement('p');\n  msgContent.className += ` wui-message--${type} wui-message__content`;\n  msgContent.innerText = message;\n  msgDom.appendChild(msgContent);\n  if (show_close) {\n    const closeBtn = document.createElement('i');\n    closeBtn.className += 'wui-message__closeBtn';\n    closeBtn.innerText = 'x';\n    closeBtn.addEventListener('click', (ev) => {\n      closeMsg(msgDom);\n    })\n    msgDom.appendChild(closeBtn);\n  }\n  return msgDom;\n}\n\nexport async function render(view) {\n  let model = view.model;\n  const msgRoot = view.el;\n  msgRoot.className += ' wui-message-root'\n\n  const msgContainer = document.createElement('div');\n  msgContainer.className += ' wui-message-container';\n  msgRoot.appendChild(msgContainer)\n\n  model.on(\"change:message_options\", () => {\n    const options = model.get(\"message_options\");\n    const msg = createMsg(options);\n    msgContainer.appendChild(msg);\n    const {duration = 3000} = options;\n    if (duration > 0) {\n      setTimeout(() => {\n        closeMsg(msg)\n      }, duration);\n    }\n  })\n\n  model.on(\"change:close_msg_id\", () => {\n    const msg_id = model.get(\"close_msg_id\");\n    const msgDom = document.getElementById(msg_id);\n    closeMsg(msgDom);\n  })\n}\n",
       "_model_module": "anywidget",
       "_model_module_version": "0.9.3",
       "_model_name": "AnyModel",
       "_view_module": "anywidget",
       "_view_module_version": "0.9.3",
       "_view_name": "AnyView",
       "close_msg_id": "",
       "layout": "IPY_MODEL_e297db87bc4e488a9643d517576f6a9e",
       "message_options": {
        "duration": 3000,
        "message": "",
        "show_close": false,
        "type": "info"
       }
      }
     },
     "66efc531a1f346ffb943a6f590135d91": {
      "model_module": "@jupyter-widgets/base",
      "model_module_version": "2.0.0",
      "model_name": "LayoutModel",
      "state": {}
     },
     "698de1e97b974efbbd02a92223e35601": {
      "model_module": "@jupyter-widgets/base",
      "model_module_version": "2.0.0",
      "model_name": "LayoutModel",
      "state": {}
     },
     "69c590e1e28243369307d2b955aacc0c": {
      "model_module": "@jupyter-widgets/controls",
      "model_module_version": "2.0.0",
      "model_name": "TextModel",
      "state": {
       "continuous_update": false,
       "description": "name",
       "layout": "IPY_MODEL_2188732608ef47d6add67380b049eec5",
       "style": "IPY_MODEL_db533ac0311d49928410c86567b0d516"
      }
     },
     "6af40abdeb5d4c2dbf525e37e7977c6e": {
      "model_module": "@jupyter-widgets/controls",
      "model_module_version": "2.0.0",
      "model_name": "ButtonModel",
      "state": {
       "button_style": "warning",
       "description": "Cancel",
       "layout": "IPY_MODEL_1b2f279021094718b8d9c312ffa5fc44",
       "style": "IPY_MODEL_24ea0fdb722c4d129f80d43030c48493",
       "tooltip": null
      }
     },
     "6b8286f9bb414355b73693a86164ae9c": {
      "model_module": "@jupyter-widgets/controls",
      "model_module_version": "2.0.0",
      "model_name": "ButtonModel",
      "state": {
       "button_style": "info",
       "description": "Ok",
       "layout": "IPY_MODEL_a068e61436984ef8802cb7a9127920e9",
       "style": "IPY_MODEL_8082c06be71a460ca6d3e6be65f0b9e6",
       "tooltip": null
      }
     },
     "6e37b9d91b4645d1919e88f6b5328615": {
      "model_module": "@jupyter-widgets/base",
      "model_module_version": "2.0.0",
      "model_name": "LayoutModel",
      "state": {}
     },
     "795db454b3b245e7abf5b425a5c92c87": {
      "model_module": "@jupyter-widgets/controls",
      "model_module_version": "2.0.0",
      "model_name": "ButtonModel",
      "state": {
       "button_style": "info",
       "description": "show dialog",
       "layout": "IPY_MODEL_f98dcce1885a40819898d63c905a4fdb",
       "style": "IPY_MODEL_3fa74355d7624ede872cdedb9144129f",
       "tooltip": null
      }
     },
     "7ad2d9878c504d959a0c1b693bf8deb7": {
      "model_module": "@jupyter-widgets/base",
      "model_module_version": "2.0.0",
      "model_name": "LayoutModel",
      "state": {}
     },
     "7cb443fa8aa74aed969d72f7f081e27b": {
      "model_module": "anywidget",
      "model_module_version": "0.9.3",
      "model_name": "AnyModel",
      "state": {
       "_anywidget_id": "ipywui.widgets.custom.dialog.DialogWidget",
       "_css": ".wui-modal-root {\n    position: absolute;\n    bottom: 0;\n    left: 0;\n    overflow: auto;\n    pointer-events: none;\n    right: 0;\n    top: 0;\n    z-index: 999;\n}\n.wui-modal-root[data-state=open] {\n    display: block;\n}\n.wui-modal-root[data-state=close] {\n    display: none;\n}\n\n.wui-modal-dialog-container {\n    align-items: center;\n    display: flex;\n    justify-content: center;\n    min-height: 100%;\n    outline: none;\n    pointer-events: auto;\n    width: 100%;\n\n    -webkit-tap-highlight-color: rgba(0,0,0,0);\n    background-color: rgba(0,0,0,.5);\n    bottom: 0;\n    left: 0;\n    /*opacity: 0;*/\n    right: 0;\n    top: 0;\n    transition: opacity .4s;\n    transition-timing-function: cubic-bezier(.2,.8,.4,1);\n}\n\n.wui-modal-dialog {\n    background: white;\n    border-radius: 5px;\n    /*color: var(--text-default);*/\n    margin: 20px 12px;\n    max-width: 100%;\n    width: 50%;\n    /*opacity: 0;*/\n    /*position: relative;*/\n    /*-webkit-transform: translateY(20px);*/\n    /*transform: translateY(20px);*/\n    transition: opacity .4s,-webkit-transform .4s;\n    transition: transform .4s,opacity .4s;\n    transition: transform .4s,opacity .4s,-webkit-transform .4s;\n    transition-timing-function: cubic-bezier(.2,.8,.4,1);\n    -webkit-user-select: text;\n    user-select: text;\n}\n\n.wui-modal-header {\n    font-size: 20px;\n    line-height: 28px;\n    margin: 10px 14px 6px 14px;\n}\n\n.wui-modal-body {\n    font-size: 14px;\n    margin: 6px 14px 14px 14px;\n}\n\n.wui-modal-footer {\n    align-items: center;\n    display: flex;\n    justify-content: flex-end;\n    margin: 22px 14px 14px;\n}\n",
       "_esm": "async function unpack_models(model_ids, manager) {\n  return Promise.all(\n    model_ids.map(id => manager.get_model(id.slice(\"IPY_MODEL_\".length)))\n  );\n}\n\n\nexport async function render(view) {\n  let model = view.model;\n\n  let shouldShowDialog = () => model.get('value');\n  const modalRoot = view.el;\n  const modalDialogContainer = document.createElement('div');\n  const modalDialog = document.createElement('div');\n  modalRoot.className += ' wui-modal-root';\n  modalRoot.setAttribute('data-state', shouldShowDialog() ? 'open' : 'close');\n  modalDialogContainer.className += ' wui-modal-dialog-container';\n  modalDialog.className += ' wui-modal-dialog';\n  const modalDialogWidth = model.get(\"width\", '50%');\n  if (modalDialogWidth) {\n    modalDialog.style.width = modalDialogWidth;\n  }\n  modalRoot.appendChild(modalDialogContainer);\n  modalDialogContainer.appendChild(modalDialog);\n\n  const modalTitle = document.createElement('div');\n  modalTitle.className += ' wui-modal-header';\n  modalTitle.innerText = model.get('title');\n  const modalBody = document.createElement('div');\n  modalBody.className += ' wui-modal-body';\n  const modalFooter = document.createElement('div');\n  modalFooter.className += ' wui-modal-footer';\n  modalDialog.appendChild(modalTitle);\n  modalDialog.appendChild(modalBody);\n  modalDialog.appendChild(modalFooter);\n\n  let model_ids = model.get(\"body\"); // [\"IPY_MODEL_<model_id>\", ...]\n  let body_models = await unpack_models(model_ids, model.widget_manager);\n  for (let model of body_models) {\n    let child_view = await model.widget_manager.create_view(model);\n    modalBody.appendChild(child_view.el);\n  }\n  model_ids = model.get(\"footer\"); // [\"IPY_MODEL_<model_id>\", ...]\n  let footer_models = await unpack_models(model_ids, model.widget_manager);\n  for (let model of footer_models) {\n    let child_view = await model.widget_manager.create_view(model);\n    modalFooter.appendChild(child_view.el);\n  }\n  const emit = (evt, payload) => {\n    model.set(\"event\", {\"event\": evt, \"payload\": payload});\n    model.save_changes();\n  }\n  const openDialog = () => {\n    modalRoot.setAttribute('data-state', 'open');\n    emit(\"open\");\n  }\n  const closeDialog = () => {\n    modalRoot.setAttribute('data-state', 'close');\n    emit(\"close\");\n  }\n  modalDialogContainer.addEventListener('click', () => {\n    console.info('click')\n    model.set(\"value\", false);\n    model.save_changes()\n  })\n  modalDialog.addEventListener('click', (ev) => {\n    ev.stopPropagation();\n  })\n  model.on(\"change:value\", () => {\n    console.info('change value')\n    shouldShowDialog() ? openDialog() : closeDialog();\n  })\n}\n",
       "_model_module": "anywidget",
       "_model_module_version": "0.9.3",
       "_model_name": "AnyModel",
       "_view_module": "anywidget",
       "_view_module_version": "0.9.3",
       "_view_name": "AnyView",
       "body": [
        "IPY_MODEL_5a18c9d7c54b4b748fcedcf2381f99e6"
       ],
       "event": {},
       "footer": [
        "IPY_MODEL_2c71edac289847fd8f099e455cde4479"
       ],
       "layout": "IPY_MODEL_7ad2d9878c504d959a0c1b693bf8deb7",
       "title": "Shipping address",
       "value": true,
       "width": "45%"
      }
     },
     "7e61947522034507a0e48ebba07d0364": {
      "model_module": "@jupyter-widgets/base",
      "model_module_version": "2.0.0",
      "model_name": "LayoutModel",
      "state": {}
     },
     "7fa8cf7bb9f24d74be2142dee80361e6": {
      "model_module": "@jupyter-widgets/controls",
      "model_module_version": "2.0.0",
      "model_name": "HBoxModel",
      "state": {
       "children": [
        "IPY_MODEL_6af40abdeb5d4c2dbf525e37e7977c6e",
        "IPY_MODEL_6b8286f9bb414355b73693a86164ae9c"
       ],
       "layout": "IPY_MODEL_01845b0c302c45b98caa429a6b3cb738"
      }
     },
     "8082c06be71a460ca6d3e6be65f0b9e6": {
      "model_module": "@jupyter-widgets/controls",
      "model_module_version": "2.0.0",
      "model_name": "ButtonStyleModel",
      "state": {
       "font_family": null,
       "font_size": null,
       "font_style": null,
       "font_variant": null,
       "font_weight": null,
       "text_color": null,
       "text_decoration": null
      }
     },
     "81d720f2173241c1bc9dcd9444dcac65": {
      "model_module": "@jupyter-widgets/base",
      "model_module_version": "2.0.0",
      "model_name": "LayoutModel",
      "state": {}
     },
     "826140a626c04914a46f7f2b4f69f2d9": {
      "model_module": "anywidget",
      "model_module_version": "0.9.3",
      "model_name": "AnyModel",
      "state": {
       "_anywidget_id": "ipywui.widgets.custom.dialog.DialogWidget",
       "_css": ".wui-modal-root {\n    position: absolute;\n    bottom: 0;\n    left: 0;\n    overflow: auto;\n    pointer-events: none;\n    right: 0;\n    top: 0;\n    z-index: 999;\n}\n.wui-modal-root[data-state=open] {\n    display: block;\n}\n.wui-modal-root[data-state=close] {\n    display: none;\n}\n\n.wui-modal-dialog-container {\n    align-items: center;\n    display: flex;\n    justify-content: center;\n    min-height: 100%;\n    outline: none;\n    pointer-events: auto;\n    width: 100%;\n\n    -webkit-tap-highlight-color: rgba(0,0,0,0);\n    background-color: rgba(0,0,0,.5);\n    bottom: 0;\n    left: 0;\n    /*opacity: 0;*/\n    right: 0;\n    top: 0;\n    transition: opacity .4s;\n    transition-timing-function: cubic-bezier(.2,.8,.4,1);\n}\n\n.wui-modal-dialog {\n    background: white;\n    border-radius: 5px;\n    /*color: var(--text-default);*/\n    margin: 20px 12px;\n    max-width: 100%;\n    width: 50%;\n    /*opacity: 0;*/\n    /*position: relative;*/\n    /*-webkit-transform: translateY(20px);*/\n    /*transform: translateY(20px);*/\n    transition: opacity .4s,-webkit-transform .4s;\n    transition: transform .4s,opacity .4s;\n    transition: transform .4s,opacity .4s,-webkit-transform .4s;\n    transition-timing-function: cubic-bezier(.2,.8,.4,1);\n    -webkit-user-select: text;\n    user-select: text;\n}\n\n.wui-modal-header {\n    font-size: 20px;\n    line-height: 28px;\n    margin: 10px 14px 6px 14px;\n}\n\n.wui-modal-body {\n    font-size: 14px;\n    margin: 6px 14px 14px 14px;\n}\n\n.wui-modal-footer {\n    align-items: center;\n    display: flex;\n    justify-content: flex-end;\n    margin: 22px 14px 14px;\n}\n",
       "_esm": "async function unpack_models(model_ids, manager) {\n  return Promise.all(\n    model_ids.map(id => manager.get_model(id.slice(\"IPY_MODEL_\".length)))\n  );\n}\n\n\nexport async function render(view) {\n  let model = view.model;\n\n  let shouldShowDialog = () => model.get('value');\n  const modalRoot = view.el;\n  const modalDialogContainer = document.createElement('div');\n  const modalDialog = document.createElement('div');\n  modalRoot.className += ' wui-modal-root';\n  modalRoot.setAttribute('data-state', shouldShowDialog() ? 'open' : 'close');\n  modalDialogContainer.className += ' wui-modal-dialog-container';\n  modalDialog.className += ' wui-modal-dialog';\n  const modalDialogWidth = model.get(\"width\", '50%');\n  if (modalDialogWidth) {\n    modalDialog.style.width = modalDialogWidth;\n  }\n  modalRoot.appendChild(modalDialogContainer);\n  modalDialogContainer.appendChild(modalDialog);\n\n  const modalTitle = document.createElement('div');\n  modalTitle.className += ' wui-modal-header';\n  modalTitle.innerText = model.get('title');\n  const modalBody = document.createElement('div');\n  modalBody.className += ' wui-modal-body';\n  const modalFooter = document.createElement('div');\n  modalFooter.className += ' wui-modal-footer';\n  modalDialog.appendChild(modalTitle);\n  modalDialog.appendChild(modalBody);\n  modalDialog.appendChild(modalFooter);\n\n  let model_ids = model.get(\"body\"); // [\"IPY_MODEL_<model_id>\", ...]\n  let body_models = await unpack_models(model_ids, model.widget_manager);\n  for (let model of body_models) {\n    let child_view = await model.widget_manager.create_view(model);\n    modalBody.appendChild(child_view.el);\n  }\n  model_ids = model.get(\"footer\"); // [\"IPY_MODEL_<model_id>\", ...]\n  let footer_models = await unpack_models(model_ids, model.widget_manager);\n  for (let model of footer_models) {\n    let child_view = await model.widget_manager.create_view(model);\n    modalFooter.appendChild(child_view.el);\n  }\n  const emit = (evt, payload) => {\n    model.set(\"event\", {\"event\": evt, \"payload\": payload});\n    model.save_changes();\n  }\n  const openDialog = () => {\n    modalRoot.setAttribute('data-state', 'open');\n    emit(\"open\");\n  }\n  const closeDialog = () => {\n    modalRoot.setAttribute('data-state', 'close');\n    emit(\"close\");\n  }\n  modalDialogContainer.addEventListener('click', () => {\n    console.info('click')\n    model.set(\"value\", false);\n    model.save_changes()\n  })\n  modalDialog.addEventListener('click', (ev) => {\n    ev.stopPropagation();\n  })\n  model.on(\"change:value\", () => {\n    console.info('change value')\n    shouldShowDialog() ? openDialog() : closeDialog();\n  })\n}\n",
       "_model_module": "anywidget",
       "_model_module_version": "0.9.3",
       "_model_name": "AnyModel",
       "_view_module": "anywidget",
       "_view_module_version": "0.9.3",
       "_view_name": "AnyView",
       "body": [
        "IPY_MODEL_1c9f6328d39b40e19edb3f7edf02403a"
       ],
       "event": {
        "event": "close"
       },
       "footer": [
        "IPY_MODEL_0e5c70f322cb4581b062ce2aa8c8a529"
       ],
       "layout": "IPY_MODEL_cf3439ea9c38463c9c12dd840f3970b4",
       "title": "Shipping address",
       "value": false,
       "width": "45%"
      }
     },
     "8460add73ea347389a16a90c8e3b6f0d": {
      "model_module": "@jupyter-widgets/base",
      "model_module_version": "2.0.0",
      "model_name": "LayoutModel",
      "state": {}
     },
     "85ecaab9c2454561a32ebd177750e69c": {
      "model_module": "@jupyter-widgets/controls",
      "model_module_version": "2.0.0",
      "model_name": "LabelModel",
      "state": {
       "layout": "IPY_MODEL_d56115e66be949658c3ff029852d72de",
       "style": "IPY_MODEL_af00d418faff4b92b97efb18805d0a93",
       "value": "Placeholder"
      }
     },
     "877f97a779df4d779a5e92efce98e8c2": {
      "model_module": "@jupyter-widgets/base",
      "model_module_version": "2.0.0",
      "model_name": "LayoutModel",
      "state": {}
     },
     "89962742825f492a9ce0c2c087fad885": {
      "model_module": "@jupyter-widgets/controls",
      "model_module_version": "2.0.0",
      "model_name": "ButtonStyleModel",
      "state": {
       "font_family": null,
       "font_size": null,
       "font_style": null,
       "font_variant": null,
       "font_weight": null,
       "text_color": null,
       "text_decoration": null
      }
     },
     "9fb1be466fc8479c93c53e8c6a77b1e0": {
      "model_module": "anywidget",
      "model_module_version": "0.9.3",
      "model_name": "AnyModel",
      "state": {
       "_anywidget_id": "ipywui.widgets.custom.message.MessageWidget",
       "_css": ".wui-message-root {\n    display: flex;\n    position: absolute;\n    left: 0;\n    right: 0;\n    top: 0;\n}\n\n.wui-message-container {\n    align-items: center;\n    display: flex;\n    flex-direction: column-reverse;\n    justify-content: center;\n    min-height: 100%;\n    outline: none;\n    width: 100%;\n\n    -webkit-tap-highlight-color: rgba(0,0,0,0);\n    bottom: 0;\n    left: 0;\n    right: 0;\n    top: 0;\n}\n\n.wui-message--success {\n    --wui-message-bg-color: #f0f9eb;\n    --wui-message-border-color: #e1f3d8;\n    --wui-message-text-color: #67c23a;\n}\n.wui-message--warning {\n    --wui-message-bg-color: #fdf6ec;\n    --wui-message-border-color: #faecd8;\n    --wui-message-text-color: #e6a23c;\n}\n.wui-message--info {\n    --wui-message-bg-color: #f4f4f5;\n    --wui-message-border-color: #e9e9eb;\n    --wui-message-text-color: #909399;\n}\n.wui-message--error {\n    --wui-message-bg-color: #fef0f0;\n    --wui-message-border-color: #fde2e2;\n    --wui-message-text-color: #f56c6c;\n}\n\n@keyframes msg-open {\n    0% {\n        opacity: 0;\n        -webkit-transform: translateY(-120%);\n        transform: translateY(-120%)\n    }\n    to {\n        -webkit-transform: translateY(0);\n        transform: translateY(0)\n    }\n}\n\n@keyframes msg-close {\n    0% {\n        opacity: 1;\n        -webkit-transform: scale(1);\n        transform: scale(1)\n    }\n    to {\n        opacity: 0;\n        -webkit-transform: scale(.9);\n        transform: scale(.9)\n    }\n}\n.wui-message[data-state=entered],.wui-message[data-state=entering] {\n    -webkit-animation: msg-open .24s cubic-bezier(.175,.885,.32,1.175) both;\n    animation: msg-open .24s cubic-bezier(.175,.885,.32,1.175) both\n}\n\n.wui-message[data-state=exiting] {\n    -webkit-animation: msg-close .12s cubic-bezier(.4,0,1,1) both;\n    animation: msg-close .12s cubic-bezier(.4,0,1,1) both\n}\n\n.wui-message {\n    width: -webkit-fit-content;\n    width: -moz-fit-content;\n    width: fit-content;\n    z-index: 2004;\n    max-width: calc(100% - 32px);\n    margin-top: 8px;\n    box-sizing: border-box;\n    /*border-radius: var(--wui-border-radius-base);*/\n    /*border-width: var(--wui-border-width);*/\n    /*border-style: var(--wui-border-style);*/\n    border-color: var(--wui-message-border-color);\n    /*left: 50%;*/\n    /*top: 20px;*/\n    /*transform: translateX(-50%);*/\n    background-color: var(--wui-message-bg-color);\n    /*transition: opacity var(--wui-transition-duration),transform .4s,top .4s;*/\n    /*padding: var(--wui-message-padding);*/\n    display: flex;\n    align-items: center;\n}\n\n/*.wui-message--success */\n.wui-message__content {\n    color: var(--wui-message-text-color);\n    font-size: 14px;\n    line-height: 18px;\n    margin: 10px 14px 10px 14px;\n    overflow-wrap: break-word;\n}\n\n.wui-message__closeBtn {\n    /*cursor: pointer;*/\n    font-style: normal;\n    /*color: gray;*/\n    padding-right: 14px;\n    /*font-size: 13px;*/\n    user-select: none;\n\n    background: transparent;\n    border: none;\n    color: gray;\n    cursor: pointer;\n    font-size: 13px;\n    font-weight: 400;\n    line-height: 1;\n    outline: none;\n    /*padding: 4px;*/\n    text-align: center;\n    transition: opacity .3s;\n    /*width: 100%;*/\n}",
       "_esm": "function closeMsg(msgDom) {\n  if (!msgDom) {\n    return;\n  }\n  msgDom.setAttribute('data-state', 'exiting');\n  msgDom.remove();\n}\n\nfunction createMsg(options) {\n  const {message, msg_id, type = 'info', show_close = false} = options;\n  const msgDom = document.createElement('div');\n  msgDom.className += ` wui-message--${type} wui-message`;\n  msgDom.setAttribute('data-state', 'entered');\n  msgDom.setAttribute('id', msg_id);\n  const msgContent = document.createElement('p');\n  msgContent.className += ` wui-message--${type} wui-message__content`;\n  msgContent.innerText = message;\n  msgDom.appendChild(msgContent);\n  if (show_close) {\n    const closeBtn = document.createElement('i');\n    closeBtn.className += 'wui-message__closeBtn';\n    closeBtn.innerText = 'x';\n    closeBtn.addEventListener('click', (ev) => {\n      closeMsg(msgDom);\n    })\n    msgDom.appendChild(closeBtn);\n  }\n  return msgDom;\n}\n\nexport async function render(view) {\n  let model = view.model;\n  const msgRoot = view.el;\n  msgRoot.className += ' wui-message-root'\n\n  const msgContainer = document.createElement('div');\n  msgContainer.className += ' wui-message-container';\n  msgRoot.appendChild(msgContainer)\n\n  model.on(\"change:message_options\", () => {\n    const options = model.get(\"message_options\");\n    const msg = createMsg(options);\n    msgContainer.appendChild(msg);\n    const {duration = 3000} = options;\n    if (duration > 0) {\n      setTimeout(() => {\n        closeMsg(msg)\n      }, duration);\n    }\n  })\n\n  model.on(\"change:close_msg_id\", () => {\n    const msg_id = model.get(\"close_msg_id\");\n    const msgDom = document.getElementById(msg_id);\n    closeMsg(msgDom);\n  })\n}\n",
       "_model_module": "anywidget",
       "_model_module_version": "0.9.3",
       "_model_name": "AnyModel",
       "_view_module": "anywidget",
       "_view_module_version": "0.9.3",
       "_view_name": "AnyView",
       "close_msg_id": "",
       "layout": "IPY_MODEL_f579db3f9bb9491c9492a511d2e0319c",
       "message_options": {
        "duration": 3000,
        "message": "",
        "show_close": false,
        "type": "info"
       }
      }
     },
     "a068e61436984ef8802cb7a9127920e9": {
      "model_module": "@jupyter-widgets/base",
      "model_module_version": "2.0.0",
      "model_name": "LayoutModel",
      "state": {}
     },
     "ad90cd25f30e463fba4702c43a67766f": {
      "model_module": "@jupyter-widgets/controls",
      "model_module_version": "2.0.0",
      "model_name": "VBoxModel",
      "state": {
       "children": [
        "IPY_MODEL_3fd4217040f443b9aa4001cab3ecbfce"
       ],
       "layout": "IPY_MODEL_42325171752d4df4b4c97b073491b383"
      }
     },
     "af00d418faff4b92b97efb18805d0a93": {
      "model_module": "@jupyter-widgets/controls",
      "model_module_version": "2.0.0",
      "model_name": "LabelStyleModel",
      "state": {
       "description_width": "",
       "font_family": null,
       "font_size": null,
       "font_style": null,
       "font_variant": null,
       "font_weight": null,
       "text_color": null,
       "text_decoration": null
      }
     },
     "b28f4a059aef44fa9d444b8fc18f0e57": {
      "model_module": "@jupyter-widgets/controls",
      "model_module_version": "2.0.0",
      "model_name": "VBoxModel",
      "state": {
       "children": [
        "IPY_MODEL_d3cc45d4dc7440edb7f878b267e9ea65",
        "IPY_MODEL_85ecaab9c2454561a32ebd177750e69c",
        "IPY_MODEL_7cb443fa8aa74aed969d72f7f081e27b"
       ],
       "layout": "IPY_MODEL_21bb87bfbf9c40658eab79195dc6b660"
      }
     },
     "bab57080dca54b22911980b3aee7564d": {
      "model_module": "@jupyter-widgets/controls",
      "model_module_version": "2.0.0",
      "model_name": "ButtonModel",
      "state": {
       "button_style": "info",
       "description": "Ok",
       "layout": "IPY_MODEL_288948dbeb174a8db410057be9df6f44",
       "style": "IPY_MODEL_89962742825f492a9ce0c2c087fad885",
       "tooltip": null
      }
     },
     "c8682954f8c94ba6997a33af4284e62f": {
      "model_module": "@jupyter-widgets/controls",
      "model_module_version": "2.0.0",
      "model_name": "ButtonStyleModel",
      "state": {
       "font_family": null,
       "font_size": null,
       "font_style": null,
       "font_variant": null,
       "font_weight": null,
       "text_color": null,
       "text_decoration": null
      }
     },
     "cad315bd814b4ae8aa7e9a2bc176417c": {
      "model_module": "@jupyter-widgets/base",
      "model_module_version": "2.0.0",
      "model_name": "LayoutModel",
      "state": {}
     },
     "cea239be057e459482010dfa05a09473": {
      "model_module": "@jupyter-widgets/base",
      "model_module_version": "2.0.0",
      "model_name": "LayoutModel",
      "state": {
       "height": "200px"
      }
     },
     "cedf1f25638f4552b41955da155719cc": {
      "model_module": "@jupyter-widgets/output",
      "model_module_version": "1.0.0",
      "model_name": "OutputModel",
      "state": {
       "layout": "IPY_MODEL_d5feba7b6bc64cedbdf19f8344491daf",
       "outputs": [
        {
         "name": "stdout",
         "output_type": "stream",
         "text": "2024-04-10 02:21:42,151  - [INFO] vue.py:788 v-on open handle_open()\n"
        },
        {
         "name": "stdout",
         "output_type": "stream",
         "text": "2024-04-10 02:21:42,150  - [INFO] vue.py:788 v-on close handle_close()\n"
        },
        {
         "name": "stdout",
         "output_type": "stream",
         "text": "2024-04-10 02:21:42,150  - [INFO] vue.py:623 open, handle_open()\n"
        },
        {
         "name": "stdout",
         "output_type": "stream",
         "text": "2024-04-10 02:21:42,150  - [INFO] vue.py:623 close, handle_close()\n"
        },
        {
         "name": "stdout",
         "output_type": "stream",
         "text": "2024-04-10 02:21:42,149  - [INFO] vue.py:788 v-on click close_dialog()\n"
        },
        {
         "name": "stdout",
         "output_type": "stream",
         "text": "2024-04-10 02:21:42,148  - [INFO] vue.py:623 click, close_dialog()\n"
        },
        {
         "name": "stdout",
         "output_type": "stream",
         "text": "2024-04-10 02:21:42,148  - [INFO] vue.py:788 v-on click close_dialog()\n"
        },
        {
         "name": "stdout",
         "output_type": "stream",
         "text": "2024-04-10 02:21:42,147  - [INFO] vue.py:623 click, close_dialog()\n"
        },
        {
         "name": "stdout",
         "output_type": "stream",
         "text": "2024-04-10 02:21:42,146  - [INFO] vue.py:788 v-on click show_dialog()\n"
        },
        {
         "name": "stdout",
         "output_type": "stream",
         "text": "2024-04-10 02:21:42,145  - [INFO] vue.py:623 click, show_dialog()\n"
        },
        {
         "name": "stdout",
         "output_type": "stream",
         "text": "2024-04-10 02:21:42,131  - [INFO] vue.py:788 v-on click close_dialog()\n"
        },
        {
         "name": "stdout",
         "output_type": "stream",
         "text": "2024-04-10 02:21:42,131  - [INFO] vue.py:623 click, close_dialog()\n"
        },
        {
         "name": "stdout",
         "output_type": "stream",
         "text": "2024-04-10 02:21:42,131  - [INFO] vue.py:788 v-on click close_dialog()\n"
        },
        {
         "name": "stdout",
         "output_type": "stream",
         "text": "2024-04-10 02:21:42,130  - [INFO] vue.py:623 click, close_dialog()\n"
        },
        {
         "name": "stdout",
         "output_type": "stream",
         "text": "2024-04-10 02:21:42,129  - [INFO] vue.py:788 v-on click show_dialog()\n"
        },
        {
         "name": "stdout",
         "output_type": "stream",
         "text": "2024-04-10 02:21:42,128  - [INFO] vue.py:623 click, show_dialog()\n"
        }
       ]
      }
     },
     "cf3439ea9c38463c9c12dd840f3970b4": {
      "model_module": "@jupyter-widgets/base",
      "model_module_version": "2.0.0",
      "model_name": "LayoutModel",
      "state": {}
     },
     "d3cc45d4dc7440edb7f878b267e9ea65": {
      "model_module": "@jupyter-widgets/controls",
      "model_module_version": "2.0.0",
      "model_name": "ButtonModel",
      "state": {
       "button_style": "info",
       "description": "show dialog",
       "layout": "IPY_MODEL_26b906bcd62546779d02de5870ba5c1e",
       "style": "IPY_MODEL_c8682954f8c94ba6997a33af4284e62f",
       "tooltip": null
      }
     },
     "d56115e66be949658c3ff029852d72de": {
      "model_module": "@jupyter-widgets/base",
      "model_module_version": "2.0.0",
      "model_name": "LayoutModel",
      "state": {
       "height": "200px"
      }
     },
     "d5feba7b6bc64cedbdf19f8344491daf": {
      "model_module": "@jupyter-widgets/base",
      "model_module_version": "2.0.0",
      "model_name": "LayoutModel",
      "state": {}
     },
     "db533ac0311d49928410c86567b0d516": {
      "model_module": "@jupyter-widgets/controls",
      "model_module_version": "2.0.0",
      "model_name": "TextStyleModel",
      "state": {
       "description_width": "",
       "font_size": null,
       "text_color": null
      }
     },
     "dc145c2d8f964620888675edd40bfef0": {
      "model_module": "@jupyter-widgets/output",
      "model_module_version": "1.0.0",
      "model_name": "OutputModel",
      "state": {
       "layout": "IPY_MODEL_8460add73ea347389a16a90c8e3b6f0d",
       "outputs": [
        {
         "data": {
          "application/vnd.jupyter.widget-view+json": {
           "model_id": "105e5d38dd964ca6bb83a4aaf1b0a8b1",
           "version_major": 2,
           "version_minor": 0
          },
          "text/plain": "VBox(children=(Button(button_style='info', description='show dialog', style=ButtonStyle()), Label(value='-', l…"
         },
         "metadata": {},
         "output_type": "display_data"
        }
       ]
      }
     },
     "e297db87bc4e488a9643d517576f6a9e": {
      "model_module": "@jupyter-widgets/base",
      "model_module_version": "2.0.0",
      "model_name": "LayoutModel",
      "state": {}
     },
     "e65d8b57fa154f92b4aba527014773b3": {
      "model_module": "@jupyter-widgets/controls",
      "model_module_version": "2.0.0",
      "model_name": "VBoxModel",
      "state": {
       "children": [
        "IPY_MODEL_0237aa5932ab408c97f3abcfcbd5ec1d"
       ],
       "layout": "IPY_MODEL_028a1c807e494320bd23817486bb0142"
      }
     },
     "eb9c03a06ca14333b77c461d3767d406": {
      "model_module": "@jupyter-widgets/output",
      "model_module_version": "1.0.0",
      "model_name": "OutputModel",
      "state": {
       "layout": "IPY_MODEL_698de1e97b974efbbd02a92223e35601",
       "outputs": [
        {
         "data": {
          "application/vnd.jupyter.widget-view+json": {
           "model_id": "b28f4a059aef44fa9d444b8fc18f0e57",
           "version_major": 2,
           "version_minor": 0
          },
          "text/plain": "VBox(children=(Button(button_style='info', description='show dialog', style=ButtonStyle()), Label(value='Place…"
         },
         "metadata": {},
         "output_type": "display_data"
        }
       ]
      }
     },
     "f2603653e32b4543a3bfade77656123c": {
      "model_module": "@jupyter-widgets/base",
      "model_module_version": "2.0.0",
      "model_name": "LayoutModel",
      "state": {}
     },
     "f579db3f9bb9491c9492a511d2e0319c": {
      "model_module": "@jupyter-widgets/base",
      "model_module_version": "2.0.0",
      "model_name": "LayoutModel",
      "state": {}
     },
     "f730c1d87fb74e91b6cafbff0a23eb55": {
      "model_module": "@jupyter-widgets/base",
      "model_module_version": "2.0.0",
      "model_name": "LayoutModel",
      "state": {}
     },
     "f98dcce1885a40819898d63c905a4fdb": {
      "model_module": "@jupyter-widgets/base",
      "model_module_version": "2.0.0",
      "model_name": "LayoutModel",
      "state": {}
     },
     "fca500542f9a49c4a3e86715a65bc592": {
      "model_module": "@jupyter-widgets/controls",
      "model_module_version": "2.0.0",
      "model_name": "ButtonStyleModel",
      "state": {
       "font_family": null,
       "font_size": null,
       "font_style": null,
       "font_variant": null,
       "font_weight": null,
       "text_color": null,
       "text_decoration": null
      }
     },
     "feecb0a40dcc412e817aa3dd77e0dc19": {
      "model_module": "@jupyter-widgets/base",
      "model_module_version": "2.0.0",
      "model_name": "LayoutModel",
      "state": {}
     }
    },
    "version_major": 2,
    "version_minor": 0
   }
  }
 },
 "nbformat": 4,
 "nbformat_minor": 5
}