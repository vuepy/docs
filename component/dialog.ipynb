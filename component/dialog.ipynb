{
 "cells": [
  {
   "cell_type": "markdown",
   "id": "a1e2fa29-7566-4426-be1e-a750658d83a5",
   "metadata": {},
   "source": [
    "# Dialog 对话框\n",
    "\n",
    "在保留当前页面状态的情况下，告知用户并承载相关操作。\n",
    "\n",
    "::: warning\n",
    "当前页面只能展示组件的样式，具体交互效果需要在 `notebook` 使用。\n",
    ":::\n"
   ]
  },
  {
   "cell_type": "markdown",
   "id": "cb4fc10a-d3d9-48f2-b51b-021e07847da9",
   "metadata": {},
   "source": [
    "## 基础用法\n",
    "\n",
    "Dialog 弹出一个对话框，适合需要定制性更大的场景。  \n",
    "需要设置 `v-model` 属性，它接收 `bool`，当为 `True` 时显示 `Dialog`。 `Dialog` 分为两个部分：`body` 和 `footer`，`footer` 需要具名为 `footer` 的 slot。 `title` 属性用于定义标题，它是可选的，默认值为空。 \n",
    "\n",
    "::: tip\n",
    "`Dialog` 需要放在最外层才能正确显示！  \n",
    ":::"
   ]
  },
  {
   "cell_type": "code",
   "execution_count": 1,
   "id": "5c878f24-18cc-4b02-952f-286774c42519",
   "metadata": {},
   "outputs": [
    {
     "name": "stdout",
     "output_type": "stream",
     "text": [
      "{\"vue\": \"<!-- basic.vue -->\\n<template>\\n  <Button label=\\\"show dialog\\\" type='info' @click=\\\"show()\\\"></Button>\\n  <Label value=\\\"Placeholder\\\" style=\\\"height: 200px\\\"></Label>\\n  <Dialog title=\\\"Shipping address\\\" v-model=\\\"is_show.value\\\" width=\\\"55%\\\">\\n    <template>\\n      <Input placeholder=\\\"name\\\"></Input>\\n    </template>\\n    <template v-slot:footer>\\n      <HBox>\\n        <Button label=\\\"Cancel\\\" type=\\\"warning\\\" @click=\\\"close()\\\"></Button>\\n        <Button label=\\\"Ok\\\" type=\\\"info\\\" @click=\\\"close()\\\"></Button>\\n      </HBox>\\n    </template>\\n  </Dialog>\\n</template>\\n\\n<script src=\\\"./basic_setup.py\\\"></script>\\n<script setup>\\nimport Dialog from \\\"../../../src/ipywui/components/Dialog\\\";\\nimport Button from \\\"../../../src/ipywui/components/Button\\\";\\nimport Label from \\\"../../../src/ipywui/components/Label\\\";\\nimport Input from \\\"../../../src/ipywui/components/Input\\\";\\nimport HBox from \\\"../../../src/ipywui/components/HBox\\\";\\n</script>\", \"setup\": \"# ./basic_setup.py\\n\\nfrom vuepy import ref\\n\\n\\ndef setup(props, ctx, vm):\\n    is_show = ref(True)\\n\\n    def show():\\n        is_show.value = True\\n\\n    def close():\\n        is_show.value = False\\n\\n    return locals()\\n\"}\n"
     ]
    },
    {
     "data": {
      "application/vnd.jupyter.widget-view+json": {
       "model_id": "1c310bd05dc34666a76ebe092ea6d053",
       "version_major": 2,
       "version_minor": 0
      },
      "text/plain": [
       "Document(children=(Dom(children=(MessageWidget(message_options={'message': '', 'type': 'info', 'show_close': F…"
      ]
     },
     "execution_count": 1,
     "metadata": {},
     "output_type": "execute_result"
    }
   ],
   "source": [
    "import os\n",
    "import pathlib\n",
    "from vuepy.utils import magic\n",
    "\n",
    "\n",
    "cur_path = pathlib.Path()\n",
    "source_root = cur_path.absolute().parent.parent.parent\n",
    "os.chdir(source_root / 'examples' / 'ipywui' / 'dialog')\n",
    "\n",
    "\n",
    "%vuepy_demo basic.vue"
   ]
  },
  {
   "cell_type": "markdown",
   "id": "e9bc5ea6-5915-4182-91fa-8cf0bbb390e6",
   "metadata": {},
   "source": [
    "## 打开/关闭对话框事件\n"
   ]
  },
  {
   "cell_type": "code",
   "execution_count": 2,
   "id": "7250ac4c-ce07-4038-803e-4e281635837a",
   "metadata": {},
   "outputs": [
    {
     "name": "stdout",
     "output_type": "stream",
     "text": [
      "{\"vue\": \"<!-- events.vue -->\\n<template>\\n  <Button label=\\\"show dialog\\\" type='info' @click=\\\"show()\\\"></Button>\\n  <Label :value=\\\"state.value\\\" style=\\\"height: 200px\\\"></Label>\\n  <Dialog title=\\\"Shipping address\\\" v-model=\\\"is_show.value\\\" width=\\\"55%\\\"\\n          @close=\\\"handle_close()\\\"\\n          @open=\\\"handle_open()\\\"\\n  >\\n    <template>\\n      <Input placeholder=\\\"name\\\"></Input>\\n    </template>\\n    <template v-slot:footer>\\n      <HBox>\\n        <Button label=\\\"Cancel\\\" type=\\\"warning\\\" @click=\\\"close()\\\"></Button>\\n        <Button label=\\\"Ok\\\" type=\\\"info\\\" @click=\\\"close()\\\"></Button>\\n      </HBox>\\n    </template>\\n  </Dialog>\\n</template>\\n\\n<script src=\\\"./events_setup.py\\\"></script>\\n<script setup>\\nimport Dialog from \\\"../../../src/ipywui/components/Dialog\\\";\\nimport Button from \\\"../../../src/ipywui/components/Button\\\";\\nimport Label from \\\"../../../src/ipywui/components/Label\\\";\\nimport Input from \\\"../../../src/ipywui/components/Input\\\";\\nimport HBox from \\\"../../../src/ipywui/components/HBox\\\";\\n</script>\", \"setup\": \"# ./events_setup.py\\n\\nfrom vuepy import ref\\n\\n\\ndef setup(props, ctx, vm):\\n    is_show = ref(True)\\n\\n    state = ref(\\\"-\\\")\\n\\n    def show():\\n        is_show.value = True\\n\\n    def close():\\n        is_show.value = False\\n\\n    def handle_open():\\n        state.value = 'open'\\n\\n    def handle_close():\\n        state.value = 'close'\\n\\n    return locals()\\n\"}\n"
     ]
    },
    {
     "data": {
      "application/vnd.jupyter.widget-view+json": {
       "model_id": "a983ec36260a4891982ab655adf28763",
       "version_major": 2,
       "version_minor": 0
      },
      "text/plain": [
       "Document(children=(Dom(children=(MessageWidget(message_options={'message': '', 'type': 'info', 'show_close': F…"
      ]
     },
     "execution_count": 2,
     "metadata": {},
     "output_type": "execute_result"
    }
   ],
   "source": [
    "%vuepy_demo events.vue"
   ]
  },
  {
   "cell_type": "markdown",
   "id": "8685d144-029f-4afa-8547-4f3d84529504",
   "metadata": {},
   "source": [
    "## API\n",
    "\n",
    "### Attributes\n",
    "\n",
    "| Name                       | Description                                    | Type                                | Default |\n",
    "| -------------------------- | -----------------------------------------------| ----------------------------------- | ------- |\n",
    "| model-value / v-model      | 是否显示 Dialog                                 | ^[boolean]                          | —       |\n",
    "| title                      | Dialog 对话框 Dialog 的标题                      | ^[string]                           | ''      |\n",
    "| width                      | 对话框的宽度，默认值为 50%                        | ^[string] / ^[number]               | ''      |\n",
    "\n",
    "### Slots\n",
    "\n",
    "| Name                | Description            |\n",
    "| ------------------- | -----------------------|\n",
    "| —                   | Dialog 的内容           |\n",
    "| footer              | Dialog按钮操作区的内容    |\n",
    "\n",
    "\n",
    "### Events\n",
    "\n",
    "| Name             | Description                | Type                    |\n",
    "| ---------------- | ---------------------------| ----------------------- |\n",
    "| open             | Dialog 打开的回调\t        | ^[Function]`() => void` |\n",
    "| close            | Dialog 关闭的回调\t        | ^[Function]`() => void` |"
   ]
  }
 ],
 "metadata": {
  "kernelspec": {
   "display_name": "Python 3 (ipykernel)",
   "language": "python",
   "name": "python3"
  },
  "language_info": {
   "codemirror_mode": {
    "name": "ipython",
    "version": 3
   },
   "file_extension": ".py",
   "mimetype": "text/x-python",
   "name": "python",
   "nbconvert_exporter": "python",
   "pygments_lexer": "ipython3",
   "version": "3.10.12"
  },
  "widgets": {
   "application/vnd.jupyter.widget-state+json": {
    "state": {
     "05258d0a8367474c916e0a5774a311f5": {
      "model_module": "@jupyter-widgets/controls",
      "model_module_version": "2.0.0",
      "model_name": "ButtonStyleModel",
      "state": {
       "font_family": null,
       "font_size": null,
       "font_style": null,
       "font_variant": null,
       "font_weight": null,
       "text_color": null,
       "text_decoration": null
      }
     },
     "09056919f6e3401bb30b6a534292281c": {
      "model_module": "@jupyter-widgets/controls",
      "model_module_version": "2.0.0",
      "model_name": "TextModel",
      "state": {
       "continuous_update": false,
       "layout": "IPY_MODEL_3bac5cb712d04f7e8f6a62117dd31ffc",
       "placeholder": "name",
       "style": "IPY_MODEL_6e47495482e44526a0a20a519680eea8"
      }
     },
     "09d91d93e9214645a72b993ca94056ac": {
      "model_module": "@jupyter-widgets/output",
      "model_module_version": "1.0.0",
      "model_name": "OutputModel",
      "state": {
       "layout": "IPY_MODEL_0fe56a562e7049dc8a96e5c2bdec1708",
       "outputs": [
        {
         "data": {
          "application/vnd.jupyter.widget-view+json": {
           "model_id": "890e0f2992514b7cb362db8239a388ba",
           "version_major": 2,
           "version_minor": 0
          },
          "text/plain": "sfc_container(children=(VBox(children=(Button(button_style='info', description='show dialog', style=ButtonStyl…"
         },
         "metadata": {},
         "output_type": "display_data"
        }
       ]
      }
     },
     "0c360c3dece049b9a077628869e626b7": {
      "model_module": "@jupyter-widgets/controls",
      "model_module_version": "2.0.0",
      "model_name": "LabelStyleModel",
      "state": {
       "description_width": "",
       "font_family": null,
       "font_size": null,
       "font_style": null,
       "font_variant": null,
       "font_weight": null,
       "text_color": null,
       "text_decoration": null
      }
     },
     "0db70d219869416bbed3e2830a753e77": {
      "model_module": "@jupyter-widgets/base",
      "model_module_version": "2.0.0",
      "model_name": "LayoutModel",
      "state": {}
     },
     "0fe56a562e7049dc8a96e5c2bdec1708": {
      "model_module": "@jupyter-widgets/base",
      "model_module_version": "2.0.0",
      "model_name": "LayoutModel",
      "state": {}
     },
     "12cf8ac7e3f345ed98b856f1e9806a1d": {
      "model_module": "@jupyter-widgets/base",
      "model_module_version": "2.0.0",
      "model_name": "LayoutModel",
      "state": {}
     },
     "14467d6471524c56808a197b55a456c3": {
      "model_module": "@jupyter-widgets/base",
      "model_module_version": "2.0.0",
      "model_name": "LayoutModel",
      "state": {}
     },
     "17bd8202331f4a56b6a1fe9e54994ad6": {
      "model_module": "@jupyter-widgets/controls",
      "model_module_version": "2.0.0",
      "model_name": "LabelModel",
      "state": {
       "layout": "IPY_MODEL_7d5121389291499bb97b26f371127c66",
       "style": "IPY_MODEL_4fdc17f8ab3144e69e8f368e14fb3cfa",
       "value": "-"
      }
     },
     "187901bccfad4aaf9934ee3c8ea2e0d8": {
      "model_module": "@jupyter-widgets/base",
      "model_module_version": "2.0.0",
      "model_name": "LayoutModel",
      "state": {}
     },
     "1c310bd05dc34666a76ebe092ea6d053": {
      "model_module": "@jupyter-widgets/controls",
      "model_module_version": "2.0.0",
      "model_name": "VBoxModel",
      "state": {
       "children": [
        "IPY_MODEL_66281d3ee74c49208aaa1f0b3da5214c"
       ],
       "layout": "IPY_MODEL_ea156baf08f7487f8e11b6c89917f6ca"
      }
     },
     "2162ca705bc041068f021306e0fe3360": {
      "model_module": "@jupyter-widgets/base",
      "model_module_version": "2.0.0",
      "model_name": "LayoutModel",
      "state": {}
     },
     "240607c83e7f4559b8a62bb821041f2a": {
      "model_module": "@jupyter-widgets/controls",
      "model_module_version": "2.0.0",
      "model_name": "ButtonStyleModel",
      "state": {
       "font_family": null,
       "font_size": null,
       "font_style": null,
       "font_variant": null,
       "font_weight": null,
       "text_color": null,
       "text_decoration": null
      }
     },
     "2ad73fb7dc804510b89b36bd52791075": {
      "model_module": "@jupyter-widgets/base",
      "model_module_version": "2.0.0",
      "model_name": "LayoutModel",
      "state": {}
     },
     "2b7d811184f949298f26dfc988913245": {
      "model_module": "@jupyter-widgets/controls",
      "model_module_version": "2.0.0",
      "model_name": "LabelModel",
      "state": {
       "layout": "IPY_MODEL_3a0cb23421324f2fb0d19a2c6524d4a5",
       "style": "IPY_MODEL_0c360c3dece049b9a077628869e626b7",
       "value": "Placeholder"
      }
     },
     "2da0631258db475e898129b6858aaa54": {
      "model_module": "@jupyter-widgets/base",
      "model_module_version": "2.0.0",
      "model_name": "LayoutModel",
      "state": {}
     },
     "30bf8fcbf93141d09403bb176155898a": {
      "model_module": "@jupyter-widgets/controls",
      "model_module_version": "2.0.0",
      "model_name": "ButtonModel",
      "state": {
       "button_style": "info",
       "description": "show dialog",
       "layout": "IPY_MODEL_3dd337ea369c406d824968c783deed5d",
       "style": "IPY_MODEL_6373f7508626441f9ebe2e788d7bc8a8",
       "tooltip": null
      }
     },
     "31dc4bdef76c465291fb67ef3d687028": {
      "model_module": "@jupyter-widgets/base",
      "model_module_version": "2.0.0",
      "model_name": "LayoutModel",
      "state": {}
     },
     "31f7e9d20cf243b997d42607d0a864b1": {
      "model_module": "anywidget",
      "model_module_version": "0.9.3",
      "model_name": "AnyModel",
      "state": {
       "_anywidget_id": "ipywui.widgets.custom.dialog.DialogWidget",
       "_css": ".wui-modal-root {\n    position: absolute;\n    bottom: 0;\n    left: 0;\n    overflow: auto;\n    pointer-events: none;\n    right: 0;\n    top: 0;\n    z-index: 999;\n}\n.wui-modal-root[data-state=open] {\n    display: block;\n}\n.wui-modal-root[data-state=close] {\n    display: none;\n}\n\n.wui-modal-dialog-container {\n    align-items: center;\n    display: flex;\n    justify-content: center;\n    min-height: 100%;\n    outline: none;\n    pointer-events: auto;\n    width: 100%;\n\n    -webkit-tap-highlight-color: rgba(0,0,0,0);\n    background-color: rgba(0,0,0,.5);\n    bottom: 0;\n    left: 0;\n    /*opacity: 0;*/\n    right: 0;\n    top: 0;\n    transition: opacity .4s;\n    transition-timing-function: cubic-bezier(.2,.8,.4,1);\n}\n\n.wui-modal-dialog {\n    background: white;\n    border-radius: 5px;\n    /*color: var(--text-default);*/\n    margin: 20px 12px;\n    max-width: 100%;\n    width: 50%;\n    /*opacity: 0;*/\n    /*position: relative;*/\n    /*-webkit-transform: translateY(20px);*/\n    /*transform: translateY(20px);*/\n    transition: opacity .4s,-webkit-transform .4s;\n    transition: transform .4s,opacity .4s;\n    transition: transform .4s,opacity .4s,-webkit-transform .4s;\n    transition-timing-function: cubic-bezier(.2,.8,.4,1);\n    -webkit-user-select: text;\n    user-select: text;\n}\n\n.wui-modal-header {\n    font-size: 20px;\n    line-height: 28px;\n    margin: 10px 14px 6px 14px;\n}\n\n.wui-modal-body {\n    font-size: 14px;\n    margin: 6px 14px 14px 14px;\n}\n\n.wui-modal-footer {\n    align-items: center;\n    display: flex;\n    justify-content: flex-end;\n    margin: 22px 14px 14px;\n}\n",
       "_esm": "async function unpack_models(model_ids, manager) {\n  return Promise.all(\n    model_ids.map(id => manager.get_model(id.slice(\"IPY_MODEL_\".length)))\n  );\n}\n\n\nexport async function render(view) {\n  let model = view.model;\n\n  let shouldShowDialog = () => model.get('value');\n  const modalRoot = view.el;\n  const modalDialogContainer = document.createElement('div');\n  const modalDialog = document.createElement('div');\n  modalRoot.className += ' wui-modal-root';\n  modalRoot.setAttribute('data-state', shouldShowDialog() ? 'open' : 'close');\n  modalDialogContainer.className += ' wui-modal-dialog-container';\n  modalDialog.className += ' wui-modal-dialog';\n  const modalDialogWidth = model.get(\"width\", '50%');\n  if (modalDialogWidth) {\n    modalDialog.style.width = modalDialogWidth;\n  }\n  modalRoot.appendChild(modalDialogContainer);\n  modalDialogContainer.appendChild(modalDialog);\n\n  const modalTitle = document.createElement('div');\n  modalTitle.className += ' wui-modal-header';\n  modalTitle.innerText = model.get('title');\n  const modalBody = document.createElement('div');\n  modalBody.className += ' wui-modal-body';\n  const modalFooter = document.createElement('div');\n  modalFooter.className += ' wui-modal-footer';\n  modalDialog.appendChild(modalTitle);\n  modalDialog.appendChild(modalBody);\n  modalDialog.appendChild(modalFooter);\n\n  let model_ids = model.get(\"body\");  /* [\"IPY_MODEL_{model_id>}\", ...] */\n  let body_models = await unpack_models(model_ids, model.widget_manager);\n  for (let model of body_models) {\n    let child_view = await model.widget_manager.create_view(model);\n    modalBody.appendChild(child_view.el);\n  }\n  model_ids = model.get(\"footer\");  /* [\"IPY_MODEL_{model_id>}\", ...] */\n  let footer_models = await unpack_models(model_ids, model.widget_manager);\n  for (let model of footer_models) {\n    let child_view = await model.widget_manager.create_view(model);\n    modalFooter.appendChild(child_view.el);\n  }\n  const emit = (evt, payload) => {\n    model.set(\"event\", {\"event\": evt, \"payload\": payload});\n    model.save_changes();\n  }\n  const openDialog = () => {\n    modalRoot.setAttribute('data-state', 'open');\n    emit(\"open\");\n  }\n  const closeDialog = () => {\n    modalRoot.setAttribute('data-state', 'close');\n    emit(\"close\");\n  }\n  modalDialogContainer.addEventListener('click', () => {\n    console.info('click')\n    model.set(\"value\", false);\n    model.save_changes()\n  })\n  modalDialog.addEventListener('click', (ev) => {\n    ev.stopPropagation();\n  })\n  model.on(\"change:value\", () => {\n    console.info('change value')\n    shouldShowDialog() ? openDialog() : closeDialog();\n  })\n}\n",
       "_model_module": "anywidget",
       "_model_module_version": "0.9.3",
       "_model_name": "AnyModel",
       "_view_module": "anywidget",
       "_view_module_version": "0.9.3",
       "_view_name": "AnyView",
       "body": [
        "IPY_MODEL_a38efc96a02e47d6b5aa65227a056ad9"
       ],
       "event": {},
       "footer": [
        "IPY_MODEL_e2730003c94940b7a72cb8c1e58777ac"
       ],
       "layout": "IPY_MODEL_2da0631258db475e898129b6858aaa54",
       "title": "Shipping address",
       "value": true,
       "width": "55%"
      }
     },
     "32940120003249ccbb0033bd41617c5b": {
      "model_module": "@jupyter-widgets/base",
      "model_module_version": "2.0.0",
      "model_name": "LayoutModel",
      "state": {}
     },
     "3a0cb23421324f2fb0d19a2c6524d4a5": {
      "model_module": "@jupyter-widgets/base",
      "model_module_version": "2.0.0",
      "model_name": "LayoutModel",
      "state": {
       "height": "200px"
      }
     },
     "3b1b1da692ac4d9fa6a30d2b295b0b27": {
      "model_module": "@jupyter-widgets/controls",
      "model_module_version": "2.0.0",
      "model_name": "VBoxModel",
      "state": {
       "children": [
        "IPY_MODEL_fa3d8bd4c2724e8e9aad0d6f0b0fa6cc",
        "IPY_MODEL_fa3d8bd4c2724e8e9aad0d6f0b0fa6cc",
        "IPY_MODEL_85f0807afed04d4f91aa590db4644244"
       ],
       "layout": "IPY_MODEL_32940120003249ccbb0033bd41617c5b"
      }
     },
     "3bac5cb712d04f7e8f6a62117dd31ffc": {
      "model_module": "@jupyter-widgets/base",
      "model_module_version": "2.0.0",
      "model_name": "LayoutModel",
      "state": {}
     },
     "3dd337ea369c406d824968c783deed5d": {
      "model_module": "@jupyter-widgets/base",
      "model_module_version": "2.0.0",
      "model_name": "LayoutModel",
      "state": {}
     },
     "3e1cea23ded441a48aee411eb68dc71c": {
      "model_module": "@jupyter-widgets/controls",
      "model_module_version": "2.0.0",
      "model_name": "VBoxModel",
      "state": {
       "children": [
        "IPY_MODEL_30bf8fcbf93141d09403bb176155898a",
        "IPY_MODEL_2b7d811184f949298f26dfc988913245",
        "IPY_MODEL_31f7e9d20cf243b997d42607d0a864b1"
       ],
       "layout": "IPY_MODEL_ec20f8c6afdd4a669789fac1745990f7"
      }
     },
     "4281dc9a65254cb6a87296fb20912826": {
      "model_module": "anywidget",
      "model_module_version": "0.9.3",
      "model_name": "AnyModel",
      "state": {
       "_anywidget_id": "ipywui.widgets.custom.message.MessageWidget",
       "_css": ".wui-message-root {\n    display: flex;\n    position: absolute;\n    left: 0;\n    right: 0;\n    top: 0;\n}\n\n.wui-message-container {\n    align-items: center;\n    display: flex;\n    flex-direction: column-reverse;\n    justify-content: center;\n    min-height: 100%;\n    outline: none;\n    width: 100%;\n\n    -webkit-tap-highlight-color: rgba(0,0,0,0);\n    bottom: 0;\n    left: 0;\n    right: 0;\n    top: 0;\n}\n\n.wui-message--success {\n    --wui-message-bg-color: #f0f9eb;\n    --wui-message-border-color: #e1f3d8;\n    --wui-message-text-color: #67c23a;\n}\n.wui-message--warning {\n    --wui-message-bg-color: #fdf6ec;\n    --wui-message-border-color: #faecd8;\n    --wui-message-text-color: #e6a23c;\n}\n.wui-message--info {\n    --wui-message-bg-color: #f4f4f5;\n    --wui-message-border-color: #e9e9eb;\n    --wui-message-text-color: #909399;\n}\n.wui-message--error {\n    --wui-message-bg-color: #fef0f0;\n    --wui-message-border-color: #fde2e2;\n    --wui-message-text-color: #f56c6c;\n}\n\n@keyframes msg-open {\n    0% {\n        opacity: 0;\n        -webkit-transform: translateY(-120%);\n        transform: translateY(-120%)\n    }\n    to {\n        -webkit-transform: translateY(0);\n        transform: translateY(0)\n    }\n}\n\n@keyframes msg-close {\n    0% {\n        opacity: 1;\n        -webkit-transform: scale(1);\n        transform: scale(1)\n    }\n    to {\n        opacity: 0;\n        -webkit-transform: scale(.9);\n        transform: scale(.9)\n    }\n}\n.wui-message[data-state=entered],.wui-message[data-state=entering] {\n    -webkit-animation: msg-open .24s cubic-bezier(.175,.885,.32,1.175) both;\n    animation: msg-open .24s cubic-bezier(.175,.885,.32,1.175) both\n}\n\n.wui-message[data-state=exiting] {\n    -webkit-animation: msg-close .12s cubic-bezier(.4,0,1,1) both;\n    animation: msg-close .12s cubic-bezier(.4,0,1,1) both\n}\n\n.wui-message {\n    width: -webkit-fit-content;\n    width: -moz-fit-content;\n    width: fit-content;\n    z-index: 2004;\n    max-width: calc(100% - 32px);\n    margin-top: 8px;\n    box-sizing: border-box;\n    /*border-radius: var(--wui-border-radius-base);*/\n    /*border-width: var(--wui-border-width);*/\n    /*border-style: var(--wui-border-style);*/\n    border-color: var(--wui-message-border-color);\n    /*left: 50%;*/\n    /*top: 20px;*/\n    /*transform: translateX(-50%);*/\n    background-color: var(--wui-message-bg-color);\n    /*transition: opacity var(--wui-transition-duration),transform .4s,top .4s;*/\n    /*padding: var(--wui-message-padding);*/\n    display: flex;\n    align-items: center;\n}\n\n/*.wui-message--success */\n.wui-message__content {\n    color: var(--wui-message-text-color);\n    font-size: 14px;\n    line-height: 18px;\n    margin: 10px 14px 10px 14px;\n    overflow-wrap: break-word;\n}\n\n.wui-message__closeBtn {\n    /*cursor: pointer;*/\n    font-style: normal;\n    /*color: gray;*/\n    padding-right: 14px;\n    /*font-size: 13px;*/\n    user-select: none;\n\n    background: transparent;\n    border: none;\n    color: gray;\n    cursor: pointer;\n    font-size: 13px;\n    font-weight: 400;\n    line-height: 1;\n    outline: none;\n    /*padding: 4px;*/\n    text-align: center;\n    transition: opacity .3s;\n    /*width: 100%;*/\n}",
       "_esm": "function closeMsg(msgDom) {\n  if (!msgDom) {\n    return;\n  }\n  msgDom.setAttribute('data-state', 'exiting');\n  msgDom.remove();\n}\n\nfunction createMsg(options) {\n  const {message, msg_id, type = 'info', show_close = false} = options;\n  const msgDom = document.createElement('div');\n  msgDom.className += ` wui-message--${type} wui-message`;\n  msgDom.setAttribute('data-state', 'entered');\n  msgDom.setAttribute('id', msg_id);\n  const msgContent = document.createElement('p');\n  msgContent.className += ` wui-message--${type} wui-message__content`;\n  msgContent.innerText = message;\n  msgDom.appendChild(msgContent);\n  if (show_close) {\n    const closeBtn = document.createElement('i');\n    closeBtn.className += 'wui-message__closeBtn';\n    closeBtn.innerText = 'x';\n    closeBtn.addEventListener('click', (ev) => {\n      closeMsg(msgDom);\n    })\n    msgDom.appendChild(closeBtn);\n  }\n  return msgDom;\n}\n\nexport async function render(view) {\n  let model = view.model;\n  const msgRoot = view.el;\n  msgRoot.className += ' wui-message-root'\n\n  const msgContainer = document.createElement('div');\n  msgContainer.className += ' wui-message-container';\n  msgRoot.appendChild(msgContainer)\n\n  model.on(\"change:message_options\", () => {\n    const options = model.get(\"message_options\");\n    const msg = createMsg(options);\n    msgContainer.appendChild(msg);\n    const {duration = 3000} = options;\n    if (duration > 0) {\n      setTimeout(() => {\n        closeMsg(msg)\n      }, duration);\n    }\n  })\n\n  model.on(\"change:close_msg_id\", () => {\n    const msg_id = model.get(\"close_msg_id\");\n    const msgDom = document.getElementById(msg_id);\n    closeMsg(msgDom);\n  })\n}\n",
       "_model_module": "anywidget",
       "_model_module_version": "0.9.3",
       "_model_name": "AnyModel",
       "_view_module": "anywidget",
       "_view_module_version": "0.9.3",
       "_view_name": "AnyView",
       "close_msg_id": "",
       "layout": "IPY_MODEL_4c419715e3d14fe5b2841b86955d0f54",
       "message_options": {
        "duration": 3000,
        "message": "",
        "show_close": false,
        "type": "info"
       }
      }
     },
     "4a3d3ce0eced4a47891dba10b67a0b4f": {
      "model_module": "@jupyter-widgets/controls",
      "model_module_version": "2.0.0",
      "model_name": "ButtonModel",
      "state": {
       "button_style": "info",
       "description": "show dialog",
       "layout": "IPY_MODEL_a55e27d15c334e25b25f5f173ad13b8b",
       "style": "IPY_MODEL_dddd0fe3088e4396b345a6693b71669d",
       "tooltip": null
      }
     },
     "4c007864091141bdb35dfb4478478c77": {
      "model_module": "@jupyter-widgets/controls",
      "model_module_version": "2.0.0",
      "model_name": "ButtonStyleModel",
      "state": {
       "font_family": null,
       "font_size": null,
       "font_style": null,
       "font_variant": null,
       "font_weight": null,
       "text_color": null,
       "text_decoration": null
      }
     },
     "4c419715e3d14fe5b2841b86955d0f54": {
      "model_module": "@jupyter-widgets/base",
      "model_module_version": "2.0.0",
      "model_name": "LayoutModel",
      "state": {}
     },
     "4ceff1b3dc73485ca95907923fc3cf1e": {
      "model_module": "@jupyter-widgets/output",
      "model_module_version": "1.0.0",
      "model_name": "OutputModel",
      "state": {
       "layout": "IPY_MODEL_4f44865435604717bb1f28af7abbe834"
      }
     },
     "4f44865435604717bb1f28af7abbe834": {
      "model_module": "@jupyter-widgets/base",
      "model_module_version": "2.0.0",
      "model_name": "LayoutModel",
      "state": {}
     },
     "4fdc17f8ab3144e69e8f368e14fb3cfa": {
      "model_module": "@jupyter-widgets/controls",
      "model_module_version": "2.0.0",
      "model_name": "LabelStyleModel",
      "state": {
       "description_width": "",
       "font_family": null,
       "font_size": null,
       "font_style": null,
       "font_variant": null,
       "font_weight": null,
       "text_color": null,
       "text_decoration": null
      }
     },
     "5cb3ac3ae22845a8a9c576370f6f49f8": {
      "model_module": "@jupyter-widgets/controls",
      "model_module_version": "2.0.0",
      "model_name": "ButtonModel",
      "state": {
       "button_style": "info",
       "description": "Ok",
       "layout": "IPY_MODEL_6744bde4975a4b5baf0b0c5fb533efcd",
       "style": "IPY_MODEL_05258d0a8367474c916e0a5774a311f5",
       "tooltip": null
      }
     },
     "5d96581d965245a796a1acfd76718112": {
      "model_module": "@jupyter-widgets/base",
      "model_module_version": "2.0.0",
      "model_name": "LayoutModel",
      "state": {}
     },
     "6373f7508626441f9ebe2e788d7bc8a8": {
      "model_module": "@jupyter-widgets/controls",
      "model_module_version": "2.0.0",
      "model_name": "ButtonStyleModel",
      "state": {
       "font_family": null,
       "font_size": null,
       "font_style": null,
       "font_variant": null,
       "font_weight": null,
       "text_color": null,
       "text_decoration": null
      }
     },
     "66281d3ee74c49208aaa1f0b3da5214c": {
      "model_module": "@jupyter-widgets/controls",
      "model_module_version": "2.0.0",
      "model_name": "VBoxModel",
      "state": {
       "children": [
        "IPY_MODEL_4281dc9a65254cb6a87296fb20912826",
        "IPY_MODEL_4281dc9a65254cb6a87296fb20912826",
        "IPY_MODEL_09d91d93e9214645a72b993ca94056ac"
       ],
       "layout": "IPY_MODEL_c7bde51617e14078a4dca0344c0852d6"
      }
     },
     "6674cf6b2725492d93122d8ac6f95350": {
      "model_module": "@jupyter-widgets/base",
      "model_module_version": "2.0.0",
      "model_name": "LayoutModel",
      "state": {}
     },
     "66ff08c3c8b84262a7a103f911192e62": {
      "model_module": "@jupyter-widgets/controls",
      "model_module_version": "2.0.0",
      "model_name": "VBoxModel",
      "state": {
       "children": [
        "IPY_MODEL_4a3d3ce0eced4a47891dba10b67a0b4f",
        "IPY_MODEL_17bd8202331f4a56b6a1fe9e54994ad6",
        "IPY_MODEL_f2f2310aa92843398762517ad531f12c"
       ],
       "layout": "IPY_MODEL_0db70d219869416bbed3e2830a753e77"
      }
     },
     "6744bde4975a4b5baf0b0c5fb533efcd": {
      "model_module": "@jupyter-widgets/base",
      "model_module_version": "2.0.0",
      "model_name": "LayoutModel",
      "state": {}
     },
     "6a9a2ff2207f4e15895bfd23b9fb4dc9": {
      "model_module": "@jupyter-widgets/base",
      "model_module_version": "2.0.0",
      "model_name": "LayoutModel",
      "state": {}
     },
     "6e47495482e44526a0a20a519680eea8": {
      "model_module": "@jupyter-widgets/controls",
      "model_module_version": "2.0.0",
      "model_name": "TextStyleModel",
      "state": {
       "description_width": "",
       "font_size": null,
       "text_color": null
      }
     },
     "73820c1dcf5e4d72868b60a78d3b70db": {
      "model_module": "@jupyter-widgets/controls",
      "model_module_version": "2.0.0",
      "model_name": "ButtonModel",
      "state": {
       "button_style": "warning",
       "description": "Cancel",
       "layout": "IPY_MODEL_2ad73fb7dc804510b89b36bd52791075",
       "style": "IPY_MODEL_db9d57100f0e4b2f8255590304d66db3",
       "tooltip": null
      }
     },
     "767eacd01e824d039accbb983d0ae3ad": {
      "model_module": "@jupyter-widgets/controls",
      "model_module_version": "2.0.0",
      "model_name": "TextStyleModel",
      "state": {
       "description_width": "",
       "font_size": null,
       "text_color": null
      }
     },
     "78072b487f0e46269411b1bbc6afd916": {
      "model_module": "@jupyter-widgets/controls",
      "model_module_version": "2.0.0",
      "model_name": "VBoxModel",
      "state": {
       "children": [
        "IPY_MODEL_e30b6052db974e7f93984093f45a04da"
       ],
       "layout": "IPY_MODEL_5d96581d965245a796a1acfd76718112"
      }
     },
     "7a49e817c0ec4a2192abcb8493f4c7ee": {
      "model_module": "@jupyter-widgets/base",
      "model_module_version": "2.0.0",
      "model_name": "LayoutModel",
      "state": {}
     },
     "7d5121389291499bb97b26f371127c66": {
      "model_module": "@jupyter-widgets/base",
      "model_module_version": "2.0.0",
      "model_name": "LayoutModel",
      "state": {
       "height": "200px"
      }
     },
     "85f0807afed04d4f91aa590db4644244": {
      "model_module": "@jupyter-widgets/output",
      "model_module_version": "1.0.0",
      "model_name": "OutputModel",
      "state": {
       "layout": "IPY_MODEL_b9d944a960f24fd9a46c1a85d885629b",
       "outputs": [
        {
         "data": {
          "application/vnd.jupyter.widget-view+json": {
           "model_id": "d1007a1a9b774e7881e661afc3465f96",
           "version_major": 2,
           "version_minor": 0
          },
          "text/plain": "sfc_container(children=(VBox(children=(Button(button_style='info', description='show dialog', style=ButtonStyl…"
         },
         "metadata": {},
         "output_type": "display_data"
        }
       ]
      }
     },
     "890e0f2992514b7cb362db8239a388ba": {
      "model_module": "@jupyter-widgets/controls",
      "model_module_version": "2.0.0",
      "model_name": "VBoxModel",
      "state": {
       "children": [
        "IPY_MODEL_3e1cea23ded441a48aee411eb68dc71c"
       ],
       "layout": "IPY_MODEL_ce97bdfc8b5a401a900e13c071457ffb"
      }
     },
     "914f19ab61544527a518d2dccb40e3b0": {
      "model_module": "@jupyter-widgets/base",
      "model_module_version": "2.0.0",
      "model_name": "LayoutModel",
      "state": {}
     },
     "9483f0a539ad4eda9c76b6c54c511e5c": {
      "model_module": "@jupyter-widgets/controls",
      "model_module_version": "2.0.0",
      "model_name": "VBoxModel",
      "state": {
       "children": [
        "IPY_MODEL_f5955deb0d7d485e9b15691a9e3cbf56"
       ],
       "layout": "IPY_MODEL_914f19ab61544527a518d2dccb40e3b0"
      }
     },
     "a00477256aad4958ba4f389ec56290ae": {
      "model_module": "@jupyter-widgets/base",
      "model_module_version": "2.0.0",
      "model_name": "LayoutModel",
      "state": {}
     },
     "a38efc96a02e47d6b5aa65227a056ad9": {
      "model_module": "@jupyter-widgets/controls",
      "model_module_version": "2.0.0",
      "model_name": "VBoxModel",
      "state": {
       "children": [
        "IPY_MODEL_09056919f6e3401bb30b6a534292281c"
       ],
       "layout": "IPY_MODEL_fbb4346e0561407888b7f503ac5b1160"
      }
     },
     "a55e27d15c334e25b25f5f173ad13b8b": {
      "model_module": "@jupyter-widgets/base",
      "model_module_version": "2.0.0",
      "model_name": "LayoutModel",
      "state": {}
     },
     "a983ec36260a4891982ab655adf28763": {
      "model_module": "@jupyter-widgets/controls",
      "model_module_version": "2.0.0",
      "model_name": "VBoxModel",
      "state": {
       "children": [
        "IPY_MODEL_3b1b1da692ac4d9fa6a30d2b295b0b27"
       ],
       "layout": "IPY_MODEL_6674cf6b2725492d93122d8ac6f95350"
      }
     },
     "b9d944a960f24fd9a46c1a85d885629b": {
      "model_module": "@jupyter-widgets/base",
      "model_module_version": "2.0.0",
      "model_name": "LayoutModel",
      "state": {}
     },
     "c0f975003fd4479188eee8369f145dde": {
      "model_module": "@jupyter-widgets/controls",
      "model_module_version": "2.0.0",
      "model_name": "HBoxModel",
      "state": {
       "children": [
        "IPY_MODEL_73820c1dcf5e4d72868b60a78d3b70db",
        "IPY_MODEL_5cb3ac3ae22845a8a9c576370f6f49f8"
       ],
       "layout": "IPY_MODEL_c4c36782f62a4b58b81df8136b41dc57"
      }
     },
     "c4bfc450e60e48bdbaa14d764b5e53e0": {
      "model_module": "@jupyter-widgets/controls",
      "model_module_version": "2.0.0",
      "model_name": "ButtonModel",
      "state": {
       "button_style": "warning",
       "description": "Cancel",
       "layout": "IPY_MODEL_a00477256aad4958ba4f389ec56290ae",
       "style": "IPY_MODEL_240607c83e7f4559b8a62bb821041f2a",
       "tooltip": null
      }
     },
     "c4c36782f62a4b58b81df8136b41dc57": {
      "model_module": "@jupyter-widgets/base",
      "model_module_version": "2.0.0",
      "model_name": "LayoutModel",
      "state": {}
     },
     "c7bde51617e14078a4dca0344c0852d6": {
      "model_module": "@jupyter-widgets/base",
      "model_module_version": "2.0.0",
      "model_name": "LayoutModel",
      "state": {}
     },
     "ca82213e7f7b439c9496f0008187efd6": {
      "model_module": "@jupyter-widgets/base",
      "model_module_version": "2.0.0",
      "model_name": "LayoutModel",
      "state": {}
     },
     "ce97bdfc8b5a401a900e13c071457ffb": {
      "model_module": "@jupyter-widgets/base",
      "model_module_version": "2.0.0",
      "model_name": "LayoutModel",
      "state": {}
     },
     "d1007a1a9b774e7881e661afc3465f96": {
      "model_module": "@jupyter-widgets/controls",
      "model_module_version": "2.0.0",
      "model_name": "VBoxModel",
      "state": {
       "children": [
        "IPY_MODEL_66ff08c3c8b84262a7a103f911192e62"
       ],
       "layout": "IPY_MODEL_14467d6471524c56808a197b55a456c3"
      }
     },
     "d7156114299a40eb805fc0e3de501ea4": {
      "model_module": "@jupyter-widgets/controls",
      "model_module_version": "2.0.0",
      "model_name": "ButtonModel",
      "state": {
       "button_style": "info",
       "description": "Ok",
       "layout": "IPY_MODEL_2162ca705bc041068f021306e0fe3360",
       "style": "IPY_MODEL_4c007864091141bdb35dfb4478478c77",
       "tooltip": null
      }
     },
     "db9d57100f0e4b2f8255590304d66db3": {
      "model_module": "@jupyter-widgets/controls",
      "model_module_version": "2.0.0",
      "model_name": "ButtonStyleModel",
      "state": {
       "font_family": null,
       "font_size": null,
       "font_style": null,
       "font_variant": null,
       "font_weight": null,
       "text_color": null,
       "text_decoration": null
      }
     },
     "dddd0fe3088e4396b345a6693b71669d": {
      "model_module": "@jupyter-widgets/controls",
      "model_module_version": "2.0.0",
      "model_name": "ButtonStyleModel",
      "state": {
       "font_family": null,
       "font_size": null,
       "font_style": null,
       "font_variant": null,
       "font_weight": null,
       "text_color": null,
       "text_decoration": null
      }
     },
     "de940b7519854c2b81abfb61fb2544c3": {
      "model_module": "anywidget",
      "model_module_version": "0.9.3",
      "model_name": "AnyModel",
      "state": {
       "_anywidget_id": "ipywui.widgets.custom.message.MessageWidget",
       "_css": ".wui-message-root {\n    display: flex;\n    position: absolute;\n    left: 0;\n    right: 0;\n    top: 0;\n}\n\n.wui-message-container {\n    align-items: center;\n    display: flex;\n    flex-direction: column-reverse;\n    justify-content: center;\n    min-height: 100%;\n    outline: none;\n    width: 100%;\n\n    -webkit-tap-highlight-color: rgba(0,0,0,0);\n    bottom: 0;\n    left: 0;\n    right: 0;\n    top: 0;\n}\n\n.wui-message--success {\n    --wui-message-bg-color: #f0f9eb;\n    --wui-message-border-color: #e1f3d8;\n    --wui-message-text-color: #67c23a;\n}\n.wui-message--warning {\n    --wui-message-bg-color: #fdf6ec;\n    --wui-message-border-color: #faecd8;\n    --wui-message-text-color: #e6a23c;\n}\n.wui-message--info {\n    --wui-message-bg-color: #f4f4f5;\n    --wui-message-border-color: #e9e9eb;\n    --wui-message-text-color: #909399;\n}\n.wui-message--error {\n    --wui-message-bg-color: #fef0f0;\n    --wui-message-border-color: #fde2e2;\n    --wui-message-text-color: #f56c6c;\n}\n\n@keyframes msg-open {\n    0% {\n        opacity: 0;\n        -webkit-transform: translateY(-120%);\n        transform: translateY(-120%)\n    }\n    to {\n        -webkit-transform: translateY(0);\n        transform: translateY(0)\n    }\n}\n\n@keyframes msg-close {\n    0% {\n        opacity: 1;\n        -webkit-transform: scale(1);\n        transform: scale(1)\n    }\n    to {\n        opacity: 0;\n        -webkit-transform: scale(.9);\n        transform: scale(.9)\n    }\n}\n.wui-message[data-state=entered],.wui-message[data-state=entering] {\n    -webkit-animation: msg-open .24s cubic-bezier(.175,.885,.32,1.175) both;\n    animation: msg-open .24s cubic-bezier(.175,.885,.32,1.175) both\n}\n\n.wui-message[data-state=exiting] {\n    -webkit-animation: msg-close .12s cubic-bezier(.4,0,1,1) both;\n    animation: msg-close .12s cubic-bezier(.4,0,1,1) both\n}\n\n.wui-message {\n    width: -webkit-fit-content;\n    width: -moz-fit-content;\n    width: fit-content;\n    z-index: 2004;\n    max-width: calc(100% - 32px);\n    margin-top: 8px;\n    box-sizing: border-box;\n    /*border-radius: var(--wui-border-radius-base);*/\n    /*border-width: var(--wui-border-width);*/\n    /*border-style: var(--wui-border-style);*/\n    border-color: var(--wui-message-border-color);\n    /*left: 50%;*/\n    /*top: 20px;*/\n    /*transform: translateX(-50%);*/\n    background-color: var(--wui-message-bg-color);\n    /*transition: opacity var(--wui-transition-duration),transform .4s,top .4s;*/\n    /*padding: var(--wui-message-padding);*/\n    display: flex;\n    align-items: center;\n}\n\n/*.wui-message--success */\n.wui-message__content {\n    color: var(--wui-message-text-color);\n    font-size: 14px;\n    line-height: 18px;\n    margin: 10px 14px 10px 14px;\n    overflow-wrap: break-word;\n}\n\n.wui-message__closeBtn {\n    /*cursor: pointer;*/\n    font-style: normal;\n    /*color: gray;*/\n    padding-right: 14px;\n    /*font-size: 13px;*/\n    user-select: none;\n\n    background: transparent;\n    border: none;\n    color: gray;\n    cursor: pointer;\n    font-size: 13px;\n    font-weight: 400;\n    line-height: 1;\n    outline: none;\n    /*padding: 4px;*/\n    text-align: center;\n    transition: opacity .3s;\n    /*width: 100%;*/\n}",
       "_esm": "function closeMsg(msgDom) {\n  if (!msgDom) {\n    return;\n  }\n  msgDom.setAttribute('data-state', 'exiting');\n  msgDom.remove();\n}\n\nfunction createMsg(options) {\n  const {message, msg_id, type = 'info', show_close = false} = options;\n  const msgDom = document.createElement('div');\n  msgDom.className += ` wui-message--${type} wui-message`;\n  msgDom.setAttribute('data-state', 'entered');\n  msgDom.setAttribute('id', msg_id);\n  const msgContent = document.createElement('p');\n  msgContent.className += ` wui-message--${type} wui-message__content`;\n  msgContent.innerText = message;\n  msgDom.appendChild(msgContent);\n  if (show_close) {\n    const closeBtn = document.createElement('i');\n    closeBtn.className += 'wui-message__closeBtn';\n    closeBtn.innerText = 'x';\n    closeBtn.addEventListener('click', (ev) => {\n      closeMsg(msgDom);\n    })\n    msgDom.appendChild(closeBtn);\n  }\n  return msgDom;\n}\n\nexport async function render(view) {\n  let model = view.model;\n  const msgRoot = view.el;\n  msgRoot.className += ' wui-message-root'\n\n  const msgContainer = document.createElement('div');\n  msgContainer.className += ' wui-message-container';\n  msgRoot.appendChild(msgContainer)\n\n  model.on(\"change:message_options\", () => {\n    const options = model.get(\"message_options\");\n    const msg = createMsg(options);\n    msgContainer.appendChild(msg);\n    const {duration = 3000} = options;\n    if (duration > 0) {\n      setTimeout(() => {\n        closeMsg(msg)\n      }, duration);\n    }\n  })\n\n  model.on(\"change:close_msg_id\", () => {\n    const msg_id = model.get(\"close_msg_id\");\n    const msgDom = document.getElementById(msg_id);\n    closeMsg(msgDom);\n  })\n}\n",
       "_model_module": "anywidget",
       "_model_module_version": "0.9.3",
       "_model_name": "AnyModel",
       "_view_module": "anywidget",
       "_view_module_version": "0.9.3",
       "_view_name": "AnyView",
       "close_msg_id": "",
       "layout": "IPY_MODEL_6a9a2ff2207f4e15895bfd23b9fb4dc9",
       "message_options": {
        "duration": 3000,
        "message": "",
        "show_close": false,
        "type": "info"
       }
      }
     },
     "e2730003c94940b7a72cb8c1e58777ac": {
      "model_module": "@jupyter-widgets/controls",
      "model_module_version": "2.0.0",
      "model_name": "VBoxModel",
      "state": {
       "children": [
        "IPY_MODEL_c0f975003fd4479188eee8369f145dde"
       ],
       "layout": "IPY_MODEL_187901bccfad4aaf9934ee3c8ea2e0d8"
      }
     },
     "e30b6052db974e7f93984093f45a04da": {
      "model_module": "@jupyter-widgets/controls",
      "model_module_version": "2.0.0",
      "model_name": "TextModel",
      "state": {
       "continuous_update": false,
       "layout": "IPY_MODEL_7a49e817c0ec4a2192abcb8493f4c7ee",
       "placeholder": "name",
       "style": "IPY_MODEL_767eacd01e824d039accbb983d0ae3ad"
      }
     },
     "ea156baf08f7487f8e11b6c89917f6ca": {
      "model_module": "@jupyter-widgets/base",
      "model_module_version": "2.0.0",
      "model_name": "LayoutModel",
      "state": {}
     },
     "ec20f8c6afdd4a669789fac1745990f7": {
      "model_module": "@jupyter-widgets/base",
      "model_module_version": "2.0.0",
      "model_name": "LayoutModel",
      "state": {}
     },
     "f2f2310aa92843398762517ad531f12c": {
      "model_module": "anywidget",
      "model_module_version": "0.9.3",
      "model_name": "AnyModel",
      "state": {
       "_anywidget_id": "ipywui.widgets.custom.dialog.DialogWidget",
       "_css": ".wui-modal-root {\n    position: absolute;\n    bottom: 0;\n    left: 0;\n    overflow: auto;\n    pointer-events: none;\n    right: 0;\n    top: 0;\n    z-index: 999;\n}\n.wui-modal-root[data-state=open] {\n    display: block;\n}\n.wui-modal-root[data-state=close] {\n    display: none;\n}\n\n.wui-modal-dialog-container {\n    align-items: center;\n    display: flex;\n    justify-content: center;\n    min-height: 100%;\n    outline: none;\n    pointer-events: auto;\n    width: 100%;\n\n    -webkit-tap-highlight-color: rgba(0,0,0,0);\n    background-color: rgba(0,0,0,.5);\n    bottom: 0;\n    left: 0;\n    /*opacity: 0;*/\n    right: 0;\n    top: 0;\n    transition: opacity .4s;\n    transition-timing-function: cubic-bezier(.2,.8,.4,1);\n}\n\n.wui-modal-dialog {\n    background: white;\n    border-radius: 5px;\n    /*color: var(--text-default);*/\n    margin: 20px 12px;\n    max-width: 100%;\n    width: 50%;\n    /*opacity: 0;*/\n    /*position: relative;*/\n    /*-webkit-transform: translateY(20px);*/\n    /*transform: translateY(20px);*/\n    transition: opacity .4s,-webkit-transform .4s;\n    transition: transform .4s,opacity .4s;\n    transition: transform .4s,opacity .4s,-webkit-transform .4s;\n    transition-timing-function: cubic-bezier(.2,.8,.4,1);\n    -webkit-user-select: text;\n    user-select: text;\n}\n\n.wui-modal-header {\n    font-size: 20px;\n    line-height: 28px;\n    margin: 10px 14px 6px 14px;\n}\n\n.wui-modal-body {\n    font-size: 14px;\n    margin: 6px 14px 14px 14px;\n}\n\n.wui-modal-footer {\n    align-items: center;\n    display: flex;\n    justify-content: flex-end;\n    margin: 22px 14px 14px;\n}\n",
       "_esm": "async function unpack_models(model_ids, manager) {\n  return Promise.all(\n    model_ids.map(id => manager.get_model(id.slice(\"IPY_MODEL_\".length)))\n  );\n}\n\n\nexport async function render(view) {\n  let model = view.model;\n\n  let shouldShowDialog = () => model.get('value');\n  const modalRoot = view.el;\n  const modalDialogContainer = document.createElement('div');\n  const modalDialog = document.createElement('div');\n  modalRoot.className += ' wui-modal-root';\n  modalRoot.setAttribute('data-state', shouldShowDialog() ? 'open' : 'close');\n  modalDialogContainer.className += ' wui-modal-dialog-container';\n  modalDialog.className += ' wui-modal-dialog';\n  const modalDialogWidth = model.get(\"width\", '50%');\n  if (modalDialogWidth) {\n    modalDialog.style.width = modalDialogWidth;\n  }\n  modalRoot.appendChild(modalDialogContainer);\n  modalDialogContainer.appendChild(modalDialog);\n\n  const modalTitle = document.createElement('div');\n  modalTitle.className += ' wui-modal-header';\n  modalTitle.innerText = model.get('title');\n  const modalBody = document.createElement('div');\n  modalBody.className += ' wui-modal-body';\n  const modalFooter = document.createElement('div');\n  modalFooter.className += ' wui-modal-footer';\n  modalDialog.appendChild(modalTitle);\n  modalDialog.appendChild(modalBody);\n  modalDialog.appendChild(modalFooter);\n\n  let model_ids = model.get(\"body\");  /* [\"IPY_MODEL_{model_id>}\", ...] */\n  let body_models = await unpack_models(model_ids, model.widget_manager);\n  for (let model of body_models) {\n    let child_view = await model.widget_manager.create_view(model);\n    modalBody.appendChild(child_view.el);\n  }\n  model_ids = model.get(\"footer\");  /* [\"IPY_MODEL_{model_id>}\", ...] */\n  let footer_models = await unpack_models(model_ids, model.widget_manager);\n  for (let model of footer_models) {\n    let child_view = await model.widget_manager.create_view(model);\n    modalFooter.appendChild(child_view.el);\n  }\n  const emit = (evt, payload) => {\n    model.set(\"event\", {\"event\": evt, \"payload\": payload});\n    model.save_changes();\n  }\n  const openDialog = () => {\n    modalRoot.setAttribute('data-state', 'open');\n    emit(\"open\");\n  }\n  const closeDialog = () => {\n    modalRoot.setAttribute('data-state', 'close');\n    emit(\"close\");\n  }\n  modalDialogContainer.addEventListener('click', () => {\n    console.info('click')\n    model.set(\"value\", false);\n    model.save_changes()\n  })\n  modalDialog.addEventListener('click', (ev) => {\n    ev.stopPropagation();\n  })\n  model.on(\"change:value\", () => {\n    console.info('change value')\n    shouldShowDialog() ? openDialog() : closeDialog();\n  })\n}\n",
       "_model_module": "anywidget",
       "_model_module_version": "0.9.3",
       "_model_name": "AnyModel",
       "_view_module": "anywidget",
       "_view_module_version": "0.9.3",
       "_view_name": "AnyView",
       "body": [
        "IPY_MODEL_78072b487f0e46269411b1bbc6afd916"
       ],
       "event": {},
       "footer": [
        "IPY_MODEL_9483f0a539ad4eda9c76b6c54c511e5c"
       ],
       "layout": "IPY_MODEL_12cf8ac7e3f345ed98b856f1e9806a1d",
       "title": "Shipping address",
       "value": true,
       "width": "55%"
      }
     },
     "f5955deb0d7d485e9b15691a9e3cbf56": {
      "model_module": "@jupyter-widgets/controls",
      "model_module_version": "2.0.0",
      "model_name": "HBoxModel",
      "state": {
       "children": [
        "IPY_MODEL_c4bfc450e60e48bdbaa14d764b5e53e0",
        "IPY_MODEL_d7156114299a40eb805fc0e3de501ea4"
       ],
       "layout": "IPY_MODEL_ca82213e7f7b439c9496f0008187efd6"
      }
     },
     "fa3d8bd4c2724e8e9aad0d6f0b0fa6cc": {
      "model_module": "anywidget",
      "model_module_version": "0.9.3",
      "model_name": "AnyModel",
      "state": {
       "_anywidget_id": "ipywui.widgets.custom.message.MessageWidget",
       "_css": ".wui-message-root {\n    display: flex;\n    position: absolute;\n    left: 0;\n    right: 0;\n    top: 0;\n}\n\n.wui-message-container {\n    align-items: center;\n    display: flex;\n    flex-direction: column-reverse;\n    justify-content: center;\n    min-height: 100%;\n    outline: none;\n    width: 100%;\n\n    -webkit-tap-highlight-color: rgba(0,0,0,0);\n    bottom: 0;\n    left: 0;\n    right: 0;\n    top: 0;\n}\n\n.wui-message--success {\n    --wui-message-bg-color: #f0f9eb;\n    --wui-message-border-color: #e1f3d8;\n    --wui-message-text-color: #67c23a;\n}\n.wui-message--warning {\n    --wui-message-bg-color: #fdf6ec;\n    --wui-message-border-color: #faecd8;\n    --wui-message-text-color: #e6a23c;\n}\n.wui-message--info {\n    --wui-message-bg-color: #f4f4f5;\n    --wui-message-border-color: #e9e9eb;\n    --wui-message-text-color: #909399;\n}\n.wui-message--error {\n    --wui-message-bg-color: #fef0f0;\n    --wui-message-border-color: #fde2e2;\n    --wui-message-text-color: #f56c6c;\n}\n\n@keyframes msg-open {\n    0% {\n        opacity: 0;\n        -webkit-transform: translateY(-120%);\n        transform: translateY(-120%)\n    }\n    to {\n        -webkit-transform: translateY(0);\n        transform: translateY(0)\n    }\n}\n\n@keyframes msg-close {\n    0% {\n        opacity: 1;\n        -webkit-transform: scale(1);\n        transform: scale(1)\n    }\n    to {\n        opacity: 0;\n        -webkit-transform: scale(.9);\n        transform: scale(.9)\n    }\n}\n.wui-message[data-state=entered],.wui-message[data-state=entering] {\n    -webkit-animation: msg-open .24s cubic-bezier(.175,.885,.32,1.175) both;\n    animation: msg-open .24s cubic-bezier(.175,.885,.32,1.175) both\n}\n\n.wui-message[data-state=exiting] {\n    -webkit-animation: msg-close .12s cubic-bezier(.4,0,1,1) both;\n    animation: msg-close .12s cubic-bezier(.4,0,1,1) both\n}\n\n.wui-message {\n    width: -webkit-fit-content;\n    width: -moz-fit-content;\n    width: fit-content;\n    z-index: 2004;\n    max-width: calc(100% - 32px);\n    margin-top: 8px;\n    box-sizing: border-box;\n    /*border-radius: var(--wui-border-radius-base);*/\n    /*border-width: var(--wui-border-width);*/\n    /*border-style: var(--wui-border-style);*/\n    border-color: var(--wui-message-border-color);\n    /*left: 50%;*/\n    /*top: 20px;*/\n    /*transform: translateX(-50%);*/\n    background-color: var(--wui-message-bg-color);\n    /*transition: opacity var(--wui-transition-duration),transform .4s,top .4s;*/\n    /*padding: var(--wui-message-padding);*/\n    display: flex;\n    align-items: center;\n}\n\n/*.wui-message--success */\n.wui-message__content {\n    color: var(--wui-message-text-color);\n    font-size: 14px;\n    line-height: 18px;\n    margin: 10px 14px 10px 14px;\n    overflow-wrap: break-word;\n}\n\n.wui-message__closeBtn {\n    /*cursor: pointer;*/\n    font-style: normal;\n    /*color: gray;*/\n    padding-right: 14px;\n    /*font-size: 13px;*/\n    user-select: none;\n\n    background: transparent;\n    border: none;\n    color: gray;\n    cursor: pointer;\n    font-size: 13px;\n    font-weight: 400;\n    line-height: 1;\n    outline: none;\n    /*padding: 4px;*/\n    text-align: center;\n    transition: opacity .3s;\n    /*width: 100%;*/\n}",
       "_esm": "function closeMsg(msgDom) {\n  if (!msgDom) {\n    return;\n  }\n  msgDom.setAttribute('data-state', 'exiting');\n  msgDom.remove();\n}\n\nfunction createMsg(options) {\n  const {message, msg_id, type = 'info', show_close = false} = options;\n  const msgDom = document.createElement('div');\n  msgDom.className += ` wui-message--${type} wui-message`;\n  msgDom.setAttribute('data-state', 'entered');\n  msgDom.setAttribute('id', msg_id);\n  const msgContent = document.createElement('p');\n  msgContent.className += ` wui-message--${type} wui-message__content`;\n  msgContent.innerText = message;\n  msgDom.appendChild(msgContent);\n  if (show_close) {\n    const closeBtn = document.createElement('i');\n    closeBtn.className += 'wui-message__closeBtn';\n    closeBtn.innerText = 'x';\n    closeBtn.addEventListener('click', (ev) => {\n      closeMsg(msgDom);\n    })\n    msgDom.appendChild(closeBtn);\n  }\n  return msgDom;\n}\n\nexport async function render(view) {\n  let model = view.model;\n  const msgRoot = view.el;\n  msgRoot.className += ' wui-message-root'\n\n  const msgContainer = document.createElement('div');\n  msgContainer.className += ' wui-message-container';\n  msgRoot.appendChild(msgContainer)\n\n  model.on(\"change:message_options\", () => {\n    const options = model.get(\"message_options\");\n    const msg = createMsg(options);\n    msgContainer.appendChild(msg);\n    const {duration = 3000} = options;\n    if (duration > 0) {\n      setTimeout(() => {\n        closeMsg(msg)\n      }, duration);\n    }\n  })\n\n  model.on(\"change:close_msg_id\", () => {\n    const msg_id = model.get(\"close_msg_id\");\n    const msgDom = document.getElementById(msg_id);\n    closeMsg(msgDom);\n  })\n}\n",
       "_model_module": "anywidget",
       "_model_module_version": "0.9.3",
       "_model_name": "AnyModel",
       "_view_module": "anywidget",
       "_view_module_version": "0.9.3",
       "_view_name": "AnyView",
       "close_msg_id": "",
       "layout": "IPY_MODEL_31dc4bdef76c465291fb67ef3d687028",
       "message_options": {
        "duration": 3000,
        "message": "",
        "show_close": false,
        "type": "info"
       }
      }
     },
     "fbb4346e0561407888b7f503ac5b1160": {
      "model_module": "@jupyter-widgets/base",
      "model_module_version": "2.0.0",
      "model_name": "LayoutModel",
      "state": {}
     }
    },
    "version_major": 2,
    "version_minor": 0
   }
  }
 },
 "nbformat": 4,
 "nbformat_minor": 5
}
