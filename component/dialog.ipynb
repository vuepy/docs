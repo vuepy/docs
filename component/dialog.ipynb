{
 "cells": [
  {
   "cell_type": "markdown",
   "id": "a1e2fa29-7566-4426-be1e-a750658d83a5",
   "metadata": {},
   "source": [
    "# Dialog 对话框\n",
    "\n",
    "在保留当前页面状态的情况下，告知用户并承载相关操作。"
   ]
  },
  {
   "cell_type": "markdown",
   "id": "cb4fc10a-d3d9-48f2-b51b-021e07847da9",
   "metadata": {},
   "source": [
    "## 基本用法\n",
    "\n",
    "Dialog 弹出一个对话框，适合需要定制性更大的场景。  \n",
    "需要设置 `v-model` 属性，它接收 `bool`，当为 `True` 时显示 `Dialog`。 `Dialog` 分为两个部分：`body` 和 `footer`，`footer` 需要具名为 `footer` 的 slot。 `title` 属性用于定义标题，它是可选的，默认值为空。 \n",
    "\n",
    "::: tip\n",
    "`Dialog` 需要放在最外层才能正确显示！\n",
    ":::"
   ]
  },
  {
   "cell_type": "code",
   "execution_count": 1,
   "id": "5c878f24-18cc-4b02-952f-286774c42519",
   "metadata": {},
   "outputs": [
    {
     "name": "stdout",
     "output_type": "stream",
     "text": [
      "{\"vue\": \"<template>\\n  <Button label=\\\"show dialog\\\" type='info' @click=\\\"show_dialog()\\\"></Button>\\n  <Label value=\\\"Placeholder\\\" style=\\\"height: 200px\\\"></Label>\\n  <Dialog title=\\\"Shipping address\\\" v-model=\\\"is_show.value\\\" width=\\\"45%\\\">\\n    <template>\\n      <Input label=\\\"name\\\"></Input>\\n    </template>\\n    <template v-slot:footer>\\n      <HBox>\\n        <Button label=\\\"Cancel\\\" type=\\\"warning\\\" @click=\\\"close_dialog()\\\"></Button>\\n        <Button label=\\\"Ok\\\" type=\\\"info\\\" @click=\\\"close_dialog()\\\"></Button>\\n      </HBox>\\n    </template>\\n  </Dialog>\\n</template>\\n\\n<script src=\\\"./basic_setup.py\\\"></script>\\n<script setup>\\nimport Dialog from \\\"../../../src/ipywui/components/Dialog\\\";\\nimport Button from \\\"../../../src/ipywui/components/Button\\\";\\nimport Label from \\\"../../../src/ipywui/components/Label\\\";\\nimport Input from \\\"../../../src/ipywui/components/Input\\\";\\nimport HBox from \\\"../../../src/ipywui/components/HBox\\\";\\n</script>\", \"setup\": \"from vuepy import ref\\n\\n\\ndef setup(props, ctx, vm):\\n    is_show = ref(True)\\n\\n    def show_dialog():\\n        is_show.value = True\\n\\n    def close_dialog():\\n        is_show.value = False\\n\\n    return locals()\\n\"}\n"
     ]
    },
    {
     "data": {
      "application/vnd.jupyter.widget-view+json": {
       "model_id": "3b94f15f154f449dad500615949837c1",
       "version_major": 2,
       "version_minor": 0
      },
      "text/plain": [
       "Document(children=(Dom(children=(MessageWidget(message_options={'message': '', 'type': 'info', 'show_close': F…"
      ]
     },
     "execution_count": 1,
     "metadata": {},
     "output_type": "execute_result"
    }
   ],
   "source": [
    "import os\n",
    "import pathlib\n",
    "from vuepy.utils import magic\n",
    "\n",
    "\n",
    "cur_path = pathlib.Path()\n",
    "source_root = cur_path.absolute().parent.parent.parent\n",
    "os.chdir(source_root / 'examples' / 'ipywui' / 'dialog')\n",
    "\n",
    "\n",
    "%vuepy_demo basic.vue"
   ]
  },
  {
   "cell_type": "markdown",
   "id": "e9bc5ea6-5915-4182-91fa-8cf0bbb390e6",
   "metadata": {},
   "source": [
    "## 打开/关闭对话框事件"
   ]
  },
  {
   "cell_type": "code",
   "execution_count": 2,
   "id": "7250ac4c-ce07-4038-803e-4e281635837a",
   "metadata": {},
   "outputs": [
    {
     "name": "stdout",
     "output_type": "stream",
     "text": [
      "{\"vue\": \"<template>\\n  <Button label=\\\"show dialog\\\" type='info' @click=\\\"show_dialog()\\\"></Button>\\n  <Label :value=\\\"state.value\\\" style=\\\"height: 200px\\\"></Label>\\n  <Dialog title=\\\"Shipping address\\\" v-model=\\\"is_show.value\\\" width=\\\"45%\\\"\\n          @close=\\\"handle_close()\\\"\\n          @open=\\\"handle_open()\\\"\\n  >\\n    <template>\\n      <Input label=\\\"name\\\"></Input>\\n    </template>\\n    <template v-slot:footer>\\n      <HBox>\\n        <Button label=\\\"Cancel\\\" type=\\\"warning\\\" @click=\\\"close_dialog()\\\"></Button>\\n        <Button label=\\\"Ok\\\" type=\\\"info\\\" @click=\\\"close_dialog()\\\"></Button>\\n      </HBox>\\n    </template>\\n  </Dialog>\\n</template>\\n\\n<script src=\\\"./events_setup.py\\\"></script>\\n<script setup>\\nimport Dialog from \\\"../../../src/ipywui/components/Dialog\\\";\\nimport Button from \\\"../../../src/ipywui/components/Button\\\";\\nimport Label from \\\"../../../src/ipywui/components/Label\\\";\\nimport Input from \\\"../../../src/ipywui/components/Input\\\";\\nimport HBox from \\\"../../../src/ipywui/components/HBox\\\";\\n</script>\", \"setup\": \"from vuepy import ref\\n\\n\\ndef setup(props, ctx, vm):\\n    is_show = ref(False)\\n\\n    state = ref(\\\"-\\\")\\n\\n    def show_dialog():\\n        is_show.value = True\\n\\n    def close_dialog():\\n        is_show.value = False\\n\\n    def handle_open():\\n        state.value = 'open'\\n\\n    def handle_close():\\n        state.value = 'close'\\n\\n    return locals()\\n\"}\n"
     ]
    },
    {
     "data": {
      "application/vnd.jupyter.widget-view+json": {
       "model_id": "2d4be69c33e04d2bb7ac612eccc83455",
       "version_major": 2,
       "version_minor": 0
      },
      "text/plain": [
       "Document(children=(Dom(children=(MessageWidget(message_options={'message': '', 'type': 'info', 'show_close': F…"
      ]
     },
     "execution_count": 2,
     "metadata": {},
     "output_type": "execute_result"
    }
   ],
   "source": [
    "%vuepy_demo events.vue"
   ]
  },
  {
   "cell_type": "markdown",
   "id": "8685d144-029f-4afa-8547-4f3d84529504",
   "metadata": {},
   "source": [
    "## API\n",
    "\n",
    "### Attributes\n",
    "\n",
    "| Name                       | Description                                    | Type                                | Default |\n",
    "| -------------------------- | -----------------------------------------------| ----------------------------------- | ------- |\n",
    "| model-value / v-model      | 是否显示 Dialog                                 | ^[boolean]                          | —       |\n",
    "| title                      | Dialog 对话框 Dialog 的标题                      | ^[string]                           | ''      |\n",
    "| width                      | 对话框的宽度，默认值为 50%                        | ^[string] / ^[number]               | ''      |\n",
    "\n",
    "### Slots\n",
    "\n",
    "| Name                | Description            |\n",
    "| ------------------- | -----------------------|\n",
    "| —                   | Dialog 的内容           |\n",
    "| footer              | Dialog按钮操作区的内容    |\n",
    "\n",
    "\n",
    "### Events\n",
    "\n",
    "| Name             | Description                | Type                    |\n",
    "| ---------------- | ---------------------------| ----------------------- |\n",
    "| open             | Dialog 打开的回调\t        | ^[Function]`() => void` |\n",
    "| close            | Dialog 关闭的回调\t        | ^[Function]`() => void` |"
   ]
  }
 ],
 "metadata": {
  "kernelspec": {
   "display_name": "Python 3 (ipykernel)",
   "language": "python",
   "name": "python3"
  },
  "language_info": {
   "codemirror_mode": {
    "name": "ipython",
    "version": 3
   },
   "file_extension": ".py",
   "mimetype": "text/x-python",
   "name": "python",
   "nbconvert_exporter": "python",
   "pygments_lexer": "ipython3",
   "version": "3.10.12"
  },
  "widgets": {
   "application/vnd.jupyter.widget-state+json": {
    "state": {
     "0460a79a0bfd4994b47e73743a373c69": {
      "model_module": "@jupyter-widgets/base",
      "model_module_version": "2.0.0",
      "model_name": "LayoutModel",
      "state": {}
     },
     "0d9c85455d2b487cbc2bbedc867d45d0": {
      "model_module": "@jupyter-widgets/base",
      "model_module_version": "2.0.0",
      "model_name": "LayoutModel",
      "state": {
       "height": "200px"
      }
     },
     "12f2be2080d24259b073626f7c8e3572": {
      "model_module": "@jupyter-widgets/controls",
      "model_module_version": "2.0.0",
      "model_name": "LabelModel",
      "state": {
       "layout": "IPY_MODEL_0d9c85455d2b487cbc2bbedc867d45d0",
       "style": "IPY_MODEL_ddd50e6c8da8451bb8f6e964384f1d1a",
       "value": "Placeholder"
      }
     },
     "14c8cf4110024772905c9864ee0350f4": {
      "model_module": "@jupyter-widgets/controls",
      "model_module_version": "2.0.0",
      "model_name": "ButtonModel",
      "state": {
       "button_style": "info",
       "description": "show dialog",
       "layout": "IPY_MODEL_e3d766ffc8884975bca0fbff37b35f7e",
       "style": "IPY_MODEL_20778e93db4748f08ff159f4f770bf3e",
       "tooltip": null
      }
     },
     "1601967af7ce4a81933116e85339bab7": {
      "model_module": "@jupyter-widgets/base",
      "model_module_version": "2.0.0",
      "model_name": "LayoutModel",
      "state": {}
     },
     "17362e96150944af84339078293943db": {
      "model_module": "@jupyter-widgets/base",
      "model_module_version": "2.0.0",
      "model_name": "LayoutModel",
      "state": {}
     },
     "1e294f467eae470b829d5dc9c6f60755": {
      "model_module": "@jupyter-widgets/controls",
      "model_module_version": "2.0.0",
      "model_name": "ButtonModel",
      "state": {
       "button_style": "info",
       "description": "show dialog",
       "layout": "IPY_MODEL_74cbae74d7ac4aa893cd639ad35f464c",
       "style": "IPY_MODEL_b233d033b2c64fd69a69a3881de7c1af",
       "tooltip": null
      }
     },
     "1e54b70aa0c742c38f18bbe9531901a6": {
      "model_module": "@jupyter-widgets/controls",
      "model_module_version": "2.0.0",
      "model_name": "HBoxModel",
      "state": {
       "children": [
        "IPY_MODEL_2ff69c7d8e9c4f70b28bcf1ed98c62e2",
        "IPY_MODEL_6243102cb9e649489b04916cd3fe7d13"
       ],
       "layout": "IPY_MODEL_0460a79a0bfd4994b47e73743a373c69"
      }
     },
     "1fb9d1b42ccd4a138b8701e107453478": {
      "model_module": "@jupyter-widgets/base",
      "model_module_version": "2.0.0",
      "model_name": "LayoutModel",
      "state": {}
     },
     "20778e93db4748f08ff159f4f770bf3e": {
      "model_module": "@jupyter-widgets/controls",
      "model_module_version": "2.0.0",
      "model_name": "ButtonStyleModel",
      "state": {
       "font_family": null,
       "font_size": null,
       "font_style": null,
       "font_variant": null,
       "font_weight": null,
       "text_color": null,
       "text_decoration": null
      }
     },
     "215d4dd7a3bf4be780a9eeef110d19e0": {
      "model_module": "@jupyter-widgets/controls",
      "model_module_version": "2.0.0",
      "model_name": "VBoxModel",
      "state": {
       "children": [
        "IPY_MODEL_2b36d9a9ac644564834c3e2ebd2fc496",
        "IPY_MODEL_461940e081bd4d518cdf740dde18ee49"
       ],
       "layout": "IPY_MODEL_21a5da1a21284901918ab95868dde6e0"
      }
     },
     "21a5da1a21284901918ab95868dde6e0": {
      "model_module": "@jupyter-widgets/base",
      "model_module_version": "2.0.0",
      "model_name": "LayoutModel",
      "state": {}
     },
     "2429e5cf77d44bf7b82ffa826c04874f": {
      "model_module": "anywidget",
      "model_module_version": "0.9.3",
      "model_name": "AnyModel",
      "state": {
       "_anywidget_id": "ipywui.widgets.custom.message.MessageWidget",
       "_css": ".wui-message-root {\n    display: flex;\n    position: absolute;\n    left: 0;\n    right: 0;\n    top: 0;\n}\n\n.wui-message-container {\n    align-items: center;\n    display: flex;\n    flex-direction: column-reverse;\n    justify-content: center;\n    min-height: 100%;\n    outline: none;\n    width: 100%;\n\n    -webkit-tap-highlight-color: rgba(0,0,0,0);\n    bottom: 0;\n    left: 0;\n    right: 0;\n    top: 0;\n}\n\n.wui-message--success {\n    --wui-message-bg-color: #f0f9eb;\n    --wui-message-border-color: #e1f3d8;\n    --wui-message-text-color: #67c23a;\n}\n.wui-message--warning {\n    --wui-message-bg-color: #fdf6ec;\n    --wui-message-border-color: #faecd8;\n    --wui-message-text-color: #e6a23c;\n}\n.wui-message--info {\n    --wui-message-bg-color: #f4f4f5;\n    --wui-message-border-color: #e9e9eb;\n    --wui-message-text-color: #909399;\n}\n.wui-message--error {\n    --wui-message-bg-color: #fef0f0;\n    --wui-message-border-color: #fde2e2;\n    --wui-message-text-color: #f56c6c;\n}\n\n@keyframes msg-open {\n    0% {\n        opacity: 0;\n        -webkit-transform: translateY(-120%);\n        transform: translateY(-120%)\n    }\n    to {\n        -webkit-transform: translateY(0);\n        transform: translateY(0)\n    }\n}\n\n@keyframes msg-close {\n    0% {\n        opacity: 1;\n        -webkit-transform: scale(1);\n        transform: scale(1)\n    }\n    to {\n        opacity: 0;\n        -webkit-transform: scale(.9);\n        transform: scale(.9)\n    }\n}\n.wui-message[data-state=entered],.wui-message[data-state=entering] {\n    -webkit-animation: msg-open .24s cubic-bezier(.175,.885,.32,1.175) both;\n    animation: msg-open .24s cubic-bezier(.175,.885,.32,1.175) both\n}\n\n.wui-message[data-state=exiting] {\n    -webkit-animation: msg-close .12s cubic-bezier(.4,0,1,1) both;\n    animation: msg-close .12s cubic-bezier(.4,0,1,1) both\n}\n\n.wui-message {\n    width: -webkit-fit-content;\n    width: -moz-fit-content;\n    width: fit-content;\n    z-index: 2004;\n    max-width: calc(100% - 32px);\n    margin-top: 8px;\n    box-sizing: border-box;\n    /*border-radius: var(--wui-border-radius-base);*/\n    /*border-width: var(--wui-border-width);*/\n    /*border-style: var(--wui-border-style);*/\n    border-color: var(--wui-message-border-color);\n    /*left: 50%;*/\n    /*top: 20px;*/\n    /*transform: translateX(-50%);*/\n    background-color: var(--wui-message-bg-color);\n    /*transition: opacity var(--wui-transition-duration),transform .4s,top .4s;*/\n    /*padding: var(--wui-message-padding);*/\n    display: flex;\n    align-items: center;\n}\n\n/*.wui-message--success */\n.wui-message__content {\n    color: var(--wui-message-text-color);\n    font-size: 14px;\n    line-height: 18px;\n    margin: 10px 14px 10px 14px;\n    overflow-wrap: break-word;\n}\n\n.wui-message__closeBtn {\n    /*cursor: pointer;*/\n    font-style: normal;\n    /*color: gray;*/\n    padding-right: 14px;\n    /*font-size: 13px;*/\n    user-select: none;\n\n    background: transparent;\n    border: none;\n    color: gray;\n    cursor: pointer;\n    font-size: 13px;\n    font-weight: 400;\n    line-height: 1;\n    outline: none;\n    /*padding: 4px;*/\n    text-align: center;\n    transition: opacity .3s;\n    /*width: 100%;*/\n}",
       "_esm": "function closeMsg(msgDom) {\n  if (!msgDom) {\n    return;\n  }\n  msgDom.setAttribute('data-state', 'exiting');\n  msgDom.remove();\n}\n\nfunction createMsg(options) {\n  const {message, msg_id, type = 'info', show_close = false} = options;\n  const msgDom = document.createElement('div');\n  msgDom.className += ` wui-message--${type} wui-message`;\n  msgDom.setAttribute('data-state', 'entered');\n  msgDom.setAttribute('id', msg_id);\n  const msgContent = document.createElement('p');\n  msgContent.className += ` wui-message--${type} wui-message__content`;\n  msgContent.innerText = message;\n  msgDom.appendChild(msgContent);\n  if (show_close) {\n    const closeBtn = document.createElement('i');\n    closeBtn.className += 'wui-message__closeBtn';\n    closeBtn.innerText = 'x';\n    closeBtn.addEventListener('click', (ev) => {\n      closeMsg(msgDom);\n    })\n    msgDom.appendChild(closeBtn);\n  }\n  return msgDom;\n}\n\nexport async function render(view) {\n  let model = view.model;\n  const msgRoot = view.el;\n  msgRoot.className += ' wui-message-root'\n\n  const msgContainer = document.createElement('div');\n  msgContainer.className += ' wui-message-container';\n  msgRoot.appendChild(msgContainer)\n\n  model.on(\"change:message_options\", () => {\n    const options = model.get(\"message_options\");\n    const msg = createMsg(options);\n    msgContainer.appendChild(msg);\n    const {duration = 3000} = options;\n    if (duration > 0) {\n      setTimeout(() => {\n        closeMsg(msg)\n      }, duration);\n    }\n  })\n\n  model.on(\"change:close_msg_id\", () => {\n    const msg_id = model.get(\"close_msg_id\");\n    const msgDom = document.getElementById(msg_id);\n    closeMsg(msgDom);\n  })\n}\n",
       "_model_module": "anywidget",
       "_model_module_version": "0.9.3",
       "_model_name": "AnyModel",
       "_view_module": "anywidget",
       "_view_module_version": "0.9.3",
       "_view_name": "AnyView",
       "close_msg_id": "",
       "layout": "IPY_MODEL_8e5f7e6528b048a096ca5eac462196fc",
       "message_options": {
        "duration": 3000,
        "message": "",
        "show_close": false,
        "type": "info"
       }
      }
     },
     "2b36d9a9ac644564834c3e2ebd2fc496": {
      "model_module": "anywidget",
      "model_module_version": "0.9.3",
      "model_name": "AnyModel",
      "state": {
       "_anywidget_id": "ipywui.widgets.custom.message.MessageWidget",
       "_css": ".wui-message-root {\n    display: flex;\n    position: absolute;\n    left: 0;\n    right: 0;\n    top: 0;\n}\n\n.wui-message-container {\n    align-items: center;\n    display: flex;\n    flex-direction: column-reverse;\n    justify-content: center;\n    min-height: 100%;\n    outline: none;\n    width: 100%;\n\n    -webkit-tap-highlight-color: rgba(0,0,0,0);\n    bottom: 0;\n    left: 0;\n    right: 0;\n    top: 0;\n}\n\n.wui-message--success {\n    --wui-message-bg-color: #f0f9eb;\n    --wui-message-border-color: #e1f3d8;\n    --wui-message-text-color: #67c23a;\n}\n.wui-message--warning {\n    --wui-message-bg-color: #fdf6ec;\n    --wui-message-border-color: #faecd8;\n    --wui-message-text-color: #e6a23c;\n}\n.wui-message--info {\n    --wui-message-bg-color: #f4f4f5;\n    --wui-message-border-color: #e9e9eb;\n    --wui-message-text-color: #909399;\n}\n.wui-message--error {\n    --wui-message-bg-color: #fef0f0;\n    --wui-message-border-color: #fde2e2;\n    --wui-message-text-color: #f56c6c;\n}\n\n@keyframes msg-open {\n    0% {\n        opacity: 0;\n        -webkit-transform: translateY(-120%);\n        transform: translateY(-120%)\n    }\n    to {\n        -webkit-transform: translateY(0);\n        transform: translateY(0)\n    }\n}\n\n@keyframes msg-close {\n    0% {\n        opacity: 1;\n        -webkit-transform: scale(1);\n        transform: scale(1)\n    }\n    to {\n        opacity: 0;\n        -webkit-transform: scale(.9);\n        transform: scale(.9)\n    }\n}\n.wui-message[data-state=entered],.wui-message[data-state=entering] {\n    -webkit-animation: msg-open .24s cubic-bezier(.175,.885,.32,1.175) both;\n    animation: msg-open .24s cubic-bezier(.175,.885,.32,1.175) both\n}\n\n.wui-message[data-state=exiting] {\n    -webkit-animation: msg-close .12s cubic-bezier(.4,0,1,1) both;\n    animation: msg-close .12s cubic-bezier(.4,0,1,1) both\n}\n\n.wui-message {\n    width: -webkit-fit-content;\n    width: -moz-fit-content;\n    width: fit-content;\n    z-index: 2004;\n    max-width: calc(100% - 32px);\n    margin-top: 8px;\n    box-sizing: border-box;\n    /*border-radius: var(--wui-border-radius-base);*/\n    /*border-width: var(--wui-border-width);*/\n    /*border-style: var(--wui-border-style);*/\n    border-color: var(--wui-message-border-color);\n    /*left: 50%;*/\n    /*top: 20px;*/\n    /*transform: translateX(-50%);*/\n    background-color: var(--wui-message-bg-color);\n    /*transition: opacity var(--wui-transition-duration),transform .4s,top .4s;*/\n    /*padding: var(--wui-message-padding);*/\n    display: flex;\n    align-items: center;\n}\n\n/*.wui-message--success */\n.wui-message__content {\n    color: var(--wui-message-text-color);\n    font-size: 14px;\n    line-height: 18px;\n    margin: 10px 14px 10px 14px;\n    overflow-wrap: break-word;\n}\n\n.wui-message__closeBtn {\n    /*cursor: pointer;*/\n    font-style: normal;\n    /*color: gray;*/\n    padding-right: 14px;\n    /*font-size: 13px;*/\n    user-select: none;\n\n    background: transparent;\n    border: none;\n    color: gray;\n    cursor: pointer;\n    font-size: 13px;\n    font-weight: 400;\n    line-height: 1;\n    outline: none;\n    /*padding: 4px;*/\n    text-align: center;\n    transition: opacity .3s;\n    /*width: 100%;*/\n}",
       "_esm": "function closeMsg(msgDom) {\n  if (!msgDom) {\n    return;\n  }\n  msgDom.setAttribute('data-state', 'exiting');\n  msgDom.remove();\n}\n\nfunction createMsg(options) {\n  const {message, msg_id, type = 'info', show_close = false} = options;\n  const msgDom = document.createElement('div');\n  msgDom.className += ` wui-message--${type} wui-message`;\n  msgDom.setAttribute('data-state', 'entered');\n  msgDom.setAttribute('id', msg_id);\n  const msgContent = document.createElement('p');\n  msgContent.className += ` wui-message--${type} wui-message__content`;\n  msgContent.innerText = message;\n  msgDom.appendChild(msgContent);\n  if (show_close) {\n    const closeBtn = document.createElement('i');\n    closeBtn.className += 'wui-message__closeBtn';\n    closeBtn.innerText = 'x';\n    closeBtn.addEventListener('click', (ev) => {\n      closeMsg(msgDom);\n    })\n    msgDom.appendChild(closeBtn);\n  }\n  return msgDom;\n}\n\nexport async function render(view) {\n  let model = view.model;\n  const msgRoot = view.el;\n  msgRoot.className += ' wui-message-root'\n\n  const msgContainer = document.createElement('div');\n  msgContainer.className += ' wui-message-container';\n  msgRoot.appendChild(msgContainer)\n\n  model.on(\"change:message_options\", () => {\n    const options = model.get(\"message_options\");\n    const msg = createMsg(options);\n    msgContainer.appendChild(msg);\n    const {duration = 3000} = options;\n    if (duration > 0) {\n      setTimeout(() => {\n        closeMsg(msg)\n      }, duration);\n    }\n  })\n\n  model.on(\"change:close_msg_id\", () => {\n    const msg_id = model.get(\"close_msg_id\");\n    const msgDom = document.getElementById(msg_id);\n    closeMsg(msgDom);\n  })\n}\n",
       "_model_module": "anywidget",
       "_model_module_version": "0.9.3",
       "_model_name": "AnyModel",
       "_view_module": "anywidget",
       "_view_module_version": "0.9.3",
       "_view_name": "AnyView",
       "close_msg_id": "",
       "layout": "IPY_MODEL_c659d7442c194eb0bdb9fa49f4c4279e",
       "message_options": {
        "duration": 3000,
        "message": "",
        "show_close": false,
        "type": "info"
       }
      }
     },
     "2c616d735952490a8125c3f6059a37fc": {
      "model_module": "@jupyter-widgets/base",
      "model_module_version": "2.0.0",
      "model_name": "LayoutModel",
      "state": {}
     },
     "2d4be69c33e04d2bb7ac612eccc83455": {
      "model_module": "@jupyter-widgets/controls",
      "model_module_version": "2.0.0",
      "model_name": "VBoxModel",
      "state": {
       "children": [
        "IPY_MODEL_8d8fc901410a4ffcb9d142e8a265a3f5"
       ],
       "layout": "IPY_MODEL_c8d2f76595664367baef2521c07f77c7"
      }
     },
     "2e2ad5ee69c24fceabf9c3986c7881cf": {
      "model_module": "@jupyter-widgets/controls",
      "model_module_version": "2.0.0",
      "model_name": "TextModel",
      "state": {
       "continuous_update": false,
       "description": "name",
       "layout": "IPY_MODEL_fab7a9941b05485ca2b5a778403e0970",
       "style": "IPY_MODEL_5282db3b321b4111952499d815650548"
      }
     },
     "2ff69c7d8e9c4f70b28bcf1ed98c62e2": {
      "model_module": "@jupyter-widgets/controls",
      "model_module_version": "2.0.0",
      "model_name": "ButtonModel",
      "state": {
       "button_style": "warning",
       "description": "Cancel",
       "layout": "IPY_MODEL_1fb9d1b42ccd4a138b8701e107453478",
       "style": "IPY_MODEL_704a7f0f07454e9087230bbff1b9abf2",
       "tooltip": null
      }
     },
     "34ed95a643e340ce9ca86e8e0707756c": {
      "model_module": "@jupyter-widgets/base",
      "model_module_version": "2.0.0",
      "model_name": "LayoutModel",
      "state": {}
     },
     "3807b8fafdd644bca203d85a87c2a94c": {
      "model_module": "@jupyter-widgets/controls",
      "model_module_version": "2.0.0",
      "model_name": "ButtonModel",
      "state": {
       "button_style": "warning",
       "description": "Cancel",
       "layout": "IPY_MODEL_3a4725c93b13472d8fa35d943c8619e1",
       "style": "IPY_MODEL_9e7a28070e214901a4d8be3a48aae736",
       "tooltip": null
      }
     },
     "39d8d097424e4dc48a122ee67d6fc7ce": {
      "model_module": "@jupyter-widgets/controls",
      "model_module_version": "2.0.0",
      "model_name": "LabelModel",
      "state": {
       "layout": "IPY_MODEL_509d2c98efcb45a298779add4f8b53d3",
       "style": "IPY_MODEL_e7a538f827b34a6fbf7464cdde4d3064",
       "value": "-"
      }
     },
     "3a4725c93b13472d8fa35d943c8619e1": {
      "model_module": "@jupyter-widgets/base",
      "model_module_version": "2.0.0",
      "model_name": "LayoutModel",
      "state": {}
     },
     "3b12fd037cf849529e27ce8a4379e4be": {
      "model_module": "@jupyter-widgets/controls",
      "model_module_version": "2.0.0",
      "model_name": "VBoxModel",
      "state": {
       "children": [
        "IPY_MODEL_14c8cf4110024772905c9864ee0350f4",
        "IPY_MODEL_39d8d097424e4dc48a122ee67d6fc7ce",
        "IPY_MODEL_cd31418ecc734425be0a746c2934e5d1"
       ],
       "layout": "IPY_MODEL_2c616d735952490a8125c3f6059a37fc"
      }
     },
     "3b5113351bce4dc2b9fb34eceef218eb": {
      "model_module": "@jupyter-widgets/base",
      "model_module_version": "2.0.0",
      "model_name": "LayoutModel",
      "state": {}
     },
     "3b94f15f154f449dad500615949837c1": {
      "model_module": "@jupyter-widgets/controls",
      "model_module_version": "2.0.0",
      "model_name": "VBoxModel",
      "state": {
       "children": [
        "IPY_MODEL_215d4dd7a3bf4be780a9eeef110d19e0"
       ],
       "layout": "IPY_MODEL_d08c7701c69c4ef898c002ec69ea01ac"
      }
     },
     "3e43b898c6b44fbdb6506b9adce842e1": {
      "model_module": "@jupyter-widgets/controls",
      "model_module_version": "2.0.0",
      "model_name": "VBoxModel",
      "state": {
       "children": [
        "IPY_MODEL_2e2ad5ee69c24fceabf9c3986c7881cf"
       ],
       "layout": "IPY_MODEL_ef30cfb37e504f2fbbd37f5786269325"
      }
     },
     "43a3a2ea5d4c4650a65578d3b6c1c379": {
      "model_module": "@jupyter-widgets/controls",
      "model_module_version": "2.0.0",
      "model_name": "ButtonModel",
      "state": {
       "button_style": "info",
       "description": "Ok",
       "layout": "IPY_MODEL_70a5c8f9e56b45f9a36701504e89cf3e",
       "style": "IPY_MODEL_7692cacbc78246b898c4f224148a3650",
       "tooltip": null
      }
     },
     "461940e081bd4d518cdf740dde18ee49": {
      "model_module": "@jupyter-widgets/output",
      "model_module_version": "1.0.0",
      "model_name": "OutputModel",
      "state": {
       "layout": "IPY_MODEL_34ed95a643e340ce9ca86e8e0707756c",
       "outputs": [
        {
         "data": {
          "application/vnd.jupyter.widget-view+json": {
           "model_id": "7d528787e1cf49b495d87348d7ffcd4c",
           "version_major": 2,
           "version_minor": 0
          },
          "text/plain": "VBox(children=(Button(button_style='info', description='show dialog', style=ButtonStyle()), Label(value='Place…"
         },
         "metadata": {},
         "output_type": "display_data"
        }
       ]
      }
     },
     "509d2c98efcb45a298779add4f8b53d3": {
      "model_module": "@jupyter-widgets/base",
      "model_module_version": "2.0.0",
      "model_name": "LayoutModel",
      "state": {
       "height": "200px"
      }
     },
     "5282db3b321b4111952499d815650548": {
      "model_module": "@jupyter-widgets/controls",
      "model_module_version": "2.0.0",
      "model_name": "TextStyleModel",
      "state": {
       "description_width": "",
       "font_size": null,
       "text_color": null
      }
     },
     "52ab9492d9d54ae8b0d40f93204bec65": {
      "model_module": "@jupyter-widgets/base",
      "model_module_version": "2.0.0",
      "model_name": "LayoutModel",
      "state": {}
     },
     "53693b1c6794440a92ff18a3cef0f4f1": {
      "model_module": "@jupyter-widgets/output",
      "model_module_version": "1.0.0",
      "model_name": "OutputModel",
      "state": {
       "layout": "IPY_MODEL_67191f4b5cab43748274bff884bfc39b",
       "outputs": [
        {
         "data": {
          "application/vnd.jupyter.widget-view+json": {
           "model_id": "3b12fd037cf849529e27ce8a4379e4be",
           "version_major": 2,
           "version_minor": 0
          },
          "text/plain": "VBox(children=(Button(button_style='info', description='show dialog', style=ButtonStyle()), Label(value='-', l…"
         },
         "metadata": {},
         "output_type": "display_data"
        }
       ]
      }
     },
     "58000514ff7e4d67974ab53fe51a1895": {
      "model_module": "@jupyter-widgets/base",
      "model_module_version": "2.0.0",
      "model_name": "LayoutModel",
      "state": {}
     },
     "5b45ca6d9736489cbfca4fffb531fde0": {
      "model_module": "@jupyter-widgets/output",
      "model_module_version": "1.0.0",
      "model_name": "OutputModel",
      "state": {
       "layout": "IPY_MODEL_f8ac2cd1c8a34b3bbdb7ff6a682e86fe",
       "outputs": [
        {
         "name": "stdout",
         "output_type": "stream",
         "text": "2024-04-10 23:08:36,067  - [INFO] vue.py:gen:784 - v-on open handle_open()\n"
        },
        {
         "name": "stdout",
         "output_type": "stream",
         "text": "2024-04-10 23:08:36,067  - [INFO] vue.py:gen:784 - v-on close handle_close()\n"
        },
        {
         "name": "stdout",
         "output_type": "stream",
         "text": "2024-04-10 23:08:36,066  - [INFO] vue.py:parse:623 - open, handle_open()\n"
        },
        {
         "name": "stdout",
         "output_type": "stream",
         "text": "2024-04-10 23:08:36,066  - [INFO] vue.py:parse:623 - close, handle_close()\n"
        },
        {
         "name": "stdout",
         "output_type": "stream",
         "text": "2024-04-10 23:08:36,065  - [INFO] vue.py:gen:784 - v-on click close_dialog()\n"
        },
        {
         "name": "stdout",
         "output_type": "stream",
         "text": "2024-04-10 23:08:36,064  - [INFO] vue.py:parse:623 - click, close_dialog()\n"
        },
        {
         "name": "stdout",
         "output_type": "stream",
         "text": "2024-04-10 23:08:36,064  - [INFO] vue.py:gen:784 - v-on click close_dialog()\n"
        },
        {
         "name": "stdout",
         "output_type": "stream",
         "text": "2024-04-10 23:08:36,063  - [INFO] vue.py:parse:623 - click, close_dialog()\n"
        },
        {
         "name": "stdout",
         "output_type": "stream",
         "text": "2024-04-10 23:08:36,062  - [INFO] vue.py:gen:784 - v-on click show_dialog()\n"
        },
        {
         "name": "stdout",
         "output_type": "stream",
         "text": "2024-04-10 23:08:36,061  - [INFO] vue.py:parse:623 - click, show_dialog()\n"
        },
        {
         "name": "stdout",
         "output_type": "stream",
         "text": "2024-04-10 23:08:36,047  - [INFO] vue.py:gen:784 - v-on click close_dialog()\n"
        },
        {
         "name": "stdout",
         "output_type": "stream",
         "text": "2024-04-10 23:08:36,047  - [INFO] vue.py:parse:623 - click, close_dialog()\n"
        },
        {
         "name": "stdout",
         "output_type": "stream",
         "text": "2024-04-10 23:08:36,047  - [INFO] vue.py:gen:784 - v-on click close_dialog()\n"
        },
        {
         "name": "stdout",
         "output_type": "stream",
         "text": "2024-04-10 23:08:36,046  - [INFO] vue.py:parse:623 - click, close_dialog()\n"
        },
        {
         "name": "stdout",
         "output_type": "stream",
         "text": "2024-04-10 23:08:36,044  - [INFO] vue.py:gen:784 - v-on click show_dialog()\n"
        },
        {
         "name": "stdout",
         "output_type": "stream",
         "text": "2024-04-10 23:08:36,043  - [INFO] vue.py:parse:623 - click, show_dialog()\n"
        }
       ]
      }
     },
     "6243102cb9e649489b04916cd3fe7d13": {
      "model_module": "@jupyter-widgets/controls",
      "model_module_version": "2.0.0",
      "model_name": "ButtonModel",
      "state": {
       "button_style": "info",
       "description": "Ok",
       "layout": "IPY_MODEL_a6a45c5e95a8435bbc54dec10923e49e",
       "style": "IPY_MODEL_dca8eb2ac0594de4ae8da1d7b9b01b2f",
       "tooltip": null
      }
     },
     "67191f4b5cab43748274bff884bfc39b": {
      "model_module": "@jupyter-widgets/base",
      "model_module_version": "2.0.0",
      "model_name": "LayoutModel",
      "state": {}
     },
     "6d771b5a5d3c45289aeb1ece90ec1b3b": {
      "model_module": "@jupyter-widgets/controls",
      "model_module_version": "2.0.0",
      "model_name": "TextModel",
      "state": {
       "continuous_update": false,
       "description": "name",
       "layout": "IPY_MODEL_1601967af7ce4a81933116e85339bab7",
       "style": "IPY_MODEL_e6b039f9ebb24f448872f676ef2c2d33"
      }
     },
     "704a7f0f07454e9087230bbff1b9abf2": {
      "model_module": "@jupyter-widgets/controls",
      "model_module_version": "2.0.0",
      "model_name": "ButtonStyleModel",
      "state": {
       "font_family": null,
       "font_size": null,
       "font_style": null,
       "font_variant": null,
       "font_weight": null,
       "text_color": null,
       "text_decoration": null
      }
     },
     "70a5c8f9e56b45f9a36701504e89cf3e": {
      "model_module": "@jupyter-widgets/base",
      "model_module_version": "2.0.0",
      "model_name": "LayoutModel",
      "state": {}
     },
     "73ad03797f694609bb79290e039993fb": {
      "model_module": "@jupyter-widgets/base",
      "model_module_version": "2.0.0",
      "model_name": "LayoutModel",
      "state": {}
     },
     "74cbae74d7ac4aa893cd639ad35f464c": {
      "model_module": "@jupyter-widgets/base",
      "model_module_version": "2.0.0",
      "model_name": "LayoutModel",
      "state": {}
     },
     "7692cacbc78246b898c4f224148a3650": {
      "model_module": "@jupyter-widgets/controls",
      "model_module_version": "2.0.0",
      "model_name": "ButtonStyleModel",
      "state": {
       "font_family": null,
       "font_size": null,
       "font_style": null,
       "font_variant": null,
       "font_weight": null,
       "text_color": null,
       "text_decoration": null
      }
     },
     "7d528787e1cf49b495d87348d7ffcd4c": {
      "model_module": "@jupyter-widgets/controls",
      "model_module_version": "2.0.0",
      "model_name": "VBoxModel",
      "state": {
       "children": [
        "IPY_MODEL_1e294f467eae470b829d5dc9c6f60755",
        "IPY_MODEL_12f2be2080d24259b073626f7c8e3572",
        "IPY_MODEL_e94c7f95a8284541ac85e64e320ee094"
       ],
       "layout": "IPY_MODEL_8e37b79471984e62a0249ea4c3dceb35"
      }
     },
     "7e56726384654e8aa7b6237b9be3a380": {
      "model_module": "@jupyter-widgets/base",
      "model_module_version": "2.0.0",
      "model_name": "LayoutModel",
      "state": {}
     },
     "8d8fc901410a4ffcb9d142e8a265a3f5": {
      "model_module": "@jupyter-widgets/controls",
      "model_module_version": "2.0.0",
      "model_name": "VBoxModel",
      "state": {
       "children": [
        "IPY_MODEL_b90c0365bc0f4e659e8f73ad7a385a38",
        "IPY_MODEL_53693b1c6794440a92ff18a3cef0f4f1"
       ],
       "layout": "IPY_MODEL_3b5113351bce4dc2b9fb34eceef218eb"
      }
     },
     "8e37b79471984e62a0249ea4c3dceb35": {
      "model_module": "@jupyter-widgets/base",
      "model_module_version": "2.0.0",
      "model_name": "LayoutModel",
      "state": {}
     },
     "8e5f7e6528b048a096ca5eac462196fc": {
      "model_module": "@jupyter-widgets/base",
      "model_module_version": "2.0.0",
      "model_name": "LayoutModel",
      "state": {}
     },
     "9b1aeb822f274e64b1d129147bd3a768": {
      "model_module": "@jupyter-widgets/base",
      "model_module_version": "2.0.0",
      "model_name": "LayoutModel",
      "state": {}
     },
     "9bdf89d2903847e0a9591ecadffff0cc": {
      "model_module": "@jupyter-widgets/controls",
      "model_module_version": "2.0.0",
      "model_name": "VBoxModel",
      "state": {
       "children": [
        "IPY_MODEL_6d771b5a5d3c45289aeb1ece90ec1b3b"
       ],
       "layout": "IPY_MODEL_58000514ff7e4d67974ab53fe51a1895"
      }
     },
     "9e7a28070e214901a4d8be3a48aae736": {
      "model_module": "@jupyter-widgets/controls",
      "model_module_version": "2.0.0",
      "model_name": "ButtonStyleModel",
      "state": {
       "font_family": null,
       "font_size": null,
       "font_style": null,
       "font_variant": null,
       "font_weight": null,
       "text_color": null,
       "text_decoration": null
      }
     },
     "a6a45c5e95a8435bbc54dec10923e49e": {
      "model_module": "@jupyter-widgets/base",
      "model_module_version": "2.0.0",
      "model_name": "LayoutModel",
      "state": {}
     },
     "b233d033b2c64fd69a69a3881de7c1af": {
      "model_module": "@jupyter-widgets/controls",
      "model_module_version": "2.0.0",
      "model_name": "ButtonStyleModel",
      "state": {
       "font_family": null,
       "font_size": null,
       "font_style": null,
       "font_variant": null,
       "font_weight": null,
       "text_color": null,
       "text_decoration": null
      }
     },
     "b90c0365bc0f4e659e8f73ad7a385a38": {
      "model_module": "anywidget",
      "model_module_version": "0.9.3",
      "model_name": "AnyModel",
      "state": {
       "_anywidget_id": "ipywui.widgets.custom.message.MessageWidget",
       "_css": ".wui-message-root {\n    display: flex;\n    position: absolute;\n    left: 0;\n    right: 0;\n    top: 0;\n}\n\n.wui-message-container {\n    align-items: center;\n    display: flex;\n    flex-direction: column-reverse;\n    justify-content: center;\n    min-height: 100%;\n    outline: none;\n    width: 100%;\n\n    -webkit-tap-highlight-color: rgba(0,0,0,0);\n    bottom: 0;\n    left: 0;\n    right: 0;\n    top: 0;\n}\n\n.wui-message--success {\n    --wui-message-bg-color: #f0f9eb;\n    --wui-message-border-color: #e1f3d8;\n    --wui-message-text-color: #67c23a;\n}\n.wui-message--warning {\n    --wui-message-bg-color: #fdf6ec;\n    --wui-message-border-color: #faecd8;\n    --wui-message-text-color: #e6a23c;\n}\n.wui-message--info {\n    --wui-message-bg-color: #f4f4f5;\n    --wui-message-border-color: #e9e9eb;\n    --wui-message-text-color: #909399;\n}\n.wui-message--error {\n    --wui-message-bg-color: #fef0f0;\n    --wui-message-border-color: #fde2e2;\n    --wui-message-text-color: #f56c6c;\n}\n\n@keyframes msg-open {\n    0% {\n        opacity: 0;\n        -webkit-transform: translateY(-120%);\n        transform: translateY(-120%)\n    }\n    to {\n        -webkit-transform: translateY(0);\n        transform: translateY(0)\n    }\n}\n\n@keyframes msg-close {\n    0% {\n        opacity: 1;\n        -webkit-transform: scale(1);\n        transform: scale(1)\n    }\n    to {\n        opacity: 0;\n        -webkit-transform: scale(.9);\n        transform: scale(.9)\n    }\n}\n.wui-message[data-state=entered],.wui-message[data-state=entering] {\n    -webkit-animation: msg-open .24s cubic-bezier(.175,.885,.32,1.175) both;\n    animation: msg-open .24s cubic-bezier(.175,.885,.32,1.175) both\n}\n\n.wui-message[data-state=exiting] {\n    -webkit-animation: msg-close .12s cubic-bezier(.4,0,1,1) both;\n    animation: msg-close .12s cubic-bezier(.4,0,1,1) both\n}\n\n.wui-message {\n    width: -webkit-fit-content;\n    width: -moz-fit-content;\n    width: fit-content;\n    z-index: 2004;\n    max-width: calc(100% - 32px);\n    margin-top: 8px;\n    box-sizing: border-box;\n    /*border-radius: var(--wui-border-radius-base);*/\n    /*border-width: var(--wui-border-width);*/\n    /*border-style: var(--wui-border-style);*/\n    border-color: var(--wui-message-border-color);\n    /*left: 50%;*/\n    /*top: 20px;*/\n    /*transform: translateX(-50%);*/\n    background-color: var(--wui-message-bg-color);\n    /*transition: opacity var(--wui-transition-duration),transform .4s,top .4s;*/\n    /*padding: var(--wui-message-padding);*/\n    display: flex;\n    align-items: center;\n}\n\n/*.wui-message--success */\n.wui-message__content {\n    color: var(--wui-message-text-color);\n    font-size: 14px;\n    line-height: 18px;\n    margin: 10px 14px 10px 14px;\n    overflow-wrap: break-word;\n}\n\n.wui-message__closeBtn {\n    /*cursor: pointer;*/\n    font-style: normal;\n    /*color: gray;*/\n    padding-right: 14px;\n    /*font-size: 13px;*/\n    user-select: none;\n\n    background: transparent;\n    border: none;\n    color: gray;\n    cursor: pointer;\n    font-size: 13px;\n    font-weight: 400;\n    line-height: 1;\n    outline: none;\n    /*padding: 4px;*/\n    text-align: center;\n    transition: opacity .3s;\n    /*width: 100%;*/\n}",
       "_esm": "function closeMsg(msgDom) {\n  if (!msgDom) {\n    return;\n  }\n  msgDom.setAttribute('data-state', 'exiting');\n  msgDom.remove();\n}\n\nfunction createMsg(options) {\n  const {message, msg_id, type = 'info', show_close = false} = options;\n  const msgDom = document.createElement('div');\n  msgDom.className += ` wui-message--${type} wui-message`;\n  msgDom.setAttribute('data-state', 'entered');\n  msgDom.setAttribute('id', msg_id);\n  const msgContent = document.createElement('p');\n  msgContent.className += ` wui-message--${type} wui-message__content`;\n  msgContent.innerText = message;\n  msgDom.appendChild(msgContent);\n  if (show_close) {\n    const closeBtn = document.createElement('i');\n    closeBtn.className += 'wui-message__closeBtn';\n    closeBtn.innerText = 'x';\n    closeBtn.addEventListener('click', (ev) => {\n      closeMsg(msgDom);\n    })\n    msgDom.appendChild(closeBtn);\n  }\n  return msgDom;\n}\n\nexport async function render(view) {\n  let model = view.model;\n  const msgRoot = view.el;\n  msgRoot.className += ' wui-message-root'\n\n  const msgContainer = document.createElement('div');\n  msgContainer.className += ' wui-message-container';\n  msgRoot.appendChild(msgContainer)\n\n  model.on(\"change:message_options\", () => {\n    const options = model.get(\"message_options\");\n    const msg = createMsg(options);\n    msgContainer.appendChild(msg);\n    const {duration = 3000} = options;\n    if (duration > 0) {\n      setTimeout(() => {\n        closeMsg(msg)\n      }, duration);\n    }\n  })\n\n  model.on(\"change:close_msg_id\", () => {\n    const msg_id = model.get(\"close_msg_id\");\n    const msgDom = document.getElementById(msg_id);\n    closeMsg(msgDom);\n  })\n}\n",
       "_model_module": "anywidget",
       "_model_module_version": "0.9.3",
       "_model_name": "AnyModel",
       "_view_module": "anywidget",
       "_view_module_version": "0.9.3",
       "_view_name": "AnyView",
       "close_msg_id": "",
       "layout": "IPY_MODEL_7e56726384654e8aa7b6237b9be3a380",
       "message_options": {
        "duration": 3000,
        "message": "",
        "show_close": false,
        "type": "info"
       }
      }
     },
     "c659d7442c194eb0bdb9fa49f4c4279e": {
      "model_module": "@jupyter-widgets/base",
      "model_module_version": "2.0.0",
      "model_name": "LayoutModel",
      "state": {}
     },
     "c8d2f76595664367baef2521c07f77c7": {
      "model_module": "@jupyter-widgets/base",
      "model_module_version": "2.0.0",
      "model_name": "LayoutModel",
      "state": {}
     },
     "cd31418ecc734425be0a746c2934e5d1": {
      "model_module": "anywidget",
      "model_module_version": "0.9.3",
      "model_name": "AnyModel",
      "state": {
       "_anywidget_id": "ipywui.widgets.custom.dialog.DialogWidget",
       "_css": ".wui-modal-root {\n    position: absolute;\n    bottom: 0;\n    left: 0;\n    overflow: auto;\n    pointer-events: none;\n    right: 0;\n    top: 0;\n    z-index: 999;\n}\n.wui-modal-root[data-state=open] {\n    display: block;\n}\n.wui-modal-root[data-state=close] {\n    display: none;\n}\n\n.wui-modal-dialog-container {\n    align-items: center;\n    display: flex;\n    justify-content: center;\n    min-height: 100%;\n    outline: none;\n    pointer-events: auto;\n    width: 100%;\n\n    -webkit-tap-highlight-color: rgba(0,0,0,0);\n    background-color: rgba(0,0,0,.5);\n    bottom: 0;\n    left: 0;\n    /*opacity: 0;*/\n    right: 0;\n    top: 0;\n    transition: opacity .4s;\n    transition-timing-function: cubic-bezier(.2,.8,.4,1);\n}\n\n.wui-modal-dialog {\n    background: white;\n    border-radius: 5px;\n    /*color: var(--text-default);*/\n    margin: 20px 12px;\n    max-width: 100%;\n    width: 50%;\n    /*opacity: 0;*/\n    /*position: relative;*/\n    /*-webkit-transform: translateY(20px);*/\n    /*transform: translateY(20px);*/\n    transition: opacity .4s,-webkit-transform .4s;\n    transition: transform .4s,opacity .4s;\n    transition: transform .4s,opacity .4s,-webkit-transform .4s;\n    transition-timing-function: cubic-bezier(.2,.8,.4,1);\n    -webkit-user-select: text;\n    user-select: text;\n}\n\n.wui-modal-header {\n    font-size: 20px;\n    line-height: 28px;\n    margin: 10px 14px 6px 14px;\n}\n\n.wui-modal-body {\n    font-size: 14px;\n    margin: 6px 14px 14px 14px;\n}\n\n.wui-modal-footer {\n    align-items: center;\n    display: flex;\n    justify-content: flex-end;\n    margin: 22px 14px 14px;\n}\n",
       "_esm": "async function unpack_models(model_ids, manager) {\n  return Promise.all(\n    model_ids.map(id => manager.get_model(id.slice(\"IPY_MODEL_\".length)))\n  );\n}\n\n\nexport async function render(view) {\n  let model = view.model;\n\n  let shouldShowDialog = () => model.get('value');\n  const modalRoot = view.el;\n  const modalDialogContainer = document.createElement('div');\n  const modalDialog = document.createElement('div');\n  modalRoot.className += ' wui-modal-root';\n  modalRoot.setAttribute('data-state', shouldShowDialog() ? 'open' : 'close');\n  modalDialogContainer.className += ' wui-modal-dialog-container';\n  modalDialog.className += ' wui-modal-dialog';\n  const modalDialogWidth = model.get(\"width\", '50%');\n  if (modalDialogWidth) {\n    modalDialog.style.width = modalDialogWidth;\n  }\n  modalRoot.appendChild(modalDialogContainer);\n  modalDialogContainer.appendChild(modalDialog);\n\n  const modalTitle = document.createElement('div');\n  modalTitle.className += ' wui-modal-header';\n  modalTitle.innerText = model.get('title');\n  const modalBody = document.createElement('div');\n  modalBody.className += ' wui-modal-body';\n  const modalFooter = document.createElement('div');\n  modalFooter.className += ' wui-modal-footer';\n  modalDialog.appendChild(modalTitle);\n  modalDialog.appendChild(modalBody);\n  modalDialog.appendChild(modalFooter);\n\n  let model_ids = model.get(\"body\"); // [\"IPY_MODEL_<model_id>\", ...]\n  let body_models = await unpack_models(model_ids, model.widget_manager);\n  for (let model of body_models) {\n    let child_view = await model.widget_manager.create_view(model);\n    modalBody.appendChild(child_view.el);\n  }\n  model_ids = model.get(\"footer\"); // [\"IPY_MODEL_<model_id>\", ...]\n  let footer_models = await unpack_models(model_ids, model.widget_manager);\n  for (let model of footer_models) {\n    let child_view = await model.widget_manager.create_view(model);\n    modalFooter.appendChild(child_view.el);\n  }\n  const emit = (evt, payload) => {\n    model.set(\"event\", {\"event\": evt, \"payload\": payload});\n    model.save_changes();\n  }\n  const openDialog = () => {\n    modalRoot.setAttribute('data-state', 'open');\n    emit(\"open\");\n  }\n  const closeDialog = () => {\n    modalRoot.setAttribute('data-state', 'close');\n    emit(\"close\");\n  }\n  modalDialogContainer.addEventListener('click', () => {\n    console.info('click')\n    model.set(\"value\", false);\n    model.save_changes()\n  })\n  modalDialog.addEventListener('click', (ev) => {\n    ev.stopPropagation();\n  })\n  model.on(\"change:value\", () => {\n    console.info('change value')\n    shouldShowDialog() ? openDialog() : closeDialog();\n  })\n}\n",
       "_model_module": "anywidget",
       "_model_module_version": "0.9.3",
       "_model_name": "AnyModel",
       "_view_module": "anywidget",
       "_view_module_version": "0.9.3",
       "_view_name": "AnyView",
       "body": [
        "IPY_MODEL_9bdf89d2903847e0a9591ecadffff0cc"
       ],
       "event": {},
       "footer": [
        "IPY_MODEL_d63f47266d114f98904bc032b420962c"
       ],
       "layout": "IPY_MODEL_9b1aeb822f274e64b1d129147bd3a768",
       "title": "Shipping address",
       "value": false,
       "width": "45%"
      }
     },
     "d08c7701c69c4ef898c002ec69ea01ac": {
      "model_module": "@jupyter-widgets/base",
      "model_module_version": "2.0.0",
      "model_name": "LayoutModel",
      "state": {}
     },
     "d63f47266d114f98904bc032b420962c": {
      "model_module": "@jupyter-widgets/controls",
      "model_module_version": "2.0.0",
      "model_name": "VBoxModel",
      "state": {
       "children": [
        "IPY_MODEL_1e54b70aa0c742c38f18bbe9531901a6"
       ],
       "layout": "IPY_MODEL_73ad03797f694609bb79290e039993fb"
      }
     },
     "dca8eb2ac0594de4ae8da1d7b9b01b2f": {
      "model_module": "@jupyter-widgets/controls",
      "model_module_version": "2.0.0",
      "model_name": "ButtonStyleModel",
      "state": {
       "font_family": null,
       "font_size": null,
       "font_style": null,
       "font_variant": null,
       "font_weight": null,
       "text_color": null,
       "text_decoration": null
      }
     },
     "ddd50e6c8da8451bb8f6e964384f1d1a": {
      "model_module": "@jupyter-widgets/controls",
      "model_module_version": "2.0.0",
      "model_name": "LabelStyleModel",
      "state": {
       "description_width": "",
       "font_family": null,
       "font_size": null,
       "font_style": null,
       "font_variant": null,
       "font_weight": null,
       "text_color": null,
       "text_decoration": null
      }
     },
     "e3d766ffc8884975bca0fbff37b35f7e": {
      "model_module": "@jupyter-widgets/base",
      "model_module_version": "2.0.0",
      "model_name": "LayoutModel",
      "state": {}
     },
     "e6b039f9ebb24f448872f676ef2c2d33": {
      "model_module": "@jupyter-widgets/controls",
      "model_module_version": "2.0.0",
      "model_name": "TextStyleModel",
      "state": {
       "description_width": "",
       "font_size": null,
       "text_color": null
      }
     },
     "e7a538f827b34a6fbf7464cdde4d3064": {
      "model_module": "@jupyter-widgets/controls",
      "model_module_version": "2.0.0",
      "model_name": "LabelStyleModel",
      "state": {
       "description_width": "",
       "font_family": null,
       "font_size": null,
       "font_style": null,
       "font_variant": null,
       "font_weight": null,
       "text_color": null,
       "text_decoration": null
      }
     },
     "e94c7f95a8284541ac85e64e320ee094": {
      "model_module": "anywidget",
      "model_module_version": "0.9.3",
      "model_name": "AnyModel",
      "state": {
       "_anywidget_id": "ipywui.widgets.custom.dialog.DialogWidget",
       "_css": ".wui-modal-root {\n    position: absolute;\n    bottom: 0;\n    left: 0;\n    overflow: auto;\n    pointer-events: none;\n    right: 0;\n    top: 0;\n    z-index: 999;\n}\n.wui-modal-root[data-state=open] {\n    display: block;\n}\n.wui-modal-root[data-state=close] {\n    display: none;\n}\n\n.wui-modal-dialog-container {\n    align-items: center;\n    display: flex;\n    justify-content: center;\n    min-height: 100%;\n    outline: none;\n    pointer-events: auto;\n    width: 100%;\n\n    -webkit-tap-highlight-color: rgba(0,0,0,0);\n    background-color: rgba(0,0,0,.5);\n    bottom: 0;\n    left: 0;\n    /*opacity: 0;*/\n    right: 0;\n    top: 0;\n    transition: opacity .4s;\n    transition-timing-function: cubic-bezier(.2,.8,.4,1);\n}\n\n.wui-modal-dialog {\n    background: white;\n    border-radius: 5px;\n    /*color: var(--text-default);*/\n    margin: 20px 12px;\n    max-width: 100%;\n    width: 50%;\n    /*opacity: 0;*/\n    /*position: relative;*/\n    /*-webkit-transform: translateY(20px);*/\n    /*transform: translateY(20px);*/\n    transition: opacity .4s,-webkit-transform .4s;\n    transition: transform .4s,opacity .4s;\n    transition: transform .4s,opacity .4s,-webkit-transform .4s;\n    transition-timing-function: cubic-bezier(.2,.8,.4,1);\n    -webkit-user-select: text;\n    user-select: text;\n}\n\n.wui-modal-header {\n    font-size: 20px;\n    line-height: 28px;\n    margin: 10px 14px 6px 14px;\n}\n\n.wui-modal-body {\n    font-size: 14px;\n    margin: 6px 14px 14px 14px;\n}\n\n.wui-modal-footer {\n    align-items: center;\n    display: flex;\n    justify-content: flex-end;\n    margin: 22px 14px 14px;\n}\n",
       "_esm": "async function unpack_models(model_ids, manager) {\n  return Promise.all(\n    model_ids.map(id => manager.get_model(id.slice(\"IPY_MODEL_\".length)))\n  );\n}\n\n\nexport async function render(view) {\n  let model = view.model;\n\n  let shouldShowDialog = () => model.get('value');\n  const modalRoot = view.el;\n  const modalDialogContainer = document.createElement('div');\n  const modalDialog = document.createElement('div');\n  modalRoot.className += ' wui-modal-root';\n  modalRoot.setAttribute('data-state', shouldShowDialog() ? 'open' : 'close');\n  modalDialogContainer.className += ' wui-modal-dialog-container';\n  modalDialog.className += ' wui-modal-dialog';\n  const modalDialogWidth = model.get(\"width\", '50%');\n  if (modalDialogWidth) {\n    modalDialog.style.width = modalDialogWidth;\n  }\n  modalRoot.appendChild(modalDialogContainer);\n  modalDialogContainer.appendChild(modalDialog);\n\n  const modalTitle = document.createElement('div');\n  modalTitle.className += ' wui-modal-header';\n  modalTitle.innerText = model.get('title');\n  const modalBody = document.createElement('div');\n  modalBody.className += ' wui-modal-body';\n  const modalFooter = document.createElement('div');\n  modalFooter.className += ' wui-modal-footer';\n  modalDialog.appendChild(modalTitle);\n  modalDialog.appendChild(modalBody);\n  modalDialog.appendChild(modalFooter);\n\n  let model_ids = model.get(\"body\"); // [\"IPY_MODEL_<model_id>\", ...]\n  let body_models = await unpack_models(model_ids, model.widget_manager);\n  for (let model of body_models) {\n    let child_view = await model.widget_manager.create_view(model);\n    modalBody.appendChild(child_view.el);\n  }\n  model_ids = model.get(\"footer\"); // [\"IPY_MODEL_<model_id>\", ...]\n  let footer_models = await unpack_models(model_ids, model.widget_manager);\n  for (let model of footer_models) {\n    let child_view = await model.widget_manager.create_view(model);\n    modalFooter.appendChild(child_view.el);\n  }\n  const emit = (evt, payload) => {\n    model.set(\"event\", {\"event\": evt, \"payload\": payload});\n    model.save_changes();\n  }\n  const openDialog = () => {\n    modalRoot.setAttribute('data-state', 'open');\n    emit(\"open\");\n  }\n  const closeDialog = () => {\n    modalRoot.setAttribute('data-state', 'close');\n    emit(\"close\");\n  }\n  modalDialogContainer.addEventListener('click', () => {\n    console.info('click')\n    model.set(\"value\", false);\n    model.save_changes()\n  })\n  modalDialog.addEventListener('click', (ev) => {\n    ev.stopPropagation();\n  })\n  model.on(\"change:value\", () => {\n    console.info('change value')\n    shouldShowDialog() ? openDialog() : closeDialog();\n  })\n}\n",
       "_model_module": "anywidget",
       "_model_module_version": "0.9.3",
       "_model_name": "AnyModel",
       "_view_module": "anywidget",
       "_view_module_version": "0.9.3",
       "_view_name": "AnyView",
       "body": [
        "IPY_MODEL_3e43b898c6b44fbdb6506b9adce842e1"
       ],
       "event": {},
       "footer": [
        "IPY_MODEL_eaa103a5baa54b1795d1a4a31156a6b3"
       ],
       "layout": "IPY_MODEL_f3112d29fdd345989a33b7a85b4ee177",
       "title": "Shipping address",
       "value": true,
       "width": "45%"
      }
     },
     "eaa103a5baa54b1795d1a4a31156a6b3": {
      "model_module": "@jupyter-widgets/controls",
      "model_module_version": "2.0.0",
      "model_name": "VBoxModel",
      "state": {
       "children": [
        "IPY_MODEL_fd2ab243e79d493b964a53a4eb5319f8"
       ],
       "layout": "IPY_MODEL_52ab9492d9d54ae8b0d40f93204bec65"
      }
     },
     "ef30cfb37e504f2fbbd37f5786269325": {
      "model_module": "@jupyter-widgets/base",
      "model_module_version": "2.0.0",
      "model_name": "LayoutModel",
      "state": {}
     },
     "f3112d29fdd345989a33b7a85b4ee177": {
      "model_module": "@jupyter-widgets/base",
      "model_module_version": "2.0.0",
      "model_name": "LayoutModel",
      "state": {}
     },
     "f8ac2cd1c8a34b3bbdb7ff6a682e86fe": {
      "model_module": "@jupyter-widgets/base",
      "model_module_version": "2.0.0",
      "model_name": "LayoutModel",
      "state": {}
     },
     "fab7a9941b05485ca2b5a778403e0970": {
      "model_module": "@jupyter-widgets/base",
      "model_module_version": "2.0.0",
      "model_name": "LayoutModel",
      "state": {}
     },
     "fd2ab243e79d493b964a53a4eb5319f8": {
      "model_module": "@jupyter-widgets/controls",
      "model_module_version": "2.0.0",
      "model_name": "HBoxModel",
      "state": {
       "children": [
        "IPY_MODEL_3807b8fafdd644bca203d85a87c2a94c",
        "IPY_MODEL_43a3a2ea5d4c4650a65578d3b6c1c379"
       ],
       "layout": "IPY_MODEL_17362e96150944af84339078293943db"
      }
     }
    },
    "version_major": 2,
    "version_minor": 0
   }
  }
 },
 "nbformat": 4,
 "nbformat_minor": 5
}