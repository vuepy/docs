{
 "cells": [
  {
   "cell_type": "markdown",
   "id": "08582f1c-4907-4b94-ab93-28b5c05228d1",
   "metadata": {},
   "source": [
    "# Checkbox 多选框\n",
    "\n",
    "在一组备选项中进行多选。"
   ]
  },
  {
   "cell_type": "markdown",
   "id": "1217091f-2ac2-4bc3-bd94-27e903f37275",
   "metadata": {},
   "source": [
    "## 基础用法\n",
    "\n",
    "可以表示两种状态之间的切换，写在标签中的内容为 checkbox 按钮后的介绍。  \n",
    "\n",
    "`v-model` 绑定按钮的状态，当选中时值为 `True`。"
   ]
  },
  {
   "cell_type": "code",
   "execution_count": 1,
   "id": "66378b3e-e4b9-4998-885b-14ea7e18b067",
   "metadata": {},
   "outputs": [
    {
     "name": "stdout",
     "output_type": "stream",
     "text": [
      "{\"vue\": \"<template>\\n  <HBox>\\n    <Checkbox v-model=\\\"checked1.value\\\" label=\\\"Option1\\\"></Checkbox>\\n    <Checkbox v-model=\\\"checked2.value\\\" label=\\\"Option2\\\"></Checkbox>\\n    <Checkbox v-model=\\\"checked3.value\\\" label=\\\"Option3\\\"></Checkbox>\\n  </HBox>\\n  <HBox>\\n    <Checkbox v-model=\\\"checked1.value\\\" label=\\\"Option1\\\" :disabled=\\\"True\\\"></Checkbox>\\n    <Checkbox v-model=\\\"checked2.value\\\" label=\\\"Option2\\\" :disabled=\\\"True\\\"></Checkbox>\\n    <Checkbox v-model=\\\"checked3.value\\\" label=\\\"Option3\\\" :disabled=\\\"True\\\"></Checkbox>\\n  </HBox>\\n</template>\\n\\n<script src=\\\"./basic_setup.py\\\"></script>\\n<script setup>\\nimport HBox from \\\"../../../src/ipywui/components/HBox\\\";\\nimport Checkbox from \\\"../../../src/ipywui/components/Checkbox\\\";\\n</script>\", \"setup\": \"from vuepy import ref\\n\\n\\ndef setup(props, ctx, vm):\\n    checked1 = ref(True)\\n    checked2 = ref(True)\\n    checked3 = ref(True)\\n\\n    return locals()\\n\"}\n"
     ]
    },
    {
     "data": {
      "application/vnd.jupyter.widget-view+json": {
       "model_id": "d3b4ea8fcbc94bdc8d613ecda533adde",
       "version_major": 2,
       "version_minor": 0
      },
      "text/plain": [
       "Document(children=(Dom(children=(MessageWidget(message_options={'message': '', 'type': 'info', 'show_close': F…"
      ]
     },
     "execution_count": 1,
     "metadata": {},
     "output_type": "execute_result"
    }
   ],
   "source": [
    "import os\n",
    "import pathlib\n",
    "from vuepy.utils import magic\n",
    "\n",
    "cur_path = pathlib.Path()\n",
    "source_root = cur_path.absolute().parent.parent.parent\n",
    "os.chdir(source_root / 'examples' / 'ipywui' / 'checkbox')\n",
    "\n",
    "%vuepy_demo basic.vue"
   ]
  },
  {
   "cell_type": "markdown",
   "id": "c8a82146-e1b6-4533-b41b-29a5917ccfc3",
   "metadata": {},
   "source": [
    "## 禁用状态\n",
    "\n",
    "多选框不可用状态。  \n",
    "设置 `disabled` 属性即可。"
   ]
  },
  {
   "cell_type": "code",
   "execution_count": 2,
   "id": "1a1e4126-2ac8-471c-a11a-dec1ad27bb6b",
   "metadata": {},
   "outputs": [
    {
     "name": "stdout",
     "output_type": "stream",
     "text": [
      "{\"vue\": \"<template>\\n  <HBox>\\n    <Checkbox label=\\\"Disabled\\\" :disabled=\\\"True\\\"></Checkbox>\\n    <Checkbox label=\\\"Not disabled\\\" :value=\\\"True\\\" style=\\\"border: solid 2px blue\\\"></Checkbox>\\n  </HBox>\\n</template>\\n\\n<script setup>\\nimport HBox from \\\"../../../src/ipywui/components/HBox\\\";\\nimport Checkbox from \\\"../../../src/ipywui/components/Checkbox\\\";\\n</script>\", \"setup\": 0}\n"
     ]
    },
    {
     "data": {
      "application/vnd.jupyter.widget-view+json": {
       "model_id": "204e55d95c3b4277bbbd4764c9e22075",
       "version_major": 2,
       "version_minor": 0
      },
      "text/plain": [
       "Document(children=(Dom(children=(MessageWidget(message_options={'message': '', 'type': 'info', 'show_close': F…"
      ]
     },
     "execution_count": 2,
     "metadata": {},
     "output_type": "execute_result"
    }
   ],
   "source": [
    "%vuepy_demo disabled.vue"
   ]
  },
  {
   "cell_type": "markdown",
   "id": "ef82b51c-126e-470c-8743-55c944ae7ead",
   "metadata": {},
   "source": [
    "## 缩进排列\n",
    "\n",
    "选择是否与其它控件对齐。"
   ]
  },
  {
   "cell_type": "code",
   "execution_count": 3,
   "id": "34a4326e-9ca7-4d41-af7b-8e85acb7afe0",
   "metadata": {},
   "outputs": [
    {
     "name": "stdout",
     "output_type": "stream",
     "text": [
      "{\"vue\": \"<template>\\n  <HBox>\\n    <Checkbox label=\\\"indent1\\\"></Checkbox>\\n    <Button desc=\\\"btn\\\" type=\\\"info\\\"></Button>\\n    <Checkbox label=\\\"indent3\\\"></Checkbox>\\n  </HBox>\\n  <HBox>\\n    <Checkbox label=\\\"not indent1\\\" :indent=\\\"False\\\"></Checkbox>\\n    <Button desc=\\\"btn\\\" type=\\\"info\\\"></Button>\\n    <Checkbox label=\\\"not indent3\\\" :indent=\\\"False\\\"></Checkbox>\\n  </HBox>\\n</template>\\n\\n<script setup>\\nimport Checkbox from \\\"../../../src/ipywui/components/Checkbox\\\";\\nimport HBox from \\\"../../../src/ipywui/components/HBox\\\";\\nimport Button from \\\"../../../src/ipywui/components/Button\\\";\\n</script>\", \"setup\": 0}\n"
     ]
    },
    {
     "data": {
      "application/vnd.jupyter.widget-view+json": {
       "model_id": "fe51cc47d767407c983fa95593ed618f",
       "version_major": 2,
       "version_minor": 0
      },
      "text/plain": [
       "Document(children=(Dom(children=(MessageWidget(message_options={'message': '', 'type': 'info', 'show_close': F…"
      ]
     },
     "execution_count": 3,
     "metadata": {},
     "output_type": "execute_result"
    }
   ],
   "source": [
    "%vuepy_demo indent.vue"
   ]
  },
  {
   "cell_type": "markdown",
   "id": "6cc80a57-a83b-4c1b-a335-9f5e09f2de04",
   "metadata": {},
   "source": [
    "## 自定义样式\n",
    "\n",
    "您可以自定义按钮的颜色。  \n",
    "使用 `style` 属性额外配置样式: \n",
    "*  `background` 设置背景颜色，可使用`#ffffff`、`blue`等和 `css` 兼容的形式。\n",
    "* `description-width` 设置距离，可使用`px`、`%`等形式。"
   ]
  },
  {
   "cell_type": "code",
   "execution_count": 4,
   "id": "2d0cc419-0fb6-4ed9-b691-137a8a2b2e58",
   "metadata": {},
   "outputs": [
    {
     "name": "stdout",
     "output_type": "stream",
     "text": [
      "{\"vue\": \"<template>\\n  <HBox>\\n    <Checkbox label=\\\"background: green\\\"\\n              style=\\\"background: green\\\"></Checkbox>\\n    <Checkbox label=\\\"background: #27bac6\\\"\\n              style=\\\"background: #27bac6\\\"></Checkbox>\\n  </HBox>\\n\\n  <VBox>\\n    <Checkbox label=\\\"description-width 20px\\\"\\n              style=\\\"description-width: 20px;background: lightblue;\\\"\\n    ></Checkbox>\\n\\n    <Checkbox label=\\\"description-width 50px\\\"\\n              style=\\\"description-width: 50px;background: lightcoral;\\\"\\n    ></Checkbox>\\n    <Checkbox label=\\\"description-width 30%\\\"\\n              style=\\\"description-width: 30%;background: lightcoral;\\\"\\n    ></Checkbox>\\n  </VBox>\\n</template>\\n\\n<script setup>\\nimport Checkbox from \\\"../../../src/ipywui/components/Checkbox\\\";\\nimport HBox from \\\"../../../src/ipywui/components/HBox\\\";\\nimport VBox from \\\"../../../src/ipywui/components/VBox\\\";\\n</script>\", \"setup\": 0}\n"
     ]
    },
    {
     "data": {
      "application/vnd.jupyter.widget-view+json": {
       "model_id": "69bc9728785343e2b0208f9cb90fc33c",
       "version_major": 2,
       "version_minor": 0
      },
      "text/plain": [
       "Document(children=(Dom(children=(MessageWidget(message_options={'message': '', 'type': 'info', 'show_close': F…"
      ]
     },
     "execution_count": 4,
     "metadata": {},
     "output_type": "execute_result"
    }
   ],
   "source": [
    "%vuepy_demo custom.vue"
   ]
  },
  {
   "cell_type": "markdown",
   "id": "ce26d0bd-db28-449f-8ea7-2ce2aee5eebf",
   "metadata": {},
   "source": [
    "## Checkbox API\n",
    "\n",
    "### Checkbox 属性\n",
    "\n",
    "| 属性名    | 说明                 | 类型                                                           | 默认值 |\n",
    "| -------- | ------------------- | ---------------------------------------------------------------| ------- |\n",
    "| v-model/value | 选中项绑定值     | ^[bool]                                                      | —       |\n",
    "| label    | 按钮后的介绍          | ^[str]                                                         | —       |\n",
    "| indent   | 是否使用缩进          | ^[bool]                                                        | true    |\n",
    "| disabled | 按钮是否为禁用状态     | ^[boolean]                                                     | false   |\n",
    "| style    | 自定义css样式         | ^[str]                                                         | -       |\n",
    "\n",
    "background, description-width\n",
    "\n",
    "==todo layout所有支持的css样式说明==\n",
    "\n",
    "### Checkbox 方法\n",
    "\n",
    "| 属性名 | 说明 | 类型 |\n",
    "| --- | --- | --- |"
   ]
  }
 ],
 "metadata": {
  "kernelspec": {
   "display_name": "Python 3 (ipykernel)",
   "language": "python",
   "name": "python3"
  },
  "language_info": {
   "codemirror_mode": {
    "name": "ipython",
    "version": 3
   },
   "file_extension": ".py",
   "mimetype": "text/x-python",
   "name": "python",
   "nbconvert_exporter": "python",
   "pygments_lexer": "ipython3",
   "version": "3.10.12"
  },
  "widgets": {
   "application/vnd.jupyter.widget-state+json": {
    "state": {},
    "version_major": 2,
    "version_minor": 0
   }
  }
 },
 "nbformat": 4,
 "nbformat_minor": 5
}
