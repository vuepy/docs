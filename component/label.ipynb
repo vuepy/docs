{
 "cells": [
  {
   "cell_type": "markdown",
   "id": "a1e2fa29-7566-4426-be1e-a750658d83a5",
   "metadata": {},
   "source": [
    "# Label 标签\n",
    "\n",
    "标签组件"
   ]
  },
  {
   "cell_type": "markdown",
   "id": "cb4fc10a-d3d9-48f2-b51b-021e07847da9",
   "metadata": {},
   "source": [
    "## 基础用法\n",
    "\n",
    "在组件旁边自定义描述"
   ]
  },
  {
   "cell_type": "code",
   "execution_count": 1,
   "id": "5c878f24-18cc-4b02-952f-286774c42519",
   "metadata": {},
   "outputs": [
    {
     "name": "stdout",
     "output_type": "stream",
     "text": [
      "{\"vue\": \"<template>\\n  <HBox>\\n    <Label value=\\\"slider\\\"></Label><Slider :value=\\\"1.0\\\"></Slider>\\n  </HBox>\\n  <HBox>\\n    <Label value=\\\"The $E=mc^2$ :\\\"></Label><Slider :value=\\\"1.0\\\"></Slider>\\n  </HBox>\\n</template>\\n\\n<script setup>\\nimport Label from \\\"../../../src/ipywui/components/Label\\\";\\nimport Slider from \\\"../../../src/ipywui/components/Slider\\\";\\nimport HBox from \\\"../../../src/ipywui/components/HBox\\\";\\n</script>\", \"setup\": 0}\n"
     ]
    },
    {
     "data": {
      "application/vnd.jupyter.widget-view+json": {
       "model_id": "c2116155324946fe93f7c498363f55b3",
       "version_major": 2,
       "version_minor": 0
      },
      "text/plain": [
       "Document(children=(Dom(children=(MessageWidget(message_options={'message': '', 'type': 'info', 'show_close': F…"
      ]
     },
     "execution_count": 1,
     "metadata": {},
     "output_type": "execute_result"
    }
   ],
   "source": [
    "import os\n",
    "import pathlib\n",
    "from vuepy.utils import magic\n",
    "\n",
    "\n",
    "cur_path = pathlib.Path()\n",
    "source_root = cur_path.absolute().parent.parent.parent\n",
    "os.chdir(source_root / 'examples' / 'ipywui' / 'label')\n",
    "\n",
    "\n",
    "%vuepy_demo basic.vue"
   ]
  },
  {
   "cell_type": "markdown",
   "id": "f339bb2f-0304-4ce4-8186-5e7e37e3dd9a",
   "metadata": {},
   "source": [
    "## 自定义样式\n",
    "\n",
    "您可以自定义按钮的颜色。  \n",
    "使用 `style` 属性额外配置样式: \n",
    "* `background` 设置背景颜色，可使用`#ffffff`、`blue`等和 `css` 兼容的形式。\n",
    "* `description-width` 设置距离，可使用`px`、`%`等形式。\n",
    "* `font-family`：标签文字字体\n",
    "* `font-size`：标签文字大小\n",
    "* `font-style`：标签文字样式\n",
    "* `font-variant`：[ref](https://developer.mozilla.org/en-US/docs/Web/CSS/font-variant)\n",
    "* `font-weight`：标签文字字重\n",
    "* `text-color`：标签文字颜色\n",
    "* `text-decoration`：标签文字上的装饰性线条外观。 [ref](https://developer.mozilla.org/en-US/docs/Web/CSS/text-decoration)"
   ]
  },
  {
   "cell_type": "code",
   "execution_count": 2,
   "id": "d0e1311e-72b9-4f23-a2fb-ce73d4caf9d6",
   "metadata": {},
   "outputs": [
    {
     "name": "stdout",
     "output_type": "stream",
     "text": [
      "{\"vue\": \"<template>\\n  <Label value=\\\"background lightblue\\\" style=\\\"background: lightblue\\\"></Label>\\n  <Label value=\\\"description-width: 100px\\\" style=\\\"description-width: 100px\\\"></Label>\\n  <Label value=\\\"font-size 16px\\\" style=\\\"font-size: 16px\\\"></Label>\\n  <Label value=\\\"font-style italic\\\" style=\\\"font-style: italic\\\"></Label>\\n  <Label value=\\\"font-weight bold\\\" style=\\\"font-weight: bold\\\"></Label>\\n  <Label value=\\\"color red\\\" style=\\\"color: red\\\"></Label>\\n  <Label value=\\\"text-decoration: underline\\\" style=\\\"text-decoration: underline\\\"></Label>\\n</template>\\n\\n<script setup>\\nimport Label from \\\"../../../src/ipywui/components/Label\\\";\\n</script>\", \"setup\": 0}\n"
     ]
    },
    {
     "data": {
      "application/vnd.jupyter.widget-view+json": {
       "model_id": "c2318c4ef6da4f9391b52d8b7347eb47",
       "version_major": 2,
       "version_minor": 0
      },
      "text/plain": [
       "Document(children=(Dom(children=(MessageWidget(message_options={'message': '', 'type': 'info', 'show_close': F…"
      ]
     },
     "execution_count": 2,
     "metadata": {},
     "output_type": "execute_result"
    }
   ],
   "source": [
    "%vuepy_demo custom.vue"
   ]
  },
  {
   "cell_type": "markdown",
   "id": "8685d144-029f-4afa-8547-4f3d84529504",
   "metadata": {},
   "source": [
    "## API\n",
    "\n",
    "### 属性\n",
    "\n",
    "| 属性名        | 说明                 | 类型                                                           | 默认值 |\n",
    "| --------     | ------------------- | ---------------------------------------------------------------| ------- |\n",
    "| v-model/value | 绑定值，标签文本 | ^[str]                                                       | —       |\n",
    "| style    | 自定义css样式         | ^[str]                                                         | -       |\n",
    "\n",
    "### 方法\n",
    "\n",
    "| 属性名 | 说明 | 类型 |\n",
    "| --- | --- | --- |\n"
   ]
  }
 ],
 "metadata": {
  "kernelspec": {
   "display_name": "Python 3 (ipykernel)",
   "language": "python",
   "name": "python3"
  },
  "language_info": {
   "codemirror_mode": {
    "name": "ipython",
    "version": 3
   },
   "file_extension": ".py",
   "mimetype": "text/x-python",
   "name": "python",
   "nbconvert_exporter": "python",
   "pygments_lexer": "ipython3",
   "version": "3.10.12"
  },
  "widgets": {
   "application/vnd.jupyter.widget-state+json": {
    "state": {},
    "version_major": 2,
    "version_minor": 0
   }
  }
 },
 "nbformat": 4,
 "nbformat_minor": 5
}