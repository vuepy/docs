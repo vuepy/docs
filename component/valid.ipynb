{
 "cells": [
  {
   "cell_type": "markdown",
   "id": "a1e2fa29-7566-4426-be1e-a750658d83a5",
   "metadata": {},
   "source": [
    "# Valid 状态指示器\n",
    "\n",
    "指示有效状态或无效状态"
   ]
  },
  {
   "cell_type": "markdown",
   "id": "cb4fc10a-d3d9-48f2-b51b-021e07847da9",
   "metadata": {},
   "source": [
    "## 基础用法"
   ]
  },
  {
   "cell_type": "code",
   "execution_count": 1,
   "id": "5c878f24-18cc-4b02-952f-286774c42519",
   "metadata": {},
   "outputs": [
    {
     "name": "stdout",
     "output_type": "stream",
     "text": [
      "{\"vue\": \"<template>\\n  <Valid :value=\\\"True\\\" description=\\\"Valid\\\"></Valid>\\n  <Valid :value=\\\"False\\\" description=\\\"Invalid\\\"></Valid>\\n</template>\\n\\n<script setup>\\nimport Valid from \\\"../../../src/ipywui/components/Valid\\\";\\n</script>\", \"setup\": 0}\n"
     ]
    },
    {
     "data": {
      "application/vnd.jupyter.widget-view+json": {
       "model_id": "eb9c3357632a4ba69db6bbe5239bab20",
       "version_major": 2,
       "version_minor": 0
      },
      "text/plain": [
       "Document(children=(Dom(children=(MessageWidget(message_options={'message': '', 'type': 'info', 'show_close': F…"
      ]
     },
     "execution_count": 1,
     "metadata": {},
     "output_type": "execute_result"
    }
   ],
   "source": [
    "import os\n",
    "import pathlib\n",
    "from vuepy.utils import magic\n",
    "\n",
    "\n",
    "cur_path = pathlib.Path()\n",
    "source_root = cur_path.absolute().parent.parent.parent\n",
    "os.chdir(source_root / 'examples' / 'ipywui' / 'valid')\n",
    "\n",
    "\n",
    "%vuepy_demo basic.vue"
   ]
  },
  {
   "cell_type": "markdown",
   "id": "8685d144-029f-4afa-8547-4f3d84529504",
   "metadata": {},
   "source": [
    "## API\n",
    "\n",
    "### Attributes\n",
    "\n",
    "| Name                       | Description                                    | Type                                | Default |\n",
    "| -------------------------- | -----------------------------------------------| ----------------------------------- | ------- |\n",
    "| value    | 是否有效     | ^[boolean]                          | False       |\n",
    "| label | 标签文本                      | ^[string]                           | ''      |\n"
   ]
  }
 ],
 "metadata": {
  "kernelspec": {
   "display_name": "Python 3 (ipykernel)",
   "language": "python",
   "name": "python3"
  },
  "language_info": {
   "codemirror_mode": {
    "name": "ipython",
    "version": 3
   },
   "file_extension": ".py",
   "mimetype": "text/x-python",
   "name": "python",
   "nbconvert_exporter": "python",
   "pygments_lexer": "ipython3",
   "version": "3.10.12"
  },
  "widgets": {
   "application/vnd.jupyter.widget-state+json": {
    "state": {},
    "version_major": 2,
    "version_minor": 0
   }
  }
 },
 "nbformat": 4,
 "nbformat_minor": 5
}