{
 "cells": [
  {
   "cell_type": "markdown",
   "id": "a1e2fa29-7566-4426-be1e-a750658d83a5",
   "metadata": {},
   "source": [
    "# Row-Col Layout 网格布局\n",
    "\n",
    "通过基础的 24 分栏，迅速简便地创建布局。"
   ]
  },
  {
   "cell_type": "markdown",
   "id": "7cdc5e8c-2aa8-41d1-9461-3e451f6ef6ea",
   "metadata": {},
   "source": [
    "## 基础布局\n",
    "\n",
    "使用列创建基础网格布局。  \n",
    "通过 `row` 和 `col` 组件，并通过 col 组件的 `span` 属性我们就可以自由地组合布局。"
   ]
  },
  {
   "cell_type": "code",
   "execution_count": 1,
   "id": "f5928b17-e8c8-47b0-9774-a8bb1f7e6af3",
   "metadata": {},
   "outputs": [
    {
     "name": "stdout",
     "output_type": "stream",
     "text": [
      "{\"vue\": \"<template>\\n  <Row>\\n    <Col :span=\\\"24\\\">\\n      <Button label=\\\"span 24\\\" style=\\\"width: auto; background-color: #9dacc1\\\"></Button>\\n    </Col>\\n  </Row>\\n\\n  <Row>\\n    <Col :span=\\\"12\\\">\\n      <Button label=\\\"span 12\\\" style=\\\"width: auto; background-color: #d4dde6\\\"></Button>\\n    </Col>\\n    <Col :span=\\\"12\\\">\\n      <Button label=\\\"span 12\\\" style=\\\"width: auto; background-color: #e5e9f2\\\"></Button>\\n    </Col>\\n  </Row>\\n\\n  <Row>\\n    <Col :span=\\\"8\\\">\\n      <Button label=\\\"span 8\\\" style=\\\"width: auto; background-color: #d4dde6\\\"></Button>\\n    </Col>\\n    <Col :span=\\\"8\\\">\\n      <Button label=\\\"span 8\\\" style=\\\"width: auto; background-color: #e5e9f2\\\"></Button>\\n    </Col>\\n    <Col :span=\\\"8\\\">\\n      <Button label=\\\"span 8\\\" style=\\\"width: auto; background-color: #d4dde6\\\"></Button>\\n    </Col>\\n  </Row>\\n\\n  <Row>\\n    <Col :span=\\\"6\\\">\\n      <Button label=\\\"span 6\\\" style=\\\"width: auto; background-color: #d4dde6\\\"></Button>\\n    </Col>\\n    <Col :span=\\\"6\\\">\\n      <Button label=\\\"span 6\\\" style=\\\"width: auto; background-color: #e5e9f2\\\"></Button>\\n    </Col>\\n    <Col :span=\\\"6\\\">\\n      <Button label=\\\"span 6\\\" style=\\\"width: auto; background-color: #d4dde6\\\"></Button>\\n    </Col>\\n    <Col :span=\\\"6\\\">\\n      <Button label=\\\"span 6\\\" style=\\\"width: auto; background-color: #e5e9f2\\\"></Button>\\n    </Col>\\n  </Row>\\n</template>\\n\\n<script setup>\\nimport Col from \\\"../../../src/ipywui/components/Col\\\";\\nimport Row from \\\"../../../src/ipywui/components/Row\\\";\\nimport Button from \\\"../../../src/ipywui/components/Button\\\";\\n</script>\", \"setup\": 0}\n"
     ]
    },
    {
     "data": {
      "application/vnd.jupyter.widget-view+json": {
       "model_id": "4a5282fdfb464f8fa44ba709b44fc532",
       "version_major": 2,
       "version_minor": 0
      },
      "text/plain": [
       "Document(children=(Dom(children=(MessageWidget(message_options={'message': '', 'type': 'info', 'show_close': F…"
      ]
     },
     "execution_count": 1,
     "metadata": {},
     "output_type": "execute_result"
    }
   ],
   "source": [
    "import os\n",
    "import pathlib\n",
    "from vuepy.utils import magic\n",
    "\n",
    "cur_path = pathlib.Path()\n",
    "source_root = cur_path.absolute().parent.parent.parent\n",
    "os.chdir(source_root / 'examples' / 'ipywui' / 'layout')\n",
    "\n",
    "%vuepy_demo layout-basic.vue"
   ]
  },
  {
   "cell_type": "markdown",
   "id": "b6aafb76-3b08-4d1b-8dac-9d0aa13567b6",
   "metadata": {},
   "source": [
    "## 分栏间隔\n",
    "\n",
    "支持列间距\n",
    "\n",
    "`Row` 组件提供 `gutter` 属性来指定列之间的间距，单位为 `px`。"
   ]
  },
  {
   "cell_type": "code",
   "execution_count": 2,
   "id": "f814da69-2da6-4783-8a0e-e4241368bbed",
   "metadata": {},
   "outputs": [
    {
     "name": "stdout",
     "output_type": "stream",
     "text": [
      "{\"vue\": \"<template>\\n  <Row gutter=\\\"20px\\\">\\n    <Col :span=\\\"6\\\">\\n      <Button style=\\\"width: auto; background-color: #d4dde6\\\"></Button>\\n    </Col>\\n    <Col :span=\\\"6\\\">\\n      <Button style=\\\"width: auto; background-color: #d4dde6\\\"></Button>\\n    </Col>\\n    <Col :span=\\\"6\\\">\\n      <Button style=\\\"width: auto; background-color: #d4dde6\\\"></Button>\\n    </Col>\\n    <Col :span=\\\"6\\\">\\n      <Button style=\\\"width: auto; background-color: #d4dde6\\\"></Button>\\n    </Col>\\n  </Row>\\n</template>\\n\\n<script setup>\\nimport Col from \\\"../../../src/ipywui/components/Col\\\";\\nimport Row from \\\"../../../src/ipywui/components/Row\\\";\\nimport Button from \\\"../../../src/ipywui/components/Button\\\";\\n</script>\", \"setup\": 0}\n"
     ]
    },
    {
     "data": {
      "application/vnd.jupyter.widget-view+json": {
       "model_id": "099fd1e05bc94ac8a00a45373ffbd3bb",
       "version_major": 2,
       "version_minor": 0
      },
      "text/plain": [
       "Document(children=(Dom(children=(MessageWidget(message_options={'message': '', 'type': 'info', 'show_close': F…"
      ]
     },
     "execution_count": 2,
     "metadata": {},
     "output_type": "execute_result"
    }
   ],
   "source": [
    "%vuepy_demo column-gutter.vue"
   ]
  },
  {
   "cell_type": "markdown",
   "id": "17eca8d7-be55-4464-8d3a-5e8f3afe7e63",
   "metadata": {},
   "source": [
    "## 混合布局\n",
    "\n",
    "通过基础的 1/24 分栏任意扩展组合形成较为复杂的混合布局。"
   ]
  },
  {
   "cell_type": "code",
   "execution_count": 3,
   "id": "28a4af8c-aa99-4716-bd6f-bb1311ca323d",
   "metadata": {},
   "outputs": [
    {
     "name": "stdout",
     "output_type": "stream",
     "text": [
      "{\"vue\": \"<template>\\n  <Row gutter=\\\"20px\\\">\\n    <Col :span=\\\"16\\\">\\n      <Button label=\\\"span 16\\\" style=\\\"width: auto; background-color: #d4dde6\\\"></Button>\\n    </Col>\\n    <Col :span=\\\"8\\\">\\n      <Button label=\\\"span 8\\\" style=\\\"width: auto; background-color: #e5e9f2\\\"></Button>\\n    </Col>\\n  </Row>\\n\\n  <Row gutter=\\\"20px\\\">\\n    <Col :span=\\\"8\\\">\\n      <Button label=\\\"span 8\\\" style=\\\"width: auto; background-color: #d4dde6\\\"></Button>\\n    </Col>\\n    <Col :span=\\\"8\\\">\\n      <Button label=\\\"span 8\\\" style=\\\"width: auto; background-color: #e5e9f2\\\"></Button>\\n    </Col>\\n    <Col :span=\\\"4\\\">\\n      <Button label=\\\"span 4\\\" style=\\\"width: auto; background-color: #d4dde6\\\"></Button>\\n    </Col>\\n    <Col :span=\\\"4\\\">\\n      <Button label=\\\"span 4\\\" style=\\\"width: auto; background-color: #e5e9f2\\\"></Button>\\n    </Col>\\n  </Row>\\n\\n  <Row gutter=\\\"20px\\\">\\n    <Col :span=\\\"4\\\">\\n      <Button label=\\\"span 4\\\" style=\\\"width: auto; background-color: #d4dde6\\\"></Button>\\n    </Col>\\n    <Col :span=\\\"16\\\">\\n      <Button label=\\\"span 16\\\" style=\\\"width: auto; background-color: #e5e9f2\\\"></Button>\\n    </Col>\\n    <Col :span=\\\"4\\\">\\n      <Button label=\\\"span 4\\\" style=\\\"width: auto; background-color: #d4dde6\\\"></Button>\\n    </Col>\\n  </Row>\\n</template>\\n\\n<script setup>\\nimport Col from \\\"../../../src/ipywui/components/Col\\\";\\nimport Row from \\\"../../../src/ipywui/components/Row\\\";\\nimport Button from \\\"../../../src/ipywui/components/Button\\\";\\n</script>\", \"setup\": 0}\n"
     ]
    },
    {
     "data": {
      "application/vnd.jupyter.widget-view+json": {
       "model_id": "4ab4bbc70a844edab26b35ffad0d226a",
       "version_major": 2,
       "version_minor": 0
      },
      "text/plain": [
       "Document(children=(Dom(children=(MessageWidget(message_options={'message': '', 'type': 'info', 'show_close': F…"
      ]
     },
     "execution_count": 3,
     "metadata": {},
     "output_type": "execute_result"
    }
   ],
   "source": [
    "%vuepy_demo layout-hybrid.vue"
   ]
  },
  {
   "cell_type": "markdown",
   "id": "6c9d772f-e144-4c96-adc3-3bbb3f66f5ad",
   "metadata": {},
   "source": [
    "## 列偏移\n",
    "\n",
    "可以指定列偏移量\n",
    "\n",
    "通过制定 `col ` 组件的 `offset ` 属性可以指定分栏偏移的栏数。"
   ]
  },
  {
   "cell_type": "code",
   "execution_count": 4,
   "id": "8a0868a0-7e9f-4ab7-8470-c9903b35bb30",
   "metadata": {},
   "outputs": [
    {
     "name": "stdout",
     "output_type": "stream",
     "text": [
      "{\"vue\": \"<template>\\n  <Row>\\n    <Col :span=\\\"6\\\">\\n      <Button label=\\\"span 6\\\" style=\\\"width: auto; background-color: #d4dde6\\\"></Button>\\n    </Col>\\n    <Col :span=\\\"6\\\" :offset=\\\"6\\\">\\n      <Button label=\\\"offset 6 span 8\\\" style=\\\"width: auto; background-color: #e5e9f2\\\"></Button>\\n    </Col>\\n  </Row>\\n\\n  <Row>\\n    <Col :span=\\\"6\\\" :offset=\\\"6\\\">\\n      <Button label=\\\"offset 6 span 6\\\" style=\\\"width: auto; background-color: #d4dde6\\\"></Button>\\n    </Col>\\n    <Col :span=\\\"6\\\" :offset=\\\"6\\\">\\n      <Button label=\\\"offset 6 span 6\\\" style=\\\"width: auto; background-color: #e5e9f2\\\"></Button>\\n    </Col>\\n  </Row>\\n\\n  <Row>\\n    <Col :span=\\\"12\\\" :offset=\\\"6\\\">\\n      <Button label=\\\"offset 6 span 12\\\" style=\\\"width: auto; background-color: #d4dde6\\\"></Button>\\n    </Col>\\n  </Row>\\n</template>\\n\\n<script setup>\\nimport Col from \\\"../../../src/ipywui/components/Col\\\";\\nimport Row from \\\"../../../src/ipywui/components/Row\\\";\\nimport Button from \\\"../../../src/ipywui/components/Button\\\";\\n</script>\", \"setup\": 0}\n"
     ]
    },
    {
     "data": {
      "application/vnd.jupyter.widget-view+json": {
       "model_id": "6a93f2b6b02349a1949401ea1c35bdba",
       "version_major": 2,
       "version_minor": 0
      },
      "text/plain": [
       "Document(children=(Dom(children=(MessageWidget(message_options={'message': '', 'type': 'info', 'show_close': F…"
      ]
     },
     "execution_count": 4,
     "metadata": {},
     "output_type": "execute_result"
    }
   ],
   "source": [
    "%vuepy_demo column-offset.vue"
   ]
  },
  {
   "cell_type": "markdown",
   "id": "8685d144-029f-4afa-8547-4f3d84529504",
   "metadata": {},
   "source": [
    "## Row API\n",
    "\n",
    "### Row 属性\n",
    "\n",
    "| 属性名        | 说明                 | 类型                                                           | 默认值 |\n",
    "| --------     | ------------------- | ---------------------------------------------------------------| ------- |\n",
    "| width        | 行宽                 | ^[str]                                                         | -       |\n",
    "| height       | 行高                 | ^[str]                                                         | -       |\n",
    "| gutter       | 栅格间隔, css flex布局下的 gride-gap  | ^[str]                                              | -       |\n",
    "| justify(保留参数） | css flex布局下的水平排列方式  | ^[enum]`'start' \\| 'end' \\| 'center' \\| 'space-around' \\| 'space-between' \\| 'space-evenly'` | start   |\n",
    "| align(保留参数）   | css flex布局下的垂直排列方式 | ^[enum]`'top' \\| 'middle' \\| 'bottom'`                                                       | —       |\n",
    "| style        | 自定义css样式        | ^[str]                                                         | -       |\n",
    "\n",
    "\n",
    "::: tip\n",
    "\n",
    "**style 支持的其它css属性**\n",
    "\n",
    "Sizes相关\n",
    "* height\n",
    "* width\n",
    "* max_height\n",
    "* max_width\n",
    "* min_height\n",
    "* min_width\n",
    "\n",
    "Display相关\n",
    "* visibility\n",
    "* display\n",
    "* overflow\n",
    "\n",
    "Box model相关\n",
    "* border\n",
    "* margin\n",
    "* padding\n",
    "\n",
    "Positioning相关\n",
    "* top\n",
    "* left\n",
    "* bottom\n",
    "* right\n",
    "\n",
    ":::\n",
    "\n",
    "\n",
    "### Accordion Slots\n",
    "\n",
    "| 插槽名   | 说明               | 子标签 |\n",
    "| ---     | ---               | --- |\n",
    "| default | 自定义默认内容      | Col |\n",
    "\n",
    "### Accordion 方法\n",
    "\n",
    "| 属性名 | 说明 | 类型 |\n",
    "| --- | --- | --- |\n",
    "\n",
    "\n",
    "## Col API\n",
    "\n",
    "### Col 属性\n",
    "\n",
    "| 属性名        | 说明                 | 类型                                                           | 默认值 |\n",
    "| -----  | ------------------- | ---------------------------------------------------------------| ------- |\n",
    "| span   | 栅格占据的列数\t       | ^[number]                                                      | 24      |\n",
    "| offset | 栅格左侧的间隔格数\t   | ^[number]                                                      | 0       |\n",
    "\n",
    "\n",
    "### Col Slots\n",
    "\n",
    "| 插槽名   | 说明               | \n",
    "| ---     | ---               |\n",
    "| default | 自定义默认内容      |\n"
   ]
  }
 ],
 "metadata": {
  "kernelspec": {
   "display_name": "Python 3 (ipykernel)",
   "language": "python",
   "name": "python3"
  },
  "language_info": {
   "codemirror_mode": {
    "name": "ipython",
    "version": 3
   },
   "file_extension": ".py",
   "mimetype": "text/x-python",
   "name": "python",
   "nbconvert_exporter": "python",
   "pygments_lexer": "ipython3",
   "version": "3.10.12"
  },
  "widgets": {
   "application/vnd.jupyter.widget-state+json": {
    "state": {
     "00044c0a25484526af2eb0d293f1ed99": {
      "model_module": "@jupyter-widgets/base",
      "model_module_version": "2.0.0",
      "model_name": "LayoutModel",
      "state": {
       "grid_area": "widget003"
      }
     },
     "009568ce86f44d96a718aaab7416bbff": {
      "model_module": "anywidget",
      "model_module_version": "0.9.3",
      "model_name": "AnyModel",
      "state": {
       "_anywidget_id": "ipywui.widgets.custom.message.MessageWidget",
       "_css": ".wui-message-root {\n    display: flex;\n    position: absolute;\n    left: 0;\n    right: 0;\n    top: 0;\n}\n\n.wui-message-container {\n    align-items: center;\n    display: flex;\n    flex-direction: column-reverse;\n    justify-content: center;\n    min-height: 100%;\n    outline: none;\n    width: 100%;\n\n    -webkit-tap-highlight-color: rgba(0,0,0,0);\n    bottom: 0;\n    left: 0;\n    right: 0;\n    top: 0;\n}\n\n.wui-message--success {\n    --wui-message-bg-color: #f0f9eb;\n    --wui-message-border-color: #e1f3d8;\n    --wui-message-text-color: #67c23a;\n}\n.wui-message--warning {\n    --wui-message-bg-color: #fdf6ec;\n    --wui-message-border-color: #faecd8;\n    --wui-message-text-color: #e6a23c;\n}\n.wui-message--info {\n    --wui-message-bg-color: #f4f4f5;\n    --wui-message-border-color: #e9e9eb;\n    --wui-message-text-color: #909399;\n}\n.wui-message--error {\n    --wui-message-bg-color: #fef0f0;\n    --wui-message-border-color: #fde2e2;\n    --wui-message-text-color: #f56c6c;\n}\n\n@keyframes msg-open {\n    0% {\n        opacity: 0;\n        -webkit-transform: translateY(-120%);\n        transform: translateY(-120%)\n    }\n    to {\n        -webkit-transform: translateY(0);\n        transform: translateY(0)\n    }\n}\n\n@keyframes msg-close {\n    0% {\n        opacity: 1;\n        -webkit-transform: scale(1);\n        transform: scale(1)\n    }\n    to {\n        opacity: 0;\n        -webkit-transform: scale(.9);\n        transform: scale(.9)\n    }\n}\n.wui-message[data-state=entered],.wui-message[data-state=entering] {\n    -webkit-animation: msg-open .24s cubic-bezier(.175,.885,.32,1.175) both;\n    animation: msg-open .24s cubic-bezier(.175,.885,.32,1.175) both\n}\n\n.wui-message[data-state=exiting] {\n    -webkit-animation: msg-close .12s cubic-bezier(.4,0,1,1) both;\n    animation: msg-close .12s cubic-bezier(.4,0,1,1) both\n}\n\n.wui-message {\n    width: -webkit-fit-content;\n    width: -moz-fit-content;\n    width: fit-content;\n    z-index: 2004;\n    max-width: calc(100% - 32px);\n    margin-top: 8px;\n    box-sizing: border-box;\n    /*border-radius: var(--wui-border-radius-base);*/\n    /*border-width: var(--wui-border-width);*/\n    /*border-style: var(--wui-border-style);*/\n    border-color: var(--wui-message-border-color);\n    /*left: 50%;*/\n    /*top: 20px;*/\n    /*transform: translateX(-50%);*/\n    background-color: var(--wui-message-bg-color);\n    /*transition: opacity var(--wui-transition-duration),transform .4s,top .4s;*/\n    /*padding: var(--wui-message-padding);*/\n    display: flex;\n    align-items: center;\n}\n\n/*.wui-message--success */\n.wui-message__content {\n    color: var(--wui-message-text-color);\n    font-size: 14px;\n    line-height: 18px;\n    margin: 10px 14px 10px 14px;\n    overflow-wrap: break-word;\n}\n\n.wui-message__closeBtn {\n    /*cursor: pointer;*/\n    font-style: normal;\n    /*color: gray;*/\n    padding-right: 14px;\n    /*font-size: 13px;*/\n    user-select: none;\n\n    background: transparent;\n    border: none;\n    color: gray;\n    cursor: pointer;\n    font-size: 13px;\n    font-weight: 400;\n    line-height: 1;\n    outline: none;\n    /*padding: 4px;*/\n    text-align: center;\n    transition: opacity .3s;\n    /*width: 100%;*/\n}",
       "_esm": "function closeMsg(msgDom) {\n  if (!msgDom) {\n    return;\n  }\n  msgDom.setAttribute('data-state', 'exiting');\n  msgDom.remove();\n}\n\nfunction createMsg(options) {\n  const {message, msg_id, type = 'info', show_close = false} = options;\n  const msgDom = document.createElement('div');\n  msgDom.className += ` wui-message--${type} wui-message`;\n  msgDom.setAttribute('data-state', 'entered');\n  msgDom.setAttribute('id', msg_id);\n  const msgContent = document.createElement('p');\n  msgContent.className += ` wui-message--${type} wui-message__content`;\n  msgContent.innerText = message;\n  msgDom.appendChild(msgContent);\n  if (show_close) {\n    const closeBtn = document.createElement('i');\n    closeBtn.className += 'wui-message__closeBtn';\n    closeBtn.innerText = 'x';\n    closeBtn.addEventListener('click', (ev) => {\n      closeMsg(msgDom);\n    })\n    msgDom.appendChild(closeBtn);\n  }\n  return msgDom;\n}\n\nexport async function render(view) {\n  let model = view.model;\n  const msgRoot = view.el;\n  msgRoot.className += ' wui-message-root'\n\n  const msgContainer = document.createElement('div');\n  msgContainer.className += ' wui-message-container';\n  msgRoot.appendChild(msgContainer)\n\n  model.on(\"change:message_options\", () => {\n    const options = model.get(\"message_options\");\n    const msg = createMsg(options);\n    msgContainer.appendChild(msg);\n    const {duration = 3000} = options;\n    if (duration > 0) {\n      setTimeout(() => {\n        closeMsg(msg)\n      }, duration);\n    }\n  })\n\n  model.on(\"change:close_msg_id\", () => {\n    const msg_id = model.get(\"close_msg_id\");\n    const msgDom = document.getElementById(msg_id);\n    closeMsg(msgDom);\n  })\n}\n",
       "_model_module": "anywidget",
       "_model_module_version": "0.9.3",
       "_model_name": "AnyModel",
       "_view_module": "anywidget",
       "_view_module_version": "0.9.3",
       "_view_name": "AnyView",
       "close_msg_id": "",
       "layout": "IPY_MODEL_f47effd7cba24f1d851cc0cf128029e3",
       "message_options": {
        "duration": 3000,
        "message": "",
        "show_close": false,
        "type": "info"
       }
      }
     },
     "01da7131690042deba80913b618111b4": {
      "model_module": "@jupyter-widgets/controls",
      "model_module_version": "2.0.0",
      "model_name": "VBoxModel",
      "state": {
       "children": [
        "IPY_MODEL_f40a23aab23e43c7b3e21a9b43d92124"
       ],
       "layout": "IPY_MODEL_f9bae3933bf6408993e06610de42a283"
      }
     },
     "0324b5c8fc3c45e1ba9b30b449969c85": {
      "model_module": "@jupyter-widgets/controls",
      "model_module_version": "2.0.0",
      "model_name": "VBoxModel",
      "state": {
       "children": [
        "IPY_MODEL_72689138f9ed43608cacd4684de97376"
       ],
       "layout": "IPY_MODEL_13258e9e786240f78f4be0bf4f019db6"
      }
     },
     "03684e14729448278d71cf5cc54f6d4c": {
      "model_module": "@jupyter-widgets/controls",
      "model_module_version": "2.0.0",
      "model_name": "VBoxModel",
      "state": {
       "children": [
        "IPY_MODEL_a91fa1d79b924d90b3690a2a5f350b70"
       ],
       "layout": "IPY_MODEL_3a77f73f75cb42dca214ac08e6a49315"
      }
     },
     "0374745ba0ef4d0eb6703eda8f5cbaa8": {
      "model_module": "@jupyter-widgets/output",
      "model_module_version": "1.0.0",
      "model_name": "OutputModel",
      "state": {
       "layout": "IPY_MODEL_a98cd469fc8c4a46b7bb4e6118efd794",
       "outputs": [
        {
         "data": {
          "application/vnd.jupyter.widget-view+json": {
           "model_id": "b1eb9847c7244e398b9b5d3184e1197f",
           "version_major": 2,
           "version_minor": 0
          },
          "text/plain": "VBox(children=(GridspecLayout(children=(VBox(children=(Button(description='span 24', layout=Layout(width='auto…"
         },
         "metadata": {},
         "output_type": "display_data"
        }
       ]
      }
     },
     "0489c331c0274852b79cab82d79da1fd": {
      "model_module": "@jupyter-widgets/controls",
      "model_module_version": "2.0.0",
      "model_name": "ButtonStyleModel",
      "state": {
       "button_color": "#d4dde6",
       "font_family": null,
       "font_size": null,
       "font_style": null,
       "font_variant": null,
       "font_weight": null,
       "text_color": null,
       "text_decoration": null
      }
     },
     "06d6fec54b8643fbb5072ff4947c6ebc": {
      "model_module": "@jupyter-widgets/controls",
      "model_module_version": "2.0.0",
      "model_name": "ButtonModel",
      "state": {
       "description": "span 8",
       "layout": "IPY_MODEL_6278d094d89f4a2c8a9c53ce063d1f83",
       "style": "IPY_MODEL_eecf11f80baa44029a5cc2e14a995e98",
       "tooltip": null
      }
     },
     "071782965eed4afdb9c9477a6f3b1a4e": {
      "model_module": "@jupyter-widgets/base",
      "model_module_version": "2.0.0",
      "model_name": "LayoutModel",
      "state": {
       "grid_area": "widget002"
      }
     },
     "089bf8c584604395a88ed54f2c9c9a15": {
      "model_module": "@jupyter-widgets/base",
      "model_module_version": "2.0.0",
      "model_name": "LayoutModel",
      "state": {
       "grid_template_areas": "\"widget001 widget001 widget001 widget001 widget001 widget001 widget002 widget002 widget002 widget002 widget002 widget002 widget003 widget003 widget003 widget003 widget003 widget003 widget004 widget004 widget004 widget004 widget004 widget004\"",
       "grid_template_columns": "repeat(24, 1fr)",
       "grid_template_rows": "repeat(1, 1fr)"
      }
     },
     "097e6d7bfcfa467781b0e7020bc2b636": {
      "model_module": "@jupyter-widgets/base",
      "model_module_version": "2.0.0",
      "model_name": "LayoutModel",
      "state": {
       "width": "auto"
      }
     },
     "099fd1e05bc94ac8a00a45373ffbd3bb": {
      "model_module": "@jupyter-widgets/controls",
      "model_module_version": "2.0.0",
      "model_name": "VBoxModel",
      "state": {
       "children": [
        "IPY_MODEL_b7fd836309dc4b02970e9dda71c03bf8"
       ],
       "layout": "IPY_MODEL_6df670c8b455434dbfec823d3c0637b6"
      }
     },
     "0b9a9bb591d545f7b1d62f5e627edf51": {
      "model_module": "@jupyter-widgets/base",
      "model_module_version": "2.0.0",
      "model_name": "LayoutModel",
      "state": {}
     },
     "0d051001f0784a96bb1caf6ae5a354ff": {
      "model_module": "@jupyter-widgets/base",
      "model_module_version": "2.0.0",
      "model_name": "LayoutModel",
      "state": {
       "grid_area": "widget001"
      }
     },
     "0e244dbf3de8453789308591bd551766": {
      "model_module": "@jupyter-widgets/base",
      "model_module_version": "2.0.0",
      "model_name": "LayoutModel",
      "state": {
       "grid_area": "widget002"
      }
     },
     "0e5547d0ba7943cbb319161a12125068": {
      "model_module": "@jupyter-widgets/controls",
      "model_module_version": "2.0.0",
      "model_name": "GridBoxModel",
      "state": {
       "children": [
        "IPY_MODEL_7321a3d7e3774610a0951a2c9e1d66bc",
        "IPY_MODEL_e854fb29ca2641598d0e0413905393ae",
        "IPY_MODEL_d0745bbfbabc4d5286846adfa0fd1a89",
        "IPY_MODEL_01da7131690042deba80913b618111b4"
       ],
       "layout": "IPY_MODEL_99c739494b654f548599ea3a0ec93658"
      }
     },
     "0f62a1e38a2c4030b4a7469ee3e01fed": {
      "model_module": "@jupyter-widgets/base",
      "model_module_version": "2.0.0",
      "model_name": "LayoutModel",
      "state": {}
     },
     "0fa00c98cc014f29b5595438a2cad292": {
      "model_module": "@jupyter-widgets/base",
      "model_module_version": "2.0.0",
      "model_name": "LayoutModel",
      "state": {
       "grid_gap": "20px",
       "grid_template_areas": "\"widget001 widget001 widget001 widget001 widget001 widget001 widget002 widget002 widget002 widget002 widget002 widget002 widget003 widget003 widget003 widget003 widget003 widget003 widget004 widget004 widget004 widget004 widget004 widget004\"",
       "grid_template_columns": "repeat(24, 1fr)",
       "grid_template_rows": "repeat(1, 1fr)"
      }
     },
     "117829aacf91426abb439e2886def469": {
      "model_module": "@jupyter-widgets/base",
      "model_module_version": "2.0.0",
      "model_name": "LayoutModel",
      "state": {}
     },
     "11c9fce5dfdc49778f2c7ebed44834e1": {
      "model_module": "@jupyter-widgets/base",
      "model_module_version": "2.0.0",
      "model_name": "LayoutModel",
      "state": {
       "width": "auto"
      }
     },
     "13258e9e786240f78f4be0bf4f019db6": {
      "model_module": "@jupyter-widgets/base",
      "model_module_version": "2.0.0",
      "model_name": "LayoutModel",
      "state": {
       "grid_area": "widget001"
      }
     },
     "177ac84a38874f0da5fbb6a0df4c1b57": {
      "model_module": "@jupyter-widgets/controls",
      "model_module_version": "2.0.0",
      "model_name": "VBoxModel",
      "state": {
       "children": [
        "IPY_MODEL_a9011c7e51cd4c3189a9008cfaacbcd1"
       ],
       "layout": "IPY_MODEL_1e50e69dbec24b1599afeb0238e4c0b5"
      }
     },
     "19ab0414b9cd4d65b340cb68899d5157": {
      "model_module": "@jupyter-widgets/base",
      "model_module_version": "2.0.0",
      "model_name": "LayoutModel",
      "state": {}
     },
     "1b18483711f14101a9163f027de600c9": {
      "model_module": "@jupyter-widgets/controls",
      "model_module_version": "2.0.0",
      "model_name": "VBoxModel",
      "state": {
       "children": [
        "IPY_MODEL_8a9b464cc12643d88bfe79e3a5231610"
       ],
       "layout": "IPY_MODEL_e517e47d16bb4b3dbb6c61ed59c11c72"
      }
     },
     "1d805a5346b04049a60d1ce14b7ab4bb": {
      "model_module": "@jupyter-widgets/base",
      "model_module_version": "2.0.0",
      "model_name": "LayoutModel",
      "state": {}
     },
     "1e50e69dbec24b1599afeb0238e4c0b5": {
      "model_module": "@jupyter-widgets/base",
      "model_module_version": "2.0.0",
      "model_name": "LayoutModel",
      "state": {
       "grid_area": "widget001"
      }
     },
     "1e5210652c35497c99b1bb7da72d5621": {
      "model_module": "@jupyter-widgets/base",
      "model_module_version": "2.0.0",
      "model_name": "LayoutModel",
      "state": {
       "grid_template_areas": "\"widget001 widget001 widget001 widget001 widget001 widget001 widget001 widget001 widget001 widget001 widget001 widget001 widget002 widget002 widget002 widget002 widget002 widget002 widget002 widget002 widget002 widget002 widget002 widget002\"",
       "grid_template_columns": "repeat(24, 1fr)",
       "grid_template_rows": "repeat(1, 1fr)"
      }
     },
     "20deb74f8c2046d6bfd217ae605f2e98": {
      "model_module": "@jupyter-widgets/base",
      "model_module_version": "2.0.0",
      "model_name": "LayoutModel",
      "state": {
       "grid_area": "widget004"
      }
     },
     "22102be181e149bba039b7a377c6b7c2": {
      "model_module": "@jupyter-widgets/controls",
      "model_module_version": "2.0.0",
      "model_name": "GridBoxModel",
      "state": {
       "children": [
        "IPY_MODEL_03684e14729448278d71cf5cc54f6d4c"
       ],
       "layout": "IPY_MODEL_6cde906144fd4906b6cd8b03ce64c8fa"
      }
     },
     "247ba137ad794f33b8ad6eb783769b12": {
      "model_module": "@jupyter-widgets/controls",
      "model_module_version": "2.0.0",
      "model_name": "ButtonModel",
      "state": {
       "layout": "IPY_MODEL_c58bb5eb0292437d808ab6c7dad96eb5",
       "style": "IPY_MODEL_0489c331c0274852b79cab82d79da1fd",
       "tooltip": null
      }
     },
     "254f4645eb4a43429b761e2ff8f1268d": {
      "model_module": "@jupyter-widgets/controls",
      "model_module_version": "2.0.0",
      "model_name": "VBoxModel",
      "state": {
       "children": [
        "IPY_MODEL_cf677e5c3a3748e5a9ade35776171125"
       ],
       "layout": "IPY_MODEL_6fe99470540b4e378a7b544b3912edcc"
      }
     },
     "2581173a457a45ebb290b60bb3d57dac": {
      "model_module": "@jupyter-widgets/base",
      "model_module_version": "2.0.0",
      "model_name": "LayoutModel",
      "state": {
       "grid_template_areas": "\"widget001 widget001 widget001 widget001 widget001 widget001 . . . . . . widget002 widget002 widget002 widget002 widget002 widget002 . . . . . .\"",
       "grid_template_columns": "repeat(24, 1fr)",
       "grid_template_rows": "repeat(1, 1fr)"
      }
     },
     "28f6cba1f6744a35b1b4d7ea268555a4": {
      "model_module": "anywidget",
      "model_module_version": "0.9.3",
      "model_name": "AnyModel",
      "state": {
       "_anywidget_id": "ipywui.widgets.custom.message.MessageWidget",
       "_css": ".wui-message-root {\n    display: flex;\n    position: absolute;\n    left: 0;\n    right: 0;\n    top: 0;\n}\n\n.wui-message-container {\n    align-items: center;\n    display: flex;\n    flex-direction: column-reverse;\n    justify-content: center;\n    min-height: 100%;\n    outline: none;\n    width: 100%;\n\n    -webkit-tap-highlight-color: rgba(0,0,0,0);\n    bottom: 0;\n    left: 0;\n    right: 0;\n    top: 0;\n}\n\n.wui-message--success {\n    --wui-message-bg-color: #f0f9eb;\n    --wui-message-border-color: #e1f3d8;\n    --wui-message-text-color: #67c23a;\n}\n.wui-message--warning {\n    --wui-message-bg-color: #fdf6ec;\n    --wui-message-border-color: #faecd8;\n    --wui-message-text-color: #e6a23c;\n}\n.wui-message--info {\n    --wui-message-bg-color: #f4f4f5;\n    --wui-message-border-color: #e9e9eb;\n    --wui-message-text-color: #909399;\n}\n.wui-message--error {\n    --wui-message-bg-color: #fef0f0;\n    --wui-message-border-color: #fde2e2;\n    --wui-message-text-color: #f56c6c;\n}\n\n@keyframes msg-open {\n    0% {\n        opacity: 0;\n        -webkit-transform: translateY(-120%);\n        transform: translateY(-120%)\n    }\n    to {\n        -webkit-transform: translateY(0);\n        transform: translateY(0)\n    }\n}\n\n@keyframes msg-close {\n    0% {\n        opacity: 1;\n        -webkit-transform: scale(1);\n        transform: scale(1)\n    }\n    to {\n        opacity: 0;\n        -webkit-transform: scale(.9);\n        transform: scale(.9)\n    }\n}\n.wui-message[data-state=entered],.wui-message[data-state=entering] {\n    -webkit-animation: msg-open .24s cubic-bezier(.175,.885,.32,1.175) both;\n    animation: msg-open .24s cubic-bezier(.175,.885,.32,1.175) both\n}\n\n.wui-message[data-state=exiting] {\n    -webkit-animation: msg-close .12s cubic-bezier(.4,0,1,1) both;\n    animation: msg-close .12s cubic-bezier(.4,0,1,1) both\n}\n\n.wui-message {\n    width: -webkit-fit-content;\n    width: -moz-fit-content;\n    width: fit-content;\n    z-index: 2004;\n    max-width: calc(100% - 32px);\n    margin-top: 8px;\n    box-sizing: border-box;\n    /*border-radius: var(--wui-border-radius-base);*/\n    /*border-width: var(--wui-border-width);*/\n    /*border-style: var(--wui-border-style);*/\n    border-color: var(--wui-message-border-color);\n    /*left: 50%;*/\n    /*top: 20px;*/\n    /*transform: translateX(-50%);*/\n    background-color: var(--wui-message-bg-color);\n    /*transition: opacity var(--wui-transition-duration),transform .4s,top .4s;*/\n    /*padding: var(--wui-message-padding);*/\n    display: flex;\n    align-items: center;\n}\n\n/*.wui-message--success */\n.wui-message__content {\n    color: var(--wui-message-text-color);\n    font-size: 14px;\n    line-height: 18px;\n    margin: 10px 14px 10px 14px;\n    overflow-wrap: break-word;\n}\n\n.wui-message__closeBtn {\n    /*cursor: pointer;*/\n    font-style: normal;\n    /*color: gray;*/\n    padding-right: 14px;\n    /*font-size: 13px;*/\n    user-select: none;\n\n    background: transparent;\n    border: none;\n    color: gray;\n    cursor: pointer;\n    font-size: 13px;\n    font-weight: 400;\n    line-height: 1;\n    outline: none;\n    /*padding: 4px;*/\n    text-align: center;\n    transition: opacity .3s;\n    /*width: 100%;*/\n}",
       "_esm": "function closeMsg(msgDom) {\n  if (!msgDom) {\n    return;\n  }\n  msgDom.setAttribute('data-state', 'exiting');\n  msgDom.remove();\n}\n\nfunction createMsg(options) {\n  const {message, msg_id, type = 'info', show_close = false} = options;\n  const msgDom = document.createElement('div');\n  msgDom.className += ` wui-message--${type} wui-message`;\n  msgDom.setAttribute('data-state', 'entered');\n  msgDom.setAttribute('id', msg_id);\n  const msgContent = document.createElement('p');\n  msgContent.className += ` wui-message--${type} wui-message__content`;\n  msgContent.innerText = message;\n  msgDom.appendChild(msgContent);\n  if (show_close) {\n    const closeBtn = document.createElement('i');\n    closeBtn.className += 'wui-message__closeBtn';\n    closeBtn.innerText = 'x';\n    closeBtn.addEventListener('click', (ev) => {\n      closeMsg(msgDom);\n    })\n    msgDom.appendChild(closeBtn);\n  }\n  return msgDom;\n}\n\nexport async function render(view) {\n  let model = view.model;\n  const msgRoot = view.el;\n  msgRoot.className += ' wui-message-root'\n\n  const msgContainer = document.createElement('div');\n  msgContainer.className += ' wui-message-container';\n  msgRoot.appendChild(msgContainer)\n\n  model.on(\"change:message_options\", () => {\n    const options = model.get(\"message_options\");\n    const msg = createMsg(options);\n    msgContainer.appendChild(msg);\n    const {duration = 3000} = options;\n    if (duration > 0) {\n      setTimeout(() => {\n        closeMsg(msg)\n      }, duration);\n    }\n  })\n\n  model.on(\"change:close_msg_id\", () => {\n    const msg_id = model.get(\"close_msg_id\");\n    const msgDom = document.getElementById(msg_id);\n    closeMsg(msgDom);\n  })\n}\n",
       "_model_module": "anywidget",
       "_model_module_version": "0.9.3",
       "_model_name": "AnyModel",
       "_view_module": "anywidget",
       "_view_module_version": "0.9.3",
       "_view_name": "AnyView",
       "close_msg_id": "",
       "layout": "IPY_MODEL_1d805a5346b04049a60d1ce14b7ab4bb",
       "message_options": {
        "duration": 3000,
        "message": "",
        "show_close": false,
        "type": "info"
       }
      }
     },
     "2948d04491a94daa933c8f8c67317123": {
      "model_module": "@jupyter-widgets/controls",
      "model_module_version": "2.0.0",
      "model_name": "VBoxModel",
      "state": {
       "children": [
        "IPY_MODEL_7dc8b8fe4fa04db8b4aad563abca9504"
       ],
       "layout": "IPY_MODEL_345c59ce1c644659af375cba96392d8c"
      }
     },
     "2ce0c3e20688405795ac424b14eacbe5": {
      "model_module": "@jupyter-widgets/controls",
      "model_module_version": "2.0.0",
      "model_name": "GridBoxModel",
      "state": {
       "children": [
        "IPY_MODEL_1b18483711f14101a9163f027de600c9",
        "IPY_MODEL_4c436f7e239e49f5aeaef233f515965a"
       ],
       "layout": "IPY_MODEL_e8843f027dd44301a93ea9c5207b227f"
      }
     },
     "2e09c62f65ec459aa66d63c83f30f4a0": {
      "model_module": "@jupyter-widgets/controls",
      "model_module_version": "2.0.0",
      "model_name": "VBoxModel",
      "state": {
       "children": [
        "IPY_MODEL_acf543b0b4ae437783b65a03e863b993"
       ],
       "layout": "IPY_MODEL_4bbccfae3f844fa7811a6195cbdde4c2"
      }
     },
     "2fc2ec313f4a4cc49d80ec1161ce6324": {
      "model_module": "anywidget",
      "model_module_version": "0.9.3",
      "model_name": "AnyModel",
      "state": {
       "_anywidget_id": "ipywui.widgets.custom.message.MessageWidget",
       "_css": ".wui-message-root {\n    display: flex;\n    position: absolute;\n    left: 0;\n    right: 0;\n    top: 0;\n}\n\n.wui-message-container {\n    align-items: center;\n    display: flex;\n    flex-direction: column-reverse;\n    justify-content: center;\n    min-height: 100%;\n    outline: none;\n    width: 100%;\n\n    -webkit-tap-highlight-color: rgba(0,0,0,0);\n    bottom: 0;\n    left: 0;\n    right: 0;\n    top: 0;\n}\n\n.wui-message--success {\n    --wui-message-bg-color: #f0f9eb;\n    --wui-message-border-color: #e1f3d8;\n    --wui-message-text-color: #67c23a;\n}\n.wui-message--warning {\n    --wui-message-bg-color: #fdf6ec;\n    --wui-message-border-color: #faecd8;\n    --wui-message-text-color: #e6a23c;\n}\n.wui-message--info {\n    --wui-message-bg-color: #f4f4f5;\n    --wui-message-border-color: #e9e9eb;\n    --wui-message-text-color: #909399;\n}\n.wui-message--error {\n    --wui-message-bg-color: #fef0f0;\n    --wui-message-border-color: #fde2e2;\n    --wui-message-text-color: #f56c6c;\n}\n\n@keyframes msg-open {\n    0% {\n        opacity: 0;\n        -webkit-transform: translateY(-120%);\n        transform: translateY(-120%)\n    }\n    to {\n        -webkit-transform: translateY(0);\n        transform: translateY(0)\n    }\n}\n\n@keyframes msg-close {\n    0% {\n        opacity: 1;\n        -webkit-transform: scale(1);\n        transform: scale(1)\n    }\n    to {\n        opacity: 0;\n        -webkit-transform: scale(.9);\n        transform: scale(.9)\n    }\n}\n.wui-message[data-state=entered],.wui-message[data-state=entering] {\n    -webkit-animation: msg-open .24s cubic-bezier(.175,.885,.32,1.175) both;\n    animation: msg-open .24s cubic-bezier(.175,.885,.32,1.175) both\n}\n\n.wui-message[data-state=exiting] {\n    -webkit-animation: msg-close .12s cubic-bezier(.4,0,1,1) both;\n    animation: msg-close .12s cubic-bezier(.4,0,1,1) both\n}\n\n.wui-message {\n    width: -webkit-fit-content;\n    width: -moz-fit-content;\n    width: fit-content;\n    z-index: 2004;\n    max-width: calc(100% - 32px);\n    margin-top: 8px;\n    box-sizing: border-box;\n    /*border-radius: var(--wui-border-radius-base);*/\n    /*border-width: var(--wui-border-width);*/\n    /*border-style: var(--wui-border-style);*/\n    border-color: var(--wui-message-border-color);\n    /*left: 50%;*/\n    /*top: 20px;*/\n    /*transform: translateX(-50%);*/\n    background-color: var(--wui-message-bg-color);\n    /*transition: opacity var(--wui-transition-duration),transform .4s,top .4s;*/\n    /*padding: var(--wui-message-padding);*/\n    display: flex;\n    align-items: center;\n}\n\n/*.wui-message--success */\n.wui-message__content {\n    color: var(--wui-message-text-color);\n    font-size: 14px;\n    line-height: 18px;\n    margin: 10px 14px 10px 14px;\n    overflow-wrap: break-word;\n}\n\n.wui-message__closeBtn {\n    /*cursor: pointer;*/\n    font-style: normal;\n    /*color: gray;*/\n    padding-right: 14px;\n    /*font-size: 13px;*/\n    user-select: none;\n\n    background: transparent;\n    border: none;\n    color: gray;\n    cursor: pointer;\n    font-size: 13px;\n    font-weight: 400;\n    line-height: 1;\n    outline: none;\n    /*padding: 4px;*/\n    text-align: center;\n    transition: opacity .3s;\n    /*width: 100%;*/\n}",
       "_esm": "function closeMsg(msgDom) {\n  if (!msgDom) {\n    return;\n  }\n  msgDom.setAttribute('data-state', 'exiting');\n  msgDom.remove();\n}\n\nfunction createMsg(options) {\n  const {message, msg_id, type = 'info', show_close = false} = options;\n  const msgDom = document.createElement('div');\n  msgDom.className += ` wui-message--${type} wui-message`;\n  msgDom.setAttribute('data-state', 'entered');\n  msgDom.setAttribute('id', msg_id);\n  const msgContent = document.createElement('p');\n  msgContent.className += ` wui-message--${type} wui-message__content`;\n  msgContent.innerText = message;\n  msgDom.appendChild(msgContent);\n  if (show_close) {\n    const closeBtn = document.createElement('i');\n    closeBtn.className += 'wui-message__closeBtn';\n    closeBtn.innerText = 'x';\n    closeBtn.addEventListener('click', (ev) => {\n      closeMsg(msgDom);\n    })\n    msgDom.appendChild(closeBtn);\n  }\n  return msgDom;\n}\n\nexport async function render(view) {\n  let model = view.model;\n  const msgRoot = view.el;\n  msgRoot.className += ' wui-message-root'\n\n  const msgContainer = document.createElement('div');\n  msgContainer.className += ' wui-message-container';\n  msgRoot.appendChild(msgContainer)\n\n  model.on(\"change:message_options\", () => {\n    const options = model.get(\"message_options\");\n    const msg = createMsg(options);\n    msgContainer.appendChild(msg);\n    const {duration = 3000} = options;\n    if (duration > 0) {\n      setTimeout(() => {\n        closeMsg(msg)\n      }, duration);\n    }\n  })\n\n  model.on(\"change:close_msg_id\", () => {\n    const msg_id = model.get(\"close_msg_id\");\n    const msgDom = document.getElementById(msg_id);\n    closeMsg(msgDom);\n  })\n}\n",
       "_model_module": "anywidget",
       "_model_module_version": "0.9.3",
       "_model_name": "AnyModel",
       "_view_module": "anywidget",
       "_view_module_version": "0.9.3",
       "_view_name": "AnyView",
       "close_msg_id": "",
       "layout": "IPY_MODEL_a1b6737caff14766bc2409f24f61dcfe",
       "message_options": {
        "duration": 3000,
        "message": "",
        "show_close": false,
        "type": "info"
       }
      }
     },
     "31cefbd97bcc459cbc32f2ae6bf4d7c2": {
      "model_module": "@jupyter-widgets/controls",
      "model_module_version": "2.0.0",
      "model_name": "GridBoxModel",
      "state": {
       "children": [
        "IPY_MODEL_0324b5c8fc3c45e1ba9b30b449969c85",
        "IPY_MODEL_e71a8971d07141cf8cd34530936b2d78"
       ],
       "layout": "IPY_MODEL_1e5210652c35497c99b1bb7da72d5621"
      }
     },
     "32d12f8c0c464edca6deda7faf6d16e9": {
      "model_module": "@jupyter-widgets/controls",
      "model_module_version": "2.0.0",
      "model_name": "ButtonStyleModel",
      "state": {
       "button_color": "#d4dde6",
       "font_family": null,
       "font_size": null,
       "font_style": null,
       "font_variant": null,
       "font_weight": null,
       "text_color": null,
       "text_decoration": null
      }
     },
     "345c59ce1c644659af375cba96392d8c": {
      "model_module": "@jupyter-widgets/base",
      "model_module_version": "2.0.0",
      "model_name": "LayoutModel",
      "state": {
       "grid_area": "widget002"
      }
     },
     "34c470d0875a46c79d0d51da5e45be55": {
      "model_module": "@jupyter-widgets/controls",
      "model_module_version": "2.0.0",
      "model_name": "VBoxModel",
      "state": {
       "children": [
        "IPY_MODEL_76a861cb47b04b06ac41a3dae7d91201"
       ],
       "layout": "IPY_MODEL_79e518a62349403f8ea05ba2ee9fb5b3"
      }
     },
     "3755a2de6bfa428e8cea4c8e95046e66": {
      "model_module": "@jupyter-widgets/base",
      "model_module_version": "2.0.0",
      "model_name": "LayoutModel",
      "state": {
       "width": "auto"
      }
     },
     "3810ff4fd5bb479aa7797dc512ccb335": {
      "model_module": "@jupyter-widgets/controls",
      "model_module_version": "2.0.0",
      "model_name": "ButtonModel",
      "state": {
       "description": "span 8",
       "layout": "IPY_MODEL_c067c0ca3aca4ac1b0824bcc133ae974",
       "style": "IPY_MODEL_d8342b5bdf8143a8bc44dba7bcfad772",
       "tooltip": null
      }
     },
     "38f4058f29cb475d9d6eb892703d7dff": {
      "model_module": "@jupyter-widgets/base",
      "model_module_version": "2.0.0",
      "model_name": "LayoutModel",
      "state": {
       "grid_area": "widget003"
      }
     },
     "3a0158153f274431a27398831962f3b4": {
      "model_module": "@jupyter-widgets/controls",
      "model_module_version": "2.0.0",
      "model_name": "VBoxModel",
      "state": {
       "children": [
        "IPY_MODEL_5a01240671e74b33a4d7cde3de1dde24",
        "IPY_MODEL_3d612019eb9640d9a477b58ed3f8ea8a",
        "IPY_MODEL_efe21f131fe9415199c1b48f4c08b626"
       ],
       "layout": "IPY_MODEL_dad4e0dd790d4791b2a9c63537b1cbe1"
      }
     },
     "3a77f73f75cb42dca214ac08e6a49315": {
      "model_module": "@jupyter-widgets/base",
      "model_module_version": "2.0.0",
      "model_name": "LayoutModel",
      "state": {
       "grid_area": "widget001"
      }
     },
     "3cdb75f12a91481f82315dc884877574": {
      "model_module": "@jupyter-widgets/controls",
      "model_module_version": "2.0.0",
      "model_name": "ButtonModel",
      "state": {
       "description": "span 8",
       "layout": "IPY_MODEL_938224fbb9f44eb882a6f5084d429dfd",
       "style": "IPY_MODEL_bdc0c7b74078480488360be726f1d3cd",
       "tooltip": null
      }
     },
     "3d612019eb9640d9a477b58ed3f8ea8a": {
      "model_module": "@jupyter-widgets/controls",
      "model_module_version": "2.0.0",
      "model_name": "GridBoxModel",
      "state": {
       "children": [
        "IPY_MODEL_a98a01ad81cb4a58bee9a3e7f9b7a68d",
        "IPY_MODEL_2948d04491a94daa933c8f8c67317123"
       ],
       "layout": "IPY_MODEL_cb7426e0b0054149a44289854e04aa24"
      }
     },
     "3ee3323f706c4802aa46abe17ad9de77": {
      "model_module": "@jupyter-widgets/controls",
      "model_module_version": "2.0.0",
      "model_name": "ButtonStyleModel",
      "state": {
       "button_color": "#d4dde6",
       "font_family": null,
       "font_size": null,
       "font_style": null,
       "font_variant": null,
       "font_weight": null,
       "text_color": null,
       "text_decoration": null
      }
     },
     "3f70da14dd364f7a8b760440e220e564": {
      "model_module": "@jupyter-widgets/base",
      "model_module_version": "2.0.0",
      "model_name": "LayoutModel",
      "state": {
       "grid_area": "widget001"
      }
     },
     "4343df26670c4957a3d0f8ce0edb1db2": {
      "model_module": "@jupyter-widgets/controls",
      "model_module_version": "2.0.0",
      "model_name": "ButtonStyleModel",
      "state": {
       "button_color": "#d4dde6",
       "font_family": null,
       "font_size": null,
       "font_style": null,
       "font_variant": null,
       "font_weight": null,
       "text_color": null,
       "text_decoration": null
      }
     },
     "45f3b49df06e4caba51cec4db000ed08": {
      "model_module": "@jupyter-widgets/base",
      "model_module_version": "2.0.0",
      "model_name": "LayoutModel",
      "state": {
       "width": "auto"
      }
     },
     "47bf1e643f0a4e8683076fc23016d657": {
      "model_module": "@jupyter-widgets/controls",
      "model_module_version": "2.0.0",
      "model_name": "ButtonStyleModel",
      "state": {
       "button_color": "#d4dde6",
       "font_family": null,
       "font_size": null,
       "font_style": null,
       "font_variant": null,
       "font_weight": null,
       "text_color": null,
       "text_decoration": null
      }
     },
     "480323d078c042a4aa942e0d4767eeb5": {
      "model_module": "@jupyter-widgets/base",
      "model_module_version": "2.0.0",
      "model_name": "LayoutModel",
      "state": {
       "grid_area": "widget001"
      }
     },
     "4980cc95d75e4ab79555f2c62f1e0521": {
      "model_module": "@jupyter-widgets/controls",
      "model_module_version": "2.0.0",
      "model_name": "ButtonStyleModel",
      "state": {
       "button_color": "#e5e9f2",
       "font_family": null,
       "font_size": null,
       "font_style": null,
       "font_variant": null,
       "font_weight": null,
       "text_color": null,
       "text_decoration": null
      }
     },
     "4a5282fdfb464f8fa44ba709b44fc532": {
      "model_module": "@jupyter-widgets/controls",
      "model_module_version": "2.0.0",
      "model_name": "VBoxModel",
      "state": {
       "children": [
        "IPY_MODEL_9f48c6e56536472eb8c1fb143aaa745e"
       ],
       "layout": "IPY_MODEL_ed22d5f3591f45ff9246c4a2d76d700b"
      }
     },
     "4ab4bbc70a844edab26b35ffad0d226a": {
      "model_module": "@jupyter-widgets/controls",
      "model_module_version": "2.0.0",
      "model_name": "VBoxModel",
      "state": {
       "children": [
        "IPY_MODEL_7f2fef3c592c402b98a20d796280f651"
       ],
       "layout": "IPY_MODEL_eb5ba29033e040eaa0bf1f7b7008db9e"
      }
     },
     "4b704cb2d13b48a3927e44d356b8d51e": {
      "model_module": "@jupyter-widgets/base",
      "model_module_version": "2.0.0",
      "model_name": "LayoutModel",
      "state": {
       "grid_area": "widget003"
      }
     },
     "4bbccfae3f844fa7811a6195cbdde4c2": {
      "model_module": "@jupyter-widgets/base",
      "model_module_version": "2.0.0",
      "model_name": "LayoutModel",
      "state": {
       "grid_area": "widget002"
      }
     },
     "4c436f7e239e49f5aeaef233f515965a": {
      "model_module": "@jupyter-widgets/controls",
      "model_module_version": "2.0.0",
      "model_name": "VBoxModel",
      "state": {
       "children": [
        "IPY_MODEL_d0914052e71e4fa1b11e070fc16a3e61"
       ],
       "layout": "IPY_MODEL_071782965eed4afdb9c9477a6f3b1a4e"
      }
     },
     "50472bb950364bb9bf453364dd7d8623": {
      "model_module": "@jupyter-widgets/base",
      "model_module_version": "2.0.0",
      "model_name": "LayoutModel",
      "state": {
       "width": "auto"
      }
     },
     "51cd8377022a446a9966cb2799b0695c": {
      "model_module": "@jupyter-widgets/controls",
      "model_module_version": "2.0.0",
      "model_name": "VBoxModel",
      "state": {
       "children": [
        "IPY_MODEL_f5457bafcaf048dfa70b8f50d678fca5"
       ],
       "layout": "IPY_MODEL_d09fe84205004bc8932fe14353ce1c94"
      }
     },
     "522c51a382a84ee4a4dfcb8f0279b352": {
      "model_module": "@jupyter-widgets/base",
      "model_module_version": "2.0.0",
      "model_name": "LayoutModel",
      "state": {
       "width": "auto"
      }
     },
     "538f1c7071bf4660b2dc866887868e39": {
      "model_module": "@jupyter-widgets/output",
      "model_module_version": "1.0.0",
      "model_name": "OutputModel",
      "state": {
       "layout": "IPY_MODEL_fe60ab51890b4448802c5a5c8c8ab963",
       "outputs": [
        {
         "data": {
          "application/vnd.jupyter.widget-view+json": {
           "model_id": "3a0158153f274431a27398831962f3b4",
           "version_major": 2,
           "version_minor": 0
          },
          "text/plain": "VBox(children=(GridspecLayout(children=(VBox(children=(Button(description='span 6', layout=Layout(width='auto'…"
         },
         "metadata": {},
         "output_type": "display_data"
        }
       ]
      }
     },
     "568e1c77cfff4e9f9ca7a10bdf8fda44": {
      "model_module": "@jupyter-widgets/controls",
      "model_module_version": "2.0.0",
      "model_name": "ButtonStyleModel",
      "state": {
       "button_color": "#e5e9f2",
       "font_family": null,
       "font_size": null,
       "font_style": null,
       "font_variant": null,
       "font_weight": null,
       "text_color": null,
       "text_decoration": null
      }
     },
     "598eff391a04486db6884a92c934f3ee": {
      "model_module": "@jupyter-widgets/base",
      "model_module_version": "2.0.0",
      "model_name": "LayoutModel",
      "state": {
       "grid_template_areas": "\"widget001 widget001 widget001 widget001 widget001 widget001 widget001 widget001 widget002 widget002 widget002 widget002 widget002 widget002 widget002 widget002 widget003 widget003 widget003 widget003 widget003 widget003 widget003 widget003\"",
       "grid_template_columns": "repeat(24, 1fr)",
       "grid_template_rows": "repeat(1, 1fr)"
      }
     },
     "5a01240671e74b33a4d7cde3de1dde24": {
      "model_module": "@jupyter-widgets/controls",
      "model_module_version": "2.0.0",
      "model_name": "GridBoxModel",
      "state": {
       "children": [
        "IPY_MODEL_711c6852610e4a98a32517d0c31fece2",
        "IPY_MODEL_a39df2fe8f9f4d46bfddd9c59a3562ed"
       ],
       "layout": "IPY_MODEL_2581173a457a45ebb290b60bb3d57dac"
      }
     },
     "5b29fc0b24a64283af00c29f26dd06d3": {
      "model_module": "@jupyter-widgets/controls",
      "model_module_version": "2.0.0",
      "model_name": "ButtonModel",
      "state": {
       "description": "offset 6 span 8",
       "layout": "IPY_MODEL_50472bb950364bb9bf453364dd7d8623",
       "style": "IPY_MODEL_87afe78500094623b14c62f003982e0d",
       "tooltip": null
      }
     },
     "6278d094d89f4a2c8a9c53ce063d1f83": {
      "model_module": "@jupyter-widgets/base",
      "model_module_version": "2.0.0",
      "model_name": "LayoutModel",
      "state": {
       "width": "auto"
      }
     },
     "64ecbfbf14d24812884789636c1a715a": {
      "model_module": "@jupyter-widgets/controls",
      "model_module_version": "2.0.0",
      "model_name": "GridBoxModel",
      "state": {
       "children": [
        "IPY_MODEL_b330f98aa28f42ed91d53adb73a2aec9",
        "IPY_MODEL_930649ce2abc49ada2a735559114c091",
        "IPY_MODEL_de5e85ce541c481e805fec1adea91a58"
       ],
       "layout": "IPY_MODEL_b78dd7c069ae41588dd1e5757174ff09"
      }
     },
     "65759399cb1b475886605bcfccf1a2b8": {
      "model_module": "@jupyter-widgets/controls",
      "model_module_version": "2.0.0",
      "model_name": "GridBoxModel",
      "state": {
       "children": [
        "IPY_MODEL_a442b5407d124f3e90723a4e5da2cc70",
        "IPY_MODEL_967896a1dcb54c848e7ad252c4f1231e",
        "IPY_MODEL_df04a7fb18b24465af85d3ac0b9859bd"
       ],
       "layout": "IPY_MODEL_598eff391a04486db6884a92c934f3ee"
      }
     },
     "6806ccae2a4743d4824ffc1a389047c6": {
      "model_module": "@jupyter-widgets/controls",
      "model_module_version": "2.0.0",
      "model_name": "ButtonModel",
      "state": {
       "description": "span 8",
       "layout": "IPY_MODEL_821bba18a361402385d83df72d5c74d7",
       "style": "IPY_MODEL_e54e53079988441ba7a0c49abc038594",
       "tooltip": null
      }
     },
     "698c831ec9b74c3696c65d8de61d192e": {
      "model_module": "@jupyter-widgets/controls",
      "model_module_version": "2.0.0",
      "model_name": "GridBoxModel",
      "state": {
       "children": [
        "IPY_MODEL_d1f89ed9a84448bbb775de2dbccf9147",
        "IPY_MODEL_254f4645eb4a43429b761e2ff8f1268d",
        "IPY_MODEL_ef9d14307e1d40af8d7fb63a23144489",
        "IPY_MODEL_d6b6576b94144737b697a508df8e64f7"
       ],
       "layout": "IPY_MODEL_0fa00c98cc014f29b5595438a2cad292"
      }
     },
     "6a18ae5a12674fd1ba41d5fce778ba24": {
      "model_module": "@jupyter-widgets/base",
      "model_module_version": "2.0.0",
      "model_name": "LayoutModel",
      "state": {
       "grid_template_areas": "\". . . . . . widget001 widget001 widget001 widget001 widget001 widget001 widget001 widget001 widget001 widget001 widget001 widget001 . . . . . .\"",
       "grid_template_columns": "repeat(24, 1fr)",
       "grid_template_rows": "repeat(1, 1fr)"
      }
     },
     "6a93f2b6b02349a1949401ea1c35bdba": {
      "model_module": "@jupyter-widgets/controls",
      "model_module_version": "2.0.0",
      "model_name": "VBoxModel",
      "state": {
       "children": [
        "IPY_MODEL_cfd9514ab60747e09e7651e310c42221"
       ],
       "layout": "IPY_MODEL_f5ab7217235a49a59174fef4caf6b229"
      }
     },
     "6cde906144fd4906b6cd8b03ce64c8fa": {
      "model_module": "@jupyter-widgets/base",
      "model_module_version": "2.0.0",
      "model_name": "LayoutModel",
      "state": {
       "grid_template_areas": "\"widget001 widget001 widget001 widget001 widget001 widget001 widget001 widget001 widget001 widget001 widget001 widget001 widget001 widget001 widget001 widget001 widget001 widget001 widget001 widget001 widget001 widget001 widget001 widget001\"",
       "grid_template_columns": "repeat(24, 1fr)",
       "grid_template_rows": "repeat(1, 1fr)"
      }
     },
     "6df670c8b455434dbfec823d3c0637b6": {
      "model_module": "@jupyter-widgets/base",
      "model_module_version": "2.0.0",
      "model_name": "LayoutModel",
      "state": {}
     },
     "6fe99470540b4e378a7b544b3912edcc": {
      "model_module": "@jupyter-widgets/base",
      "model_module_version": "2.0.0",
      "model_name": "LayoutModel",
      "state": {
       "grid_area": "widget002"
      }
     },
     "711c6852610e4a98a32517d0c31fece2": {
      "model_module": "@jupyter-widgets/controls",
      "model_module_version": "2.0.0",
      "model_name": "VBoxModel",
      "state": {
       "children": [
        "IPY_MODEL_aa7937196870477fb91e856bacc34eaa"
       ],
       "layout": "IPY_MODEL_fa4f1ad23e4d4143bf19330baff4533c"
      }
     },
     "718807d9e8c74266ac68ca3cde9b1743": {
      "model_module": "@jupyter-widgets/controls",
      "model_module_version": "2.0.0",
      "model_name": "ButtonModel",
      "state": {
       "description": "span 4",
       "layout": "IPY_MODEL_f8ac1c9577d145ffa091dd782bea4a95",
       "style": "IPY_MODEL_dde08ed8ff054573ae8baeb7e6282dbb",
       "tooltip": null
      }
     },
     "72689138f9ed43608cacd4684de97376": {
      "model_module": "@jupyter-widgets/controls",
      "model_module_version": "2.0.0",
      "model_name": "ButtonModel",
      "state": {
       "description": "span 12",
       "layout": "IPY_MODEL_9556d1c67b964c149f72bf59ad6054a0",
       "style": "IPY_MODEL_3ee3323f706c4802aa46abe17ad9de77",
       "tooltip": null
      }
     },
     "7321a3d7e3774610a0951a2c9e1d66bc": {
      "model_module": "@jupyter-widgets/controls",
      "model_module_version": "2.0.0",
      "model_name": "VBoxModel",
      "state": {
       "children": [
        "IPY_MODEL_e5109f89bb5a4615af73dc25fb5eb543"
       ],
       "layout": "IPY_MODEL_480323d078c042a4aa942e0d4767eeb5"
      }
     },
     "7468d566b2334edcad6b034bdd960efc": {
      "model_module": "@jupyter-widgets/base",
      "model_module_version": "2.0.0",
      "model_name": "LayoutModel",
      "state": {
       "width": "auto"
      }
     },
     "76a861cb47b04b06ac41a3dae7d91201": {
      "model_module": "@jupyter-widgets/controls",
      "model_module_version": "2.0.0",
      "model_name": "ButtonModel",
      "state": {
       "description": "span 6",
       "layout": "IPY_MODEL_522c51a382a84ee4a4dfcb8f0279b352",
       "style": "IPY_MODEL_7ac08fa7c6764712b1475d9374435e2a",
       "tooltip": null
      }
     },
     "793235efa308457bb9d9b26554b3102a": {
      "model_module": "@jupyter-widgets/controls",
      "model_module_version": "2.0.0",
      "model_name": "ButtonStyleModel",
      "state": {
       "button_color": "#d4dde6",
       "font_family": null,
       "font_size": null,
       "font_style": null,
       "font_variant": null,
       "font_weight": null,
       "text_color": null,
       "text_decoration": null
      }
     },
     "79e518a62349403f8ea05ba2ee9fb5b3": {
      "model_module": "@jupyter-widgets/base",
      "model_module_version": "2.0.0",
      "model_name": "LayoutModel",
      "state": {
       "grid_area": "widget003"
      }
     },
     "7abaa207ad624383bbcef2e2d04ed506": {
      "model_module": "@jupyter-widgets/controls",
      "model_module_version": "2.0.0",
      "model_name": "ButtonStyleModel",
      "state": {
       "button_color": "#9dacc1",
       "font_family": null,
       "font_size": null,
       "font_style": null,
       "font_variant": null,
       "font_weight": null,
       "text_color": null,
       "text_decoration": null
      }
     },
     "7ac08fa7c6764712b1475d9374435e2a": {
      "model_module": "@jupyter-widgets/controls",
      "model_module_version": "2.0.0",
      "model_name": "ButtonStyleModel",
      "state": {
       "button_color": "#d4dde6",
       "font_family": null,
       "font_size": null,
       "font_style": null,
       "font_variant": null,
       "font_weight": null,
       "text_color": null,
       "text_decoration": null
      }
     },
     "7d0db08bceb34a10b242db67340b005a": {
      "model_module": "@jupyter-widgets/controls",
      "model_module_version": "2.0.0",
      "model_name": "ButtonStyleModel",
      "state": {
       "button_color": "#e5e9f2",
       "font_family": null,
       "font_size": null,
       "font_style": null,
       "font_variant": null,
       "font_weight": null,
       "text_color": null,
       "text_decoration": null
      }
     },
     "7dc8b8fe4fa04db8b4aad563abca9504": {
      "model_module": "@jupyter-widgets/controls",
      "model_module_version": "2.0.0",
      "model_name": "ButtonModel",
      "state": {
       "description": "offset 6 span 6",
       "layout": "IPY_MODEL_d8fb02c8b74d459f83372e9a3fd07e9b",
       "style": "IPY_MODEL_c495c2f171fe487bbfa30b9cf1f0080c",
       "tooltip": null
      }
     },
     "7f2fef3c592c402b98a20d796280f651": {
      "model_module": "@jupyter-widgets/controls",
      "model_module_version": "2.0.0",
      "model_name": "VBoxModel",
      "state": {
       "children": [
        "IPY_MODEL_28f6cba1f6744a35b1b4d7ea268555a4",
        "IPY_MODEL_cce67467611c46e3a3e8057d7d76873b"
       ],
       "layout": "IPY_MODEL_0f62a1e38a2c4030b4a7469ee3e01fed"
      }
     },
     "80ebe3be61a3408d8ab51fc804ebe4c9": {
      "model_module": "@jupyter-widgets/base",
      "model_module_version": "2.0.0",
      "model_name": "LayoutModel",
      "state": {}
     },
     "821bba18a361402385d83df72d5c74d7": {
      "model_module": "@jupyter-widgets/base",
      "model_module_version": "2.0.0",
      "model_name": "LayoutModel",
      "state": {
       "width": "auto"
      }
     },
     "82dfa0be4dd943eabb12720c04a8c447": {
      "model_module": "@jupyter-widgets/base",
      "model_module_version": "2.0.0",
      "model_name": "LayoutModel",
      "state": {}
     },
     "84d3616d0a9d44a5bace2dd204b3bfc0": {
      "model_module": "@jupyter-widgets/base",
      "model_module_version": "2.0.0",
      "model_name": "LayoutModel",
      "state": {}
     },
     "87afe78500094623b14c62f003982e0d": {
      "model_module": "@jupyter-widgets/controls",
      "model_module_version": "2.0.0",
      "model_name": "ButtonStyleModel",
      "state": {
       "button_color": "#e5e9f2",
       "font_family": null,
       "font_size": null,
       "font_style": null,
       "font_variant": null,
       "font_weight": null,
       "text_color": null,
       "text_decoration": null
      }
     },
     "89bd2b0ff17a428fa80a211b5c58bfbc": {
      "model_module": "@jupyter-widgets/base",
      "model_module_version": "2.0.0",
      "model_name": "LayoutModel",
      "state": {
       "grid_area": "widget002"
      }
     },
     "8a9b464cc12643d88bfe79e3a5231610": {
      "model_module": "@jupyter-widgets/controls",
      "model_module_version": "2.0.0",
      "model_name": "ButtonModel",
      "state": {
       "description": "span 16",
       "layout": "IPY_MODEL_e58e37d0282f414eb439e7d4f90c944c",
       "style": "IPY_MODEL_d600c44954a94ded9f4d80e047695d23",
       "tooltip": null
      }
     },
     "8adaa166d8684e3897e06284f4a05a51": {
      "model_module": "@jupyter-widgets/base",
      "model_module_version": "2.0.0",
      "model_name": "LayoutModel",
      "state": {
       "grid_area": "widget001"
      }
     },
     "911e93cf896948a2ae0c03222357d9f9": {
      "model_module": "@jupyter-widgets/controls",
      "model_module_version": "2.0.0",
      "model_name": "ButtonStyleModel",
      "state": {
       "button_color": "#e5e9f2",
       "font_family": null,
       "font_size": null,
       "font_style": null,
       "font_variant": null,
       "font_weight": null,
       "text_color": null,
       "text_decoration": null
      }
     },
     "91b0192396414af89f0824a68ebfb44b": {
      "model_module": "@jupyter-widgets/controls",
      "model_module_version": "2.0.0",
      "model_name": "ButtonModel",
      "state": {
       "description": "span 4",
       "layout": "IPY_MODEL_7468d566b2334edcad6b034bdd960efc",
       "style": "IPY_MODEL_ab0a6ace296245a7bc73f2852c0a20a2",
       "tooltip": null
      }
     },
     "930649ce2abc49ada2a735559114c091": {
      "model_module": "@jupyter-widgets/controls",
      "model_module_version": "2.0.0",
      "model_name": "VBoxModel",
      "state": {
       "children": [
        "IPY_MODEL_c2ec75e5a2c34797b7aae9dd495ee2f3"
       ],
       "layout": "IPY_MODEL_89bd2b0ff17a428fa80a211b5c58bfbc"
      }
     },
     "938224fbb9f44eb882a6f5084d429dfd": {
      "model_module": "@jupyter-widgets/base",
      "model_module_version": "2.0.0",
      "model_name": "LayoutModel",
      "state": {
       "width": "auto"
      }
     },
     "9556d1c67b964c149f72bf59ad6054a0": {
      "model_module": "@jupyter-widgets/base",
      "model_module_version": "2.0.0",
      "model_name": "LayoutModel",
      "state": {
       "width": "auto"
      }
     },
     "967896a1dcb54c848e7ad252c4f1231e": {
      "model_module": "@jupyter-widgets/controls",
      "model_module_version": "2.0.0",
      "model_name": "VBoxModel",
      "state": {
       "children": [
        "IPY_MODEL_3810ff4fd5bb479aa7797dc512ccb335"
       ],
       "layout": "IPY_MODEL_9aebc824f2d7465c96059922612c3273"
      }
     },
     "96a27a132ec94fffbf3c0819dd756436": {
      "model_module": "@jupyter-widgets/controls",
      "model_module_version": "2.0.0",
      "model_name": "ButtonStyleModel",
      "state": {
       "button_color": "#d4dde6",
       "font_family": null,
       "font_size": null,
       "font_style": null,
       "font_variant": null,
       "font_weight": null,
       "text_color": null,
       "text_decoration": null
      }
     },
     "98ffbeb7579c4c8e8150f002351a3a02": {
      "model_module": "@jupyter-widgets/controls",
      "model_module_version": "2.0.0",
      "model_name": "ButtonModel",
      "state": {
       "description": "span 12",
       "layout": "IPY_MODEL_d11264ebb3b048ab8639cf8a0a49a1e5",
       "style": "IPY_MODEL_f8f254a1b02b49b5a26817e2cb4a55f7",
       "tooltip": null
      }
     },
     "99c739494b654f548599ea3a0ec93658": {
      "model_module": "@jupyter-widgets/base",
      "model_module_version": "2.0.0",
      "model_name": "LayoutModel",
      "state": {
       "grid_gap": "20px",
       "grid_template_areas": "\"widget001 widget001 widget001 widget001 widget001 widget001 widget001 widget001 widget002 widget002 widget002 widget002 widget002 widget002 widget002 widget002 widget003 widget003 widget003 widget003 widget004 widget004 widget004 widget004\"",
       "grid_template_columns": "repeat(24, 1fr)",
       "grid_template_rows": "repeat(1, 1fr)"
      }
     },
     "99c7d7a43d4f4dab8e2fbae5237646fe": {
      "model_module": "@jupyter-widgets/controls",
      "model_module_version": "2.0.0",
      "model_name": "ButtonModel",
      "state": {
       "description": "span 6",
       "layout": "IPY_MODEL_f21c60a5fa0f4f7d883cc7f19a2ac560",
       "style": "IPY_MODEL_4980cc95d75e4ab79555f2c62f1e0521",
       "tooltip": null
      }
     },
     "9abfcc68f5a8463caeebf26f06de85b9": {
      "model_module": "@jupyter-widgets/base",
      "model_module_version": "2.0.0",
      "model_name": "LayoutModel",
      "state": {
       "width": "auto"
      }
     },
     "9aebc824f2d7465c96059922612c3273": {
      "model_module": "@jupyter-widgets/base",
      "model_module_version": "2.0.0",
      "model_name": "LayoutModel",
      "state": {
       "grid_area": "widget002"
      }
     },
     "9cbdc0acc3f54dbdb1df5a54e9fa537d": {
      "model_module": "@jupyter-widgets/base",
      "model_module_version": "2.0.0",
      "model_name": "LayoutModel",
      "state": {}
     },
     "9e2ba76aafc34d9cb73b0c3301d5b2b6": {
      "model_module": "@jupyter-widgets/base",
      "model_module_version": "2.0.0",
      "model_name": "LayoutModel",
      "state": {
       "width": "auto"
      }
     },
     "9ebf9c5be7504c30b47f0807222bfec0": {
      "model_module": "@jupyter-widgets/base",
      "model_module_version": "2.0.0",
      "model_name": "LayoutModel",
      "state": {
       "width": "auto"
      }
     },
     "9f48c6e56536472eb8c1fb143aaa745e": {
      "model_module": "@jupyter-widgets/controls",
      "model_module_version": "2.0.0",
      "model_name": "VBoxModel",
      "state": {
       "children": [
        "IPY_MODEL_009568ce86f44d96a718aaab7416bbff",
        "IPY_MODEL_0374745ba0ef4d0eb6703eda8f5cbaa8"
       ],
       "layout": "IPY_MODEL_84d3616d0a9d44a5bace2dd204b3bfc0"
      }
     },
     "a1b6737caff14766bc2409f24f61dcfe": {
      "model_module": "@jupyter-widgets/base",
      "model_module_version": "2.0.0",
      "model_name": "LayoutModel",
      "state": {}
     },
     "a39df2fe8f9f4d46bfddd9c59a3562ed": {
      "model_module": "@jupyter-widgets/controls",
      "model_module_version": "2.0.0",
      "model_name": "VBoxModel",
      "state": {
       "children": [
        "IPY_MODEL_5b29fc0b24a64283af00c29f26dd06d3"
       ],
       "layout": "IPY_MODEL_0e244dbf3de8453789308591bd551766"
      }
     },
     "a442b5407d124f3e90723a4e5da2cc70": {
      "model_module": "@jupyter-widgets/controls",
      "model_module_version": "2.0.0",
      "model_name": "VBoxModel",
      "state": {
       "children": [
        "IPY_MODEL_6806ccae2a4743d4824ffc1a389047c6"
       ],
       "layout": "IPY_MODEL_3f70da14dd364f7a8b760440e220e564"
      }
     },
     "a784199619a546cb8fccfd4d35e27019": {
      "model_module": "@jupyter-widgets/controls",
      "model_module_version": "2.0.0",
      "model_name": "ButtonStyleModel",
      "state": {
       "button_color": "#d4dde6",
       "font_family": null,
       "font_size": null,
       "font_style": null,
       "font_variant": null,
       "font_weight": null,
       "text_color": null,
       "text_decoration": null
      }
     },
     "a7c958c93a4945518731cac59764effe": {
      "model_module": "@jupyter-widgets/controls",
      "model_module_version": "2.0.0",
      "model_name": "ButtonStyleModel",
      "state": {
       "button_color": "#d4dde6",
       "font_family": null,
       "font_size": null,
       "font_style": null,
       "font_variant": null,
       "font_weight": null,
       "text_color": null,
       "text_decoration": null
      }
     },
     "a9011c7e51cd4c3189a9008cfaacbcd1": {
      "model_module": "@jupyter-widgets/controls",
      "model_module_version": "2.0.0",
      "model_name": "ButtonModel",
      "state": {
       "description": "offset 6 span 12",
       "layout": "IPY_MODEL_3755a2de6bfa428e8cea4c8e95046e66",
       "style": "IPY_MODEL_a784199619a546cb8fccfd4d35e27019",
       "tooltip": null
      }
     },
     "a9184006ca664d0ebf8519065832f92e": {
      "model_module": "@jupyter-widgets/controls",
      "model_module_version": "2.0.0",
      "model_name": "VBoxModel",
      "state": {
       "children": [
        "IPY_MODEL_99c7d7a43d4f4dab8e2fbae5237646fe"
       ],
       "layout": "IPY_MODEL_20deb74f8c2046d6bfd217ae605f2e98"
      }
     },
     "a91fa1d79b924d90b3690a2a5f350b70": {
      "model_module": "@jupyter-widgets/controls",
      "model_module_version": "2.0.0",
      "model_name": "ButtonModel",
      "state": {
       "description": "span 24",
       "layout": "IPY_MODEL_ddb8f7612bf14ea4987e8e4fcef2d92a",
       "style": "IPY_MODEL_7abaa207ad624383bbcef2e2d04ed506",
       "tooltip": null
      }
     },
     "a98a01ad81cb4a58bee9a3e7f9b7a68d": {
      "model_module": "@jupyter-widgets/controls",
      "model_module_version": "2.0.0",
      "model_name": "VBoxModel",
      "state": {
       "children": [
        "IPY_MODEL_ae8552a0167d458f89c175acf549d6f6"
       ],
       "layout": "IPY_MODEL_0d051001f0784a96bb1caf6ae5a354ff"
      }
     },
     "a98cd469fc8c4a46b7bb4e6118efd794": {
      "model_module": "@jupyter-widgets/base",
      "model_module_version": "2.0.0",
      "model_name": "LayoutModel",
      "state": {}
     },
     "aa7937196870477fb91e856bacc34eaa": {
      "model_module": "@jupyter-widgets/controls",
      "model_module_version": "2.0.0",
      "model_name": "ButtonModel",
      "state": {
       "description": "span 6",
       "layout": "IPY_MODEL_45f3b49df06e4caba51cec4db000ed08",
       "style": "IPY_MODEL_793235efa308457bb9d9b26554b3102a",
       "tooltip": null
      }
     },
     "aaa0544b28f448c0b0ccee70b612ad56": {
      "model_module": "anywidget",
      "model_module_version": "0.9.3",
      "model_name": "AnyModel",
      "state": {
       "_anywidget_id": "ipywui.widgets.custom.message.MessageWidget",
       "_css": ".wui-message-root {\n    display: flex;\n    position: absolute;\n    left: 0;\n    right: 0;\n    top: 0;\n}\n\n.wui-message-container {\n    align-items: center;\n    display: flex;\n    flex-direction: column-reverse;\n    justify-content: center;\n    min-height: 100%;\n    outline: none;\n    width: 100%;\n\n    -webkit-tap-highlight-color: rgba(0,0,0,0);\n    bottom: 0;\n    left: 0;\n    right: 0;\n    top: 0;\n}\n\n.wui-message--success {\n    --wui-message-bg-color: #f0f9eb;\n    --wui-message-border-color: #e1f3d8;\n    --wui-message-text-color: #67c23a;\n}\n.wui-message--warning {\n    --wui-message-bg-color: #fdf6ec;\n    --wui-message-border-color: #faecd8;\n    --wui-message-text-color: #e6a23c;\n}\n.wui-message--info {\n    --wui-message-bg-color: #f4f4f5;\n    --wui-message-border-color: #e9e9eb;\n    --wui-message-text-color: #909399;\n}\n.wui-message--error {\n    --wui-message-bg-color: #fef0f0;\n    --wui-message-border-color: #fde2e2;\n    --wui-message-text-color: #f56c6c;\n}\n\n@keyframes msg-open {\n    0% {\n        opacity: 0;\n        -webkit-transform: translateY(-120%);\n        transform: translateY(-120%)\n    }\n    to {\n        -webkit-transform: translateY(0);\n        transform: translateY(0)\n    }\n}\n\n@keyframes msg-close {\n    0% {\n        opacity: 1;\n        -webkit-transform: scale(1);\n        transform: scale(1)\n    }\n    to {\n        opacity: 0;\n        -webkit-transform: scale(.9);\n        transform: scale(.9)\n    }\n}\n.wui-message[data-state=entered],.wui-message[data-state=entering] {\n    -webkit-animation: msg-open .24s cubic-bezier(.175,.885,.32,1.175) both;\n    animation: msg-open .24s cubic-bezier(.175,.885,.32,1.175) both\n}\n\n.wui-message[data-state=exiting] {\n    -webkit-animation: msg-close .12s cubic-bezier(.4,0,1,1) both;\n    animation: msg-close .12s cubic-bezier(.4,0,1,1) both\n}\n\n.wui-message {\n    width: -webkit-fit-content;\n    width: -moz-fit-content;\n    width: fit-content;\n    z-index: 2004;\n    max-width: calc(100% - 32px);\n    margin-top: 8px;\n    box-sizing: border-box;\n    /*border-radius: var(--wui-border-radius-base);*/\n    /*border-width: var(--wui-border-width);*/\n    /*border-style: var(--wui-border-style);*/\n    border-color: var(--wui-message-border-color);\n    /*left: 50%;*/\n    /*top: 20px;*/\n    /*transform: translateX(-50%);*/\n    background-color: var(--wui-message-bg-color);\n    /*transition: opacity var(--wui-transition-duration),transform .4s,top .4s;*/\n    /*padding: var(--wui-message-padding);*/\n    display: flex;\n    align-items: center;\n}\n\n/*.wui-message--success */\n.wui-message__content {\n    color: var(--wui-message-text-color);\n    font-size: 14px;\n    line-height: 18px;\n    margin: 10px 14px 10px 14px;\n    overflow-wrap: break-word;\n}\n\n.wui-message__closeBtn {\n    /*cursor: pointer;*/\n    font-style: normal;\n    /*color: gray;*/\n    padding-right: 14px;\n    /*font-size: 13px;*/\n    user-select: none;\n\n    background: transparent;\n    border: none;\n    color: gray;\n    cursor: pointer;\n    font-size: 13px;\n    font-weight: 400;\n    line-height: 1;\n    outline: none;\n    /*padding: 4px;*/\n    text-align: center;\n    transition: opacity .3s;\n    /*width: 100%;*/\n}",
       "_esm": "function closeMsg(msgDom) {\n  if (!msgDom) {\n    return;\n  }\n  msgDom.setAttribute('data-state', 'exiting');\n  msgDom.remove();\n}\n\nfunction createMsg(options) {\n  const {message, msg_id, type = 'info', show_close = false} = options;\n  const msgDom = document.createElement('div');\n  msgDom.className += ` wui-message--${type} wui-message`;\n  msgDom.setAttribute('data-state', 'entered');\n  msgDom.setAttribute('id', msg_id);\n  const msgContent = document.createElement('p');\n  msgContent.className += ` wui-message--${type} wui-message__content`;\n  msgContent.innerText = message;\n  msgDom.appendChild(msgContent);\n  if (show_close) {\n    const closeBtn = document.createElement('i');\n    closeBtn.className += 'wui-message__closeBtn';\n    closeBtn.innerText = 'x';\n    closeBtn.addEventListener('click', (ev) => {\n      closeMsg(msgDom);\n    })\n    msgDom.appendChild(closeBtn);\n  }\n  return msgDom;\n}\n\nexport async function render(view) {\n  let model = view.model;\n  const msgRoot = view.el;\n  msgRoot.className += ' wui-message-root'\n\n  const msgContainer = document.createElement('div');\n  msgContainer.className += ' wui-message-container';\n  msgRoot.appendChild(msgContainer)\n\n  model.on(\"change:message_options\", () => {\n    const options = model.get(\"message_options\");\n    const msg = createMsg(options);\n    msgContainer.appendChild(msg);\n    const {duration = 3000} = options;\n    if (duration > 0) {\n      setTimeout(() => {\n        closeMsg(msg)\n      }, duration);\n    }\n  })\n\n  model.on(\"change:close_msg_id\", () => {\n    const msg_id = model.get(\"close_msg_id\");\n    const msgDom = document.getElementById(msg_id);\n    closeMsg(msgDom);\n  })\n}\n",
       "_model_module": "anywidget",
       "_model_module_version": "0.9.3",
       "_model_name": "AnyModel",
       "_view_module": "anywidget",
       "_view_module_version": "0.9.3",
       "_view_name": "AnyView",
       "close_msg_id": "",
       "layout": "IPY_MODEL_ffa3c21d5e5143aba0b7b172b27165d8",
       "message_options": {
        "duration": 3000,
        "message": "",
        "show_close": false,
        "type": "info"
       }
      }
     },
     "ab0a6ace296245a7bc73f2852c0a20a2": {
      "model_module": "@jupyter-widgets/controls",
      "model_module_version": "2.0.0",
      "model_name": "ButtonStyleModel",
      "state": {
       "button_color": "#d4dde6",
       "font_family": null,
       "font_size": null,
       "font_style": null,
       "font_variant": null,
       "font_weight": null,
       "text_color": null,
       "text_decoration": null
      }
     },
     "acf543b0b4ae437783b65a03e863b993": {
      "model_module": "@jupyter-widgets/controls",
      "model_module_version": "2.0.0",
      "model_name": "ButtonModel",
      "state": {
       "description": "span 6",
       "layout": "IPY_MODEL_edc74842e4d640cda4dc2ba7e7860997",
       "style": "IPY_MODEL_7d0db08bceb34a10b242db67340b005a",
       "tooltip": null
      }
     },
     "ae8552a0167d458f89c175acf549d6f6": {
      "model_module": "@jupyter-widgets/controls",
      "model_module_version": "2.0.0",
      "model_name": "ButtonModel",
      "state": {
       "description": "offset 6 span 6",
       "layout": "IPY_MODEL_b9847deeda5d4d578e3fe02b32432567",
       "style": "IPY_MODEL_d999c93a9a7149fc86dc474b40d44bbf",
       "tooltip": null
      }
     },
     "aed7458e9f63457bb15f1f5032f10390": {
      "model_module": "@jupyter-widgets/controls",
      "model_module_version": "2.0.0",
      "model_name": "ButtonModel",
      "state": {
       "description": "span 4",
       "layout": "IPY_MODEL_9abfcc68f5a8463caeebf26f06de85b9",
       "style": "IPY_MODEL_a7c958c93a4945518731cac59764effe",
       "tooltip": null
      }
     },
     "b1eb9847c7244e398b9b5d3184e1197f": {
      "model_module": "@jupyter-widgets/controls",
      "model_module_version": "2.0.0",
      "model_name": "VBoxModel",
      "state": {
       "children": [
        "IPY_MODEL_22102be181e149bba039b7a377c6b7c2",
        "IPY_MODEL_31cefbd97bcc459cbc32f2ae6bf4d7c2",
        "IPY_MODEL_65759399cb1b475886605bcfccf1a2b8",
        "IPY_MODEL_bd80ebbea79b446f94cc00f58b0ccc0f"
       ],
       "layout": "IPY_MODEL_0b9a9bb591d545f7b1d62f5e627edf51"
      }
     },
     "b3074992d86147ff9015a6db61584865": {
      "model_module": "@jupyter-widgets/output",
      "model_module_version": "1.0.0",
      "model_name": "OutputModel",
      "state": {
       "layout": "IPY_MODEL_9cbdc0acc3f54dbdb1df5a54e9fa537d",
       "outputs": [
        {
         "data": {
          "application/vnd.jupyter.widget-view+json": {
           "model_id": "698c831ec9b74c3696c65d8de61d192e",
           "version_major": 2,
           "version_minor": 0
          },
          "text/plain": "GridspecLayout(children=(VBox(children=(Button(layout=Layout(width='auto'), style=ButtonStyle(button_color='#d…"
         },
         "metadata": {},
         "output_type": "display_data"
        }
       ]
      }
     },
     "b330f98aa28f42ed91d53adb73a2aec9": {
      "model_module": "@jupyter-widgets/controls",
      "model_module_version": "2.0.0",
      "model_name": "VBoxModel",
      "state": {
       "children": [
        "IPY_MODEL_91b0192396414af89f0824a68ebfb44b"
       ],
       "layout": "IPY_MODEL_cc2f609598cb42478c4f6f76794ebe94"
      }
     },
     "b78dd7c069ae41588dd1e5757174ff09": {
      "model_module": "@jupyter-widgets/base",
      "model_module_version": "2.0.0",
      "model_name": "LayoutModel",
      "state": {
       "grid_gap": "20px",
       "grid_template_areas": "\"widget001 widget001 widget001 widget001 widget002 widget002 widget002 widget002 widget002 widget002 widget002 widget002 widget002 widget002 widget002 widget002 widget002 widget002 widget002 widget002 widget003 widget003 widget003 widget003\"",
       "grid_template_columns": "repeat(24, 1fr)",
       "grid_template_rows": "repeat(1, 1fr)"
      }
     },
     "b7fd836309dc4b02970e9dda71c03bf8": {
      "model_module": "@jupyter-widgets/controls",
      "model_module_version": "2.0.0",
      "model_name": "VBoxModel",
      "state": {
       "children": [
        "IPY_MODEL_d26a54cd8b7d40248b5770bc664cbbfd",
        "IPY_MODEL_b3074992d86147ff9015a6db61584865"
       ],
       "layout": "IPY_MODEL_e3116549e6924b97b8afd96f32f54585"
      }
     },
     "b9847deeda5d4d578e3fe02b32432567": {
      "model_module": "@jupyter-widgets/base",
      "model_module_version": "2.0.0",
      "model_name": "LayoutModel",
      "state": {
       "width": "auto"
      }
     },
     "bab467fb4cc14a7f80cdbc1df2da2029": {
      "model_module": "@jupyter-widgets/base",
      "model_module_version": "2.0.0",
      "model_name": "LayoutModel",
      "state": {
       "grid_area": "widget002"
      }
     },
     "bd80ebbea79b446f94cc00f58b0ccc0f": {
      "model_module": "@jupyter-widgets/controls",
      "model_module_version": "2.0.0",
      "model_name": "GridBoxModel",
      "state": {
       "children": [
        "IPY_MODEL_51cd8377022a446a9966cb2799b0695c",
        "IPY_MODEL_2e09c62f65ec459aa66d63c83f30f4a0",
        "IPY_MODEL_34c470d0875a46c79d0d51da5e45be55",
        "IPY_MODEL_a9184006ca664d0ebf8519065832f92e"
       ],
       "layout": "IPY_MODEL_089bf8c584604395a88ed54f2c9c9a15"
      }
     },
     "bdc0c7b74078480488360be726f1d3cd": {
      "model_module": "@jupyter-widgets/controls",
      "model_module_version": "2.0.0",
      "model_name": "ButtonStyleModel",
      "state": {
       "button_color": "#e5e9f2",
       "font_family": null,
       "font_size": null,
       "font_style": null,
       "font_variant": null,
       "font_weight": null,
       "text_color": null,
       "text_decoration": null
      }
     },
     "c067c0ca3aca4ac1b0824bcc133ae974": {
      "model_module": "@jupyter-widgets/base",
      "model_module_version": "2.0.0",
      "model_name": "LayoutModel",
      "state": {
       "width": "auto"
      }
     },
     "c2ec75e5a2c34797b7aae9dd495ee2f3": {
      "model_module": "@jupyter-widgets/controls",
      "model_module_version": "2.0.0",
      "model_name": "ButtonModel",
      "state": {
       "description": "span 16",
       "layout": "IPY_MODEL_9ebf9c5be7504c30b47f0807222bfec0",
       "style": "IPY_MODEL_568e1c77cfff4e9f9ca7a10bdf8fda44",
       "tooltip": null
      }
     },
     "c349e18c59e743d6b1e591c16bfcca9e": {
      "model_module": "@jupyter-widgets/base",
      "model_module_version": "2.0.0",
      "model_name": "LayoutModel",
      "state": {
       "grid_area": "widget004"
      }
     },
     "c495c2f171fe487bbfa30b9cf1f0080c": {
      "model_module": "@jupyter-widgets/controls",
      "model_module_version": "2.0.0",
      "model_name": "ButtonStyleModel",
      "state": {
       "button_color": "#e5e9f2",
       "font_family": null,
       "font_size": null,
       "font_style": null,
       "font_variant": null,
       "font_weight": null,
       "text_color": null,
       "text_decoration": null
      }
     },
     "c58bb5eb0292437d808ab6c7dad96eb5": {
      "model_module": "@jupyter-widgets/base",
      "model_module_version": "2.0.0",
      "model_name": "LayoutModel",
      "state": {
       "width": "auto"
      }
     },
     "cb7426e0b0054149a44289854e04aa24": {
      "model_module": "@jupyter-widgets/base",
      "model_module_version": "2.0.0",
      "model_name": "LayoutModel",
      "state": {
       "grid_template_areas": "\". . . . . . widget001 widget001 widget001 widget001 widget001 widget001 . . . . . . widget002 widget002 widget002 widget002 widget002 widget002\"",
       "grid_template_columns": "repeat(24, 1fr)",
       "grid_template_rows": "repeat(1, 1fr)"
      }
     },
     "cc2f609598cb42478c4f6f76794ebe94": {
      "model_module": "@jupyter-widgets/base",
      "model_module_version": "2.0.0",
      "model_name": "LayoutModel",
      "state": {
       "grid_area": "widget001"
      }
     },
     "cc3f2a914fa44d129bae680229f5706e": {
      "model_module": "@jupyter-widgets/base",
      "model_module_version": "2.0.0",
      "model_name": "LayoutModel",
      "state": {
       "grid_area": "widget003"
      }
     },
     "cce67467611c46e3a3e8057d7d76873b": {
      "model_module": "@jupyter-widgets/output",
      "model_module_version": "1.0.0",
      "model_name": "OutputModel",
      "state": {
       "layout": "IPY_MODEL_19ab0414b9cd4d65b340cb68899d5157",
       "outputs": [
        {
         "data": {
          "application/vnd.jupyter.widget-view+json": {
           "model_id": "e10291ff81f7409a9f218a6d35f11eb9",
           "version_major": 2,
           "version_minor": 0
          },
          "text/plain": "VBox(children=(GridspecLayout(children=(VBox(children=(Button(description='span 16', layout=Layout(width='auto…"
         },
         "metadata": {},
         "output_type": "display_data"
        }
       ]
      }
     },
     "cf677e5c3a3748e5a9ade35776171125": {
      "model_module": "@jupyter-widgets/controls",
      "model_module_version": "2.0.0",
      "model_name": "ButtonModel",
      "state": {
       "layout": "IPY_MODEL_097e6d7bfcfa467781b0e7020bc2b636",
       "style": "IPY_MODEL_32d12f8c0c464edca6deda7faf6d16e9",
       "tooltip": null
      }
     },
     "cfd9514ab60747e09e7651e310c42221": {
      "model_module": "@jupyter-widgets/controls",
      "model_module_version": "2.0.0",
      "model_name": "VBoxModel",
      "state": {
       "children": [
        "IPY_MODEL_aaa0544b28f448c0b0ccee70b612ad56",
        "IPY_MODEL_538f1c7071bf4660b2dc866887868e39"
       ],
       "layout": "IPY_MODEL_82dfa0be4dd943eabb12720c04a8c447"
      }
     },
     "d0745bbfbabc4d5286846adfa0fd1a89": {
      "model_module": "@jupyter-widgets/controls",
      "model_module_version": "2.0.0",
      "model_name": "VBoxModel",
      "state": {
       "children": [
        "IPY_MODEL_aed7458e9f63457bb15f1f5032f10390"
       ],
       "layout": "IPY_MODEL_cc3f2a914fa44d129bae680229f5706e"
      }
     },
     "d0914052e71e4fa1b11e070fc16a3e61": {
      "model_module": "@jupyter-widgets/controls",
      "model_module_version": "2.0.0",
      "model_name": "ButtonModel",
      "state": {
       "description": "span 8",
       "layout": "IPY_MODEL_9e2ba76aafc34d9cb73b0c3301d5b2b6",
       "style": "IPY_MODEL_d0f7fc1875e449a3bb2f664480c9d99d",
       "tooltip": null
      }
     },
     "d09fe84205004bc8932fe14353ce1c94": {
      "model_module": "@jupyter-widgets/base",
      "model_module_version": "2.0.0",
      "model_name": "LayoutModel",
      "state": {
       "grid_area": "widget001"
      }
     },
     "d0f7fc1875e449a3bb2f664480c9d99d": {
      "model_module": "@jupyter-widgets/controls",
      "model_module_version": "2.0.0",
      "model_name": "ButtonStyleModel",
      "state": {
       "button_color": "#e5e9f2",
       "font_family": null,
       "font_size": null,
       "font_style": null,
       "font_variant": null,
       "font_weight": null,
       "text_color": null,
       "text_decoration": null
      }
     },
     "d11264ebb3b048ab8639cf8a0a49a1e5": {
      "model_module": "@jupyter-widgets/base",
      "model_module_version": "2.0.0",
      "model_name": "LayoutModel",
      "state": {
       "width": "auto"
      }
     },
     "d1f89ed9a84448bbb775de2dbccf9147": {
      "model_module": "@jupyter-widgets/controls",
      "model_module_version": "2.0.0",
      "model_name": "VBoxModel",
      "state": {
       "children": [
        "IPY_MODEL_247ba137ad794f33b8ad6eb783769b12"
       ],
       "layout": "IPY_MODEL_8adaa166d8684e3897e06284f4a05a51"
      }
     },
     "d26a54cd8b7d40248b5770bc664cbbfd": {
      "model_module": "anywidget",
      "model_module_version": "0.9.3",
      "model_name": "AnyModel",
      "state": {
       "_anywidget_id": "ipywui.widgets.custom.message.MessageWidget",
       "_css": ".wui-message-root {\n    display: flex;\n    position: absolute;\n    left: 0;\n    right: 0;\n    top: 0;\n}\n\n.wui-message-container {\n    align-items: center;\n    display: flex;\n    flex-direction: column-reverse;\n    justify-content: center;\n    min-height: 100%;\n    outline: none;\n    width: 100%;\n\n    -webkit-tap-highlight-color: rgba(0,0,0,0);\n    bottom: 0;\n    left: 0;\n    right: 0;\n    top: 0;\n}\n\n.wui-message--success {\n    --wui-message-bg-color: #f0f9eb;\n    --wui-message-border-color: #e1f3d8;\n    --wui-message-text-color: #67c23a;\n}\n.wui-message--warning {\n    --wui-message-bg-color: #fdf6ec;\n    --wui-message-border-color: #faecd8;\n    --wui-message-text-color: #e6a23c;\n}\n.wui-message--info {\n    --wui-message-bg-color: #f4f4f5;\n    --wui-message-border-color: #e9e9eb;\n    --wui-message-text-color: #909399;\n}\n.wui-message--error {\n    --wui-message-bg-color: #fef0f0;\n    --wui-message-border-color: #fde2e2;\n    --wui-message-text-color: #f56c6c;\n}\n\n@keyframes msg-open {\n    0% {\n        opacity: 0;\n        -webkit-transform: translateY(-120%);\n        transform: translateY(-120%)\n    }\n    to {\n        -webkit-transform: translateY(0);\n        transform: translateY(0)\n    }\n}\n\n@keyframes msg-close {\n    0% {\n        opacity: 1;\n        -webkit-transform: scale(1);\n        transform: scale(1)\n    }\n    to {\n        opacity: 0;\n        -webkit-transform: scale(.9);\n        transform: scale(.9)\n    }\n}\n.wui-message[data-state=entered],.wui-message[data-state=entering] {\n    -webkit-animation: msg-open .24s cubic-bezier(.175,.885,.32,1.175) both;\n    animation: msg-open .24s cubic-bezier(.175,.885,.32,1.175) both\n}\n\n.wui-message[data-state=exiting] {\n    -webkit-animation: msg-close .12s cubic-bezier(.4,0,1,1) both;\n    animation: msg-close .12s cubic-bezier(.4,0,1,1) both\n}\n\n.wui-message {\n    width: -webkit-fit-content;\n    width: -moz-fit-content;\n    width: fit-content;\n    z-index: 2004;\n    max-width: calc(100% - 32px);\n    margin-top: 8px;\n    box-sizing: border-box;\n    /*border-radius: var(--wui-border-radius-base);*/\n    /*border-width: var(--wui-border-width);*/\n    /*border-style: var(--wui-border-style);*/\n    border-color: var(--wui-message-border-color);\n    /*left: 50%;*/\n    /*top: 20px;*/\n    /*transform: translateX(-50%);*/\n    background-color: var(--wui-message-bg-color);\n    /*transition: opacity var(--wui-transition-duration),transform .4s,top .4s;*/\n    /*padding: var(--wui-message-padding);*/\n    display: flex;\n    align-items: center;\n}\n\n/*.wui-message--success */\n.wui-message__content {\n    color: var(--wui-message-text-color);\n    font-size: 14px;\n    line-height: 18px;\n    margin: 10px 14px 10px 14px;\n    overflow-wrap: break-word;\n}\n\n.wui-message__closeBtn {\n    /*cursor: pointer;*/\n    font-style: normal;\n    /*color: gray;*/\n    padding-right: 14px;\n    /*font-size: 13px;*/\n    user-select: none;\n\n    background: transparent;\n    border: none;\n    color: gray;\n    cursor: pointer;\n    font-size: 13px;\n    font-weight: 400;\n    line-height: 1;\n    outline: none;\n    /*padding: 4px;*/\n    text-align: center;\n    transition: opacity .3s;\n    /*width: 100%;*/\n}",
       "_esm": "function closeMsg(msgDom) {\n  if (!msgDom) {\n    return;\n  }\n  msgDom.setAttribute('data-state', 'exiting');\n  msgDom.remove();\n}\n\nfunction createMsg(options) {\n  const {message, msg_id, type = 'info', show_close = false} = options;\n  const msgDom = document.createElement('div');\n  msgDom.className += ` wui-message--${type} wui-message`;\n  msgDom.setAttribute('data-state', 'entered');\n  msgDom.setAttribute('id', msg_id);\n  const msgContent = document.createElement('p');\n  msgContent.className += ` wui-message--${type} wui-message__content`;\n  msgContent.innerText = message;\n  msgDom.appendChild(msgContent);\n  if (show_close) {\n    const closeBtn = document.createElement('i');\n    closeBtn.className += 'wui-message__closeBtn';\n    closeBtn.innerText = 'x';\n    closeBtn.addEventListener('click', (ev) => {\n      closeMsg(msgDom);\n    })\n    msgDom.appendChild(closeBtn);\n  }\n  return msgDom;\n}\n\nexport async function render(view) {\n  let model = view.model;\n  const msgRoot = view.el;\n  msgRoot.className += ' wui-message-root'\n\n  const msgContainer = document.createElement('div');\n  msgContainer.className += ' wui-message-container';\n  msgRoot.appendChild(msgContainer)\n\n  model.on(\"change:message_options\", () => {\n    const options = model.get(\"message_options\");\n    const msg = createMsg(options);\n    msgContainer.appendChild(msg);\n    const {duration = 3000} = options;\n    if (duration > 0) {\n      setTimeout(() => {\n        closeMsg(msg)\n      }, duration);\n    }\n  })\n\n  model.on(\"change:close_msg_id\", () => {\n    const msg_id = model.get(\"close_msg_id\");\n    const msgDom = document.getElementById(msg_id);\n    closeMsg(msgDom);\n  })\n}\n",
       "_model_module": "anywidget",
       "_model_module_version": "0.9.3",
       "_model_name": "AnyModel",
       "_view_module": "anywidget",
       "_view_module_version": "0.9.3",
       "_view_name": "AnyView",
       "close_msg_id": "",
       "layout": "IPY_MODEL_f66434e304294488b780986366dd48e3",
       "message_options": {
        "duration": 3000,
        "message": "",
        "show_close": false,
        "type": "info"
       }
      }
     },
     "d600c44954a94ded9f4d80e047695d23": {
      "model_module": "@jupyter-widgets/controls",
      "model_module_version": "2.0.0",
      "model_name": "ButtonStyleModel",
      "state": {
       "button_color": "#d4dde6",
       "font_family": null,
       "font_size": null,
       "font_style": null,
       "font_variant": null,
       "font_weight": null,
       "text_color": null,
       "text_decoration": null
      }
     },
     "d6b6576b94144737b697a508df8e64f7": {
      "model_module": "@jupyter-widgets/controls",
      "model_module_version": "2.0.0",
      "model_name": "VBoxModel",
      "state": {
       "children": [
        "IPY_MODEL_f5aa362890954f288087dd6a6cef3f07"
       ],
       "layout": "IPY_MODEL_c349e18c59e743d6b1e591c16bfcca9e"
      }
     },
     "d8342b5bdf8143a8bc44dba7bcfad772": {
      "model_module": "@jupyter-widgets/controls",
      "model_module_version": "2.0.0",
      "model_name": "ButtonStyleModel",
      "state": {
       "button_color": "#e5e9f2",
       "font_family": null,
       "font_size": null,
       "font_style": null,
       "font_variant": null,
       "font_weight": null,
       "text_color": null,
       "text_decoration": null
      }
     },
     "d881fbb862214002bc6caf48648aef64": {
      "model_module": "@jupyter-widgets/base",
      "model_module_version": "2.0.0",
      "model_name": "LayoutModel",
      "state": {
       "width": "auto"
      }
     },
     "d8fb02c8b74d459f83372e9a3fd07e9b": {
      "model_module": "@jupyter-widgets/base",
      "model_module_version": "2.0.0",
      "model_name": "LayoutModel",
      "state": {
       "width": "auto"
      }
     },
     "d999c93a9a7149fc86dc474b40d44bbf": {
      "model_module": "@jupyter-widgets/controls",
      "model_module_version": "2.0.0",
      "model_name": "ButtonStyleModel",
      "state": {
       "button_color": "#d4dde6",
       "font_family": null,
       "font_size": null,
       "font_style": null,
       "font_variant": null,
       "font_weight": null,
       "text_color": null,
       "text_decoration": null
      }
     },
     "d9b1549c6efd48d5b05a439810449dae": {
      "model_module": "@jupyter-widgets/base",
      "model_module_version": "2.0.0",
      "model_name": "LayoutModel",
      "state": {
       "width": "auto"
      }
     },
     "dad4e0dd790d4791b2a9c63537b1cbe1": {
      "model_module": "@jupyter-widgets/base",
      "model_module_version": "2.0.0",
      "model_name": "LayoutModel",
      "state": {}
     },
     "ddb8f7612bf14ea4987e8e4fcef2d92a": {
      "model_module": "@jupyter-widgets/base",
      "model_module_version": "2.0.0",
      "model_name": "LayoutModel",
      "state": {
       "width": "auto"
      }
     },
     "dde08ed8ff054573ae8baeb7e6282dbb": {
      "model_module": "@jupyter-widgets/controls",
      "model_module_version": "2.0.0",
      "model_name": "ButtonStyleModel",
      "state": {
       "button_color": "#d4dde6",
       "font_family": null,
       "font_size": null,
       "font_style": null,
       "font_variant": null,
       "font_weight": null,
       "text_color": null,
       "text_decoration": null
      }
     },
     "de5e85ce541c481e805fec1adea91a58": {
      "model_module": "@jupyter-widgets/controls",
      "model_module_version": "2.0.0",
      "model_name": "VBoxModel",
      "state": {
       "children": [
        "IPY_MODEL_718807d9e8c74266ac68ca3cde9b1743"
       ],
       "layout": "IPY_MODEL_38f4058f29cb475d9d6eb892703d7dff"
      }
     },
     "df04a7fb18b24465af85d3ac0b9859bd": {
      "model_module": "@jupyter-widgets/controls",
      "model_module_version": "2.0.0",
      "model_name": "VBoxModel",
      "state": {
       "children": [
        "IPY_MODEL_06d6fec54b8643fbb5072ff4947c6ebc"
       ],
       "layout": "IPY_MODEL_4b704cb2d13b48a3927e44d356b8d51e"
      }
     },
     "e10291ff81f7409a9f218a6d35f11eb9": {
      "model_module": "@jupyter-widgets/controls",
      "model_module_version": "2.0.0",
      "model_name": "VBoxModel",
      "state": {
       "children": [
        "IPY_MODEL_2ce0c3e20688405795ac424b14eacbe5",
        "IPY_MODEL_0e5547d0ba7943cbb319161a12125068",
        "IPY_MODEL_64ecbfbf14d24812884789636c1a715a"
       ],
       "layout": "IPY_MODEL_117829aacf91426abb439e2886def469"
      }
     },
     "e3116549e6924b97b8afd96f32f54585": {
      "model_module": "@jupyter-widgets/base",
      "model_module_version": "2.0.0",
      "model_name": "LayoutModel",
      "state": {}
     },
     "e4463a0eaf1a41d5bb2443a6290b18e3": {
      "model_module": "@jupyter-widgets/output",
      "model_module_version": "1.0.0",
      "model_name": "OutputModel",
      "state": {
       "layout": "IPY_MODEL_80ebe3be61a3408d8ab51fc804ebe4c9"
      }
     },
     "e5109f89bb5a4615af73dc25fb5eb543": {
      "model_module": "@jupyter-widgets/controls",
      "model_module_version": "2.0.0",
      "model_name": "ButtonModel",
      "state": {
       "description": "span 8",
       "layout": "IPY_MODEL_11c9fce5dfdc49778f2c7ebed44834e1",
       "style": "IPY_MODEL_4343df26670c4957a3d0f8ce0edb1db2",
       "tooltip": null
      }
     },
     "e517e47d16bb4b3dbb6c61ed59c11c72": {
      "model_module": "@jupyter-widgets/base",
      "model_module_version": "2.0.0",
      "model_name": "LayoutModel",
      "state": {
       "grid_area": "widget001"
      }
     },
     "e54e53079988441ba7a0c49abc038594": {
      "model_module": "@jupyter-widgets/controls",
      "model_module_version": "2.0.0",
      "model_name": "ButtonStyleModel",
      "state": {
       "button_color": "#d4dde6",
       "font_family": null,
       "font_size": null,
       "font_style": null,
       "font_variant": null,
       "font_weight": null,
       "text_color": null,
       "text_decoration": null
      }
     },
     "e58e37d0282f414eb439e7d4f90c944c": {
      "model_module": "@jupyter-widgets/base",
      "model_module_version": "2.0.0",
      "model_name": "LayoutModel",
      "state": {
       "width": "auto"
      }
     },
     "e6b3182c671649688dcc42d9b2538f29": {
      "model_module": "@jupyter-widgets/base",
      "model_module_version": "2.0.0",
      "model_name": "LayoutModel",
      "state": {
       "grid_area": "widget002"
      }
     },
     "e71a8971d07141cf8cd34530936b2d78": {
      "model_module": "@jupyter-widgets/controls",
      "model_module_version": "2.0.0",
      "model_name": "VBoxModel",
      "state": {
       "children": [
        "IPY_MODEL_98ffbeb7579c4c8e8150f002351a3a02"
       ],
       "layout": "IPY_MODEL_e6b3182c671649688dcc42d9b2538f29"
      }
     },
     "e854fb29ca2641598d0e0413905393ae": {
      "model_module": "@jupyter-widgets/controls",
      "model_module_version": "2.0.0",
      "model_name": "VBoxModel",
      "state": {
       "children": [
        "IPY_MODEL_3cdb75f12a91481f82315dc884877574"
       ],
       "layout": "IPY_MODEL_bab467fb4cc14a7f80cdbc1df2da2029"
      }
     },
     "e8843f027dd44301a93ea9c5207b227f": {
      "model_module": "@jupyter-widgets/base",
      "model_module_version": "2.0.0",
      "model_name": "LayoutModel",
      "state": {
       "grid_gap": "20px",
       "grid_template_areas": "\"widget001 widget001 widget001 widget001 widget001 widget001 widget001 widget001 widget001 widget001 widget001 widget001 widget001 widget001 widget001 widget001 widget002 widget002 widget002 widget002 widget002 widget002 widget002 widget002\"",
       "grid_template_columns": "repeat(24, 1fr)",
       "grid_template_rows": "repeat(1, 1fr)"
      }
     },
     "eb5ba29033e040eaa0bf1f7b7008db9e": {
      "model_module": "@jupyter-widgets/base",
      "model_module_version": "2.0.0",
      "model_name": "LayoutModel",
      "state": {}
     },
     "ed22d5f3591f45ff9246c4a2d76d700b": {
      "model_module": "@jupyter-widgets/base",
      "model_module_version": "2.0.0",
      "model_name": "LayoutModel",
      "state": {}
     },
     "edc74842e4d640cda4dc2ba7e7860997": {
      "model_module": "@jupyter-widgets/base",
      "model_module_version": "2.0.0",
      "model_name": "LayoutModel",
      "state": {
       "width": "auto"
      }
     },
     "eecf11f80baa44029a5cc2e14a995e98": {
      "model_module": "@jupyter-widgets/controls",
      "model_module_version": "2.0.0",
      "model_name": "ButtonStyleModel",
      "state": {
       "button_color": "#d4dde6",
       "font_family": null,
       "font_size": null,
       "font_style": null,
       "font_variant": null,
       "font_weight": null,
       "text_color": null,
       "text_decoration": null
      }
     },
     "ef9d14307e1d40af8d7fb63a23144489": {
      "model_module": "@jupyter-widgets/controls",
      "model_module_version": "2.0.0",
      "model_name": "VBoxModel",
      "state": {
       "children": [
        "IPY_MODEL_f476256831534beaa8a4765317eccaba"
       ],
       "layout": "IPY_MODEL_00044c0a25484526af2eb0d293f1ed99"
      }
     },
     "efe21f131fe9415199c1b48f4c08b626": {
      "model_module": "@jupyter-widgets/controls",
      "model_module_version": "2.0.0",
      "model_name": "GridBoxModel",
      "state": {
       "children": [
        "IPY_MODEL_177ac84a38874f0da5fbb6a0df4c1b57"
       ],
       "layout": "IPY_MODEL_6a18ae5a12674fd1ba41d5fce778ba24"
      }
     },
     "f21c60a5fa0f4f7d883cc7f19a2ac560": {
      "model_module": "@jupyter-widgets/base",
      "model_module_version": "2.0.0",
      "model_name": "LayoutModel",
      "state": {
       "width": "auto"
      }
     },
     "f40a23aab23e43c7b3e21a9b43d92124": {
      "model_module": "@jupyter-widgets/controls",
      "model_module_version": "2.0.0",
      "model_name": "ButtonModel",
      "state": {
       "description": "span 4",
       "layout": "IPY_MODEL_fad3483f3cfd4250baaa736ee5f30a68",
       "style": "IPY_MODEL_911e93cf896948a2ae0c03222357d9f9",
       "tooltip": null
      }
     },
     "f476256831534beaa8a4765317eccaba": {
      "model_module": "@jupyter-widgets/controls",
      "model_module_version": "2.0.0",
      "model_name": "ButtonModel",
      "state": {
       "layout": "IPY_MODEL_fa40948db0f4465487f4a1a39f399946",
       "style": "IPY_MODEL_47bf1e643f0a4e8683076fc23016d657",
       "tooltip": null
      }
     },
     "f47effd7cba24f1d851cc0cf128029e3": {
      "model_module": "@jupyter-widgets/base",
      "model_module_version": "2.0.0",
      "model_name": "LayoutModel",
      "state": {}
     },
     "f5457bafcaf048dfa70b8f50d678fca5": {
      "model_module": "@jupyter-widgets/controls",
      "model_module_version": "2.0.0",
      "model_name": "ButtonModel",
      "state": {
       "description": "span 6",
       "layout": "IPY_MODEL_d9b1549c6efd48d5b05a439810449dae",
       "style": "IPY_MODEL_96a27a132ec94fffbf3c0819dd756436",
       "tooltip": null
      }
     },
     "f5aa362890954f288087dd6a6cef3f07": {
      "model_module": "@jupyter-widgets/controls",
      "model_module_version": "2.0.0",
      "model_name": "ButtonModel",
      "state": {
       "layout": "IPY_MODEL_d881fbb862214002bc6caf48648aef64",
       "style": "IPY_MODEL_f9c7400f32d940a498615d23893a4551",
       "tooltip": null
      }
     },
     "f5ab7217235a49a59174fef4caf6b229": {
      "model_module": "@jupyter-widgets/base",
      "model_module_version": "2.0.0",
      "model_name": "LayoutModel",
      "state": {}
     },
     "f66434e304294488b780986366dd48e3": {
      "model_module": "@jupyter-widgets/base",
      "model_module_version": "2.0.0",
      "model_name": "LayoutModel",
      "state": {}
     },
     "f8ac1c9577d145ffa091dd782bea4a95": {
      "model_module": "@jupyter-widgets/base",
      "model_module_version": "2.0.0",
      "model_name": "LayoutModel",
      "state": {
       "width": "auto"
      }
     },
     "f8f254a1b02b49b5a26817e2cb4a55f7": {
      "model_module": "@jupyter-widgets/controls",
      "model_module_version": "2.0.0",
      "model_name": "ButtonStyleModel",
      "state": {
       "button_color": "#e5e9f2",
       "font_family": null,
       "font_size": null,
       "font_style": null,
       "font_variant": null,
       "font_weight": null,
       "text_color": null,
       "text_decoration": null
      }
     },
     "f9bae3933bf6408993e06610de42a283": {
      "model_module": "@jupyter-widgets/base",
      "model_module_version": "2.0.0",
      "model_name": "LayoutModel",
      "state": {
       "grid_area": "widget004"
      }
     },
     "f9c7400f32d940a498615d23893a4551": {
      "model_module": "@jupyter-widgets/controls",
      "model_module_version": "2.0.0",
      "model_name": "ButtonStyleModel",
      "state": {
       "button_color": "#d4dde6",
       "font_family": null,
       "font_size": null,
       "font_style": null,
       "font_variant": null,
       "font_weight": null,
       "text_color": null,
       "text_decoration": null
      }
     },
     "fa40948db0f4465487f4a1a39f399946": {
      "model_module": "@jupyter-widgets/base",
      "model_module_version": "2.0.0",
      "model_name": "LayoutModel",
      "state": {
       "width": "auto"
      }
     },
     "fa4f1ad23e4d4143bf19330baff4533c": {
      "model_module": "@jupyter-widgets/base",
      "model_module_version": "2.0.0",
      "model_name": "LayoutModel",
      "state": {
       "grid_area": "widget001"
      }
     },
     "fad3483f3cfd4250baaa736ee5f30a68": {
      "model_module": "@jupyter-widgets/base",
      "model_module_version": "2.0.0",
      "model_name": "LayoutModel",
      "state": {
       "width": "auto"
      }
     },
     "fe60ab51890b4448802c5a5c8c8ab963": {
      "model_module": "@jupyter-widgets/base",
      "model_module_version": "2.0.0",
      "model_name": "LayoutModel",
      "state": {}
     },
     "ffa3c21d5e5143aba0b7b172b27165d8": {
      "model_module": "@jupyter-widgets/base",
      "model_module_version": "2.0.0",
      "model_name": "LayoutModel",
      "state": {}
     }
    },
    "version_major": 2,
    "version_minor": 0
   }
  }
 },
 "nbformat": 4,
 "nbformat_minor": 5
}
