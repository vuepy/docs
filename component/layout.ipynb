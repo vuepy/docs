{
 "cells": [
  {
   "cell_type": "markdown",
   "id": "a1e2fa29-7566-4426-be1e-a750658d83a5",
   "metadata": {},
   "source": [
    "# Row-Col Layout 网格布局\n",
    "\n",
    "通过基础的 24 分栏，迅速简便地创建布局。"
   ]
  },
  {
   "cell_type": "markdown",
   "id": "7cdc5e8c-2aa8-41d1-9461-3e451f6ef6ea",
   "metadata": {},
   "source": [
    "## 基础布局\n",
    "\n",
    "使用列创建基础网格布局。  \n",
    "通过 `row` 和 `col` 组件，并通过 col 组件的 `span` 属性我们就可以自由地组合布局。"
   ]
  },
  {
   "cell_type": "code",
   "execution_count": 1,
   "id": "f5928b17-e8c8-47b0-9774-a8bb1f7e6af3",
   "metadata": {},
   "outputs": [
    {
     "name": "stdout",
     "output_type": "stream",
     "text": [
      "{\"vue\": \"<template>\\n  <Row>\\n    <Col :span=\\\"24\\\">\\n      <Button label=\\\"span 24\\\" style=\\\"width: auto; background-color: #9dacc1\\\"></Button>\\n    </Col>\\n  </Row>\\n\\n  <Row>\\n    <Col :span=\\\"12\\\">\\n      <Button label=\\\"span 12\\\" style=\\\"width: auto; background-color: #d4dde6\\\"></Button>\\n    </Col>\\n    <Col :span=\\\"12\\\">\\n      <Button label=\\\"span 12\\\" style=\\\"width: auto; background-color: #e5e9f2\\\"></Button>\\n    </Col>\\n  </Row>\\n\\n  <Row>\\n    <Col :span=\\\"8\\\">\\n      <Button label=\\\"span 8\\\" style=\\\"width: auto; background-color: #d4dde6\\\"></Button>\\n    </Col>\\n    <Col :span=\\\"8\\\">\\n      <Button label=\\\"span 8\\\" style=\\\"width: auto; background-color: #e5e9f2\\\"></Button>\\n    </Col>\\n    <Col :span=\\\"8\\\">\\n      <Button label=\\\"span 8\\\" style=\\\"width: auto; background-color: #d4dde6\\\"></Button>\\n    </Col>\\n  </Row>\\n\\n  <Row>\\n    <Col :span=\\\"6\\\">\\n      <Button label=\\\"span 6\\\" style=\\\"width: auto; background-color: #d4dde6\\\"></Button>\\n    </Col>\\n    <Col :span=\\\"6\\\">\\n      <Button label=\\\"span 6\\\" style=\\\"width: auto; background-color: #e5e9f2\\\"></Button>\\n    </Col>\\n    <Col :span=\\\"6\\\">\\n      <Button label=\\\"span 6\\\" style=\\\"width: auto; background-color: #d4dde6\\\"></Button>\\n    </Col>\\n    <Col :span=\\\"6\\\">\\n      <Button label=\\\"span 6\\\" style=\\\"width: auto; background-color: #e5e9f2\\\"></Button>\\n    </Col>\\n  </Row>\\n</template>\\n\\n<script setup>\\nimport Col from \\\"../../../src/ipywui/components/Col\\\";\\nimport Row from \\\"../../../src/ipywui/components/Row\\\";\\nimport Button from \\\"../../../src/ipywui/components/Button\\\";\\n</script>\", \"setup\": 0}\n"
     ]
    },
    {
     "data": {
      "application/vnd.jupyter.widget-view+json": {
       "model_id": "77d5957765634ae5ac2889089b6eb612",
       "version_major": 2,
       "version_minor": 0
      },
      "text/plain": [
       "Document(children=(Dom(children=(MessageWidget(message_options={'message': '', 'type': 'info', 'show_close': F…"
      ]
     },
     "execution_count": 1,
     "metadata": {},
     "output_type": "execute_result"
    }
   ],
   "source": [
    "import os\n",
    "import pathlib\n",
    "from vuepy.utils import magic\n",
    "\n",
    "cur_path = pathlib.Path()\n",
    "source_root = cur_path.absolute().parent.parent.parent\n",
    "os.chdir(source_root / 'examples' / 'ipywui' / 'layout')\n",
    "\n",
    "%vuepy_demo layout-basic.vue"
   ]
  },
  {
   "cell_type": "markdown",
   "id": "b6aafb76-3b08-4d1b-8dac-9d0aa13567b6",
   "metadata": {},
   "source": [
    "## 分栏间隔\n",
    "\n",
    "支持列间距\n",
    "\n",
    "`Row` 组件提供 `gutter` 属性来指定列之间的间距，单位为 `px`。"
   ]
  },
  {
   "cell_type": "code",
   "execution_count": 2,
   "id": "f814da69-2da6-4783-8a0e-e4241368bbed",
   "metadata": {},
   "outputs": [
    {
     "name": "stdout",
     "output_type": "stream",
     "text": [
      "{\"vue\": \"<template>\\n  <Row gutter=\\\"20px\\\">\\n    <Col :span=\\\"6\\\">\\n      <Button style=\\\"width: auto; background-color: #d4dde6\\\"></Button>\\n    </Col>\\n    <Col :span=\\\"6\\\">\\n      <Button style=\\\"width: auto; background-color: #d4dde6\\\"></Button>\\n    </Col>\\n    <Col :span=\\\"6\\\">\\n      <Button style=\\\"width: auto; background-color: #d4dde6\\\"></Button>\\n    </Col>\\n    <Col :span=\\\"6\\\">\\n      <Button style=\\\"width: auto; background-color: #d4dde6\\\"></Button>\\n    </Col>\\n  </Row>\\n</template>\\n\\n<script setup>\\nimport Col from \\\"../../../src/ipywui/components/Col\\\";\\nimport Row from \\\"../../../src/ipywui/components/Row\\\";\\nimport Button from \\\"../../../src/ipywui/components/Button\\\";\\n</script>\", \"setup\": 0}\n"
     ]
    },
    {
     "data": {
      "application/vnd.jupyter.widget-view+json": {
       "model_id": "671ca8b63b0c404ba12d8fd392deee8c",
       "version_major": 2,
       "version_minor": 0
      },
      "text/plain": [
       "Document(children=(Dom(children=(MessageWidget(message_options={'message': '', 'type': 'info', 'show_close': F…"
      ]
     },
     "execution_count": 2,
     "metadata": {},
     "output_type": "execute_result"
    }
   ],
   "source": [
    "%vuepy_demo column-gutter.vue"
   ]
  },
  {
   "cell_type": "markdown",
   "id": "17eca8d7-be55-4464-8d3a-5e8f3afe7e63",
   "metadata": {},
   "source": [
    "## 混合布局\n",
    "\n",
    "通过基础的 1/24 分栏任意扩展组合形成较为复杂的混合布局。"
   ]
  },
  {
   "cell_type": "code",
   "execution_count": 3,
   "id": "28a4af8c-aa99-4716-bd6f-bb1311ca323d",
   "metadata": {},
   "outputs": [
    {
     "name": "stdout",
     "output_type": "stream",
     "text": [
      "{\"vue\": \"<template>\\n  <Row gutter=\\\"20px\\\">\\n    <Col :span=\\\"16\\\">\\n      <Button label=\\\"span 16\\\" style=\\\"width: auto; background-color: #d4dde6\\\"></Button>\\n    </Col>\\n    <Col :span=\\\"8\\\">\\n      <Button label=\\\"span 8\\\" style=\\\"width: auto; background-color: #e5e9f2\\\"></Button>\\n    </Col>\\n  </Row>\\n\\n  <Row gutter=\\\"20px\\\">\\n    <Col :span=\\\"8\\\">\\n      <Button label=\\\"span 8\\\" style=\\\"width: auto; background-color: #d4dde6\\\"></Button>\\n    </Col>\\n    <Col :span=\\\"8\\\">\\n      <Button label=\\\"span 8\\\" style=\\\"width: auto; background-color: #e5e9f2\\\"></Button>\\n    </Col>\\n    <Col :span=\\\"4\\\">\\n      <Button label=\\\"span 4\\\" style=\\\"width: auto; background-color: #d4dde6\\\"></Button>\\n    </Col>\\n    <Col :span=\\\"4\\\">\\n      <Button label=\\\"span 4\\\" style=\\\"width: auto; background-color: #e5e9f2\\\"></Button>\\n    </Col>\\n  </Row>\\n\\n  <Row gutter=\\\"20px\\\">\\n    <Col :span=\\\"4\\\">\\n      <Button label=\\\"span 4\\\" style=\\\"width: auto; background-color: #d4dde6\\\"></Button>\\n    </Col>\\n    <Col :span=\\\"16\\\">\\n      <Button label=\\\"span 16\\\" style=\\\"width: auto; background-color: #e5e9f2\\\"></Button>\\n    </Col>\\n    <Col :span=\\\"4\\\">\\n      <Button label=\\\"span 4\\\" style=\\\"width: auto; background-color: #d4dde6\\\"></Button>\\n    </Col>\\n  </Row>\\n</template>\\n\\n<script setup>\\nimport Col from \\\"../../../src/ipywui/components/Col\\\";\\nimport Row from \\\"../../../src/ipywui/components/Row\\\";\\nimport Button from \\\"../../../src/ipywui/components/Button\\\";\\n</script>\", \"setup\": 0}\n"
     ]
    },
    {
     "data": {
      "application/vnd.jupyter.widget-view+json": {
       "model_id": "9dc47036d03247d1a6b280b04d2a4a85",
       "version_major": 2,
       "version_minor": 0
      },
      "text/plain": [
       "Document(children=(Dom(children=(MessageWidget(message_options={'message': '', 'type': 'info', 'show_close': F…"
      ]
     },
     "execution_count": 3,
     "metadata": {},
     "output_type": "execute_result"
    }
   ],
   "source": [
    "%vuepy_demo layout-hybrid.vue"
   ]
  },
  {
   "cell_type": "markdown",
   "id": "6c9d772f-e144-4c96-adc3-3bbb3f66f5ad",
   "metadata": {},
   "source": [
    "## 列偏移\n",
    "\n",
    "可以指定列偏移量\n",
    "\n",
    "通过制定 `col ` 组件的 `offset ` 属性可以指定分栏偏移的栏数。"
   ]
  },
  {
   "cell_type": "code",
   "execution_count": 4,
   "id": "8a0868a0-7e9f-4ab7-8470-c9903b35bb30",
   "metadata": {},
   "outputs": [
    {
     "name": "stdout",
     "output_type": "stream",
     "text": [
      "{\"vue\": \"<template>\\n  <Row>\\n    <Col :span=\\\"6\\\">\\n      <Button label=\\\"span 6\\\" style=\\\"width: auto; background-color: #d4dde6\\\"></Button>\\n    </Col>\\n    <Col :span=\\\"6\\\" :offset=\\\"6\\\">\\n      <Button label=\\\"offset 6 span 8\\\" style=\\\"width: auto; background-color: #e5e9f2\\\"></Button>\\n    </Col>\\n  </Row>\\n\\n  <Row>\\n    <Col :span=\\\"6\\\" :offset=\\\"6\\\">\\n      <Button label=\\\"offset 6 span 6\\\" style=\\\"width: auto; background-color: #d4dde6\\\"></Button>\\n    </Col>\\n    <Col :span=\\\"6\\\" :offset=\\\"6\\\">\\n      <Button label=\\\"offset 6 span 6\\\" style=\\\"width: auto; background-color: #e5e9f2\\\"></Button>\\n    </Col>\\n  </Row>\\n\\n  <Row>\\n    <Col :span=\\\"12\\\" :offset=\\\"6\\\">\\n      <Button label=\\\"offset 6 span 12\\\" style=\\\"width: auto; background-color: #d4dde6\\\"></Button>\\n    </Col>\\n  </Row>\\n</template>\\n\\n<script setup>\\nimport Col from \\\"../../../src/ipywui/components/Col\\\";\\nimport Row from \\\"../../../src/ipywui/components/Row\\\";\\nimport Button from \\\"../../../src/ipywui/components/Button\\\";\\n</script>\", \"setup\": 0}\n"
     ]
    },
    {
     "data": {
      "application/vnd.jupyter.widget-view+json": {
       "model_id": "2aabd02d5ba84d52b602f23eb5303f36",
       "version_major": 2,
       "version_minor": 0
      },
      "text/plain": [
       "Document(children=(Dom(children=(MessageWidget(message_options={'message': '', 'type': 'info', 'show_close': F…"
      ]
     },
     "execution_count": 4,
     "metadata": {},
     "output_type": "execute_result"
    }
   ],
   "source": [
    "%vuepy_demo column-offset.vue"
   ]
  },
  {
   "cell_type": "markdown",
   "id": "8685d144-029f-4afa-8547-4f3d84529504",
   "metadata": {},
   "source": [
    "## Row API\n",
    "\n",
    "### Row 属性\n",
    "\n",
    "| 属性名        | 说明                 | 类型                                                           | 默认值 |\n",
    "| --------     | ------------------- | ---------------------------------------------------------------| ------- |\n",
    "| width        | 行宽                 | ^[str]                                                         | -       |\n",
    "| height       | 行高                 | ^[str]                                                         | -       |\n",
    "| gutter       | 栅格间隔, css flex布局下的 gride-gap  | ^[str]                                              | -       |\n",
    "| justify(保留参数） | css flex布局下的水平排列方式  | ^[enum]`'start' \\| 'end' \\| 'center' \\| 'space-around' \\| 'space-between' \\| 'space-evenly'` | start   |\n",
    "| align(保留参数）   | css flex布局下的垂直排列方式 | ^[enum]`'top' \\| 'middle' \\| 'bottom'`                                                       | —       |\n",
    "| style        | 自定义css样式        | ^[str]                                                         | -       |\n",
    "\n",
    "\n",
    "::: tip\n",
    "\n",
    "**style 支持的其它css属性**\n",
    "\n",
    "Sizes相关\n",
    "* height\n",
    "* width\n",
    "* max_height\n",
    "* max_width\n",
    "* min_height\n",
    "* min_width\n",
    "\n",
    "Display相关\n",
    "* visibility\n",
    "* display\n",
    "* overflow\n",
    "\n",
    "Box model相关\n",
    "* border\n",
    "* margin\n",
    "* padding\n",
    "\n",
    "Positioning相关\n",
    "* top\n",
    "* left\n",
    "* bottom\n",
    "* right\n",
    "\n",
    ":::\n",
    "\n",
    "\n",
    "### Accordion Slots\n",
    "\n",
    "| 插槽名   | 说明               | 子标签 |\n",
    "| ---     | ---               | --- |\n",
    "| default | 自定义默认内容      | Col |\n",
    "\n",
    "### Accordion 方法\n",
    "\n",
    "| 属性名 | 说明 | 类型 |\n",
    "| --- | --- | --- |\n",
    "\n",
    "\n",
    "## Col API\n",
    "\n",
    "### Col 属性\n",
    "\n",
    "| 属性名        | 说明                 | 类型                                                           | 默认值 |\n",
    "| -----  | ------------------- | ---------------------------------------------------------------| ------- |\n",
    "| span   | 栅格占据的列数\t       | ^[number]                                                      | 24      |\n",
    "| offset | 栅格左侧的间隔格数\t   | ^[number]                                                      | 0       |\n",
    "\n",
    "\n",
    "### Col Slots\n",
    "\n",
    "| 插槽名   | 说明               | \n",
    "| ---     | ---               |\n",
    "| default | 自定义默认内容      |\n"
   ]
  }
 ],
 "metadata": {
  "kernelspec": {
   "display_name": "Python 3 (ipykernel)",
   "language": "python",
   "name": "python3"
  },
  "language_info": {
   "codemirror_mode": {
    "name": "ipython",
    "version": 3
   },
   "file_extension": ".py",
   "mimetype": "text/x-python",
   "name": "python",
   "nbconvert_exporter": "python",
   "pygments_lexer": "ipython3",
   "version": "3.10.12"
  },
  "widgets": {
   "application/vnd.jupyter.widget-state+json": {
    "state": {
     "005b4c446b9244de9bb68df5e8aeec97": {
      "model_module": "@jupyter-widgets/base",
      "model_module_version": "2.0.0",
      "model_name": "LayoutModel",
      "state": {
       "grid_area": "widget003"
      }
     },
     "01e433efd7ef4e79a2e743d6e044cd9f": {
      "model_module": "@jupyter-widgets/base",
      "model_module_version": "2.0.0",
      "model_name": "LayoutModel",
      "state": {}
     },
     "03f54592192d49709dce10c91d97ade4": {
      "model_module": "@jupyter-widgets/base",
      "model_module_version": "2.0.0",
      "model_name": "LayoutModel",
      "state": {}
     },
     "042a5341fb814d6897275c48ef83c77e": {
      "model_module": "@jupyter-widgets/base",
      "model_module_version": "2.0.0",
      "model_name": "LayoutModel",
      "state": {
       "width": "auto"
      }
     },
     "044f038fc6f54dc381879b32cb49691b": {
      "model_module": "@jupyter-widgets/controls",
      "model_module_version": "2.0.0",
      "model_name": "ButtonModel",
      "state": {
       "description": "span 6",
       "layout": "IPY_MODEL_84069c190b0e433c89cb97424627f9b9",
       "style": "IPY_MODEL_e6a2d7e0703b4bcf9cd024aef480413a",
       "tooltip": null
      }
     },
     "05a1c40456cc4615b17900d188488127": {
      "model_module": "@jupyter-widgets/base",
      "model_module_version": "2.0.0",
      "model_name": "LayoutModel",
      "state": {
       "grid_area": "widget001"
      }
     },
     "05da330d1fff4a3c965fc0fc1ce71de0": {
      "model_module": "@jupyter-widgets/controls",
      "model_module_version": "2.0.0",
      "model_name": "ButtonStyleModel",
      "state": {
       "button_color": "#e5e9f2",
       "font_family": null,
       "font_size": null,
       "font_style": null,
       "font_variant": null,
       "font_weight": null,
       "text_color": null,
       "text_decoration": null
      }
     },
     "073ea46e08eb4895acb2644e9dd203f6": {
      "model_module": "@jupyter-widgets/base",
      "model_module_version": "2.0.0",
      "model_name": "LayoutModel",
      "state": {}
     },
     "07612e611ff1405d89fdaf7bf6254f06": {
      "model_module": "@jupyter-widgets/base",
      "model_module_version": "2.0.0",
      "model_name": "LayoutModel",
      "state": {
       "grid_area": "widget001"
      }
     },
     "0896aa848f374d73b8326882be3d484a": {
      "model_module": "@jupyter-widgets/base",
      "model_module_version": "2.0.0",
      "model_name": "LayoutModel",
      "state": {
       "grid_area": "widget004"
      }
     },
     "08b2f3bc171c467ea8f412bb985151e7": {
      "model_module": "@jupyter-widgets/base",
      "model_module_version": "2.0.0",
      "model_name": "LayoutModel",
      "state": {
       "grid_gap": "20px",
       "grid_template_areas": "\"widget001 widget001 widget001 widget001 widget001 widget001 widget001 widget001 widget001 widget001 widget001 widget001 widget001 widget001 widget001 widget001 widget002 widget002 widget002 widget002 widget002 widget002 widget002 widget002\"",
       "grid_template_columns": "repeat(24, 1fr)",
       "grid_template_rows": "repeat(1, 1fr)"
      }
     },
     "0ad23d91630a44f6bda030841097ea40": {
      "model_module": "@jupyter-widgets/controls",
      "model_module_version": "2.0.0",
      "model_name": "ButtonStyleModel",
      "state": {
       "button_color": "#e5e9f2",
       "font_family": null,
       "font_size": null,
       "font_style": null,
       "font_variant": null,
       "font_weight": null,
       "text_color": null,
       "text_decoration": null
      }
     },
     "0c96de2c90b54146b1f6fecf7d25ff78": {
      "model_module": "@jupyter-widgets/controls",
      "model_module_version": "2.0.0",
      "model_name": "VBoxModel",
      "state": {
       "children": [
        "IPY_MODEL_7ddf6d242cef46a78eca7105f327ab78"
       ],
       "layout": "IPY_MODEL_ada75c591a3b47cb8fa7ecec854b8191"
      }
     },
     "0d14708c00cb4b20a455138715105664": {
      "model_module": "@jupyter-widgets/controls",
      "model_module_version": "2.0.0",
      "model_name": "VBoxModel",
      "state": {
       "children": [
        "IPY_MODEL_2fd70db43f074688bc1ec5d5785e76fe"
       ],
       "layout": "IPY_MODEL_37aff75d4b0d4fc5bba5c3ae612c82d7"
      }
     },
     "0dc3b2f6f45e41a58ce16a16c1182de8": {
      "model_module": "@jupyter-widgets/base",
      "model_module_version": "2.0.0",
      "model_name": "LayoutModel",
      "state": {
       "width": "auto"
      }
     },
     "0ee16ff63f5248c680bb9cd11ac0b23f": {
      "model_module": "@jupyter-widgets/controls",
      "model_module_version": "2.0.0",
      "model_name": "ButtonModel",
      "state": {
       "description": "span 4",
       "layout": "IPY_MODEL_553757aa435f49ca8556845da6e2a69d",
       "style": "IPY_MODEL_387fdc33a3b44cf98e228fbfe59e79c0",
       "tooltip": null
      }
     },
     "0ef1363bc2a84b98a4306057fd67b397": {
      "model_module": "@jupyter-widgets/controls",
      "model_module_version": "2.0.0",
      "model_name": "ButtonStyleModel",
      "state": {
       "button_color": "#e5e9f2",
       "font_family": null,
       "font_size": null,
       "font_style": null,
       "font_variant": null,
       "font_weight": null,
       "text_color": null,
       "text_decoration": null
      }
     },
     "0ff339ed5ba14d4ba5223b78938ae1ad": {
      "model_module": "@jupyter-widgets/base",
      "model_module_version": "2.0.0",
      "model_name": "LayoutModel",
      "state": {
       "width": "auto"
      }
     },
     "12d7bf502e2b41988052315f09b5b332": {
      "model_module": "@jupyter-widgets/controls",
      "model_module_version": "2.0.0",
      "model_name": "ButtonModel",
      "state": {
       "description": "span 8",
       "layout": "IPY_MODEL_dc62850c59514950858afaedf0743612",
       "style": "IPY_MODEL_05da330d1fff4a3c965fc0fc1ce71de0",
       "tooltip": null
      }
     },
     "14c9a039647a455faba26a6b42b74113": {
      "model_module": "@jupyter-widgets/base",
      "model_module_version": "2.0.0",
      "model_name": "LayoutModel",
      "state": {
       "width": "auto"
      }
     },
     "155a0c00176244df96ec166ced903a3f": {
      "model_module": "@jupyter-widgets/base",
      "model_module_version": "2.0.0",
      "model_name": "LayoutModel",
      "state": {
       "grid_area": "widget002"
      }
     },
     "15ad2fcde2c743d987f9e0358a327b56": {
      "model_module": "@jupyter-widgets/controls",
      "model_module_version": "2.0.0",
      "model_name": "ButtonModel",
      "state": {
       "layout": "IPY_MODEL_8bad896eee8447fe945541adbe9a3bf0",
       "style": "IPY_MODEL_21763262621348bbb9fbe9c5595de4ab",
       "tooltip": null
      }
     },
     "1a14e8c38f054a80bf7df441e27775e8": {
      "model_module": "@jupyter-widgets/controls",
      "model_module_version": "2.0.0",
      "model_name": "VBoxModel",
      "state": {
       "children": [
        "IPY_MODEL_807a85847e184de9b9cd44cf1f204e45"
       ],
       "layout": "IPY_MODEL_a3bfddb7f9b14ddd90828ce0b42dab8e"
      }
     },
     "1ab19d2c0aa84a44bbc0f099fc621d68": {
      "model_module": "@jupyter-widgets/controls",
      "model_module_version": "2.0.0",
      "model_name": "VBoxModel",
      "state": {
       "children": [
        "IPY_MODEL_df630ae30abb4f5c92e06b61a95ccca5"
       ],
       "layout": "IPY_MODEL_005b4c446b9244de9bb68df5e8aeec97"
      }
     },
     "1b90c5bfa6bd4d1c9f001fab6cb8440e": {
      "model_module": "@jupyter-widgets/controls",
      "model_module_version": "2.0.0",
      "model_name": "ButtonModel",
      "state": {
       "description": "span 4",
       "layout": "IPY_MODEL_fcb87cedceef4eb2accef98a9d014d13",
       "style": "IPY_MODEL_0ef1363bc2a84b98a4306057fd67b397",
       "tooltip": null
      }
     },
     "1c6ffa03cacd4d17bf38b65aa4715889": {
      "model_module": "@jupyter-widgets/controls",
      "model_module_version": "2.0.0",
      "model_name": "VBoxModel",
      "state": {
       "children": [
        "IPY_MODEL_8e4b795423974b7ebf8f793527c0cdce",
        "IPY_MODEL_8e4b795423974b7ebf8f793527c0cdce",
        "IPY_MODEL_520bce97da6944e2b6beeb798d43eceb"
       ],
       "layout": "IPY_MODEL_e6d9244167764bdf84df586f3eeb488c"
      }
     },
     "1c85532f06e345f98ebc7fecc4d45411": {
      "model_module": "@jupyter-widgets/controls",
      "model_module_version": "2.0.0",
      "model_name": "VBoxModel",
      "state": {
       "children": [
        "IPY_MODEL_a7ece0f53b3243a7aada830df13cac79"
       ],
       "layout": "IPY_MODEL_42077b492f58409aad278586faab43dd"
      }
     },
     "1ce653e63aba4ab1af5a1b5b1981c781": {
      "model_module": "@jupyter-widgets/base",
      "model_module_version": "2.0.0",
      "model_name": "LayoutModel",
      "state": {
       "width": "auto"
      }
     },
     "1ed66b2689ff4d478adf46cfa162f272": {
      "model_module": "@jupyter-widgets/base",
      "model_module_version": "2.0.0",
      "model_name": "LayoutModel",
      "state": {}
     },
     "1f73fc1d48594f6a858e8c327ede3330": {
      "model_module": "@jupyter-widgets/controls",
      "model_module_version": "2.0.0",
      "model_name": "ButtonStyleModel",
      "state": {
       "button_color": "#d4dde6",
       "font_family": null,
       "font_size": null,
       "font_style": null,
       "font_variant": null,
       "font_weight": null,
       "text_color": null,
       "text_decoration": null
      }
     },
     "20a5839724ae45238409c3589ee9ac6a": {
      "model_module": "@jupyter-widgets/controls",
      "model_module_version": "2.0.0",
      "model_name": "ButtonStyleModel",
      "state": {
       "button_color": "#e5e9f2",
       "font_family": null,
       "font_size": null,
       "font_style": null,
       "font_variant": null,
       "font_weight": null,
       "text_color": null,
       "text_decoration": null
      }
     },
     "212c66d30f2943a3ac520bd9d04476b1": {
      "model_module": "@jupyter-widgets/base",
      "model_module_version": "2.0.0",
      "model_name": "LayoutModel",
      "state": {
       "width": "auto"
      }
     },
     "21763262621348bbb9fbe9c5595de4ab": {
      "model_module": "@jupyter-widgets/controls",
      "model_module_version": "2.0.0",
      "model_name": "ButtonStyleModel",
      "state": {
       "button_color": "#d4dde6",
       "font_family": null,
       "font_size": null,
       "font_style": null,
       "font_variant": null,
       "font_weight": null,
       "text_color": null,
       "text_decoration": null
      }
     },
     "228ec002efe842138cb438a7450726fc": {
      "model_module": "@jupyter-widgets/base",
      "model_module_version": "2.0.0",
      "model_name": "LayoutModel",
      "state": {
       "grid_template_areas": "\"widget001 widget001 widget001 widget001 widget001 widget001 . . . . . . widget002 widget002 widget002 widget002 widget002 widget002 . . . . . .\"",
       "grid_template_columns": "repeat(24, 1fr)",
       "grid_template_rows": "repeat(1, 1fr)"
      }
     },
     "2450bed190904d7fb6a8ebe451abdf19": {
      "model_module": "@jupyter-widgets/controls",
      "model_module_version": "2.0.0",
      "model_name": "VBoxModel",
      "state": {
       "children": [
        "IPY_MODEL_36838f7eb5a94af48baf7bf839cc72b0"
       ],
       "layout": "IPY_MODEL_30a9fcc9bbb4403eb9557c7cd6f23f9b"
      }
     },
     "24691583ebfd42b4a139444fc04f5aae": {
      "model_module": "@jupyter-widgets/base",
      "model_module_version": "2.0.0",
      "model_name": "LayoutModel",
      "state": {}
     },
     "24a2ad7433944cf789cb980557f58d5e": {
      "model_module": "@jupyter-widgets/base",
      "model_module_version": "2.0.0",
      "model_name": "LayoutModel",
      "state": {
       "grid_area": "widget003"
      }
     },
     "269a18ce367d4521bde3995b0e1b27ab": {
      "model_module": "anywidget",
      "model_module_version": "0.9.3",
      "model_name": "AnyModel",
      "state": {
       "_anywidget_id": "ipywui.widgets.custom.message.MessageWidget",
       "_css": ".wui-message-root {\n    display: flex;\n    position: absolute;\n    left: 0;\n    right: 0;\n    top: 0;\n}\n\n.wui-message-container {\n    align-items: center;\n    display: flex;\n    flex-direction: column-reverse;\n    justify-content: center;\n    min-height: 100%;\n    outline: none;\n    width: 100%;\n\n    -webkit-tap-highlight-color: rgba(0,0,0,0);\n    bottom: 0;\n    left: 0;\n    right: 0;\n    top: 0;\n}\n\n.wui-message--success {\n    --wui-message-bg-color: #f0f9eb;\n    --wui-message-border-color: #e1f3d8;\n    --wui-message-text-color: #67c23a;\n}\n.wui-message--warning {\n    --wui-message-bg-color: #fdf6ec;\n    --wui-message-border-color: #faecd8;\n    --wui-message-text-color: #e6a23c;\n}\n.wui-message--info {\n    --wui-message-bg-color: #f4f4f5;\n    --wui-message-border-color: #e9e9eb;\n    --wui-message-text-color: #909399;\n}\n.wui-message--error {\n    --wui-message-bg-color: #fef0f0;\n    --wui-message-border-color: #fde2e2;\n    --wui-message-text-color: #f56c6c;\n}\n\n@keyframes msg-open {\n    0% {\n        opacity: 0;\n        -webkit-transform: translateY(-120%);\n        transform: translateY(-120%)\n    }\n    to {\n        -webkit-transform: translateY(0);\n        transform: translateY(0)\n    }\n}\n\n@keyframes msg-close {\n    0% {\n        opacity: 1;\n        -webkit-transform: scale(1);\n        transform: scale(1)\n    }\n    to {\n        opacity: 0;\n        -webkit-transform: scale(.9);\n        transform: scale(.9)\n    }\n}\n.wui-message[data-state=entered],.wui-message[data-state=entering] {\n    -webkit-animation: msg-open .24s cubic-bezier(.175,.885,.32,1.175) both;\n    animation: msg-open .24s cubic-bezier(.175,.885,.32,1.175) both\n}\n\n.wui-message[data-state=exiting] {\n    -webkit-animation: msg-close .12s cubic-bezier(.4,0,1,1) both;\n    animation: msg-close .12s cubic-bezier(.4,0,1,1) both\n}\n\n.wui-message {\n    width: -webkit-fit-content;\n    width: -moz-fit-content;\n    width: fit-content;\n    z-index: 2004;\n    max-width: calc(100% - 32px);\n    margin-top: 8px;\n    box-sizing: border-box;\n    /*border-radius: var(--wui-border-radius-base);*/\n    /*border-width: var(--wui-border-width);*/\n    /*border-style: var(--wui-border-style);*/\n    border-color: var(--wui-message-border-color);\n    /*left: 50%;*/\n    /*top: 20px;*/\n    /*transform: translateX(-50%);*/\n    background-color: var(--wui-message-bg-color);\n    /*transition: opacity var(--wui-transition-duration),transform .4s,top .4s;*/\n    /*padding: var(--wui-message-padding);*/\n    display: flex;\n    align-items: center;\n}\n\n/*.wui-message--success */\n.wui-message__content {\n    color: var(--wui-message-text-color);\n    font-size: 14px;\n    line-height: 18px;\n    margin: 10px 14px 10px 14px;\n    overflow-wrap: break-word;\n}\n\n.wui-message__closeBtn {\n    /*cursor: pointer;*/\n    font-style: normal;\n    /*color: gray;*/\n    padding-right: 14px;\n    /*font-size: 13px;*/\n    user-select: none;\n\n    background: transparent;\n    border: none;\n    color: gray;\n    cursor: pointer;\n    font-size: 13px;\n    font-weight: 400;\n    line-height: 1;\n    outline: none;\n    /*padding: 4px;*/\n    text-align: center;\n    transition: opacity .3s;\n    /*width: 100%;*/\n}",
       "_esm": "function closeMsg(msgDom) {\n  if (!msgDom) {\n    return;\n  }\n  msgDom.setAttribute('data-state', 'exiting');\n  msgDom.remove();\n}\n\nfunction createMsg(options) {\n  const {message, msg_id, type = 'info', show_close = false} = options;\n  const msgDom = document.createElement('div');\n  msgDom.className += ` wui-message--${type} wui-message`;\n  msgDom.setAttribute('data-state', 'entered');\n  msgDom.setAttribute('id', msg_id);\n  const msgContent = document.createElement('p');\n  msgContent.className += ` wui-message--${type} wui-message__content`;\n  msgContent.innerText = message;\n  msgDom.appendChild(msgContent);\n  if (show_close) {\n    const closeBtn = document.createElement('i');\n    closeBtn.className += 'wui-message__closeBtn';\n    closeBtn.innerText = 'x';\n    closeBtn.addEventListener('click', (ev) => {\n      closeMsg(msgDom);\n    })\n    msgDom.appendChild(closeBtn);\n  }\n  return msgDom;\n}\n\nexport async function render(view) {\n  let model = view.model;\n  const msgRoot = view.el;\n  msgRoot.className += ' wui-message-root'\n\n  const msgContainer = document.createElement('div');\n  msgContainer.className += ' wui-message-container';\n  msgRoot.appendChild(msgContainer)\n\n  model.on(\"change:message_options\", () => {\n    const options = model.get(\"message_options\");\n    const msg = createMsg(options);\n    msgContainer.appendChild(msg);\n    const {duration = 3000} = options;\n    if (duration > 0) {\n      setTimeout(() => {\n        closeMsg(msg)\n      }, duration);\n    }\n  })\n\n  model.on(\"change:close_msg_id\", () => {\n    const msg_id = model.get(\"close_msg_id\");\n    const msgDom = document.getElementById(msg_id);\n    closeMsg(msgDom);\n  })\n}\n",
       "_model_module": "anywidget",
       "_model_module_version": "0.9.3",
       "_model_name": "AnyModel",
       "_view_module": "anywidget",
       "_view_module_version": "0.9.3",
       "_view_name": "AnyView",
       "close_msg_id": "",
       "layout": "IPY_MODEL_96ef4a0c0ac5449780b3c57e5b5e749e",
       "message_options": {
        "duration": 3000,
        "message": "",
        "show_close": false,
        "type": "info"
       }
      }
     },
     "26d7a9532f0e45aeb522cc27d06c66d7": {
      "model_module": "@jupyter-widgets/controls",
      "model_module_version": "2.0.0",
      "model_name": "GridBoxModel",
      "state": {
       "children": [
        "IPY_MODEL_d920648bdb6c4d27ad5c654e679db9bc",
        "IPY_MODEL_94b0141a641145c2ad897d38c56b95fa"
       ],
       "layout": "IPY_MODEL_08b2f3bc171c467ea8f412bb985151e7"
      }
     },
     "27a0c7a6b77741b5aa97f7fa2229654a": {
      "model_module": "@jupyter-widgets/controls",
      "model_module_version": "2.0.0",
      "model_name": "ButtonStyleModel",
      "state": {
       "button_color": "#d4dde6",
       "font_family": null,
       "font_size": null,
       "font_style": null,
       "font_variant": null,
       "font_weight": null,
       "text_color": null,
       "text_decoration": null
      }
     },
     "27e81fd4683e48d0a87eba6e97e270d6": {
      "model_module": "@jupyter-widgets/base",
      "model_module_version": "2.0.0",
      "model_name": "LayoutModel",
      "state": {}
     },
     "28d092e3c59f4509b3c102f50321efec": {
      "model_module": "@jupyter-widgets/base",
      "model_module_version": "2.0.0",
      "model_name": "LayoutModel",
      "state": {}
     },
     "29442d17e491479184ad89ecf66b8dd2": {
      "model_module": "@jupyter-widgets/base",
      "model_module_version": "2.0.0",
      "model_name": "LayoutModel",
      "state": {
       "width": "auto"
      }
     },
     "2a2b534cae644d44a7acc3556e4adfb9": {
      "model_module": "@jupyter-widgets/base",
      "model_module_version": "2.0.0",
      "model_name": "LayoutModel",
      "state": {
       "grid_gap": "20px",
       "grid_template_areas": "\"widget001 widget001 widget001 widget001 widget001 widget001 widget002 widget002 widget002 widget002 widget002 widget002 widget003 widget003 widget003 widget003 widget003 widget003 widget004 widget004 widget004 widget004 widget004 widget004\"",
       "grid_template_columns": "repeat(24, 1fr)",
       "grid_template_rows": "repeat(1, 1fr)"
      }
     },
     "2aabd02d5ba84d52b602f23eb5303f36": {
      "model_module": "@jupyter-widgets/controls",
      "model_module_version": "2.0.0",
      "model_name": "VBoxModel",
      "state": {
       "children": [
        "IPY_MODEL_1c6ffa03cacd4d17bf38b65aa4715889"
       ],
       "layout": "IPY_MODEL_27e81fd4683e48d0a87eba6e97e270d6"
      }
     },
     "2c138d46ca1a416cb481f2570b0093b1": {
      "model_module": "@jupyter-widgets/controls",
      "model_module_version": "2.0.0",
      "model_name": "VBoxModel",
      "state": {
       "children": [
        "IPY_MODEL_26d7a9532f0e45aeb522cc27d06c66d7",
        "IPY_MODEL_c01e1523c1914cb5b39786dcb1e2827b",
        "IPY_MODEL_7ae94f0252f048318ef8835741035d1f"
       ],
       "layout": "IPY_MODEL_7b792234e72741b3a2c86fbacd50b978"
      }
     },
     "2ce5613e462b4f42a15820bbe6ce0d0f": {
      "model_module": "@jupyter-widgets/controls",
      "model_module_version": "2.0.0",
      "model_name": "VBoxModel",
      "state": {
       "children": [
        "IPY_MODEL_fc7336eb929b432faa4ceb602ebd6f81"
       ],
       "layout": "IPY_MODEL_fb2d4644858149e68928e39c95211758"
      }
     },
     "2ebfd751dcf6480e8ae0772e303bf17d": {
      "model_module": "@jupyter-widgets/base",
      "model_module_version": "2.0.0",
      "model_name": "LayoutModel",
      "state": {
       "grid_area": "widget004"
      }
     },
     "2f7904698eab447dba34a8695ee67efc": {
      "model_module": "@jupyter-widgets/base",
      "model_module_version": "2.0.0",
      "model_name": "LayoutModel",
      "state": {
       "width": "auto"
      }
     },
     "2fd70db43f074688bc1ec5d5785e76fe": {
      "model_module": "@jupyter-widgets/controls",
      "model_module_version": "2.0.0",
      "model_name": "ButtonModel",
      "state": {
       "layout": "IPY_MODEL_14c9a039647a455faba26a6b42b74113",
       "style": "IPY_MODEL_b39f78aa14d8490ba9ef798b3c0ec11d",
       "tooltip": null
      }
     },
     "304e01e3085b4b37be381daea39b27e6": {
      "model_module": "@jupyter-widgets/base",
      "model_module_version": "2.0.0",
      "model_name": "LayoutModel",
      "state": {
       "grid_template_areas": "\". . . . . . widget001 widget001 widget001 widget001 widget001 widget001 . . . . . . widget002 widget002 widget002 widget002 widget002 widget002\"",
       "grid_template_columns": "repeat(24, 1fr)",
       "grid_template_rows": "repeat(1, 1fr)"
      }
     },
     "30a9fcc9bbb4403eb9557c7cd6f23f9b": {
      "model_module": "@jupyter-widgets/base",
      "model_module_version": "2.0.0",
      "model_name": "LayoutModel",
      "state": {
       "grid_area": "widget001"
      }
     },
     "31bcbcf400354f518e730c1cb1a10b43": {
      "model_module": "@jupyter-widgets/controls",
      "model_module_version": "2.0.0",
      "model_name": "ButtonModel",
      "state": {
       "description": "span 16",
       "layout": "IPY_MODEL_70f1bfed4cb146b0a0a90bdebbd2a88e",
       "style": "IPY_MODEL_e9e34cc22d6e4e6ba50b75cfaf4cc1fc",
       "tooltip": null
      }
     },
     "34ad41c48779490ab3f3dd5adc237b8d": {
      "model_module": "@jupyter-widgets/base",
      "model_module_version": "2.0.0",
      "model_name": "LayoutModel",
      "state": {
       "width": "auto"
      }
     },
     "34e5eeec64d64777bdfa18264f76b558": {
      "model_module": "@jupyter-widgets/controls",
      "model_module_version": "2.0.0",
      "model_name": "VBoxModel",
      "state": {
       "children": [
        "IPY_MODEL_90ee90f3c4f647099d012307a919de37",
        "IPY_MODEL_ac7204a23f554cfcbe9b325934f6e186",
        "IPY_MODEL_ce26e90f1ebe4cbd901b265cb39e7cb1"
       ],
       "layout": "IPY_MODEL_52492987cd13407db922945595521951"
      }
     },
     "357025f762ab4fc2832cb3e50066d04f": {
      "model_module": "@jupyter-widgets/base",
      "model_module_version": "2.0.0",
      "model_name": "LayoutModel",
      "state": {
       "grid_area": "widget002"
      }
     },
     "36838f7eb5a94af48baf7bf839cc72b0": {
      "model_module": "@jupyter-widgets/controls",
      "model_module_version": "2.0.0",
      "model_name": "ButtonModel",
      "state": {
       "description": "span 8",
       "layout": "IPY_MODEL_b6a044d660c9442e97e99646aa2c33ac",
       "style": "IPY_MODEL_fb7b8bdcfcf042aa8d01df053b7cdd85",
       "tooltip": null
      }
     },
     "37aff75d4b0d4fc5bba5c3ae612c82d7": {
      "model_module": "@jupyter-widgets/base",
      "model_module_version": "2.0.0",
      "model_name": "LayoutModel",
      "state": {
       "grid_area": "widget001"
      }
     },
     "387fdc33a3b44cf98e228fbfe59e79c0": {
      "model_module": "@jupyter-widgets/controls",
      "model_module_version": "2.0.0",
      "model_name": "ButtonStyleModel",
      "state": {
       "button_color": "#d4dde6",
       "font_family": null,
       "font_size": null,
       "font_style": null,
       "font_variant": null,
       "font_weight": null,
       "text_color": null,
       "text_decoration": null
      }
     },
     "38af36e5d61d483987611388c5d32b04": {
      "model_module": "@jupyter-widgets/base",
      "model_module_version": "2.0.0",
      "model_name": "LayoutModel",
      "state": {
       "width": "auto"
      }
     },
     "3b9e1db4198c4f57a261bde2a68b53c6": {
      "model_module": "@jupyter-widgets/output",
      "model_module_version": "1.0.0",
      "model_name": "OutputModel",
      "state": {
       "layout": "IPY_MODEL_9e44ea44bc834de4a4c5581cd9416cab",
       "outputs": [
        {
         "data": {
          "application/vnd.jupyter.widget-view+json": {
           "model_id": "ba1299f635bc4b9dbd3209393638da5a",
           "version_major": 2,
           "version_minor": 0
          },
          "text/plain": "sfc_container(children=(GridspecLayout(children=(VBox(children=(Button(layout=Layout(width='auto'), style=Butt…"
         },
         "metadata": {},
         "output_type": "display_data"
        }
       ]
      }
     },
     "406e5d337f1e48bda94bc27f5135a6c6": {
      "model_module": "@jupyter-widgets/base",
      "model_module_version": "2.0.0",
      "model_name": "LayoutModel",
      "state": {
       "width": "auto"
      }
     },
     "42077b492f58409aad278586faab43dd": {
      "model_module": "@jupyter-widgets/base",
      "model_module_version": "2.0.0",
      "model_name": "LayoutModel",
      "state": {
       "grid_area": "widget003"
      }
     },
     "43dede0b9add47f2bd207a7157cadd14": {
      "model_module": "@jupyter-widgets/controls",
      "model_module_version": "2.0.0",
      "model_name": "GridBoxModel",
      "state": {
       "children": [
        "IPY_MODEL_51d456b51b6a4222933c460242838744"
       ],
       "layout": "IPY_MODEL_9f32e7be85d1497a9b540f5264b88009"
      }
     },
     "44ffcad801294b6cbff6ef34185b5f55": {
      "model_module": "@jupyter-widgets/base",
      "model_module_version": "2.0.0",
      "model_name": "LayoutModel",
      "state": {
       "grid_gap": "20px",
       "grid_template_areas": "\"widget001 widget001 widget001 widget001 widget001 widget001 widget001 widget001 widget002 widget002 widget002 widget002 widget002 widget002 widget002 widget002 widget003 widget003 widget003 widget003 widget004 widget004 widget004 widget004\"",
       "grid_template_columns": "repeat(24, 1fr)",
       "grid_template_rows": "repeat(1, 1fr)"
      }
     },
     "47c44c8cec624013a17ace87c2729a18": {
      "model_module": "@jupyter-widgets/controls",
      "model_module_version": "2.0.0",
      "model_name": "VBoxModel",
      "state": {
       "children": [
        "IPY_MODEL_c5baa43f3269483dbf8cf79db96ce04a"
       ],
       "layout": "IPY_MODEL_ee386ecbb4a94affbe920d494f5a215e"
      }
     },
     "47cc1548f5e04f6aaecd7de8feb9b8af": {
      "model_module": "@jupyter-widgets/controls",
      "model_module_version": "2.0.0",
      "model_name": "ButtonStyleModel",
      "state": {
       "button_color": "#d4dde6",
       "font_family": null,
       "font_size": null,
       "font_style": null,
       "font_variant": null,
       "font_weight": null,
       "text_color": null,
       "text_decoration": null
      }
     },
     "480a157dbda34c469ce0d8633724e94b": {
      "model_module": "@jupyter-widgets/base",
      "model_module_version": "2.0.0",
      "model_name": "LayoutModel",
      "state": {}
     },
     "4cff2d5a45fd4b729ca84eb58eec62de": {
      "model_module": "@jupyter-widgets/base",
      "model_module_version": "2.0.0",
      "model_name": "LayoutModel",
      "state": {}
     },
     "4eb727a2353949f7b2e50fe716a682e5": {
      "model_module": "@jupyter-widgets/base",
      "model_module_version": "2.0.0",
      "model_name": "LayoutModel",
      "state": {
       "grid_area": "widget001"
      }
     },
     "50ba710da4c6424e988379a8eb69a8f0": {
      "model_module": "@jupyter-widgets/controls",
      "model_module_version": "2.0.0",
      "model_name": "VBoxModel",
      "state": {
       "children": [
        "IPY_MODEL_d291a6b9986349b1955569bbdb6e7c37",
        "IPY_MODEL_d291a6b9986349b1955569bbdb6e7c37",
        "IPY_MODEL_fd9ed98a3a87414797e649e525ec236f"
       ],
       "layout": "IPY_MODEL_61afc2eec18448fc82275760351830fc"
      }
     },
     "51317f64b9ee46ebb97a74cf9dd45313": {
      "model_module": "@jupyter-widgets/controls",
      "model_module_version": "2.0.0",
      "model_name": "ButtonStyleModel",
      "state": {
       "button_color": "#9dacc1",
       "font_family": null,
       "font_size": null,
       "font_style": null,
       "font_variant": null,
       "font_weight": null,
       "text_color": null,
       "text_decoration": null
      }
     },
     "51d456b51b6a4222933c460242838744": {
      "model_module": "@jupyter-widgets/controls",
      "model_module_version": "2.0.0",
      "model_name": "VBoxModel",
      "state": {
       "children": [
        "IPY_MODEL_f3259ca1a7ad46998d763bd0c302ad9c"
       ],
       "layout": "IPY_MODEL_a585b7c626144213b8d1a61669e27436"
      }
     },
     "520bce97da6944e2b6beeb798d43eceb": {
      "model_module": "@jupyter-widgets/output",
      "model_module_version": "1.0.0",
      "model_name": "OutputModel",
      "state": {
       "layout": "IPY_MODEL_1ed66b2689ff4d478adf46cfa162f272",
       "outputs": [
        {
         "data": {
          "application/vnd.jupyter.widget-view+json": {
           "model_id": "5895289e66924515a50a079597518d68",
           "version_major": 2,
           "version_minor": 0
          },
          "text/plain": "sfc_container(children=(VBox(children=(GridspecLayout(children=(VBox(children=(Button(description='span 6', la…"
         },
         "metadata": {},
         "output_type": "display_data"
        }
       ]
      }
     },
     "5244a2f28cb64ecebbaae3d8e91f7671": {
      "model_module": "anywidget",
      "model_module_version": "0.9.3",
      "model_name": "AnyModel",
      "state": {
       "_anywidget_id": "ipywui.widgets.custom.message.MessageWidget",
       "_css": ".wui-message-root {\n    display: flex;\n    position: absolute;\n    left: 0;\n    right: 0;\n    top: 0;\n}\n\n.wui-message-container {\n    align-items: center;\n    display: flex;\n    flex-direction: column-reverse;\n    justify-content: center;\n    min-height: 100%;\n    outline: none;\n    width: 100%;\n\n    -webkit-tap-highlight-color: rgba(0,0,0,0);\n    bottom: 0;\n    left: 0;\n    right: 0;\n    top: 0;\n}\n\n.wui-message--success {\n    --wui-message-bg-color: #f0f9eb;\n    --wui-message-border-color: #e1f3d8;\n    --wui-message-text-color: #67c23a;\n}\n.wui-message--warning {\n    --wui-message-bg-color: #fdf6ec;\n    --wui-message-border-color: #faecd8;\n    --wui-message-text-color: #e6a23c;\n}\n.wui-message--info {\n    --wui-message-bg-color: #f4f4f5;\n    --wui-message-border-color: #e9e9eb;\n    --wui-message-text-color: #909399;\n}\n.wui-message--error {\n    --wui-message-bg-color: #fef0f0;\n    --wui-message-border-color: #fde2e2;\n    --wui-message-text-color: #f56c6c;\n}\n\n@keyframes msg-open {\n    0% {\n        opacity: 0;\n        -webkit-transform: translateY(-120%);\n        transform: translateY(-120%)\n    }\n    to {\n        -webkit-transform: translateY(0);\n        transform: translateY(0)\n    }\n}\n\n@keyframes msg-close {\n    0% {\n        opacity: 1;\n        -webkit-transform: scale(1);\n        transform: scale(1)\n    }\n    to {\n        opacity: 0;\n        -webkit-transform: scale(.9);\n        transform: scale(.9)\n    }\n}\n.wui-message[data-state=entered],.wui-message[data-state=entering] {\n    -webkit-animation: msg-open .24s cubic-bezier(.175,.885,.32,1.175) both;\n    animation: msg-open .24s cubic-bezier(.175,.885,.32,1.175) both\n}\n\n.wui-message[data-state=exiting] {\n    -webkit-animation: msg-close .12s cubic-bezier(.4,0,1,1) both;\n    animation: msg-close .12s cubic-bezier(.4,0,1,1) both\n}\n\n.wui-message {\n    width: -webkit-fit-content;\n    width: -moz-fit-content;\n    width: fit-content;\n    z-index: 2004;\n    max-width: calc(100% - 32px);\n    margin-top: 8px;\n    box-sizing: border-box;\n    /*border-radius: var(--wui-border-radius-base);*/\n    /*border-width: var(--wui-border-width);*/\n    /*border-style: var(--wui-border-style);*/\n    border-color: var(--wui-message-border-color);\n    /*left: 50%;*/\n    /*top: 20px;*/\n    /*transform: translateX(-50%);*/\n    background-color: var(--wui-message-bg-color);\n    /*transition: opacity var(--wui-transition-duration),transform .4s,top .4s;*/\n    /*padding: var(--wui-message-padding);*/\n    display: flex;\n    align-items: center;\n}\n\n/*.wui-message--success */\n.wui-message__content {\n    color: var(--wui-message-text-color);\n    font-size: 14px;\n    line-height: 18px;\n    margin: 10px 14px 10px 14px;\n    overflow-wrap: break-word;\n}\n\n.wui-message__closeBtn {\n    /*cursor: pointer;*/\n    font-style: normal;\n    /*color: gray;*/\n    padding-right: 14px;\n    /*font-size: 13px;*/\n    user-select: none;\n\n    background: transparent;\n    border: none;\n    color: gray;\n    cursor: pointer;\n    font-size: 13px;\n    font-weight: 400;\n    line-height: 1;\n    outline: none;\n    /*padding: 4px;*/\n    text-align: center;\n    transition: opacity .3s;\n    /*width: 100%;*/\n}",
       "_esm": "function closeMsg(msgDom) {\n  if (!msgDom) {\n    return;\n  }\n  msgDom.setAttribute('data-state', 'exiting');\n  msgDom.remove();\n}\n\nfunction createMsg(options) {\n  const {message, msg_id, type = 'info', show_close = false} = options;\n  const msgDom = document.createElement('div');\n  msgDom.className += ` wui-message--${type} wui-message`;\n  msgDom.setAttribute('data-state', 'entered');\n  msgDom.setAttribute('id', msg_id);\n  const msgContent = document.createElement('p');\n  msgContent.className += ` wui-message--${type} wui-message__content`;\n  msgContent.innerText = message;\n  msgDom.appendChild(msgContent);\n  if (show_close) {\n    const closeBtn = document.createElement('i');\n    closeBtn.className += 'wui-message__closeBtn';\n    closeBtn.innerText = 'x';\n    closeBtn.addEventListener('click', (ev) => {\n      closeMsg(msgDom);\n    })\n    msgDom.appendChild(closeBtn);\n  }\n  return msgDom;\n}\n\nexport async function render(view) {\n  let model = view.model;\n  const msgRoot = view.el;\n  msgRoot.className += ' wui-message-root'\n\n  const msgContainer = document.createElement('div');\n  msgContainer.className += ' wui-message-container';\n  msgRoot.appendChild(msgContainer)\n\n  model.on(\"change:message_options\", () => {\n    const options = model.get(\"message_options\");\n    const msg = createMsg(options);\n    msgContainer.appendChild(msg);\n    const {duration = 3000} = options;\n    if (duration > 0) {\n      setTimeout(() => {\n        closeMsg(msg)\n      }, duration);\n    }\n  })\n\n  model.on(\"change:close_msg_id\", () => {\n    const msg_id = model.get(\"close_msg_id\");\n    const msgDom = document.getElementById(msg_id);\n    closeMsg(msgDom);\n  })\n}\n",
       "_model_module": "anywidget",
       "_model_module_version": "0.9.3",
       "_model_name": "AnyModel",
       "_view_module": "anywidget",
       "_view_module_version": "0.9.3",
       "_view_name": "AnyView",
       "close_msg_id": "",
       "layout": "IPY_MODEL_9edaee5456564e4eb6173cbf68ec7e58",
       "message_options": {
        "duration": 3000,
        "message": "",
        "show_close": false,
        "type": "info"
       }
      }
     },
     "52492987cd13407db922945595521951": {
      "model_module": "@jupyter-widgets/base",
      "model_module_version": "2.0.0",
      "model_name": "LayoutModel",
      "state": {}
     },
     "553757aa435f49ca8556845da6e2a69d": {
      "model_module": "@jupyter-widgets/base",
      "model_module_version": "2.0.0",
      "model_name": "LayoutModel",
      "state": {
       "width": "auto"
      }
     },
     "565f508258ba4cd8863c4bced0f86425": {
      "model_module": "@jupyter-widgets/controls",
      "model_module_version": "2.0.0",
      "model_name": "VBoxModel",
      "state": {
       "children": [
        "IPY_MODEL_6de07a8fe4154678bc719a6d65b4858f"
       ],
       "layout": "IPY_MODEL_6e84d326283346a6bb0c8461414dd227"
      }
     },
     "5875b3c0124c42baa71e9ee0219e99d1": {
      "model_module": "@jupyter-widgets/controls",
      "model_module_version": "2.0.0",
      "model_name": "VBoxModel",
      "state": {
       "children": [
        "IPY_MODEL_1b90c5bfa6bd4d1c9f001fab6cb8440e"
       ],
       "layout": "IPY_MODEL_2ebfd751dcf6480e8ae0772e303bf17d"
      }
     },
     "5895289e66924515a50a079597518d68": {
      "model_module": "@jupyter-widgets/controls",
      "model_module_version": "2.0.0",
      "model_name": "VBoxModel",
      "state": {
       "children": [
        "IPY_MODEL_34e5eeec64d64777bdfa18264f76b558"
       ],
       "layout": "IPY_MODEL_5bf61194fe0f4d03be55440b6e20408c"
      }
     },
     "5bf61194fe0f4d03be55440b6e20408c": {
      "model_module": "@jupyter-widgets/base",
      "model_module_version": "2.0.0",
      "model_name": "LayoutModel",
      "state": {}
     },
     "5fbd770ca80b4a078518bcab8cfdafbb": {
      "model_module": "@jupyter-widgets/controls",
      "model_module_version": "2.0.0",
      "model_name": "VBoxModel",
      "state": {
       "children": [
        "IPY_MODEL_f3a53f7b649f4df8b5fcfd5d92c90dde"
       ],
       "layout": "IPY_MODEL_99aba94e03aa442bae60f126adb5f2b6"
      }
     },
     "61afc2eec18448fc82275760351830fc": {
      "model_module": "@jupyter-widgets/base",
      "model_module_version": "2.0.0",
      "model_name": "LayoutModel",
      "state": {}
     },
     "671ca8b63b0c404ba12d8fd392deee8c": {
      "model_module": "@jupyter-widgets/controls",
      "model_module_version": "2.0.0",
      "model_name": "VBoxModel",
      "state": {
       "children": [
        "IPY_MODEL_ec1635d7666a4ded92db357ef0a4f245"
       ],
       "layout": "IPY_MODEL_480a157dbda34c469ce0d8633724e94b"
      }
     },
     "67497a3e5ead440b997618388153d040": {
      "model_module": "@jupyter-widgets/controls",
      "model_module_version": "2.0.0",
      "model_name": "ButtonModel",
      "state": {
       "description": "span 8",
       "layout": "IPY_MODEL_9ad22a9c0d5e43ef82a5901dd12219df",
       "style": "IPY_MODEL_0ad23d91630a44f6bda030841097ea40",
       "tooltip": null
      }
     },
     "6b45cef5980a43eca9f76e05898e11b9": {
      "model_module": "@jupyter-widgets/controls",
      "model_module_version": "2.0.0",
      "model_name": "ButtonStyleModel",
      "state": {
       "button_color": "#d4dde6",
       "font_family": null,
       "font_size": null,
       "font_style": null,
       "font_variant": null,
       "font_weight": null,
       "text_color": null,
       "text_decoration": null
      }
     },
     "6de07a8fe4154678bc719a6d65b4858f": {
      "model_module": "@jupyter-widgets/controls",
      "model_module_version": "2.0.0",
      "model_name": "ButtonModel",
      "state": {
       "description": "span 6",
       "layout": "IPY_MODEL_cf9b808fa0834fbcaf182be6fa99360f",
       "style": "IPY_MODEL_20a5839724ae45238409c3589ee9ac6a",
       "tooltip": null
      }
     },
     "6e84d326283346a6bb0c8461414dd227": {
      "model_module": "@jupyter-widgets/base",
      "model_module_version": "2.0.0",
      "model_name": "LayoutModel",
      "state": {
       "grid_area": "widget002"
      }
     },
     "705585dbb4ce4ff08688faf9f67ad5bf": {
      "model_module": "@jupyter-widgets/base",
      "model_module_version": "2.0.0",
      "model_name": "LayoutModel",
      "state": {
       "grid_area": "widget001"
      }
     },
     "70caf8f21d8b4d13ba73b56cfedb1024": {
      "model_module": "@jupyter-widgets/controls",
      "model_module_version": "2.0.0",
      "model_name": "VBoxModel",
      "state": {
       "children": [
        "IPY_MODEL_044f038fc6f54dc381879b32cb49691b"
       ],
       "layout": "IPY_MODEL_07612e611ff1405d89fdaf7bf6254f06"
      }
     },
     "70e92768d46f4412a3345dcb015f7cd9": {
      "model_module": "@jupyter-widgets/controls",
      "model_module_version": "2.0.0",
      "model_name": "VBoxModel",
      "state": {
       "children": [
        "IPY_MODEL_feb49b075a8047dbbdae9b3692ede176"
       ],
       "layout": "IPY_MODEL_908197d6999b4c1781691beb3b4eb697"
      }
     },
     "70f1bfed4cb146b0a0a90bdebbd2a88e": {
      "model_module": "@jupyter-widgets/base",
      "model_module_version": "2.0.0",
      "model_name": "LayoutModel",
      "state": {
       "width": "auto"
      }
     },
     "7153b22219304199bf289f87e28b8c7a": {
      "model_module": "@jupyter-widgets/controls",
      "model_module_version": "2.0.0",
      "model_name": "ButtonStyleModel",
      "state": {
       "button_color": "#d4dde6",
       "font_family": null,
       "font_size": null,
       "font_style": null,
       "font_variant": null,
       "font_weight": null,
       "text_color": null,
       "text_decoration": null
      }
     },
     "72fc7e0144684a61a1fe20f790e48457": {
      "model_module": "@jupyter-widgets/base",
      "model_module_version": "2.0.0",
      "model_name": "LayoutModel",
      "state": {}
     },
     "735467f8c986480ca0e03518812333ff": {
      "model_module": "@jupyter-widgets/controls",
      "model_module_version": "2.0.0",
      "model_name": "VBoxModel",
      "state": {
       "children": [
        "IPY_MODEL_15ad2fcde2c743d987f9e0358a327b56"
       ],
       "layout": "IPY_MODEL_9f4cb3431b4c47e9ae3bcae34ae2d053"
      }
     },
     "762d962c0db64c808aef1caa55b6af0b": {
      "model_module": "@jupyter-widgets/base",
      "model_module_version": "2.0.0",
      "model_name": "LayoutModel",
      "state": {
       "grid_gap": "20px",
       "grid_template_areas": "\"widget001 widget001 widget001 widget001 widget002 widget002 widget002 widget002 widget002 widget002 widget002 widget002 widget002 widget002 widget002 widget002 widget002 widget002 widget002 widget002 widget003 widget003 widget003 widget003\"",
       "grid_template_columns": "repeat(24, 1fr)",
       "grid_template_rows": "repeat(1, 1fr)"
      }
     },
     "76d2786ca5414549af6a6aaabf447615": {
      "model_module": "@jupyter-widgets/controls",
      "model_module_version": "2.0.0",
      "model_name": "ButtonStyleModel",
      "state": {
       "button_color": "#d4dde6",
       "font_family": null,
       "font_size": null,
       "font_style": null,
       "font_variant": null,
       "font_weight": null,
       "text_color": null,
       "text_decoration": null
      }
     },
     "76d7720702da46dc9d48a704f4d9de20": {
      "model_module": "@jupyter-widgets/controls",
      "model_module_version": "2.0.0",
      "model_name": "VBoxModel",
      "state": {
       "children": [
        "IPY_MODEL_8229702c84494ecca29cb633f99881b4"
       ],
       "layout": "IPY_MODEL_4eb727a2353949f7b2e50fe716a682e5"
      }
     },
     "77d5957765634ae5ac2889089b6eb612": {
      "model_module": "@jupyter-widgets/controls",
      "model_module_version": "2.0.0",
      "model_name": "VBoxModel",
      "state": {
       "children": [
        "IPY_MODEL_50ba710da4c6424e988379a8eb69a8f0"
       ],
       "layout": "IPY_MODEL_7f5ea4279d784c83bcb6397f22d2d8e8"
      }
     },
     "7ae94f0252f048318ef8835741035d1f": {
      "model_module": "@jupyter-widgets/controls",
      "model_module_version": "2.0.0",
      "model_name": "GridBoxModel",
      "state": {
       "children": [
        "IPY_MODEL_b8f401f0ddd348c59d7c16ba4a80eea9",
        "IPY_MODEL_2ce5613e462b4f42a15820bbe6ce0d0f",
        "IPY_MODEL_89a677eb9f9d4de59d641a9d6d01f39a"
       ],
       "layout": "IPY_MODEL_762d962c0db64c808aef1caa55b6af0b"
      }
     },
     "7b600bc7ab784b32a2eeaefb66026cf2": {
      "model_module": "@jupyter-widgets/base",
      "model_module_version": "2.0.0",
      "model_name": "LayoutModel",
      "state": {
       "grid_template_areas": "\"widget001 widget001 widget001 widget001 widget001 widget001 widget001 widget001 widget001 widget001 widget001 widget001 widget002 widget002 widget002 widget002 widget002 widget002 widget002 widget002 widget002 widget002 widget002 widget002\"",
       "grid_template_columns": "repeat(24, 1fr)",
       "grid_template_rows": "repeat(1, 1fr)"
      }
     },
     "7b792234e72741b3a2c86fbacd50b978": {
      "model_module": "@jupyter-widgets/base",
      "model_module_version": "2.0.0",
      "model_name": "LayoutModel",
      "state": {}
     },
     "7db215ae1086435db272bf403326b9cd": {
      "model_module": "@jupyter-widgets/base",
      "model_module_version": "2.0.0",
      "model_name": "LayoutModel",
      "state": {
       "width": "auto"
      }
     },
     "7ddf6d242cef46a78eca7105f327ab78": {
      "model_module": "@jupyter-widgets/controls",
      "model_module_version": "2.0.0",
      "model_name": "ButtonModel",
      "state": {
       "layout": "IPY_MODEL_aaf3999a76424d129dee34013b668ea4",
       "style": "IPY_MODEL_e73538f5aaf4438aabc750faa18b6d02",
       "tooltip": null
      }
     },
     "7e37e08f7e52411282fee93b1a0de2f7": {
      "model_module": "@jupyter-widgets/controls",
      "model_module_version": "2.0.0",
      "model_name": "ButtonStyleModel",
      "state": {
       "button_color": "#d4dde6",
       "font_family": null,
       "font_size": null,
       "font_style": null,
       "font_variant": null,
       "font_weight": null,
       "text_color": null,
       "text_decoration": null
      }
     },
     "7f5ea4279d784c83bcb6397f22d2d8e8": {
      "model_module": "@jupyter-widgets/base",
      "model_module_version": "2.0.0",
      "model_name": "LayoutModel",
      "state": {}
     },
     "805e5a3769e046c3af24edaa8073b57a": {
      "model_module": "@jupyter-widgets/controls",
      "model_module_version": "2.0.0",
      "model_name": "ButtonModel",
      "state": {
       "description": "span 8",
       "layout": "IPY_MODEL_bc26a06f5c354720925c8eb4179b55d5",
       "style": "IPY_MODEL_aa3b3398dbec4defa9c5329c5550473d",
       "tooltip": null
      }
     },
     "807a85847e184de9b9cd44cf1f204e45": {
      "model_module": "@jupyter-widgets/controls",
      "model_module_version": "2.0.0",
      "model_name": "ButtonModel",
      "state": {
       "description": "span 4",
       "layout": "IPY_MODEL_c5c290a0d4414e0ead75d8c1627f3f62",
       "style": "IPY_MODEL_6b45cef5980a43eca9f76e05898e11b9",
       "tooltip": null
      }
     },
     "8229702c84494ecca29cb633f99881b4": {
      "model_module": "@jupyter-widgets/controls",
      "model_module_version": "2.0.0",
      "model_name": "ButtonModel",
      "state": {
       "description": "span 12",
       "layout": "IPY_MODEL_83245961a3f344a7a16444de0bb8b4dc",
       "style": "IPY_MODEL_7153b22219304199bf289f87e28b8c7a",
       "tooltip": null
      }
     },
     "82c383a994c54c1c9f8c21aee26128a1": {
      "model_module": "@jupyter-widgets/controls",
      "model_module_version": "2.0.0",
      "model_name": "VBoxModel",
      "state": {
       "children": [
        "IPY_MODEL_faa48a3b7bf64630906f0b64375e6dfb"
       ],
       "layout": "IPY_MODEL_d7136858ae74499f8b81002f6f4faa05"
      }
     },
     "83245961a3f344a7a16444de0bb8b4dc": {
      "model_module": "@jupyter-widgets/base",
      "model_module_version": "2.0.0",
      "model_name": "LayoutModel",
      "state": {
       "width": "auto"
      }
     },
     "83b981e2f569497b921b7db078ebfb08": {
      "model_module": "@jupyter-widgets/controls",
      "model_module_version": "2.0.0",
      "model_name": "VBoxModel",
      "state": {
       "children": [
        "IPY_MODEL_88cf2083a32e4de281138717680f3002"
       ],
       "layout": "IPY_MODEL_8bc3bfe93df648ae88b52cd49d6a4fbc"
      }
     },
     "84069c190b0e433c89cb97424627f9b9": {
      "model_module": "@jupyter-widgets/base",
      "model_module_version": "2.0.0",
      "model_name": "LayoutModel",
      "state": {
       "width": "auto"
      }
     },
     "8458d35e233d4a6ca8e77c75b148c698": {
      "model_module": "anywidget",
      "model_module_version": "0.9.3",
      "model_name": "AnyModel",
      "state": {
       "_anywidget_id": "ipywui.widgets.custom.message.MessageWidget",
       "_css": ".wui-message-root {\n    display: flex;\n    position: absolute;\n    left: 0;\n    right: 0;\n    top: 0;\n}\n\n.wui-message-container {\n    align-items: center;\n    display: flex;\n    flex-direction: column-reverse;\n    justify-content: center;\n    min-height: 100%;\n    outline: none;\n    width: 100%;\n\n    -webkit-tap-highlight-color: rgba(0,0,0,0);\n    bottom: 0;\n    left: 0;\n    right: 0;\n    top: 0;\n}\n\n.wui-message--success {\n    --wui-message-bg-color: #f0f9eb;\n    --wui-message-border-color: #e1f3d8;\n    --wui-message-text-color: #67c23a;\n}\n.wui-message--warning {\n    --wui-message-bg-color: #fdf6ec;\n    --wui-message-border-color: #faecd8;\n    --wui-message-text-color: #e6a23c;\n}\n.wui-message--info {\n    --wui-message-bg-color: #f4f4f5;\n    --wui-message-border-color: #e9e9eb;\n    --wui-message-text-color: #909399;\n}\n.wui-message--error {\n    --wui-message-bg-color: #fef0f0;\n    --wui-message-border-color: #fde2e2;\n    --wui-message-text-color: #f56c6c;\n}\n\n@keyframes msg-open {\n    0% {\n        opacity: 0;\n        -webkit-transform: translateY(-120%);\n        transform: translateY(-120%)\n    }\n    to {\n        -webkit-transform: translateY(0);\n        transform: translateY(0)\n    }\n}\n\n@keyframes msg-close {\n    0% {\n        opacity: 1;\n        -webkit-transform: scale(1);\n        transform: scale(1)\n    }\n    to {\n        opacity: 0;\n        -webkit-transform: scale(.9);\n        transform: scale(.9)\n    }\n}\n.wui-message[data-state=entered],.wui-message[data-state=entering] {\n    -webkit-animation: msg-open .24s cubic-bezier(.175,.885,.32,1.175) both;\n    animation: msg-open .24s cubic-bezier(.175,.885,.32,1.175) both\n}\n\n.wui-message[data-state=exiting] {\n    -webkit-animation: msg-close .12s cubic-bezier(.4,0,1,1) both;\n    animation: msg-close .12s cubic-bezier(.4,0,1,1) both\n}\n\n.wui-message {\n    width: -webkit-fit-content;\n    width: -moz-fit-content;\n    width: fit-content;\n    z-index: 2004;\n    max-width: calc(100% - 32px);\n    margin-top: 8px;\n    box-sizing: border-box;\n    /*border-radius: var(--wui-border-radius-base);*/\n    /*border-width: var(--wui-border-width);*/\n    /*border-style: var(--wui-border-style);*/\n    border-color: var(--wui-message-border-color);\n    /*left: 50%;*/\n    /*top: 20px;*/\n    /*transform: translateX(-50%);*/\n    background-color: var(--wui-message-bg-color);\n    /*transition: opacity var(--wui-transition-duration),transform .4s,top .4s;*/\n    /*padding: var(--wui-message-padding);*/\n    display: flex;\n    align-items: center;\n}\n\n/*.wui-message--success */\n.wui-message__content {\n    color: var(--wui-message-text-color);\n    font-size: 14px;\n    line-height: 18px;\n    margin: 10px 14px 10px 14px;\n    overflow-wrap: break-word;\n}\n\n.wui-message__closeBtn {\n    /*cursor: pointer;*/\n    font-style: normal;\n    /*color: gray;*/\n    padding-right: 14px;\n    /*font-size: 13px;*/\n    user-select: none;\n\n    background: transparent;\n    border: none;\n    color: gray;\n    cursor: pointer;\n    font-size: 13px;\n    font-weight: 400;\n    line-height: 1;\n    outline: none;\n    /*padding: 4px;*/\n    text-align: center;\n    transition: opacity .3s;\n    /*width: 100%;*/\n}",
       "_esm": "function closeMsg(msgDom) {\n  if (!msgDom) {\n    return;\n  }\n  msgDom.setAttribute('data-state', 'exiting');\n  msgDom.remove();\n}\n\nfunction createMsg(options) {\n  const {message, msg_id, type = 'info', show_close = false} = options;\n  const msgDom = document.createElement('div');\n  msgDom.className += ` wui-message--${type} wui-message`;\n  msgDom.setAttribute('data-state', 'entered');\n  msgDom.setAttribute('id', msg_id);\n  const msgContent = document.createElement('p');\n  msgContent.className += ` wui-message--${type} wui-message__content`;\n  msgContent.innerText = message;\n  msgDom.appendChild(msgContent);\n  if (show_close) {\n    const closeBtn = document.createElement('i');\n    closeBtn.className += 'wui-message__closeBtn';\n    closeBtn.innerText = 'x';\n    closeBtn.addEventListener('click', (ev) => {\n      closeMsg(msgDom);\n    })\n    msgDom.appendChild(closeBtn);\n  }\n  return msgDom;\n}\n\nexport async function render(view) {\n  let model = view.model;\n  const msgRoot = view.el;\n  msgRoot.className += ' wui-message-root'\n\n  const msgContainer = document.createElement('div');\n  msgContainer.className += ' wui-message-container';\n  msgRoot.appendChild(msgContainer)\n\n  model.on(\"change:message_options\", () => {\n    const options = model.get(\"message_options\");\n    const msg = createMsg(options);\n    msgContainer.appendChild(msg);\n    const {duration = 3000} = options;\n    if (duration > 0) {\n      setTimeout(() => {\n        closeMsg(msg)\n      }, duration);\n    }\n  })\n\n  model.on(\"change:close_msg_id\", () => {\n    const msg_id = model.get(\"close_msg_id\");\n    const msgDom = document.getElementById(msg_id);\n    closeMsg(msgDom);\n  })\n}\n",
       "_model_module": "anywidget",
       "_model_module_version": "0.9.3",
       "_model_name": "AnyModel",
       "_view_module": "anywidget",
       "_view_module_version": "0.9.3",
       "_view_name": "AnyView",
       "close_msg_id": "",
       "layout": "IPY_MODEL_28d092e3c59f4509b3c102f50321efec",
       "message_options": {
        "duration": 3000,
        "message": "",
        "show_close": false,
        "type": "info"
       }
      }
     },
     "850ff78845e543d19f3d2f5c89c3d359": {
      "model_module": "@jupyter-widgets/controls",
      "model_module_version": "2.0.0",
      "model_name": "VBoxModel",
      "state": {
       "children": [
        "IPY_MODEL_2c138d46ca1a416cb481f2570b0093b1"
       ],
       "layout": "IPY_MODEL_e706132299284589bcd460ad3060db7f"
      }
     },
     "85a9994afc9a4d5dba0538dc9d6285c4": {
      "model_module": "@jupyter-widgets/base",
      "model_module_version": "2.0.0",
      "model_name": "LayoutModel",
      "state": {
       "width": "auto"
      }
     },
     "87a93a9678744c448e657778d59aea52": {
      "model_module": "@jupyter-widgets/controls",
      "model_module_version": "2.0.0",
      "model_name": "ButtonModel",
      "state": {
       "description": "offset 6 span 8",
       "layout": "IPY_MODEL_d7c6684e9ab249078a3f692daa125eff",
       "style": "IPY_MODEL_ba392a86bced4228907b8a8924966ce4",
       "tooltip": null
      }
     },
     "88cf2083a32e4de281138717680f3002": {
      "model_module": "@jupyter-widgets/controls",
      "model_module_version": "2.0.0",
      "model_name": "ButtonModel",
      "state": {
       "description": "offset 6 span 6",
       "layout": "IPY_MODEL_406e5d337f1e48bda94bc27f5135a6c6",
       "style": "IPY_MODEL_27a0c7a6b77741b5aa97f7fa2229654a",
       "tooltip": null
      }
     },
     "897040d2f53240de82021a3bb1201ec4": {
      "model_module": "@jupyter-widgets/base",
      "model_module_version": "2.0.0",
      "model_name": "LayoutModel",
      "state": {}
     },
     "89a677eb9f9d4de59d641a9d6d01f39a": {
      "model_module": "@jupyter-widgets/controls",
      "model_module_version": "2.0.0",
      "model_name": "VBoxModel",
      "state": {
       "children": [
        "IPY_MODEL_d35a782defde4db8ba4f6d167a981896"
       ],
       "layout": "IPY_MODEL_24a2ad7433944cf789cb980557f58d5e"
      }
     },
     "8a16f7ec64d74fc99a7d55f94fd086c2": {
      "model_module": "@jupyter-widgets/controls",
      "model_module_version": "2.0.0",
      "model_name": "ButtonModel",
      "state": {
       "description": "span 12",
       "layout": "IPY_MODEL_85a9994afc9a4d5dba0538dc9d6285c4",
       "style": "IPY_MODEL_eb757f0acc3949ad860bc5122bb4ca4f",
       "tooltip": null
      }
     },
     "8b5cc9556d144289a33acda69d489fc6": {
      "model_module": "@jupyter-widgets/controls",
      "model_module_version": "2.0.0",
      "model_name": "GridBoxModel",
      "state": {
       "children": [
        "IPY_MODEL_0d14708c00cb4b20a455138715105664",
        "IPY_MODEL_735467f8c986480ca0e03518812333ff",
        "IPY_MODEL_0c96de2c90b54146b1f6fecf7d25ff78",
        "IPY_MODEL_82c383a994c54c1c9f8c21aee26128a1"
       ],
       "layout": "IPY_MODEL_2a2b534cae644d44a7acc3556e4adfb9"
      }
     },
     "8bad896eee8447fe945541adbe9a3bf0": {
      "model_module": "@jupyter-widgets/base",
      "model_module_version": "2.0.0",
      "model_name": "LayoutModel",
      "state": {
       "width": "auto"
      }
     },
     "8bc3bfe93df648ae88b52cd49d6a4fbc": {
      "model_module": "@jupyter-widgets/base",
      "model_module_version": "2.0.0",
      "model_name": "LayoutModel",
      "state": {
       "grid_area": "widget001"
      }
     },
     "8e4b795423974b7ebf8f793527c0cdce": {
      "model_module": "anywidget",
      "model_module_version": "0.9.3",
      "model_name": "AnyModel",
      "state": {
       "_anywidget_id": "ipywui.widgets.custom.message.MessageWidget",
       "_css": ".wui-message-root {\n    display: flex;\n    position: absolute;\n    left: 0;\n    right: 0;\n    top: 0;\n}\n\n.wui-message-container {\n    align-items: center;\n    display: flex;\n    flex-direction: column-reverse;\n    justify-content: center;\n    min-height: 100%;\n    outline: none;\n    width: 100%;\n\n    -webkit-tap-highlight-color: rgba(0,0,0,0);\n    bottom: 0;\n    left: 0;\n    right: 0;\n    top: 0;\n}\n\n.wui-message--success {\n    --wui-message-bg-color: #f0f9eb;\n    --wui-message-border-color: #e1f3d8;\n    --wui-message-text-color: #67c23a;\n}\n.wui-message--warning {\n    --wui-message-bg-color: #fdf6ec;\n    --wui-message-border-color: #faecd8;\n    --wui-message-text-color: #e6a23c;\n}\n.wui-message--info {\n    --wui-message-bg-color: #f4f4f5;\n    --wui-message-border-color: #e9e9eb;\n    --wui-message-text-color: #909399;\n}\n.wui-message--error {\n    --wui-message-bg-color: #fef0f0;\n    --wui-message-border-color: #fde2e2;\n    --wui-message-text-color: #f56c6c;\n}\n\n@keyframes msg-open {\n    0% {\n        opacity: 0;\n        -webkit-transform: translateY(-120%);\n        transform: translateY(-120%)\n    }\n    to {\n        -webkit-transform: translateY(0);\n        transform: translateY(0)\n    }\n}\n\n@keyframes msg-close {\n    0% {\n        opacity: 1;\n        -webkit-transform: scale(1);\n        transform: scale(1)\n    }\n    to {\n        opacity: 0;\n        -webkit-transform: scale(.9);\n        transform: scale(.9)\n    }\n}\n.wui-message[data-state=entered],.wui-message[data-state=entering] {\n    -webkit-animation: msg-open .24s cubic-bezier(.175,.885,.32,1.175) both;\n    animation: msg-open .24s cubic-bezier(.175,.885,.32,1.175) both\n}\n\n.wui-message[data-state=exiting] {\n    -webkit-animation: msg-close .12s cubic-bezier(.4,0,1,1) both;\n    animation: msg-close .12s cubic-bezier(.4,0,1,1) both\n}\n\n.wui-message {\n    width: -webkit-fit-content;\n    width: -moz-fit-content;\n    width: fit-content;\n    z-index: 2004;\n    max-width: calc(100% - 32px);\n    margin-top: 8px;\n    box-sizing: border-box;\n    /*border-radius: var(--wui-border-radius-base);*/\n    /*border-width: var(--wui-border-width);*/\n    /*border-style: var(--wui-border-style);*/\n    border-color: var(--wui-message-border-color);\n    /*left: 50%;*/\n    /*top: 20px;*/\n    /*transform: translateX(-50%);*/\n    background-color: var(--wui-message-bg-color);\n    /*transition: opacity var(--wui-transition-duration),transform .4s,top .4s;*/\n    /*padding: var(--wui-message-padding);*/\n    display: flex;\n    align-items: center;\n}\n\n/*.wui-message--success */\n.wui-message__content {\n    color: var(--wui-message-text-color);\n    font-size: 14px;\n    line-height: 18px;\n    margin: 10px 14px 10px 14px;\n    overflow-wrap: break-word;\n}\n\n.wui-message__closeBtn {\n    /*cursor: pointer;*/\n    font-style: normal;\n    /*color: gray;*/\n    padding-right: 14px;\n    /*font-size: 13px;*/\n    user-select: none;\n\n    background: transparent;\n    border: none;\n    color: gray;\n    cursor: pointer;\n    font-size: 13px;\n    font-weight: 400;\n    line-height: 1;\n    outline: none;\n    /*padding: 4px;*/\n    text-align: center;\n    transition: opacity .3s;\n    /*width: 100%;*/\n}",
       "_esm": "function closeMsg(msgDom) {\n  if (!msgDom) {\n    return;\n  }\n  msgDom.setAttribute('data-state', 'exiting');\n  msgDom.remove();\n}\n\nfunction createMsg(options) {\n  const {message, msg_id, type = 'info', show_close = false} = options;\n  const msgDom = document.createElement('div');\n  msgDom.className += ` wui-message--${type} wui-message`;\n  msgDom.setAttribute('data-state', 'entered');\n  msgDom.setAttribute('id', msg_id);\n  const msgContent = document.createElement('p');\n  msgContent.className += ` wui-message--${type} wui-message__content`;\n  msgContent.innerText = message;\n  msgDom.appendChild(msgContent);\n  if (show_close) {\n    const closeBtn = document.createElement('i');\n    closeBtn.className += 'wui-message__closeBtn';\n    closeBtn.innerText = 'x';\n    closeBtn.addEventListener('click', (ev) => {\n      closeMsg(msgDom);\n    })\n    msgDom.appendChild(closeBtn);\n  }\n  return msgDom;\n}\n\nexport async function render(view) {\n  let model = view.model;\n  const msgRoot = view.el;\n  msgRoot.className += ' wui-message-root'\n\n  const msgContainer = document.createElement('div');\n  msgContainer.className += ' wui-message-container';\n  msgRoot.appendChild(msgContainer)\n\n  model.on(\"change:message_options\", () => {\n    const options = model.get(\"message_options\");\n    const msg = createMsg(options);\n    msgContainer.appendChild(msg);\n    const {duration = 3000} = options;\n    if (duration > 0) {\n      setTimeout(() => {\n        closeMsg(msg)\n      }, duration);\n    }\n  })\n\n  model.on(\"change:close_msg_id\", () => {\n    const msg_id = model.get(\"close_msg_id\");\n    const msgDom = document.getElementById(msg_id);\n    closeMsg(msgDom);\n  })\n}\n",
       "_model_module": "anywidget",
       "_model_module_version": "0.9.3",
       "_model_name": "AnyModel",
       "_view_module": "anywidget",
       "_view_module_version": "0.9.3",
       "_view_name": "AnyView",
       "close_msg_id": "",
       "layout": "IPY_MODEL_073ea46e08eb4895acb2644e9dd203f6",
       "message_options": {
        "duration": 3000,
        "message": "",
        "show_close": false,
        "type": "info"
       }
      }
     },
     "8fc1fbe2c5084beaa2eec8b235892763": {
      "model_module": "@jupyter-widgets/base",
      "model_module_version": "2.0.0",
      "model_name": "LayoutModel",
      "state": {
       "grid_template_areas": "\"widget001 widget001 widget001 widget001 widget001 widget001 widget001 widget001 widget002 widget002 widget002 widget002 widget002 widget002 widget002 widget002 widget003 widget003 widget003 widget003 widget003 widget003 widget003 widget003\"",
       "grid_template_columns": "repeat(24, 1fr)",
       "grid_template_rows": "repeat(1, 1fr)"
      }
     },
     "908197d6999b4c1781691beb3b4eb697": {
      "model_module": "@jupyter-widgets/base",
      "model_module_version": "2.0.0",
      "model_name": "LayoutModel",
      "state": {
       "grid_area": "widget002"
      }
     },
     "90ee90f3c4f647099d012307a919de37": {
      "model_module": "@jupyter-widgets/controls",
      "model_module_version": "2.0.0",
      "model_name": "GridBoxModel",
      "state": {
       "children": [
        "IPY_MODEL_47c44c8cec624013a17ace87c2729a18",
        "IPY_MODEL_9ca788244a03403996fe3d86c3f8a6d3"
       ],
       "layout": "IPY_MODEL_228ec002efe842138cb438a7450726fc"
      }
     },
     "94b0141a641145c2ad897d38c56b95fa": {
      "model_module": "@jupyter-widgets/controls",
      "model_module_version": "2.0.0",
      "model_name": "VBoxModel",
      "state": {
       "children": [
        "IPY_MODEL_12d7bf502e2b41988052315f09b5b332"
       ],
       "layout": "IPY_MODEL_b4660dba67cd473b8608e28993896d53"
      }
     },
     "96ef4a0c0ac5449780b3c57e5b5e749e": {
      "model_module": "@jupyter-widgets/base",
      "model_module_version": "2.0.0",
      "model_name": "LayoutModel",
      "state": {}
     },
     "97f8727794b440b99f0b8659182fa894": {
      "model_module": "@jupyter-widgets/controls",
      "model_module_version": "2.0.0",
      "model_name": "GridBoxModel",
      "state": {
       "children": [
        "IPY_MODEL_76d7720702da46dc9d48a704f4d9de20",
        "IPY_MODEL_d43e3f2bc7f949f9a10401dc19d2d938"
       ],
       "layout": "IPY_MODEL_7b600bc7ab784b32a2eeaefb66026cf2"
      }
     },
     "99aba94e03aa442bae60f126adb5f2b6": {
      "model_module": "@jupyter-widgets/base",
      "model_module_version": "2.0.0",
      "model_name": "LayoutModel",
      "state": {
       "grid_area": "widget002"
      }
     },
     "9ad22a9c0d5e43ef82a5901dd12219df": {
      "model_module": "@jupyter-widgets/base",
      "model_module_version": "2.0.0",
      "model_name": "LayoutModel",
      "state": {
       "width": "auto"
      }
     },
     "9ca788244a03403996fe3d86c3f8a6d3": {
      "model_module": "@jupyter-widgets/controls",
      "model_module_version": "2.0.0",
      "model_name": "VBoxModel",
      "state": {
       "children": [
        "IPY_MODEL_87a93a9678744c448e657778d59aea52"
       ],
       "layout": "IPY_MODEL_357025f762ab4fc2832cb3e50066d04f"
      }
     },
     "9d4b2761aaa04f0fba325d89c3dd5be0": {
      "model_module": "@jupyter-widgets/base",
      "model_module_version": "2.0.0",
      "model_name": "LayoutModel",
      "state": {}
     },
     "9dc37e38a21846e48e56ba2d1830d02d": {
      "model_module": "@jupyter-widgets/output",
      "model_module_version": "1.0.0",
      "model_name": "OutputModel",
      "state": {
       "layout": "IPY_MODEL_24691583ebfd42b4a139444fc04f5aae"
      }
     },
     "9dc47036d03247d1a6b280b04d2a4a85": {
      "model_module": "@jupyter-widgets/controls",
      "model_module_version": "2.0.0",
      "model_name": "VBoxModel",
      "state": {
       "children": [
        "IPY_MODEL_bf3b9a5098fb4ce1989fa8cf39f567f6"
       ],
       "layout": "IPY_MODEL_03f54592192d49709dce10c91d97ade4"
      }
     },
     "9e44ea44bc834de4a4c5581cd9416cab": {
      "model_module": "@jupyter-widgets/base",
      "model_module_version": "2.0.0",
      "model_name": "LayoutModel",
      "state": {}
     },
     "9edaee5456564e4eb6173cbf68ec7e58": {
      "model_module": "@jupyter-widgets/base",
      "model_module_version": "2.0.0",
      "model_name": "LayoutModel",
      "state": {}
     },
     "9f32e7be85d1497a9b540f5264b88009": {
      "model_module": "@jupyter-widgets/base",
      "model_module_version": "2.0.0",
      "model_name": "LayoutModel",
      "state": {
       "grid_template_areas": "\"widget001 widget001 widget001 widget001 widget001 widget001 widget001 widget001 widget001 widget001 widget001 widget001 widget001 widget001 widget001 widget001 widget001 widget001 widget001 widget001 widget001 widget001 widget001 widget001\"",
       "grid_template_columns": "repeat(24, 1fr)",
       "grid_template_rows": "repeat(1, 1fr)"
      }
     },
     "9f4cb3431b4c47e9ae3bcae34ae2d053": {
      "model_module": "@jupyter-widgets/base",
      "model_module_version": "2.0.0",
      "model_name": "LayoutModel",
      "state": {
       "grid_area": "widget002"
      }
     },
     "9fc96b7a022044148f6768f1ee45815d": {
      "model_module": "@jupyter-widgets/controls",
      "model_module_version": "2.0.0",
      "model_name": "VBoxModel",
      "state": {
       "children": [
        "IPY_MODEL_e73d08c9a25e41fba4840e01a9318283"
       ],
       "layout": "IPY_MODEL_01e433efd7ef4e79a2e743d6e044cd9f"
      }
     },
     "a3bfddb7f9b14ddd90828ce0b42dab8e": {
      "model_module": "@jupyter-widgets/base",
      "model_module_version": "2.0.0",
      "model_name": "LayoutModel",
      "state": {
       "grid_area": "widget003"
      }
     },
     "a585b7c626144213b8d1a61669e27436": {
      "model_module": "@jupyter-widgets/base",
      "model_module_version": "2.0.0",
      "model_name": "LayoutModel",
      "state": {
       "grid_area": "widget001"
      }
     },
     "a7ece0f53b3243a7aada830df13cac79": {
      "model_module": "@jupyter-widgets/controls",
      "model_module_version": "2.0.0",
      "model_name": "ButtonModel",
      "state": {
       "description": "span 8",
       "layout": "IPY_MODEL_1ce653e63aba4ab1af5a1b5b1981c781",
       "style": "IPY_MODEL_a916c6619e02403fa29d2acdeab5561a",
       "tooltip": null
      }
     },
     "a916c6619e02403fa29d2acdeab5561a": {
      "model_module": "@jupyter-widgets/controls",
      "model_module_version": "2.0.0",
      "model_name": "ButtonStyleModel",
      "state": {
       "button_color": "#d4dde6",
       "font_family": null,
       "font_size": null,
       "font_style": null,
       "font_variant": null,
       "font_weight": null,
       "text_color": null,
       "text_decoration": null
      }
     },
     "a9ccb57d27fa4b4a9080d81b8c255021": {
      "model_module": "@jupyter-widgets/base",
      "model_module_version": "2.0.0",
      "model_name": "LayoutModel",
      "state": {}
     },
     "aa3b3398dbec4defa9c5329c5550473d": {
      "model_module": "@jupyter-widgets/controls",
      "model_module_version": "2.0.0",
      "model_name": "ButtonStyleModel",
      "state": {
       "button_color": "#d4dde6",
       "font_family": null,
       "font_size": null,
       "font_style": null,
       "font_variant": null,
       "font_weight": null,
       "text_color": null,
       "text_decoration": null
      }
     },
     "aad7d1d763e54577a031bfdee205494c": {
      "model_module": "@jupyter-widgets/controls",
      "model_module_version": "2.0.0",
      "model_name": "ButtonStyleModel",
      "state": {
       "button_color": "#e5e9f2",
       "font_family": null,
       "font_size": null,
       "font_style": null,
       "font_variant": null,
       "font_weight": null,
       "text_color": null,
       "text_decoration": null
      }
     },
     "aaf3999a76424d129dee34013b668ea4": {
      "model_module": "@jupyter-widgets/base",
      "model_module_version": "2.0.0",
      "model_name": "LayoutModel",
      "state": {
       "width": "auto"
      }
     },
     "ac7204a23f554cfcbe9b325934f6e186": {
      "model_module": "@jupyter-widgets/controls",
      "model_module_version": "2.0.0",
      "model_name": "GridBoxModel",
      "state": {
       "children": [
        "IPY_MODEL_83b981e2f569497b921b7db078ebfb08",
        "IPY_MODEL_70e92768d46f4412a3345dcb015f7cd9"
       ],
       "layout": "IPY_MODEL_304e01e3085b4b37be381daea39b27e6"
      }
     },
     "ada75c591a3b47cb8fa7ecec854b8191": {
      "model_module": "@jupyter-widgets/base",
      "model_module_version": "2.0.0",
      "model_name": "LayoutModel",
      "state": {
       "grid_area": "widget003"
      }
     },
     "b0a5d5f3b00c4a5fb5f7deeb3208d6d4": {
      "model_module": "@jupyter-widgets/controls",
      "model_module_version": "2.0.0",
      "model_name": "GridBoxModel",
      "state": {
       "children": [
        "IPY_MODEL_b2d6b2f20747473fa01df5ea6fa63fba",
        "IPY_MODEL_c577a5f627c94e4cb70827252b9eb238",
        "IPY_MODEL_1c85532f06e345f98ebc7fecc4d45411"
       ],
       "layout": "IPY_MODEL_8fc1fbe2c5084beaa2eec8b235892763"
      }
     },
     "b2d6b2f20747473fa01df5ea6fa63fba": {
      "model_module": "@jupyter-widgets/controls",
      "model_module_version": "2.0.0",
      "model_name": "VBoxModel",
      "state": {
       "children": [
        "IPY_MODEL_805e5a3769e046c3af24edaa8073b57a"
       ],
       "layout": "IPY_MODEL_b4bea5218c2647a197c6746db2eb993f"
      }
     },
     "b39f78aa14d8490ba9ef798b3c0ec11d": {
      "model_module": "@jupyter-widgets/controls",
      "model_module_version": "2.0.0",
      "model_name": "ButtonStyleModel",
      "state": {
       "button_color": "#d4dde6",
       "font_family": null,
       "font_size": null,
       "font_style": null,
       "font_variant": null,
       "font_weight": null,
       "text_color": null,
       "text_decoration": null
      }
     },
     "b4660dba67cd473b8608e28993896d53": {
      "model_module": "@jupyter-widgets/base",
      "model_module_version": "2.0.0",
      "model_name": "LayoutModel",
      "state": {
       "grid_area": "widget002"
      }
     },
     "b4bea5218c2647a197c6746db2eb993f": {
      "model_module": "@jupyter-widgets/base",
      "model_module_version": "2.0.0",
      "model_name": "LayoutModel",
      "state": {
       "grid_area": "widget001"
      }
     },
     "b61f0c444c73428a801749ea494d56bd": {
      "model_module": "@jupyter-widgets/output",
      "model_module_version": "1.0.0",
      "model_name": "OutputModel",
      "state": {
       "layout": "IPY_MODEL_bcdca147d97c423f80cc01fdaf663a22",
       "outputs": [
        {
         "data": {
          "application/vnd.jupyter.widget-view+json": {
           "model_id": "850ff78845e543d19f3d2f5c89c3d359",
           "version_major": 2,
           "version_minor": 0
          },
          "text/plain": "sfc_container(children=(VBox(children=(GridspecLayout(children=(VBox(children=(Button(description='span 16', l…"
         },
         "metadata": {},
         "output_type": "display_data"
        }
       ]
      }
     },
     "b6a044d660c9442e97e99646aa2c33ac": {
      "model_module": "@jupyter-widgets/base",
      "model_module_version": "2.0.0",
      "model_name": "LayoutModel",
      "state": {
       "width": "auto"
      }
     },
     "b8f401f0ddd348c59d7c16ba4a80eea9": {
      "model_module": "@jupyter-widgets/controls",
      "model_module_version": "2.0.0",
      "model_name": "VBoxModel",
      "state": {
       "children": [
        "IPY_MODEL_0ee16ff63f5248c680bb9cd11ac0b23f"
       ],
       "layout": "IPY_MODEL_705585dbb4ce4ff08688faf9f67ad5bf"
      }
     },
     "ba1299f635bc4b9dbd3209393638da5a": {
      "model_module": "@jupyter-widgets/controls",
      "model_module_version": "2.0.0",
      "model_name": "VBoxModel",
      "state": {
       "children": [
        "IPY_MODEL_8b5cc9556d144289a33acda69d489fc6"
       ],
       "layout": "IPY_MODEL_fd30b67abb694650a6c46fcd19dc9893"
      }
     },
     "ba392a86bced4228907b8a8924966ce4": {
      "model_module": "@jupyter-widgets/controls",
      "model_module_version": "2.0.0",
      "model_name": "ButtonStyleModel",
      "state": {
       "button_color": "#e5e9f2",
       "font_family": null,
       "font_size": null,
       "font_style": null,
       "font_variant": null,
       "font_weight": null,
       "text_color": null,
       "text_decoration": null
      }
     },
     "bc26a06f5c354720925c8eb4179b55d5": {
      "model_module": "@jupyter-widgets/base",
      "model_module_version": "2.0.0",
      "model_name": "LayoutModel",
      "state": {
       "width": "auto"
      }
     },
     "bcdca147d97c423f80cc01fdaf663a22": {
      "model_module": "@jupyter-widgets/base",
      "model_module_version": "2.0.0",
      "model_name": "LayoutModel",
      "state": {}
     },
     "bd1a95f3ee5d4affa60ad0daa1fae971": {
      "model_module": "@jupyter-widgets/base",
      "model_module_version": "2.0.0",
      "model_name": "LayoutModel",
      "state": {
       "width": "auto"
      }
     },
     "bf3b9a5098fb4ce1989fa8cf39f567f6": {
      "model_module": "@jupyter-widgets/controls",
      "model_module_version": "2.0.0",
      "model_name": "VBoxModel",
      "state": {
       "children": [
        "IPY_MODEL_8458d35e233d4a6ca8e77c75b148c698",
        "IPY_MODEL_8458d35e233d4a6ca8e77c75b148c698",
        "IPY_MODEL_b61f0c444c73428a801749ea494d56bd"
       ],
       "layout": "IPY_MODEL_9d4b2761aaa04f0fba325d89c3dd5be0"
      }
     },
     "c01e1523c1914cb5b39786dcb1e2827b": {
      "model_module": "@jupyter-widgets/controls",
      "model_module_version": "2.0.0",
      "model_name": "GridBoxModel",
      "state": {
       "children": [
        "IPY_MODEL_2450bed190904d7fb6a8ebe451abdf19",
        "IPY_MODEL_5fbd770ca80b4a078518bcab8cfdafbb",
        "IPY_MODEL_1a14e8c38f054a80bf7df441e27775e8",
        "IPY_MODEL_5875b3c0124c42baa71e9ee0219e99d1"
       ],
       "layout": "IPY_MODEL_44ffcad801294b6cbff6ef34185b5f55"
      }
     },
     "c30a988392434b7c9e5f79dc944cba6d": {
      "model_module": "@jupyter-widgets/controls",
      "model_module_version": "2.0.0",
      "model_name": "GridBoxModel",
      "state": {
       "children": [
        "IPY_MODEL_70caf8f21d8b4d13ba73b56cfedb1024",
        "IPY_MODEL_565f508258ba4cd8863c4bced0f86425",
        "IPY_MODEL_1ab19d2c0aa84a44bbc0f099fc621d68",
        "IPY_MODEL_dcf0392b17d3479686abd8f669a63bf7"
       ],
       "layout": "IPY_MODEL_ee0eb99ff9ce4ed092854a1575738fba"
      }
     },
     "c577a5f627c94e4cb70827252b9eb238": {
      "model_module": "@jupyter-widgets/controls",
      "model_module_version": "2.0.0",
      "model_name": "VBoxModel",
      "state": {
       "children": [
        "IPY_MODEL_67497a3e5ead440b997618388153d040"
       ],
       "layout": "IPY_MODEL_d3093be2885049d3ab51d8644f4a35fe"
      }
     },
     "c5baa43f3269483dbf8cf79db96ce04a": {
      "model_module": "@jupyter-widgets/controls",
      "model_module_version": "2.0.0",
      "model_name": "ButtonModel",
      "state": {
       "description": "span 6",
       "layout": "IPY_MODEL_0dc3b2f6f45e41a58ce16a16c1182de8",
       "style": "IPY_MODEL_cae9c2aeab744b5e86fd98d8e19e90f0",
       "tooltip": null
      }
     },
     "c5c290a0d4414e0ead75d8c1627f3f62": {
      "model_module": "@jupyter-widgets/base",
      "model_module_version": "2.0.0",
      "model_name": "LayoutModel",
      "state": {
       "width": "auto"
      }
     },
     "c7c954d5542e4f8f93359151344ea773": {
      "model_module": "@jupyter-widgets/controls",
      "model_module_version": "2.0.0",
      "model_name": "ButtonModel",
      "state": {
       "description": "offset 6 span 12",
       "layout": "IPY_MODEL_38af36e5d61d483987611388c5d32b04",
       "style": "IPY_MODEL_47cc1548f5e04f6aaecd7de8feb9b8af",
       "tooltip": null
      }
     },
     "cae9c2aeab744b5e86fd98d8e19e90f0": {
      "model_module": "@jupyter-widgets/controls",
      "model_module_version": "2.0.0",
      "model_name": "ButtonStyleModel",
      "state": {
       "button_color": "#d4dde6",
       "font_family": null,
       "font_size": null,
       "font_style": null,
       "font_variant": null,
       "font_weight": null,
       "text_color": null,
       "text_decoration": null
      }
     },
     "ccb25c66fc494a0fa13541fd1206b3c1": {
      "model_module": "@jupyter-widgets/controls",
      "model_module_version": "2.0.0",
      "model_name": "ButtonStyleModel",
      "state": {
       "button_color": "#e5e9f2",
       "font_family": null,
       "font_size": null,
       "font_style": null,
       "font_variant": null,
       "font_weight": null,
       "text_color": null,
       "text_decoration": null
      }
     },
     "ce26e90f1ebe4cbd901b265cb39e7cb1": {
      "model_module": "@jupyter-widgets/controls",
      "model_module_version": "2.0.0",
      "model_name": "GridBoxModel",
      "state": {
       "children": [
        "IPY_MODEL_e70c73570c524f5caab3ffdb9ba3f780"
       ],
       "layout": "IPY_MODEL_ec375ce3a18d4855a1ea58811037f1e6"
      }
     },
     "cf9b808fa0834fbcaf182be6fa99360f": {
      "model_module": "@jupyter-widgets/base",
      "model_module_version": "2.0.0",
      "model_name": "LayoutModel",
      "state": {
       "width": "auto"
      }
     },
     "d291a6b9986349b1955569bbdb6e7c37": {
      "model_module": "anywidget",
      "model_module_version": "0.9.3",
      "model_name": "AnyModel",
      "state": {
       "_anywidget_id": "ipywui.widgets.custom.message.MessageWidget",
       "_css": ".wui-message-root {\n    display: flex;\n    position: absolute;\n    left: 0;\n    right: 0;\n    top: 0;\n}\n\n.wui-message-container {\n    align-items: center;\n    display: flex;\n    flex-direction: column-reverse;\n    justify-content: center;\n    min-height: 100%;\n    outline: none;\n    width: 100%;\n\n    -webkit-tap-highlight-color: rgba(0,0,0,0);\n    bottom: 0;\n    left: 0;\n    right: 0;\n    top: 0;\n}\n\n.wui-message--success {\n    --wui-message-bg-color: #f0f9eb;\n    --wui-message-border-color: #e1f3d8;\n    --wui-message-text-color: #67c23a;\n}\n.wui-message--warning {\n    --wui-message-bg-color: #fdf6ec;\n    --wui-message-border-color: #faecd8;\n    --wui-message-text-color: #e6a23c;\n}\n.wui-message--info {\n    --wui-message-bg-color: #f4f4f5;\n    --wui-message-border-color: #e9e9eb;\n    --wui-message-text-color: #909399;\n}\n.wui-message--error {\n    --wui-message-bg-color: #fef0f0;\n    --wui-message-border-color: #fde2e2;\n    --wui-message-text-color: #f56c6c;\n}\n\n@keyframes msg-open {\n    0% {\n        opacity: 0;\n        -webkit-transform: translateY(-120%);\n        transform: translateY(-120%)\n    }\n    to {\n        -webkit-transform: translateY(0);\n        transform: translateY(0)\n    }\n}\n\n@keyframes msg-close {\n    0% {\n        opacity: 1;\n        -webkit-transform: scale(1);\n        transform: scale(1)\n    }\n    to {\n        opacity: 0;\n        -webkit-transform: scale(.9);\n        transform: scale(.9)\n    }\n}\n.wui-message[data-state=entered],.wui-message[data-state=entering] {\n    -webkit-animation: msg-open .24s cubic-bezier(.175,.885,.32,1.175) both;\n    animation: msg-open .24s cubic-bezier(.175,.885,.32,1.175) both\n}\n\n.wui-message[data-state=exiting] {\n    -webkit-animation: msg-close .12s cubic-bezier(.4,0,1,1) both;\n    animation: msg-close .12s cubic-bezier(.4,0,1,1) both\n}\n\n.wui-message {\n    width: -webkit-fit-content;\n    width: -moz-fit-content;\n    width: fit-content;\n    z-index: 2004;\n    max-width: calc(100% - 32px);\n    margin-top: 8px;\n    box-sizing: border-box;\n    /*border-radius: var(--wui-border-radius-base);*/\n    /*border-width: var(--wui-border-width);*/\n    /*border-style: var(--wui-border-style);*/\n    border-color: var(--wui-message-border-color);\n    /*left: 50%;*/\n    /*top: 20px;*/\n    /*transform: translateX(-50%);*/\n    background-color: var(--wui-message-bg-color);\n    /*transition: opacity var(--wui-transition-duration),transform .4s,top .4s;*/\n    /*padding: var(--wui-message-padding);*/\n    display: flex;\n    align-items: center;\n}\n\n/*.wui-message--success */\n.wui-message__content {\n    color: var(--wui-message-text-color);\n    font-size: 14px;\n    line-height: 18px;\n    margin: 10px 14px 10px 14px;\n    overflow-wrap: break-word;\n}\n\n.wui-message__closeBtn {\n    /*cursor: pointer;*/\n    font-style: normal;\n    /*color: gray;*/\n    padding-right: 14px;\n    /*font-size: 13px;*/\n    user-select: none;\n\n    background: transparent;\n    border: none;\n    color: gray;\n    cursor: pointer;\n    font-size: 13px;\n    font-weight: 400;\n    line-height: 1;\n    outline: none;\n    /*padding: 4px;*/\n    text-align: center;\n    transition: opacity .3s;\n    /*width: 100%;*/\n}",
       "_esm": "function closeMsg(msgDom) {\n  if (!msgDom) {\n    return;\n  }\n  msgDom.setAttribute('data-state', 'exiting');\n  msgDom.remove();\n}\n\nfunction createMsg(options) {\n  const {message, msg_id, type = 'info', show_close = false} = options;\n  const msgDom = document.createElement('div');\n  msgDom.className += ` wui-message--${type} wui-message`;\n  msgDom.setAttribute('data-state', 'entered');\n  msgDom.setAttribute('id', msg_id);\n  const msgContent = document.createElement('p');\n  msgContent.className += ` wui-message--${type} wui-message__content`;\n  msgContent.innerText = message;\n  msgDom.appendChild(msgContent);\n  if (show_close) {\n    const closeBtn = document.createElement('i');\n    closeBtn.className += 'wui-message__closeBtn';\n    closeBtn.innerText = 'x';\n    closeBtn.addEventListener('click', (ev) => {\n      closeMsg(msgDom);\n    })\n    msgDom.appendChild(closeBtn);\n  }\n  return msgDom;\n}\n\nexport async function render(view) {\n  let model = view.model;\n  const msgRoot = view.el;\n  msgRoot.className += ' wui-message-root'\n\n  const msgContainer = document.createElement('div');\n  msgContainer.className += ' wui-message-container';\n  msgRoot.appendChild(msgContainer)\n\n  model.on(\"change:message_options\", () => {\n    const options = model.get(\"message_options\");\n    const msg = createMsg(options);\n    msgContainer.appendChild(msg);\n    const {duration = 3000} = options;\n    if (duration > 0) {\n      setTimeout(() => {\n        closeMsg(msg)\n      }, duration);\n    }\n  })\n\n  model.on(\"change:close_msg_id\", () => {\n    const msg_id = model.get(\"close_msg_id\");\n    const msgDom = document.getElementById(msg_id);\n    closeMsg(msgDom);\n  })\n}\n",
       "_model_module": "anywidget",
       "_model_module_version": "0.9.3",
       "_model_name": "AnyModel",
       "_view_module": "anywidget",
       "_view_module_version": "0.9.3",
       "_view_name": "AnyView",
       "close_msg_id": "",
       "layout": "IPY_MODEL_4cff2d5a45fd4b729ca84eb58eec62de",
       "message_options": {
        "duration": 3000,
        "message": "",
        "show_close": false,
        "type": "info"
       }
      }
     },
     "d3093be2885049d3ab51d8644f4a35fe": {
      "model_module": "@jupyter-widgets/base",
      "model_module_version": "2.0.0",
      "model_name": "LayoutModel",
      "state": {
       "grid_area": "widget002"
      }
     },
     "d35a782defde4db8ba4f6d167a981896": {
      "model_module": "@jupyter-widgets/controls",
      "model_module_version": "2.0.0",
      "model_name": "ButtonModel",
      "state": {
       "description": "span 4",
       "layout": "IPY_MODEL_34ad41c48779490ab3f3dd5adc237b8d",
       "style": "IPY_MODEL_7e37e08f7e52411282fee93b1a0de2f7",
       "tooltip": null
      }
     },
     "d43e3f2bc7f949f9a10401dc19d2d938": {
      "model_module": "@jupyter-widgets/controls",
      "model_module_version": "2.0.0",
      "model_name": "VBoxModel",
      "state": {
       "children": [
        "IPY_MODEL_8a16f7ec64d74fc99a7d55f94fd086c2"
       ],
       "layout": "IPY_MODEL_155a0c00176244df96ec166ced903a3f"
      }
     },
     "d53dc1851f584e569c789050a2a48f9e": {
      "model_module": "@jupyter-widgets/controls",
      "model_module_version": "2.0.0",
      "model_name": "ButtonStyleModel",
      "state": {
       "button_color": "#e5e9f2",
       "font_family": null,
       "font_size": null,
       "font_style": null,
       "font_variant": null,
       "font_weight": null,
       "text_color": null,
       "text_decoration": null
      }
     },
     "d7136858ae74499f8b81002f6f4faa05": {
      "model_module": "@jupyter-widgets/base",
      "model_module_version": "2.0.0",
      "model_name": "LayoutModel",
      "state": {
       "grid_area": "widget004"
      }
     },
     "d7c6684e9ab249078a3f692daa125eff": {
      "model_module": "@jupyter-widgets/base",
      "model_module_version": "2.0.0",
      "model_name": "LayoutModel",
      "state": {
       "width": "auto"
      }
     },
     "d920648bdb6c4d27ad5c654e679db9bc": {
      "model_module": "@jupyter-widgets/controls",
      "model_module_version": "2.0.0",
      "model_name": "VBoxModel",
      "state": {
       "children": [
        "IPY_MODEL_31bcbcf400354f518e730c1cb1a10b43"
       ],
       "layout": "IPY_MODEL_05a1c40456cc4615b17900d188488127"
      }
     },
     "dc62850c59514950858afaedf0743612": {
      "model_module": "@jupyter-widgets/base",
      "model_module_version": "2.0.0",
      "model_name": "LayoutModel",
      "state": {
       "width": "auto"
      }
     },
     "dcf0392b17d3479686abd8f669a63bf7": {
      "model_module": "@jupyter-widgets/controls",
      "model_module_version": "2.0.0",
      "model_name": "VBoxModel",
      "state": {
       "children": [
        "IPY_MODEL_e1f20b1e902c461bb05456b4ba1b0960"
       ],
       "layout": "IPY_MODEL_0896aa848f374d73b8326882be3d484a"
      }
     },
     "df630ae30abb4f5c92e06b61a95ccca5": {
      "model_module": "@jupyter-widgets/controls",
      "model_module_version": "2.0.0",
      "model_name": "ButtonModel",
      "state": {
       "description": "span 6",
       "layout": "IPY_MODEL_042a5341fb814d6897275c48ef83c77e",
       "style": "IPY_MODEL_76d2786ca5414549af6a6aaabf447615",
       "tooltip": null
      }
     },
     "e1f20b1e902c461bb05456b4ba1b0960": {
      "model_module": "@jupyter-widgets/controls",
      "model_module_version": "2.0.0",
      "model_name": "ButtonModel",
      "state": {
       "description": "span 6",
       "layout": "IPY_MODEL_7db215ae1086435db272bf403326b9cd",
       "style": "IPY_MODEL_ccb25c66fc494a0fa13541fd1206b3c1",
       "tooltip": null
      }
     },
     "e5781f9ccab54b13b5db0e57f92910db": {
      "model_module": "@jupyter-widgets/controls",
      "model_module_version": "2.0.0",
      "model_name": "ButtonStyleModel",
      "state": {
       "button_color": "#e5e9f2",
       "font_family": null,
       "font_size": null,
       "font_style": null,
       "font_variant": null,
       "font_weight": null,
       "text_color": null,
       "text_decoration": null
      }
     },
     "e6a2d7e0703b4bcf9cd024aef480413a": {
      "model_module": "@jupyter-widgets/controls",
      "model_module_version": "2.0.0",
      "model_name": "ButtonStyleModel",
      "state": {
       "button_color": "#d4dde6",
       "font_family": null,
       "font_size": null,
       "font_style": null,
       "font_variant": null,
       "font_weight": null,
       "text_color": null,
       "text_decoration": null
      }
     },
     "e6d9244167764bdf84df586f3eeb488c": {
      "model_module": "@jupyter-widgets/base",
      "model_module_version": "2.0.0",
      "model_name": "LayoutModel",
      "state": {}
     },
     "e706132299284589bcd460ad3060db7f": {
      "model_module": "@jupyter-widgets/base",
      "model_module_version": "2.0.0",
      "model_name": "LayoutModel",
      "state": {}
     },
     "e70c73570c524f5caab3ffdb9ba3f780": {
      "model_module": "@jupyter-widgets/controls",
      "model_module_version": "2.0.0",
      "model_name": "VBoxModel",
      "state": {
       "children": [
        "IPY_MODEL_c7c954d5542e4f8f93359151344ea773"
       ],
       "layout": "IPY_MODEL_f74ebb9a83d04ccea493ecc2e8645fe6"
      }
     },
     "e73538f5aaf4438aabc750faa18b6d02": {
      "model_module": "@jupyter-widgets/controls",
      "model_module_version": "2.0.0",
      "model_name": "ButtonStyleModel",
      "state": {
       "button_color": "#d4dde6",
       "font_family": null,
       "font_size": null,
       "font_style": null,
       "font_variant": null,
       "font_weight": null,
       "text_color": null,
       "text_decoration": null
      }
     },
     "e73d08c9a25e41fba4840e01a9318283": {
      "model_module": "@jupyter-widgets/controls",
      "model_module_version": "2.0.0",
      "model_name": "VBoxModel",
      "state": {
       "children": [
        "IPY_MODEL_43dede0b9add47f2bd207a7157cadd14",
        "IPY_MODEL_97f8727794b440b99f0b8659182fa894",
        "IPY_MODEL_b0a5d5f3b00c4a5fb5f7deeb3208d6d4",
        "IPY_MODEL_c30a988392434b7c9e5f79dc944cba6d"
       ],
       "layout": "IPY_MODEL_a9ccb57d27fa4b4a9080d81b8c255021"
      }
     },
     "e9e34cc22d6e4e6ba50b75cfaf4cc1fc": {
      "model_module": "@jupyter-widgets/controls",
      "model_module_version": "2.0.0",
      "model_name": "ButtonStyleModel",
      "state": {
       "button_color": "#d4dde6",
       "font_family": null,
       "font_size": null,
       "font_style": null,
       "font_variant": null,
       "font_weight": null,
       "text_color": null,
       "text_decoration": null
      }
     },
     "eb757f0acc3949ad860bc5122bb4ca4f": {
      "model_module": "@jupyter-widgets/controls",
      "model_module_version": "2.0.0",
      "model_name": "ButtonStyleModel",
      "state": {
       "button_color": "#e5e9f2",
       "font_family": null,
       "font_size": null,
       "font_style": null,
       "font_variant": null,
       "font_weight": null,
       "text_color": null,
       "text_decoration": null
      }
     },
     "ec1635d7666a4ded92db357ef0a4f245": {
      "model_module": "@jupyter-widgets/controls",
      "model_module_version": "2.0.0",
      "model_name": "VBoxModel",
      "state": {
       "children": [
        "IPY_MODEL_269a18ce367d4521bde3995b0e1b27ab",
        "IPY_MODEL_269a18ce367d4521bde3995b0e1b27ab",
        "IPY_MODEL_3b9e1db4198c4f57a261bde2a68b53c6"
       ],
       "layout": "IPY_MODEL_897040d2f53240de82021a3bb1201ec4"
      }
     },
     "ec375ce3a18d4855a1ea58811037f1e6": {
      "model_module": "@jupyter-widgets/base",
      "model_module_version": "2.0.0",
      "model_name": "LayoutModel",
      "state": {
       "grid_template_areas": "\". . . . . . widget001 widget001 widget001 widget001 widget001 widget001 widget001 widget001 widget001 widget001 widget001 widget001 . . . . . .\"",
       "grid_template_columns": "repeat(24, 1fr)",
       "grid_template_rows": "repeat(1, 1fr)"
      }
     },
     "ee0eb99ff9ce4ed092854a1575738fba": {
      "model_module": "@jupyter-widgets/base",
      "model_module_version": "2.0.0",
      "model_name": "LayoutModel",
      "state": {
       "grid_template_areas": "\"widget001 widget001 widget001 widget001 widget001 widget001 widget002 widget002 widget002 widget002 widget002 widget002 widget003 widget003 widget003 widget003 widget003 widget003 widget004 widget004 widget004 widget004 widget004 widget004\"",
       "grid_template_columns": "repeat(24, 1fr)",
       "grid_template_rows": "repeat(1, 1fr)"
      }
     },
     "ee386ecbb4a94affbe920d494f5a215e": {
      "model_module": "@jupyter-widgets/base",
      "model_module_version": "2.0.0",
      "model_name": "LayoutModel",
      "state": {
       "grid_area": "widget001"
      }
     },
     "f3259ca1a7ad46998d763bd0c302ad9c": {
      "model_module": "@jupyter-widgets/controls",
      "model_module_version": "2.0.0",
      "model_name": "ButtonModel",
      "state": {
       "description": "span 24",
       "layout": "IPY_MODEL_bd1a95f3ee5d4affa60ad0daa1fae971",
       "style": "IPY_MODEL_51317f64b9ee46ebb97a74cf9dd45313",
       "tooltip": null
      }
     },
     "f3a53f7b649f4df8b5fcfd5d92c90dde": {
      "model_module": "@jupyter-widgets/controls",
      "model_module_version": "2.0.0",
      "model_name": "ButtonModel",
      "state": {
       "description": "span 8",
       "layout": "IPY_MODEL_0ff339ed5ba14d4ba5223b78938ae1ad",
       "style": "IPY_MODEL_e5781f9ccab54b13b5db0e57f92910db",
       "tooltip": null
      }
     },
     "f74ebb9a83d04ccea493ecc2e8645fe6": {
      "model_module": "@jupyter-widgets/base",
      "model_module_version": "2.0.0",
      "model_name": "LayoutModel",
      "state": {
       "grid_area": "widget001"
      }
     },
     "faa48a3b7bf64630906f0b64375e6dfb": {
      "model_module": "@jupyter-widgets/controls",
      "model_module_version": "2.0.0",
      "model_name": "ButtonModel",
      "state": {
       "layout": "IPY_MODEL_212c66d30f2943a3ac520bd9d04476b1",
       "style": "IPY_MODEL_1f73fc1d48594f6a858e8c327ede3330",
       "tooltip": null
      }
     },
     "fb2d4644858149e68928e39c95211758": {
      "model_module": "@jupyter-widgets/base",
      "model_module_version": "2.0.0",
      "model_name": "LayoutModel",
      "state": {
       "grid_area": "widget002"
      }
     },
     "fb7b8bdcfcf042aa8d01df053b7cdd85": {
      "model_module": "@jupyter-widgets/controls",
      "model_module_version": "2.0.0",
      "model_name": "ButtonStyleModel",
      "state": {
       "button_color": "#d4dde6",
       "font_family": null,
       "font_size": null,
       "font_style": null,
       "font_variant": null,
       "font_weight": null,
       "text_color": null,
       "text_decoration": null
      }
     },
     "fc7336eb929b432faa4ceb602ebd6f81": {
      "model_module": "@jupyter-widgets/controls",
      "model_module_version": "2.0.0",
      "model_name": "ButtonModel",
      "state": {
       "description": "span 16",
       "layout": "IPY_MODEL_29442d17e491479184ad89ecf66b8dd2",
       "style": "IPY_MODEL_aad7d1d763e54577a031bfdee205494c",
       "tooltip": null
      }
     },
     "fcb87cedceef4eb2accef98a9d014d13": {
      "model_module": "@jupyter-widgets/base",
      "model_module_version": "2.0.0",
      "model_name": "LayoutModel",
      "state": {
       "width": "auto"
      }
     },
     "fd30b67abb694650a6c46fcd19dc9893": {
      "model_module": "@jupyter-widgets/base",
      "model_module_version": "2.0.0",
      "model_name": "LayoutModel",
      "state": {}
     },
     "fd9ed98a3a87414797e649e525ec236f": {
      "model_module": "@jupyter-widgets/output",
      "model_module_version": "1.0.0",
      "model_name": "OutputModel",
      "state": {
       "layout": "IPY_MODEL_72fc7e0144684a61a1fe20f790e48457",
       "outputs": [
        {
         "data": {
          "application/vnd.jupyter.widget-view+json": {
           "model_id": "9fc96b7a022044148f6768f1ee45815d",
           "version_major": 2,
           "version_minor": 0
          },
          "text/plain": "sfc_container(children=(VBox(children=(GridspecLayout(children=(VBox(children=(Button(description='span 24', l…"
         },
         "metadata": {},
         "output_type": "display_data"
        }
       ]
      }
     },
     "feb49b075a8047dbbdae9b3692ede176": {
      "model_module": "@jupyter-widgets/controls",
      "model_module_version": "2.0.0",
      "model_name": "ButtonModel",
      "state": {
       "description": "offset 6 span 6",
       "layout": "IPY_MODEL_2f7904698eab447dba34a8695ee67efc",
       "style": "IPY_MODEL_d53dc1851f584e569c789050a2a48f9e",
       "tooltip": null
      }
     }
    },
    "version_major": 2,
    "version_minor": 0
   }
  }
 },
 "nbformat": 4,
 "nbformat_minor": 5
}