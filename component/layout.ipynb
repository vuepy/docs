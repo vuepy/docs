{
 "cells": [
  {
   "cell_type": "markdown",
   "id": "a1e2fa29-7566-4426-be1e-a750658d83a5",
   "metadata": {},
   "source": [
    "# Row-Col Layout 网格布局\n",
    "\n",
    "通过基础的 24 分栏，迅速简便地创建布局。"
   ]
  },
  {
   "cell_type": "markdown",
   "id": "7cdc5e8c-2aa8-41d1-9461-3e451f6ef6ea",
   "metadata": {},
   "source": [
    "## 基础布局\n",
    "\n",
    "使用列创建基础网格布局。  \n",
    "通过 `row` 和 `col` 组件，并通过 col 组件的 `span` 属性我们就可以自由地组合布局。"
   ]
  },
  {
   "cell_type": "code",
   "execution_count": 1,
   "id": "f5928b17-e8c8-47b0-9774-a8bb1f7e6af3",
   "metadata": {},
   "outputs": [
    {
     "name": "stdout",
     "output_type": "stream",
     "text": [
      "init\n",
      "{\"vue\": \"<template>\\n  <Row>\\n    <Col :span=\\\"24\\\">\\n      <Button label=\\\"span 24\\\" style=\\\"width: auto; background-color: #9dacc1\\\"></Button>\\n    </Col>\\n  </Row>\\n\\n  <Row>\\n    <Col :span=\\\"12\\\">\\n      <Button label=\\\"span 12\\\" style=\\\"width: auto; background-color: #d4dde6\\\"></Button>\\n    </Col>\\n    <Col :span=\\\"12\\\">\\n      <Button label=\\\"span 12\\\" style=\\\"width: auto; background-color: #e5e9f2\\\"></Button>\\n    </Col>\\n  </Row>\\n\\n  <Row>\\n    <Col :span=\\\"8\\\">\\n      <Button label=\\\"span 8\\\" style=\\\"width: auto; background-color: #d4dde6\\\"></Button>\\n    </Col>\\n    <Col :span=\\\"8\\\">\\n      <Button label=\\\"span 8\\\" style=\\\"width: auto; background-color: #e5e9f2\\\"></Button>\\n    </Col>\\n    <Col :span=\\\"8\\\">\\n      <Button label=\\\"span 8\\\" style=\\\"width: auto; background-color: #d4dde6\\\"></Button>\\n    </Col>\\n  </Row>\\n\\n  <Row>\\n    <Col :span=\\\"6\\\">\\n      <Button label=\\\"span 6\\\" style=\\\"width: auto; background-color: #d4dde6\\\"></Button>\\n    </Col>\\n    <Col :span=\\\"6\\\">\\n      <Button label=\\\"span 6\\\" style=\\\"width: auto; background-color: #e5e9f2\\\"></Button>\\n    </Col>\\n    <Col :span=\\\"6\\\">\\n      <Button label=\\\"span 6\\\" style=\\\"width: auto; background-color: #d4dde6\\\"></Button>\\n    </Col>\\n    <Col :span=\\\"6\\\">\\n      <Button label=\\\"span 6\\\" style=\\\"width: auto; background-color: #e5e9f2\\\"></Button>\\n    </Col>\\n  </Row>\\n</template>\\n\\n<script setup>\\nimport Col from \\\"../../../src/ipywui/components/Col\\\";\\nimport Row from \\\"../../../src/ipywui/components/Row\\\";\\nimport Button from \\\"../../../src/ipywui/components/Button\\\";\\n</script>\", \"setup\": 0}\n"
     ]
    },
    {
     "data": {
      "application/vnd.jupyter.widget-view+json": {
       "model_id": "02e10a133b704d99b22245ec640984ef",
       "version_major": 2,
       "version_minor": 0
      },
      "text/plain": [
       "Document(children=(Dom(children=(MessageWidget(message_options={'message': '', 'type': 'info', 'show_close': F…"
      ]
     },
     "execution_count": 1,
     "metadata": {},
     "output_type": "execute_result"
    }
   ],
   "source": [
    "import os\n",
    "import pathlib\n",
    "from vuepy.utils import magic\n",
    "\n",
    "cur_path = pathlib.Path()\n",
    "source_root = cur_path.absolute().parent.parent.parent\n",
    "os.chdir(source_root / 'examples' / 'ipywui' / 'layout')\n",
    "\n",
    "%vuepy_demo layout-basic.vue"
   ]
  },
  {
   "cell_type": "markdown",
   "id": "b6aafb76-3b08-4d1b-8dac-9d0aa13567b6",
   "metadata": {},
   "source": [
    "## 分栏间隔\n",
    "\n",
    "支持列间距\n",
    "\n",
    "`Row` 组件提供 `gutter` 属性来指定列之间的间距，单位为 `px`。"
   ]
  },
  {
   "cell_type": "code",
   "execution_count": 2,
   "id": "f814da69-2da6-4783-8a0e-e4241368bbed",
   "metadata": {},
   "outputs": [
    {
     "name": "stdout",
     "output_type": "stream",
     "text": [
      "{\"vue\": \"<template>\\n  <Row gutter=\\\"20px\\\">\\n    <Col :span=\\\"6\\\">\\n      <Button style=\\\"width: auto; background-color: #d4dde6\\\"></Button>\\n    </Col>\\n    <Col :span=\\\"6\\\">\\n      <Button style=\\\"width: auto; background-color: #d4dde6\\\"></Button>\\n    </Col>\\n    <Col :span=\\\"6\\\">\\n      <Button style=\\\"width: auto; background-color: #d4dde6\\\"></Button>\\n    </Col>\\n    <Col :span=\\\"6\\\">\\n      <Button style=\\\"width: auto; background-color: #d4dde6\\\"></Button>\\n    </Col>\\n  </Row>\\n</template>\\n\\n<script setup>\\nimport Col from \\\"../../../src/ipywui/components/Col\\\";\\nimport Row from \\\"../../../src/ipywui/components/Row\\\";\\nimport Button from \\\"../../../src/ipywui/components/Button\\\";\\n</script>\", \"setup\": 0}\n"
     ]
    },
    {
     "data": {
      "application/vnd.jupyter.widget-view+json": {
       "model_id": "dec441eefee7460bac24833745f5617a",
       "version_major": 2,
       "version_minor": 0
      },
      "text/plain": [
       "Document(children=(Dom(children=(MessageWidget(message_options={'message': '', 'type': 'info', 'show_close': F…"
      ]
     },
     "execution_count": 2,
     "metadata": {},
     "output_type": "execute_result"
    }
   ],
   "source": [
    "%vuepy_demo column-gutter.vue"
   ]
  },
  {
   "cell_type": "markdown",
   "id": "17eca8d7-be55-4464-8d3a-5e8f3afe7e63",
   "metadata": {},
   "source": [
    "## 混合布局\n",
    "\n",
    "通过基础的 1/24 分栏任意扩展组合形成较为复杂的混合布局。"
   ]
  },
  {
   "cell_type": "code",
   "execution_count": 3,
   "id": "28a4af8c-aa99-4716-bd6f-bb1311ca323d",
   "metadata": {},
   "outputs": [
    {
     "name": "stdout",
     "output_type": "stream",
     "text": [
      "{\"vue\": \"<template>\\n  <Row gutter=\\\"20px\\\">\\n    <Col :span=\\\"16\\\">\\n      <Button label=\\\"span 16\\\" style=\\\"width: auto; background-color: #d4dde6\\\"></Button>\\n    </Col>\\n    <Col :span=\\\"8\\\">\\n      <Button label=\\\"span 8\\\" style=\\\"width: auto; background-color: #e5e9f2\\\"></Button>\\n    </Col>\\n  </Row>\\n\\n  <Row gutter=\\\"20px\\\">\\n    <Col :span=\\\"8\\\">\\n      <Button label=\\\"span 8\\\" style=\\\"width: auto; background-color: #d4dde6\\\"></Button>\\n    </Col>\\n    <Col :span=\\\"8\\\">\\n      <Button label=\\\"span 8\\\" style=\\\"width: auto; background-color: #e5e9f2\\\"></Button>\\n    </Col>\\n    <Col :span=\\\"4\\\">\\n      <Button label=\\\"span 4\\\" style=\\\"width: auto; background-color: #d4dde6\\\"></Button>\\n    </Col>\\n    <Col :span=\\\"4\\\">\\n      <Button label=\\\"span 4\\\" style=\\\"width: auto; background-color: #e5e9f2\\\"></Button>\\n    </Col>\\n  </Row>\\n\\n  <Row gutter=\\\"20px\\\">\\n    <Col :span=\\\"4\\\">\\n      <Button label=\\\"span 4\\\" style=\\\"width: auto; background-color: #d4dde6\\\"></Button>\\n    </Col>\\n    <Col :span=\\\"16\\\">\\n      <Button label=\\\"span 16\\\" style=\\\"width: auto; background-color: #e5e9f2\\\"></Button>\\n    </Col>\\n    <Col :span=\\\"4\\\">\\n      <Button label=\\\"span 4\\\" style=\\\"width: auto; background-color: #d4dde6\\\"></Button>\\n    </Col>\\n  </Row>\\n</template>\\n\\n<script setup>\\nimport Col from \\\"../../../src/ipywui/components/Col\\\";\\nimport Row from \\\"../../../src/ipywui/components/Row\\\";\\nimport Button from \\\"../../../src/ipywui/components/Button\\\";\\n</script>\", \"setup\": 0}\n"
     ]
    },
    {
     "data": {
      "application/vnd.jupyter.widget-view+json": {
       "model_id": "cf07bf828e344236a252c6894839353e",
       "version_major": 2,
       "version_minor": 0
      },
      "text/plain": [
       "Document(children=(Dom(children=(MessageWidget(message_options={'message': '', 'type': 'info', 'show_close': F…"
      ]
     },
     "execution_count": 3,
     "metadata": {},
     "output_type": "execute_result"
    }
   ],
   "source": [
    "%vuepy_demo layout-hybrid.vue"
   ]
  },
  {
   "cell_type": "markdown",
   "id": "6c9d772f-e144-4c96-adc3-3bbb3f66f5ad",
   "metadata": {},
   "source": [
    "## 列偏移\n",
    "\n",
    "可以指定列偏移量\n",
    "\n",
    "通过制定 `col ` 组件的 `offset ` 属性可以指定分栏偏移的栏数。"
   ]
  },
  {
   "cell_type": "code",
   "execution_count": 4,
   "id": "8a0868a0-7e9f-4ab7-8470-c9903b35bb30",
   "metadata": {},
   "outputs": [
    {
     "name": "stdout",
     "output_type": "stream",
     "text": [
      "{\"vue\": \"<template>\\n  <Row>\\n    <Col :span=\\\"6\\\">\\n      <Button label=\\\"span 6\\\" style=\\\"width: auto; background-color: #d4dde6\\\"></Button>\\n    </Col>\\n    <Col :span=\\\"6\\\" :offset=\\\"6\\\">\\n      <Button label=\\\"offset 6 span 8\\\" style=\\\"width: auto; background-color: #e5e9f2\\\"></Button>\\n    </Col>\\n  </Row>\\n\\n  <Row>\\n    <Col :span=\\\"6\\\" :offset=\\\"6\\\">\\n      <Button label=\\\"offset 6 span 6\\\" style=\\\"width: auto; background-color: #d4dde6\\\"></Button>\\n    </Col>\\n    <Col :span=\\\"6\\\" :offset=\\\"6\\\">\\n      <Button label=\\\"offset 6 span 6\\\" style=\\\"width: auto; background-color: #e5e9f2\\\"></Button>\\n    </Col>\\n  </Row>\\n\\n  <Row>\\n    <Col :span=\\\"12\\\" :offset=\\\"6\\\">\\n      <Button label=\\\"offset 6 span 12\\\" style=\\\"width: auto; background-color: #d4dde6\\\"></Button>\\n    </Col>\\n  </Row>\\n</template>\\n\\n<script setup>\\nimport Col from \\\"../../../src/ipywui/components/Col\\\";\\nimport Row from \\\"../../../src/ipywui/components/Row\\\";\\nimport Button from \\\"../../../src/ipywui/components/Button\\\";\\n</script>\", \"setup\": 0}\n"
     ]
    },
    {
     "data": {
      "application/vnd.jupyter.widget-view+json": {
       "model_id": "5442bf00a54f4128a13e4329e56c2901",
       "version_major": 2,
       "version_minor": 0
      },
      "text/plain": [
       "Document(children=(Dom(children=(MessageWidget(message_options={'message': '', 'type': 'info', 'show_close': F…"
      ]
     },
     "execution_count": 4,
     "metadata": {},
     "output_type": "execute_result"
    }
   ],
   "source": [
    "%vuepy_demo column-offset.vue"
   ]
  },
  {
   "cell_type": "markdown",
   "id": "8685d144-029f-4afa-8547-4f3d84529504",
   "metadata": {},
   "source": [
    "## Row API\n",
    "\n",
    "### Row 属性\n",
    "\n",
    "| 属性名        | 说明                 | 类型                                                           | 默认值 |\n",
    "| --------     | ------------------- | ---------------------------------------------------------------| ------- |\n",
    "| width        | 行宽                 | ^[str]                                                         | -       |\n",
    "| height       | 行高                 | ^[str]                                                         | -       |\n",
    "| gutter       | 栅格间隔, css flex布局下的 gride-gap  | ^[str]                                              | -       |\n",
    "| justify(保留参数） | css flex布局下的水平排列方式  | ^[enum]`'start' \\| 'end' \\| 'center' \\| 'space-around' \\| 'space-between' \\| 'space-evenly'` | start   |\n",
    "| align(保留参数）   | css flex布局下的垂直排列方式 | ^[enum]`'top' \\| 'middle' \\| 'bottom'`                                                       | —       |\n",
    "| style        | 自定义css样式        | ^[str]                                                         | -       |\n",
    "\n",
    "### Accordion Slots\n",
    "\n",
    "| 插槽名   | 说明               | 子标签 |\n",
    "| ---     | ---               | --- |\n",
    "| default | 自定义默认内容      | Col |\n",
    "\n",
    "### Accordion 方法\n",
    "\n",
    "| 属性名 | 说明 | 类型 |\n",
    "| --- | --- | --- |\n",
    "\n",
    "\n",
    "## Col API\n",
    "\n",
    "### Col 属性\n",
    "\n",
    "| 属性名        | 说明                 | 类型                                                           | 默认值 |\n",
    "| -----  | ------------------- | ---------------------------------------------------------------| ------- |\n",
    "| span   | 栅格占据的列数\t       | ^[number]                                                      | 24      |\n",
    "| offset | 栅格左侧的间隔格数\t   | ^[number]                                                      | 0       |\n",
    "\n",
    "\n",
    "### Col Slots\n",
    "\n",
    "| 插槽名   | 说明               | \n",
    "| ---     | ---               |\n",
    "| default | 自定义默认内容      |\n"
   ]
  }
 ],
 "metadata": {
  "kernelspec": {
   "display_name": "Python 3 (ipykernel)",
   "language": "python",
   "name": "python3"
  },
  "language_info": {
   "codemirror_mode": {
    "name": "ipython",
    "version": 3
   },
   "file_extension": ".py",
   "mimetype": "text/x-python",
   "name": "python",
   "nbconvert_exporter": "python",
   "pygments_lexer": "ipython3",
   "version": "3.10.12"
  },
  "widgets": {
   "application/vnd.jupyter.widget-state+json": {
    "state": {
     "0011ae33ac924d34ba33247530a4aa1c": {
      "model_module": "@jupyter-widgets/controls",
      "model_module_version": "2.0.0",
      "model_name": "ButtonModel",
      "state": {
       "description": "span 4",
       "layout": "IPY_MODEL_a7b4d3e8bfcc4ce0a9d0264c3289590b",
       "style": "IPY_MODEL_11fdbfd44f8844ba9396fce4f6397bd5",
       "tooltip": null
      }
     },
     "00209a9f9ff44a5185971efadd51aae0": {
      "model_module": "@jupyter-widgets/base",
      "model_module_version": "2.0.0",
      "model_name": "LayoutModel",
      "state": {
       "width": "auto"
      }
     },
     "008a3717e99747cbb9d73685314a53d5": {
      "model_module": "@jupyter-widgets/controls",
      "model_module_version": "2.0.0",
      "model_name": "VBoxModel",
      "state": {
       "children": [
        "IPY_MODEL_8bcfbc8972934a919c378a23d9e24417"
       ],
       "layout": "IPY_MODEL_261306eb3be84d93b83c557b80ce5615"
      }
     },
     "02d8defac82c4ac1b933482caf58c69a": {
      "model_module": "@jupyter-widgets/base",
      "model_module_version": "2.0.0",
      "model_name": "LayoutModel",
      "state": {
       "width": "auto"
      }
     },
     "02e10a133b704d99b22245ec640984ef": {
      "model_module": "@jupyter-widgets/controls",
      "model_module_version": "2.0.0",
      "model_name": "VBoxModel",
      "state": {
       "children": [
        "IPY_MODEL_e9703b93ccd54cd1a1a82a53fec3f045"
       ],
       "layout": "IPY_MODEL_f793d6f9554040f39604619ccf2af053"
      }
     },
     "03d6546b2c06435ea93b3905dcedea83": {
      "model_module": "@jupyter-widgets/base",
      "model_module_version": "2.0.0",
      "model_name": "LayoutModel",
      "state": {
       "grid_area": "widget001"
      }
     },
     "0862af6e1007446d953a7c18a3aede18": {
      "model_module": "@jupyter-widgets/controls",
      "model_module_version": "2.0.0",
      "model_name": "VBoxModel",
      "state": {
       "children": [
        "IPY_MODEL_5eea3fc12b644fb9ae02dba34342c818"
       ],
       "layout": "IPY_MODEL_782b89d444654a9381aac40a8cc3a8b0"
      }
     },
     "09253003d744431ba9b4177deeb90e79": {
      "model_module": "@jupyter-widgets/base",
      "model_module_version": "2.0.0",
      "model_name": "LayoutModel",
      "state": {
       "width": "auto"
      }
     },
     "0b61fc1e55b4482fb43b740c400c3b54": {
      "model_module": "@jupyter-widgets/controls",
      "model_module_version": "2.0.0",
      "model_name": "GridBoxModel",
      "state": {
       "children": [
        "IPY_MODEL_d81cc1a9eb5d447faa36728c610b44b2",
        "IPY_MODEL_48dc319e1bca42c7ae733a1478c04db8"
       ],
       "layout": "IPY_MODEL_195cdf1059b642d882ec28390fbb84f2"
      }
     },
     "0fe03b2bc3964a59b7c8ba080a5c4f57": {
      "model_module": "@jupyter-widgets/controls",
      "model_module_version": "2.0.0",
      "model_name": "ButtonStyleModel",
      "state": {
       "button_color": "#e5e9f2",
       "font_family": null,
       "font_size": null,
       "font_style": null,
       "font_variant": null,
       "font_weight": null,
       "text_color": null,
       "text_decoration": null
      }
     },
     "100514147a15422f93b016d0a9d663dc": {
      "model_module": "@jupyter-widgets/controls",
      "model_module_version": "2.0.0",
      "model_name": "ButtonStyleModel",
      "state": {
       "button_color": "#d4dde6",
       "font_family": null,
       "font_size": null,
       "font_style": null,
       "font_variant": null,
       "font_weight": null,
       "text_color": null,
       "text_decoration": null
      }
     },
     "107f39e3ec8c4e3dae41e71df9c398b8": {
      "model_module": "@jupyter-widgets/controls",
      "model_module_version": "2.0.0",
      "model_name": "VBoxModel",
      "state": {
       "children": [
        "IPY_MODEL_588abcb459754451868c50b6a4fe14ce",
        "IPY_MODEL_6e2781fc025248729899e6797a41eb3a",
        "IPY_MODEL_c6f64de2e71a48e096003a4e6025a8c0"
       ],
       "layout": "IPY_MODEL_e3478038964f4ef781f534fbde836ec1"
      }
     },
     "109fc913d07141d7b6a3ffa8fb71b35b": {
      "model_module": "@jupyter-widgets/base",
      "model_module_version": "2.0.0",
      "model_name": "LayoutModel",
      "state": {}
     },
     "11fdbfd44f8844ba9396fce4f6397bd5": {
      "model_module": "@jupyter-widgets/controls",
      "model_module_version": "2.0.0",
      "model_name": "ButtonStyleModel",
      "state": {
       "button_color": "#d4dde6",
       "font_family": null,
       "font_size": null,
       "font_style": null,
       "font_variant": null,
       "font_weight": null,
       "text_color": null,
       "text_decoration": null
      }
     },
     "12d399f38d924f58832846d21a60c333": {
      "model_module": "@jupyter-widgets/base",
      "model_module_version": "2.0.0",
      "model_name": "LayoutModel",
      "state": {
       "grid_area": "widget003"
      }
     },
     "1333d9403f3646609267725e405d1147": {
      "model_module": "@jupyter-widgets/controls",
      "model_module_version": "2.0.0",
      "model_name": "VBoxModel",
      "state": {
       "children": [
        "IPY_MODEL_b292c261a7c24c97bbfbfb813562125d"
       ],
       "layout": "IPY_MODEL_602068e6ff944d34bad9addd48fc3a4d"
      }
     },
     "13d69fcff4a34df79ed286f25dce7866": {
      "model_module": "@jupyter-widgets/controls",
      "model_module_version": "2.0.0",
      "model_name": "ButtonModel",
      "state": {
       "description": "span 6",
       "layout": "IPY_MODEL_8e34448ba4524c0595f47b54d337bb1b",
       "style": "IPY_MODEL_6531e77482b24c61a3579a16f7f398d7",
       "tooltip": null
      }
     },
     "1503cebb7cd74e619559df74f64b2b4d": {
      "model_module": "@jupyter-widgets/base",
      "model_module_version": "2.0.0",
      "model_name": "LayoutModel",
      "state": {
       "width": "auto"
      }
     },
     "1526972854b34bd3a3aa453f93c9258c": {
      "model_module": "@jupyter-widgets/base",
      "model_module_version": "2.0.0",
      "model_name": "LayoutModel",
      "state": {
       "grid_area": "widget004"
      }
     },
     "195cdf1059b642d882ec28390fbb84f2": {
      "model_module": "@jupyter-widgets/base",
      "model_module_version": "2.0.0",
      "model_name": "LayoutModel",
      "state": {
       "grid_template_areas": "\"widget001 widget001 widget001 widget001 widget001 widget001 widget001 widget001 widget001 widget001 widget001 widget001 widget002 widget002 widget002 widget002 widget002 widget002 widget002 widget002 widget002 widget002 widget002 widget002\"",
       "grid_template_columns": "repeat(24, 1fr)",
       "grid_template_rows": "repeat(1, 1fr)"
      }
     },
     "195fed68d8ff4de68e24c12cb35c40cb": {
      "model_module": "anywidget",
      "model_module_version": "0.9.3",
      "model_name": "AnyModel",
      "state": {
       "_anywidget_id": "ipywui.widgets.custom.message.MessageWidget",
       "_css": ".wui-message-root {\n    display: flex;\n    position: absolute;\n    left: 0;\n    right: 0;\n    top: 0;\n}\n\n.wui-message-container {\n    align-items: center;\n    display: flex;\n    flex-direction: column-reverse;\n    justify-content: center;\n    min-height: 100%;\n    outline: none;\n    width: 100%;\n\n    -webkit-tap-highlight-color: rgba(0,0,0,0);\n    bottom: 0;\n    left: 0;\n    right: 0;\n    top: 0;\n}\n\n.wui-message--success {\n    --wui-message-bg-color: #f0f9eb;\n    --wui-message-border-color: #e1f3d8;\n    --wui-message-text-color: #67c23a;\n}\n.wui-message--warning {\n    --wui-message-bg-color: #fdf6ec;\n    --wui-message-border-color: #faecd8;\n    --wui-message-text-color: #e6a23c;\n}\n.wui-message--info {\n    --wui-message-bg-color: #f4f4f5;\n    --wui-message-border-color: #e9e9eb;\n    --wui-message-text-color: #909399;\n}\n.wui-message--error {\n    --wui-message-bg-color: #fef0f0;\n    --wui-message-border-color: #fde2e2;\n    --wui-message-text-color: #f56c6c;\n}\n\n@keyframes msg-open {\n    0% {\n        opacity: 0;\n        -webkit-transform: translateY(-120%);\n        transform: translateY(-120%)\n    }\n    to {\n        -webkit-transform: translateY(0);\n        transform: translateY(0)\n    }\n}\n\n@keyframes msg-close {\n    0% {\n        opacity: 1;\n        -webkit-transform: scale(1);\n        transform: scale(1)\n    }\n    to {\n        opacity: 0;\n        -webkit-transform: scale(.9);\n        transform: scale(.9)\n    }\n}\n.wui-message[data-state=entered],.wui-message[data-state=entering] {\n    -webkit-animation: msg-open .24s cubic-bezier(.175,.885,.32,1.175) both;\n    animation: msg-open .24s cubic-bezier(.175,.885,.32,1.175) both\n}\n\n.wui-message[data-state=exiting] {\n    -webkit-animation: msg-close .12s cubic-bezier(.4,0,1,1) both;\n    animation: msg-close .12s cubic-bezier(.4,0,1,1) both\n}\n\n.wui-message {\n    width: -webkit-fit-content;\n    width: -moz-fit-content;\n    width: fit-content;\n    z-index: 2004;\n    max-width: calc(100% - 32px);\n    margin-top: 8px;\n    box-sizing: border-box;\n    /*border-radius: var(--wui-border-radius-base);*/\n    /*border-width: var(--wui-border-width);*/\n    /*border-style: var(--wui-border-style);*/\n    border-color: var(--wui-message-border-color);\n    /*left: 50%;*/\n    /*top: 20px;*/\n    /*transform: translateX(-50%);*/\n    background-color: var(--wui-message-bg-color);\n    /*transition: opacity var(--wui-transition-duration),transform .4s,top .4s;*/\n    /*padding: var(--wui-message-padding);*/\n    display: flex;\n    align-items: center;\n}\n\n/*.wui-message--success */\n.wui-message__content {\n    color: var(--wui-message-text-color);\n    font-size: 14px;\n    line-height: 18px;\n    margin: 10px 14px 10px 14px;\n    overflow-wrap: break-word;\n}\n\n.wui-message__closeBtn {\n    /*cursor: pointer;*/\n    font-style: normal;\n    /*color: gray;*/\n    padding-right: 14px;\n    /*font-size: 13px;*/\n    user-select: none;\n\n    background: transparent;\n    border: none;\n    color: gray;\n    cursor: pointer;\n    font-size: 13px;\n    font-weight: 400;\n    line-height: 1;\n    outline: none;\n    /*padding: 4px;*/\n    text-align: center;\n    transition: opacity .3s;\n    /*width: 100%;*/\n}",
       "_esm": "function closeMsg(msgDom) {\n  if (!msgDom) {\n    return;\n  }\n  msgDom.setAttribute('data-state', 'exiting');\n  msgDom.remove();\n}\n\nfunction createMsg(options) {\n  const {message, msg_id, type = 'info', show_close = false} = options;\n  const msgDom = document.createElement('div');\n  msgDom.className += ` wui-message--${type} wui-message`;\n  msgDom.setAttribute('data-state', 'entered');\n  msgDom.setAttribute('id', msg_id);\n  const msgContent = document.createElement('p');\n  msgContent.className += ` wui-message--${type} wui-message__content`;\n  msgContent.innerText = message;\n  msgDom.appendChild(msgContent);\n  if (show_close) {\n    const closeBtn = document.createElement('i');\n    closeBtn.className += 'wui-message__closeBtn';\n    closeBtn.innerText = 'x';\n    closeBtn.addEventListener('click', (ev) => {\n      closeMsg(msgDom);\n    })\n    msgDom.appendChild(closeBtn);\n  }\n  return msgDom;\n}\n\nexport async function render(view) {\n  let model = view.model;\n  const msgRoot = view.el;\n  msgRoot.className += ' wui-message-root'\n\n  const msgContainer = document.createElement('div');\n  msgContainer.className += ' wui-message-container';\n  msgRoot.appendChild(msgContainer)\n\n  model.on(\"change:message_options\", () => {\n    const options = model.get(\"message_options\");\n    const msg = createMsg(options);\n    msgContainer.appendChild(msg);\n    const {duration = 3000} = options;\n    if (duration > 0) {\n      setTimeout(() => {\n        closeMsg(msg)\n      }, duration);\n    }\n  })\n\n  model.on(\"change:close_msg_id\", () => {\n    const msg_id = model.get(\"close_msg_id\");\n    const msgDom = document.getElementById(msg_id);\n    closeMsg(msgDom);\n  })\n}\n",
       "_model_module": "anywidget",
       "_model_module_version": "0.9.3",
       "_model_name": "AnyModel",
       "_view_module": "anywidget",
       "_view_module_version": "0.9.3",
       "_view_name": "AnyView",
       "close_msg_id": "",
       "layout": "IPY_MODEL_45f5bddb92d14f958c8509a073457fcf",
       "message_options": {
        "duration": 3000,
        "message": "",
        "show_close": false,
        "type": "info"
       }
      }
     },
     "1b348b7447ad4ad2b80ac70747f683bc": {
      "model_module": "@jupyter-widgets/output",
      "model_module_version": "1.0.0",
      "model_name": "OutputModel",
      "state": {
       "layout": "IPY_MODEL_a2c0329f85674568a01d15083b7837f0",
       "outputs": [
        {
         "data": {
          "application/vnd.jupyter.widget-view+json": {
           "model_id": "b747b6782af7436fabd6e8fe7316dd0c",
           "version_major": 2,
           "version_minor": 0
          },
          "text/plain": "GridspecLayout(children=(VBox(children=(Button(layout=Layout(width='auto'), style=ButtonStyle(button_color='#d…"
         },
         "metadata": {},
         "output_type": "display_data"
        }
       ]
      }
     },
     "1c205b3fc46e4eceae291b48c7fb07e0": {
      "model_module": "@jupyter-widgets/base",
      "model_module_version": "2.0.0",
      "model_name": "LayoutModel",
      "state": {
       "grid_area": "widget002"
      }
     },
     "1da9ae3636694afe9fb84310d8ae82e9": {
      "model_module": "@jupyter-widgets/controls",
      "model_module_version": "2.0.0",
      "model_name": "ButtonModel",
      "state": {
       "description": "span 12",
       "layout": "IPY_MODEL_5334b69d33d74b00830287ddf5396f79",
       "style": "IPY_MODEL_a6ae2fc507074096b64212fc99bd501a",
       "tooltip": null
      }
     },
     "1ef5acb4160a4d1abe8ca0eadc815660": {
      "model_module": "@jupyter-widgets/controls",
      "model_module_version": "2.0.0",
      "model_name": "ButtonStyleModel",
      "state": {
       "button_color": "#9dacc1",
       "font_family": null,
       "font_size": null,
       "font_style": null,
       "font_variant": null,
       "font_weight": null,
       "text_color": null,
       "text_decoration": null
      }
     },
     "2154e501f1d449688c4b92d4f225f4ab": {
      "model_module": "@jupyter-widgets/controls",
      "model_module_version": "2.0.0",
      "model_name": "VBoxModel",
      "state": {
       "children": [
        "IPY_MODEL_cad8ed75ab4847d798c423c375a6c215",
        "IPY_MODEL_1b348b7447ad4ad2b80ac70747f683bc"
       ],
       "layout": "IPY_MODEL_109fc913d07141d7b6a3ffa8fb71b35b"
      }
     },
     "21fd254632a644679ac1451d8bdb21bd": {
      "model_module": "@jupyter-widgets/controls",
      "model_module_version": "2.0.0",
      "model_name": "ButtonModel",
      "state": {
       "layout": "IPY_MODEL_cc861f498ab74f979380f6a27db7a773",
       "style": "IPY_MODEL_47cb02b360c74844bd0bbddf22159bae",
       "tooltip": null
      }
     },
     "22a8ab90fe4f45af81224d3202501ef6": {
      "model_module": "@jupyter-widgets/controls",
      "model_module_version": "2.0.0",
      "model_name": "ButtonModel",
      "state": {
       "description": "span 16",
       "layout": "IPY_MODEL_adb34f47af484632b6b93b882dc8368d",
       "style": "IPY_MODEL_900f14d9172342499cb2fe1535ce3f85",
       "tooltip": null
      }
     },
     "238d80d79d2048e798eaded2b90da79a": {
      "model_module": "@jupyter-widgets/controls",
      "model_module_version": "2.0.0",
      "model_name": "ButtonModel",
      "state": {
       "layout": "IPY_MODEL_09253003d744431ba9b4177deeb90e79",
       "style": "IPY_MODEL_b47ed9de9b504688ae35e3ace75f8ded",
       "tooltip": null
      }
     },
     "253c1c92116548d98b55fec475172bc8": {
      "model_module": "@jupyter-widgets/controls",
      "model_module_version": "2.0.0",
      "model_name": "ButtonStyleModel",
      "state": {
       "button_color": "#d4dde6",
       "font_family": null,
       "font_size": null,
       "font_style": null,
       "font_variant": null,
       "font_weight": null,
       "text_color": null,
       "text_decoration": null
      }
     },
     "25c36b39470a4dd79e6b8959c623def6": {
      "model_module": "@jupyter-widgets/controls",
      "model_module_version": "2.0.0",
      "model_name": "ButtonModel",
      "state": {
       "description": "span 8",
       "layout": "IPY_MODEL_dda0d52c9540435a8a440704d975912e",
       "style": "IPY_MODEL_c9a898c2efca44e5a3a1a80fef75d2bb",
       "tooltip": null
      }
     },
     "261306eb3be84d93b83c557b80ce5615": {
      "model_module": "@jupyter-widgets/base",
      "model_module_version": "2.0.0",
      "model_name": "LayoutModel",
      "state": {
       "grid_area": "widget001"
      }
     },
     "270f90dd88fc476e8e761b74d644de2f": {
      "model_module": "@jupyter-widgets/controls",
      "model_module_version": "2.0.0",
      "model_name": "ButtonStyleModel",
      "state": {
       "button_color": "#e5e9f2",
       "font_family": null,
       "font_size": null,
       "font_style": null,
       "font_variant": null,
       "font_weight": null,
       "text_color": null,
       "text_decoration": null
      }
     },
     "2972bb5d0bfc4d9ba114680f8bef4bc4": {
      "model_module": "@jupyter-widgets/output",
      "model_module_version": "1.0.0",
      "model_name": "OutputModel",
      "state": {
       "layout": "IPY_MODEL_446fd63972cd4c728bd2f584b9e3c7ae",
       "outputs": [
        {
         "data": {
          "application/vnd.jupyter.widget-view+json": {
           "model_id": "f4427bacc6cf4ce2b1b185effbf82cac",
           "version_major": 2,
           "version_minor": 0
          },
          "text/plain": "VBox(children=(GridspecLayout(children=(VBox(children=(Button(description='span 6', layout=Layout(width='auto'…"
         },
         "metadata": {},
         "output_type": "display_data"
        }
       ]
      }
     },
     "29e2e09f873e41c49e504dde09daf239": {
      "model_module": "@jupyter-widgets/controls",
      "model_module_version": "2.0.0",
      "model_name": "ButtonStyleModel",
      "state": {
       "button_color": "#e5e9f2",
       "font_family": null,
       "font_size": null,
       "font_style": null,
       "font_variant": null,
       "font_weight": null,
       "text_color": null,
       "text_decoration": null
      }
     },
     "2b3c6ae193f94cb18513e9a355bb767a": {
      "model_module": "@jupyter-widgets/base",
      "model_module_version": "2.0.0",
      "model_name": "LayoutModel",
      "state": {
       "grid_area": "widget002"
      }
     },
     "2bc49d40bea7497385114bd98689a91d": {
      "model_module": "@jupyter-widgets/controls",
      "model_module_version": "2.0.0",
      "model_name": "VBoxModel",
      "state": {
       "children": [
        "IPY_MODEL_bd85c3f945dc421397db87b8b17d2ca5"
       ],
       "layout": "IPY_MODEL_03d6546b2c06435ea93b3905dcedea83"
      }
     },
     "2ca0ff5e6a334479b67c3a0e96baacbd": {
      "model_module": "@jupyter-widgets/controls",
      "model_module_version": "2.0.0",
      "model_name": "VBoxModel",
      "state": {
       "children": [
        "IPY_MODEL_22a8ab90fe4f45af81224d3202501ef6"
       ],
       "layout": "IPY_MODEL_7ce7c3272b93437f9dfcfd13ebc8c646"
      }
     },
     "323997a83e9149ee8eb3b8d9f5b42d43": {
      "model_module": "@jupyter-widgets/controls",
      "model_module_version": "2.0.0",
      "model_name": "ButtonStyleModel",
      "state": {
       "button_color": "#d4dde6",
       "font_family": null,
       "font_size": null,
       "font_style": null,
       "font_variant": null,
       "font_weight": null,
       "text_color": null,
       "text_decoration": null
      }
     },
     "326581fcd45946ccaab3327a0062d8db": {
      "model_module": "@jupyter-widgets/base",
      "model_module_version": "2.0.0",
      "model_name": "LayoutModel",
      "state": {
       "width": "auto"
      }
     },
     "32a55f4370f149be8de538686d5c674e": {
      "model_module": "anywidget",
      "model_module_version": "0.9.3",
      "model_name": "AnyModel",
      "state": {
       "_anywidget_id": "ipywui.widgets.custom.message.MessageWidget",
       "_css": ".wui-message-root {\n    display: flex;\n    position: absolute;\n    left: 0;\n    right: 0;\n    top: 0;\n}\n\n.wui-message-container {\n    align-items: center;\n    display: flex;\n    flex-direction: column-reverse;\n    justify-content: center;\n    min-height: 100%;\n    outline: none;\n    width: 100%;\n\n    -webkit-tap-highlight-color: rgba(0,0,0,0);\n    bottom: 0;\n    left: 0;\n    right: 0;\n    top: 0;\n}\n\n.wui-message--success {\n    --wui-message-bg-color: #f0f9eb;\n    --wui-message-border-color: #e1f3d8;\n    --wui-message-text-color: #67c23a;\n}\n.wui-message--warning {\n    --wui-message-bg-color: #fdf6ec;\n    --wui-message-border-color: #faecd8;\n    --wui-message-text-color: #e6a23c;\n}\n.wui-message--info {\n    --wui-message-bg-color: #f4f4f5;\n    --wui-message-border-color: #e9e9eb;\n    --wui-message-text-color: #909399;\n}\n.wui-message--error {\n    --wui-message-bg-color: #fef0f0;\n    --wui-message-border-color: #fde2e2;\n    --wui-message-text-color: #f56c6c;\n}\n\n@keyframes msg-open {\n    0% {\n        opacity: 0;\n        -webkit-transform: translateY(-120%);\n        transform: translateY(-120%)\n    }\n    to {\n        -webkit-transform: translateY(0);\n        transform: translateY(0)\n    }\n}\n\n@keyframes msg-close {\n    0% {\n        opacity: 1;\n        -webkit-transform: scale(1);\n        transform: scale(1)\n    }\n    to {\n        opacity: 0;\n        -webkit-transform: scale(.9);\n        transform: scale(.9)\n    }\n}\n.wui-message[data-state=entered],.wui-message[data-state=entering] {\n    -webkit-animation: msg-open .24s cubic-bezier(.175,.885,.32,1.175) both;\n    animation: msg-open .24s cubic-bezier(.175,.885,.32,1.175) both\n}\n\n.wui-message[data-state=exiting] {\n    -webkit-animation: msg-close .12s cubic-bezier(.4,0,1,1) both;\n    animation: msg-close .12s cubic-bezier(.4,0,1,1) both\n}\n\n.wui-message {\n    width: -webkit-fit-content;\n    width: -moz-fit-content;\n    width: fit-content;\n    z-index: 2004;\n    max-width: calc(100% - 32px);\n    margin-top: 8px;\n    box-sizing: border-box;\n    /*border-radius: var(--wui-border-radius-base);*/\n    /*border-width: var(--wui-border-width);*/\n    /*border-style: var(--wui-border-style);*/\n    border-color: var(--wui-message-border-color);\n    /*left: 50%;*/\n    /*top: 20px;*/\n    /*transform: translateX(-50%);*/\n    background-color: var(--wui-message-bg-color);\n    /*transition: opacity var(--wui-transition-duration),transform .4s,top .4s;*/\n    /*padding: var(--wui-message-padding);*/\n    display: flex;\n    align-items: center;\n}\n\n/*.wui-message--success */\n.wui-message__content {\n    color: var(--wui-message-text-color);\n    font-size: 14px;\n    line-height: 18px;\n    margin: 10px 14px 10px 14px;\n    overflow-wrap: break-word;\n}\n\n.wui-message__closeBtn {\n    /*cursor: pointer;*/\n    font-style: normal;\n    /*color: gray;*/\n    padding-right: 14px;\n    /*font-size: 13px;*/\n    user-select: none;\n\n    background: transparent;\n    border: none;\n    color: gray;\n    cursor: pointer;\n    font-size: 13px;\n    font-weight: 400;\n    line-height: 1;\n    outline: none;\n    /*padding: 4px;*/\n    text-align: center;\n    transition: opacity .3s;\n    /*width: 100%;*/\n}",
       "_esm": "function closeMsg(msgDom) {\n  if (!msgDom) {\n    return;\n  }\n  msgDom.setAttribute('data-state', 'exiting');\n  msgDom.remove();\n}\n\nfunction createMsg(options) {\n  const {message, msg_id, type = 'info', show_close = false} = options;\n  const msgDom = document.createElement('div');\n  msgDom.className += ` wui-message--${type} wui-message`;\n  msgDom.setAttribute('data-state', 'entered');\n  msgDom.setAttribute('id', msg_id);\n  const msgContent = document.createElement('p');\n  msgContent.className += ` wui-message--${type} wui-message__content`;\n  msgContent.innerText = message;\n  msgDom.appendChild(msgContent);\n  if (show_close) {\n    const closeBtn = document.createElement('i');\n    closeBtn.className += 'wui-message__closeBtn';\n    closeBtn.innerText = 'x';\n    closeBtn.addEventListener('click', (ev) => {\n      closeMsg(msgDom);\n    })\n    msgDom.appendChild(closeBtn);\n  }\n  return msgDom;\n}\n\nexport async function render(view) {\n  let model = view.model;\n  const msgRoot = view.el;\n  msgRoot.className += ' wui-message-root'\n\n  const msgContainer = document.createElement('div');\n  msgContainer.className += ' wui-message-container';\n  msgRoot.appendChild(msgContainer)\n\n  model.on(\"change:message_options\", () => {\n    const options = model.get(\"message_options\");\n    const msg = createMsg(options);\n    msgContainer.appendChild(msg);\n    const {duration = 3000} = options;\n    if (duration > 0) {\n      setTimeout(() => {\n        closeMsg(msg)\n      }, duration);\n    }\n  })\n\n  model.on(\"change:close_msg_id\", () => {\n    const msg_id = model.get(\"close_msg_id\");\n    const msgDom = document.getElementById(msg_id);\n    closeMsg(msgDom);\n  })\n}\n",
       "_model_module": "anywidget",
       "_model_module_version": "0.9.3",
       "_model_name": "AnyModel",
       "_view_module": "anywidget",
       "_view_module_version": "0.9.3",
       "_view_name": "AnyView",
       "close_msg_id": "",
       "layout": "IPY_MODEL_42c45a6a09b34332bc4ac506bb6d071f",
       "message_options": {
        "duration": 3000,
        "message": "",
        "show_close": false,
        "type": "info"
       }
      }
     },
     "364f7202f7bc4efdb12c0727297bc331": {
      "model_module": "@jupyter-widgets/base",
      "model_module_version": "2.0.0",
      "model_name": "LayoutModel",
      "state": {
       "grid_area": "widget002"
      }
     },
     "3719c058c208465f97b0ce65e556bb83": {
      "model_module": "@jupyter-widgets/controls",
      "model_module_version": "2.0.0",
      "model_name": "VBoxModel",
      "state": {
       "children": [
        "IPY_MODEL_67603d05b20740cfa8eb32f1e975f376",
        "IPY_MODEL_2972bb5d0bfc4d9ba114680f8bef4bc4"
       ],
       "layout": "IPY_MODEL_3f4190abc2a44ed8bd7fc7d797e435b6"
      }
     },
     "3793ffac48074dd1a5cfc2a40611dc33": {
      "model_module": "@jupyter-widgets/base",
      "model_module_version": "2.0.0",
      "model_name": "LayoutModel",
      "state": {
       "width": "auto"
      }
     },
     "3b1ce59cbcca4214b8ee28ed1a096da5": {
      "model_module": "@jupyter-widgets/controls",
      "model_module_version": "2.0.0",
      "model_name": "ButtonStyleModel",
      "state": {
       "button_color": "#e5e9f2",
       "font_family": null,
       "font_size": null,
       "font_style": null,
       "font_variant": null,
       "font_weight": null,
       "text_color": null,
       "text_decoration": null
      }
     },
     "3f4190abc2a44ed8bd7fc7d797e435b6": {
      "model_module": "@jupyter-widgets/base",
      "model_module_version": "2.0.0",
      "model_name": "LayoutModel",
      "state": {}
     },
     "410a4be2aa5a4677b021440e692e3838": {
      "model_module": "@jupyter-widgets/base",
      "model_module_version": "2.0.0",
      "model_name": "LayoutModel",
      "state": {
       "grid_area": "widget001"
      }
     },
     "42c45a6a09b34332bc4ac506bb6d071f": {
      "model_module": "@jupyter-widgets/base",
      "model_module_version": "2.0.0",
      "model_name": "LayoutModel",
      "state": {}
     },
     "435c472b649248428963dce7182070bd": {
      "model_module": "@jupyter-widgets/controls",
      "model_module_version": "2.0.0",
      "model_name": "GridBoxModel",
      "state": {
       "children": [
        "IPY_MODEL_008a3717e99747cbb9d73685314a53d5"
       ],
       "layout": "IPY_MODEL_e5452d84bf8647a9987eb46428c5f1ee"
      }
     },
     "446fd63972cd4c728bd2f584b9e3c7ae": {
      "model_module": "@jupyter-widgets/base",
      "model_module_version": "2.0.0",
      "model_name": "LayoutModel",
      "state": {}
     },
     "4480902c7399436aa953e95ddd676aa2": {
      "model_module": "@jupyter-widgets/base",
      "model_module_version": "2.0.0",
      "model_name": "LayoutModel",
      "state": {}
     },
     "45f5bddb92d14f958c8509a073457fcf": {
      "model_module": "@jupyter-widgets/base",
      "model_module_version": "2.0.0",
      "model_name": "LayoutModel",
      "state": {}
     },
     "460c221d9511449c85700c044ba33cdc": {
      "model_module": "@jupyter-widgets/base",
      "model_module_version": "2.0.0",
      "model_name": "LayoutModel",
      "state": {
       "grid_area": "widget002"
      }
     },
     "47c772f31bf147bfaf357d51bfc14272": {
      "model_module": "@jupyter-widgets/base",
      "model_module_version": "2.0.0",
      "model_name": "LayoutModel",
      "state": {
       "grid_area": "widget001"
      }
     },
     "47cb02b360c74844bd0bbddf22159bae": {
      "model_module": "@jupyter-widgets/controls",
      "model_module_version": "2.0.0",
      "model_name": "ButtonStyleModel",
      "state": {
       "button_color": "#d4dde6",
       "font_family": null,
       "font_size": null,
       "font_style": null,
       "font_variant": null,
       "font_weight": null,
       "text_color": null,
       "text_decoration": null
      }
     },
     "48dc319e1bca42c7ae733a1478c04db8": {
      "model_module": "@jupyter-widgets/controls",
      "model_module_version": "2.0.0",
      "model_name": "VBoxModel",
      "state": {
       "children": [
        "IPY_MODEL_1da9ae3636694afe9fb84310d8ae82e9"
       ],
       "layout": "IPY_MODEL_364f7202f7bc4efdb12c0727297bc331"
      }
     },
     "4a15764bb63c41e8b2117acc41bbc858": {
      "model_module": "@jupyter-widgets/base",
      "model_module_version": "2.0.0",
      "model_name": "LayoutModel",
      "state": {}
     },
     "4a3a2ca7120e4af5bad10499589b2d8a": {
      "model_module": "@jupyter-widgets/base",
      "model_module_version": "2.0.0",
      "model_name": "LayoutModel",
      "state": {
       "width": "auto"
      }
     },
     "4b7694c73c3e4ab49e9c0801de581e24": {
      "model_module": "@jupyter-widgets/controls",
      "model_module_version": "2.0.0",
      "model_name": "ButtonStyleModel",
      "state": {
       "button_color": "#d4dde6",
       "font_family": null,
       "font_size": null,
       "font_style": null,
       "font_variant": null,
       "font_weight": null,
       "text_color": null,
       "text_decoration": null
      }
     },
     "4c7efe0342934996a2ed4a1482f488ff": {
      "model_module": "@jupyter-widgets/base",
      "model_module_version": "2.0.0",
      "model_name": "LayoutModel",
      "state": {
       "grid_template_areas": "\"widget001 widget001 widget001 widget001 widget001 widget001 . . . . . . widget002 widget002 widget002 widget002 widget002 widget002 . . . . . .\"",
       "grid_template_columns": "repeat(24, 1fr)",
       "grid_template_rows": "repeat(1, 1fr)"
      }
     },
     "4cd9b413c0d74e96a6f63456c53fb795": {
      "model_module": "@jupyter-widgets/controls",
      "model_module_version": "2.0.0",
      "model_name": "ButtonModel",
      "state": {
       "description": "span 4",
       "layout": "IPY_MODEL_c12947c7e8d04363956a11555207423d",
       "style": "IPY_MODEL_c7e3aeee121645aab101e771f7f895d9",
       "tooltip": null
      }
     },
     "4eb9f8a78f9c4f23812e9513e8bb8ee0": {
      "model_module": "@jupyter-widgets/controls",
      "model_module_version": "2.0.0",
      "model_name": "ButtonModel",
      "state": {
       "description": "offset 6 span 6",
       "layout": "IPY_MODEL_00209a9f9ff44a5185971efadd51aae0",
       "style": "IPY_MODEL_fcc23ecd09cb4f8f81425e6f02926e9e",
       "tooltip": null
      }
     },
     "50556766a0c64987be305b1e0887d405": {
      "model_module": "@jupyter-widgets/controls",
      "model_module_version": "2.0.0",
      "model_name": "ButtonStyleModel",
      "state": {
       "button_color": "#d4dde6",
       "font_family": null,
       "font_size": null,
       "font_style": null,
       "font_variant": null,
       "font_weight": null,
       "text_color": null,
       "text_decoration": null
      }
     },
     "5067835a5546422284633be2592defab": {
      "model_module": "@jupyter-widgets/controls",
      "model_module_version": "2.0.0",
      "model_name": "VBoxModel",
      "state": {
       "children": [
        "IPY_MODEL_5438724ceb394156b30e478294932fe2"
       ],
       "layout": "IPY_MODEL_a1f4599c0cfe4cada9043f824801a0ea"
      }
     },
     "50c604e33e354d4784ba1c876f5693b8": {
      "model_module": "@jupyter-widgets/controls",
      "model_module_version": "2.0.0",
      "model_name": "VBoxModel",
      "state": {
       "children": [
        "IPY_MODEL_21fd254632a644679ac1451d8bdb21bd"
       ],
       "layout": "IPY_MODEL_be7ee325d64143e88eca4145e3707727"
      }
     },
     "5334b69d33d74b00830287ddf5396f79": {
      "model_module": "@jupyter-widgets/base",
      "model_module_version": "2.0.0",
      "model_name": "LayoutModel",
      "state": {
       "width": "auto"
      }
     },
     "535181ce1a8847ddbca35d90ed3f29be": {
      "model_module": "@jupyter-widgets/controls",
      "model_module_version": "2.0.0",
      "model_name": "GridBoxModel",
      "state": {
       "children": [
        "IPY_MODEL_a0263eb5f7a74e66b5a01736f74b8b76",
        "IPY_MODEL_dc77f622f8b248a88d172f075bfdd2d2"
       ],
       "layout": "IPY_MODEL_53a238df78614b37ab3dfb654b17e23f"
      }
     },
     "53a238df78614b37ab3dfb654b17e23f": {
      "model_module": "@jupyter-widgets/base",
      "model_module_version": "2.0.0",
      "model_name": "LayoutModel",
      "state": {
       "grid_template_areas": "\". . . . . . widget001 widget001 widget001 widget001 widget001 widget001 . . . . . . widget002 widget002 widget002 widget002 widget002 widget002\"",
       "grid_template_columns": "repeat(24, 1fr)",
       "grid_template_rows": "repeat(1, 1fr)"
      }
     },
     "5438724ceb394156b30e478294932fe2": {
      "model_module": "@jupyter-widgets/controls",
      "model_module_version": "2.0.0",
      "model_name": "ButtonModel",
      "state": {
       "description": "span 6",
       "layout": "IPY_MODEL_1503cebb7cd74e619559df74f64b2b4d",
       "style": "IPY_MODEL_253c1c92116548d98b55fec475172bc8",
       "tooltip": null
      }
     },
     "5442bf00a54f4128a13e4329e56c2901": {
      "model_module": "@jupyter-widgets/controls",
      "model_module_version": "2.0.0",
      "model_name": "VBoxModel",
      "state": {
       "children": [
        "IPY_MODEL_3719c058c208465f97b0ce65e556bb83"
       ],
       "layout": "IPY_MODEL_5f9963abd3b94e9d9d91f12d12c8baf7"
      }
     },
     "587aa33b0d77484a8fc8455965acb1c6": {
      "model_module": "@jupyter-widgets/controls",
      "model_module_version": "2.0.0",
      "model_name": "VBoxModel",
      "state": {
       "children": [
        "IPY_MODEL_0011ae33ac924d34ba33247530a4aa1c"
       ],
       "layout": "IPY_MODEL_410a4be2aa5a4677b021440e692e3838"
      }
     },
     "588abcb459754451868c50b6a4fe14ce": {
      "model_module": "@jupyter-widgets/controls",
      "model_module_version": "2.0.0",
      "model_name": "GridBoxModel",
      "state": {
       "children": [
        "IPY_MODEL_0862af6e1007446d953a7c18a3aede18",
        "IPY_MODEL_c979c8730c744a60805dc1c1dec53e83"
       ],
       "layout": "IPY_MODEL_e9eb1ed0cf7b47bbb36ca9f4fa15f08c"
      }
     },
     "5a2749a8661b4f15b825441fee06b7c2": {
      "model_module": "@jupyter-widgets/base",
      "model_module_version": "2.0.0",
      "model_name": "LayoutModel",
      "state": {
       "grid_gap": "20px",
       "grid_template_areas": "\"widget001 widget001 widget001 widget001 widget001 widget001 widget001 widget001 widget002 widget002 widget002 widget002 widget002 widget002 widget002 widget002 widget003 widget003 widget003 widget003 widget004 widget004 widget004 widget004\"",
       "grid_template_columns": "repeat(24, 1fr)",
       "grid_template_rows": "repeat(1, 1fr)"
      }
     },
     "5a415c646cd64f989e9a0c1a6c7be3e8": {
      "model_module": "@jupyter-widgets/base",
      "model_module_version": "2.0.0",
      "model_name": "LayoutModel",
      "state": {}
     },
     "5af44791510949bf907b65f8f710d7de": {
      "model_module": "@jupyter-widgets/controls",
      "model_module_version": "2.0.0",
      "model_name": "ButtonModel",
      "state": {
       "description": "span 6",
       "layout": "IPY_MODEL_71d6053997b242baa4e71b34a4867b7e",
       "style": "IPY_MODEL_100514147a15422f93b016d0a9d663dc",
       "tooltip": null
      }
     },
     "5c6a960a6eb64045ae880f65fecf9d50": {
      "model_module": "@jupyter-widgets/controls",
      "model_module_version": "2.0.0",
      "model_name": "ButtonModel",
      "state": {
       "layout": "IPY_MODEL_f6a48930b4084d63b06d7811ab93fff4",
       "style": "IPY_MODEL_50556766a0c64987be305b1e0887d405",
       "tooltip": null
      }
     },
     "5eea3fc12b644fb9ae02dba34342c818": {
      "model_module": "@jupyter-widgets/controls",
      "model_module_version": "2.0.0",
      "model_name": "ButtonModel",
      "state": {
       "description": "span 16",
       "layout": "IPY_MODEL_fbabea57a31b44cb853e8395fb13e1cf",
       "style": "IPY_MODEL_730d7b91a391427fa3742d2e4c65b844",
       "tooltip": null
      }
     },
     "5f6a1a4367cb42b3abd901b99e11fc70": {
      "model_module": "@jupyter-widgets/base",
      "model_module_version": "2.0.0",
      "model_name": "LayoutModel",
      "state": {
       "grid_area": "widget003"
      }
     },
     "5f9963abd3b94e9d9d91f12d12c8baf7": {
      "model_module": "@jupyter-widgets/base",
      "model_module_version": "2.0.0",
      "model_name": "LayoutModel",
      "state": {}
     },
     "602068e6ff944d34bad9addd48fc3a4d": {
      "model_module": "@jupyter-widgets/base",
      "model_module_version": "2.0.0",
      "model_name": "LayoutModel",
      "state": {
       "grid_area": "widget001"
      }
     },
     "614525c1555d41d2a324951da163b087": {
      "model_module": "@jupyter-widgets/base",
      "model_module_version": "2.0.0",
      "model_name": "LayoutModel",
      "state": {}
     },
     "625bfdc8fde74c009f7177cc2e8463fe": {
      "model_module": "@jupyter-widgets/controls",
      "model_module_version": "2.0.0",
      "model_name": "VBoxModel",
      "state": {
       "children": [
        "IPY_MODEL_435c472b649248428963dce7182070bd",
        "IPY_MODEL_0b61fc1e55b4482fb43b740c400c3b54",
        "IPY_MODEL_f56dd0c0834d4f1c93eeed19fbc71db0",
        "IPY_MODEL_717c8382102c40b7bfcf6f510f24fa4e"
       ],
       "layout": "IPY_MODEL_4480902c7399436aa953e95ddd676aa2"
      }
     },
     "6531e77482b24c61a3579a16f7f398d7": {
      "model_module": "@jupyter-widgets/controls",
      "model_module_version": "2.0.0",
      "model_name": "ButtonStyleModel",
      "state": {
       "button_color": "#e5e9f2",
       "font_family": null,
       "font_size": null,
       "font_style": null,
       "font_variant": null,
       "font_weight": null,
       "text_color": null,
       "text_decoration": null
      }
     },
     "67603d05b20740cfa8eb32f1e975f376": {
      "model_module": "anywidget",
      "model_module_version": "0.9.3",
      "model_name": "AnyModel",
      "state": {
       "_anywidget_id": "ipywui.widgets.custom.message.MessageWidget",
       "_css": ".wui-message-root {\n    display: flex;\n    position: absolute;\n    left: 0;\n    right: 0;\n    top: 0;\n}\n\n.wui-message-container {\n    align-items: center;\n    display: flex;\n    flex-direction: column-reverse;\n    justify-content: center;\n    min-height: 100%;\n    outline: none;\n    width: 100%;\n\n    -webkit-tap-highlight-color: rgba(0,0,0,0);\n    bottom: 0;\n    left: 0;\n    right: 0;\n    top: 0;\n}\n\n.wui-message--success {\n    --wui-message-bg-color: #f0f9eb;\n    --wui-message-border-color: #e1f3d8;\n    --wui-message-text-color: #67c23a;\n}\n.wui-message--warning {\n    --wui-message-bg-color: #fdf6ec;\n    --wui-message-border-color: #faecd8;\n    --wui-message-text-color: #e6a23c;\n}\n.wui-message--info {\n    --wui-message-bg-color: #f4f4f5;\n    --wui-message-border-color: #e9e9eb;\n    --wui-message-text-color: #909399;\n}\n.wui-message--error {\n    --wui-message-bg-color: #fef0f0;\n    --wui-message-border-color: #fde2e2;\n    --wui-message-text-color: #f56c6c;\n}\n\n@keyframes msg-open {\n    0% {\n        opacity: 0;\n        -webkit-transform: translateY(-120%);\n        transform: translateY(-120%)\n    }\n    to {\n        -webkit-transform: translateY(0);\n        transform: translateY(0)\n    }\n}\n\n@keyframes msg-close {\n    0% {\n        opacity: 1;\n        -webkit-transform: scale(1);\n        transform: scale(1)\n    }\n    to {\n        opacity: 0;\n        -webkit-transform: scale(.9);\n        transform: scale(.9)\n    }\n}\n.wui-message[data-state=entered],.wui-message[data-state=entering] {\n    -webkit-animation: msg-open .24s cubic-bezier(.175,.885,.32,1.175) both;\n    animation: msg-open .24s cubic-bezier(.175,.885,.32,1.175) both\n}\n\n.wui-message[data-state=exiting] {\n    -webkit-animation: msg-close .12s cubic-bezier(.4,0,1,1) both;\n    animation: msg-close .12s cubic-bezier(.4,0,1,1) both\n}\n\n.wui-message {\n    width: -webkit-fit-content;\n    width: -moz-fit-content;\n    width: fit-content;\n    z-index: 2004;\n    max-width: calc(100% - 32px);\n    margin-top: 8px;\n    box-sizing: border-box;\n    /*border-radius: var(--wui-border-radius-base);*/\n    /*border-width: var(--wui-border-width);*/\n    /*border-style: var(--wui-border-style);*/\n    border-color: var(--wui-message-border-color);\n    /*left: 50%;*/\n    /*top: 20px;*/\n    /*transform: translateX(-50%);*/\n    background-color: var(--wui-message-bg-color);\n    /*transition: opacity var(--wui-transition-duration),transform .4s,top .4s;*/\n    /*padding: var(--wui-message-padding);*/\n    display: flex;\n    align-items: center;\n}\n\n/*.wui-message--success */\n.wui-message__content {\n    color: var(--wui-message-text-color);\n    font-size: 14px;\n    line-height: 18px;\n    margin: 10px 14px 10px 14px;\n    overflow-wrap: break-word;\n}\n\n.wui-message__closeBtn {\n    /*cursor: pointer;*/\n    font-style: normal;\n    /*color: gray;*/\n    padding-right: 14px;\n    /*font-size: 13px;*/\n    user-select: none;\n\n    background: transparent;\n    border: none;\n    color: gray;\n    cursor: pointer;\n    font-size: 13px;\n    font-weight: 400;\n    line-height: 1;\n    outline: none;\n    /*padding: 4px;*/\n    text-align: center;\n    transition: opacity .3s;\n    /*width: 100%;*/\n}",
       "_esm": "function closeMsg(msgDom) {\n  if (!msgDom) {\n    return;\n  }\n  msgDom.setAttribute('data-state', 'exiting');\n  msgDom.remove();\n}\n\nfunction createMsg(options) {\n  const {message, msg_id, type = 'info', show_close = false} = options;\n  const msgDom = document.createElement('div');\n  msgDom.className += ` wui-message--${type} wui-message`;\n  msgDom.setAttribute('data-state', 'entered');\n  msgDom.setAttribute('id', msg_id);\n  const msgContent = document.createElement('p');\n  msgContent.className += ` wui-message--${type} wui-message__content`;\n  msgContent.innerText = message;\n  msgDom.appendChild(msgContent);\n  if (show_close) {\n    const closeBtn = document.createElement('i');\n    closeBtn.className += 'wui-message__closeBtn';\n    closeBtn.innerText = 'x';\n    closeBtn.addEventListener('click', (ev) => {\n      closeMsg(msgDom);\n    })\n    msgDom.appendChild(closeBtn);\n  }\n  return msgDom;\n}\n\nexport async function render(view) {\n  let model = view.model;\n  const msgRoot = view.el;\n  msgRoot.className += ' wui-message-root'\n\n  const msgContainer = document.createElement('div');\n  msgContainer.className += ' wui-message-container';\n  msgRoot.appendChild(msgContainer)\n\n  model.on(\"change:message_options\", () => {\n    const options = model.get(\"message_options\");\n    const msg = createMsg(options);\n    msgContainer.appendChild(msg);\n    const {duration = 3000} = options;\n    if (duration > 0) {\n      setTimeout(() => {\n        closeMsg(msg)\n      }, duration);\n    }\n  })\n\n  model.on(\"change:close_msg_id\", () => {\n    const msg_id = model.get(\"close_msg_id\");\n    const msgDom = document.getElementById(msg_id);\n    closeMsg(msgDom);\n  })\n}\n",
       "_model_module": "anywidget",
       "_model_module_version": "0.9.3",
       "_model_name": "AnyModel",
       "_view_module": "anywidget",
       "_view_module_version": "0.9.3",
       "_view_name": "AnyView",
       "close_msg_id": "",
       "layout": "IPY_MODEL_edf667c6295b485bbd2aa0a988402872",
       "message_options": {
        "duration": 3000,
        "message": "",
        "show_close": false,
        "type": "info"
       }
      }
     },
     "6affc928dda54794a0a1d4ff92792b2a": {
      "model_module": "@jupyter-widgets/base",
      "model_module_version": "2.0.0",
      "model_name": "LayoutModel",
      "state": {
       "width": "auto"
      }
     },
     "6e021140f49041cda6f2025c1cc69b08": {
      "model_module": "@jupyter-widgets/controls",
      "model_module_version": "2.0.0",
      "model_name": "ButtonStyleModel",
      "state": {
       "button_color": "#d4dde6",
       "font_family": null,
       "font_size": null,
       "font_style": null,
       "font_variant": null,
       "font_weight": null,
       "text_color": null,
       "text_decoration": null
      }
     },
     "6e2781fc025248729899e6797a41eb3a": {
      "model_module": "@jupyter-widgets/controls",
      "model_module_version": "2.0.0",
      "model_name": "GridBoxModel",
      "state": {
       "children": [
        "IPY_MODEL_1333d9403f3646609267725e405d1147",
        "IPY_MODEL_f75c61b70ccc4bcc9c2a27f3cd1645b3",
        "IPY_MODEL_ef2f94e6395943978859ce6f0cfc5da0",
        "IPY_MODEL_f2e19ee0579843068229046b1c23f1af"
       ],
       "layout": "IPY_MODEL_5a2749a8661b4f15b825441fee06b7c2"
      }
     },
     "6f212a944a87474b8ed4cd057adb9218": {
      "model_module": "@jupyter-widgets/base",
      "model_module_version": "2.0.0",
      "model_name": "LayoutModel",
      "state": {
       "grid_area": "widget002"
      }
     },
     "6f857298e7054e22b6f350e15f1f2b2e": {
      "model_module": "@jupyter-widgets/base",
      "model_module_version": "2.0.0",
      "model_name": "LayoutModel",
      "state": {
       "grid_area": "widget003"
      }
     },
     "717c8382102c40b7bfcf6f510f24fa4e": {
      "model_module": "@jupyter-widgets/controls",
      "model_module_version": "2.0.0",
      "model_name": "GridBoxModel",
      "state": {
       "children": [
        "IPY_MODEL_5067835a5546422284633be2592defab",
        "IPY_MODEL_7b299c6be93e4489a598506e2b86f9f4",
        "IPY_MODEL_726d74fa721e44539a0dfb877d07aa34",
        "IPY_MODEL_e3e759f571bc4004a7614a4e904196e4"
       ],
       "layout": "IPY_MODEL_e762893882654c7d9b29045c16e9e778"
      }
     },
     "71d6053997b242baa4e71b34a4867b7e": {
      "model_module": "@jupyter-widgets/base",
      "model_module_version": "2.0.0",
      "model_name": "LayoutModel",
      "state": {
       "width": "auto"
      }
     },
     "726d74fa721e44539a0dfb877d07aa34": {
      "model_module": "@jupyter-widgets/controls",
      "model_module_version": "2.0.0",
      "model_name": "VBoxModel",
      "state": {
       "children": [
        "IPY_MODEL_5af44791510949bf907b65f8f710d7de"
       ],
       "layout": "IPY_MODEL_6f857298e7054e22b6f350e15f1f2b2e"
      }
     },
     "730d7b91a391427fa3742d2e4c65b844": {
      "model_module": "@jupyter-widgets/controls",
      "model_module_version": "2.0.0",
      "model_name": "ButtonStyleModel",
      "state": {
       "button_color": "#d4dde6",
       "font_family": null,
       "font_size": null,
       "font_style": null,
       "font_variant": null,
       "font_weight": null,
       "text_color": null,
       "text_decoration": null
      }
     },
     "745a30aa1f4343cdad462e9d12910941": {
      "model_module": "@jupyter-widgets/controls",
      "model_module_version": "2.0.0",
      "model_name": "ButtonModel",
      "state": {
       "description": "span 8",
       "layout": "IPY_MODEL_c75921d5ee4b44558c7a4ef6d2b2ea87",
       "style": "IPY_MODEL_270f90dd88fc476e8e761b74d644de2f",
       "tooltip": null
      }
     },
     "74e885a7a4fa4fcfa0953d824acf4c63": {
      "model_module": "@jupyter-widgets/controls",
      "model_module_version": "2.0.0",
      "model_name": "VBoxModel",
      "state": {
       "children": [
        "IPY_MODEL_9b64915a1cbe4a07b8b3f69212c64776"
       ],
       "layout": "IPY_MODEL_ffbad2a8ce27448eb649e182653fa834"
      }
     },
     "764e5321b12148c0aa94da67e8eee695": {
      "model_module": "@jupyter-widgets/base",
      "model_module_version": "2.0.0",
      "model_name": "LayoutModel",
      "state": {
       "width": "auto"
      }
     },
     "782b89d444654a9381aac40a8cc3a8b0": {
      "model_module": "@jupyter-widgets/base",
      "model_module_version": "2.0.0",
      "model_name": "LayoutModel",
      "state": {
       "grid_area": "widget001"
      }
     },
     "78fe9b8d053241d391b5d95e92240044": {
      "model_module": "@jupyter-widgets/controls",
      "model_module_version": "2.0.0",
      "model_name": "ButtonModel",
      "state": {
       "description": "offset 6 span 6",
       "layout": "IPY_MODEL_6affc928dda54794a0a1d4ff92792b2a",
       "style": "IPY_MODEL_29e2e09f873e41c49e504dde09daf239",
       "tooltip": null
      }
     },
     "7b204420bb08413f923bead83a546dc2": {
      "model_module": "@jupyter-widgets/base",
      "model_module_version": "2.0.0",
      "model_name": "LayoutModel",
      "state": {
       "width": "auto"
      }
     },
     "7b299c6be93e4489a598506e2b86f9f4": {
      "model_module": "@jupyter-widgets/controls",
      "model_module_version": "2.0.0",
      "model_name": "VBoxModel",
      "state": {
       "children": [
        "IPY_MODEL_13d69fcff4a34df79ed286f25dce7866"
       ],
       "layout": "IPY_MODEL_2b3c6ae193f94cb18513e9a355bb767a"
      }
     },
     "7ce7c3272b93437f9dfcfd13ebc8c646": {
      "model_module": "@jupyter-widgets/base",
      "model_module_version": "2.0.0",
      "model_name": "LayoutModel",
      "state": {
       "grid_area": "widget002"
      }
     },
     "7d3263004f804b93aa294878b044ac75": {
      "model_module": "@jupyter-widgets/controls",
      "model_module_version": "2.0.0",
      "model_name": "VBoxModel",
      "state": {
       "children": [
        "IPY_MODEL_fbd6713d96824ca780c761e1d3504bc3"
       ],
       "layout": "IPY_MODEL_12d399f38d924f58832846d21a60c333"
      }
     },
     "7e9d2b2bb59d424bbfc22a52603e8a88": {
      "model_module": "@jupyter-widgets/base",
      "model_module_version": "2.0.0",
      "model_name": "LayoutModel",
      "state": {}
     },
     "8467f774bf3d40349dfd7c956a6d1d47": {
      "model_module": "@jupyter-widgets/controls",
      "model_module_version": "2.0.0",
      "model_name": "VBoxModel",
      "state": {
       "children": [
        "IPY_MODEL_d4b620b6d29447259defa319f1f60cbb"
       ],
       "layout": "IPY_MODEL_bafaba2240134dd1912113d292af8738"
      }
     },
     "851a70448a434253ac13ec4f24bcb668": {
      "model_module": "anywidget",
      "model_module_version": "0.9.3",
      "model_name": "AnyModel",
      "state": {
       "_anywidget_id": "ipywui.widgets.custom.message.MessageWidget",
       "_css": ".wui-message-root {\n    display: flex;\n    position: absolute;\n    left: 0;\n    right: 0;\n    top: 0;\n}\n\n.wui-message-container {\n    align-items: center;\n    display: flex;\n    flex-direction: column-reverse;\n    justify-content: center;\n    min-height: 100%;\n    outline: none;\n    width: 100%;\n\n    -webkit-tap-highlight-color: rgba(0,0,0,0);\n    bottom: 0;\n    left: 0;\n    right: 0;\n    top: 0;\n}\n\n.wui-message--success {\n    --wui-message-bg-color: #f0f9eb;\n    --wui-message-border-color: #e1f3d8;\n    --wui-message-text-color: #67c23a;\n}\n.wui-message--warning {\n    --wui-message-bg-color: #fdf6ec;\n    --wui-message-border-color: #faecd8;\n    --wui-message-text-color: #e6a23c;\n}\n.wui-message--info {\n    --wui-message-bg-color: #f4f4f5;\n    --wui-message-border-color: #e9e9eb;\n    --wui-message-text-color: #909399;\n}\n.wui-message--error {\n    --wui-message-bg-color: #fef0f0;\n    --wui-message-border-color: #fde2e2;\n    --wui-message-text-color: #f56c6c;\n}\n\n@keyframes msg-open {\n    0% {\n        opacity: 0;\n        -webkit-transform: translateY(-120%);\n        transform: translateY(-120%)\n    }\n    to {\n        -webkit-transform: translateY(0);\n        transform: translateY(0)\n    }\n}\n\n@keyframes msg-close {\n    0% {\n        opacity: 1;\n        -webkit-transform: scale(1);\n        transform: scale(1)\n    }\n    to {\n        opacity: 0;\n        -webkit-transform: scale(.9);\n        transform: scale(.9)\n    }\n}\n.wui-message[data-state=entered],.wui-message[data-state=entering] {\n    -webkit-animation: msg-open .24s cubic-bezier(.175,.885,.32,1.175) both;\n    animation: msg-open .24s cubic-bezier(.175,.885,.32,1.175) both\n}\n\n.wui-message[data-state=exiting] {\n    -webkit-animation: msg-close .12s cubic-bezier(.4,0,1,1) both;\n    animation: msg-close .12s cubic-bezier(.4,0,1,1) both\n}\n\n.wui-message {\n    width: -webkit-fit-content;\n    width: -moz-fit-content;\n    width: fit-content;\n    z-index: 2004;\n    max-width: calc(100% - 32px);\n    margin-top: 8px;\n    box-sizing: border-box;\n    /*border-radius: var(--wui-border-radius-base);*/\n    /*border-width: var(--wui-border-width);*/\n    /*border-style: var(--wui-border-style);*/\n    border-color: var(--wui-message-border-color);\n    /*left: 50%;*/\n    /*top: 20px;*/\n    /*transform: translateX(-50%);*/\n    background-color: var(--wui-message-bg-color);\n    /*transition: opacity var(--wui-transition-duration),transform .4s,top .4s;*/\n    /*padding: var(--wui-message-padding);*/\n    display: flex;\n    align-items: center;\n}\n\n/*.wui-message--success */\n.wui-message__content {\n    color: var(--wui-message-text-color);\n    font-size: 14px;\n    line-height: 18px;\n    margin: 10px 14px 10px 14px;\n    overflow-wrap: break-word;\n}\n\n.wui-message__closeBtn {\n    /*cursor: pointer;*/\n    font-style: normal;\n    /*color: gray;*/\n    padding-right: 14px;\n    /*font-size: 13px;*/\n    user-select: none;\n\n    background: transparent;\n    border: none;\n    color: gray;\n    cursor: pointer;\n    font-size: 13px;\n    font-weight: 400;\n    line-height: 1;\n    outline: none;\n    /*padding: 4px;*/\n    text-align: center;\n    transition: opacity .3s;\n    /*width: 100%;*/\n}",
       "_esm": "function closeMsg(msgDom) {\n  if (!msgDom) {\n    return;\n  }\n  msgDom.setAttribute('data-state', 'exiting');\n  msgDom.remove();\n}\n\nfunction createMsg(options) {\n  const {message, msg_id, type = 'info', show_close = false} = options;\n  const msgDom = document.createElement('div');\n  msgDom.className += ` wui-message--${type} wui-message`;\n  msgDom.setAttribute('data-state', 'entered');\n  msgDom.setAttribute('id', msg_id);\n  const msgContent = document.createElement('p');\n  msgContent.className += ` wui-message--${type} wui-message__content`;\n  msgContent.innerText = message;\n  msgDom.appendChild(msgContent);\n  if (show_close) {\n    const closeBtn = document.createElement('i');\n    closeBtn.className += 'wui-message__closeBtn';\n    closeBtn.innerText = 'x';\n    closeBtn.addEventListener('click', (ev) => {\n      closeMsg(msgDom);\n    })\n    msgDom.appendChild(closeBtn);\n  }\n  return msgDom;\n}\n\nexport async function render(view) {\n  let model = view.model;\n  const msgRoot = view.el;\n  msgRoot.className += ' wui-message-root'\n\n  const msgContainer = document.createElement('div');\n  msgContainer.className += ' wui-message-container';\n  msgRoot.appendChild(msgContainer)\n\n  model.on(\"change:message_options\", () => {\n    const options = model.get(\"message_options\");\n    const msg = createMsg(options);\n    msgContainer.appendChild(msg);\n    const {duration = 3000} = options;\n    if (duration > 0) {\n      setTimeout(() => {\n        closeMsg(msg)\n      }, duration);\n    }\n  })\n\n  model.on(\"change:close_msg_id\", () => {\n    const msg_id = model.get(\"close_msg_id\");\n    const msgDom = document.getElementById(msg_id);\n    closeMsg(msgDom);\n  })\n}\n",
       "_model_module": "anywidget",
       "_model_module_version": "0.9.3",
       "_model_name": "AnyModel",
       "_view_module": "anywidget",
       "_view_module_version": "0.9.3",
       "_view_name": "AnyView",
       "close_msg_id": "",
       "layout": "IPY_MODEL_99055190c5604b369173a6e7e3a4be24",
       "message_options": {
        "duration": 3000,
        "message": "",
        "show_close": false,
        "type": "info"
       }
      }
     },
     "85dd23855cf04f40bfe3b88106921965": {
      "model_module": "@jupyter-widgets/base",
      "model_module_version": "2.0.0",
      "model_name": "LayoutModel",
      "state": {}
     },
     "89371248569f48648da9c949fdb9f37c": {
      "model_module": "@jupyter-widgets/controls",
      "model_module_version": "2.0.0",
      "model_name": "ButtonStyleModel",
      "state": {
       "button_color": "#e5e9f2",
       "font_family": null,
       "font_size": null,
       "font_style": null,
       "font_variant": null,
       "font_weight": null,
       "text_color": null,
       "text_decoration": null
      }
     },
     "8a52a8117ce44c34b371438d62352022": {
      "model_module": "@jupyter-widgets/base",
      "model_module_version": "2.0.0",
      "model_name": "LayoutModel",
      "state": {
       "grid_gap": "20px",
       "grid_template_areas": "\"widget001 widget001 widget001 widget001 widget001 widget001 widget002 widget002 widget002 widget002 widget002 widget002 widget003 widget003 widget003 widget003 widget003 widget003 widget004 widget004 widget004 widget004 widget004 widget004\"",
       "grid_template_columns": "repeat(24, 1fr)",
       "grid_template_rows": "repeat(1, 1fr)"
      }
     },
     "8b3b7a229db242528bdddcb04084ae96": {
      "model_module": "@jupyter-widgets/controls",
      "model_module_version": "2.0.0",
      "model_name": "ButtonStyleModel",
      "state": {
       "button_color": "#e5e9f2",
       "font_family": null,
       "font_size": null,
       "font_style": null,
       "font_variant": null,
       "font_weight": null,
       "text_color": null,
       "text_decoration": null
      }
     },
     "8bcfbc8972934a919c378a23d9e24417": {
      "model_module": "@jupyter-widgets/controls",
      "model_module_version": "2.0.0",
      "model_name": "ButtonModel",
      "state": {
       "description": "span 24",
       "layout": "IPY_MODEL_4a3a2ca7120e4af5bad10499589b2d8a",
       "style": "IPY_MODEL_1ef5acb4160a4d1abe8ca0eadc815660",
       "tooltip": null
      }
     },
     "8c8db6bb3def4669b2a296e8eaefceb5": {
      "model_module": "@jupyter-widgets/base",
      "model_module_version": "2.0.0",
      "model_name": "LayoutModel",
      "state": {
       "grid_gap": "20px",
       "grid_template_areas": "\"widget001 widget001 widget001 widget001 widget002 widget002 widget002 widget002 widget002 widget002 widget002 widget002 widget002 widget002 widget002 widget002 widget002 widget002 widget002 widget002 widget003 widget003 widget003 widget003\"",
       "grid_template_columns": "repeat(24, 1fr)",
       "grid_template_rows": "repeat(1, 1fr)"
      }
     },
     "8e34448ba4524c0595f47b54d337bb1b": {
      "model_module": "@jupyter-widgets/base",
      "model_module_version": "2.0.0",
      "model_name": "LayoutModel",
      "state": {
       "width": "auto"
      }
     },
     "8e7ee08339b54cdab0ada880a21827e7": {
      "model_module": "@jupyter-widgets/output",
      "model_module_version": "1.0.0",
      "model_name": "OutputModel",
      "state": {
       "layout": "IPY_MODEL_a9480bbe2c484e399e9c34c8f750a9fd",
       "outputs": [
        {
         "data": {
          "application/vnd.jupyter.widget-view+json": {
           "model_id": "107f39e3ec8c4e3dae41e71df9c398b8",
           "version_major": 2,
           "version_minor": 0
          },
          "text/plain": "VBox(children=(GridspecLayout(children=(VBox(children=(Button(description='span 16', layout=Layout(width='auto…"
         },
         "metadata": {},
         "output_type": "display_data"
        }
       ]
      }
     },
     "900f14d9172342499cb2fe1535ce3f85": {
      "model_module": "@jupyter-widgets/controls",
      "model_module_version": "2.0.0",
      "model_name": "ButtonStyleModel",
      "state": {
       "button_color": "#e5e9f2",
       "font_family": null,
       "font_size": null,
       "font_style": null,
       "font_variant": null,
       "font_weight": null,
       "text_color": null,
       "text_decoration": null
      }
     },
     "92d53c61b25d437c90e5d81bc984799f": {
      "model_module": "@jupyter-widgets/base",
      "model_module_version": "2.0.0",
      "model_name": "LayoutModel",
      "state": {
       "grid_area": "widget002"
      }
     },
     "93b69c06122f4c6aabc58d9879fcf042": {
      "model_module": "@jupyter-widgets/controls",
      "model_module_version": "2.0.0",
      "model_name": "ButtonStyleModel",
      "state": {
       "button_color": "#d4dde6",
       "font_family": null,
       "font_size": null,
       "font_style": null,
       "font_variant": null,
       "font_weight": null,
       "text_color": null,
       "text_decoration": null
      }
     },
     "99055190c5604b369173a6e7e3a4be24": {
      "model_module": "@jupyter-widgets/base",
      "model_module_version": "2.0.0",
      "model_name": "LayoutModel",
      "state": {}
     },
     "99555286593b4daab66d87d988896946": {
      "model_module": "@jupyter-widgets/controls",
      "model_module_version": "2.0.0",
      "model_name": "VBoxModel",
      "state": {
       "children": [
        "IPY_MODEL_a5783beae803416aa2ab62ea5e01dc93"
       ],
       "layout": "IPY_MODEL_47c772f31bf147bfaf357d51bfc14272"
      }
     },
     "9b64915a1cbe4a07b8b3f69212c64776": {
      "model_module": "@jupyter-widgets/controls",
      "model_module_version": "2.0.0",
      "model_name": "ButtonModel",
      "state": {
       "description": "span 8",
       "layout": "IPY_MODEL_f45c6895cd744327b3959c456689a53a",
       "style": "IPY_MODEL_3b1ce59cbcca4214b8ee28ed1a096da5",
       "tooltip": null
      }
     },
     "a0263eb5f7a74e66b5a01736f74b8b76": {
      "model_module": "@jupyter-widgets/controls",
      "model_module_version": "2.0.0",
      "model_name": "VBoxModel",
      "state": {
       "children": [
        "IPY_MODEL_4eb9f8a78f9c4f23812e9513e8bb8ee0"
       ],
       "layout": "IPY_MODEL_fce3384f45344127880a6ad451463684"
      }
     },
     "a060e23b79da44e1ba90312d1de8f58e": {
      "model_module": "@jupyter-widgets/controls",
      "model_module_version": "2.0.0",
      "model_name": "ButtonModel",
      "state": {
       "description": "offset 6 span 8",
       "layout": "IPY_MODEL_b0c78cefd9bd477d9daf031909094016",
       "style": "IPY_MODEL_8b3b7a229db242528bdddcb04084ae96",
       "tooltip": null
      }
     },
     "a1f4599c0cfe4cada9043f824801a0ea": {
      "model_module": "@jupyter-widgets/base",
      "model_module_version": "2.0.0",
      "model_name": "LayoutModel",
      "state": {
       "grid_area": "widget001"
      }
     },
     "a2c0329f85674568a01d15083b7837f0": {
      "model_module": "@jupyter-widgets/base",
      "model_module_version": "2.0.0",
      "model_name": "LayoutModel",
      "state": {}
     },
     "a5783beae803416aa2ab62ea5e01dc93": {
      "model_module": "@jupyter-widgets/controls",
      "model_module_version": "2.0.0",
      "model_name": "ButtonModel",
      "state": {
       "description": "offset 6 span 12",
       "layout": "IPY_MODEL_764e5321b12148c0aa94da67e8eee695",
       "style": "IPY_MODEL_6e021140f49041cda6f2025c1cc69b08",
       "tooltip": null
      }
     },
     "a6ae2fc507074096b64212fc99bd501a": {
      "model_module": "@jupyter-widgets/controls",
      "model_module_version": "2.0.0",
      "model_name": "ButtonStyleModel",
      "state": {
       "button_color": "#e5e9f2",
       "font_family": null,
       "font_size": null,
       "font_style": null,
       "font_variant": null,
       "font_weight": null,
       "text_color": null,
       "text_decoration": null
      }
     },
     "a74719847e7b4571aeef40c5df123ab5": {
      "model_module": "@jupyter-widgets/base",
      "model_module_version": "2.0.0",
      "model_name": "LayoutModel",
      "state": {
       "width": "auto"
      }
     },
     "a7b4d3e8bfcc4ce0a9d0264c3289590b": {
      "model_module": "@jupyter-widgets/base",
      "model_module_version": "2.0.0",
      "model_name": "LayoutModel",
      "state": {
       "width": "auto"
      }
     },
     "a9480bbe2c484e399e9c34c8f750a9fd": {
      "model_module": "@jupyter-widgets/base",
      "model_module_version": "2.0.0",
      "model_name": "LayoutModel",
      "state": {}
     },
     "a96d5788496441a58467e75109f2b993": {
      "model_module": "@jupyter-widgets/controls",
      "model_module_version": "2.0.0",
      "model_name": "VBoxModel",
      "state": {
       "children": [
        "IPY_MODEL_5c6a960a6eb64045ae880f65fecf9d50"
       ],
       "layout": "IPY_MODEL_92d53c61b25d437c90e5d81bc984799f"
      }
     },
     "aa22a275309b45228361a01686eb560c": {
      "model_module": "@jupyter-widgets/controls",
      "model_module_version": "2.0.0",
      "model_name": "ButtonModel",
      "state": {
       "description": "span 4",
       "layout": "IPY_MODEL_a74719847e7b4571aeef40c5df123ab5",
       "style": "IPY_MODEL_e7d9c1508458460fb0c8b15f0f17b36a",
       "tooltip": null
      }
     },
     "ad83a3e3b40947dc947b6e4e980e8772": {
      "model_module": "@jupyter-widgets/base",
      "model_module_version": "2.0.0",
      "model_name": "LayoutModel",
      "state": {
       "grid_area": "widget004"
      }
     },
     "adb34f47af484632b6b93b882dc8368d": {
      "model_module": "@jupyter-widgets/base",
      "model_module_version": "2.0.0",
      "model_name": "LayoutModel",
      "state": {
       "width": "auto"
      }
     },
     "b0c78cefd9bd477d9daf031909094016": {
      "model_module": "@jupyter-widgets/base",
      "model_module_version": "2.0.0",
      "model_name": "LayoutModel",
      "state": {
       "width": "auto"
      }
     },
     "b292c261a7c24c97bbfbfb813562125d": {
      "model_module": "@jupyter-widgets/controls",
      "model_module_version": "2.0.0",
      "model_name": "ButtonModel",
      "state": {
       "description": "span 8",
       "layout": "IPY_MODEL_c2568669bc8c473699d90cc1ac144475",
       "style": "IPY_MODEL_ca0b8747cf234599b676f695b4db1dcb",
       "tooltip": null
      }
     },
     "b33afde09a2644b8b829a13f43557330": {
      "model_module": "@jupyter-widgets/base",
      "model_module_version": "2.0.0",
      "model_name": "LayoutModel",
      "state": {
       "grid_area": "widget001"
      }
     },
     "b34ba1eebfac4881985d21ef5d4ed51a": {
      "model_module": "@jupyter-widgets/controls",
      "model_module_version": "2.0.0",
      "model_name": "VBoxModel",
      "state": {
       "children": [
        "IPY_MODEL_238d80d79d2048e798eaded2b90da79a"
       ],
       "layout": "IPY_MODEL_b33afde09a2644b8b829a13f43557330"
      }
     },
     "b47ed9de9b504688ae35e3ace75f8ded": {
      "model_module": "@jupyter-widgets/controls",
      "model_module_version": "2.0.0",
      "model_name": "ButtonStyleModel",
      "state": {
       "button_color": "#d4dde6",
       "font_family": null,
       "font_size": null,
       "font_style": null,
       "font_variant": null,
       "font_weight": null,
       "text_color": null,
       "text_decoration": null
      }
     },
     "b747b6782af7436fabd6e8fe7316dd0c": {
      "model_module": "@jupyter-widgets/controls",
      "model_module_version": "2.0.0",
      "model_name": "GridBoxModel",
      "state": {
       "children": [
        "IPY_MODEL_b34ba1eebfac4881985d21ef5d4ed51a",
        "IPY_MODEL_a96d5788496441a58467e75109f2b993",
        "IPY_MODEL_7d3263004f804b93aa294878b044ac75",
        "IPY_MODEL_50c604e33e354d4784ba1c876f5693b8"
       ],
       "layout": "IPY_MODEL_8a52a8117ce44c34b371438d62352022"
      }
     },
     "b7753a52ab6741ee802e43b2139ef333": {
      "model_module": "@jupyter-widgets/base",
      "model_module_version": "2.0.0",
      "model_name": "LayoutModel",
      "state": {
       "grid_template_areas": "\"widget001 widget001 widget001 widget001 widget001 widget001 widget001 widget001 widget002 widget002 widget002 widget002 widget002 widget002 widget002 widget002 widget003 widget003 widget003 widget003 widget003 widget003 widget003 widget003\"",
       "grid_template_columns": "repeat(24, 1fr)",
       "grid_template_rows": "repeat(1, 1fr)"
      }
     },
     "bafaba2240134dd1912113d292af8738": {
      "model_module": "@jupyter-widgets/base",
      "model_module_version": "2.0.0",
      "model_name": "LayoutModel",
      "state": {
       "grid_area": "widget003"
      }
     },
     "bd85c3f945dc421397db87b8b17d2ca5": {
      "model_module": "@jupyter-widgets/controls",
      "model_module_version": "2.0.0",
      "model_name": "ButtonModel",
      "state": {
       "description": "span 8",
       "layout": "IPY_MODEL_c9821fc43b2f4a818ca6f2f64152db4a",
       "style": "IPY_MODEL_93b69c06122f4c6aabc58d9879fcf042",
       "tooltip": null
      }
     },
     "be7ee325d64143e88eca4145e3707727": {
      "model_module": "@jupyter-widgets/base",
      "model_module_version": "2.0.0",
      "model_name": "LayoutModel",
      "state": {
       "grid_area": "widget004"
      }
     },
     "bfab5e2590694a67853a6783d4e5f2e1": {
      "model_module": "@jupyter-widgets/controls",
      "model_module_version": "2.0.0",
      "model_name": "GridBoxModel",
      "state": {
       "children": [
        "IPY_MODEL_d99e53a633e54813924acd562534e215",
        "IPY_MODEL_d152d6ffe2ac4d7881113a0d71cdb38d"
       ],
       "layout": "IPY_MODEL_4c7efe0342934996a2ed4a1482f488ff"
      }
     },
     "c12947c7e8d04363956a11555207423d": {
      "model_module": "@jupyter-widgets/base",
      "model_module_version": "2.0.0",
      "model_name": "LayoutModel",
      "state": {
       "width": "auto"
      }
     },
     "c1d5f1b9b53b4b5083a26ba8abab8939": {
      "model_module": "@jupyter-widgets/controls",
      "model_module_version": "2.0.0",
      "model_name": "ButtonModel",
      "state": {
       "description": "span 6",
       "layout": "IPY_MODEL_02d8defac82c4ac1b933482caf58c69a",
       "style": "IPY_MODEL_89371248569f48648da9c949fdb9f37c",
       "tooltip": null
      }
     },
     "c2568669bc8c473699d90cc1ac144475": {
      "model_module": "@jupyter-widgets/base",
      "model_module_version": "2.0.0",
      "model_name": "LayoutModel",
      "state": {
       "width": "auto"
      }
     },
     "c6f64de2e71a48e096003a4e6025a8c0": {
      "model_module": "@jupyter-widgets/controls",
      "model_module_version": "2.0.0",
      "model_name": "GridBoxModel",
      "state": {
       "children": [
        "IPY_MODEL_587aa33b0d77484a8fc8455965acb1c6",
        "IPY_MODEL_2ca0ff5e6a334479b67c3a0e96baacbd",
        "IPY_MODEL_8467f774bf3d40349dfd7c956a6d1d47"
       ],
       "layout": "IPY_MODEL_8c8db6bb3def4669b2a296e8eaefceb5"
      }
     },
     "c75921d5ee4b44558c7a4ef6d2b2ea87": {
      "model_module": "@jupyter-widgets/base",
      "model_module_version": "2.0.0",
      "model_name": "LayoutModel",
      "state": {
       "width": "auto"
      }
     },
     "c7e3aeee121645aab101e771f7f895d9": {
      "model_module": "@jupyter-widgets/controls",
      "model_module_version": "2.0.0",
      "model_name": "ButtonStyleModel",
      "state": {
       "button_color": "#d4dde6",
       "font_family": null,
       "font_size": null,
       "font_style": null,
       "font_variant": null,
       "font_weight": null,
       "text_color": null,
       "text_decoration": null
      }
     },
     "c979c8730c744a60805dc1c1dec53e83": {
      "model_module": "@jupyter-widgets/controls",
      "model_module_version": "2.0.0",
      "model_name": "VBoxModel",
      "state": {
       "children": [
        "IPY_MODEL_f348409313294b8c9eb226c041fe4a67"
       ],
       "layout": "IPY_MODEL_460c221d9511449c85700c044ba33cdc"
      }
     },
     "c9821fc43b2f4a818ca6f2f64152db4a": {
      "model_module": "@jupyter-widgets/base",
      "model_module_version": "2.0.0",
      "model_name": "LayoutModel",
      "state": {
       "width": "auto"
      }
     },
     "c99e4d56514d43209c8c7601698b4ff6": {
      "model_module": "@jupyter-widgets/base",
      "model_module_version": "2.0.0",
      "model_name": "LayoutModel",
      "state": {
       "grid_area": "widget001"
      }
     },
     "c9a898c2efca44e5a3a1a80fef75d2bb": {
      "model_module": "@jupyter-widgets/controls",
      "model_module_version": "2.0.0",
      "model_name": "ButtonStyleModel",
      "state": {
       "button_color": "#d4dde6",
       "font_family": null,
       "font_size": null,
       "font_style": null,
       "font_variant": null,
       "font_weight": null,
       "text_color": null,
       "text_decoration": null
      }
     },
     "c9f971f1174b4ba4a310215d9a2e55ef": {
      "model_module": "@jupyter-widgets/base",
      "model_module_version": "2.0.0",
      "model_name": "LayoutModel",
      "state": {}
     },
     "ca0b8747cf234599b676f695b4db1dcb": {
      "model_module": "@jupyter-widgets/controls",
      "model_module_version": "2.0.0",
      "model_name": "ButtonStyleModel",
      "state": {
       "button_color": "#d4dde6",
       "font_family": null,
       "font_size": null,
       "font_style": null,
       "font_variant": null,
       "font_weight": null,
       "text_color": null,
       "text_decoration": null
      }
     },
     "ca83ba75fb704fafb040a9c6e956c2ec": {
      "model_module": "@jupyter-widgets/controls",
      "model_module_version": "2.0.0",
      "model_name": "GridBoxModel",
      "state": {
       "children": [
        "IPY_MODEL_99555286593b4daab66d87d988896946"
       ],
       "layout": "IPY_MODEL_e2503876ba7440f5a902a4634c6938d8"
      }
     },
     "cad8ed75ab4847d798c423c375a6c215": {
      "model_module": "anywidget",
      "model_module_version": "0.9.3",
      "model_name": "AnyModel",
      "state": {
       "_anywidget_id": "ipywui.widgets.custom.message.MessageWidget",
       "_css": ".wui-message-root {\n    display: flex;\n    position: absolute;\n    left: 0;\n    right: 0;\n    top: 0;\n}\n\n.wui-message-container {\n    align-items: center;\n    display: flex;\n    flex-direction: column-reverse;\n    justify-content: center;\n    min-height: 100%;\n    outline: none;\n    width: 100%;\n\n    -webkit-tap-highlight-color: rgba(0,0,0,0);\n    bottom: 0;\n    left: 0;\n    right: 0;\n    top: 0;\n}\n\n.wui-message--success {\n    --wui-message-bg-color: #f0f9eb;\n    --wui-message-border-color: #e1f3d8;\n    --wui-message-text-color: #67c23a;\n}\n.wui-message--warning {\n    --wui-message-bg-color: #fdf6ec;\n    --wui-message-border-color: #faecd8;\n    --wui-message-text-color: #e6a23c;\n}\n.wui-message--info {\n    --wui-message-bg-color: #f4f4f5;\n    --wui-message-border-color: #e9e9eb;\n    --wui-message-text-color: #909399;\n}\n.wui-message--error {\n    --wui-message-bg-color: #fef0f0;\n    --wui-message-border-color: #fde2e2;\n    --wui-message-text-color: #f56c6c;\n}\n\n@keyframes msg-open {\n    0% {\n        opacity: 0;\n        -webkit-transform: translateY(-120%);\n        transform: translateY(-120%)\n    }\n    to {\n        -webkit-transform: translateY(0);\n        transform: translateY(0)\n    }\n}\n\n@keyframes msg-close {\n    0% {\n        opacity: 1;\n        -webkit-transform: scale(1);\n        transform: scale(1)\n    }\n    to {\n        opacity: 0;\n        -webkit-transform: scale(.9);\n        transform: scale(.9)\n    }\n}\n.wui-message[data-state=entered],.wui-message[data-state=entering] {\n    -webkit-animation: msg-open .24s cubic-bezier(.175,.885,.32,1.175) both;\n    animation: msg-open .24s cubic-bezier(.175,.885,.32,1.175) both\n}\n\n.wui-message[data-state=exiting] {\n    -webkit-animation: msg-close .12s cubic-bezier(.4,0,1,1) both;\n    animation: msg-close .12s cubic-bezier(.4,0,1,1) both\n}\n\n.wui-message {\n    width: -webkit-fit-content;\n    width: -moz-fit-content;\n    width: fit-content;\n    z-index: 2004;\n    max-width: calc(100% - 32px);\n    margin-top: 8px;\n    box-sizing: border-box;\n    /*border-radius: var(--wui-border-radius-base);*/\n    /*border-width: var(--wui-border-width);*/\n    /*border-style: var(--wui-border-style);*/\n    border-color: var(--wui-message-border-color);\n    /*left: 50%;*/\n    /*top: 20px;*/\n    /*transform: translateX(-50%);*/\n    background-color: var(--wui-message-bg-color);\n    /*transition: opacity var(--wui-transition-duration),transform .4s,top .4s;*/\n    /*padding: var(--wui-message-padding);*/\n    display: flex;\n    align-items: center;\n}\n\n/*.wui-message--success */\n.wui-message__content {\n    color: var(--wui-message-text-color);\n    font-size: 14px;\n    line-height: 18px;\n    margin: 10px 14px 10px 14px;\n    overflow-wrap: break-word;\n}\n\n.wui-message__closeBtn {\n    /*cursor: pointer;*/\n    font-style: normal;\n    /*color: gray;*/\n    padding-right: 14px;\n    /*font-size: 13px;*/\n    user-select: none;\n\n    background: transparent;\n    border: none;\n    color: gray;\n    cursor: pointer;\n    font-size: 13px;\n    font-weight: 400;\n    line-height: 1;\n    outline: none;\n    /*padding: 4px;*/\n    text-align: center;\n    transition: opacity .3s;\n    /*width: 100%;*/\n}",
       "_esm": "function closeMsg(msgDom) {\n  if (!msgDom) {\n    return;\n  }\n  msgDom.setAttribute('data-state', 'exiting');\n  msgDom.remove();\n}\n\nfunction createMsg(options) {\n  const {message, msg_id, type = 'info', show_close = false} = options;\n  const msgDom = document.createElement('div');\n  msgDom.className += ` wui-message--${type} wui-message`;\n  msgDom.setAttribute('data-state', 'entered');\n  msgDom.setAttribute('id', msg_id);\n  const msgContent = document.createElement('p');\n  msgContent.className += ` wui-message--${type} wui-message__content`;\n  msgContent.innerText = message;\n  msgDom.appendChild(msgContent);\n  if (show_close) {\n    const closeBtn = document.createElement('i');\n    closeBtn.className += 'wui-message__closeBtn';\n    closeBtn.innerText = 'x';\n    closeBtn.addEventListener('click', (ev) => {\n      closeMsg(msgDom);\n    })\n    msgDom.appendChild(closeBtn);\n  }\n  return msgDom;\n}\n\nexport async function render(view) {\n  let model = view.model;\n  const msgRoot = view.el;\n  msgRoot.className += ' wui-message-root'\n\n  const msgContainer = document.createElement('div');\n  msgContainer.className += ' wui-message-container';\n  msgRoot.appendChild(msgContainer)\n\n  model.on(\"change:message_options\", () => {\n    const options = model.get(\"message_options\");\n    const msg = createMsg(options);\n    msgContainer.appendChild(msg);\n    const {duration = 3000} = options;\n    if (duration > 0) {\n      setTimeout(() => {\n        closeMsg(msg)\n      }, duration);\n    }\n  })\n\n  model.on(\"change:close_msg_id\", () => {\n    const msg_id = model.get(\"close_msg_id\");\n    const msgDom = document.getElementById(msg_id);\n    closeMsg(msgDom);\n  })\n}\n",
       "_model_module": "anywidget",
       "_model_module_version": "0.9.3",
       "_model_name": "AnyModel",
       "_view_module": "anywidget",
       "_view_module_version": "0.9.3",
       "_view_name": "AnyView",
       "close_msg_id": "",
       "layout": "IPY_MODEL_c9f971f1174b4ba4a310215d9a2e55ef",
       "message_options": {
        "duration": 3000,
        "message": "",
        "show_close": false,
        "type": "info"
       }
      }
     },
     "cc861f498ab74f979380f6a27db7a773": {
      "model_module": "@jupyter-widgets/base",
      "model_module_version": "2.0.0",
      "model_name": "LayoutModel",
      "state": {
       "width": "auto"
      }
     },
     "ce24763cbdf740629540fd79dec8f103": {
      "model_module": "@jupyter-widgets/base",
      "model_module_version": "2.0.0",
      "model_name": "LayoutModel",
      "state": {
       "grid_area": "widget003"
      }
     },
     "cf07bf828e344236a252c6894839353e": {
      "model_module": "@jupyter-widgets/controls",
      "model_module_version": "2.0.0",
      "model_name": "VBoxModel",
      "state": {
       "children": [
        "IPY_MODEL_d8432599d8f84a468e3420427f90852f"
       ],
       "layout": "IPY_MODEL_614525c1555d41d2a324951da163b087"
      }
     },
     "d152d6ffe2ac4d7881113a0d71cdb38d": {
      "model_module": "@jupyter-widgets/controls",
      "model_module_version": "2.0.0",
      "model_name": "VBoxModel",
      "state": {
       "children": [
        "IPY_MODEL_a060e23b79da44e1ba90312d1de8f58e"
       ],
       "layout": "IPY_MODEL_6f212a944a87474b8ed4cd057adb9218"
      }
     },
     "d4b620b6d29447259defa319f1f60cbb": {
      "model_module": "@jupyter-widgets/controls",
      "model_module_version": "2.0.0",
      "model_name": "ButtonModel",
      "state": {
       "description": "span 4",
       "layout": "IPY_MODEL_7b204420bb08413f923bead83a546dc2",
       "style": "IPY_MODEL_d6f66a65a01b4ddfafc081c7e0bb9285",
       "tooltip": null
      }
     },
     "d4d6ff554a384fdb8d735c66d41640da": {
      "model_module": "@jupyter-widgets/base",
      "model_module_version": "2.0.0",
      "model_name": "LayoutModel",
      "state": {
       "grid_area": "widget002"
      }
     },
     "d6f66a65a01b4ddfafc081c7e0bb9285": {
      "model_module": "@jupyter-widgets/controls",
      "model_module_version": "2.0.0",
      "model_name": "ButtonStyleModel",
      "state": {
       "button_color": "#d4dde6",
       "font_family": null,
       "font_size": null,
       "font_style": null,
       "font_variant": null,
       "font_weight": null,
       "text_color": null,
       "text_decoration": null
      }
     },
     "d81cc1a9eb5d447faa36728c610b44b2": {
      "model_module": "@jupyter-widgets/controls",
      "model_module_version": "2.0.0",
      "model_name": "VBoxModel",
      "state": {
       "children": [
        "IPY_MODEL_df8b26f8d13c4e98a68c0c0952a2ed7e"
       ],
       "layout": "IPY_MODEL_c99e4d56514d43209c8c7601698b4ff6"
      }
     },
     "d8432599d8f84a468e3420427f90852f": {
      "model_module": "@jupyter-widgets/controls",
      "model_module_version": "2.0.0",
      "model_name": "VBoxModel",
      "state": {
       "children": [
        "IPY_MODEL_851a70448a434253ac13ec4f24bcb668",
        "IPY_MODEL_8e7ee08339b54cdab0ada880a21827e7"
       ],
       "layout": "IPY_MODEL_5a415c646cd64f989e9a0c1a6c7be3e8"
      }
     },
     "d99e53a633e54813924acd562534e215": {
      "model_module": "@jupyter-widgets/controls",
      "model_module_version": "2.0.0",
      "model_name": "VBoxModel",
      "state": {
       "children": [
        "IPY_MODEL_eab5d51994684eda83dfa195dd2c5b42"
       ],
       "layout": "IPY_MODEL_fdc0926513a1401e88ec7f31c6abb08e"
      }
     },
     "dc77f622f8b248a88d172f075bfdd2d2": {
      "model_module": "@jupyter-widgets/controls",
      "model_module_version": "2.0.0",
      "model_name": "VBoxModel",
      "state": {
       "children": [
        "IPY_MODEL_78fe9b8d053241d391b5d95e92240044"
       ],
       "layout": "IPY_MODEL_d4d6ff554a384fdb8d735c66d41640da"
      }
     },
     "dda0d52c9540435a8a440704d975912e": {
      "model_module": "@jupyter-widgets/base",
      "model_module_version": "2.0.0",
      "model_name": "LayoutModel",
      "state": {
       "width": "auto"
      }
     },
     "dec441eefee7460bac24833745f5617a": {
      "model_module": "@jupyter-widgets/controls",
      "model_module_version": "2.0.0",
      "model_name": "VBoxModel",
      "state": {
       "children": [
        "IPY_MODEL_2154e501f1d449688c4b92d4f225f4ab"
       ],
       "layout": "IPY_MODEL_85dd23855cf04f40bfe3b88106921965"
      }
     },
     "df8b26f8d13c4e98a68c0c0952a2ed7e": {
      "model_module": "@jupyter-widgets/controls",
      "model_module_version": "2.0.0",
      "model_name": "ButtonModel",
      "state": {
       "description": "span 12",
       "layout": "IPY_MODEL_326581fcd45946ccaab3327a0062d8db",
       "style": "IPY_MODEL_f30fcc6291744c41a6d88cfc8fd2e5b1",
       "tooltip": null
      }
     },
     "e2503876ba7440f5a902a4634c6938d8": {
      "model_module": "@jupyter-widgets/base",
      "model_module_version": "2.0.0",
      "model_name": "LayoutModel",
      "state": {
       "grid_template_areas": "\". . . . . . widget001 widget001 widget001 widget001 widget001 widget001 widget001 widget001 widget001 widget001 widget001 widget001 . . . . . .\"",
       "grid_template_columns": "repeat(24, 1fr)",
       "grid_template_rows": "repeat(1, 1fr)"
      }
     },
     "e3478038964f4ef781f534fbde836ec1": {
      "model_module": "@jupyter-widgets/base",
      "model_module_version": "2.0.0",
      "model_name": "LayoutModel",
      "state": {}
     },
     "e3e759f571bc4004a7614a4e904196e4": {
      "model_module": "@jupyter-widgets/controls",
      "model_module_version": "2.0.0",
      "model_name": "VBoxModel",
      "state": {
       "children": [
        "IPY_MODEL_c1d5f1b9b53b4b5083a26ba8abab8939"
       ],
       "layout": "IPY_MODEL_1526972854b34bd3a3aa453f93c9258c"
      }
     },
     "e5452d84bf8647a9987eb46428c5f1ee": {
      "model_module": "@jupyter-widgets/base",
      "model_module_version": "2.0.0",
      "model_name": "LayoutModel",
      "state": {
       "grid_template_areas": "\"widget001 widget001 widget001 widget001 widget001 widget001 widget001 widget001 widget001 widget001 widget001 widget001 widget001 widget001 widget001 widget001 widget001 widget001 widget001 widget001 widget001 widget001 widget001 widget001\"",
       "grid_template_columns": "repeat(24, 1fr)",
       "grid_template_rows": "repeat(1, 1fr)"
      }
     },
     "e5588aca8ce2408e8bb3dd14647cb291": {
      "model_module": "@jupyter-widgets/base",
      "model_module_version": "2.0.0",
      "model_name": "LayoutModel",
      "state": {}
     },
     "e5bdf633fee849288909bee50c321cdd": {
      "model_module": "@jupyter-widgets/base",
      "model_module_version": "2.0.0",
      "model_name": "LayoutModel",
      "state": {
       "width": "auto"
      }
     },
     "e762893882654c7d9b29045c16e9e778": {
      "model_module": "@jupyter-widgets/base",
      "model_module_version": "2.0.0",
      "model_name": "LayoutModel",
      "state": {
       "grid_template_areas": "\"widget001 widget001 widget001 widget001 widget001 widget001 widget002 widget002 widget002 widget002 widget002 widget002 widget003 widget003 widget003 widget003 widget003 widget003 widget004 widget004 widget004 widget004 widget004 widget004\"",
       "grid_template_columns": "repeat(24, 1fr)",
       "grid_template_rows": "repeat(1, 1fr)"
      }
     },
     "e7d9c1508458460fb0c8b15f0f17b36a": {
      "model_module": "@jupyter-widgets/controls",
      "model_module_version": "2.0.0",
      "model_name": "ButtonStyleModel",
      "state": {
       "button_color": "#e5e9f2",
       "font_family": null,
       "font_size": null,
       "font_style": null,
       "font_variant": null,
       "font_weight": null,
       "text_color": null,
       "text_decoration": null
      }
     },
     "e9703b93ccd54cd1a1a82a53fec3f045": {
      "model_module": "@jupyter-widgets/controls",
      "model_module_version": "2.0.0",
      "model_name": "VBoxModel",
      "state": {
       "children": [
        "IPY_MODEL_195fed68d8ff4de68e24c12cb35c40cb",
        "IPY_MODEL_f66ba81e3e054c17b3174c4bd3925745"
       ],
       "layout": "IPY_MODEL_7e9d2b2bb59d424bbfc22a52603e8a88"
      }
     },
     "e9eb1ed0cf7b47bbb36ca9f4fa15f08c": {
      "model_module": "@jupyter-widgets/base",
      "model_module_version": "2.0.0",
      "model_name": "LayoutModel",
      "state": {
       "grid_gap": "20px",
       "grid_template_areas": "\"widget001 widget001 widget001 widget001 widget001 widget001 widget001 widget001 widget001 widget001 widget001 widget001 widget001 widget001 widget001 widget001 widget002 widget002 widget002 widget002 widget002 widget002 widget002 widget002\"",
       "grid_template_columns": "repeat(24, 1fr)",
       "grid_template_rows": "repeat(1, 1fr)"
      }
     },
     "eab5d51994684eda83dfa195dd2c5b42": {
      "model_module": "@jupyter-widgets/controls",
      "model_module_version": "2.0.0",
      "model_name": "ButtonModel",
      "state": {
       "description": "span 6",
       "layout": "IPY_MODEL_f14b28c563a84dba8b075f16e9c4f973",
       "style": "IPY_MODEL_4b7694c73c3e4ab49e9c0801de581e24",
       "tooltip": null
      }
     },
     "edf667c6295b485bbd2aa0a988402872": {
      "model_module": "@jupyter-widgets/base",
      "model_module_version": "2.0.0",
      "model_name": "LayoutModel",
      "state": {}
     },
     "ef2f94e6395943978859ce6f0cfc5da0": {
      "model_module": "@jupyter-widgets/controls",
      "model_module_version": "2.0.0",
      "model_name": "VBoxModel",
      "state": {
       "children": [
        "IPY_MODEL_4cd9b413c0d74e96a6f63456c53fb795"
       ],
       "layout": "IPY_MODEL_ce24763cbdf740629540fd79dec8f103"
      }
     },
     "f14b28c563a84dba8b075f16e9c4f973": {
      "model_module": "@jupyter-widgets/base",
      "model_module_version": "2.0.0",
      "model_name": "LayoutModel",
      "state": {
       "width": "auto"
      }
     },
     "f2e19ee0579843068229046b1c23f1af": {
      "model_module": "@jupyter-widgets/controls",
      "model_module_version": "2.0.0",
      "model_name": "VBoxModel",
      "state": {
       "children": [
        "IPY_MODEL_aa22a275309b45228361a01686eb560c"
       ],
       "layout": "IPY_MODEL_ad83a3e3b40947dc947b6e4e980e8772"
      }
     },
     "f30fcc6291744c41a6d88cfc8fd2e5b1": {
      "model_module": "@jupyter-widgets/controls",
      "model_module_version": "2.0.0",
      "model_name": "ButtonStyleModel",
      "state": {
       "button_color": "#d4dde6",
       "font_family": null,
       "font_size": null,
       "font_style": null,
       "font_variant": null,
       "font_weight": null,
       "text_color": null,
       "text_decoration": null
      }
     },
     "f348409313294b8c9eb226c041fe4a67": {
      "model_module": "@jupyter-widgets/controls",
      "model_module_version": "2.0.0",
      "model_name": "ButtonModel",
      "state": {
       "description": "span 8",
       "layout": "IPY_MODEL_3793ffac48074dd1a5cfc2a40611dc33",
       "style": "IPY_MODEL_0fe03b2bc3964a59b7c8ba080a5c4f57",
       "tooltip": null
      }
     },
     "f4427bacc6cf4ce2b1b185effbf82cac": {
      "model_module": "@jupyter-widgets/controls",
      "model_module_version": "2.0.0",
      "model_name": "VBoxModel",
      "state": {
       "children": [
        "IPY_MODEL_bfab5e2590694a67853a6783d4e5f2e1",
        "IPY_MODEL_535181ce1a8847ddbca35d90ed3f29be",
        "IPY_MODEL_ca83ba75fb704fafb040a9c6e956c2ec"
       ],
       "layout": "IPY_MODEL_4a15764bb63c41e8b2117acc41bbc858"
      }
     },
     "f45c6895cd744327b3959c456689a53a": {
      "model_module": "@jupyter-widgets/base",
      "model_module_version": "2.0.0",
      "model_name": "LayoutModel",
      "state": {
       "width": "auto"
      }
     },
     "f515b37c382b4edb8ff55ba41b07fa58": {
      "model_module": "@jupyter-widgets/output",
      "model_module_version": "1.0.0",
      "model_name": "OutputModel",
      "state": {
       "layout": "IPY_MODEL_fad93863f6f2449491697c15a99b8835"
      }
     },
     "f5372b686c714e38bf5c2fc5eb149a66": {
      "model_module": "@jupyter-widgets/controls",
      "model_module_version": "2.0.0",
      "model_name": "VBoxModel",
      "state": {
       "children": [
        "IPY_MODEL_25c36b39470a4dd79e6b8959c623def6"
       ],
       "layout": "IPY_MODEL_5f6a1a4367cb42b3abd901b99e11fc70"
      }
     },
     "f56dd0c0834d4f1c93eeed19fbc71db0": {
      "model_module": "@jupyter-widgets/controls",
      "model_module_version": "2.0.0",
      "model_name": "GridBoxModel",
      "state": {
       "children": [
        "IPY_MODEL_2bc49d40bea7497385114bd98689a91d",
        "IPY_MODEL_74e885a7a4fa4fcfa0953d824acf4c63",
        "IPY_MODEL_f5372b686c714e38bf5c2fc5eb149a66"
       ],
       "layout": "IPY_MODEL_b7753a52ab6741ee802e43b2139ef333"
      }
     },
     "f66ba81e3e054c17b3174c4bd3925745": {
      "model_module": "@jupyter-widgets/output",
      "model_module_version": "1.0.0",
      "model_name": "OutputModel",
      "state": {
       "layout": "IPY_MODEL_e5588aca8ce2408e8bb3dd14647cb291",
       "outputs": [
        {
         "data": {
          "application/vnd.jupyter.widget-view+json": {
           "model_id": "625bfdc8fde74c009f7177cc2e8463fe",
           "version_major": 2,
           "version_minor": 0
          },
          "text/plain": "VBox(children=(GridspecLayout(children=(VBox(children=(Button(description='span 24', layout=Layout(width='auto…"
         },
         "metadata": {},
         "output_type": "display_data"
        }
       ]
      }
     },
     "f6a48930b4084d63b06d7811ab93fff4": {
      "model_module": "@jupyter-widgets/base",
      "model_module_version": "2.0.0",
      "model_name": "LayoutModel",
      "state": {
       "width": "auto"
      }
     },
     "f75c61b70ccc4bcc9c2a27f3cd1645b3": {
      "model_module": "@jupyter-widgets/controls",
      "model_module_version": "2.0.0",
      "model_name": "VBoxModel",
      "state": {
       "children": [
        "IPY_MODEL_745a30aa1f4343cdad462e9d12910941"
       ],
       "layout": "IPY_MODEL_1c205b3fc46e4eceae291b48c7fb07e0"
      }
     },
     "f793d6f9554040f39604619ccf2af053": {
      "model_module": "@jupyter-widgets/base",
      "model_module_version": "2.0.0",
      "model_name": "LayoutModel",
      "state": {}
     },
     "fad93863f6f2449491697c15a99b8835": {
      "model_module": "@jupyter-widgets/base",
      "model_module_version": "2.0.0",
      "model_name": "LayoutModel",
      "state": {}
     },
     "fbabea57a31b44cb853e8395fb13e1cf": {
      "model_module": "@jupyter-widgets/base",
      "model_module_version": "2.0.0",
      "model_name": "LayoutModel",
      "state": {
       "width": "auto"
      }
     },
     "fbd6713d96824ca780c761e1d3504bc3": {
      "model_module": "@jupyter-widgets/controls",
      "model_module_version": "2.0.0",
      "model_name": "ButtonModel",
      "state": {
       "layout": "IPY_MODEL_e5bdf633fee849288909bee50c321cdd",
       "style": "IPY_MODEL_323997a83e9149ee8eb3b8d9f5b42d43",
       "tooltip": null
      }
     },
     "fcc23ecd09cb4f8f81425e6f02926e9e": {
      "model_module": "@jupyter-widgets/controls",
      "model_module_version": "2.0.0",
      "model_name": "ButtonStyleModel",
      "state": {
       "button_color": "#d4dde6",
       "font_family": null,
       "font_size": null,
       "font_style": null,
       "font_variant": null,
       "font_weight": null,
       "text_color": null,
       "text_decoration": null
      }
     },
     "fce3384f45344127880a6ad451463684": {
      "model_module": "@jupyter-widgets/base",
      "model_module_version": "2.0.0",
      "model_name": "LayoutModel",
      "state": {
       "grid_area": "widget001"
      }
     },
     "fdc0926513a1401e88ec7f31c6abb08e": {
      "model_module": "@jupyter-widgets/base",
      "model_module_version": "2.0.0",
      "model_name": "LayoutModel",
      "state": {
       "grid_area": "widget001"
      }
     },
     "ffbad2a8ce27448eb649e182653fa834": {
      "model_module": "@jupyter-widgets/base",
      "model_module_version": "2.0.0",
      "model_name": "LayoutModel",
      "state": {
       "grid_area": "widget002"
      }
     }
    },
    "version_major": 2,
    "version_minor": 0
   }
  }
 },
 "nbformat": 4,
 "nbformat_minor": 5
}
