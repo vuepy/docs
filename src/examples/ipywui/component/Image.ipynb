{
 "cells": [
  {
   "cell_type": "markdown",
   "id": "a1e2fa29-7566-4426-be1e-a750658d83a5",
   "metadata": {},
   "source": [
    "# Image 图片\n",
    "\n",
    "图片容器，用于显示图片"
   ]
  },
  {
   "cell_type": "markdown",
   "id": "7cdc5e8c-2aa8-41d1-9461-3e451f6ef6ea",
   "metadata": {},
   "source": [
    "## 基础用法\n",
    "\n",
    "读取图片并显示。可以通过 `100px`, `50%` 等形式设置图片的宽、高。"
   ]
  },
  {
   "cell_type": "code",
   "execution_count": 1,
   "id": "f5928b17-e8c8-47b0-9774-a8bb1f7e6af3",
   "metadata": {},
   "outputs": [
    {
     "name": "stdout",
     "output_type": "stream",
     "text": [
      "{\"vue\": \"<!-- basic.vue -->\\n<template>\\n  <Image v-model=\\\"img.value\\\" format=\\\"png\\\" style=\\\"width: 300px\\\"></Image>\\n</template>\\n\\n<script setup>\\nimport Image from \\\"../../../src/ipywui/components/Image\\\";\\n</script>\\n<script lang=\\\"py\\\">\\nfrom vuepy import ref\\n\\nfile = open(\\\"jupyter_logo.png\\\", \\\"rb\\\")\\nimg = ref(file.read())\\n</script>\", \"setup\": 0}\n"
     ]
    },
    {
     "data": {
      "application/vnd.jupyter.widget-view+json": {
       "model_id": "ef27d876b58e4128aeefa89dd027446e",
       "version_major": 2,
       "version_minor": 0
      },
      "text/plain": [
       "Document(children=(Dom(children=(MessageWidget(message_options={'message': '', 'type': 'info', 'show_close': F…"
      ]
     },
     "execution_count": 1,
     "metadata": {},
     "output_type": "execute_result"
    }
   ],
   "source": [
    "import os\n",
    "import pathlib\n",
    "from vuepy.utils import magic\n",
    "\n",
    "cur_path = pathlib.Path()\n",
    "source_root = cur_path.absolute().parent.parent.parent\n",
    "os.chdir(source_root / 'examples' / 'ipywui' / 'image')\n",
    "\n",
    "%vuepy_demo basic.vue"
   ]
  },
  {
   "cell_type": "markdown",
   "id": "f2ce0eb3-5c85-41c5-a2ed-60c3bd028f5e",
   "metadata": {},
   "source": [
    "## 将 numpy ndarray作为图片显示\n",
    "\n",
    "先使用 PIL 转换为 png 图片后再显示。"
   ]
  },
  {
   "cell_type": "code",
   "execution_count": 2,
   "id": "212ff936-b457-4e8f-9b27-c37b6590aa86",
   "metadata": {},
   "outputs": [
    {
     "name": "stdout",
     "output_type": "stream",
     "text": [
      "{\"vue\": \"<!-- numpy_ndarray.vue -->\\n<template>\\n  <Image :value=\\\"rgb_png\\\" width=\\\"30%\\\"></Image>\\n  <Image :value=\\\"gray_png\\\" width=\\\"100px\\\"></Image>\\n</template>\\n\\n<script src=\\\"./numpy_ndarray.py\\\"></script>\\n<script>\\nimport Image from \\\"../../../build/lib/ipywui/components/Image\\\";\\n</script>\\n\", \"setup\": \"# ./numpy_ndarray.py\\n\\nimport io\\nimport numpy as np\\nfrom PIL import Image\\n\\n\\ndef setup(props, ctx, vm):\\n    img_array = np.zeros([100, 100, 3], dtype=np.uint8)\\n    img_array[:, :, 2] = 200\\n    buf = io.BytesIO()\\n\\n    img = Image.fromarray(img_array)\\n    # to rgb img\\n    img.save(buf, format=\\\"PNG\\\")\\n\\n    rgb_png = buf.getvalue()\\n\\n\\n    img_array = np.zeros([100, 100, 1], dtype=np.uint8)\\n    img_array += 122\\n    buf = io.BytesIO()\\n\\n    img = Image.fromarray(img_array.squeeze(), 'L')\\n    # to gray img\\n    img.save(buf, format=\\\"PNG\\\")\\n\\n    gray_png = buf.getvalue()\\n\\n    return locals()\\n\"}\n"
     ]
    },
    {
     "data": {
      "application/vnd.jupyter.widget-view+json": {
       "model_id": "185feda01d9a44fea0eb0c21ba01d186",
       "version_major": 2,
       "version_minor": 0
      },
      "text/plain": [
       "Document(children=(Dom(children=(MessageWidget(message_options={'message': '', 'type': 'info', 'show_close': F…"
      ]
     },
     "execution_count": 2,
     "metadata": {},
     "output_type": "execute_result"
    }
   ],
   "source": [
    "%vuepy_demo numpy_ndarray.vue"
   ]
  },
  {
   "cell_type": "markdown",
   "id": "8685d144-029f-4afa-8547-4f3d84529504",
   "metadata": {},
   "source": [
    "## API\n",
    "\n",
    "### 属性\n",
    "\n",
    "| 属性名        | 说明                 | 类型                                                           | 默认值 |\n",
    "| --------     | ------------------- | ---------------------------------------------------------------| ------- |\n",
    "| v-model/value | 绑定值，图片二进制数据 | ^[bytes]                                                         | —       |\n",
    "| format | 图片格式 | ^[str]                                                         | png      |\n",
    "| width | 图片的宽 | ^[str]                                                         | -      |\n",
    "| height | 图片的高 | ^[str]                                                         | -      |\n",
    "| style    | 自定义css样式             | ^[str]                                                         | -       |\n",
    "\n",
    "::: tip\n",
    "\n",
    "**style 支持的其它css属性**\n",
    "\n",
    "Sizes相关\n",
    "* height\n",
    "* width\n",
    "* max_height\n",
    "* max_width\n",
    "* min_height\n",
    "* min_width\n",
    "\n",
    "Display相关\n",
    "* visibility\n",
    "* display\n",
    "* overflow\n",
    "\n",
    "Box model相关\n",
    "* border\n",
    "* margin\n",
    "* padding\n",
    "\n",
    "Positioning相关\n",
    "* top\n",
    "* left\n",
    "* bottom\n",
    "* right\n",
    "\n",
    ":::\n",
    "\n",
    "### 方法\n",
    "\n",
    "| 属性名 | 说明 | 类型 |\n",
    "| --- | --- | --- |\n"
   ]
  }
 ],
 "metadata": {
  "kernelspec": {
   "display_name": "Python 3 (ipykernel)",
   "language": "python",
   "name": "python3"
  },
  "language_info": {
   "codemirror_mode": {
    "name": "ipython",
    "version": 3
   },
   "file_extension": ".py",
   "mimetype": "text/x-python",
   "name": "python",
   "nbconvert_exporter": "python",
   "pygments_lexer": "ipython3",
   "version": "3.10.12"
  },
  "widgets": {
   "application/vnd.jupyter.widget-state+json": {
    "state": {
     "02be50d254064c30b145a46735d411fc": {
      "buffers": [
       {
        "data": "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",
        "encoding": "base64",
        "path": [
         "value"
        ]
       }
      ],
      "model_module": "@jupyter-widgets/controls",
      "model_module_version": "2.0.0",
      "model_name": "ImageModel",
      "state": {
       "layout": "IPY_MODEL_b8c48d642e0044b6a8ef272dbfe14d85"
      }
     },
     "02cd2daea8ad444885e01783a6bdf487": {
      "model_module": "@jupyter-widgets/controls",
      "model_module_version": "2.0.0",
      "model_name": "VBoxModel",
      "state": {
       "children": [
        "IPY_MODEL_73d6974e9ee145acb9e7a7f30dae7b17",
        "IPY_MODEL_73d6974e9ee145acb9e7a7f30dae7b17",
        "IPY_MODEL_8ba9b66522a64cb798b4f1fda65e607f"
       ],
       "layout": "IPY_MODEL_4f3efbc9215e4e6d92c60c5c3de3ee67"
      }
     },
     "0bb31c39f9f54584a31910ef51ddcc87": {
      "model_module": "@jupyter-widgets/base",
      "model_module_version": "2.0.0",
      "model_name": "LayoutModel",
      "state": {}
     },
     "0c294c3cb8cb4939ba66d28bee0b9268": {
      "model_module": "@jupyter-widgets/base",
      "model_module_version": "2.0.0",
      "model_name": "LayoutModel",
      "state": {}
     },
     "1608d7caad2342d38e3891d76d4680c9": {
      "model_module": "@jupyter-widgets/controls",
      "model_module_version": "2.0.0",
      "model_name": "VBoxModel",
      "state": {
       "children": [
        "IPY_MODEL_6cb8d0aabde543edac7f55b188da538d"
       ],
       "layout": "IPY_MODEL_bc2d7cbdaf4849ddb31aa23a1f995fad"
      }
     },
     "185feda01d9a44fea0eb0c21ba01d186": {
      "model_module": "@jupyter-widgets/controls",
      "model_module_version": "2.0.0",
      "model_name": "VBoxModel",
      "state": {
       "children": [
        "IPY_MODEL_02cd2daea8ad444885e01783a6bdf487"
       ],
       "layout": "IPY_MODEL_0bb31c39f9f54584a31910ef51ddcc87"
      }
     },
     "1da946d54d824421b2c4c981403ec8ef": {
      "model_module": "anywidget",
      "model_module_version": "0.9.3",
      "model_name": "AnyModel",
      "state": {
       "_anywidget_id": "ipywui.widgets.custom.message.MessageWidget",
       "_css": ".wui-message-root {\n    display: flex;\n    position: absolute;\n    left: 0;\n    right: 0;\n    top: 0;\n}\n\n.wui-message-container {\n    align-items: center;\n    display: flex;\n    flex-direction: column-reverse;\n    justify-content: center;\n    min-height: 100%;\n    outline: none;\n    width: 100%;\n\n    -webkit-tap-highlight-color: rgba(0,0,0,0);\n    bottom: 0;\n    left: 0;\n    right: 0;\n    top: 0;\n}\n\n.wui-message--success {\n    --wui-message-bg-color: #f0f9eb;\n    --wui-message-border-color: #e1f3d8;\n    --wui-message-text-color: #67c23a;\n}\n.wui-message--warning {\n    --wui-message-bg-color: #fdf6ec;\n    --wui-message-border-color: #faecd8;\n    --wui-message-text-color: #e6a23c;\n}\n.wui-message--info {\n    --wui-message-bg-color: #f4f4f5;\n    --wui-message-border-color: #e9e9eb;\n    --wui-message-text-color: #909399;\n}\n.wui-message--error {\n    --wui-message-bg-color: #fef0f0;\n    --wui-message-border-color: #fde2e2;\n    --wui-message-text-color: #f56c6c;\n}\n\n@keyframes msg-open {\n    0% {\n        opacity: 0;\n        -webkit-transform: translateY(-120%);\n        transform: translateY(-120%)\n    }\n    to {\n        -webkit-transform: translateY(0);\n        transform: translateY(0)\n    }\n}\n\n@keyframes msg-close {\n    0% {\n        opacity: 1;\n        -webkit-transform: scale(1);\n        transform: scale(1)\n    }\n    to {\n        opacity: 0;\n        -webkit-transform: scale(.9);\n        transform: scale(.9)\n    }\n}\n.wui-message[data-state=entered],.wui-message[data-state=entering] {\n    -webkit-animation: msg-open .24s cubic-bezier(.175,.885,.32,1.175) both;\n    animation: msg-open .24s cubic-bezier(.175,.885,.32,1.175) both\n}\n\n.wui-message[data-state=exiting] {\n    -webkit-animation: msg-close .12s cubic-bezier(.4,0,1,1) both;\n    animation: msg-close .12s cubic-bezier(.4,0,1,1) both\n}\n\n.wui-message {\n    width: -webkit-fit-content;\n    width: -moz-fit-content;\n    width: fit-content;\n    z-index: 2004;\n    max-width: calc(100% - 32px);\n    margin-top: 8px;\n    box-sizing: border-box;\n    /*border-radius: var(--wui-border-radius-base);*/\n    /*border-width: var(--wui-border-width);*/\n    /*border-style: var(--wui-border-style);*/\n    border-color: var(--wui-message-border-color);\n    /*left: 50%;*/\n    /*top: 20px;*/\n    /*transform: translateX(-50%);*/\n    background-color: var(--wui-message-bg-color);\n    /*transition: opacity var(--wui-transition-duration),transform .4s,top .4s;*/\n    /*padding: var(--wui-message-padding);*/\n    display: flex;\n    align-items: center;\n}\n\n/*.wui-message--success */\n.wui-message__content {\n    color: var(--wui-message-text-color);\n    font-size: 14px;\n    line-height: 18px;\n    margin: 10px 14px 10px 14px;\n    overflow-wrap: break-word;\n}\n\n.wui-message__closeBtn {\n    /*cursor: pointer;*/\n    font-style: normal;\n    /*color: gray;*/\n    padding-right: 14px;\n    /*font-size: 13px;*/\n    user-select: none;\n\n    background: transparent;\n    border: none;\n    color: gray;\n    cursor: pointer;\n    font-size: 13px;\n    font-weight: 400;\n    line-height: 1;\n    outline: none;\n    /*padding: 4px;*/\n    text-align: center;\n    transition: opacity .3s;\n    /*width: 100%;*/\n}",
       "_esm": "function closeMsg(msgDom) {\n  if (!msgDom) {\n    return;\n  }\n  msgDom.setAttribute('data-state', 'exiting');\n  msgDom.remove();\n}\n\nfunction createMsg(options) {\n  const {message, msg_id, type = 'info', show_close = false} = options;\n  const msgDom = document.createElement('div');\n  msgDom.className += ` wui-message--${type} wui-message`;\n  msgDom.setAttribute('data-state', 'entered');\n  msgDom.setAttribute('id', msg_id);\n  const msgContent = document.createElement('p');\n  msgContent.className += ` wui-message--${type} wui-message__content`;\n  msgContent.innerText = message;\n  msgDom.appendChild(msgContent);\n  if (show_close) {\n    const closeBtn = document.createElement('i');\n    closeBtn.className += 'wui-message__closeBtn';\n    closeBtn.innerText = 'x';\n    closeBtn.addEventListener('click', (ev) => {\n      closeMsg(msgDom);\n    })\n    msgDom.appendChild(closeBtn);\n  }\n  return msgDom;\n}\n\nexport async function render(view) {\n  let model = view.model;\n  const msgRoot = view.el;\n  msgRoot.className += ' wui-message-root'\n\n  const msgContainer = document.createElement('div');\n  msgContainer.className += ' wui-message-container';\n  msgRoot.appendChild(msgContainer)\n\n  model.on(\"change:message_options\", () => {\n    const options = model.get(\"message_options\");\n    const msg = createMsg(options);\n    msgContainer.appendChild(msg);\n    const {duration = 3000} = options;\n    if (duration > 0) {\n      setTimeout(() => {\n        closeMsg(msg)\n      }, duration);\n    }\n  })\n\n  model.on(\"change:close_msg_id\", () => {\n    const msg_id = model.get(\"close_msg_id\");\n    const msgDom = document.getElementById(msg_id);\n    closeMsg(msgDom);\n  })\n}\n",
       "_model_module": "anywidget",
       "_model_module_version": "0.9.3",
       "_model_name": "AnyModel",
       "_view_module": "anywidget",
       "_view_module_version": "0.9.3",
       "_view_name": "AnyView",
       "close_msg_id": "",
       "layout": "IPY_MODEL_f048ee11e1f64704aa3deadf060b5c16",
       "message_options": {
        "duration": 3000,
        "message": "",
        "show_close": false,
        "type": "info"
       }
      }
     },
     "4f3efbc9215e4e6d92c60c5c3de3ee67": {
      "model_module": "@jupyter-widgets/base",
      "model_module_version": "2.0.0",
      "model_name": "LayoutModel",
      "state": {}
     },
     "6a67ae8b6cf44d81a01570682681e8e7": {
      "model_module": "@jupyter-widgets/base",
      "model_module_version": "2.0.0",
      "model_name": "LayoutModel",
      "state": {
       "width": "100px"
      }
     },
     "6ba31ad884e84488a3166a7ef6a2728e": {
      "model_module": "@jupyter-widgets/base",
      "model_module_version": "2.0.0",
      "model_name": "LayoutModel",
      "state": {}
     },
     "6cb8d0aabde543edac7f55b188da538d": {
      "model_module": "@jupyter-widgets/controls",
      "model_module_version": "2.0.0",
      "model_name": "VBoxModel",
      "state": {
       "children": [
        "IPY_MODEL_e368fc541d7345549c878fc1955ea439",
        "IPY_MODEL_81fadf78c40649d58fb301fcb6a2d0ad"
       ],
       "layout": "IPY_MODEL_98127ad0552349f0920b804636a04d4b"
      }
     },
     "73d6974e9ee145acb9e7a7f30dae7b17": {
      "model_module": "anywidget",
      "model_module_version": "0.9.3",
      "model_name": "AnyModel",
      "state": {
       "_anywidget_id": "ipywui.widgets.custom.message.MessageWidget",
       "_css": ".wui-message-root {\n    display: flex;\n    position: absolute;\n    left: 0;\n    right: 0;\n    top: 0;\n}\n\n.wui-message-container {\n    align-items: center;\n    display: flex;\n    flex-direction: column-reverse;\n    justify-content: center;\n    min-height: 100%;\n    outline: none;\n    width: 100%;\n\n    -webkit-tap-highlight-color: rgba(0,0,0,0);\n    bottom: 0;\n    left: 0;\n    right: 0;\n    top: 0;\n}\n\n.wui-message--success {\n    --wui-message-bg-color: #f0f9eb;\n    --wui-message-border-color: #e1f3d8;\n    --wui-message-text-color: #67c23a;\n}\n.wui-message--warning {\n    --wui-message-bg-color: #fdf6ec;\n    --wui-message-border-color: #faecd8;\n    --wui-message-text-color: #e6a23c;\n}\n.wui-message--info {\n    --wui-message-bg-color: #f4f4f5;\n    --wui-message-border-color: #e9e9eb;\n    --wui-message-text-color: #909399;\n}\n.wui-message--error {\n    --wui-message-bg-color: #fef0f0;\n    --wui-message-border-color: #fde2e2;\n    --wui-message-text-color: #f56c6c;\n}\n\n@keyframes msg-open {\n    0% {\n        opacity: 0;\n        -webkit-transform: translateY(-120%);\n        transform: translateY(-120%)\n    }\n    to {\n        -webkit-transform: translateY(0);\n        transform: translateY(0)\n    }\n}\n\n@keyframes msg-close {\n    0% {\n        opacity: 1;\n        -webkit-transform: scale(1);\n        transform: scale(1)\n    }\n    to {\n        opacity: 0;\n        -webkit-transform: scale(.9);\n        transform: scale(.9)\n    }\n}\n.wui-message[data-state=entered],.wui-message[data-state=entering] {\n    -webkit-animation: msg-open .24s cubic-bezier(.175,.885,.32,1.175) both;\n    animation: msg-open .24s cubic-bezier(.175,.885,.32,1.175) both\n}\n\n.wui-message[data-state=exiting] {\n    -webkit-animation: msg-close .12s cubic-bezier(.4,0,1,1) both;\n    animation: msg-close .12s cubic-bezier(.4,0,1,1) both\n}\n\n.wui-message {\n    width: -webkit-fit-content;\n    width: -moz-fit-content;\n    width: fit-content;\n    z-index: 2004;\n    max-width: calc(100% - 32px);\n    margin-top: 8px;\n    box-sizing: border-box;\n    /*border-radius: var(--wui-border-radius-base);*/\n    /*border-width: var(--wui-border-width);*/\n    /*border-style: var(--wui-border-style);*/\n    border-color: var(--wui-message-border-color);\n    /*left: 50%;*/\n    /*top: 20px;*/\n    /*transform: translateX(-50%);*/\n    background-color: var(--wui-message-bg-color);\n    /*transition: opacity var(--wui-transition-duration),transform .4s,top .4s;*/\n    /*padding: var(--wui-message-padding);*/\n    display: flex;\n    align-items: center;\n}\n\n/*.wui-message--success */\n.wui-message__content {\n    color: var(--wui-message-text-color);\n    font-size: 14px;\n    line-height: 18px;\n    margin: 10px 14px 10px 14px;\n    overflow-wrap: break-word;\n}\n\n.wui-message__closeBtn {\n    /*cursor: pointer;*/\n    font-style: normal;\n    /*color: gray;*/\n    padding-right: 14px;\n    /*font-size: 13px;*/\n    user-select: none;\n\n    background: transparent;\n    border: none;\n    color: gray;\n    cursor: pointer;\n    font-size: 13px;\n    font-weight: 400;\n    line-height: 1;\n    outline: none;\n    /*padding: 4px;*/\n    text-align: center;\n    transition: opacity .3s;\n    /*width: 100%;*/\n}",
       "_esm": "function closeMsg(msgDom) {\n  if (!msgDom) {\n    return;\n  }\n  msgDom.setAttribute('data-state', 'exiting');\n  msgDom.remove();\n}\n\nfunction createMsg(options) {\n  const {message, msg_id, type = 'info', show_close = false} = options;\n  const msgDom = document.createElement('div');\n  msgDom.className += ` wui-message--${type} wui-message`;\n  msgDom.setAttribute('data-state', 'entered');\n  msgDom.setAttribute('id', msg_id);\n  const msgContent = document.createElement('p');\n  msgContent.className += ` wui-message--${type} wui-message__content`;\n  msgContent.innerText = message;\n  msgDom.appendChild(msgContent);\n  if (show_close) {\n    const closeBtn = document.createElement('i');\n    closeBtn.className += 'wui-message__closeBtn';\n    closeBtn.innerText = 'x';\n    closeBtn.addEventListener('click', (ev) => {\n      closeMsg(msgDom);\n    })\n    msgDom.appendChild(closeBtn);\n  }\n  return msgDom;\n}\n\nexport async function render(view) {\n  let model = view.model;\n  const msgRoot = view.el;\n  msgRoot.className += ' wui-message-root'\n\n  const msgContainer = document.createElement('div');\n  msgContainer.className += ' wui-message-container';\n  msgRoot.appendChild(msgContainer)\n\n  model.on(\"change:message_options\", () => {\n    const options = model.get(\"message_options\");\n    const msg = createMsg(options);\n    msgContainer.appendChild(msg);\n    const {duration = 3000} = options;\n    if (duration > 0) {\n      setTimeout(() => {\n        closeMsg(msg)\n      }, duration);\n    }\n  })\n\n  model.on(\"change:close_msg_id\", () => {\n    const msg_id = model.get(\"close_msg_id\");\n    const msgDom = document.getElementById(msg_id);\n    closeMsg(msgDom);\n  })\n}\n",
       "_model_module": "anywidget",
       "_model_module_version": "0.9.3",
       "_model_name": "AnyModel",
       "_view_module": "anywidget",
       "_view_module_version": "0.9.3",
       "_view_name": "AnyView",
       "close_msg_id": "",
       "layout": "IPY_MODEL_e24f3d666eea4cb59f29dda4b4adc8f2",
       "message_options": {
        "duration": 3000,
        "message": "",
        "show_close": false,
        "type": "info"
       }
      }
     },
     "7e6f480c4b714017a70e4ccb634edcea": {
      "model_module": "@jupyter-widgets/base",
      "model_module_version": "2.0.0",
      "model_name": "LayoutModel",
      "state": {}
     },
     "81fadf78c40649d58fb301fcb6a2d0ad": {
      "buffers": [
       {
        "data": "iVBORw0KGgoAAAANSUhEUgAAAGQAAABkCAAAAABVicqIAAAAP0lEQVR4nO3NQQEAAAQEMMSWXorz2gqst/Lm4ZBIJBKJRCKRSCQSiUQikUgkEolEIpFIJBKJRCKRSCQSiSTsAF+QAUKi8BJIAAAAAElFTkSuQmCC",
        "encoding": "base64",
        "path": [
         "value"
        ]
       }
      ],
      "model_module": "@jupyter-widgets/controls",
      "model_module_version": "2.0.0",
      "model_name": "ImageModel",
      "state": {
       "layout": "IPY_MODEL_6a67ae8b6cf44d81a01570682681e8e7"
      }
     },
     "85b32332ffc44e5ea3756330f2e032c8": {
      "model_module": "@jupyter-widgets/output",
      "model_module_version": "1.0.0",
      "model_name": "OutputModel",
      "state": {
       "layout": "IPY_MODEL_6ba31ad884e84488a3166a7ef6a2728e"
      }
     },
     "887e233e4ec049128b7d4ede4321157e": {
      "model_module": "@jupyter-widgets/base",
      "model_module_version": "2.0.0",
      "model_name": "LayoutModel",
      "state": {}
     },
     "8ba9b66522a64cb798b4f1fda65e607f": {
      "model_module": "@jupyter-widgets/output",
      "model_module_version": "1.0.0",
      "model_name": "OutputModel",
      "state": {
       "layout": "IPY_MODEL_887e233e4ec049128b7d4ede4321157e",
       "outputs": [
        {
         "data": {
          "application/vnd.jupyter.widget-view+json": {
           "model_id": "1608d7caad2342d38e3891d76d4680c9",
           "version_major": 2,
           "version_minor": 0
          },
          "text/plain": "sfc_container(children=(VBox(children=(Image(value=b'\\x89PNG\\r\\n\\x1a\\n\\x00\\x00\\x00\\rIHDR\\x00\\x00\\x00d\\x00\\x00\\…"
         },
         "metadata": {},
         "output_type": "display_data"
        }
       ]
      }
     },
     "8f80ad7b73d641729d1a731a5f800940": {
      "model_module": "@jupyter-widgets/base",
      "model_module_version": "2.0.0",
      "model_name": "LayoutModel",
      "state": {}
     },
     "98127ad0552349f0920b804636a04d4b": {
      "model_module": "@jupyter-widgets/base",
      "model_module_version": "2.0.0",
      "model_name": "LayoutModel",
      "state": {}
     },
     "af3bb7d4d3724bd7a777be02a8b02920": {
      "model_module": "@jupyter-widgets/base",
      "model_module_version": "2.0.0",
      "model_name": "LayoutModel",
      "state": {
       "width": "30%"
      }
     },
     "b0bbc2246153428db927786956716d11": {
      "model_module": "anywidget",
      "model_module_version": "0.9.3",
      "model_name": "AnyModel",
      "state": {
       "_anywidget_id": "ipywui.widgets.custom.message.MessageWidget",
       "_css": ".wui-message-root {\n    display: flex;\n    position: absolute;\n    left: 0;\n    right: 0;\n    top: 0;\n}\n\n.wui-message-container {\n    align-items: center;\n    display: flex;\n    flex-direction: column-reverse;\n    justify-content: center;\n    min-height: 100%;\n    outline: none;\n    width: 100%;\n\n    -webkit-tap-highlight-color: rgba(0,0,0,0);\n    bottom: 0;\n    left: 0;\n    right: 0;\n    top: 0;\n}\n\n.wui-message--success {\n    --wui-message-bg-color: #f0f9eb;\n    --wui-message-border-color: #e1f3d8;\n    --wui-message-text-color: #67c23a;\n}\n.wui-message--warning {\n    --wui-message-bg-color: #fdf6ec;\n    --wui-message-border-color: #faecd8;\n    --wui-message-text-color: #e6a23c;\n}\n.wui-message--info {\n    --wui-message-bg-color: #f4f4f5;\n    --wui-message-border-color: #e9e9eb;\n    --wui-message-text-color: #909399;\n}\n.wui-message--error {\n    --wui-message-bg-color: #fef0f0;\n    --wui-message-border-color: #fde2e2;\n    --wui-message-text-color: #f56c6c;\n}\n\n@keyframes msg-open {\n    0% {\n        opacity: 0;\n        -webkit-transform: translateY(-120%);\n        transform: translateY(-120%)\n    }\n    to {\n        -webkit-transform: translateY(0);\n        transform: translateY(0)\n    }\n}\n\n@keyframes msg-close {\n    0% {\n        opacity: 1;\n        -webkit-transform: scale(1);\n        transform: scale(1)\n    }\n    to {\n        opacity: 0;\n        -webkit-transform: scale(.9);\n        transform: scale(.9)\n    }\n}\n.wui-message[data-state=entered],.wui-message[data-state=entering] {\n    -webkit-animation: msg-open .24s cubic-bezier(.175,.885,.32,1.175) both;\n    animation: msg-open .24s cubic-bezier(.175,.885,.32,1.175) both\n}\n\n.wui-message[data-state=exiting] {\n    -webkit-animation: msg-close .12s cubic-bezier(.4,0,1,1) both;\n    animation: msg-close .12s cubic-bezier(.4,0,1,1) both\n}\n\n.wui-message {\n    width: -webkit-fit-content;\n    width: -moz-fit-content;\n    width: fit-content;\n    z-index: 2004;\n    max-width: calc(100% - 32px);\n    margin-top: 8px;\n    box-sizing: border-box;\n    /*border-radius: var(--wui-border-radius-base);*/\n    /*border-width: var(--wui-border-width);*/\n    /*border-style: var(--wui-border-style);*/\n    border-color: var(--wui-message-border-color);\n    /*left: 50%;*/\n    /*top: 20px;*/\n    /*transform: translateX(-50%);*/\n    background-color: var(--wui-message-bg-color);\n    /*transition: opacity var(--wui-transition-duration),transform .4s,top .4s;*/\n    /*padding: var(--wui-message-padding);*/\n    display: flex;\n    align-items: center;\n}\n\n/*.wui-message--success */\n.wui-message__content {\n    color: var(--wui-message-text-color);\n    font-size: 14px;\n    line-height: 18px;\n    margin: 10px 14px 10px 14px;\n    overflow-wrap: break-word;\n}\n\n.wui-message__closeBtn {\n    /*cursor: pointer;*/\n    font-style: normal;\n    /*color: gray;*/\n    padding-right: 14px;\n    /*font-size: 13px;*/\n    user-select: none;\n\n    background: transparent;\n    border: none;\n    color: gray;\n    cursor: pointer;\n    font-size: 13px;\n    font-weight: 400;\n    line-height: 1;\n    outline: none;\n    /*padding: 4px;*/\n    text-align: center;\n    transition: opacity .3s;\n    /*width: 100%;*/\n}",
       "_esm": "function closeMsg(msgDom) {\n  if (!msgDom) {\n    return;\n  }\n  msgDom.setAttribute('data-state', 'exiting');\n  msgDom.remove();\n}\n\nfunction createMsg(options) {\n  const {message, msg_id, type = 'info', show_close = false} = options;\n  const msgDom = document.createElement('div');\n  msgDom.className += ` wui-message--${type} wui-message`;\n  msgDom.setAttribute('data-state', 'entered');\n  msgDom.setAttribute('id', msg_id);\n  const msgContent = document.createElement('p');\n  msgContent.className += ` wui-message--${type} wui-message__content`;\n  msgContent.innerText = message;\n  msgDom.appendChild(msgContent);\n  if (show_close) {\n    const closeBtn = document.createElement('i');\n    closeBtn.className += 'wui-message__closeBtn';\n    closeBtn.innerText = 'x';\n    closeBtn.addEventListener('click', (ev) => {\n      closeMsg(msgDom);\n    })\n    msgDom.appendChild(closeBtn);\n  }\n  return msgDom;\n}\n\nexport async function render(view) {\n  let model = view.model;\n  const msgRoot = view.el;\n  msgRoot.className += ' wui-message-root'\n\n  const msgContainer = document.createElement('div');\n  msgContainer.className += ' wui-message-container';\n  msgRoot.appendChild(msgContainer)\n\n  model.on(\"change:message_options\", () => {\n    const options = model.get(\"message_options\");\n    const msg = createMsg(options);\n    msgContainer.appendChild(msg);\n    const {duration = 3000} = options;\n    if (duration > 0) {\n      setTimeout(() => {\n        closeMsg(msg)\n      }, duration);\n    }\n  })\n\n  model.on(\"change:close_msg_id\", () => {\n    const msg_id = model.get(\"close_msg_id\");\n    const msgDom = document.getElementById(msg_id);\n    closeMsg(msgDom);\n  })\n}\n",
       "_model_module": "anywidget",
       "_model_module_version": "0.9.3",
       "_model_name": "AnyModel",
       "_view_module": "anywidget",
       "_view_module_version": "0.9.3",
       "_view_name": "AnyView",
       "close_msg_id": "",
       "layout": "IPY_MODEL_7e6f480c4b714017a70e4ccb634edcea",
       "message_options": {
        "duration": 3000,
        "message": "",
        "show_close": false,
        "type": "info"
       }
      }
     },
     "b0ea73a9cded418ab9c64ef9b7cb5c2b": {
      "model_module": "@jupyter-widgets/controls",
      "model_module_version": "2.0.0",
      "model_name": "VBoxModel",
      "state": {
       "children": [
        "IPY_MODEL_1da946d54d824421b2c4c981403ec8ef",
        "IPY_MODEL_1da946d54d824421b2c4c981403ec8ef",
        "IPY_MODEL_c2c68909743444f480ec27ef1dbd98b7"
       ],
       "layout": "IPY_MODEL_8f80ad7b73d641729d1a731a5f800940"
      }
     },
     "b8c48d642e0044b6a8ef272dbfe14d85": {
      "model_module": "@jupyter-widgets/base",
      "model_module_version": "2.0.0",
      "model_name": "LayoutModel",
      "state": {
       "width": "300px"
      }
     },
     "ba562325c3c74db08174323dad84739b": {
      "model_module": "@jupyter-widgets/base",
      "model_module_version": "2.0.0",
      "model_name": "LayoutModel",
      "state": {}
     },
     "bc2d7cbdaf4849ddb31aa23a1f995fad": {
      "model_module": "@jupyter-widgets/base",
      "model_module_version": "2.0.0",
      "model_name": "LayoutModel",
      "state": {}
     },
     "bee97ec6b946449c9ff03b223be268cd": {
      "model_module": "@jupyter-widgets/controls",
      "model_module_version": "2.0.0",
      "model_name": "VBoxModel",
      "state": {
       "children": [
        "IPY_MODEL_02be50d254064c30b145a46735d411fc"
       ],
       "layout": "IPY_MODEL_d80695cbb781470ba4323613d1713afa"
      }
     },
     "c2c68909743444f480ec27ef1dbd98b7": {
      "model_module": "@jupyter-widgets/output",
      "model_module_version": "1.0.0",
      "model_name": "OutputModel",
      "state": {
       "layout": "IPY_MODEL_ba562325c3c74db08174323dad84739b",
       "outputs": [
        {
         "data": {
          "application/vnd.jupyter.widget-view+json": {
           "model_id": "bee97ec6b946449c9ff03b223be268cd",
           "version_major": 2,
           "version_minor": 0
          },
          "text/plain": "sfc_container(children=(Image(value=b\"\\x89PNG\\r\\n\\x1a\\n\\x00\\x00\\x00\\rIHDR\\x00\\x00\\x00\\xcf\\x00\\x00\\x00\\xf0\\x08\\…"
         },
         "metadata": {},
         "output_type": "display_data"
        }
       ]
      }
     },
     "d80695cbb781470ba4323613d1713afa": {
      "model_module": "@jupyter-widgets/base",
      "model_module_version": "2.0.0",
      "model_name": "LayoutModel",
      "state": {}
     },
     "e24f3d666eea4cb59f29dda4b4adc8f2": {
      "model_module": "@jupyter-widgets/base",
      "model_module_version": "2.0.0",
      "model_name": "LayoutModel",
      "state": {}
     },
     "e368fc541d7345549c878fc1955ea439": {
      "buffers": [
       {
        "data": "iVBORw0KGgoAAAANSUhEUgAAAGQAAABkCAIAAAD/gAIDAAAA6UlEQVR4nO3QQQ0AIRDAwAX/wk7WWaAvQjKjoOma+YYz+3bAS8wKzArMCswKzArMCswKzArMCswKzArMCswKzArMCswKzArMCswKzArMCswKzArMCswKzArMCswKzArMCswKzArMCswKzArMCswKzArMCswKzArMCswKzArMCswKzArMCswKzArMCswKzArMCswKzArMCswKzArMCswKzArMCswKzArMCswKzArMCswKzArMCswKzArMCswKzArMCswKzArMCswKzArMCswKzArMCswKzArMCswKzArMCswKzArMCswKzAp+RMIBkMgcse8AAAAASUVORK5CYII=",
        "encoding": "base64",
        "path": [
         "value"
        ]
       }
      ],
      "model_module": "@jupyter-widgets/controls",
      "model_module_version": "2.0.0",
      "model_name": "ImageModel",
      "state": {
       "layout": "IPY_MODEL_af3bb7d4d3724bd7a777be02a8b02920"
      }
     },
     "ef27d876b58e4128aeefa89dd027446e": {
      "model_module": "@jupyter-widgets/controls",
      "model_module_version": "2.0.0",
      "model_name": "VBoxModel",
      "state": {
       "children": [
        "IPY_MODEL_b0ea73a9cded418ab9c64ef9b7cb5c2b"
       ],
       "layout": "IPY_MODEL_0c294c3cb8cb4939ba66d28bee0b9268"
      }
     },
     "f048ee11e1f64704aa3deadf060b5c16": {
      "model_module": "@jupyter-widgets/base",
      "model_module_version": "2.0.0",
      "model_name": "LayoutModel",
      "state": {}
     }
    },
    "version_major": 2,
    "version_minor": 0
   }
  }
 },
 "nbformat": 4,
 "nbformat_minor": 5
}
